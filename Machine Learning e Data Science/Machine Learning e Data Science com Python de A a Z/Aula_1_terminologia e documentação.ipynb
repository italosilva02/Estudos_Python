{
 "cells": [
  {
   "cell_type": "markdown",
   "id": "038f963c",
   "metadata": {},
   "source": [
    "# Eventos"
   ]
  },
  {
   "cell_type": "code",
   "execution_count": null,
   "id": "e69d7f8c",
   "metadata": {},
   "outputs": [],
   "source": [
    "https://www.bracis.dcc.ufmg.br/ - Bracis\n",
    "https://sol.sbc.org.br/index.php/eniac/index - ENIAC e Artigos"
   ]
  },
  {
   "cell_type": "markdown",
   "id": "98d90c3b",
   "metadata": {},
   "source": [
    "# *Terminologia*"
   ]
  },
  {
   "cell_type": "markdown",
   "id": "065577d3",
   "metadata": {},
   "source": [
    "### Sistemas especialistas\n",
    "\n",
    "Os sistemas especialistas são um tipo de software de inteligência artificial que é projetado para resolver um problema específico. Eles são construídos com base em um conhecimento especializado de um domínio particular, como medicina, direito ou engenharia.\n",
    "\n",
    "Os sistemas especialistas são compostos por três componentes principais:\n",
    "\n",
    "Base de conhecimento: Uma base de conhecimento é uma coleção de fatos e regras que representam o conhecimento especializado de um domínio particular.\n",
    "Módulo de inferência: O módulo de inferência é responsável por usar a base de conhecimento para resolver problemas.\n",
    "Interface do usuário: A interface do usuário permite que os usuários interajam com o sistema especialista.\n",
    "Os sistemas especialistas foram um dos primeiros esforços da inteligência artificial. Eles foram desenvolvidos na década de 1960 e 1970, e foram inicialmente muito bem-sucedidos. No entanto, eles também têm algumas limitações. Por exemplo, eles são geralmente limitados a um domínio particular e podem ser difíceis de manter e atualizar.\n",
    "\n",
    "### Visão computacional\n",
    "\n",
    "A visão computacional é um campo da inteligência artificial que se concentra na interpretação de imagens e vídeos. Ela é usada em uma ampla gama de aplicações, incluindo reconhecimento de objetos, detecção de movimento e processamento de imagens médicas.\n",
    "\n",
    "A visão computacional pode ser dividida em duas categorias principais:\n",
    "\n",
    "Visão de baixo nível: A visão de baixo nível se concentra nas tarefas básicas de visão, como a detecção de bordas e a segmentação de imagens.\n",
    "Visão de alto nível: A visão de alto nível se concentra nas tarefas mais complexas de visão, como o reconhecimento de objetos e a compreensão de cenas.\n",
    "A visão computacional é uma área de pesquisa ativa, e os avanços recentes têm permitido que os computadores realizem tarefas de visão que antes eram consideradas impossíveis.\n",
    "\n",
    "### Machine Learning\n",
    "\n",
    "O machine learning é um campo da inteligência artificial que se concentra no desenvolvimento de algoritmos que podem aprender com dados. Ele é usado em uma ampla gama de aplicações, incluindo reconhecimento de voz, recomendação de produtos e análise de fraudes.\n",
    "\n",
    "Existem dois tipos principais de machine learning:\n",
    "\n",
    "Aprendizado supervisionado: O aprendizado supervisionado é um tipo de machine learning no qual os dados de treinamento são rotulados. Os algoritmos de aprendizado supervisionado aprendem a associar entradas a saídas, com base nos dados de treinamento.\n",
    "\n",
    "Aprendizado não supervisionado: O aprendizado não supervisionado é um tipo de machine learning no qual os dados de treinamento não são rotulados. Os algoritmos de aprendizado não supervisionado aprendem a identificar padrões nos dados de treinamento, sem a necessidade de rótulos.\n",
    "O machine learning é uma área de pesquisa ativa, e os avanços recentes têm permitido que os computadores aprendam a realizar tarefas que antes eram consideradas impossíveis.\n",
    "\n",
    "### Processamento de linguagem natural\n",
    "\n",
    "O processamento de linguagem natural (PLN) é um campo da inteligência artificial que se concentra na compreensão e geração da linguagem humana. Ele é usado em uma ampla gama de aplicações, incluindo tradução automática, reconhecimento de fala e análise de sentimentos.\n",
    "\n",
    "O PLN pode ser dividido em duas categorias principais:\n",
    "\n",
    "Recuperação de informações: A recuperação de informações se concentra na busca e recuperação de informações em um corpus de texto.\n",
    "Geração de texto: A geração de texto se concentra na criação de texto, como artigos, e-mails ou relatórios.\n",
    "O PLN é uma área de pesquisa ativa, e os avanços recentes têm permitido que os computadores entendam e gerem a linguagem humana de forma cada vez mais natural.\n",
    "\n",
    "### Algoritmo genético\n",
    "\n",
    "Os algoritmos genéticos são uma técnica de otimização baseada na evolução natural. Eles são usados para encontrar soluções para problemas que são difíceis de resolver com métodos tradicionais.\n",
    "\n",
    "Os algoritmos genéticos funcionam gerando uma população inicial de soluções aleatórias. Em seguida, eles aplicam operadores genéticos, como mutação e recombinação, para gerar novas soluções. As soluções mais bem-sucedidas são selecionadas para formar uma nova população, e o processo é repetido até que uma solução aceitável seja encontrada.\n",
    "\n",
    "Os algoritmos genéticos são usados em uma ampla gama de aplicações, incluindo planejamento de rotas, otimização de recursos e design de produtos.\n",
    "\n",
    "### Mineração de dados\n",
    "\n",
    "A mineração de dados é um processo de descoberta de conhecimento em dados. Ela é usada para identificar padrões e tendências nos dados que podem ser usados para tomar decisões informadas.\n",
    "\n",
    "A mineração de dados pode ser dividida em duas categorias principais:\n",
    "\n",
    "### Mineração de dados exploratória:\n",
    "\n",
    "A mineração de dados exploratória é usada para explorar dados para identificar padrões e tendências.\n",
    "\n",
    "### Mineração de dados preditiva:\n",
    "\n",
    "A mineração de dados preditiva é usada para prever resultados futuros com base nos dados históricos."
   ]
  },
  {
   "cell_type": "markdown",
   "id": "ca58f124",
   "metadata": {},
   "source": [
    "### Inteligência Artificial\n",
    " - Área da Ciência da computação responsável pelo desenvolvimento de sistemas que simulem a capacidade humana de resolver problemas\n",
    " - Termo mais geral"
   ]
  },
  {
   "cell_type": "markdown",
   "id": "5278e1ab",
   "metadata": {},
   "source": [
    "### Inteligência computacional\n",
    " - Redes neurais, computação evolucionário, lógica nebulosa (fuzzy)\n",
    " - Bom candidato para subistituir o termo \"IA\""
   ]
  },
  {
   "cell_type": "markdown",
   "id": "8d091364",
   "metadata": {},
   "source": [
    "### Machine Learning (Aprendizado de máquina)\n",
    " - Métodos matemático para treinar algoritmos"
   ]
  },
  {
   "cell_type": "markdown",
   "id": "abefde4e",
   "metadata": {},
   "source": [
    "### Data mining (mineração de dados)\n",
    " - Extrair conhecimento de base de dados, usando métodos de aprendizagem de máquina"
   ]
  },
  {
   "cell_type": "markdown",
   "id": "2aeeed20",
   "metadata": {},
   "source": [
    "### Redes neurais\n",
    " - É um tipo de aprendizagem de máquina"
   ]
  },
  {
   "cell_type": "markdown",
   "id": "49f0e9a6",
   "metadata": {},
   "source": [
    "### Deep learning (aprendizado profundo)\n",
    " - Muito mais dados e processadores mais potentes\n",
    " - Resdes neurais com muitas camadas"
   ]
  },
  {
   "cell_type": "markdown",
   "id": "afc3640a",
   "metadata": {},
   "source": [
    "### Big data\n",
    " - Imenso volume de dados"
   ]
  },
  {
   "cell_type": "markdown",
   "id": "627bdf73",
   "metadata": {},
   "source": [
    "### Ciência de dados\n",
    " - Exploração e análise de dados\n",
    " - Ciência da Computação + estatística\n",
    " - Machine learning"
   ]
  }
 ],
 "metadata": {
  "kernelspec": {
   "display_name": "Python 3 (ipykernel)",
   "language": "python",
   "name": "python3"
  },
  "language_info": {
   "codemirror_mode": {
    "name": "ipython",
    "version": 3
   },
   "file_extension": ".py",
   "mimetype": "text/x-python",
   "name": "python",
   "nbconvert_exporter": "python",
   "pygments_lexer": "ipython3",
   "version": "3.10.9"
  }
 },
 "nbformat": 4,
 "nbformat_minor": 5
}
