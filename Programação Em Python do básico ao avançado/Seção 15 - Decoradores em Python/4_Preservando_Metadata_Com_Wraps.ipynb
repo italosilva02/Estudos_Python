{
 "cells": [
  {
   "cell_type": "markdown",
   "id": "235e94e2",
   "metadata": {},
   "source": [
    "# Preservando Metadata com Wraps"
   ]
  },
  {
   "cell_type": "code",
   "execution_count": null,
   "id": "0a1118ad",
   "metadata": {},
   "outputs": [],
   "source": [
    "Metadatas são dados intrísecos em arquivos"
   ]
  },
  {
   "cell_type": "markdown",
   "id": "d452851a",
   "metadata": {},
   "source": [
    "Em Python, a metadata é um conjunto de informações adicionais que são armazenadas em um objeto ou em um módulo. Essas informações incluem o nome, a data de criação, a versão, o autor e outras informações relevantes sobre o objeto ou o módulo. A metadata é útil para a documentação, para a manutenção de código, para a depuração e para muitos outros fins.\n",
    "\n",
    "O decorator wraps é uma ferramenta muito útil em Python para preservar a metadata em funções decoradas. Quando uma função é decorada com outro objeto em Python, como um decorator, o objeto original é substituído pelo objeto decorado. Isso pode levar a perda de metadata do objeto original. O wraps é uma ferramenta que resolve esse problema.\n",
    "\n",
    "O wraps é um decorator que é aplicado a uma função decoradora. Ele é usado para preservar a metadata da função original. Quando o wraps é usado, ele copia a metadata da função original para a função decorada. Dessa forma, a função decorada terá todas as informações de metadata da função original.\n",
    "\n",
    "Por exemplo, suponha que temos a seguinte função:"
   ]
  },
  {
   "cell_type": "code",
   "execution_count": null,
   "id": "551e367f",
   "metadata": {},
   "outputs": [],
   "source": [
    "def minha_funcao():\n",
    "    \"\"\"Esta é uma função de exemplo.\"\"\"\n",
    "    pass"
   ]
  },
  {
   "cell_type": "markdown",
   "id": "97c3e973",
   "metadata": {},
   "source": [
    "Se quisermos decorar esta função com outra função, podemos fazer o seguinte:"
   ]
  },
  {
   "cell_type": "code",
   "execution_count": null,
   "id": "e94bea24",
   "metadata": {},
   "outputs": [],
   "source": [
    "def minha_funcao_decorada(funcao_original):\n",
    "    def funcao_decorada():\n",
    "        print(\"Antes da função original\")\n",
    "        funcao_original()\n",
    "        print(\"Depois da função original\")\n",
    "    return funcao_decorada\n",
    "\n",
    "@minha_funcao_decorada\n",
    "def minha_funcao():\n",
    "    \"\"\"Esta é uma função de exemplo.\"\"\"\n",
    "    print(\"Função original\")\n"
   ]
  },
  {
   "cell_type": "markdown",
   "id": "d84490cb",
   "metadata": {},
   "source": [
    "No entanto, se verificarmos a metadata da função decorada, veremos que a documentação foi perdida:"
   ]
  },
  {
   "cell_type": "code",
   "execution_count": null,
   "id": "00debaf5",
   "metadata": {},
   "outputs": [],
   "source": [
    "print(minha_funcao.__doc__)\n",
    "# Output: None"
   ]
  },
  {
   "cell_type": "markdown",
   "id": "0348508a",
   "metadata": {},
   "source": [
    "Para preservar a metadata da função original, podemos usar o wraps:"
   ]
  },
  {
   "cell_type": "code",
   "execution_count": null,
   "id": "27cd67c2",
   "metadata": {},
   "outputs": [],
   "source": [
    "from functools import wraps\n",
    "\n",
    "def minha_funcao_decorada(funcao_original):\n",
    "    @wraps(funcao_original)\n",
    "    def funcao_decorada():\n",
    "        print(\"Antes da função original\")\n",
    "        funcao_original()\n",
    "        print(\"Depois da função original\")\n",
    "    return funcao_decorada\n",
    "\n",
    "@minha_funcao_decorada\n",
    "def minha_funcao():\n",
    "    \"\"\"Esta é uma função de exemplo.\"\"\"\n",
    "    print(\"Função original\")\n"
   ]
  },
  {
   "cell_type": "code",
   "execution_count": null,
   "id": "6d28c682",
   "metadata": {},
   "outputs": [],
   "source": [
    "# wraps -> São funções que envolvem elementos com diversas finalidades"
   ]
  },
  {
   "cell_type": "code",
   "execution_count": 11,
   "id": "737d2568",
   "metadata": {},
   "outputs": [],
   "source": [
    "from functools import wraps"
   ]
  },
  {
   "cell_type": "code",
   "execution_count": 17,
   "id": "30b13873",
   "metadata": {},
   "outputs": [],
   "source": [
    "#Problema\n",
    "\n",
    "def ver_log(funcao):\n",
    "    def logar(*args, **kwargs):\n",
    "        \"\"\"Eu sou uma função (logar) dentro de outra\"\"\"\n",
    "        print(f'Você está chamando a função: {funcao.__name__}')\n",
    "        print(f'Aqui está a documentação: {funcao.__doc__}')\n",
    "        return funcao(*args, **kwargs)\n",
    "    return logar"
   ]
  },
  {
   "cell_type": "code",
   "execution_count": 18,
   "id": "7fe67922",
   "metadata": {},
   "outputs": [],
   "source": [
    "@ver_log\n",
    "def soma(a,b):\n",
    "    \"\"\"Soma dois números\"\"\"\n",
    "    return a + b"
   ]
  },
  {
   "cell_type": "code",
   "execution_count": 19,
   "id": "1ceccb3a",
   "metadata": {},
   "outputs": [
    {
     "name": "stdout",
     "output_type": "stream",
     "text": [
      "Você está chamando a função: soma\n",
      "Aqui está a documentação: Soma dois números\n",
      "40\n"
     ]
    }
   ],
   "source": [
    "print(soma(10,30))"
   ]
  },
  {
   "cell_type": "code",
   "execution_count": 20,
   "id": "f77491a8",
   "metadata": {},
   "outputs": [
    {
     "ename": "NameError",
     "evalue": "name 'logar' is not defined",
     "output_type": "error",
     "traceback": [
      "\u001b[1;31m---------------------------------------------------------------------------\u001b[0m",
      "\u001b[1;31mNameError\u001b[0m                                 Traceback (most recent call last)",
      "\u001b[1;32m~\\AppData\\Local\\Temp\\ipykernel_18284\\44062226.py\u001b[0m in \u001b[0;36m<module>\u001b[1;34m\u001b[0m\n\u001b[1;32m----> 1\u001b[1;33m \u001b[0mprint\u001b[0m\u001b[1;33m(\u001b[0m\u001b[0mlogar\u001b[0m\u001b[1;33m.\u001b[0m\u001b[0m__doc__\u001b[0m\u001b[1;33m)\u001b[0m \u001b[1;31m#A função logar está no escopo da ver_log\u001b[0m\u001b[1;33m\u001b[0m\u001b[1;33m\u001b[0m\u001b[0m\n\u001b[0m",
      "\u001b[1;31mNameError\u001b[0m: name 'logar' is not defined"
     ]
    }
   ],
   "source": [
    "print(logar.__doc__) #A função logar está no escopo da ver_log"
   ]
  },
  {
   "cell_type": "code",
   "execution_count": 21,
   "id": "3d9d212d",
   "metadata": {},
   "outputs": [
    {
     "name": "stdout",
     "output_type": "stream",
     "text": [
      "Você está chamando a função: soma\n",
      "Aqui está a documentação: Soma dois números\n"
     ]
    },
    {
     "data": {
      "text/plain": [
       "40"
      ]
     },
     "execution_count": 21,
     "metadata": {},
     "output_type": "execute_result"
    }
   ],
   "source": [
    "soma(10,30)"
   ]
  },
  {
   "cell_type": "code",
   "execution_count": 22,
   "id": "155d3c40",
   "metadata": {},
   "outputs": [
    {
     "name": "stdout",
     "output_type": "stream",
     "text": [
      "logar\n",
      "Eu sou uma função (logar) dentro de outra\n"
     ]
    }
   ],
   "source": [
    "print(soma.__name__) #Puxa as informações da função logar e isso não está correto\n",
    "print(soma.__doc__)"
   ]
  },
  {
   "cell_type": "markdown",
   "id": "bd451e80",
   "metadata": {},
   "source": [
    "#### Resolução do problema "
   ]
  },
  {
   "cell_type": "code",
   "execution_count": 23,
   "id": "4d142608",
   "metadata": {},
   "outputs": [],
   "source": [
    "from functools import wraps"
   ]
  },
  {
   "cell_type": "code",
   "execution_count": 24,
   "id": "77d039cc",
   "metadata": {},
   "outputs": [
    {
     "data": {
      "text/plain": [
       "['__annotations__',\n",
       " '__call__',\n",
       " '__class__',\n",
       " '__closure__',\n",
       " '__code__',\n",
       " '__defaults__',\n",
       " '__delattr__',\n",
       " '__dict__',\n",
       " '__dir__',\n",
       " '__doc__',\n",
       " '__eq__',\n",
       " '__format__',\n",
       " '__ge__',\n",
       " '__get__',\n",
       " '__getattribute__',\n",
       " '__globals__',\n",
       " '__gt__',\n",
       " '__hash__',\n",
       " '__init__',\n",
       " '__init_subclass__',\n",
       " '__kwdefaults__',\n",
       " '__le__',\n",
       " '__lt__',\n",
       " '__module__',\n",
       " '__name__',\n",
       " '__ne__',\n",
       " '__new__',\n",
       " '__qualname__',\n",
       " '__reduce__',\n",
       " '__reduce_ex__',\n",
       " '__repr__',\n",
       " '__setattr__',\n",
       " '__sizeof__',\n",
       " '__str__',\n",
       " '__subclasshook__']"
      ]
     },
     "execution_count": 24,
     "metadata": {},
     "output_type": "execute_result"
    }
   ],
   "source": [
    "dir(wraps)"
   ]
  },
  {
   "cell_type": "code",
   "execution_count": 25,
   "id": "9f21b834",
   "metadata": {},
   "outputs": [],
   "source": [
    "def ver_log(funcao):\n",
    "    @wraps(funcao)\n",
    "    def logar(*args, **kwargs):\n",
    "        \"\"\"Eu sou uma função (logar) dentro de outra\"\"\"\n",
    "        print(f'Você está chamando a função: {funcao.__name__}')\n",
    "        print(f'Aqui está a documentação: {funcao.__doc__}')\n",
    "        return funcao(*args, **kwargs)\n",
    "    return logar"
   ]
  },
  {
   "cell_type": "code",
   "execution_count": 27,
   "id": "9a991bea",
   "metadata": {},
   "outputs": [],
   "source": [
    "@ver_log\n",
    "def soma(a,b):\n",
    "    \"\"\"Documentação do projeto\"\"\"\n",
    "    return a + b"
   ]
  },
  {
   "cell_type": "code",
   "execution_count": 28,
   "id": "c81858ef",
   "metadata": {},
   "outputs": [
    {
     "name": "stdout",
     "output_type": "stream",
     "text": [
      "soma\n",
      "Documentação do projeto\n"
     ]
    }
   ],
   "source": [
    "print(soma.__name__)\n",
    "print(soma.__doc__)"
   ]
  },
  {
   "cell_type": "code",
   "execution_count": null,
   "id": "27cf6daa",
   "metadata": {},
   "outputs": [],
   "source": [
    "#A função do wraps é preservar os metadata das nossas funções"
   ]
  },
  {
   "cell_type": "code",
   "execution_count": null,
   "id": "5956f562",
   "metadata": {},
   "outputs": [],
   "source": []
  }
 ],
 "metadata": {
  "kernelspec": {
   "display_name": "Python 3 (ipykernel)",
   "language": "python",
   "name": "python3"
  },
  "language_info": {
   "codemirror_mode": {
    "name": "ipython",
    "version": 3
   },
   "file_extension": ".py",
   "mimetype": "text/x-python",
   "name": "python",
   "nbconvert_exporter": "python",
   "pygments_lexer": "ipython3",
   "version": "3.9.13"
  }
 },
 "nbformat": 4,
 "nbformat_minor": 5
}
