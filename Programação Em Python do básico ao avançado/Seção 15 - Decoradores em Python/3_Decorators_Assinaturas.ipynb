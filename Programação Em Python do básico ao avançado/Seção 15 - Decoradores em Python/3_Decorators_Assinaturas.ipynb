{
 "cells": [
  {
   "cell_type": "markdown",
   "id": "cb48030a",
   "metadata": {},
   "source": [
    "# Decoradores com diferentes assinaturas"
   ]
  },
  {
   "cell_type": "markdown",
   "id": "801b156b",
   "metadata": {},
   "source": [
    "#### Relembrando"
   ]
  },
  {
   "cell_type": "code",
   "execution_count": 5,
   "id": "9e05634a",
   "metadata": {},
   "outputs": [],
   "source": [
    "def gritar(funcao):\n",
    "    def aumentar(nome):\n",
    "        return funcao(nome).upper()\n",
    "    return aumentar"
   ]
  },
  {
   "cell_type": "code",
   "execution_count": 6,
   "id": "63fed397",
   "metadata": {},
   "outputs": [],
   "source": [
    "@gritar\n",
    "def saudacao(nome):\n",
    "    return f'Ola eu sou o/a {nome}'"
   ]
  },
  {
   "cell_type": "code",
   "execution_count": 12,
   "id": "60abda2c",
   "metadata": {},
   "outputs": [],
   "source": [
    "@gritar\n",
    "def ordenar(principal, acompahamento):\n",
    "    return f'Olá, eu gostaria de {principal} acompanhado de {acompahamento} por favor'"
   ]
  },
  {
   "cell_type": "code",
   "execution_count": null,
   "id": "9d7914bd",
   "metadata": {},
   "outputs": [],
   "source": [
    "# testando"
   ]
  },
  {
   "cell_type": "code",
   "execution_count": 10,
   "id": "e3ba37b2",
   "metadata": {},
   "outputs": [
    {
     "data": {
      "text/plain": [
       "'OLA EU SOU O/A ITALO'"
      ]
     },
     "execution_count": 10,
     "metadata": {},
     "output_type": "execute_result"
    }
   ],
   "source": [
    "saudacao('Italo')"
   ]
  },
  {
   "cell_type": "code",
   "execution_count": 13,
   "id": "b48230c2",
   "metadata": {},
   "outputs": [
    {
     "ename": "TypeError",
     "evalue": "aumentar() takes 1 positional argument but 2 were given",
     "output_type": "error",
     "traceback": [
      "\u001b[1;31m---------------------------------------------------------------------------\u001b[0m",
      "\u001b[1;31mTypeError\u001b[0m                                 Traceback (most recent call last)",
      "\u001b[1;32m~\\AppData\\Local\\Temp\\ipykernel_3448\\2106054284.py\u001b[0m in \u001b[0;36m<module>\u001b[1;34m\u001b[0m\n\u001b[1;32m----> 1\u001b[1;33m \u001b[0mordenar\u001b[0m\u001b[1;33m(\u001b[0m\u001b[1;34m'Macarrão'\u001b[0m\u001b[1;33m,\u001b[0m \u001b[1;34m'Batata-Frita'\u001b[0m\u001b[1;33m)\u001b[0m\u001b[1;33m\u001b[0m\u001b[1;33m\u001b[0m\u001b[0m\n\u001b[0m",
      "\u001b[1;31mTypeError\u001b[0m: aumentar() takes 1 positional argument but 2 were given"
     ]
    }
   ],
   "source": [
    "ordenar('Macarrão', 'Batata-Frita') #Aumentar recebe somente um parâmetro e nós estamos enviando dois"
   ]
  },
  {
   "cell_type": "code",
   "execution_count": null,
   "id": "34cc8a77",
   "metadata": {},
   "outputs": [],
   "source": [
    "#Para resolver isso usamos um padrão de projeto chamado decorator pattern *args | *kwargs"
   ]
  },
  {
   "cell_type": "code",
   "execution_count": 14,
   "id": "b5f5cb4b",
   "metadata": {},
   "outputs": [],
   "source": [
    "def gritar(funcao):\n",
    "    def aumentar(*args, **kwargs):\n",
    "        return funcao(*args, **kwargs).upper()\n",
    "    return aumentar"
   ]
  },
  {
   "cell_type": "code",
   "execution_count": 19,
   "id": "1bf40a03",
   "metadata": {},
   "outputs": [],
   "source": [
    "@gritar\n",
    "def saudacao(nome):\n",
    "    return f'Olá, eu sou o/a {nome}'"
   ]
  },
  {
   "cell_type": "code",
   "execution_count": 20,
   "id": "2f37bdbf",
   "metadata": {},
   "outputs": [],
   "source": [
    "@gritar\n",
    "def ordenar(principal, acompahamento):\n",
    "    return f'Olá, eu gostaria de {principal} acompanhado de {acompahamento} por favor'"
   ]
  },
  {
   "cell_type": "code",
   "execution_count": 22,
   "id": "59bf502d",
   "metadata": {},
   "outputs": [
    {
     "data": {
      "text/plain": [
       "'OLÁ, EU SOU O/A ITALO'"
      ]
     },
     "execution_count": 22,
     "metadata": {},
     "output_type": "execute_result"
    }
   ],
   "source": [
    "saudacao('Italo')"
   ]
  },
  {
   "cell_type": "code",
   "execution_count": 23,
   "id": "687022a2",
   "metadata": {},
   "outputs": [
    {
     "data": {
      "text/plain": [
       "'OLÁ, EU GOSTARIA DE PICANHA ACOMPANHADO DE CAIPIRINHA POR FAVOR'"
      ]
     },
     "execution_count": 23,
     "metadata": {},
     "output_type": "execute_result"
    }
   ],
   "source": [
    "ordenar('Macarrão', 'Batata-Frita')\n",
    "ordenar('Picanha', 'Caipirinha')"
   ]
  },
  {
   "cell_type": "code",
   "execution_count": null,
   "id": "45672765",
   "metadata": {},
   "outputs": [],
   "source": [
    "#Assinatura de uma função é o nome da mesma, seus atributos e seu retorno"
   ]
  },
  {
   "cell_type": "code",
   "execution_count": null,
   "id": "44ce194d",
   "metadata": {},
   "outputs": [],
   "source": [
    "# Também podemos utilizar parâmetros nomeados"
   ]
  },
  {
   "cell_type": "code",
   "execution_count": 24,
   "id": "ab039753",
   "metadata": {},
   "outputs": [
    {
     "name": "stdout",
     "output_type": "stream",
     "text": [
      "OLÁ, EU GOSTARIA DE BATATA-FRITA ACOMPANHADO DE PICANHA POR FAVOR\n"
     ]
    }
   ],
   "source": [
    "print(ordenar(acompahamento='Picanha', principal='Batata-Frita'))"
   ]
  },
  {
   "cell_type": "code",
   "execution_count": 25,
   "id": "2c10cbaf",
   "metadata": {},
   "outputs": [
    {
     "name": "stdout",
     "output_type": "stream",
     "text": [
      "OLÁ, EU GOSTARIA DE MACARRÃO ACOMPANHADO DE MILKSHAKE POR FAVOR\n"
     ]
    }
   ],
   "source": [
    "print(ordenar(principal='Macarrão', acompahamento='MilkShake'))"
   ]
  },
  {
   "cell_type": "markdown",
   "id": "5b3c2c68",
   "metadata": {},
   "source": [
    "#### Podemos ter decorator com argumentos"
   ]
  },
  {
   "cell_type": "code",
   "execution_count": 31,
   "id": "1427e109",
   "metadata": {},
   "outputs": [],
   "source": [
    "def verifica_primeiroarg(valor):\n",
    "    def interna(funcao): #Essa função é a função que está sendo decorada\n",
    "        def outra(*args, **kwargs):\n",
    "            if args and args[0] != valor:\n",
    "                return f'Valor incorreto! Primeiro argumento precisa ser {valor}'\n",
    "            return funcao(*args, **kwargs)\n",
    "        return outra\n",
    "    return interna"
   ]
  },
  {
   "cell_type": "code",
   "execution_count": 32,
   "id": "669414ae",
   "metadata": {},
   "outputs": [],
   "source": [
    "@verifica_primeiroarg('pizza')\n",
    "def comida_favorita(*args):\n",
    "    print(args)"
   ]
  },
  {
   "cell_type": "code",
   "execution_count": 37,
   "id": "d4294eb8",
   "metadata": {},
   "outputs": [],
   "source": [
    "@verifica_primeiroarg(10)\n",
    "def soma_dez(num1, num2):\n",
    "    return num1 + num2"
   ]
  },
  {
   "cell_type": "code",
   "execution_count": 35,
   "id": "753d76fe",
   "metadata": {},
   "outputs": [
    {
     "name": "stdout",
     "output_type": "stream",
     "text": [
      "('pizza', 'Salmão', 'Lasanha')\n"
     ]
    }
   ],
   "source": [
    "#Testando\n",
    "comida_favorita('pizza', 'Salmão', 'Lasanha')"
   ]
  },
  {
   "cell_type": "code",
   "execution_count": 36,
   "id": "823b5eae",
   "metadata": {},
   "outputs": [
    {
     "data": {
      "text/plain": [
       "'Valor incorreto! Primeiro argumento precisa ser pizza'"
      ]
     },
     "execution_count": 36,
     "metadata": {},
     "output_type": "execute_result"
    }
   ],
   "source": [
    "#Testando\n",
    "comida_favorita('hamburguer', 'pizza', 'Salmão', 'Lasanha')"
   ]
  },
  {
   "cell_type": "code",
   "execution_count": 38,
   "id": "27188057",
   "metadata": {},
   "outputs": [
    {
     "data": {
      "text/plain": [
       "22"
      ]
     },
     "execution_count": 38,
     "metadata": {},
     "output_type": "execute_result"
    }
   ],
   "source": [
    "#testando\n",
    "soma_dez(10, 12)"
   ]
  },
  {
   "cell_type": "code",
   "execution_count": 39,
   "id": "68ad8a02",
   "metadata": {},
   "outputs": [
    {
     "data": {
      "text/plain": [
       "'Valor incorreto! Primeiro argumento precisa ser 10'"
      ]
     },
     "execution_count": 39,
     "metadata": {},
     "output_type": "execute_result"
    }
   ],
   "source": [
    "#testando\n",
    "soma_dez(12,14)"
   ]
  },
  {
   "cell_type": "code",
   "execution_count": 40,
   "id": "950a5f21",
   "metadata": {},
   "outputs": [],
   "source": [
    "def verifica_tipo(valor):\n",
    "    def verificar(funcao):\n",
    "        if valor != int:\n",
    "            return f'Informe um valor inteiro'\n",
    "        return funcao() * 10\n",
    "    return verificar"
   ]
  },
  {
   "cell_type": "code",
   "execution_count": 41,
   "id": "9c8ee712",
   "metadata": {},
   "outputs": [],
   "source": [
    "@verifica_tipo(10)\n",
    "def soma_dez(n):\n",
    "    return n"
   ]
  },
  {
   "cell_type": "code",
   "execution_count": 44,
   "id": "a29bd002",
   "metadata": {},
   "outputs": [
    {
     "name": "stdout",
     "output_type": "stream",
     "text": [
      "Informe um valor inteiro\n"
     ]
    }
   ],
   "source": [
    "print(soma_dez)"
   ]
  },
  {
   "cell_type": "code",
   "execution_count": null,
   "id": "9b5eb606",
   "metadata": {},
   "outputs": [],
   "source": []
  }
 ],
 "metadata": {
  "kernelspec": {
   "display_name": "Python 3 (ipykernel)",
   "language": "python",
   "name": "python3"
  },
  "language_info": {
   "codemirror_mode": {
    "name": "ipython",
    "version": 3
   },
   "file_extension": ".py",
   "mimetype": "text/x-python",
   "name": "python",
   "nbconvert_exporter": "python",
   "pygments_lexer": "ipython3",
   "version": "3.9.13"
  }
 },
 "nbformat": 4,
 "nbformat_minor": 5
}
