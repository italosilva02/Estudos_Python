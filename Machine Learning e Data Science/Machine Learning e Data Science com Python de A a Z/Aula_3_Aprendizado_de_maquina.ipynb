{
 "cells": [
  {
   "cell_type": "markdown",
   "id": "2783ee8a",
   "metadata": {},
   "source": [
    "# Aprendizado de máquina\n",
    "\n",
    "## Introdução\n",
    "\n",
    "O aprendizado de máquina é um ramo da inteligência artificial que lida com algoritmos de computação que podem ser melhorados via dados de treinamento sem programação explícita. Em outras palavras, o aprendizado de máquina permite que computadores aprendam a realizar tarefas sem serem explicitamente programados para isso.\n",
    "\n",
    "# Tipos de aprendizado de máquina\n",
    "\n",
    "## O aprendizado de máquina pode ser dividido em três categorias principais:\n",
    "\n",
    "- Aprendizado supervisionado\n",
    "- Aprendizado não supervisionado\n",
    "- Aprendizado por reforço\n",
    "\n",
    "\n",
    "\n",
    "### Aprendizado supervisionado\n",
    "\n",
    "O aprendizado supervisionado é o tipo mais comum de aprendizado de máquina. Ele é usado em uma ampla gama de aplicações, incluindo:\n",
    "\n",
    " - Classificação: \n",
    "O computador aprende a atribuir um rótulo a uma entrada. Por exemplo, um computador pode aprender a classificar imagens de gatos e cães.\n",
    "\n",
    "- Regressão: \n",
    "O computador aprende a prever um valor numérico a partir de uma entrada. Por exemplo, um computador pode aprender a prever o preço de uma casa com base em características como o tamanho e a localização.\n",
    "\n",
    "\n",
    "Alguns algoritmos de **classificação** comuns incluem:\n",
    "\n",
    "- Árvores de decisão:\n",
    "As árvores de decisão são uma técnica de aprendizado de máquina que dividem o espaço de entrada em regiões menores, cada uma com um rótulo associado.\n",
    "\n",
    "- Classificadores lineares:\n",
    "Os classificadores lineares são uma técnica de aprendizado de máquina que mapeiam as entradas para uma linha ou plano.\n",
    "\n",
    "- Redes neurais artificiais: \n",
    "As redes neurais artificiais são uma técnica de aprendizado de máquina inspirada no cérebro humano.\n",
    "\n",
    "### Regressão\n",
    "Na regressão, o computador aprende a prever um valor numérico a partir de uma entrada. Por exemplo, um computador pode aprender a prever o preço de uma casa com base em características como o tamanho e a localização.\n",
    "\n",
    "Alguns algoritmos de **regressão** comuns incluem:\n",
    "\n",
    "- Regressão linear:\n",
    "A regressão linear é uma técnica de aprendizado de máquina que mapeia as entradas para uma linha reta.\n",
    "\n",
    "- Regressão logística: \n",
    "A regressão logística é uma técnica de aprendizado de máquina que mapeia as entradas para uma função logística.\n",
    "\n",
    "- Redes neurais artificiais: \n",
    "As redes neurais artificiais podem ser usadas para regressão, bem como para classificação.\n",
    "\n",
    "### Aprendizado não supervisionado\n",
    "\n",
    "O aprendizado não supervisionado é usado para identificar padrões em dados sem saber o que esses padrões representam. Ele é usado em uma ampla gama de aplicações, incluindo:\n",
    "\n",
    "- Associação:\n",
    "O computador aprende a identificar relacionamentos entre variáveis. Por exemplo, um computador pode aprender a identificar produtos que costumam ser comprados juntos.\n",
    "\n",
    "- Agrupamento: \n",
    "O computador aprende a agrupar dados semelhantes. Por exemplo, um computador pode aprender a agrupar clientes com base em seus hábitos de compra.\n",
    "\n",
    "- Detecção de desvios: \n",
    "O computador aprende a identificar dados que são diferentes do restante do conjunto de dados. Por exemplo, um computador pode aprender a identificar fraudes financeiras.\n",
    "\n",
    "- Padrões sequenciais:\n",
    "O computador aprende a identificar padrões em dados sequenciais. Por exemplo, um computador pode aprender a identificar padrões em séries temporais.\n",
    "\n",
    "- Sumarização: \n",
    "O computador aprende a gerar uma representação resumida de um conjunto de dados. Por exemplo, um computador pode aprender a gerar um resumo de um artigo de jornal.\n",
    "\n",
    "### Associação\n",
    "Na associação, o computador aprende a identificar relacionamentos entre variáveis. Por exemplo, um computador pode aprender a identificar produtos que costumam ser comprados juntos.\n",
    "\n",
    "Alguns algoritmos de associação comuns incluem:\n",
    "\n",
    " - Algoritmos de mineração de regras de associação:\n",
    "Os algoritmos de mineração de regras de associação identificam regras que descrevem como as variáveis estão relacionadas.\n",
    "\n",
    "- Algoritmos de mineração de padrões frequentes:\n",
    "Os algoritmos de mineração de padrões frequentes identificam padrões que ocorrem com frequência nos dados.\n",
    "\n",
    "### Agrupamento\n",
    "\n",
    "No agrupamento, o computador aprende a agrupar dados semelhantes. Por exemplo, um computador pode aprender a agrupar clientes com base em seus hábitos de compra.\n",
    "\n",
    "Alguns algoritmos de **agrupamento** comuns incluem:\n",
    "\n",
    "- Algoritmos de agrupamento hierárquico:\n",
    "Os algoritmos de agrupamento hierárquico agrupam os dados em um conjunto de clusters ordenados.\n",
    "\n",
    "- Algoritmos de agrupamento k-means: \n",
    "Os algoritmos de agrupamento k-means agrupam os dados em k clusters.\n",
    "\n",
    "- Algoritmos de agrupamento fuzzy:\n",
    "Os algoritmos de agrupamento fuzzy permitem que os dados sejam atribuídos a vários clusters"
   ]
  },
  {
   "cell_type": "markdown",
   "id": "53edef55",
   "metadata": {},
   "source": [
    "### Aprendizado Supervisionada"
   ]
  },
  {
   "cell_type": "code",
   "execution_count": null,
   "id": "5e2aa925",
   "metadata": {},
   "outputs": [],
   "source": [
    "#Fase1"
   ]
  },
  {
   "cell_type": "code",
   "execution_count": null,
   "id": "2f92fd94",
   "metadata": {},
   "outputs": [],
   "source": [
    "Extração de características -> Algoritmo de aprendizagem -> Modelo aprendido"
   ]
  },
  {
   "cell_type": "code",
   "execution_count": null,
   "id": "72c69dd4",
   "metadata": {},
   "outputs": [],
   "source": [
    "#Fase2"
   ]
  },
  {
   "cell_type": "code",
   "execution_count": null,
   "id": "e7c65478",
   "metadata": {},
   "outputs": [],
   "source": [
    "Extração de características -> Modelo Aprendido -> Resultado"
   ]
  },
  {
   "cell_type": "markdown",
   "id": "f34b8357",
   "metadata": {},
   "source": [
    "É definido de acordo com classificação, portanto, geramos uma imagem e atribuimos uma classificação para que o modelo possa aprender e extrair características. Na segunda fase não é necessário atribuir classe"
   ]
  },
  {
   "cell_type": "code",
   "execution_count": null,
   "id": "c1576a52",
   "metadata": {},
   "outputs": [],
   "source": [
    "Analisar automaticamente os dados (Assosiação, agrupamento)\n",
    "necessita análise para determinar o significado dos padrões encontrados"
   ]
  },
  {
   "cell_type": "markdown",
   "id": "37d6605c",
   "metadata": {},
   "source": [
    "**Overfitting** é um problema de aprendizado de máquina que ocorre quando um modelo se ajusta muito bem aos dados de treinamento, mas não se generaliza bem para dados novos. Isso ocorre porque o modelo aprende os detalhes aleatórios dos dados de treinamento, em vez de aprender as tendências gerais dos dados.\n",
    "\n",
    "**Underfitting** é o oposto de overfitting. Ocorre quando um modelo não se ajusta bem o suficiente aos dados de treinamento, o que resulta em um desempenho ruim em dados novos. Isso ocorre porque o modelo não é complexo o suficiente para aprender as tendências gerais dos dados.\n",
    "\n",
    "### Exemplos de overfitting\n",
    "\n",
    "Um exemplo de overfitting é um modelo de classificação que é treinado em um conjunto de dados de imagens de gatos e cães. O modelo aprende a identificar os detalhes específicos das imagens de gatos e cães nos dados de treinamento, como a cor, a forma e a posição das orelhas. No entanto, o modelo não é capaz de generalizar esses detalhes para dados novos. Como resultado, o modelo pode classificar corretamente as imagens de gatos e cães nos dados de treinamento, mas pode classificar incorretamente as imagens de gatos e cães em dados novos.\n",
    "\n",
    "### Exemplos de underfitting\n",
    "\n",
    "Um exemplo de underfitting é um modelo de regressão que é treinado em um conjunto de dados de preços de casas. O modelo não é complexo o suficiente para aprender a relação entre os fatores que afetam os preços das casas, como a localização, o tamanho e o ano de construção. Como resultado, o modelo pode fornecer estimativas imprecisas dos preços das casas.\n",
    "\n",
    "### Como evitar overfitting e underfitting\n",
    "\n",
    "Existem várias técnicas que podem ser usadas para evitar overfitting e underfitting, incluindo:\n",
    "\n",
    "- Redução de dimensionalidade: \n",
    "Essa técnica reduz o número de recursos nos dados de treinamento. Isso pode ajudar a evitar que o modelo aprenda padrões aleatórios nos dados.\n",
    "\n",
    "- Regularização:\n",
    "Essa técnica adiciona um termo de penalidade ao custo do modelo. Isso pode ajudar a evitar que o modelo aprenda estruturas complexas demais.\n",
    "\n",
    "- Validação cruzada:\n",
    "Essa técnica usa dados de teste para avaliar o desempenho do modelo antes de ser usado em dados novos. Isso pode ajudar a identificar se o modelo está overfitting ou underfitting.\n",
    "A escolha da técnica certa para evitar overfitting e underfitting depende do algoritmo de aprendizado de máquina e dos dados específicos que estão sendo usados."
   ]
  }
 ],
 "metadata": {
  "kernelspec": {
   "display_name": "Python 3 (ipykernel)",
   "language": "python",
   "name": "python3"
  },
  "language_info": {
   "codemirror_mode": {
    "name": "ipython",
    "version": 3
   },
   "file_extension": ".py",
   "mimetype": "text/x-python",
   "name": "python",
   "nbconvert_exporter": "python",
   "pygments_lexer": "ipython3",
   "version": "3.10.9"
  }
 },
 "nbformat": 4,
 "nbformat_minor": 5
}
