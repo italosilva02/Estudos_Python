{
  "nbformat": 4,
  "nbformat_minor": 0,
  "metadata": {
    "colab": {
      "provenance": []
    },
    "kernelspec": {
      "name": "python3",
      "display_name": "Python 3"
    },
    "language_info": {
      "name": "python"
    }
  },
  "cells": [
    {
      "cell_type": "markdown",
      "source": [
        "#Paradigma de Programação"
      ],
      "metadata": {
        "id": "n17tfAiIWHnO"
      }
    },
    {
      "cell_type": "markdown",
      "source": [
        "Um paradigma de programação é uma abordagem ou estilo de programação que define como um programa deve ser estruturado e organizado. Cada paradigma tem suas próprias regras, convenções e formas de resolver problemas. A escolha do paradigma depende do tipo de problema a ser resolvido, das características da linguagem de programação e das preferências do programador.\n",
        "\n",
        "Existem vários paradigmas de programação, mas aqui estão os cinco mais famosos:\n",
        "\n",
        "1. **Programação Imperativa:** Este é o paradigma mais comum e tradicional. Ele se concentra em instruções que descrevem como um programa deve executar as tarefas passo a passo. Os programas imperativos são compostos por sequências de comandos que alteram o estado do programa. Linguagens como C, Pascal e Fortran adotam esse paradigma.\n",
        "\n",
        "2. **Programação Orientada a Objetos (POO):** Nesse paradigma, os programas são organizados em torno de objetos, que são instâncias de classes. Cada objeto possui propriedades (atributos) e comportamentos (métodos). A POO promove a reutilização de código, encapsulamento e abstração. Linguagens como Java, Python e C++ são amplamente usadas para a programação orientada a objetos.\n",
        "\n",
        "3. **Programação Funcional:** Na programação funcional, o foco está na avaliação de funções matemáticas. Os programas são construídos com base em expressões e avaliação de funções. A imutabilidade dos dados e a ausência de efeitos colaterais são características importantes nesse paradigma. Linguagens como Haskell, Lisp e Erlang são exemplos de linguagens funcionais.\n",
        "\n",
        "4. **Programação Estruturada:** Esse paradigma enfatiza a estruturação de programas por meio de estruturas de controle, como sequência, seleção (condicionais) e repetição (loops). Ele busca minimizar o uso de instruções de desvio (como o famoso \"goto\" considerado prejudicial). A linguagem C é frequentemente associada à programação estruturada.\n",
        "\n",
        "5. **Programação Lógica:** Nesse paradigma, os programas são expressos em termos de relações lógicas e regras de inferência. A programação lógica é usada para resolver problemas por meio de dedução lógica e busca de soluções. A linguagem Prolog é um exemplo notável de linguagem de programação lógica.\n",
        "\n",
        "Vale ressaltar que muitas linguagens de programação modernas permitem a combinação de vários paradigmas, permitindo aos programadores escolher a abordagem mais adequada para resolver problemas específicos. Além desses cinco paradigmas mencionados, existem outros, como programação concorrente, programação reativa e programação baseada em eventos, que também desempenham papéis importantes no desenvolvimento de software."
      ],
      "metadata": {
        "id": "BvORLgSZWMce"
      }
    },
    {
      "cell_type": "markdown",
      "source": [
        "Na linguagem C é somente paradigma estruturada"
      ],
      "metadata": {
        "id": "LCP0BtEhWdga"
      }
    },
    {
      "cell_type": "markdown",
      "source": [
        "# Elementos da programação Orientada a Objeto"
      ],
      "metadata": {
        "id": "2YhthuqFWh2e"
      }
    },
    {
      "cell_type": "markdown",
      "source": [
        "A programação orientada a objetos (POO) é baseada em alguns elementos fundamentais que facilitam a organização, modelagem e desenvolvimento de sistemas de software. Os principais elementos da POO são:\n",
        "\n",
        "1. **Classes e Objetos:** Classes são as estruturas que definem as propriedades (atributos) e comportamentos (métodos) dos objetos. Um objeto é uma instância de uma classe. Por exemplo, uma classe \"Carro\" pode ter atributos como \"modelo\", \"cor\" e \"ano\", bem como métodos como \"ligar\" e \"desligar\".\n",
        "\n",
        "2. **Atributos:** Também conhecidos como campos ou propriedades, os atributos representam as características de um objeto. Eles armazenam dados relacionados a um objeto. Por exemplo, um objeto \"Pessoa\" pode ter atributos como \"nome\", \"idade\" e \"endereço\".\n",
        "\n",
        "3. **Métodos:** Os métodos são as ações ou operações que um objeto pode executar. Eles representam os comportamentos associados a um objeto. Por exemplo, um objeto \"Cachorro\" pode ter métodos como \"latir\" e \"correr\".\n",
        "\n",
        "4. **Encapsulamento:** O encapsulamento é o conceito de agrupar atributos e métodos relacionados dentro de uma classe, tornando-os acessíveis apenas através de interfaces bem definidas. Isso ajuda a controlar o acesso aos dados internos de um objeto e a protegê-los contra manipulações não autorizadas.\n",
        "\n",
        "5. **Herança:** A herança permite que uma classe herde características de outra classe. A classe que herda é chamada de classe derivada ou subclasse, enquanto a classe da qual ela herda é chamada de classe base ou superclasse. A herança facilita a reutilização de código e a criação de hierarquias de classes.\n",
        "\n",
        "6. **Polimorfismo:** Polimorfismo significa que objetos de diferentes classes podem ser tratados de maneira uniforme, desde que compartilhem uma interface comum ou herdem da mesma classe base. Isso permite que um único método seja usado para diferentes tipos de objetos, aumentando a flexibilidade do código.\n",
        "\n",
        "7. **Abstração:** A abstração envolve a simplificação e o foco nos aspectos essenciais de um objeto, ignorando detalhes menos relevantes. É a capacidade de modelar objetos do mundo real como entidades abstratas com características e comportamentos específicos.\n",
        "\n",
        "8. **Associações e Relações:** Além das características intrínsecas dos objetos, a POO também lida com as relações entre os objetos. Isso pode incluir associações como \"tem-um\" (composição) ou \"é-um\" (herança), bem como relações mais complexas como agregações e associações de muitos para muitos.\n",
        "\n",
        "Ao utilizar esses elementos, os programadores podem modelar sistemas de software de forma mais estruturada, modular e reutilizável, o que resulta em código mais limpo, manutenível e eficiente."
      ],
      "metadata": {
        "id": "qwg_d_l9W9sG"
      }
    },
    {
      "cell_type": "markdown",
      "source": [
        "Python é uma linguagem multiparadigma, portanto, ela suporta vários tipos de paradigma de programação.\n",
        "\n",
        "Estruturada.\n",
        "\n",
        "Orientada a Objeto"
      ],
      "metadata": {
        "id": "-rfJtdVvW_rP"
      }
    },
    {
      "cell_type": "code",
      "source": [
        "class Produto:\n",
        "    def __init__(self, nome, preco):\n",
        "        self.nome = nome\n",
        "        self.preco = preco\n",
        "\n",
        "    def exibir_info(self):\n",
        "        print(f\"Produto: {self.nome}\")\n",
        "        print(f\"Preço: R${self.preco:.2f}\")\n",
        "\n",
        "# Criando instâncias da classe Produto\n",
        "produto1 = Produto(\"Camiseta\", 29.99)\n",
        "produto2 = Produto(\"Calça\", 49.99)\n",
        "\n",
        "# Acessando atributos e métodos das instâncias\n",
        "produto1.exibir_info()\n",
        "produto2.exibir_info()\n"
      ],
      "metadata": {
        "colab": {
          "base_uri": "https://localhost:8080/"
        },
        "id": "WrxdjltoX1dZ",
        "outputId": "39a39b0e-0a16-4611-a49e-98e528c01a85"
      },
      "execution_count": 1,
      "outputs": [
        {
          "output_type": "stream",
          "name": "stdout",
          "text": [
            "Produto: Camiseta\n",
            "Preço: R$29.99\n",
            "Produto: Calça\n",
            "Preço: R$49.99\n"
          ]
        }
      ]
    },
    {
      "cell_type": "code",
      "source": [
        "class Carro:\n",
        "    def __init__(self, cor, modelo, ano):\n",
        "        self.cor = cor\n",
        "        self.modelo = modelo\n",
        "        self.ano = ano\n",
        "\n",
        "    def ligar(self):\n",
        "        print(\"Carro ligou\")\n",
        "\n",
        "    def desligar(self):\n",
        "        print(\"Carro desligou\")\n",
        "\n",
        "carro1 = Carro('Preto', 'Opala', 1987)\n",
        "carro2 = Carro('Vermelho', 'Ford Ka', 2016)\n",
        "\n",
        "carro1.ligar()   # Chama o método ligar do carro1\n",
        "carro2.desligar() # Chama o método desligar do carro2\n"
      ],
      "metadata": {
        "colab": {
          "base_uri": "https://localhost:8080/"
        },
        "id": "cZnH2Cf_YHO2",
        "outputId": "caab6427-7c7d-4f06-beae-463deab5b60d"
      },
      "execution_count": 10,
      "outputs": [
        {
          "output_type": "stream",
          "name": "stdout",
          "text": [
            "Carro ligou\n",
            "Carro desligou\n"
          ]
        }
      ]
    },
    {
      "cell_type": "code",
      "source": [
        "print(type(carro1)) #carro1 agora é um tipo de dados chamado Carro"
      ],
      "metadata": {
        "colab": {
          "base_uri": "https://localhost:8080/"
        },
        "id": "nb_hsKRCaY2J",
        "outputId": "b098baff-388e-466e-bf69-17a670b27c65"
      },
      "execution_count": 11,
      "outputs": [
        {
          "output_type": "stream",
          "name": "stdout",
          "text": [
            "<class '__main__.Carro'>\n"
          ]
        }
      ]
    }
  ]
}