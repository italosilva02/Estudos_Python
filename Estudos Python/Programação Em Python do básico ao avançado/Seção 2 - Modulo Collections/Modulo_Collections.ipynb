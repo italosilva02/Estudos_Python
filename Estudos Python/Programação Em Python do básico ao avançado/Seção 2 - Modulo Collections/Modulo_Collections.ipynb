{
  "nbformat": 4,
  "nbformat_minor": 0,
  "metadata": {
    "colab": {
      "provenance": [],
      "authorship_tag": "ABX9TyOTY7lCaZSzgQvRkzRjZYgP",
      "include_colab_link": true
    },
    "kernelspec": {
      "name": "python3",
      "display_name": "Python 3"
    },
    "language_info": {
      "name": "python"
    }
  },
  "cells": [
    {
      "cell_type": "markdown",
      "metadata": {
        "id": "view-in-github",
        "colab_type": "text"
      },
      "source": [
        "<a href=\"https://colab.research.google.com/github/italosilva02/exercicioPy/blob/main/Modulo_Collections.ipynb\" target=\"_parent\"><img src=\"https://colab.research.google.com/assets/colab-badge.svg\" alt=\"Open In Colab\"/></a>"
      ]
    },
    {
      "cell_type": "markdown",
      "source": [
        "# **Modulo Collections - Counter**\n",
        "\n",
        "---"
      ],
      "metadata": {
        "id": "D8MMJHqHFaTK"
      }
    },
    {
      "cell_type": "markdown",
      "source": [
        "**Link:** https://docs.python.org/pt-br/3/library/collections.html"
      ],
      "metadata": {
        "id": "f9X6GEBdIDVX"
      }
    },
    {
      "cell_type": "code",
      "execution_count": 1,
      "metadata": {
        "id": "l8syAhO9_lNa"
      },
      "outputs": [],
      "source": [
        "from collections import Counter"
      ]
    },
    {
      "cell_type": "code",
      "source": [
        "lista = [1,2,4,4,6,4,5,6,6,8,8,5,3,4,6,8,8,9,0,5,3,2,1,4,5,6,7,8,9,0,2,3,1]"
      ],
      "metadata": {
        "id": "p7gXSmSP_xTc"
      },
      "execution_count": 2,
      "outputs": []
    },
    {
      "cell_type": "code",
      "source": [
        "res = Counter(lista)"
      ],
      "metadata": {
        "id": "94n13BU4_3dP"
      },
      "execution_count": 3,
      "outputs": []
    },
    {
      "cell_type": "code",
      "source": [
        "print(type(res))\n",
        "print(res)"
      ],
      "metadata": {
        "colab": {
          "base_uri": "https://localhost:8080/"
        },
        "id": "GPCnlYe9_7HB",
        "outputId": "a7fb4d53-6192-42aa-f085-ec2c64c0c88a"
      },
      "execution_count": 6,
      "outputs": [
        {
          "output_type": "stream",
          "name": "stdout",
          "text": [
            "<class 'collections.Counter'>\n",
            "Counter({4: 5, 6: 5, 8: 5, 5: 4, 1: 3, 2: 3, 3: 3, 9: 2, 0: 2, 7: 1})\n"
          ]
        }
      ]
    },
    {
      "cell_type": "markdown",
      "source": [
        "Para cada elemento da lista, o Counter criou uma chave e colocou como valor a quantidade de ocorrências"
      ],
      "metadata": {
        "id": "k4h4DMNPAZtM"
      }
    },
    {
      "cell_type": "code",
      "source": [
        "print(Counter('ITALO SILVA DE SANTANA'))"
      ],
      "metadata": {
        "colab": {
          "base_uri": "https://localhost:8080/"
        },
        "id": "pstvGWAyAiRk",
        "outputId": "97d25437-05bb-42cd-ac90-8234ae861174"
      },
      "execution_count": 7,
      "outputs": [
        {
          "output_type": "stream",
          "name": "stdout",
          "text": [
            "Counter({'A': 5, ' ': 3, 'I': 2, 'T': 2, 'L': 2, 'S': 2, 'N': 2, 'O': 1, 'V': 1, 'D': 1, 'E': 1})\n"
          ]
        }
      ]
    },
    {
      "cell_type": "markdown",
      "source": [
        "O Counter pode ser utilizado em qualquer interavel. Aqui estamos utilizando com uma string"
      ],
      "metadata": {
        "id": "NHzZelo5AsN7"
      }
    },
    {
      "cell_type": "markdown",
      "source": [
        "print(Counter(\"texto\")"
      ],
      "metadata": {
        "id": "grwmn3BxAzoj"
      }
    },
    {
      "cell_type": "code",
      "source": [
        "texto = \"\"\"A Guerra Fria foi um conflito político-ideológico que foi travado entre Estados Unidos (EUA) e União Soviética (URSS), entre 1947 e 1991. O conflito travado entre esses dois países foi responsável por polarizar o mundo em dois grandes blocos, um alinhado ao capitalismo e outro alinhado ao comunismo.\n",
        "\n",
        "Ao longo da segunda metade do século XX, a polarização mundial resultou em uma série de conflitos de pequena e média escala em diferentes locais do mundo. Esses conflitos contavam, muitas vezes, com o envolvimento indireto de EUA e URSS, a partir do financiamento, da disponibilização de armas e do treinamento militar.\n",
        "\n",
        "Contudo, nunca houve um confronto aberto entre americanos e soviéticos, sobretudo pela possibilidade de destruição do planeta em larga escala caso houvesse um conflito entre os dois. Apesar dos discursos afiados e da intensa atuação estratégica para manter sua zona de influência, americanos e soviéticos foram cautelosos ao extremo e evitaram um conflito contra o outro.\"\"\""
      ],
      "metadata": {
        "id": "MgfXvHdQBZXB"
      },
      "execution_count": 9,
      "outputs": []
    },
    {
      "cell_type": "code",
      "source": [
        "palavra = texto.split()"
      ],
      "metadata": {
        "id": "MUjuDKQeBtZT"
      },
      "execution_count": 10,
      "outputs": []
    },
    {
      "cell_type": "code",
      "source": [
        "res = Counter(palavra)"
      ],
      "metadata": {
        "id": "6-JyRY1ABwgk"
      },
      "execution_count": 13,
      "outputs": []
    },
    {
      "cell_type": "code",
      "source": [
        "print(res.most_common(5))"
      ],
      "metadata": {
        "colab": {
          "base_uri": "https://localhost:8080/"
        },
        "id": "Vnv2pRJxB__T",
        "outputId": "6c4de99a-0a5c-4857-aa81-97f3432505cd"
      },
      "execution_count": 14,
      "outputs": [
        {
          "output_type": "stream",
          "name": "stdout",
          "text": [
            "[('e', 10), ('de', 6), ('um', 5), ('entre', 5), ('do', 5)]\n"
          ]
        }
      ]
    },
    {
      "cell_type": "code",
      "source": [
        "print(res.most_common(10))"
      ],
      "metadata": {
        "colab": {
          "base_uri": "https://localhost:8080/"
        },
        "id": "uNK7uoueCVXY",
        "outputId": "400fce59-9d80-4bff-c90b-f76d3142e947"
      },
      "execution_count": 15,
      "outputs": [
        {
          "output_type": "stream",
          "name": "stdout",
          "text": [
            "[('e', 10), ('de', 6), ('um', 5), ('entre', 5), ('do', 5), ('conflito', 4), ('em', 4), ('foi', 3), ('o', 3), ('ao', 3)]\n"
          ]
        }
      ]
    },
    {
      "cell_type": "markdown",
      "source": [
        "# **Modulo Collections - Default Dict**\n",
        "\n",
        "---\n",
        "\n"
      ],
      "metadata": {
        "id": "SqlRbrjFFJ7d"
      }
    },
    {
      "cell_type": "markdown",
      "source": [
        "São dicionários com todas as funções que já criamos. Porém, existe algumas diferenças"
      ],
      "metadata": {
        "id": "u_g6Omy5FqM_"
      }
    },
    {
      "cell_type": "code",
      "source": [
        "dicionario = {'curso': 'python', 'modulo': 5}"
      ],
      "metadata": {
        "id": "LgNRa-eqF3bT"
      },
      "execution_count": 17,
      "outputs": []
    },
    {
      "cell_type": "code",
      "source": [
        "dicionario['curso']\n",
        "dicionario['modulo']"
      ],
      "metadata": {
        "colab": {
          "base_uri": "https://localhost:8080/"
        },
        "id": "TLV0W5eiGAMp",
        "outputId": "6e00d94c-2927-47d9-acbd-efffebb91bc8"
      },
      "execution_count": 20,
      "outputs": [
        {
          "output_type": "execute_result",
          "data": {
            "text/plain": [
              "5"
            ]
          },
          "metadata": {},
          "execution_count": 20
        }
      ]
    },
    {
      "cell_type": "markdown",
      "source": [
        "No dicionário se tentarmos acessar uma chave que não existe no dicionário, ele irá retornar um keyError"
      ],
      "metadata": {
        "id": "5g9AmlZEGK-v"
      }
    },
    {
      "cell_type": "markdown",
      "source": [
        "Default Dict -> Ao criar um dicionário utilizando-o, nós informamos um valor default, podendo utilizar um lambda para isso. Este valor será utilizado sempre que não houver um valor definido. Caso tentemos acessar uma chave que não existe, essa chave será criada e o valor default será atribuido"
      ],
      "metadata": {
        "id": "HwMlGWhRGWN9"
      }
    },
    {
      "cell_type": "markdown",
      "source": [
        "**Lambdas** são funções sem nome, que podem ou não receber receber parâmetros de entrada e retornar valores"
      ],
      "metadata": {
        "id": "RmwP47wJGzVk"
      }
    },
    {
      "cell_type": "code",
      "source": [
        "from collections import defaultdict"
      ],
      "metadata": {
        "id": "HQIBiMkMGotA"
      },
      "execution_count": 21,
      "outputs": []
    },
    {
      "cell_type": "code",
      "source": [
        "dicionario = defaultdict(lambda: 0)"
      ],
      "metadata": {
        "id": "K2rPA0wfGtRH"
      },
      "execution_count": 22,
      "outputs": []
    },
    {
      "cell_type": "code",
      "source": [
        "print(dicionario)"
      ],
      "metadata": {
        "colab": {
          "base_uri": "https://localhost:8080/"
        },
        "id": "-SHnmd1KG9Tn",
        "outputId": "c5625c3d-8604-4bb2-88bf-49c840819c5a"
      },
      "execution_count": 23,
      "outputs": [
        {
          "output_type": "stream",
          "name": "stdout",
          "text": [
            "defaultdict(<function <lambda> at 0x7fb43e5e2160>, {})\n"
          ]
        }
      ]
    },
    {
      "cell_type": "code",
      "source": [
        "dicionario['curso'] = 'Curso em Python'"
      ],
      "metadata": {
        "id": "MX_0-DnnHJxm"
      },
      "execution_count": 24,
      "outputs": []
    },
    {
      "cell_type": "code",
      "source": [
        "print(dicionario)"
      ],
      "metadata": {
        "colab": {
          "base_uri": "https://localhost:8080/"
        },
        "id": "0kYe5km_HOho",
        "outputId": "9d70a004-afd5-4583-a220-b6550c55278a"
      },
      "execution_count": 25,
      "outputs": [
        {
          "output_type": "stream",
          "name": "stdout",
          "text": [
            "defaultdict(<function <lambda> at 0x7fb43e5e2160>, {'curso': 'Curso em Python'})\n"
          ]
        }
      ]
    },
    {
      "cell_type": "code",
      "source": [
        "print(dicionario['outro']) #essa chave não existe no nosso dicionário"
      ],
      "metadata": {
        "colab": {
          "base_uri": "https://localhost:8080/"
        },
        "id": "DTpGz1KbHP7H",
        "outputId": "c267e5e2-a119-4ac1-ae68-b962f2386a84"
      },
      "execution_count": 26,
      "outputs": [
        {
          "output_type": "stream",
          "name": "stdout",
          "text": [
            "0\n"
          ]
        }
      ]
    },
    {
      "cell_type": "markdown",
      "source": [
        "Se tentarmos acessar uma chave que não existe, será criada a chave e o valor será o retorno da função lambda"
      ],
      "metadata": {
        "id": "1pLEKZbUHWgr"
      }
    },
    {
      "cell_type": "markdown",
      "source": [
        "# **Modulo Collections - Ordered Dict**\n",
        "\n",
        "---"
      ],
      "metadata": {
        "id": "fNO3LqptItA8"
      }
    },
    {
      "cell_type": "code",
      "source": [
        "di = {'a':1, 'b':2, 'c':4, 'd':5, 'e':6, 'f':9}"
      ],
      "metadata": {
        "id": "iW2eWQmTI5za"
      },
      "execution_count": 27,
      "outputs": []
    },
    {
      "cell_type": "markdown",
      "source": [
        "Em um dicionário, a ordem de inserção dos elementos não é garantida"
      ],
      "metadata": {
        "id": "3qEHlel2JEZ1"
      }
    },
    {
      "cell_type": "code",
      "source": [
        "for chave, elemento in di.items():\n",
        "  print(chave, elemento)"
      ],
      "metadata": {
        "colab": {
          "base_uri": "https://localhost:8080/"
        },
        "id": "26ydgv0SJJTU",
        "outputId": "24d8f272-679d-410b-ea2a-a087c1f77382"
      },
      "execution_count": 28,
      "outputs": [
        {
          "output_type": "stream",
          "name": "stdout",
          "text": [
            "a 1\n",
            "b 2\n",
            "c 4\n",
            "d 5\n"
          ]
        }
      ]
    },
    {
      "cell_type": "markdown",
      "source": [
        "No Order Dict temos a certeza que a ordem dos elementos vão ser mantidas"
      ],
      "metadata": {
        "id": "x28cIG04JeT0"
      }
    },
    {
      "cell_type": "code",
      "source": [
        "from collections import OrderedDict"
      ],
      "metadata": {
        "id": "GdP2-txAJlKM"
      },
      "execution_count": 30,
      "outputs": []
    },
    {
      "cell_type": "code",
      "source": [
        "di1 = OrderedDict({'a':1, 'b':2, 'c':4, 'h':10, 'd':5, 'e':6, 'f':9})"
      ],
      "metadata": {
        "id": "GZC20L6zJn36"
      },
      "execution_count": 34,
      "outputs": []
    },
    {
      "cell_type": "code",
      "source": [
        "for chave, elemento in di1.items():\n",
        "  print(f'Chave = {chave} : Valor={elemento}')"
      ],
      "metadata": {
        "colab": {
          "base_uri": "https://localhost:8080/"
        },
        "id": "O71ptVqSJzkT",
        "outputId": "2330e5b0-7f8a-4b1f-e021-b80a82b770ff"
      },
      "execution_count": 35,
      "outputs": [
        {
          "output_type": "stream",
          "name": "stdout",
          "text": [
            "Chave = a : Valor=1\n",
            "Chave = b : Valor=2\n",
            "Chave = c : Valor=4\n",
            "Chave = h : Valor=10\n",
            "Chave = d : Valor=5\n",
            "Chave = e : Valor=6\n",
            "Chave = f : Valor=9\n"
          ]
        }
      ]
    },
    {
      "cell_type": "code",
      "source": [
        "dic = {'a':1, 'b': 2}\n",
        "dic2 = {'b': 2, 'a':1}"
      ],
      "metadata": {
        "id": "NwH3y6FkKy-o"
      },
      "execution_count": 36,
      "outputs": []
    },
    {
      "cell_type": "code",
      "source": [
        "dic == dic2"
      ],
      "metadata": {
        "colab": {
          "base_uri": "https://localhost:8080/"
        },
        "id": "XhZmW9VSK9RL",
        "outputId": "4ea33ef3-9b64-4452-94af-b3f62d517717"
      },
      "execution_count": 37,
      "outputs": [
        {
          "output_type": "execute_result",
          "data": {
            "text/plain": [
              "True"
            ]
          },
          "metadata": {},
          "execution_count": 37
        }
      ]
    },
    {
      "cell_type": "markdown",
      "source": [
        "O resultado é True já que a ordem dos elementos não importa para o dicionário"
      ],
      "metadata": {
        "id": "FKe8qhvDK_Nv"
      }
    },
    {
      "cell_type": "code",
      "source": [
        "orderDic = OrderedDict({'a':1, 'b': 2})\n",
        "orderDic2 = OrderedDict({'b': 2, 'a':1})"
      ],
      "metadata": {
        "id": "y0yOIbDiLFVE"
      },
      "execution_count": 38,
      "outputs": []
    },
    {
      "cell_type": "code",
      "source": [
        "orderDic == orderDic2"
      ],
      "metadata": {
        "colab": {
          "base_uri": "https://localhost:8080/"
        },
        "id": "r0N3VwVrLQQB",
        "outputId": "82abef69-d540-44f5-92be-aa105638fbae"
      },
      "execution_count": 39,
      "outputs": [
        {
          "output_type": "execute_result",
          "data": {
            "text/plain": [
              "False"
            ]
          },
          "metadata": {},
          "execution_count": 39
        }
      ]
    },
    {
      "cell_type": "markdown",
      "source": [
        "O resultado é falso já que para o Order Dict a ordem dos elementos importa"
      ],
      "metadata": {
        "id": "qKrizliSLTWB"
      }
    },
    {
      "cell_type": "markdown",
      "source": [
        "# **Módulo Collection - Named Tuple**"
      ],
      "metadata": {
        "id": "6HT5yX9QPjWo"
      }
    },
    {
      "cell_type": "code",
      "source": [
        "tupla = (1,2,3)"
      ],
      "metadata": {
        "id": "D9-HbPMmPr71"
      },
      "execution_count": 1,
      "outputs": []
    },
    {
      "cell_type": "code",
      "source": [
        "print(tupla[0])"
      ],
      "metadata": {
        "colab": {
          "base_uri": "https://localhost:8080/"
        },
        "id": "1TD9qjXJPupa",
        "outputId": "4b398d64-d95f-404b-babd-c122836539b3"
      },
      "execution_count": 2,
      "outputs": [
        {
          "output_type": "stream",
          "name": "stdout",
          "text": [
            "1\n"
          ]
        }
      ]
    },
    {
      "cell_type": "markdown",
      "source": [
        "Named Tuple -> Significa uma tupla nomeada\n",
        "São tuplas diferenciadas, onde, especificamos um nome para a mesma e também parâmetros."
      ],
      "metadata": {
        "id": "KXmyFZj7P3gs"
      }
    },
    {
      "cell_type": "code",
      "source": [
        "from collections import namedtuple"
      ],
      "metadata": {
        "id": "crgCHXezQGHE"
      },
      "execution_count": 3,
      "outputs": []
    },
    {
      "cell_type": "markdown",
      "source": [
        "Precisamos definir o nome e parâmetros"
      ],
      "metadata": {
        "id": "E_NyHrF6QMJn"
      }
    },
    {
      "cell_type": "code",
      "source": [
        "cachorro = namedtuple('cachorro', 'idade raca nome')"
      ],
      "metadata": {
        "id": "-4P-WgJYQO-3"
      },
      "execution_count": 4,
      "outputs": []
    },
    {
      "cell_type": "markdown",
      "source": [
        "Forma 2"
      ],
      "metadata": {
        "id": "bIIErfsQQf9Y"
      }
    },
    {
      "cell_type": "code",
      "source": [
        "cachorro = namedtuple('cachorro', 'idade, raca, nome')"
      ],
      "metadata": {
        "id": "svQAmULQQhOd"
      },
      "execution_count": null,
      "outputs": []
    },
    {
      "cell_type": "markdown",
      "source": [
        "forma 3"
      ],
      "metadata": {
        "id": "WV4RX-N9QnnF"
      }
    },
    {
      "cell_type": "code",
      "source": [
        "cachorro = namedtuple('cachorro', ['idade', 'raca', 'nome'])"
      ],
      "metadata": {
        "id": "JM0zA9ypQpRy"
      },
      "execution_count": 5,
      "outputs": []
    },
    {
      "cell_type": "code",
      "source": [
        "ray = cachorro(idade=2, raca='ShowShow', nome='Ray')"
      ],
      "metadata": {
        "id": "rpWGhF2GQ2XB"
      },
      "execution_count": 6,
      "outputs": []
    },
    {
      "cell_type": "code",
      "source": [
        "print(ray.nome)"
      ],
      "metadata": {
        "colab": {
          "base_uri": "https://localhost:8080/"
        },
        "id": "Ur36PQwmQ-ki",
        "outputId": "89e7d54a-3d63-4bf1-bc22-65d73fd50f5e"
      },
      "execution_count": 7,
      "outputs": [
        {
          "output_type": "stream",
          "name": "stdout",
          "text": [
            "Ray\n"
          ]
        }
      ]
    }
  ]
}