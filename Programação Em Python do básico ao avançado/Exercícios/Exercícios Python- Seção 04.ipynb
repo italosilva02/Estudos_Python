{
 "cells": [
  {
   "cell_type": "markdown",
   "id": "c834430c",
   "metadata": {},
   "source": [
    "# Exercícios Python- Seção 04"
   ]
  },
  {
   "cell_type": "markdown",
   "id": "ed63cd00",
   "metadata": {},
   "source": [
    "#### 1 - Faça um programa que leia um número inteiro e o imprima"
   ]
  },
  {
   "cell_type": "code",
   "execution_count": 1,
   "id": "d77285f7",
   "metadata": {},
   "outputs": [
    {
     "name": "stdout",
     "output_type": "stream",
     "text": [
      "Informe um número inteiro: 5\n",
      "5\n"
     ]
    }
   ],
   "source": [
    "n = int(input('Informe um número inteiro: '))\n",
    "print(n)"
   ]
  },
  {
   "cell_type": "markdown",
   "id": "5c30e6dc",
   "metadata": {},
   "source": [
    "#### 2 - Faça um programa que leia um número real e o imprima."
   ]
  },
  {
   "cell_type": "code",
   "execution_count": 5,
   "id": "7c930b32",
   "metadata": {},
   "outputs": [
    {
     "name": "stdout",
     "output_type": "stream",
     "text": [
      "Informe um número com ponto flutuante: 4.2343453\n",
      " 4.23\n"
     ]
    }
   ],
   "source": [
    "f = float(input('Informe um número com ponto flutuante: '))\n",
    "print(f'{f: .2f}')"
   ]
  },
  {
   "cell_type": "markdown",
   "id": "500e7fd5",
   "metadata": {},
   "source": [
    "#### 3 - Peça ao usuário para digitar três valores inteiros e imprima a soma deles."
   ]
  },
  {
   "cell_type": "code",
   "execution_count": 6,
   "id": "a13c34ef",
   "metadata": {},
   "outputs": [
    {
     "name": "stdout",
     "output_type": "stream",
     "text": [
      "Informe um número inteiro: 3\n",
      "Informe um número inteiro: 2\n",
      "Informe um número inteiro: 6\n",
      "11\n"
     ]
    }
   ],
   "source": [
    "n = []\n",
    "for i in range(3):\n",
    "    n.append(int(input('Informe um número inteiro: ')))\n",
    "    \n",
    "print(sum(n))"
   ]
  },
  {
   "cell_type": "code",
   "execution_count": 13,
   "id": "0778e9fb",
   "metadata": {},
   "outputs": [
    {
     "name": "stdout",
     "output_type": "stream",
     "text": [
      "Informe um número inteiro: 5\n",
      "Informe um número inteiro: 4\n",
      "Informe um número inteiro: 3\n",
      "12\n"
     ]
    }
   ],
   "source": [
    "a = [int(input('Informe um número inteiro: ')) for i in range(3)]\n",
    "print(sum(a))"
   ]
  },
  {
   "cell_type": "markdown",
   "id": "15495a49",
   "metadata": {},
   "source": [
    "#### 4 - Leia um número real e imprima o resultado do quadrado desse número."
   ]
  },
  {
   "cell_type": "code",
   "execution_count": 18,
   "id": "b610b929",
   "metadata": {
    "scrolled": true
   },
   "outputs": [
    {
     "name": "stdout",
     "output_type": "stream",
     "text": [
      "Informe um número real: 4.2334555647657657\n",
      "O quadrado do número 4.233455564765766 é  17.92\n"
     ]
    }
   ],
   "source": [
    "n = float(input('Informe um número real: '))\n",
    "print(f'O quadrado do número {n} é {n**2: .2f}')"
   ]
  },
  {
   "cell_type": "markdown",
   "id": "f7cfe5f8",
   "metadata": {},
   "source": [
    "#### 5 - Leia um número real e imprima a quinta parte desse número."
   ]
  },
  {
   "cell_type": "code",
   "execution_count": 19,
   "id": "6c2bba63",
   "metadata": {},
   "outputs": [
    {
     "name": "stdout",
     "output_type": "stream",
     "text": [
      "Informe um número real: 4.2334555647657657\n",
      "A quinta parte de 4.233455564765766 é  0.85\n"
     ]
    }
   ],
   "source": [
    "n = float(input('Informe um número real: '))\n",
    "print(f'A quinta parte de {n} é {n/5: .2f}')"
   ]
  },
  {
   "cell_type": "markdown",
   "id": "f8071256",
   "metadata": {},
   "source": [
    "#### 6 - Leia uma temperatura em graus Celsius e apresente-a convertida em Graus Fahrenheit"
   ]
  },
  {
   "cell_type": "code",
   "execution_count": 23,
   "id": "7854bedb",
   "metadata": {},
   "outputs": [
    {
     "name": "stdout",
     "output_type": "stream",
     "text": [
      "Informe a temperatura em Celsius:32\n",
      "Está fazendo 89.6 Fahrenheit\n"
     ]
    }
   ],
   "source": [
    "n = float(input('Informe a temperatura em Celsius:'))\n",
    "print(f'Está fazendo {(n * (9.0/5.0) + 32.0)} Fahrenheit')"
   ]
  },
  {
   "cell_type": "markdown",
   "id": "6b682118",
   "metadata": {},
   "source": [
    "#### 7 - Leia uma temperatura em graus Fahrenheit e apresente-a convertida em Graus Celsius"
   ]
  },
  {
   "cell_type": "code",
   "execution_count": 28,
   "id": "48bfd9f9",
   "metadata": {},
   "outputs": [
    {
     "name": "stdout",
     "output_type": "stream",
     "text": [
      "Informe a temperatura em Fahrenhei:82\n",
      "Está fazendo  27.78 Celsius\n"
     ]
    }
   ],
   "source": [
    "n = float(input('Informe a temperatura em Fahrenhei:'))\n",
    "print(f'Está fazendo {(5.0 * (n - 32.0) / 9.0): .2f} Celsius')"
   ]
  },
  {
   "cell_type": "markdown",
   "id": "24fc0793",
   "metadata": {},
   "source": [
    "#### 8 - Leia uma temperatura em graus Kelvin e apresente-a convertida em graus Celsius. A fórmula de conversão é: C = K - 273.15, Sendo C a temperatura em Celsius e K a temperatura em Kelvin"
   ]
  },
  {
   "cell_type": "code",
   "execution_count": 32,
   "id": "010f864e",
   "metadata": {},
   "outputs": [
    {
     "name": "stdout",
     "output_type": "stream",
     "text": [
      "Informe a temperatura em Kelvin: 273.15\n",
      "A temperatura é  0.00 graus Celsius\n"
     ]
    }
   ],
   "source": [
    "k = float(input('Informe a temperatura em Kelvin: '))\n",
    "print(f'A temperatura é {(k - 273.15): .2f} graus Celsius')"
   ]
  },
  {
   "cell_type": "markdown",
   "id": "45fee7a6",
   "metadata": {},
   "source": [
    "#### 9 - Leia uma temperatura em graus Celsius e apresente-a convertida em graus Kelvin. A fórmula de conversão é: K = C + 273.15, Sendo C a temperatura em Celsius e K a temperatura em Kelvin"
   ]
  },
  {
   "cell_type": "code",
   "execution_count": 33,
   "id": "1399a07f",
   "metadata": {},
   "outputs": [
    {
     "name": "stdout",
     "output_type": "stream",
     "text": [
      "Informe a temperatura em Celsius: 82\n",
      "A temperatura é  355.15 graus Kelvin\n"
     ]
    }
   ],
   "source": [
    "c = float(input('Informe a temperatura em Celsius: '))\n",
    "print(f'A temperatura é {(c + 273.15): .2f} graus Kelvin')"
   ]
  },
  {
   "cell_type": "markdown",
   "id": "feb2875e",
   "metadata": {},
   "source": [
    " #### 10 - Leia uma velocidade em km/h (quilômetros por hora)  e apresente-a convertida para m/s (metros por segundo). A fórmula de conversão é: M = K / 3.6, sendo K a velocidade em km/h e m é m/s"
   ]
  },
  {
   "cell_type": "code",
   "execution_count": 35,
   "id": "baccd962",
   "metadata": {},
   "outputs": [
    {
     "name": "stdout",
     "output_type": "stream",
     "text": [
      "Informe a velocidade em KM/h: 32.60\n",
      "A velocidade 32.6 em m/s é =  9.06\n"
     ]
    }
   ],
   "source": [
    "km = float(input(\"Informe a velocidade em KM/h: \"))\n",
    "print(f'A velocidade {km} em m/s é = {(km/3.6): .2f}')"
   ]
  },
  {
   "cell_type": "markdown",
   "id": "62c5c1d0",
   "metadata": {},
   "source": [
    " #### 11 - Leia uma velocidade em m/s (metros por segundo)  e apresente-a convertida para km/h (quilômetros por hora). A fórmula de conversão é: M = K x 3.6, sendo K a velocidade em km/h e m é m/s"
   ]
  },
  {
   "cell_type": "code",
   "execution_count": 36,
   "id": "0e3122d1",
   "metadata": {},
   "outputs": [
    {
     "name": "stdout",
     "output_type": "stream",
     "text": [
      "Informe a velocidade em KM/h: 10\n",
      "A velocidade 10.0 em km/h é =  36.00\n"
     ]
    }
   ],
   "source": [
    "ms = float(input(\"Informe a velocidade em KM/h: \"))\n",
    "print(f'A velocidade {ms} em km/h é = {(ms*3.6): .2f}')"
   ]
  },
  {
   "cell_type": "markdown",
   "id": "bc960825",
   "metadata": {},
   "source": [
    " #### 12 - Leia uma distância em milhas e apresente-a convertida em qui"
   ]
  }
 ],
 "metadata": {
  "kernelspec": {
   "display_name": "Python 3 (ipykernel)",
   "language": "python",
   "name": "python3"
  },
  "language_info": {
   "codemirror_mode": {
    "name": "ipython",
    "version": 3
   },
   "file_extension": ".py",
   "mimetype": "text/x-python",
   "name": "python",
   "nbconvert_exporter": "python",
   "pygments_lexer": "ipython3",
   "version": "3.9.13"
  }
 },
 "nbformat": 4,
 "nbformat_minor": 5
}
