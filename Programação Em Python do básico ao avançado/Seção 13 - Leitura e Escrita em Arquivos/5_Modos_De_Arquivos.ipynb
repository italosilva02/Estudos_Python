{
 "cells": [
  {
   "cell_type": "markdown",
   "id": "a10ebe5e",
   "metadata": {},
   "source": [
    "# Modos de arquivos"
   ]
  },
  {
   "cell_type": "markdown",
   "id": "a5f09329",
   "metadata": {},
   "source": [
    "No Python, os modos de arquivo são usados para especificar a forma como um arquivo deve ser aberto e manipulado pelo programa. Existem diferentes modos de arquivo disponíveis no Python, cada um dos quais é representado por uma letra diferente.\n",
    "\n",
    "Aqui estão os principais modos de arquivo no Python:\n",
    "\n",
    "\"r\": abre um arquivo para leitura. Se o arquivo não existir, uma exceção será lançada.\n",
    "\n",
    "\"w\": abre um arquivo para gravação. Se o arquivo já existir, ele será truncado (ou seja, todo o conteúdo anterior será apagado). Se o arquivo não existir, um novo arquivo será criado.\n",
    "\n",
    "\"a\": abre um arquivo para gravação, mas adiciona o novo conteúdo ao final do arquivo existente, em vez de sobrescrevê-lo. Se o arquivo não existir, um novo arquivo será criado.\n",
    "\n",
    "\"x\": cria um novo arquivo para gravação, mas falha se o arquivo já existir.\n",
    "\n",
    "\"b\": adicionado a qualquer modo acima, significa que o arquivo deve ser aberto em modo binário, em vez de modo de texto.\n",
    "\"+\" : adicionado a qualquer modo acima, significa que o arquivo deve ser aberto em modo de atualização, permitindo tanto a leitura quanto a escrita no arquivo.\n",
    "\n",
    "Por exemplo, para abrir um arquivo chamado \"exemplo.txt\" para leitura, o modo seria \"r\". Se você quisesse abrir o mesmo arquivo para gravação, o modo seria \"w\". Se você quisesse abrir o mesmo arquivo para gravação, mas adicionando novo conteúdo ao final, o modo seria \"a\"."
   ]
  },
  {
   "cell_type": "code",
   "execution_count": 1,
   "id": "48f814e6",
   "metadata": {},
   "outputs": [
    {
     "name": "stdout",
     "output_type": "stream",
     "text": [
      "Help on built-in function open in module io:\n",
      "\n",
      "open(file, mode='r', buffering=-1, encoding=None, errors=None, newline=None, closefd=True, opener=None)\n",
      "    Open file and return a stream.  Raise OSError upon failure.\n",
      "    \n",
      "    file is either a text or byte string giving the name (and the path\n",
      "    if the file isn't in the current working directory) of the file to\n",
      "    be opened or an integer file descriptor of the file to be\n",
      "    wrapped. (If a file descriptor is given, it is closed when the\n",
      "    returned I/O object is closed, unless closefd is set to False.)\n",
      "    \n",
      "    mode is an optional string that specifies the mode in which the file\n",
      "    is opened. It defaults to 'r' which means open for reading in text\n",
      "    mode.  Other common values are 'w' for writing (truncating the file if\n",
      "    it already exists), 'x' for creating and writing to a new file, and\n",
      "    'a' for appending (which on some Unix systems, means that all writes\n",
      "    append to the end of the file regardless of the current seek position).\n",
      "    In text mode, if encoding is not specified the encoding used is platform\n",
      "    dependent: locale.getpreferredencoding(False) is called to get the\n",
      "    current locale encoding. (For reading and writing raw bytes use binary\n",
      "    mode and leave encoding unspecified.) The available modes are:\n",
      "    \n",
      "    ========= ===============================================================\n",
      "    Character Meaning\n",
      "    --------- ---------------------------------------------------------------\n",
      "    'r'       open for reading (default)\n",
      "    'w'       open for writing, truncating the file first\n",
      "    'x'       create a new file and open it for writing\n",
      "    'a'       open for writing, appending to the end of the file if it exists\n",
      "    'b'       binary mode\n",
      "    't'       text mode (default)\n",
      "    '+'       open a disk file for updating (reading and writing)\n",
      "    'U'       universal newline mode (deprecated)\n",
      "    ========= ===============================================================\n",
      "    \n",
      "    The default mode is 'rt' (open for reading text). For binary random\n",
      "    access, the mode 'w+b' opens and truncates the file to 0 bytes, while\n",
      "    'r+b' opens the file without truncation. The 'x' mode implies 'w' and\n",
      "    raises an `FileExistsError` if the file already exists.\n",
      "    \n",
      "    Python distinguishes between files opened in binary and text modes,\n",
      "    even when the underlying operating system doesn't. Files opened in\n",
      "    binary mode (appending 'b' to the mode argument) return contents as\n",
      "    bytes objects without any decoding. In text mode (the default, or when\n",
      "    't' is appended to the mode argument), the contents of the file are\n",
      "    returned as strings, the bytes having been first decoded using a\n",
      "    platform-dependent encoding or using the specified encoding if given.\n",
      "    \n",
      "    'U' mode is deprecated and will raise an exception in future versions\n",
      "    of Python.  It has no effect in Python 3.  Use newline to control\n",
      "    universal newlines mode.\n",
      "    \n",
      "    buffering is an optional integer used to set the buffering policy.\n",
      "    Pass 0 to switch buffering off (only allowed in binary mode), 1 to select\n",
      "    line buffering (only usable in text mode), and an integer > 1 to indicate\n",
      "    the size of a fixed-size chunk buffer.  When no buffering argument is\n",
      "    given, the default buffering policy works as follows:\n",
      "    \n",
      "    * Binary files are buffered in fixed-size chunks; the size of the buffer\n",
      "      is chosen using a heuristic trying to determine the underlying device's\n",
      "      \"block size\" and falling back on `io.DEFAULT_BUFFER_SIZE`.\n",
      "      On many systems, the buffer will typically be 4096 or 8192 bytes long.\n",
      "    \n",
      "    * \"Interactive\" text files (files for which isatty() returns True)\n",
      "      use line buffering.  Other text files use the policy described above\n",
      "      for binary files.\n",
      "    \n",
      "    encoding is the name of the encoding used to decode or encode the\n",
      "    file. This should only be used in text mode. The default encoding is\n",
      "    platform dependent, but any encoding supported by Python can be\n",
      "    passed.  See the codecs module for the list of supported encodings.\n",
      "    \n",
      "    errors is an optional string that specifies how encoding errors are to\n",
      "    be handled---this argument should not be used in binary mode. Pass\n",
      "    'strict' to raise a ValueError exception if there is an encoding error\n",
      "    (the default of None has the same effect), or pass 'ignore' to ignore\n",
      "    errors. (Note that ignoring encoding errors can lead to data loss.)\n",
      "    See the documentation for codecs.register or run 'help(codecs.Codec)'\n",
      "    for a list of the permitted encoding error strings.\n",
      "    \n",
      "    newline controls how universal newlines works (it only applies to text\n",
      "    mode). It can be None, '', '\\n', '\\r', and '\\r\\n'.  It works as\n",
      "    follows:\n",
      "    \n",
      "    * On input, if newline is None, universal newlines mode is\n",
      "      enabled. Lines in the input can end in '\\n', '\\r', or '\\r\\n', and\n",
      "      these are translated into '\\n' before being returned to the\n",
      "      caller. If it is '', universal newline mode is enabled, but line\n",
      "      endings are returned to the caller untranslated. If it has any of\n",
      "      the other legal values, input lines are only terminated by the given\n",
      "      string, and the line ending is returned to the caller untranslated.\n",
      "    \n",
      "    * On output, if newline is None, any '\\n' characters written are\n",
      "      translated to the system default line separator, os.linesep. If\n",
      "      newline is '' or '\\n', no translation takes place. If newline is any\n",
      "      of the other legal values, any '\\n' characters written are translated\n",
      "      to the given string.\n",
      "    \n",
      "    If closefd is False, the underlying file descriptor will be kept open\n",
      "    when the file is closed. This does not work when a file name is given\n",
      "    and must be True in that case.\n",
      "    \n",
      "    A custom opener can be used by passing a callable as *opener*. The\n",
      "    underlying file descriptor for the file object is then obtained by\n",
      "    calling *opener* with (*file*, *flags*). *opener* must return an open\n",
      "    file descriptor (passing os.open as *opener* results in functionality\n",
      "    similar to passing None).\n",
      "    \n",
      "    open() returns a file object whose type depends on the mode, and\n",
      "    through which the standard file operations such as reading and writing\n",
      "    are performed. When open() is used to open a file in a text mode ('w',\n",
      "    'r', 'wt', 'rt', etc.), it returns a TextIOWrapper. When used to open\n",
      "    a file in a binary mode, the returned class varies: in read binary\n",
      "    mode, it returns a BufferedReader; in write binary and append binary\n",
      "    modes, it returns a BufferedWriter, and in read/write mode, it returns\n",
      "    a BufferedRandom.\n",
      "    \n",
      "    It is also possible to use a string or bytearray as a file for both\n",
      "    reading and writing. For strings StringIO can be used like a file\n",
      "    opened in a text mode, and for bytes a BytesIO can be used like a file\n",
      "    opened in a binary mode.\n",
      "\n"
     ]
    }
   ],
   "source": [
    "help(open)"
   ]
  },
  {
   "cell_type": "markdown",
   "id": "d5c88195",
   "metadata": {},
   "source": [
    "Entendendo o modo 'x' -> Abre para escrita somente se o arquivo não existir"
   ]
  },
  {
   "cell_type": "code",
   "execution_count": 2,
   "id": "8e216cf0",
   "metadata": {},
   "outputs": [],
   "source": [
    "with open('sobrenomes.txt', 'x') as arquivos:\n",
    "    arquivos.write('tetes de conteúdo para o módulo x')"
   ]
  },
  {
   "cell_type": "markdown",
   "id": "74fd22b1",
   "metadata": {},
   "source": [
    "Caso o arquivo exista, irá gerar um erro"
   ]
  },
  {
   "cell_type": "code",
   "execution_count": 3,
   "id": "89231f30",
   "metadata": {},
   "outputs": [
    {
     "ename": "FileExistsError",
     "evalue": "[Errno 17] File exists: 'sobrenomes.txt'",
     "output_type": "error",
     "traceback": [
      "\u001b[1;31m---------------------------------------------------------------------------\u001b[0m",
      "\u001b[1;31mFileExistsError\u001b[0m                           Traceback (most recent call last)",
      "\u001b[1;32m~\\AppData\\Local\\Temp\\ipykernel_2772\\1229008771.py\u001b[0m in \u001b[0;36m<module>\u001b[1;34m\u001b[0m\n\u001b[1;32m----> 1\u001b[1;33m \u001b[1;32mwith\u001b[0m \u001b[0mopen\u001b[0m\u001b[1;33m(\u001b[0m\u001b[1;34m'sobrenomes.txt'\u001b[0m\u001b[1;33m,\u001b[0m \u001b[1;34m'x'\u001b[0m\u001b[1;33m)\u001b[0m \u001b[1;32mas\u001b[0m \u001b[0marquivos\u001b[0m\u001b[1;33m:\u001b[0m\u001b[1;33m\u001b[0m\u001b[1;33m\u001b[0m\u001b[0m\n\u001b[0m\u001b[0;32m      2\u001b[0m     \u001b[0marquivos\u001b[0m\u001b[1;33m.\u001b[0m\u001b[0mwrite\u001b[0m\u001b[1;33m(\u001b[0m\u001b[1;34m'tetes de conteúdo para o módulo x'\u001b[0m\u001b[1;33m)\u001b[0m\u001b[1;33m\u001b[0m\u001b[1;33m\u001b[0m\u001b[0m\n",
      "\u001b[1;31mFileExistsError\u001b[0m: [Errno 17] File exists: 'sobrenomes.txt'"
     ]
    }
   ],
   "source": [
    "with open('sobrenomes.txt', 'x') as arquivos:\n",
    "    arquivos.write('tetes de conteúdo para o módulo x')"
   ]
  },
  {
   "cell_type": "code",
   "execution_count": 9,
   "id": "8183b7b8",
   "metadata": {},
   "outputs": [],
   "source": [
    "try:\n",
    "    with open ('sobrenomes.txt', 'x') as sobrenomes:\n",
    "        sobrenome.write('Testando o arquivo dentro de um tratamento de erro')\n",
    "except:\n",
    "    with open ('sobrenomes.txt', 'a') as sobrenome:\n",
    "        sobrenome.write('\\nO arquivo já existe, portanto, adicionei o mesmo no final.\\n')\n",
    "finally:\n",
    "    sobrenome.closed"
   ]
  },
  {
   "cell_type": "code",
   "execution_count": 10,
   "id": "b8be4ee6",
   "metadata": {
    "scrolled": true
   },
   "outputs": [
    {
     "name": "stdout",
     "output_type": "stream",
     "text": [
      "tetes de conteúdo para o módulo xO arquivo já existe, portanto, adicionei o mesmo no final.\n",
      "\n",
      "O arquivo já existe, portanto, adicionei o mesmo no final.\n",
      "\n"
     ]
    }
   ],
   "source": [
    "with open('sobrenomes.txt') as sobrenomes:\n",
    "    print(sobrenomes.read())"
   ]
  },
  {
   "cell_type": "code",
   "execution_count": 16,
   "id": "76404902",
   "metadata": {},
   "outputs": [
    {
     "name": "stdout",
     "output_type": "stream",
     "text": [
      "Informe uma fruta ou (sair) para fechar o programa: Laranja\n",
      "Informe uma fruta ou (sair) para fechar o programa: sair\n"
     ]
    }
   ],
   "source": [
    "while True:\n",
    "    texto = input('Informe uma fruta ou (sair) para fechar o programa: ')\n",
    "    if texto != 'sair':\n",
    "        with open('frutas.txt', 'a') as fruta:\n",
    "            fruta.write(texto + '\\n')\n",
    "    else:\n",
    "        break\n",
    "    \n",
    "        "
   ]
  },
  {
   "cell_type": "code",
   "execution_count": 23,
   "id": "894913bc",
   "metadata": {},
   "outputs": [
    {
     "data": {
      "text/plain": [
       "True"
      ]
     },
     "execution_count": 23,
     "metadata": {},
     "output_type": "execute_result"
    }
   ],
   "source": [
    "fruta.closed"
   ]
  },
  {
   "cell_type": "code",
   "execution_count": 18,
   "id": "425e76b4",
   "metadata": {},
   "outputs": [
    {
     "name": "stdout",
     "output_type": "stream",
     "text": [
      "Maçã\n",
      "Mamão\n",
      "Melancia\n",
      "Perá\n",
      "Abacate\n",
      "Banana\n",
      "Manga\n",
      "Laranja\n",
      "\n"
     ]
    }
   ],
   "source": [
    "with open('frutas.txt') as fruta:\n",
    "    print(fruta.read())"
   ]
  },
  {
   "cell_type": "markdown",
   "id": "0082c3e5",
   "metadata": {},
   "source": [
    "Abrindo no modo 'a' que é append, se o arquivo não existir será criado. Caso já exista, será criado no final"
   ]
  },
  {
   "cell_type": "code",
   "execution_count": 24,
   "id": "7e58e3b3",
   "metadata": {},
   "outputs": [],
   "source": [
    "fruta.close()"
   ]
  },
  {
   "cell_type": "code",
   "execution_count": 25,
   "id": "7027c6ad",
   "metadata": {},
   "outputs": [
    {
     "name": "stdout",
     "output_type": "stream",
     "text": [
      "Informe uma fruta ou (sair) para fechar o programa: Maçã\n",
      "Informe uma fruta ou (sair) para fechar o programa: Melão\n",
      "Informe uma fruta ou (sair) para fechar o programa: Perâ\n",
      "Informe uma fruta ou (sair) para fechar o programa: Melancia\n",
      "Informe uma fruta ou (sair) para fechar o programa: Mamão\n",
      "Informe uma fruta ou (sair) para fechar o programa: Caju\n",
      "Informe uma fruta ou (sair) para fechar o programa: sair\n"
     ]
    },
    {
     "data": {
      "text/plain": [
       "True"
      ]
     },
     "execution_count": 25,
     "metadata": {},
     "output_type": "execute_result"
    }
   ],
   "source": [
    "while True:\n",
    "    texto = input('Informe uma fruta ou (sair) para fechar o programa: ')\n",
    "    if texto != 'sair':\n",
    "        with open('frutas_top.txt', 'a') as fruta:\n",
    "            fruta.seek(0)\n",
    "            fruta.write(texto + '\\n')\n",
    "            \n",
    "    else:\n",
    "        break\n",
    "\n",
    "fruta.closed"
   ]
  },
  {
   "cell_type": "code",
   "execution_count": 26,
   "id": "03c53df8",
   "metadata": {},
   "outputs": [
    {
     "name": "stdout",
     "output_type": "stream",
     "text": [
      "Maçã\n",
      "Melancia\n",
      "Laranja\n",
      "Perâ\n",
      "Caju\n",
      "Manga\n",
      "Mamão\n",
      "Maçã\n",
      "Melão\n",
      "Perâ\n",
      "Melancia\n",
      "Mamão\n",
      "Caju\n",
      "\n"
     ]
    }
   ],
   "source": [
    "with open('frutas_top.txt') as fruta:\n",
    "    print(fruta.read())"
   ]
  },
  {
   "cell_type": "markdown",
   "id": "db33bfc5",
   "metadata": {},
   "source": [
    "Abrindo no modo 'a' só podemos adicionar o conteúdo no final do arquivo. SEMPRE\n",
    "Com o modo 'a' não controlamos o cursor"
   ]
  },
  {
   "cell_type": "code",
   "execution_count": 31,
   "id": "2a65c89c",
   "metadata": {},
   "outputs": [],
   "source": [
    "with open('frutas_top.txt', 'w+') as fruta: #Abre para o modo de atualização (leitura e escrita)\n",
    "            fruta.write('Olá mundo!\\n')\n",
    "            fruta.write('Meu nome é Italo Silva!\\n')\n",
    "            fruta.write('Eu tenho 24 anos\\n')\n",
    "            fruta.write('Estou estudando Python!\\n')\n",
    "            fruta.write('Faço Analise e Desenvolvimento de Sistema\\n')\n",
    "            fruta.write('Bye!\\n')\n",
    "            fruta.write('-'*100+'\\n')"
   ]
  },
  {
   "cell_type": "code",
   "execution_count": 32,
   "id": "0ad03bb7",
   "metadata": {},
   "outputs": [],
   "source": [
    "with open('frutas_top.txt', 'a+') as fruta: #Abre para o modo de atualização (leitura e escrita)\n",
    "            fruta.write('Olá mundo!\\n')\n",
    "            fruta.write('Meu nome é Ana Julia!\\n')\n",
    "            fruta.write('Eu tenho 28 anos\\n')\n",
    "            fruta.write('Estou estudando Java!\\n')\n",
    "            fruta.write('Engenharia de software\\n')\n",
    "            fruta.write('Tchau Tchau :3!\\n')\n",
    "            fruta.write('-'*100+'\\n')"
   ]
  },
  {
   "cell_type": "code",
   "execution_count": null,
   "id": "5a9e5119",
   "metadata": {},
   "outputs": [],
   "source": []
  }
 ],
 "metadata": {
  "kernelspec": {
   "display_name": "Python 3 (ipykernel)",
   "language": "python",
   "name": "python3"
  },
  "language_info": {
   "codemirror_mode": {
    "name": "ipython",
    "version": 3
   },
   "file_extension": ".py",
   "mimetype": "text/x-python",
   "name": "python",
   "nbconvert_exporter": "python",
   "pygments_lexer": "ipython3",
   "version": "3.9.13"
  }
 },
 "nbformat": 4,
 "nbformat_minor": 5
}
