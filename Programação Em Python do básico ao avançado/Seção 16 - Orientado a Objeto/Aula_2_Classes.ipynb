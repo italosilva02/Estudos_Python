{
  "nbformat": 4,
  "nbformat_minor": 0,
  "metadata": {
    "colab": {
      "provenance": []
    },
    "kernelspec": {
      "name": "python3",
      "display_name": "Python 3"
    },
    "language_info": {
      "name": "python"
    }
  },
  "cells": [
    {
      "cell_type": "markdown",
      "source": [
        "# Orientado a Objeto - Classes"
      ],
      "metadata": {
        "id": "IWRBWbl4a-S7"
      }
    },
    {
      "cell_type": "markdown",
      "source": [
        "Classes nada mais são do que modelo dos objetos do mundo real sendo representados computacionalmente"
      ],
      "metadata": {
        "id": "1e7xmpyLbHaZ"
      }
    },
    {
      "cell_type": "markdown",
      "source": [
        "Em programação orientada a objetos (POO), uma classe é um modelo ou uma descrição para criar objetos. Ela define a estrutura, os atributos e os métodos que os objetos criados a partir dela terão. As classes servem como \"moldes\" a partir dos quais você pode criar instâncias individuais (objetos) que compartilham características e comportamentos semelhantes.\n",
        "\n",
        "Uma classe é composta por:\n",
        "\n",
        "1. **Atributos:** Também conhecidos como campos ou propriedades, os atributos representam as características dos objetos criados a partir da classe. Por exemplo, se você tiver uma classe \"Carro\", os atributos poderiam incluir coisas como \"cor\", \"modelo\" e \"ano\".\n",
        "\n",
        "2. **Métodos:** Os métodos são as funções associadas à classe que definem os comportamentos dos objetos. Eles podem ser chamados para executar ações específicas ou realizar operações relacionadas aos objetos. Continuando com o exemplo do carro, os métodos poderiam ser \"ligar\", \"acelerar\" e \"frear\".\n",
        "\n",
        "3. **Construtor:** O construtor é um método especial que é chamado quando um objeto é criado a partir da classe. Ele é geralmente usado para inicializar os atributos do objeto. Em Python, o construtor é chamado `__init__`.\n",
        "\n",
        "4. **Outros Métodos e Propriedades:** Além dos métodos principais que definem o comportamento do objeto, uma classe pode conter outros métodos e propriedades que auxiliam na manipulação e interação com os objetos.\n",
        "\n",
        "5. **Encapsulamento e Visibilidade:** Classes também permitem o conceito de encapsulamento, onde os detalhes internos de implementação podem ser ocultados e acessados somente através de métodos definidos na classe. Isso ajuda a proteger os dados e garante uma interface controlada para interagir com os objetos.\n",
        "\n",
        "Classes são a base da programação orientada a objetos e permitem uma abstração eficaz e uma maneira estruturada de modelar objetos do mundo real em código. Elas facilitam a organização do código, promovem a reutilização e simplificam a manutenção ao longo do tempo."
      ],
      "metadata": {
        "id": "HVYW8rQYbOkn"
      }
    },
    {
      "cell_type": "code",
      "source": [
        "class Lampada():\n",
        "    def __init__(self, voltz):\n",
        "        self.voltz = voltz\n",
        "        self.esta_ligada = False  # Inicialmente a lâmpada está desligada\n",
        "\n",
        "    def ligar(self):\n",
        "        if not self.esta_ligada:\n",
        "            self.esta_ligada = True\n",
        "            return \"Lâmpada ligada\"\n",
        "        else:\n",
        "            return \"A lâmpada já está ligada\"\n",
        "\n",
        "    def desligar(self):\n",
        "        if self.esta_ligada:\n",
        "            self.esta_ligada = False\n",
        "            return \"Lâmpada desligada\"\n",
        "        else:\n",
        "            return \"A lâmpada já está desligada\"\n",
        "\n",
        "# Criar uma instância da classe Lampada\n",
        "minha_lampada = Lampada(220)\n",
        "\n",
        "# Ligar e desligar a lâmpada\n",
        "print(minha_lampada.ligar())   # Lâmpada ligada\n",
        "print(minha_lampada.desligar()) # Lâmpada desligada\n",
        "print(minha_lampada.ligar())   # Lâmpada ligada\n",
        "print(minha_lampada.desligar()) # Lâmpada desligada\n"
      ],
      "metadata": {
        "colab": {
          "base_uri": "https://localhost:8080/"
        },
        "id": "lg7B3YlgcIDH",
        "outputId": "952b0539-55a7-402f-ef11-56bdfdab27e7"
      },
      "execution_count": 8,
      "outputs": [
        {
          "output_type": "stream",
          "name": "stdout",
          "text": [
            "Lâmpada ligada\n",
            "Lâmpada desligada\n",
            "Lâmpada ligada\n",
            "Lâmpada desligada\n"
          ]
        }
      ]
    },
    {
      "cell_type": "code",
      "source": [
        "print(minha_lampada)"
      ],
      "metadata": {
        "colab": {
          "base_uri": "https://localhost:8080/"
        },
        "id": "P-MS0LyieDNZ",
        "outputId": "bcb5b047-5d32-4e43-97ee-23bd156a1eae"
      },
      "execution_count": 10,
      "outputs": [
        {
          "output_type": "stream",
          "name": "stdout",
          "text": [
            "<__main__.Lampada object at 0x7f7de6a23cd0>\n"
          ]
        }
      ]
    },
    {
      "cell_type": "code",
      "source": [
        "print(type(minha_lampada.ligar()))"
      ],
      "metadata": {
        "colab": {
          "base_uri": "https://localhost:8080/"
        },
        "id": "8fN5i0lTd-y6",
        "outputId": "795942dc-fcdc-4952-fa08-bd92bb331d6a"
      },
      "execution_count": 9,
      "outputs": [
        {
          "output_type": "stream",
          "name": "stdout",
          "text": [
            "<class 'str'>\n"
          ]
        }
      ]
    },
    {
      "cell_type": "code",
      "source": [
        "class Corredor():\n",
        "    def __init__(self, nome, peso, cor_camisa):\n",
        "        self.nome = nome\n",
        "        self.peso = peso\n",
        "        self.cor_camisa = cor_camisa\n",
        "\n",
        "    def alterar_cor_camisa(self, cor):\n",
        "        if self.cor_camisa == cor:\n",
        "            print(f'Corredor já está usando {cor}')\n",
        "        else:\n",
        "            self.cor_camisa = cor\n",
        "            print(f'Camisa alterada para cor {cor}')\n",
        "\n",
        "# Criar uma instância da classe Corredor\n",
        "corredor1 = Corredor(\"João\", 70, \"Vermelha\")\n",
        "\n",
        "# Exemplo de alteração de cor da camisa\n",
        "corredor1.alterar_cor_camisa(\"Azul\")\n",
        "corredor1.alterar_cor_camisa(\"Vermelha\")\n"
      ],
      "metadata": {
        "colab": {
          "base_uri": "https://localhost:8080/"
        },
        "id": "1y5UOv4Feblg",
        "outputId": "9c60676e-1b73-4213-8fc1-024ef94f05c4"
      },
      "execution_count": 17,
      "outputs": [
        {
          "output_type": "stream",
          "name": "stdout",
          "text": [
            "Camisa alterada para cor Azul\n",
            "Camisa alterada para cor Vermelha\n"
          ]
        }
      ]
    },
    {
      "cell_type": "markdown",
      "source": [
        "Utilizamos a palavra 'pass' em Python quando temos um bloco de código que ainda está sendo implementado"
      ],
      "metadata": {
        "id": "sk-GpC9KgNGS"
      }
    },
    {
      "cell_type": "markdown",
      "source": [
        "Quando nomeamos nossas Classes em Python, utilizamos por convenção o nome com inicial em maiúsculo. Se o nome for composto, utiliza-se às inicias de ambas as palavras em maiúscula todas juntas."
      ],
      "metadata": {
        "id": "m4ityxXlgg2-"
      }
    },
    {
      "cell_type": "markdown",
      "source": [
        "Quando estamos planejando um software e definindo quais classes devem ter no sistema, chamamos esses objetos que serão mapeados para classe de entidades."
      ],
      "metadata": {
        "id": "ivpwamYRj_sL"
      }
    },
    {
      "cell_type": "code",
      "source": [
        "class ContaCorrente: #Correto\n",
        "  pass\n",
        "\n",
        "\n",
        "\n",
        "class Conta_Corrente: #Errado\n",
        "  pass"
      ],
      "metadata": {
        "id": "utKVxAE_g9Xb"
      },
      "execution_count": 18,
      "outputs": []
    },
    {
      "cell_type": "markdown",
      "source": [
        "int também é uma classe Python, ela começa com letra minúscula para poder diferenciar nossas classes da classe padrão do sistema."
      ],
      "metadata": {
        "id": "XYkwKUgRjYdh"
      }
    },
    {
      "cell_type": "code",
      "source": [
        "help(int)"
      ],
      "metadata": {
        "colab": {
          "base_uri": "https://localhost:8080/"
        },
        "id": "jVVwz-vjjU70",
        "outputId": "a0b83581-95fc-40ea-f024-676a416eb209"
      },
      "execution_count": 19,
      "outputs": [
        {
          "output_type": "stream",
          "name": "stdout",
          "text": [
            "Help on class int in module builtins:\n",
            "\n",
            "class int(object)\n",
            " |  int([x]) -> integer\n",
            " |  int(x, base=10) -> integer\n",
            " |  \n",
            " |  Convert a number or string to an integer, or return 0 if no arguments\n",
            " |  are given.  If x is a number, return x.__int__().  For floating point\n",
            " |  numbers, this truncates towards zero.\n",
            " |  \n",
            " |  If x is not a number or if base is given, then x must be a string,\n",
            " |  bytes, or bytearray instance representing an integer literal in the\n",
            " |  given base.  The literal can be preceded by '+' or '-' and be surrounded\n",
            " |  by whitespace.  The base defaults to 10.  Valid bases are 0 and 2-36.\n",
            " |  Base 0 means to interpret the base from the string as an integer literal.\n",
            " |  >>> int('0b100', base=0)\n",
            " |  4\n",
            " |  \n",
            " |  Built-in subclasses:\n",
            " |      bool\n",
            " |  \n",
            " |  Methods defined here:\n",
            " |  \n",
            " |  __abs__(self, /)\n",
            " |      abs(self)\n",
            " |  \n",
            " |  __add__(self, value, /)\n",
            " |      Return self+value.\n",
            " |  \n",
            " |  __and__(self, value, /)\n",
            " |      Return self&value.\n",
            " |  \n",
            " |  __bool__(self, /)\n",
            " |      True if self else False\n",
            " |  \n",
            " |  __ceil__(...)\n",
            " |      Ceiling of an Integral returns itself.\n",
            " |  \n",
            " |  __divmod__(self, value, /)\n",
            " |      Return divmod(self, value).\n",
            " |  \n",
            " |  __eq__(self, value, /)\n",
            " |      Return self==value.\n",
            " |  \n",
            " |  __float__(self, /)\n",
            " |      float(self)\n",
            " |  \n",
            " |  __floor__(...)\n",
            " |      Flooring an Integral returns itself.\n",
            " |  \n",
            " |  __floordiv__(self, value, /)\n",
            " |      Return self//value.\n",
            " |  \n",
            " |  __format__(self, format_spec, /)\n",
            " |      Default object formatter.\n",
            " |  \n",
            " |  __ge__(self, value, /)\n",
            " |      Return self>=value.\n",
            " |  \n",
            " |  __getattribute__(self, name, /)\n",
            " |      Return getattr(self, name).\n",
            " |  \n",
            " |  __getnewargs__(self, /)\n",
            " |  \n",
            " |  __gt__(self, value, /)\n",
            " |      Return self>value.\n",
            " |  \n",
            " |  __hash__(self, /)\n",
            " |      Return hash(self).\n",
            " |  \n",
            " |  __index__(self, /)\n",
            " |      Return self converted to an integer, if self is suitable for use as an index into a list.\n",
            " |  \n",
            " |  __int__(self, /)\n",
            " |      int(self)\n",
            " |  \n",
            " |  __invert__(self, /)\n",
            " |      ~self\n",
            " |  \n",
            " |  __le__(self, value, /)\n",
            " |      Return self<=value.\n",
            " |  \n",
            " |  __lshift__(self, value, /)\n",
            " |      Return self<<value.\n",
            " |  \n",
            " |  __lt__(self, value, /)\n",
            " |      Return self<value.\n",
            " |  \n",
            " |  __mod__(self, value, /)\n",
            " |      Return self%value.\n",
            " |  \n",
            " |  __mul__(self, value, /)\n",
            " |      Return self*value.\n",
            " |  \n",
            " |  __ne__(self, value, /)\n",
            " |      Return self!=value.\n",
            " |  \n",
            " |  __neg__(self, /)\n",
            " |      -self\n",
            " |  \n",
            " |  __or__(self, value, /)\n",
            " |      Return self|value.\n",
            " |  \n",
            " |  __pos__(self, /)\n",
            " |      +self\n",
            " |  \n",
            " |  __pow__(self, value, mod=None, /)\n",
            " |      Return pow(self, value, mod).\n",
            " |  \n",
            " |  __radd__(self, value, /)\n",
            " |      Return value+self.\n",
            " |  \n",
            " |  __rand__(self, value, /)\n",
            " |      Return value&self.\n",
            " |  \n",
            " |  __rdivmod__(self, value, /)\n",
            " |      Return divmod(value, self).\n",
            " |  \n",
            " |  __repr__(self, /)\n",
            " |      Return repr(self).\n",
            " |  \n",
            " |  __rfloordiv__(self, value, /)\n",
            " |      Return value//self.\n",
            " |  \n",
            " |  __rlshift__(self, value, /)\n",
            " |      Return value<<self.\n",
            " |  \n",
            " |  __rmod__(self, value, /)\n",
            " |      Return value%self.\n",
            " |  \n",
            " |  __rmul__(self, value, /)\n",
            " |      Return value*self.\n",
            " |  \n",
            " |  __ror__(self, value, /)\n",
            " |      Return value|self.\n",
            " |  \n",
            " |  __round__(...)\n",
            " |      Rounding an Integral returns itself.\n",
            " |      \n",
            " |      Rounding with an ndigits argument also returns an integer.\n",
            " |  \n",
            " |  __rpow__(self, value, mod=None, /)\n",
            " |      Return pow(value, self, mod).\n",
            " |  \n",
            " |  __rrshift__(self, value, /)\n",
            " |      Return value>>self.\n",
            " |  \n",
            " |  __rshift__(self, value, /)\n",
            " |      Return self>>value.\n",
            " |  \n",
            " |  __rsub__(self, value, /)\n",
            " |      Return value-self.\n",
            " |  \n",
            " |  __rtruediv__(self, value, /)\n",
            " |      Return value/self.\n",
            " |  \n",
            " |  __rxor__(self, value, /)\n",
            " |      Return value^self.\n",
            " |  \n",
            " |  __sizeof__(self, /)\n",
            " |      Returns size in memory, in bytes.\n",
            " |  \n",
            " |  __sub__(self, value, /)\n",
            " |      Return self-value.\n",
            " |  \n",
            " |  __truediv__(self, value, /)\n",
            " |      Return self/value.\n",
            " |  \n",
            " |  __trunc__(...)\n",
            " |      Truncating an Integral returns itself.\n",
            " |  \n",
            " |  __xor__(self, value, /)\n",
            " |      Return self^value.\n",
            " |  \n",
            " |  as_integer_ratio(self, /)\n",
            " |      Return integer ratio.\n",
            " |      \n",
            " |      Return a pair of integers, whose ratio is exactly equal to the original int\n",
            " |      and with a positive denominator.\n",
            " |      \n",
            " |      >>> (10).as_integer_ratio()\n",
            " |      (10, 1)\n",
            " |      >>> (-10).as_integer_ratio()\n",
            " |      (-10, 1)\n",
            " |      >>> (0).as_integer_ratio()\n",
            " |      (0, 1)\n",
            " |  \n",
            " |  bit_count(self, /)\n",
            " |      Number of ones in the binary representation of the absolute value of self.\n",
            " |      \n",
            " |      Also known as the population count.\n",
            " |      \n",
            " |      >>> bin(13)\n",
            " |      '0b1101'\n",
            " |      >>> (13).bit_count()\n",
            " |      3\n",
            " |  \n",
            " |  bit_length(self, /)\n",
            " |      Number of bits necessary to represent self in binary.\n",
            " |      \n",
            " |      >>> bin(37)\n",
            " |      '0b100101'\n",
            " |      >>> (37).bit_length()\n",
            " |      6\n",
            " |  \n",
            " |  conjugate(...)\n",
            " |      Returns self, the complex conjugate of any int.\n",
            " |  \n",
            " |  to_bytes(self, /, length, byteorder, *, signed=False)\n",
            " |      Return an array of bytes representing an integer.\n",
            " |      \n",
            " |      length\n",
            " |        Length of bytes object to use.  An OverflowError is raised if the\n",
            " |        integer is not representable with the given number of bytes.\n",
            " |      byteorder\n",
            " |        The byte order used to represent the integer.  If byteorder is 'big',\n",
            " |        the most significant byte is at the beginning of the byte array.  If\n",
            " |        byteorder is 'little', the most significant byte is at the end of the\n",
            " |        byte array.  To request the native byte order of the host system, use\n",
            " |        `sys.byteorder' as the byte order value.\n",
            " |      signed\n",
            " |        Determines whether two's complement is used to represent the integer.\n",
            " |        If signed is False and a negative integer is given, an OverflowError\n",
            " |        is raised.\n",
            " |  \n",
            " |  ----------------------------------------------------------------------\n",
            " |  Class methods defined here:\n",
            " |  \n",
            " |  from_bytes(bytes, byteorder, *, signed=False) from builtins.type\n",
            " |      Return the integer represented by the given array of bytes.\n",
            " |      \n",
            " |      bytes\n",
            " |        Holds the array of bytes to convert.  The argument must either\n",
            " |        support the buffer protocol or be an iterable object producing bytes.\n",
            " |        Bytes and bytearray are examples of built-in objects that support the\n",
            " |        buffer protocol.\n",
            " |      byteorder\n",
            " |        The byte order used to represent the integer.  If byteorder is 'big',\n",
            " |        the most significant byte is at the beginning of the byte array.  If\n",
            " |        byteorder is 'little', the most significant byte is at the end of the\n",
            " |        byte array.  To request the native byte order of the host system, use\n",
            " |        `sys.byteorder' as the byte order value.\n",
            " |      signed\n",
            " |        Indicates whether two's complement is used to represent the integer.\n",
            " |  \n",
            " |  ----------------------------------------------------------------------\n",
            " |  Static methods defined here:\n",
            " |  \n",
            " |  __new__(*args, **kwargs) from builtins.type\n",
            " |      Create and return a new object.  See help(type) for accurate signature.\n",
            " |  \n",
            " |  ----------------------------------------------------------------------\n",
            " |  Data descriptors defined here:\n",
            " |  \n",
            " |  denominator\n",
            " |      the denominator of a rational number in lowest terms\n",
            " |  \n",
            " |  imag\n",
            " |      the imaginary part of a complex number\n",
            " |  \n",
            " |  numerator\n",
            " |      the numerator of a rational number in lowest terms\n",
            " |  \n",
            " |  real\n",
            " |      the real part of a complex number\n",
            "\n"
          ]
        }
      ]
    },
    {
      "cell_type": "code",
      "source": [
        "class int(object)\n",
        " |  int(x=0) -> integer\n",
        " |  int(x, base=10) -> integer\n",
        " |\n",
        " |  Convert a number or string to an integer, or return 0 if no arguments\n",
        " |  are given. If x is a number, return x.__int__(). For floating point\n",
        " |  numbers, this truncates towards zero.\n",
        " |\n",
        " |  If x is not a number or if base is given, then x must be a string or\n",
        " |  a bytes-like object representing an integer literal in the given base.\n",
        " |  ...\n",
        " |  ...\n",
        " |  ...\n"
      ],
      "metadata": {
        "id": "wAojFdotj5hM"
      },
      "execution_count": null,
      "outputs": []
    }
  ]
}