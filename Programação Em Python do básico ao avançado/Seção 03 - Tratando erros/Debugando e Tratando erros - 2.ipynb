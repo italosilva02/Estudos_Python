{
 "cells": [
  {
   "cell_type": "markdown",
   "id": "b7aced8a",
   "metadata": {},
   "source": [
    "### Try / Except / Else e Finally"
   ]
  },
  {
   "cell_type": "code",
   "execution_count": 1,
   "id": "1df88ad2",
   "metadata": {},
   "outputs": [
    {
     "name": "stdout",
     "output_type": "stream",
     "text": [
      "Informe um número: 7\n",
      "7\n"
     ]
    }
   ],
   "source": [
    "num = int(input('Informe um número: '))\n",
    "print(num)"
   ]
  },
  {
   "cell_type": "code",
   "execution_count": 2,
   "id": "3b5667af",
   "metadata": {},
   "outputs": [
    {
     "name": "stdout",
     "output_type": "stream",
     "text": [
      "Informe um número: 6\n",
      "6\n"
     ]
    }
   ],
   "source": [
    "num = int(input('Informe um número: '))\n",
    "print(num)"
   ]
  },
  {
   "cell_type": "code",
   "execution_count": 3,
   "id": "e12b582d",
   "metadata": {},
   "outputs": [
    {
     "name": "stdout",
     "output_type": "stream",
     "text": [
      "Informe um número: bvf\n",
      "A entrada deve ser um número\n"
     ]
    }
   ],
   "source": [
    "try:\n",
    "    num = int(input('Informe um número: '))\n",
    "    print(num)\n",
    "except ValueError as err:\n",
    "    print(f'A entrada deve ser um número')"
   ]
  },
  {
   "cell_type": "markdown",
   "id": "0b2abb2e",
   "metadata": {},
   "source": [
    "##### Else -> É executado somente de não ocorrer o erro"
   ]
  },
  {
   "cell_type": "code",
   "execution_count": 4,
   "id": "82b4e13d",
   "metadata": {},
   "outputs": [
    {
     "name": "stdout",
     "output_type": "stream",
     "text": [
      "Informe um número: ad\n",
      "A entrada deve ser um número\n"
     ]
    }
   ],
   "source": [
    "try:\n",
    "    num = int(input('Informe um número: '))\n",
    "except ValueError as err:\n",
    "    print(f'A entrada deve ser um número')\n",
    "else:\n",
    "    print(num)"
   ]
  },
  {
   "cell_type": "markdown",
   "id": "82ad11da",
   "metadata": {},
   "source": [
    "##### Finally"
   ]
  },
  {
   "cell_type": "code",
   "execution_count": 8,
   "id": "ce484aee",
   "metadata": {},
   "outputs": [
    {
     "name": "stdout",
     "output_type": "stream",
     "text": [
      "Informe um número: 6\n",
      "Você digitou o número 6\n",
      "Deseja tentar novamente? Digite sim ou não: abc\n",
      "Informe um número: s\n",
      "A entrada deve ser um número\n",
      "Deseja tentar novamente? Digite sim ou não: x\n",
      "Informe um número: 5\n",
      "Você digitou o número 5\n",
      "Deseja tentar novamente? Digite sim ou não: não\n"
     ]
    }
   ],
   "source": [
    "res = True\n",
    "while res == True:\n",
    "    try:\n",
    "        num = int(input('Informe um número: '))\n",
    "    except ValueError as err:\n",
    "        print(f'A entrada deve ser um número')\n",
    "    else:\n",
    "        print(f'Você digitou o número {num}')\n",
    "    finally:\n",
    "        srt = str(input('Deseja tentar novamente? Digite sim ou não: '))\n",
    "        if srt == 'não':\n",
    "            res = False\n",
    "    \n"
   ]
  },
  {
   "cell_type": "markdown",
   "id": "78f313c4",
   "metadata": {},
   "source": [
    "O finally, geralmente, é utilizado para fechar ou desalocar recurso"
   ]
  },
  {
   "cell_type": "code",
   "execution_count": 9,
   "id": "67bb5e7b",
   "metadata": {},
   "outputs": [],
   "source": [
    "def dividir(a,b):\n",
    "    return a/b"
   ]
  },
  {
   "cell_type": "code",
   "execution_count": 11,
   "id": "97d10438",
   "metadata": {},
   "outputs": [
    {
     "name": "stdout",
     "output_type": "stream",
     "text": [
      "Informe o primeiro número: 6\n",
      "Informe o segundo número: 5\n",
      "1.2\n"
     ]
    }
   ],
   "source": [
    "try:\n",
    "    num1 = int(input('Informe o primeiro número: '))\n",
    "except ValueError:\n",
    "    num1 = 0\n",
    "try:\n",
    "    num2 = int(input('Informe o segundo número: '))\n",
    "except ValueError:\n",
    "    num2 = 0\n",
    "    \n",
    "print(dividir(num1,num2))"
   ]
  },
  {
   "cell_type": "code",
   "execution_count": 12,
   "id": "b4e8e80b",
   "metadata": {},
   "outputs": [
    {
     "name": "stdout",
     "output_type": "stream",
     "text": [
      "Informe o primeiro número: bas\n",
      "Informe o segundo número: 5\n",
      "0.0\n"
     ]
    }
   ],
   "source": [
    "try:\n",
    "    num1 = int(input('Informe o primeiro número: '))\n",
    "except ValueError:\n",
    "    num1 = 0\n",
    "try:\n",
    "    num2 = int(input('Informe o segundo número: '))\n",
    "except ValueError:\n",
    "    num2 = 0\n",
    "    \n",
    "print(dividir(num1,num2))"
   ]
  },
  {
   "cell_type": "markdown",
   "id": "59a4030b",
   "metadata": {},
   "source": [
    "O tratamento de erro deve ser realizada dentro da propria função. "
   ]
  },
  {
   "cell_type": "markdown",
   "id": "c243d572",
   "metadata": {},
   "source": [
    "Você é responsável pelas entradas das suas funções. Então, trate-as!"
   ]
  },
  {
   "cell_type": "markdown",
   "id": "01058bfb",
   "metadata": {},
   "source": [
    "##### Exemplo Genérico"
   ]
  },
  {
   "cell_type": "code",
   "execution_count": 21,
   "id": "302f54be",
   "metadata": {},
   "outputs": [],
   "source": [
    "def dividir(a, b):\n",
    "    try:\n",
    "        return int(a) / int(b)\n",
    "    except ValueError:\n",
    "        return ('Valor informado incorreto')\n",
    "    except ZeroDivisionError:\n",
    "        return ('Não é possível dividir um número por zero')"
   ]
  },
  {
   "cell_type": "code",
   "execution_count": 22,
   "id": "052fe676",
   "metadata": {},
   "outputs": [
    {
     "name": "stdout",
     "output_type": "stream",
     "text": [
      "Informe o primeiro número: 4\n",
      "Informe o segundo número: 0\n",
      "Não é possível dividir um número por zero\n"
     ]
    }
   ],
   "source": [
    "num1 = input('Informe o primeiro número: ')\n",
    "num2 = input('Informe o segundo número: ')\n",
    "print(dividir(num1, num2))"
   ]
  },
  {
   "cell_type": "markdown",
   "id": "6ad8dc0d",
   "metadata": {},
   "source": [
    "##### Exemplo semi genérico"
   ]
  },
  {
   "cell_type": "code",
   "execution_count": 23,
   "id": "d487ea3b",
   "metadata": {},
   "outputs": [],
   "source": [
    "def dividir(a, b):\n",
    "    try:\n",
    "        return int(a) / int(b)\n",
    "    except (ValueError, ZeroDivisionError, NameError) as err:\n",
    "        return (f'Ocorreu um problema: {err}')"
   ]
  },
  {
   "cell_type": "code",
   "execution_count": 24,
   "id": "31738e98",
   "metadata": {},
   "outputs": [
    {
     "name": "stdout",
     "output_type": "stream",
     "text": [
      "Informe o primeiro número: saa\n",
      "Informe o segundo número: 5\n",
      "Ocorreu um problema: invalid literal for int() with base 10: 'saa'\n"
     ]
    }
   ],
   "source": [
    "num1 = input('Informe o primeiro número: ')\n",
    "num2 = input('Informe o segundo número: ')\n",
    "print(dividir(num1, num2))"
   ]
  },
  {
   "cell_type": "code",
   "execution_count": null,
   "id": "b66ad4fd",
   "metadata": {},
   "outputs": [],
   "source": []
  }
 ],
 "metadata": {
  "kernelspec": {
   "display_name": "Python 3 (ipykernel)",
   "language": "python",
   "name": "python3"
  },
  "language_info": {
   "codemirror_mode": {
    "name": "ipython",
    "version": 3
   },
   "file_extension": ".py",
   "mimetype": "text/x-python",
   "name": "python",
   "nbconvert_exporter": "python",
   "pygments_lexer": "ipython3",
   "version": "3.9.13"
  }
 },
 "nbformat": 4,
 "nbformat_minor": 5
}
