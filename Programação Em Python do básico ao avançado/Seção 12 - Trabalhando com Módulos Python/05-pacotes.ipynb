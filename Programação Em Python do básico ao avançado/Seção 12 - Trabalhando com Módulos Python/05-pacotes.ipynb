{
 "cells": [
  {
   "cell_type": "markdown",
   "id": "e9c08cf3",
   "metadata": {},
   "source": [
    "# Módulo"
   ]
  },
  {
   "cell_type": "markdown",
   "id": "cb7527d7",
   "metadata": {},
   "source": [
    "É apenas um arquivo pythin que pode ter diversas funções para utilizarmos;"
   ]
  },
  {
   "cell_type": "markdown",
   "id": "ac91b90a",
   "metadata": {},
   "source": [
    "# Pacote"
   ]
  },
  {
   "cell_type": "code",
   "execution_count": null,
   "id": "f4a8cf48",
   "metadata": {},
   "outputs": [],
   "source": [
    "É um diretório contendo uma coleção de módulos"
   ]
  },
  {
   "cell_type": "markdown",
   "id": "6e1aee65",
   "metadata": {},
   "source": [
    "Nas versões 2.x do python do python, um pacote python deveria conter dentro dela um arquivo chamado __init__.py. Nas versões do Python 3.x, não é mais obrigatório a utilização deste arquivo, mas normanete ainda é utilizado para manter a compatibilidade"
   ]
  },
  {
   "cell_type": "markdown",
   "id": "de27475f",
   "metadata": {},
   "source": [
    "Para criar um pacote em Jupyter Notebook, você precisa seguir os seguintes passos:\n",
    "\n",
    "Crie um novo diretório para o pacote, onde você irá armazenar todos os arquivos relacionados ao pacote.\n",
    "\n",
    "Crie um arquivo __init__.py no diretório. Este arquivo é necessário para tornar o diretório um pacote Python válido.\n",
    "\n",
    "Crie um ou mais arquivos Python contendo as funções ou classes que você deseja incluir no pacote.\n",
    "\n",
    "No Jupyter Notebook, importe as funções ou classes do arquivo Python usando a seguinte sintaxe:\n",
    "\n",
    "python\n",
    "Copy code\n",
    "from nome_do_pacote.nome_do_arquivo import nome_da_funcao\n",
    "Certifique-se de especificar o nome completo do pacote e do arquivo que contém a função que você deseja usar.\n",
    "\n",
    "Para usar as funções ou classes em outro arquivo ou notebook, você pode simplesmente importá-las usando a sintaxe acima.\n",
    "\n",
    "Quando estiver pronto para compartilhar o pacote com outras pessoas, você pode empacotá-lo em um arquivo .tar.gz ou .whl. Para isso, você pode usar ferramentas como setuptools ou wheel.\n",
    "\n",
    "Para instalar o pacote em outro ambiente Python, você pode usar o pip, especificando o caminho para o arquivo .tar.gz ou .whl:\n",
    "\n",
    "bash\n",
    "Copy code\n",
    "pip install /caminho/para/arquivo.tar.gz\n",
    "Lembre-se de que o pacote deve ser instalado em cada ambiente Python no qual você deseja usá-lo."
   ]
  },
  {
   "cell_type": "markdown",
   "id": "9fa9ac2b",
   "metadata": {},
   "source": [
    "Em Python, um pacote é uma estrutura organizacional usada para agrupar módulos relacionados. Um pacote é simplesmente um diretório que contém um arquivo especial chamado __init__.py. O __init__.py é executado quando o pacote é importado e pode conter código que inicializa o pacote ou fornece informações adicionais sobre o pacote.\n",
    "\n",
    "Por exemplo, suponha que você esteja trabalhando em um projeto que envolve matemática e estatística. Você pode organizar seu código em um pacote chamado mathstats, que contém módulos para cálculos matemáticos, estatísticos e gráficos. A estrutura do pacote pode ser a seguinte:"
   ]
  },
  {
   "cell_type": "markdown",
   "id": "63c91c81",
   "metadata": {},
   "source": [
    "mathstats/\n",
    "    __init__.py\n",
    "    math/\n",
    "        __init__.py\n",
    "        algebra.py\n",
    "        geometry.py\n",
    "    stats/\n",
    "        __init__.py\n",
    "        descriptive.py\n",
    "        inferential.py\n",
    "    plots/\n",
    "        __init__.py\n",
    "        lineplots.py\n",
    "        scatterplots.py"
   ]
  },
  {
   "cell_type": "markdown",
   "id": "d6191c40",
   "metadata": {},
   "source": [
    "Neste exemplo, o diretório mathstats é o pacote principal e contém subpacotes math, stats e plots, cada um dos quais contém módulos relacionados.\n",
    "\n",
    "Para usar um módulo de um pacote em seu código, você pode importá-lo usando a seguinte sintaxe:"
   ]
  },
  {
   "cell_type": "code",
   "execution_count": null,
   "id": "cf931187",
   "metadata": {},
   "outputs": [],
   "source": [
    "## import mathstats.math.algebra"
   ]
  },
  {
   "cell_type": "markdown",
   "id": "6021cdc5",
   "metadata": {},
   "source": [
    "Isso importa o módulo algebra.py do subpacote math do pacote mathstats. Você também pode importar um módulo específico de um pacote da seguinte forma:"
   ]
  },
  {
   "cell_type": "code",
   "execution_count": null,
   "id": "5f46a18b",
   "metadata": {},
   "outputs": [],
   "source": [
    "## from mathstats.stats import descriptive"
   ]
  },
  {
   "cell_type": "code",
   "execution_count": null,
   "id": "cc0f1bb8",
   "metadata": {},
   "outputs": [],
   "source": [
    "Isso importa o módulo descriptive.py do subpacote stats do pacote mathstats e permite que você use as funções definidas nesse módulo diretamente, sem a necessidade de especificar o nome completo do módulo ao chamar essas funções.\n",
    "\n",
    "Os pacotes são uma maneira útil de organizar e modularizar seu código em projetos maiores, permitindo que você gerencie e reutilize o código com mais facilidade."
   ]
  }
 ],
 "metadata": {
  "kernelspec": {
   "display_name": "Python 3 (ipykernel)",
   "language": "python",
   "name": "python3"
  },
  "language_info": {
   "codemirror_mode": {
    "name": "ipython",
    "version": 3
   },
   "file_extension": ".py",
   "mimetype": "text/x-python",
   "name": "python",
   "nbconvert_exporter": "python",
   "pygments_lexer": "ipython3",
   "version": "3.9.13"
  }
 },
 "nbformat": 4,
 "nbformat_minor": 5
}
