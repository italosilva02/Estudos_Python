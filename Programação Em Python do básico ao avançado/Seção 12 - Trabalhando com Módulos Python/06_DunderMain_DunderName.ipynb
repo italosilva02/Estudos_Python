{
  "nbformat": 4,
  "nbformat_minor": 0,
  "metadata": {
    "colab": {
      "provenance": []
    },
    "kernelspec": {
      "name": "python3",
      "display_name": "Python 3"
    },
    "language_info": {
      "name": "python"
    }
  },
  "cells": [
    {
      "cell_type": "markdown",
      "source": [
        "# **Dunder Main e Dunder Name**"
      ],
      "metadata": {
        "id": "u_226LUJD39a"
      }
    },
    {
      "cell_type": "markdown",
      "source": [
        "**__main__** e **__name__** são atributos especiais em Python que são usados ​​para controlar o comportamento de um módulo quando é executado como um programa.\n",
        "\n",
        "Quando um módulo Python é importado em outro módulo, o interpretador executa todo o código no módulo importado. Às vezes, porém, pode ser necessário executar apenas uma parte específica do código quando o módulo é executado diretamente como um programa. É aqui que os atributos __main__ e **__name__** se tornam úteis.\n",
        "\n",
        "O atributo **__name__** é uma variável especial que contém o nome do módulo atual. Quando um módulo é importado em outro módulo, o valor de **__name__** é definido como o nome do módulo importado. No entanto, quando um módulo é executado diretamente como um programa, o valor de **__name__** é definido como **__main__**. Isso significa que você pode usar o valor de **__name__** para distinguir entre as duas situações e executar código específico do módulo somente quando ele é executado diretamente como um programa.\n",
        "\n",
        "Por exemplo, suponha que você tenha um módulo chamado utils.py que define várias funções úteis. Você pode incluir um trecho de código no final do módulo que será executado somente quando o módulo é executado diretamente como um programa, e não quando é importado em outro módulo. Você pode fazer isso usando o seguinte padrão:"
      ],
      "metadata": {
        "id": "0Tqz45aLEHxz"
      }
    },
    {
      "cell_type": "code",
      "source": [
        "if __name__ == '__main__':\n",
        "    # Código para ser executado somente quando o módulo é executado diretamente\n"
      ],
      "metadata": {
        "id": "I9VYJi7CEUsZ"
      },
      "execution_count": null,
      "outputs": []
    },
    {
      "cell_type": "markdown",
      "source": [
        "Dessa forma, o código dentro do bloco if só será executado quando o módulo utils.py for executado diretamente como um programa, e não quando ele for importado em outro módulo.\n",
        "\n",
        "O atributo __main__ é usado em conjunto com o __name__ para determinar o comportamento do módulo quando é executado diretamente. Quando o módulo é executado como um programa, o interpretador define o valor de __name__ como __main__. Isso permite que você execute um trecho de código específico do módulo somente quando ele é executado diretamente como um programa."
      ],
      "metadata": {
        "id": "HtEj4psSEcj3"
      }
    },
    {
      "cell_type": "markdown",
      "source": [
        "Dunder significa doble under. Por conta do doble underlane que tem no começo e no fim dos pacotes)\n",
        "\n",
        "Dunder main -> __main__\n",
        "Dunder name -> __name__"
      ],
      "metadata": {
        "id": "SV0mMXE8Uc2T"
      }
    },
    {
      "cell_type": "code",
      "source": [
        "dir()"
      ],
      "metadata": {
        "colab": {
          "base_uri": "https://localhost:8080/"
        },
        "id": "8XpmA6orUu3q",
        "outputId": "4091e01a-f7e4-49d0-d4c2-a975faeb602a"
      },
      "execution_count": 2,
      "outputs": [
        {
          "output_type": "execute_result",
          "data": {
            "text/plain": [
              "['In',\n",
              " 'Out',\n",
              " '_',\n",
              " '__',\n",
              " '___',\n",
              " '__builtin__',\n",
              " '__builtins__',\n",
              " '__doc__',\n",
              " '__loader__',\n",
              " '__name__',\n",
              " '__package__',\n",
              " '__spec__',\n",
              " '_dh',\n",
              " '_i',\n",
              " '_i1',\n",
              " '_i2',\n",
              " '_ih',\n",
              " '_ii',\n",
              " '_iii',\n",
              " '_oh',\n",
              " 'exit',\n",
              " 'get_ipython',\n",
              " 'quit']"
            ]
          },
          "metadata": {},
          "execution_count": 2
        }
      ]
    },
    {
      "cell_type": "markdown",
      "source": [
        "**Em python, são utilizados dunder para criar funções, atributos/propriedade e etc utilizando Double Under para não gerar conflitos com os nomes desses elementos na programação**"
      ],
      "metadata": {
        "id": "NVlG0Tu9UzO3"
      }
    },
    {
      "cell_type": "markdown",
      "source": [
        "Na linguagem C, temos um programa da seguinte forma:\n",
        "\n",
        "    int main(){\n",
        "\n",
        "      return 0;\n",
        "\n",
        "    }"
      ],
      "metadata": {
        "id": "TZaJtHdrVFBO"
      }
    },
    {
      "cell_type": "markdown",
      "source": [
        "Em java temos:\n",
        "\n",
        "    public static void main(String[] args){\n",
        "\n",
        "    }"
      ],
      "metadata": {
        "id": "Dr7jggfqVVZ8"
      }
    },
    {
      "cell_type": "markdown",
      "source": [
        "Em python não temos isso. \n",
        "Em python se executarmos um módulo Python diretamente na linha de comando, internamente o python atribuirá à variável __name__ o valor __main__ indicando que este módulo é o módulo de execução principal."
      ],
      "metadata": {
        "id": "8R_-dL97VgI6"
      }
    },
    {
      "cell_type": "code",
      "source": [
        "print(__name__)"
      ],
      "metadata": {
        "colab": {
          "base_uri": "https://localhost:8080/"
        },
        "id": "8ZQ7cOiVV1Vl",
        "outputId": "df8263fb-9a30-4a4f-989c-5d72005d90d1"
      },
      "execution_count": 3,
      "outputs": [
        {
          "output_type": "stream",
          "name": "stdout",
          "text": [
            "__main__\n"
          ]
        }
      ]
    },
    {
      "cell_type": "markdown",
      "source": [
        "__main__ significa o programa principal"
      ],
      "metadata": {
        "id": "LM4RSlagWl11"
      }
    },
    {
      "cell_type": "code",
      "source": [
        "if __name__ == '__main__':\n",
        "  lista = [1,2,3,4,5,6,7]"
      ],
      "metadata": {
        "id": "JiDebWKyWaKu"
      },
      "execution_count": 4,
      "outputs": []
    },
    {
      "cell_type": "code",
      "source": [],
      "metadata": {
        "id": "cArIbQl3Wu8W"
      },
      "execution_count": null,
      "outputs": []
    }
  ]
}