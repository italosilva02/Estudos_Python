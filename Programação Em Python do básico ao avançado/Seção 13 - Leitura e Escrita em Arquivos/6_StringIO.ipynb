{
 "cells": [
  {
   "cell_type": "markdown",
   "id": "28d2662a",
   "metadata": {},
   "source": [
    "# StringIO"
   ]
  },
  {
   "cell_type": "markdown",
   "id": "3e7bac7c",
   "metadata": {},
   "source": [
    "Para ler ou escrever dados em arquivos do sistema operacioal o software precisa ter permissão:\n",
    "    - Para ler o arquivo\n",
    "    - Para escrever no arquivo"
   ]
  },
  {
   "cell_type": "markdown",
   "id": "64864b15",
   "metadata": {},
   "source": [
    "StringIO é um módulo do Python que permite criar objetos de fluxo de texto que podem ser manipulados como se fossem arquivos de texto. Ele fornece uma interface de arquivo em memória para manipular dados de texto, permitindo ler e escrever strings em um objeto sem a necessidade de criar um arquivo físico no disco.\n",
    "\n",
    "O StringIO é útil em muitas situações, como quando você precisa trabalhar com dados de texto que não estão armazenados em um arquivo físico, ou quando deseja manipular dados de texto na memória sem escrevê-los em um arquivo.\n",
    "\n",
    "Para utilizar o StringIO, é necessário importá-lo através da biblioteca io. Para criar um objeto StringIO, basta instanciá-lo com uma string inicial:"
   ]
  },
  {
   "cell_type": "markdown",
   "id": "503ad5cd",
   "metadata": {},
   "source": [
    "StringIO -> Utilizado para ler e criar arquivos em memória"
   ]
  },
  {
   "cell_type": "code",
   "execution_count": 6,
   "id": "3971bc1b",
   "metadata": {},
   "outputs": [],
   "source": [
    "# Primeiro fazemos o import\n",
    "import io\n",
    "\n",
    "mensagem = 'Está é apenas uma string normal'"
   ]
  },
  {
   "cell_type": "code",
   "execution_count": 9,
   "id": "3cbff56e",
   "metadata": {},
   "outputs": [
    {
     "data": {
      "text/plain": [
       "['BlockingIOError',\n",
       " 'BufferedIOBase',\n",
       " 'BufferedRWPair',\n",
       " 'BufferedRandom',\n",
       " 'BufferedReader',\n",
       " 'BufferedWriter',\n",
       " 'BytesIO',\n",
       " 'DEFAULT_BUFFER_SIZE',\n",
       " 'FileIO',\n",
       " 'IOBase',\n",
       " 'IncrementalNewlineDecoder',\n",
       " 'OpenWrapper',\n",
       " 'RawIOBase',\n",
       " 'SEEK_CUR',\n",
       " 'SEEK_END',\n",
       " 'SEEK_SET',\n",
       " 'StringIO',\n",
       " 'TextIOBase',\n",
       " 'TextIOWrapper',\n",
       " 'UnsupportedOperation',\n",
       " '_WindowsConsoleIO',\n",
       " '__all__',\n",
       " '__author__',\n",
       " '__builtins__',\n",
       " '__cached__',\n",
       " '__doc__',\n",
       " '__file__',\n",
       " '__loader__',\n",
       " '__name__',\n",
       " '__package__',\n",
       " '__spec__',\n",
       " '_io',\n",
       " 'abc',\n",
       " 'open',\n",
       " 'open_code']"
      ]
     },
     "execution_count": 9,
     "metadata": {},
     "output_type": "execute_result"
    }
   ],
   "source": [
    "dir(io)"
   ]
  },
  {
   "cell_type": "code",
   "execution_count": 7,
   "id": "c67079c5",
   "metadata": {},
   "outputs": [],
   "source": [
    "#Podemos criar um arquivo em memória já com uma string inserida ou mesmo vazio para inserirmos texto depois"
   ]
  },
  {
   "cell_type": "code",
   "execution_count": 12,
   "id": "da56016e",
   "metadata": {},
   "outputs": [],
   "source": [
    "arquivo = io.StringIO(mensagem)"
   ]
  },
  {
   "cell_type": "code",
   "execution_count": 13,
   "id": "0e189c90",
   "metadata": {},
   "outputs": [
    {
     "name": "stdout",
     "output_type": "stream",
     "text": [
      "Está é apenas uma string normal\n"
     ]
    }
   ],
   "source": [
    "print(arquivo.read())"
   ]
  },
  {
   "cell_type": "code",
   "execution_count": null,
   "id": "3005b51b",
   "metadata": {},
   "outputs": [],
   "source": [
    "# Escrevendo outros textos"
   ]
  },
  {
   "cell_type": "code",
   "execution_count": 23,
   "id": "6a36b163",
   "metadata": {},
   "outputs": [
    {
     "data": {
      "text/plain": [
       "12"
      ]
     },
     "execution_count": 23,
     "metadata": {},
     "output_type": "execute_result"
    }
   ],
   "source": [
    "arquivo.write('Outro texto\\n')"
   ]
  },
  {
   "cell_type": "code",
   "execution_count": 24,
   "id": "e7ecc51a",
   "metadata": {},
   "outputs": [
    {
     "data": {
      "text/plain": [
       "0"
      ]
     },
     "execution_count": 24,
     "metadata": {},
     "output_type": "execute_result"
    }
   ],
   "source": [
    "arquivo.seek(0)"
   ]
  },
  {
   "cell_type": "code",
   "execution_count": 25,
   "id": "cd58d8ea",
   "metadata": {},
   "outputs": [
    {
     "data": {
      "text/plain": [
       "'Está é apenas uma string normal\\nOutro textoOutro texto\\nOutro textoOutro texto\\n'"
      ]
     },
     "execution_count": 25,
     "metadata": {},
     "output_type": "execute_result"
    }
   ],
   "source": [
    "arquivo.read()"
   ]
  },
  {
   "cell_type": "code",
   "execution_count": null,
   "id": "cb63ce16",
   "metadata": {},
   "outputs": [],
   "source": []
  }
 ],
 "metadata": {
  "kernelspec": {
   "display_name": "Python 3 (ipykernel)",
   "language": "python",
   "name": "python3"
  },
  "language_info": {
   "codemirror_mode": {
    "name": "ipython",
    "version": 3
   },
   "file_extension": ".py",
   "mimetype": "text/x-python",
   "name": "python",
   "nbconvert_exporter": "python",
   "pygments_lexer": "ipython3",
   "version": "3.9.13"
  }
 },
 "nbformat": 4,
 "nbformat_minor": 5
}
