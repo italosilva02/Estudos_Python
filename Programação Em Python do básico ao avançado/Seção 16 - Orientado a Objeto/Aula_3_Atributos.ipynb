{
  "nbformat": 4,
  "nbformat_minor": 0,
  "metadata": {
    "colab": {
      "provenance": []
    },
    "kernelspec": {
      "name": "python3",
      "display_name": "Python 3"
    },
    "language_info": {
      "name": "python"
    }
  },
  "cells": [
    {
      "cell_type": "markdown",
      "source": [
        "# Orientado a Objeto - Atributos"
      ],
      "metadata": {
        "id": "hFBYL-gvt4IS"
      }
    },
    {
      "cell_type": "markdown",
      "source": [
        "Atributos representa as carácteristicas do objeto.\n",
        "Atráves dos atributos podemos representar computacionalmente os estados de um objeto"
      ],
      "metadata": {
        "id": "_WaimqAPt8QC"
      }
    },
    {
      "cell_type": "markdown",
      "source": [
        "Atributos em programação orientada a objetos (POO) em Python são variáveis que armazenam informações associadas a um objeto. Eles representam características ou propriedades dos objetos criados a partir de uma classe. Os atributos podem conter diversos tipos de dados, como números, strings, listas, outras classes ou até mesmo funções.\n",
        "\n",
        "Existem dois tipos principais de atributos em POO:\n",
        "\n",
        "1. **Atributos de Instância:** Esses atributos pertencem a instâncias individuais de uma classe. Cada objeto criado a partir da classe tem sua própria cópia dos atributos de instância. Eles são definidos no método especial `__init__()` da classe, que é chamado quando um novo objeto é criado. Os atributos de instância são acessados usando a notação de ponto (`objeto.atributo`).\n",
        "\n",
        "2. **Atributos de Classe:** Esses atributos são compartilhados por todas as instâncias de uma classe. Eles são definidos diretamente na classe, fora dos métodos de instância. Os atributos de classe são acessados usando a notação de ponto e o nome da classe (`Classe.atributo`).\n",
        "\n",
        "Aqui está um exemplo que ilustra ambos os tipos de atributos em Python:\n",
        "\n",
        "\n",
        "No exemplo acima, `especie` é um atributo de classe que é compartilhado por todas as instâncias da classe `Pessoa`. Por outro lado, `nome` e `idade` são atributos de instância específicos para cada objeto `Pessoa`.\n",
        "\n",
        "A utilização de atributos em POO permite que os objetos armazenem e representem informações relevantes para o problema que está sendo resolvido, tornando o código mais organizado e orientado a objetos."
      ],
      "metadata": {
        "id": "iRaxHqOVuOT6"
      }
    },
    {
      "cell_type": "code",
      "source": [
        "class Pessoa:\n",
        "    # Atributo de Classe\n",
        "    especie = \"Humano\"\n",
        "\n",
        "    def __init__(self, nome, idade):\n",
        "        # Atributos de Instância\n",
        "        self.nome = nome\n",
        "        self.idade = idade\n",
        "\n",
        "# Criar instâncias da classe Pessoa\n",
        "pessoa1 = Pessoa(\"Alice\", 25)\n",
        "pessoa2 = Pessoa(\"Bob\", 30)\n",
        "\n",
        "# Acessar atributos de instância\n",
        "print(pessoa1.nome)  # Alice\n",
        "print(pessoa2.idade) # 30\n",
        "\n",
        "# Acessar atributo de classe\n",
        "print(pessoa1.especie)  # Humano\n",
        "print(pessoa2.especie)  # Humano (o mesmo valor para todas as instâncias)"
      ],
      "metadata": {
        "colab": {
          "base_uri": "https://localhost:8080/"
        },
        "id": "zcxKlNRSuayZ",
        "outputId": "a3e277d4-30d9-4afb-c2f4-9637540d8015"
      },
      "execution_count": null,
      "outputs": [
        {
          "output_type": "stream",
          "name": "stdout",
          "text": [
            "Alice\n",
            "30\n",
            "Humano\n",
            "Humano\n"
          ]
        }
      ]
    },
    {
      "cell_type": "code",
      "source": [
        "#Em Java\n",
        "\n",
        "public class Pessoa {\n",
        "    // Atributo de Classe\n",
        "    static String especie = \"Humano\";\n",
        "\n",
        "    // Atributos de Instância\n",
        "    String nome;\n",
        "    int idade;\n",
        "\n",
        "    // Construtor\n",
        "    public Pessoa(String nome, int idade) {\n",
        "        this.nome = nome;\n",
        "        this.idade = idade;\n",
        "    }\n",
        "\n",
        "    public static void main(String[] args) {\n",
        "        // Criar instâncias da classe Pessoa\n",
        "        Pessoa pessoa1 = new Pessoa(\"Alice\", 25);\n",
        "        Pessoa pessoa2 = new Pessoa(\"Bob\", 30);\n",
        "\n",
        "        // Acessar atributos de instância\n",
        "        System.out.println(pessoa1.nome);  // Alice\n",
        "        System.out.println(pessoa2.idade); // 30\n",
        "\n",
        "        // Acessar atributo de classe\n",
        "        System.out.println(Pessoa.especie); // Humano (o mesmo valor para todas as instâncias)\n",
        "    }\n",
        "}\n"
      ],
      "metadata": {
        "id": "KtXq5v_kvYR8"
      },
      "execution_count": null,
      "outputs": []
    },
    {
      "cell_type": "markdown",
      "source": [
        "## Atributos de Instância"
      ],
      "metadata": {
        "id": "rv3azCyeuorj"
      }
    },
    {
      "cell_type": "markdown",
      "source": [
        "São atributos declarados dentro do método construtor.\n",
        "Método contrutor é um método especial utilizado para construção do objeto"
      ],
      "metadata": {
        "id": "f5fl7Np8uvve"
      }
    },
    {
      "cell_type": "code",
      "source": [
        "#Método construtor\n",
        "\n",
        "class Lampada:\n",
        "  def __init(self, voltagem, cor):\n",
        "    self.__voltagem = voltagem #Duplo underline serve como private do Java. Se ele é privado, somente dentro da classe podemos ter acesso\n",
        "    self.__cor = cor\n",
        "    self.__ligada = False\n",
        "\n",
        "class ContaCorrente:\n",
        "  def __init__(self, numero, limite, saldo):\n",
        "    self.numero = numero\n",
        "    self.limite = limite\n",
        "    self.saldo = saldo\n",
        "\n",
        "class Produto:\n",
        "  def __init__(self, nome, preco):\n",
        "    self.nome = nome\n",
        "    self.preco = preco\n",
        "\n",
        "class Usuario:\n",
        "  def __init__(self, nome, login):\n",
        "    self.nome = nome\n",
        "    self.login = login"
      ],
      "metadata": {
        "id": "W5KEVcpfwB_E"
      },
      "execution_count": null,
      "outputs": []
    },
    {
      "cell_type": "code",
      "source": [
        "dir(Usuario)"
      ],
      "metadata": {
        "colab": {
          "base_uri": "https://localhost:8080/"
        },
        "id": "IpmGqkWIygOP",
        "outputId": "9506b0a5-c5b3-466b-8d95-55131d620ead"
      },
      "execution_count": null,
      "outputs": [
        {
          "output_type": "execute_result",
          "data": {
            "text/plain": [
              "['__class__',\n",
              " '__delattr__',\n",
              " '__dict__',\n",
              " '__dir__',\n",
              " '__doc__',\n",
              " '__eq__',\n",
              " '__format__',\n",
              " '__ge__',\n",
              " '__getattribute__',\n",
              " '__gt__',\n",
              " '__hash__',\n",
              " '__init__',\n",
              " '__init_subclass__',\n",
              " '__le__',\n",
              " '__lt__',\n",
              " '__module__',\n",
              " '__ne__',\n",
              " '__new__',\n",
              " '__reduce__',\n",
              " '__reduce_ex__',\n",
              " '__repr__',\n",
              " '__setattr__',\n",
              " '__sizeof__',\n",
              " '__str__',\n",
              " '__subclasshook__',\n",
              " '__weakref__']"
            ]
          },
          "metadata": {},
          "execution_count": 10
        }
      ]
    },
    {
      "cell_type": "code",
      "source": [
        "pessoa = Usuario('Kaio', 'jotg743') # Método construtor é executado (__init__)"
      ],
      "metadata": {
        "id": "hgkpUoATy1hG"
      },
      "execution_count": null,
      "outputs": []
    },
    {
      "cell_type": "markdown",
      "source": [
        "No contexto da programação orientada a objetos (POO) em Python, self é uma convenção usada para se referir à instância atual de uma classe dentro dos métodos dessa classe. Ele é um parâmetro especial que deve ser o primeiro parâmetro em todos os métodos de instância, incluindo o construtor (__init__), em Python.\n",
        "\n",
        "A utilização do parâmetro self permite que os métodos acessem os atributos e métodos da própria instância da classe. Isso é fundamental para que os métodos possam interagir com as informações específicas de cada objeto criado a partir dessa classe.\n",
        "\n",
        "Aqui está um exemplo para ilustrar como self é usado:"
      ],
      "metadata": {
        "id": "O9ouN2puzMbG"
      }
    },
    {
      "cell_type": "code",
      "source": [
        "class Pessoa:\n",
        "    def __init__(self, nome, idade):\n",
        "        self.nome = nome\n",
        "        self.idade = idade\n",
        "\n",
        "    def apresentar(self):\n",
        "        print(f\"Olá, meu nome é {self.nome} e eu tenho {self.idade} anos.\")\n",
        "\n",
        "# Criar instância da classe Pessoa\n",
        "pessoa1 = Pessoa(\"Alice\", 25)\n",
        "\n",
        "# Chamar o método apresentar da instância\n",
        "pessoa1.apresentar()\n"
      ],
      "metadata": {
        "id": "V36dNxsJzN6p"
      },
      "execution_count": null,
      "outputs": []
    },
    {
      "cell_type": "markdown",
      "source": [
        "No exemplo acima, o método __init__ recebe o parâmetro self, que faz referência à instância sendo criada. O mesmo vale para o método apresentar(), onde usamos self.nome e self.idade para acessar os atributos da instância.\n",
        "\n",
        "O uso de self é uma característica importante do Python, pois permite que as instâncias das classes mantenham seu próprio estado e comportamento. Cada instância tem sua própria cópia dos atributos e pode executar métodos com base nesses atributos."
      ],
      "metadata": {
        "id": "Q2e8bDnmzSGO"
      }
    },
    {
      "cell_type": "markdown",
      "source": [
        "#Atributos públicos\n",
        "#Atributos privados"
      ],
      "metadata": {
        "id": "J4bdRWhAzsVX"
      }
    },
    {
      "cell_type": "markdown",
      "source": [
        "Em Python, você pode definir atributos em classes como públicos ou privados, mas vale a pena mencionar que o conceito de acesso a atributos é mais uma convenção do que uma regra estrita, já que o acesso a atributos \"privados\" ainda é possível, embora não seja encorajado. Vamos entender os dois tipos:"
      ],
      "metadata": {
        "id": "lOU9_AE10ClR"
      }
    },
    {
      "cell_type": "markdown",
      "source": [
        "## Atributos Públicos:\n",
        "Atributos públicos são aqueles que podem ser acessados diretamente fora da classe, sem a necessidade de métodos intermediários. Eles são acessíveis por qualquer parte do código que tenha uma referência a uma instância da classe. A convenção para atributos públicos é escrever seus nomes em minúsculas ou usando a convenção \"snake_case\" (palavras separadas por underscores)."
      ],
      "metadata": {
        "id": "0swscKja0Iue"
      }
    },
    {
      "cell_type": "code",
      "source": [
        "class Pessoa:\n",
        "    def __init__(self, nome):\n",
        "        self.nome = nome  # Atributo público\n",
        "\n",
        "pessoa = Pessoa(\"Alice\")\n",
        "print(pessoa.nome)  # Acesso direto ao atributo público\n"
      ],
      "metadata": {
        "id": "MUyGs7M-0IHw"
      },
      "execution_count": null,
      "outputs": []
    },
    {
      "cell_type": "markdown",
      "source": [
        "## Atributos Privados:\n",
        "Atributos privados são considerados como sendo \"internos\" à classe e não devem ser acessados diretamente fora da classe. Por convenção, nomes de atributos privados começam com um único sublinhado _ (embora ainda sejam acessíveis). A prática recomendada é usar métodos para manipular esses atributos."
      ],
      "metadata": {
        "id": "n9Wz3Fwj0Nwc"
      }
    },
    {
      "cell_type": "code",
      "source": [
        "class Pessoa:\n",
        "    def __init__(self, nome, idade):\n",
        "        self.nome = nome  # Atributo público\n",
        "        self._idade = idade  # Atributo privado (convenção)\n",
        "\n",
        "    def get_idade(self):  # Método para acessar o atributo privado\n",
        "        return self._idade\n",
        "\n",
        "    def set_idade(self, idade):  # Método para modificar o atributo privado\n",
        "        if idade > 0:\n",
        "            self._idade = idade\n",
        "\n",
        "pessoa = Pessoa(\"Alice\", 25)\n",
        "print(pessoa.get_idade())  # Usando um método para acessar o atributo privado\n",
        "pessoa.set_idade(30)  # Usando um método para modificar o atributo privado\n"
      ],
      "metadata": {
        "id": "X20LqIOh0TAj"
      },
      "execution_count": null,
      "outputs": []
    },
    {
      "cell_type": "markdown",
      "source": [
        "Lembre-se de que mesmo atributos considerados privados podem ser acessados em Python, embora a convenção e a boa prática sugiram que você use métodos para manipulá-los e garantir uma encapsulação mais eficaz."
      ],
      "metadata": {
        "id": "Al-iYc9q0Vys"
      }
    },
    {
      "cell_type": "markdown",
      "source": [
        "Em python, por convenção, ficou estabelecido que, todo atributo de uma classe é pública.\n",
        "\n",
        "\n",
        "Ou seja, pode ser acessado em todo programa.\n",
        "\n",
        "Caso queira demonstrar que determinado atribut deve ser tratado como privado, ou seja, que deve ser acessadi/utilizado da própria classe está declarada, utiliza-se o __ duplo underscore no início de seu nome.\n",
        "\n",
        "Isso é chamado de Name Mangling"
      ],
      "metadata": {
        "id": "PntBdMKS0ETW"
      }
    },
    {
      "cell_type": "code",
      "source": [
        "class Acesso:\n",
        "  def __init__(self, email, nome, telefone):\n",
        "    self.email = email\n",
        "    self.__nome = nome\n",
        "    self.__telefone = telefone\n",
        "\n",
        "  def mostra_nome(self):\n",
        "    return self.__nome"
      ],
      "metadata": {
        "id": "sGjIojUSKqQl"
      },
      "execution_count": null,
      "outputs": []
    },
    {
      "cell_type": "code",
      "source": [
        "novo_usuario = Acesso('italosilva@gmail.com', 'Italo Silva', '62987454321')"
      ],
      "metadata": {
        "id": "kMHuUjXyK7Lg"
      },
      "execution_count": null,
      "outputs": []
    },
    {
      "cell_type": "code",
      "source": [
        "print(novo_usuario.email)"
      ],
      "metadata": {
        "colab": {
          "base_uri": "https://localhost:8080/"
        },
        "id": "AT_ohTrgLFyS",
        "outputId": "bfc14d7a-a596-4823-f2c8-eefc754e3ff8"
      },
      "execution_count": null,
      "outputs": [
        {
          "output_type": "stream",
          "name": "stdout",
          "text": [
            "italosilva@gmail.com\n"
          ]
        }
      ]
    },
    {
      "cell_type": "code",
      "source": [
        "print(novo_usuario.telefone) #retorna um erro porque o atributo telefone é privado\n",
        "#Isso é apenas um nível de segurança."
      ],
      "metadata": {
        "colab": {
          "base_uri": "https://localhost:8080/",
          "height": 176
        },
        "id": "GhUpFF13LYz1",
        "outputId": "617c952b-cc14-49c2-f8c0-cc5785f08ced"
      },
      "execution_count": null,
      "outputs": [
        {
          "output_type": "error",
          "ename": "AttributeError",
          "evalue": "ignored",
          "traceback": [
            "\u001b[0;31m---------------------------------------------------------------------------\u001b[0m",
            "\u001b[0;31mAttributeError\u001b[0m                            Traceback (most recent call last)",
            "\u001b[0;32m<ipython-input-9-1965f5414735>\u001b[0m in \u001b[0;36m<cell line: 1>\u001b[0;34m()\u001b[0m\n\u001b[0;32m----> 1\u001b[0;31m \u001b[0mprint\u001b[0m\u001b[0;34m(\u001b[0m\u001b[0mnovo_usuario\u001b[0m\u001b[0;34m.\u001b[0m\u001b[0mtelefone\u001b[0m\u001b[0;34m)\u001b[0m \u001b[0;31m#retorna um erro porque o atributo telefone é privado\u001b[0m\u001b[0;34m\u001b[0m\u001b[0;34m\u001b[0m\u001b[0m\n\u001b[0m",
            "\u001b[0;31mAttributeError\u001b[0m: 'Acesso' object has no attribute 'telefone'"
          ]
        }
      ]
    },
    {
      "cell_type": "code",
      "source": [
        "dir(novo_usuario)"
      ],
      "metadata": {
        "colab": {
          "base_uri": "https://localhost:8080/"
        },
        "id": "6S5EytYfL6F9",
        "outputId": "a5fe5ae2-12d4-49eb-9bb3-f41e961ed406"
      },
      "execution_count": null,
      "outputs": [
        {
          "output_type": "execute_result",
          "data": {
            "text/plain": [
              "['_Acesso__nome',\n",
              " '_Acesso__telefone',\n",
              " '__class__',\n",
              " '__delattr__',\n",
              " '__dict__',\n",
              " '__dir__',\n",
              " '__doc__',\n",
              " '__eq__',\n",
              " '__format__',\n",
              " '__ge__',\n",
              " '__getattribute__',\n",
              " '__gt__',\n",
              " '__hash__',\n",
              " '__init__',\n",
              " '__init_subclass__',\n",
              " '__le__',\n",
              " '__lt__',\n",
              " '__module__',\n",
              " '__ne__',\n",
              " '__new__',\n",
              " '__reduce__',\n",
              " '__reduce_ex__',\n",
              " '__repr__',\n",
              " '__setattr__',\n",
              " '__sizeof__',\n",
              " '__str__',\n",
              " '__subclasshook__',\n",
              " '__weakref__',\n",
              " 'email']"
            ]
          },
          "metadata": {},
          "execution_count": 11
        }
      ]
    },
    {
      "cell_type": "code",
      "source": [
        "print(novo_usuario._Acesso__nome) #Temos acesso, mas não deve ser feito esse acesso"
      ],
      "metadata": {
        "colab": {
          "base_uri": "https://localhost:8080/"
        },
        "id": "P5wOX0sAMKDA",
        "outputId": "20e8d031-c396-49b5-8f5a-aa57be8e3e07"
      },
      "execution_count": null,
      "outputs": [
        {
          "output_type": "stream",
          "name": "stdout",
          "text": [
            "Italo Silva\n"
          ]
        }
      ]
    },
    {
      "cell_type": "code",
      "source": [
        "#Name Mangling"
      ],
      "metadata": {
        "id": "X2n0zwuHMq93"
      },
      "execution_count": null,
      "outputs": []
    },
    {
      "cell_type": "markdown",
      "source": [
        "O \"Name Mangling\" (embaralhamento de nomes) é um conceito na linguagem de programação Python que envolve a alteração do nome de um identificador de forma a torná-lo menos suscetível a conflitos de nomes em classes. Esse mecanismo é implementado como uma forma de proteção de membros de classes em relação ao acesso não autorizado.\n",
        "\n",
        "Quando um atributo ou método é prefixado com um ou dois underscores (por exemplo, `_nome` ou `__nome`), o Python realiza automaticamente uma transformação no nome para torná-lo \"manglado\". Isso significa que o nome real do atributo ou método é alterado, adicionando um prefixo que é derivado do nome da classe onde o atributo ou método está definido. Esse processo de alteração de nome visa evitar que os nomes de membros de subclasses entrem em conflito com os nomes definidos nas classes pai.\n",
        "\n",
        "Vamos dar uma explicação mais detalhada sobre como o name mangling funciona:\n",
        "\n",
        "1. **Um Underscore (`_`):** Quando um atributo ou método é definido com um único underscore no início (por exemplo, `_nome`), isso é mais uma convenção do que uma restrição. Ele indica aos programadores que esse atributo ou método não é considerado parte da API pública da classe, mas o Python não executa nenhuma transformação especial nesse caso.\n",
        "\n",
        "2. **Dois Underscores (`__`):** Quando um atributo ou método é definido com dois underscores no início (por exemplo, `__nome`), o Python realiza a transformação de name mangling. Ele altera o nome para `_NomedaClasse__nome`. Aqui está um exemplo para ilustrar:\n",
        "\n",
        "```python\n",
        "class MinhaClasse:\n",
        "    def __init__(self):\n",
        "        self.__atributo = 10\n",
        "\n",
        "obj = MinhaClasse()\n",
        "print(obj._MinhaClasse__atributo)  # Acessando o atributo \"manglado\"\n",
        "```\n",
        "\n",
        "O exemplo acima mostra como acessar um atributo manglado. No entanto, é importante observar que o name mangling não é uma medida de segurança forte. Ele é mais uma prática para evitar conflitos acidentais de nomes entre classes e subclasses. Se um programador estiver determinado a acessar um atributo ou método \"manglado\", ainda é possível fazê-lo. O Python confia na cooperação e convenções dos programadores em relação ao uso apropriado dos membros das classes.\n",
        "\n",
        "Em resumo, o name mangling é um recurso do Python que ajuda a evitar conflitos de nomes entre membros de classes, alterando o nome real dos atributos e métodos com dois underscores iniciais. Isso é especialmente útil quando se trabalha com herança e subclasses, mas não deve ser visto como uma medida de segurança estrita."
      ],
      "metadata": {
        "id": "DKcYv1uuNCZF"
      }
    },
    {
      "cell_type": "code",
      "source": [
        "print(novo_usuario.mostra_nome()) #Um método apenas para pegar o nome"
      ],
      "metadata": {
        "colab": {
          "base_uri": "https://localhost:8080/"
        },
        "id": "MkXA2C1xNKv9",
        "outputId": "3fe24c6b-8b60-4289-e55f-74970165f6f1"
      },
      "execution_count": null,
      "outputs": [
        {
          "output_type": "stream",
          "name": "stdout",
          "text": [
            "Italo Silva\n"
          ]
        }
      ]
    },
    {
      "cell_type": "markdown",
      "source": [
        "Siginifica que ao criarmos instâncias de uma classe, todas às instâncias terão esses atributos"
      ],
      "metadata": {
        "id": "egm0us5sOOVV"
      }
    },
    {
      "cell_type": "code",
      "source": [
        "#Duas instâncias da classe Objeto"
      ],
      "metadata": {
        "id": "D3_f1h0AP1Xl"
      },
      "execution_count": null,
      "outputs": []
    },
    {
      "cell_type": "code",
      "source": [
        "user = Acesso('Kaiqueioj78@gmail.com', 'Kaique Marques', '62908793748')\n",
        "user1 = Acesso('Barbarra@gmail.com', 'Barbara Oliveira', '62987453348')"
      ],
      "metadata": {
        "id": "fDXzxdnvOqD3"
      },
      "execution_count": null,
      "outputs": []
    },
    {
      "cell_type": "code",
      "source": [
        "print(user.mostra_nome())"
      ],
      "metadata": {
        "colab": {
          "base_uri": "https://localhost:8080/"
        },
        "id": "4DADFBvdQAys",
        "outputId": "c651f952-f028-443b-c1ed-8b33b27ea05a"
      },
      "execution_count": null,
      "outputs": [
        {
          "output_type": "stream",
          "name": "stdout",
          "text": [
            "Kaique Marques\n"
          ]
        }
      ]
    },
    {
      "cell_type": "code",
      "source": [
        "print(user1.mostra_nome())"
      ],
      "metadata": {
        "colab": {
          "base_uri": "https://localhost:8080/"
        },
        "id": "hPYUpqzQQIMW",
        "outputId": "ae2c4bf1-04a3-45bf-d557-550f48c157a3"
      },
      "execution_count": null,
      "outputs": [
        {
          "output_type": "stream",
          "name": "stdout",
          "text": [
            "Barbara Oliveira\n"
          ]
        }
      ]
    },
    {
      "cell_type": "markdown",
      "source": [
        "# Atributos de classe"
      ],
      "metadata": {
        "id": "UfvEX-sdQbUa"
      }
    },
    {
      "cell_type": "code",
      "source": [
        "class Produto:\n",
        "  def __init__(self, nome, descricao, preco):\n",
        "    self.nome = nome\n",
        "    self.descricao = descricao\n",
        "    self.preco = preco\n",
        "\n",
        "  def desconto(self, desconto):\n",
        "    self.preco = self.preco - desconto\n",
        "\n",
        "  def mostrar_preco(self):\n",
        "    print(self.preco)"
      ],
      "metadata": {
        "id": "nsjjK5HkQaCm"
      },
      "execution_count": null,
      "outputs": []
    },
    {
      "cell_type": "code",
      "source": [
        "p1 = Produto('Televisão', 'TV 42 polegadas', 2000)\n",
        "p2 = Produto('Xbox series x', 'Videogame de mesa', 1700)"
      ],
      "metadata": {
        "id": "1C3rAsN-RQgP"
      },
      "execution_count": null,
      "outputs": []
    },
    {
      "cell_type": "code",
      "source": [
        "p1.desconto(250)\n",
        "p2.desconto(89)"
      ],
      "metadata": {
        "id": "zTbfkYxCRZLH"
      },
      "execution_count": null,
      "outputs": []
    },
    {
      "cell_type": "code",
      "source": [
        "p1.mostrar_preco()\n",
        "p2.mostrar_preco()\n"
      ],
      "metadata": {
        "colab": {
          "base_uri": "https://localhost:8080/"
        },
        "id": "k_7K07dmRf0g",
        "outputId": "e356cd99-5ecd-4604-8d82-6b5c4dd11f54"
      },
      "execution_count": null,
      "outputs": [
        {
          "output_type": "stream",
          "name": "stdout",
          "text": [
            "1750\n",
            "1611\n"
          ]
        }
      ]
    },
    {
      "cell_type": "markdown",
      "source": [
        "Atributos de classes, são atributos que são declarados diretamente na classe, ou seja, fora do construtor. Geralmente já inicialamos um valor, e este valor é compartilhado entre todas às instância da classe. Ou seja, ao invés de cada instância da classe ter seus próprios valores como é o caso dos atributos de instância, com os atributos de classe todas às instâncias terão o mesmo valor."
      ],
      "metadata": {
        "id": "sAhMRRoAR5H7"
      }
    },
    {
      "cell_type": "code",
      "source": [
        "class Produto_Novo:\n",
        "  imposto = 1.05\n",
        "\n",
        "  def __init__(self, nome, valor):\n",
        "    self.nome = nome\n",
        "    self.valor = (valor * Produto_Novo.imposto) #Atributo de classe\n"
      ],
      "metadata": {
        "id": "7kBxYJdoSV4b"
      },
      "execution_count": null,
      "outputs": []
    },
    {
      "cell_type": "code",
      "source": [
        "pro = Produto_Novo('Televisão', 1245)\n",
        "pro1 = Produto_Novo('Video-Game', 1700)\n",
        "pro2 = Produto_Novo('Cafeteira', 600)"
      ],
      "metadata": {
        "id": "ZIze-ZrfSu-t"
      },
      "execution_count": null,
      "outputs": []
    },
    {
      "cell_type": "code",
      "source": [
        "print(pro.imposto)\n",
        "print(pro1.imposto)\n",
        "print(pro2.imposto)"
      ],
      "metadata": {
        "colab": {
          "base_uri": "https://localhost:8080/"
        },
        "id": "o673DfteTWmm",
        "outputId": "a5e9e58c-f5bf-4706-a610-539c2b1bf7e3"
      },
      "execution_count": null,
      "outputs": [
        {
          "output_type": "stream",
          "name": "stdout",
          "text": [
            "1.05\n",
            "1.05\n",
            "1.05\n"
          ]
        }
      ]
    },
    {
      "cell_type": "code",
      "source": [
        "print(pro.valor) #Acesso possível, porém, incorreto\n",
        "print(pro1.valor)\n",
        "print(pro2.valor)"
      ],
      "metadata": {
        "colab": {
          "base_uri": "https://localhost:8080/"
        },
        "id": "1n9vW6ghT6iC",
        "outputId": "000e093c-dce8-4e69-88e5-928d1a695901"
      },
      "execution_count": null,
      "outputs": [
        {
          "output_type": "stream",
          "name": "stdout",
          "text": [
            "1307.25\n",
            "1785.0\n",
            "630.0\n"
          ]
        }
      ]
    },
    {
      "cell_type": "code",
      "source": [
        "#Não precisamos criar uma instância de classe para fazer acesso ao atributo de classe. Podemos fazer um acesso direto"
      ],
      "metadata": {
        "id": "5Lp-PSK6WSFr"
      },
      "execution_count": null,
      "outputs": []
    },
    {
      "cell_type": "code",
      "source": [
        "print(Produto_Novo.imposto) # Acesso correto"
      ],
      "metadata": {
        "colab": {
          "base_uri": "https://localhost:8080/"
        },
        "id": "tbp-7_6AWaAV",
        "outputId": "62c49523-590e-419d-f611-b3ef990a4d5f"
      },
      "execution_count": null,
      "outputs": [
        {
          "output_type": "stream",
          "name": "stdout",
          "text": [
            "1.05\n"
          ]
        }
      ]
    },
    {
      "cell_type": "code",
      "source": [
        "class Produto_Novo:\n",
        "  imposto = 1.05\n",
        "  contador = 0\n",
        "\n",
        "  def __init__(self, nome, valor):\n",
        "    self.id = Produto_Novo.contador + 1\n",
        "    self.nome = nome\n",
        "    self.valor = (valor * Produto_Novo.imposto) #Atributo de classe\n",
        "    Produto_Novo.contador = self.id\n"
      ],
      "metadata": {
        "id": "5qVOMGcZWvq_"
      },
      "execution_count": null,
      "outputs": []
    },
    {
      "cell_type": "code",
      "source": [
        "produ = Produto_Novo('Televisão', 3000)\n",
        "produ1 = Produto_Novo('Video-Game', 1900)\n",
        "produt2 = Produto_Novo('Cafeteira', 200)"
      ],
      "metadata": {
        "id": "Vo_zIWSOXJWI"
      },
      "execution_count": null,
      "outputs": []
    },
    {
      "cell_type": "code",
      "source": [
        "print(produ.id)\n",
        "print(produ1.id)\n",
        "print(produt2.id)"
      ],
      "metadata": {
        "colab": {
          "base_uri": "https://localhost:8080/"
        },
        "id": "hLd33tUQXwBu",
        "outputId": "46920754-582f-45b7-ca02-9135e1d01ee4"
      },
      "execution_count": null,
      "outputs": [
        {
          "output_type": "stream",
          "name": "stdout",
          "text": [
            "1\n",
            "2\n",
            "3\n"
          ]
        }
      ]
    },
    {
      "cell_type": "code",
      "source": [
        "# Em outras linguagens, tipo Java, os atributos de classes são chamados de atributos estáticos."
      ],
      "metadata": {
        "id": "3jNJRng2YScv"
      },
      "execution_count": null,
      "outputs": []
    },
    {
      "cell_type": "markdown",
      "source": [
        "# Atributos dinâmicos"
      ],
      "metadata": {
        "id": "H17D-fvaZLdf"
      }
    },
    {
      "cell_type": "markdown",
      "source": [
        "Em Python, os atributos dinâmicos se referem a atributos que podem ser adicionados ou removidos de um objeto em tempo de execução, ou seja, durante a execução do programa. Isso fornece uma flexibilidade adicional ao código, permitindo que você crie e manipule atributos em objetos sem precisar declará-los explicitamente na definição da classe.\n",
        "\n",
        "A principal característica dos atributos dinâmicos é que eles não precisam ser definidos na classe ou no objeto antes de serem usados. Eles são criados ou removidos conforme necessário, o que pode ser útil em situações onde você não conhece antecipadamente todos os atributos que um objeto pode ter.\n",
        "\n",
        "Vamos ver alguns exemplos para entender melhor como os atributos dinâmicos funcionam:\n",
        "\n",
        "**Adicionando Atributos Dinâmicos:**\n",
        "```python\n",
        "class Pessoa:\n",
        "    def __init__(self, nome):\n",
        "        self.nome = nome\n",
        "\n",
        "pessoa = Pessoa(\"Alice\")\n",
        "\n",
        "pessoa.idade = 30\n",
        "pessoa.profissao = \"Engenheira\"\n",
        "\n",
        "print(pessoa.idade)       # Saída: 30\n",
        "print(pessoa.profissao)   # Saída: Engenheira\n",
        "```\n",
        "\n",
        "Neste exemplo, estamos adicionando os atributos `idade` e `profissao` à instância `pessoa` após sua criação.\n",
        "\n",
        "**Removendo Atributos Dinâmicos:**\n",
        "```python\n",
        "del pessoa.idade\n",
        "print(hasattr(pessoa, 'idade'))  # Saída: False\n",
        "```\n",
        "\n",
        "Nesse caso, estamos removendo o atributo `idade` da instância `pessoa` usando a palavra-chave `del`. O uso da função `hasattr()` verifica se um atributo existe no objeto.\n",
        "\n",
        "No entanto, é importante notar que o uso indiscriminado de atributos dinâmicos pode tornar o código menos legível e mais difícil de entender, pois os atributos não estão declarados explicitamente na classe. Em muitos casos, é preferível definir todos os atributos relevantes na definição da classe para tornar o código mais claro e manutenível.\n",
        "\n",
        "Em resumo, os atributos dinâmicos em Python permitem adicionar e remover atributos de objetos em tempo de execução, oferecendo flexibilidade, mas também introduzindo um potencial risco de criar código menos estruturado. É recomendável usar atributos dinâmicos com parcimônia e considerar cuidadosamente se eles são a abordagem mais apropriada para o seu problema específico."
      ],
      "metadata": {
        "id": "hv2Il5_DZfa8"
      }
    },
    {
      "cell_type": "code",
      "source": [
        "class Pessoa:\n",
        "    def __init__(self, nome):\n",
        "        self.nome = nome\n",
        "\n",
        "pessoa = Pessoa(\"Alice\")\n",
        "\n",
        "pessoa.idade = 30\n",
        "pessoa.profissao = \"Engenheira\"\n",
        "\n",
        "print(pessoa.idade)       # Saída: 30\n",
        "print(pessoa.profissao)   # Saída: Engenheira\n"
      ],
      "metadata": {
        "id": "nBTaIN8AZhM4"
      },
      "execution_count": null,
      "outputs": []
    },
    {
      "cell_type": "markdown",
      "source": [
        "Neste exemplo, estamos adicionando os atributos idade e profissao à instância pessoa após sua criação.\n",
        "\n",
        "Removendo Atributos Dinâmicos:"
      ],
      "metadata": {
        "id": "-7Q87oPlZkCO"
      }
    },
    {
      "cell_type": "code",
      "source": [
        "del pessoa.idade\n",
        "print(hasattr(pessoa, 'idade'))  # Saída: False\n"
      ],
      "metadata": {
        "id": "KPMxyMolZnGb"
      },
      "execution_count": null,
      "outputs": []
    },
    {
      "cell_type": "markdown",
      "source": [
        "Nesse caso, estamos removendo o atributo idade da instância pessoa usando a palavra-chave del. O uso da função hasattr() verifica se um atributo existe no objeto.\n",
        "\n",
        "No entanto, é importante notar que o uso indiscriminado de atributos dinâmicos pode tornar o código menos legível e mais difícil de entender, pois os atributos não estão declarados explicitamente na classe. Em muitos casos, é preferível definir todos os atributos relevantes na definição da classe para tornar o código mais claro e manutenível.\n",
        "\n",
        "Em resumo, os atributos dinâmicos em Python permitem adicionar e remover atributos de objetos em tempo de execução, oferecendo flexibilidade, mas também introduzindo um potencial risco de criar código menos estruturado. É recomendável usar atributos dinâmicos com parcimônia e considerar cuidadosamente se eles são a abordagem mais apropriada para o seu problema específico."
      ],
      "metadata": {
        "id": "UmK_U7WSZp11"
      }
    },
    {
      "cell_type": "code",
      "source": [
        "# O atributo dinâmico será exclusivo da instância que o criou"
      ],
      "metadata": {
        "id": "LDKKexYtaLO7"
      },
      "execution_count": null,
      "outputs": []
    },
    {
      "cell_type": "code",
      "source": [
        "class Carro:\n",
        "\n",
        "  imposto = 1.052\n",
        "  contador = 0\n",
        "\n",
        "  def __init__(self, nome, marca, ano, cor, valor):\n",
        "    self.id = Carro.contador + 1\n",
        "    self. nome = nome\n",
        "    self.marca = marca\n",
        "    self.ano = ano\n",
        "    self.cor = cor\n",
        "    self.valor = valor * Carro.imposto\n",
        "\n",
        "    Carro.contador = self.id\n",
        "\n",
        "    def mudar_cor(self, nova_cor):\n",
        "      self.cor = cor"
      ],
      "metadata": {
        "id": "O7IQRs7SaT0H"
      },
      "execution_count": null,
      "outputs": []
    },
    {
      "cell_type": "code",
      "source": [
        "carro1 = Carro('Fordka', 'Ford', 2016, 'vermelho', 50000)\n",
        "carro2 = Carro('Golf', 'Volkswagen', 2020, 'prata', 60000)\n",
        "carro3 = Carro('Civic', 'Honda', 2019, 'preto', 55000)\n",
        "carro4 = Carro('Focus', 'Ford', 2017, 'azul', 48000)\n",
        "carro5 = Carro('Corolla', 'Toyota', 2022, 'branco', 65000)"
      ],
      "metadata": {
        "id": "Zzf--leAbnDf"
      },
      "execution_count": null,
      "outputs": []
    },
    {
      "cell_type": "code",
      "source": [
        "print(carro1.id, carro1.valor)\n",
        "print(carro2.id, carro2.valor)\n",
        "print(carro3.id, carro3.valor)\n",
        "print(carro4.id, carro4.valor)\n",
        "print(carro5.id, carro5.valor)"
      ],
      "metadata": {
        "colab": {
          "base_uri": "https://localhost:8080/"
        },
        "id": "Ir32lnF9cM8l",
        "outputId": "71043a8d-5afb-4fd2-a852-98c9e6ae4adf"
      },
      "execution_count": null,
      "outputs": [
        {
          "output_type": "stream",
          "name": "stdout",
          "text": [
            "1 52600.0\n",
            "2 63120.0\n",
            "3 57860.0\n",
            "4 50496.0\n",
            "5 68380.0\n"
          ]
        }
      ]
    },
    {
      "cell_type": "code",
      "source": [
        "#Criando um atributo dinâmico em tempo de execução"
      ],
      "metadata": {
        "id": "uOhUlv3KckBn"
      },
      "execution_count": null,
      "outputs": []
    },
    {
      "cell_type": "code",
      "source": [
        "carro1.batido = False #Esse atributo não existe no construtor da classe"
      ],
      "metadata": {
        "id": "mGxa6HYNcvcm"
      },
      "execution_count": null,
      "outputs": []
    },
    {
      "cell_type": "code",
      "source": [
        "print(carro1.batido)"
      ],
      "metadata": {
        "colab": {
          "base_uri": "https://localhost:8080/"
        },
        "id": "XHluTWa2c5Yr",
        "outputId": "27fb2032-2fea-43f6-fcbf-6cc0a30b016d"
      },
      "execution_count": null,
      "outputs": [
        {
          "output_type": "stream",
          "name": "stdout",
          "text": [
            "False\n"
          ]
        }
      ]
    },
    {
      "cell_type": "code",
      "source": [
        "print(carro2.batido) #Retorna um erro pq não existe esse atributo dinâmico no objeto 2"
      ],
      "metadata": {
        "id": "LgmGYl87c-C1"
      },
      "execution_count": null,
      "outputs": []
    },
    {
      "cell_type": "code",
      "source": [
        "print(carro1.__dict__)"
      ],
      "metadata": {
        "colab": {
          "base_uri": "https://localhost:8080/"
        },
        "id": "BxANeN42duz0",
        "outputId": "d646f355-187e-400a-9507-2a31f4bc1cc0"
      },
      "execution_count": null,
      "outputs": [
        {
          "output_type": "stream",
          "name": "stdout",
          "text": [
            "{'id': 1, 'nome': 'Fordka', 'marca': 'Ford', 'ano': 2016, 'cor': 'vermelho', 'valor': 52600.0, 'batido': False}\n"
          ]
        }
      ]
    },
    {
      "cell_type": "code",
      "source": [
        "print(carro2.__dict__)"
      ],
      "metadata": {
        "colab": {
          "base_uri": "https://localhost:8080/"
        },
        "id": "wR1-5-IFdyvK",
        "outputId": "70d48e77-f4af-4f8d-e04d-e649b6a3c699"
      },
      "execution_count": null,
      "outputs": [
        {
          "output_type": "stream",
          "name": "stdout",
          "text": [
            "{'id': 2, 'nome': 'Golf', 'marca': 'Volkswagen', 'ano': 2020, 'cor': 'prata', 'valor': 63120.0}\n"
          ]
        }
      ]
    },
    {
      "cell_type": "code",
      "source": [
        "print(Carro.__dict__)"
      ],
      "metadata": {
        "colab": {
          "base_uri": "https://localhost:8080/"
        },
        "id": "d_brAHkregOC",
        "outputId": "f2f0196d-8764-4f28-af28-e81935cca5c1"
      },
      "execution_count": null,
      "outputs": [
        {
          "output_type": "stream",
          "name": "stdout",
          "text": [
            "{'__module__': '__main__', 'imposto': 1.052, 'contador': 5, '__init__': <function Carro.__init__ at 0x7af321f549d0>, '__dict__': <attribute '__dict__' of 'Carro' objects>, '__weakref__': <attribute '__weakref__' of 'Carro' objects>, '__doc__': None, '__annotations__': {}}\n"
          ]
        }
      ]
    },
    {
      "cell_type": "code",
      "source": [
        "del carro1.batido"
      ],
      "metadata": {
        "id": "gGuZhpO2emyH"
      },
      "execution_count": null,
      "outputs": []
    },
    {
      "cell_type": "code",
      "source": [
        "print(carro1.__dict__)\n",
        "print(carro2.__dict__)"
      ],
      "metadata": {
        "colab": {
          "base_uri": "https://localhost:8080/"
        },
        "id": "MVl-NwZuesFQ",
        "outputId": "e35f1416-1c9c-43e2-9829-1f122732791f"
      },
      "execution_count": null,
      "outputs": [
        {
          "output_type": "stream",
          "name": "stdout",
          "text": [
            "{'id': 1, 'nome': 'Fordka', 'marca': 'Ford', 'ano': 2016, 'cor': 'vermelho', 'valor': 52600.0}\n",
            "{'id': 2, 'nome': 'Golf', 'marca': 'Volkswagen', 'ano': 2020, 'cor': 'prata', 'valor': 63120.0}\n"
          ]
        }
      ]
    },
    {
      "cell_type": "code",
      "source": [
        "#Também podemos excluir atributos de instância, não somente os atributos dinâmicos"
      ],
      "metadata": {
        "id": "mf0pwothe5Gn"
      },
      "execution_count": null,
      "outputs": []
    },
    {
      "cell_type": "code",
      "source": [
        "del carro1.cor"
      ],
      "metadata": {
        "id": "vANED8WFe_Yw"
      },
      "execution_count": null,
      "outputs": []
    },
    {
      "cell_type": "code",
      "source": [
        "print(carro1.__dict__) #Não terá mais o atributo cor\n",
        "print(carro2.__dict__)"
      ],
      "metadata": {
        "colab": {
          "base_uri": "https://localhost:8080/"
        },
        "id": "ALYbaZjbfDLL",
        "outputId": "fae26f34-928c-4743-ba0b-fea65b768638"
      },
      "execution_count": null,
      "outputs": [
        {
          "output_type": "stream",
          "name": "stdout",
          "text": [
            "{'id': 1, 'nome': 'Fordka', 'marca': 'Ford', 'ano': 2016, 'valor': 52600.0}\n",
            "{'id': 2, 'nome': 'Golf', 'marca': 'Volkswagen', 'ano': 2020, 'cor': 'prata', 'valor': 63120.0}\n"
          ]
        }
      ]
    }
  ]
}