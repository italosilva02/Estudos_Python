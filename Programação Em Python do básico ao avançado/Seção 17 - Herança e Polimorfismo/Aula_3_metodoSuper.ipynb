{
 "cells": [
  {
   "cell_type": "markdown",
   "id": "3a24eeed",
   "metadata": {},
   "source": [
    "# Metodo Super()"
   ]
  },
  {
   "cell_type": "markdown",
   "id": "92d5c3f7",
   "metadata": {},
   "source": [
    "O método super() no Python é uma função especial que permite acessar um método de uma classe pai de uma classe filha. Ela é usada principalmente em programação orientada a objeto (OOP) para herança.\n",
    "\n",
    "A sintaxe do método super() é a seguinte:"
   ]
  },
  {
   "cell_type": "code",
   "execution_count": null,
   "id": "a06a3415",
   "metadata": {},
   "outputs": [],
   "source": [
    "super(classe_filha, self).metodo_pai()"
   ]
  },
  {
   "cell_type": "markdown",
   "id": "e6d9d1f6",
   "metadata": {},
   "source": [
    "#### Onde\n",
    "\n",
    " - classe filha: é a classe filha que está chamando o método super()\n",
    " - self: é a instância da classe filha que está chamando o método super()\n",
    " - metodo_pai(): é o método da classe pai que deseja ser chamado\n",
    " \n",
    " \n",
    "Por exemplo, consideramos a seguinte classe pai:"
   ]
  },
  {
   "cell_type": "code",
   "execution_count": 2,
   "id": "015526e2",
   "metadata": {},
   "outputs": [],
   "source": [
    "class Animal:\n",
    "    def __init__(self, nome):\n",
    "        self.nome = nome\n",
    "        \n",
    "    def falar(self):\n",
    "        print('Olá, meu nome é {}!'.format(self.nome))"
   ]
  },
  {
   "cell_type": "code",
   "execution_count": null,
   "id": "9511e8a5",
   "metadata": {},
   "outputs": [],
   "source": [
    "A seguinte é a filha:"
   ]
  },
  {
   "cell_type": "code",
   "execution_count": 5,
   "id": "2cc5ff3f",
   "metadata": {},
   "outputs": [],
   "source": [
    "class Cachorro(Animal):\n",
    "    def __init__(self, nome, idade):\n",
    "        super().__init__(nome)\n",
    "        self.idade = idade\n",
    "        \n",
    "    def latir(self):\n",
    "        print('au au')"
   ]
  },
  {
   "cell_type": "markdown",
   "id": "b818e3cc",
   "metadata": {},
   "source": [
    "A classe Cachorro herda a classe Animal. O método __init__() da classe Cachorro() usa o método super() para chamar o método __init__() da classe Animal(). Isso permite que a classe Cachorro() inicialize o atributo nome da mesma forma que a classe Animal().\n",
    "\n",
    "O método latir() da classe cachorro() é um método novo que não existe na classe Animal(). Esse método é chamado de método self para acessar o atributo nome da instância da classe Cachorro()"
   ]
  },
  {
   "cell_type": "code",
   "execution_count": 6,
   "id": "ddfc11cf",
   "metadata": {},
   "outputs": [
    {
     "name": "stdout",
     "output_type": "stream",
     "text": [
      "Olá, meu nome é Rex!\n",
      "au au\n"
     ]
    }
   ],
   "source": [
    "cachorro = Cachorro(\"Rex\", 5)\n",
    "\n",
    "cachorro.falar()\n",
    "# Output: Olá, meu nome é Rex!\n",
    "\n",
    "cachorro.latir()\n",
    "# Output: Au! Au!"
   ]
  },
  {
   "cell_type": "markdown",
   "id": "b23ce609",
   "metadata": {},
   "source": [
    "O método super() pode ser usado para chamar qualquer método da classe pai. Ele é uma ferramenta útil para programação orientada a objetos, pois permite que você reutilize o código da classe pai em classes filhas.\n",
    "\n",
    "Aqui estão alguns exemplos de como o método super() pode ser usado:\n",
    "\n",
    "Para chamar um método de inicialização da classe pai.\n",
    "Para chamar um método de um objeto da classe pai.\n",
    "Para chamar um método estático da classe pai.\n",
    "Espero que isso ajude!"
   ]
  },
  {
   "cell_type": "code",
   "execution_count": 8,
   "id": "5c5ef48a",
   "metadata": {},
   "outputs": [],
   "source": [
    "class Animal():\n",
    "    def __init__(self, nome, raca, especie, idade):\n",
    "        self.__nome = nome\n",
    "        self.__raca = raca\n",
    "        self.__especie = especie\n",
    "        self.__idade = idade\n",
    "        \n",
    "    def dados(self):\n",
    "        return f'Nome: {self.__nome}, Raça: {self.__raca}, Especie: {self.__especie}, Idade: {self.__idade}'"
   ]
  },
  {
   "cell_type": "code",
   "execution_count": 13,
   "id": "0f5da9c9",
   "metadata": {},
   "outputs": [],
   "source": [
    "class Gato(Animal):\n",
    "    def __init__(self, nome, raca, especie, idade):\n",
    "        super().__init__(nome, raca, especie, idade)\n",
    "    "
   ]
  },
  {
   "cell_type": "code",
   "execution_count": 14,
   "id": "26dea5ca",
   "metadata": {},
   "outputs": [],
   "source": [
    "o = Gato('Kaique', 'Vira-Lata', 'Gato', 5)"
   ]
  },
  {
   "cell_type": "code",
   "execution_count": 17,
   "id": "faec96d2",
   "metadata": {},
   "outputs": [
    {
     "data": {
      "text/plain": [
       "'Nome: Kaique, Raça: Vira-Lata, Especie: Gato, Idade: 5'"
      ]
     },
     "execution_count": 17,
     "metadata": {},
     "output_type": "execute_result"
    }
   ],
   "source": [
    "o.dados()"
   ]
  },
  {
   "cell_type": "code",
   "execution_count": 15,
   "id": "1105b87d",
   "metadata": {},
   "outputs": [],
   "source": [
    "class Animal:\n",
    "    def __init__(self, patas, cor, raca, idade):\n",
    "        self._patas = patas\n",
    "        self._cor = cor\n",
    "        self._raca = raca\n",
    "        self._idade = idade\n",
    "        \n",
    "    @property\n",
    "    def dados(self):\n",
    "        return f', Patas: {self._patas}, Cor: {self._cor}, Idade: {self._idade}, Raca: {self._raca}'\n",
    "    \n",
    "    def som(self, som):\n",
    "        return f'O {self._raca} faz {som}'"
   ]
  },
  {
   "cell_type": "code",
   "execution_count": 16,
   "id": "c88058c4",
   "metadata": {},
   "outputs": [],
   "source": [
    "class Gato(Animal):\n",
    "    def __init__(self, patas, cor, raca, idade):\n",
    "        super().__init__(patas, cor, raca, idade)\n",
    "        self._patas = patas\n",
    "        self._cor = cor\n",
    "        self._raca = raca\n",
    "        self._idade = idade\n"
   ]
  },
  {
   "cell_type": "code",
   "execution_count": 17,
   "id": "b0144f59",
   "metadata": {},
   "outputs": [],
   "source": [
    "gato1 = Gato(patas=4, cor='preto', raca='Siamês', idade=3)"
   ]
  },
  {
   "cell_type": "code",
   "execution_count": 18,
   "id": "ea74827d",
   "metadata": {},
   "outputs": [
    {
     "data": {
      "text/plain": [
       "', Patas: 4, Cor: preto, Idade: 3, Raca: Siamês'"
      ]
     },
     "execution_count": 18,
     "metadata": {},
     "output_type": "execute_result"
    }
   ],
   "source": [
    "gato1.dados"
   ]
  },
  {
   "cell_type": "code",
   "execution_count": 19,
   "id": "7927094c",
   "metadata": {},
   "outputs": [
    {
     "data": {
      "text/plain": [
       "'O Siamês faz Miau'"
      ]
     },
     "execution_count": 19,
     "metadata": {},
     "output_type": "execute_result"
    }
   ],
   "source": [
    "gato1.som('Miau')"
   ]
  },
  {
   "cell_type": "markdown",
   "id": "9fd98389",
   "metadata": {},
   "source": [
    "Entendido! Aqui está o enunciado do exercício:\n",
    "\n",
    "**Exercício de uso do método `super()`:**\n",
    "\n",
    "Crie duas classes em Python: `Funcionario` e `Gerente`. A classe `Gerente` deve herdar da classe `Funcionario`. A classe `Funcionario` deve ter os seguintes atributos e métodos:\n",
    "\n",
    "- Atributos:\n",
    "  - `nome`: Uma string que representa o nome do funcionário.\n",
    "  - `salario`: Um número que representa o salário do funcionário.\n",
    "\n",
    "- Métodos:\n",
    "  - `calcular_bonus()`: Um método que retorna 10% do salário do funcionário como bônus.\n",
    "\n",
    "A classe `Gerente` deve ter os seguintes atributos e métodos:\n",
    "\n",
    "- Atributos adicionais:\n",
    "  - `setor`: Uma string que representa o setor em que o gerente trabalha.\n",
    "\n",
    "- Método:\n",
    "  - `calcular_bonus()`: Este método deve calcular o bônus de um gerente, que é 15% do salário, e também deve chamar o método `calcular_bonus()` da classe `Funcionario` para calcular o bônus da parte do funcionário. O bônus total do gerente é a soma do bônus do funcionário e o bônus adicional.\n",
    "\n",
    "Crie instâncias de funcionários e gerentes e teste os métodos `calcular_bonus()` para verificar se eles estão funcionando corretamente. Certifique-se de usar o método `super()` para chamar o método da classe pai quando necessário."
   ]
  },
  {
   "cell_type": "code",
   "execution_count": 25,
   "id": "78bbc779",
   "metadata": {},
   "outputs": [],
   "source": [
    "class Funcionario:\n",
    "    def __init__(self, nome, salario):\n",
    "        self._nome = nome\n",
    "        self._salario = salario\n",
    "        \n",
    "    def calcular_bonus(self):\n",
    "        return self._salario + (self._salario * 0.10)"
   ]
  },
  {
   "cell_type": "code",
   "execution_count": 35,
   "id": "637cbeed",
   "metadata": {},
   "outputs": [],
   "source": [
    "class Gerente(Funcionario):\n",
    "    def __init__(self, nome, salario, setor):\n",
    "        super().__init__(nome, salario)\n",
    "        self._setor = setor\n",
    "        \n",
    "   # def calcular_bonus(self): #Minha resposta\n",
    "   #     return (self._salario + (self._salario * 0.15)) + (super().calcular_bonus())\n",
    "    \n",
    "    def calcular_bonus(self): #Correção\n",
    "        bonus_gerente = self._salario * 0.15\n",
    "        bonus_funcionario = super().calcular_bonus()\n",
    "        return bonus_gerente + bonus_funcionario"
   ]
  },
  {
   "cell_type": "code",
   "execution_count": 36,
   "id": "92486011",
   "metadata": {},
   "outputs": [],
   "source": [
    "g = Gerente(\"Marcos\", 2400, \"Marketing\")"
   ]
  },
  {
   "cell_type": "code",
   "execution_count": 37,
   "id": "82c2e1b4",
   "metadata": {},
   "outputs": [
    {
     "data": {
      "text/plain": [
       "3000.0"
      ]
     },
     "execution_count": 37,
     "metadata": {},
     "output_type": "execute_result"
    }
   ],
   "source": [
    "g.calcular_bonus()"
   ]
  },
  {
   "cell_type": "code",
   "execution_count": null,
   "id": "4d4cacdc",
   "metadata": {},
   "outputs": [],
   "source": []
  }
 ],
 "metadata": {
  "kernelspec": {
   "display_name": "Python 3 (ipykernel)",
   "language": "python",
   "name": "python3"
  },
  "language_info": {
   "codemirror_mode": {
    "name": "ipython",
    "version": 3
   },
   "file_extension": ".py",
   "mimetype": "text/x-python",
   "name": "python",
   "nbconvert_exporter": "python",
   "pygments_lexer": "ipython3",
   "version": "3.10.9"
  }
 },
 "nbformat": 4,
 "nbformat_minor": 5
}
