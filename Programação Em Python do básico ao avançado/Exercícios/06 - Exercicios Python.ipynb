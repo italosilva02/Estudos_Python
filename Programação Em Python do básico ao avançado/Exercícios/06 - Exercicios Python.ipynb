{
 "cells": [
  {
   "cell_type": "markdown",
   "id": "7dc6a15b",
   "metadata": {},
   "source": [
    "# Exercícios Python - Seção 06"
   ]
  },
  {
   "cell_type": "markdown",
   "id": "45eebc03",
   "metadata": {},
   "source": [
    "### 1 - Faça um programa que determine e mostre os cinco primeiros múltiplos de 3, considerando números maiores que 0."
   ]
  },
  {
   "cell_type": "code",
   "execution_count": 1,
   "id": "23df5f81",
   "metadata": {},
   "outputs": [],
   "source": [
    "n = int(0)"
   ]
  },
  {
   "cell_type": "code",
   "execution_count": 2,
   "id": "2153def5",
   "metadata": {},
   "outputs": [
    {
     "name": "stdout",
     "output_type": "stream",
     "text": [
      "Informe um número inteiro maior que 0: 5\n"
     ]
    }
   ],
   "source": [
    "while n < 1:\n",
    "    n = int(input('Informe um número inteiro maior que 0: '))\n",
    "    "
   ]
  },
  {
   "cell_type": "code",
   "execution_count": 3,
   "id": "e0499e30",
   "metadata": {},
   "outputs": [
    {
     "name": "stdout",
     "output_type": "stream",
     "text": [
      "0\n",
      "3\n"
     ]
    }
   ],
   "source": [
    "for i in range(n):\n",
    "    if i % 3 == 0:\n",
    "        print(i)"
   ]
  },
  {
   "cell_type": "markdown",
   "id": "76a6adbd",
   "metadata": {},
   "source": [
    "### 2 - faça um programa que escreva na tela, de 1 a 100, de 1 em 1, 3 vezes. A primeira vez deve usar uma estrutura de repetição *for*, a segunda *while* e a terceira *do while*"
   ]
  },
  {
   "cell_type": "code",
   "execution_count": 4,
   "id": "991a1a1c",
   "metadata": {},
   "outputs": [
    {
     "name": "stdout",
     "output_type": "stream",
     "text": [
      "1\n",
      "2\n",
      "3\n",
      "4\n",
      "5\n",
      "6\n",
      "7\n",
      "8\n",
      "9\n",
      "10\n",
      "11\n",
      "12\n",
      "13\n",
      "14\n",
      "15\n",
      "16\n",
      "17\n",
      "18\n",
      "19\n",
      "20\n",
      "21\n",
      "22\n",
      "23\n",
      "24\n",
      "25\n",
      "26\n",
      "27\n",
      "28\n",
      "29\n",
      "30\n",
      "31\n",
      "32\n",
      "33\n",
      "34\n",
      "35\n",
      "36\n",
      "37\n",
      "38\n",
      "39\n",
      "40\n",
      "41\n",
      "42\n",
      "43\n",
      "44\n",
      "45\n",
      "46\n",
      "47\n",
      "48\n",
      "49\n",
      "50\n",
      "51\n",
      "52\n",
      "53\n",
      "54\n",
      "55\n",
      "56\n",
      "57\n",
      "58\n",
      "59\n",
      "60\n",
      "61\n",
      "62\n",
      "63\n",
      "64\n",
      "65\n",
      "66\n",
      "67\n",
      "68\n",
      "69\n",
      "70\n",
      "71\n",
      "72\n",
      "73\n",
      "74\n",
      "75\n",
      "76\n",
      "77\n",
      "78\n",
      "79\n",
      "80\n",
      "81\n",
      "82\n",
      "83\n",
      "84\n",
      "85\n",
      "86\n",
      "87\n",
      "88\n",
      "89\n",
      "90\n",
      "91\n",
      "92\n",
      "93\n",
      "94\n",
      "95\n",
      "96\n",
      "97\n",
      "98\n",
      "99\n",
      "100\n"
     ]
    }
   ],
   "source": [
    "for i in range(1,101): print(i)"
   ]
  },
  {
   "cell_type": "code",
   "execution_count": 5,
   "id": "8f38b4a2",
   "metadata": {},
   "outputs": [
    {
     "name": "stdout",
     "output_type": "stream",
     "text": [
      "1\n",
      "2\n",
      "3\n",
      "4\n",
      "5\n",
      "6\n",
      "7\n",
      "8\n",
      "9\n",
      "10\n",
      "11\n",
      "12\n",
      "13\n",
      "14\n",
      "15\n",
      "16\n",
      "17\n",
      "18\n",
      "19\n",
      "20\n",
      "21\n",
      "22\n",
      "23\n",
      "24\n",
      "25\n",
      "26\n",
      "27\n",
      "28\n",
      "29\n",
      "30\n",
      "31\n",
      "32\n",
      "33\n",
      "34\n",
      "35\n",
      "36\n",
      "37\n",
      "38\n",
      "39\n",
      "40\n",
      "41\n",
      "42\n",
      "43\n",
      "44\n",
      "45\n",
      "46\n",
      "47\n",
      "48\n",
      "49\n",
      "50\n",
      "51\n",
      "52\n",
      "53\n",
      "54\n",
      "55\n",
      "56\n",
      "57\n",
      "58\n",
      "59\n",
      "60\n",
      "61\n",
      "62\n",
      "63\n",
      "64\n",
      "65\n",
      "66\n",
      "67\n",
      "68\n",
      "69\n",
      "70\n",
      "71\n",
      "72\n",
      "73\n",
      "74\n",
      "75\n",
      "76\n",
      "77\n",
      "78\n",
      "79\n",
      "80\n",
      "81\n",
      "82\n",
      "83\n",
      "84\n",
      "85\n",
      "86\n",
      "87\n",
      "88\n",
      "89\n",
      "90\n",
      "91\n",
      "92\n",
      "93\n",
      "94\n",
      "95\n",
      "96\n",
      "97\n",
      "98\n",
      "99\n",
      "100\n"
     ]
    }
   ],
   "source": [
    "n = 1\n",
    "while n < 101:\n",
    "    print(n)\n",
    "    n += 1"
   ]
  },
  {
   "cell_type": "code",
   "execution_count": 6,
   "id": "67c9d39d",
   "metadata": {},
   "outputs": [
    {
     "name": "stdout",
     "output_type": "stream",
     "text": [
      "1\n",
      "2\n",
      "3\n",
      "4\n",
      "5\n",
      "6\n",
      "7\n",
      "8\n",
      "9\n",
      "10\n",
      "11\n",
      "12\n",
      "13\n",
      "14\n",
      "15\n",
      "16\n",
      "17\n",
      "18\n",
      "19\n",
      "20\n",
      "21\n",
      "22\n",
      "23\n",
      "24\n",
      "25\n",
      "26\n",
      "27\n",
      "28\n",
      "29\n",
      "30\n",
      "31\n",
      "32\n",
      "33\n",
      "34\n",
      "35\n",
      "36\n",
      "37\n",
      "38\n",
      "39\n",
      "40\n",
      "41\n",
      "42\n",
      "43\n",
      "44\n",
      "45\n",
      "46\n",
      "47\n",
      "48\n",
      "49\n",
      "50\n",
      "51\n",
      "52\n",
      "53\n",
      "54\n",
      "55\n",
      "56\n",
      "57\n",
      "58\n",
      "59\n",
      "60\n",
      "61\n",
      "62\n",
      "63\n",
      "64\n",
      "65\n",
      "66\n",
      "67\n",
      "68\n",
      "69\n",
      "70\n",
      "71\n",
      "72\n",
      "73\n",
      "74\n",
      "75\n",
      "76\n",
      "77\n",
      "78\n",
      "79\n",
      "80\n",
      "81\n",
      "82\n",
      "83\n",
      "84\n",
      "85\n",
      "86\n",
      "87\n",
      "88\n",
      "89\n",
      "90\n",
      "91\n",
      "92\n",
      "93\n",
      "94\n",
      "95\n",
      "96\n",
      "97\n",
      "98\n",
      "99\n",
      "100\n"
     ]
    }
   ],
   "source": [
    "n = 1\n",
    "while True:\n",
    "    print(n)\n",
    "    n += 1\n",
    "    if n > 100:\n",
    "        break"
   ]
  },
  {
   "cell_type": "markdown",
   "id": "f7c17f8e",
   "metadata": {},
   "source": [
    "### 3 - Faça um algoritmo utilizando o comando *while* que mostra uma contagem refressiva na tela, iniciando em 10 e terminando em 0. Mostre uma mensagem \"FIM\" após a contagem."
   ]
  },
  {
   "cell_type": "code",
   "execution_count": 7,
   "id": "eb73e4f3",
   "metadata": {
    "scrolled": true
   },
   "outputs": [
    {
     "name": "stdout",
     "output_type": "stream",
     "text": [
      "10\n",
      "9\n",
      "8\n",
      "7\n",
      "6\n",
      "5\n",
      "4\n",
      "3\n",
      "2\n",
      "1\n",
      "0\n",
      "FIM\n"
     ]
    }
   ],
   "source": [
    "n = 10\n",
    "while n != (0 - 1):\n",
    "    print(n)\n",
    "    n -= 1\n",
    "    \n",
    "print(\"FIM\")"
   ]
  },
  {
   "cell_type": "markdown",
   "id": "36012ab4",
   "metadata": {},
   "source": [
    "### 4 - Escreva um programa que declare uma inteiro, inicialize-o com 0, e incremente-0 de 1000 em 1000, primindo seu valor na tela. até que valor seja 100000."
   ]
  },
  {
   "cell_type": "code",
   "execution_count": 8,
   "id": "a3869b3a",
   "metadata": {},
   "outputs": [
    {
     "name": "stdout",
     "output_type": "stream",
     "text": [
      "0\n",
      "1000\n",
      "2000\n",
      "3000\n",
      "4000\n",
      "5000\n",
      "6000\n",
      "7000\n",
      "8000\n",
      "9000\n",
      "10000\n",
      "11000\n",
      "12000\n",
      "13000\n",
      "14000\n",
      "15000\n",
      "16000\n",
      "17000\n",
      "18000\n",
      "19000\n",
      "20000\n",
      "21000\n",
      "22000\n",
      "23000\n",
      "24000\n",
      "25000\n",
      "26000\n",
      "27000\n",
      "28000\n",
      "29000\n",
      "30000\n",
      "31000\n",
      "32000\n",
      "33000\n",
      "34000\n",
      "35000\n",
      "36000\n",
      "37000\n",
      "38000\n",
      "39000\n",
      "40000\n",
      "41000\n",
      "42000\n",
      "43000\n",
      "44000\n",
      "45000\n",
      "46000\n",
      "47000\n",
      "48000\n",
      "49000\n",
      "50000\n",
      "51000\n",
      "52000\n",
      "53000\n",
      "54000\n",
      "55000\n",
      "56000\n",
      "57000\n",
      "58000\n",
      "59000\n",
      "60000\n",
      "61000\n",
      "62000\n",
      "63000\n",
      "64000\n",
      "65000\n",
      "66000\n",
      "67000\n",
      "68000\n",
      "69000\n",
      "70000\n",
      "71000\n",
      "72000\n",
      "73000\n",
      "74000\n",
      "75000\n",
      "76000\n",
      "77000\n",
      "78000\n",
      "79000\n",
      "80000\n",
      "81000\n",
      "82000\n",
      "83000\n",
      "84000\n",
      "85000\n",
      "86000\n",
      "87000\n",
      "88000\n",
      "89000\n",
      "90000\n",
      "91000\n",
      "92000\n",
      "93000\n",
      "94000\n",
      "95000\n",
      "96000\n",
      "97000\n",
      "98000\n",
      "99000\n",
      "100000\n"
     ]
    }
   ],
   "source": [
    "n = 0\n",
    "while n < (100000 + 1):\n",
    "    print(n)\n",
    "    n += 1000"
   ]
  },
  {
   "cell_type": "markdown",
   "id": "391859e2",
   "metadata": {},
   "source": [
    "### 5 - Faça um programa que peça ao usuário para digitar 10 valores e some-os"
   ]
  },
  {
   "cell_type": "code",
   "execution_count": 9,
   "id": "d6c5a5a3",
   "metadata": {
    "scrolled": true
   },
   "outputs": [
    {
     "name": "stdout",
     "output_type": "stream",
     "text": [
      "Informe um número: 6\n",
      "Informe um número: 4\n",
      "Informe um número: 2\n",
      "Informe um número: 5\n",
      "Informe um número: 8\n",
      "Informe um número: 9\n",
      "Informe um número: 4\n",
      "Informe um número: 2\n",
      "Informe um número: 6\n",
      "Informe um número: 7\n",
      "A soma é: 53\n"
     ]
    }
   ],
   "source": [
    "lista = []\n",
    "while len(lista) < 10:\n",
    "    lista.append(int(input(\"Informe um número: \")))\n",
    "    \n",
    "print(f'A soma é: {sum(lista)}')"
   ]
  },
  {
   "cell_type": "markdown",
   "id": "1a67b027",
   "metadata": {},
   "source": [
    "### 6 - Faça um programa que leia 10 inteiros e imprima sua média."
   ]
  },
  {
   "cell_type": "code",
   "execution_count": 10,
   "id": "0394ca33",
   "metadata": {},
   "outputs": [
    {
     "data": {
      "text/plain": [
       "['__add__',\n",
       " '__class__',\n",
       " '__class_getitem__',\n",
       " '__contains__',\n",
       " '__delattr__',\n",
       " '__delitem__',\n",
       " '__dir__',\n",
       " '__doc__',\n",
       " '__eq__',\n",
       " '__format__',\n",
       " '__ge__',\n",
       " '__getattribute__',\n",
       " '__getitem__',\n",
       " '__gt__',\n",
       " '__hash__',\n",
       " '__iadd__',\n",
       " '__imul__',\n",
       " '__init__',\n",
       " '__init_subclass__',\n",
       " '__iter__',\n",
       " '__le__',\n",
       " '__len__',\n",
       " '__lt__',\n",
       " '__mul__',\n",
       " '__ne__',\n",
       " '__new__',\n",
       " '__reduce__',\n",
       " '__reduce_ex__',\n",
       " '__repr__',\n",
       " '__reversed__',\n",
       " '__rmul__',\n",
       " '__setattr__',\n",
       " '__setitem__',\n",
       " '__sizeof__',\n",
       " '__str__',\n",
       " '__subclasshook__',\n",
       " 'append',\n",
       " 'clear',\n",
       " 'copy',\n",
       " 'count',\n",
       " 'extend',\n",
       " 'index',\n",
       " 'insert',\n",
       " 'pop',\n",
       " 'remove',\n",
       " 'reverse',\n",
       " 'sort']"
      ]
     },
     "execution_count": 10,
     "metadata": {},
     "output_type": "execute_result"
    }
   ],
   "source": [
    "dir(lista)"
   ]
  },
  {
   "cell_type": "code",
   "execution_count": 11,
   "id": "088082c0",
   "metadata": {},
   "outputs": [
    {
     "name": "stdout",
     "output_type": "stream",
     "text": [
      "Informe um número: 4\n",
      "Informe um número: 2\n",
      "Informe um número: 8\n",
      "Informe um número: 6\n",
      "Informe um número: 4\n",
      "Informe um número: 8\n",
      "Informe um número: 9\n",
      "Informe um número: 4\n",
      "Informe um número: 1\n",
      "Informe um número: 2\n",
      "A Média é: 4.8\n"
     ]
    }
   ],
   "source": [
    "lista = []\n",
    "while len(lista) < 10:\n",
    "    lista.append(int(input(\"Informe um número: \")))\n",
    "    \n",
    "print(f'A Média é: {sum(lista) / len(lista)}')"
   ]
  },
  {
   "cell_type": "markdown",
   "id": "2be38aa6",
   "metadata": {},
   "source": [
    "### 7 - Faça uma origrana que leia 10 inteiros positivos, ignorando não positivos, e imprima sua média"
   ]
  },
  {
   "cell_type": "code",
   "execution_count": 12,
   "id": "6109f4c8",
   "metadata": {},
   "outputs": [
    {
     "name": "stdout",
     "output_type": "stream",
     "text": [
      "Informe um número: 9\n",
      "Informe um número: 4\n",
      "Informe um número: 8\n",
      "Informe um número: 7\n",
      "Informe um número: 3\n",
      "Informe um número: 1\n",
      "Informe um número: 2\n",
      "Informe um número: 5\n",
      "Informe um número: 6\n",
      "Informe um número: 7\n",
      "A Média é: 5.2\n"
     ]
    }
   ],
   "source": [
    "lista = []\n",
    "while len(lista) < 10:\n",
    "    n = int(input(\"Informe um número: \"))\n",
    "    if n > 0:\n",
    "        lista.append(n)\n",
    "        \n",
    "print(f'A Média é: {sum(lista) / len(lista)}')"
   ]
  },
  {
   "cell_type": "markdown",
   "id": "945d533c",
   "metadata": {},
   "source": [
    "### 8 - Escreva um programa que leia 10 números e escreva o menor valor lido e o maior lido"
   ]
  },
  {
   "cell_type": "code",
   "execution_count": 13,
   "id": "487aaec8",
   "metadata": {},
   "outputs": [
    {
     "name": "stdout",
     "output_type": "stream",
     "text": [
      "Informe um número: 6\n",
      "Informe um número: 4\n",
      "Informe um número: 2\n",
      "Informe um número: 4\n",
      "Informe um número: 9\n",
      "Informe um número: 4\n",
      "Informe um número: 7\n",
      "Informe um número: 3\n",
      "Informe um número: 4\n",
      "Informe um número: 2\n"
     ]
    }
   ],
   "source": [
    "lista = []\n",
    "while len(lista) < 10:\n",
    "    lista.append(int(input(\"Informe um número: \")))"
   ]
  },
  {
   "cell_type": "code",
   "execution_count": 14,
   "id": "dc9daffe",
   "metadata": {},
   "outputs": [
    {
     "name": "stdout",
     "output_type": "stream",
     "text": [
      "2\n"
     ]
    }
   ],
   "source": [
    "print(min(lista))"
   ]
  },
  {
   "cell_type": "code",
   "execution_count": 15,
   "id": "c3389cb4",
   "metadata": {},
   "outputs": [
    {
     "name": "stdout",
     "output_type": "stream",
     "text": [
      "9\n"
     ]
    }
   ],
   "source": [
    "print(max(lista))"
   ]
  },
  {
   "cell_type": "markdown",
   "id": "0cdb5f17",
   "metadata": {},
   "source": [
    "### 9 - Faça um programa que leia um número inteiro N e depois imprima os N primeiros números naturais ímpares."
   ]
  },
  {
   "cell_type": "code",
   "execution_count": 20,
   "id": "bd873162",
   "metadata": {},
   "outputs": [
    {
     "name": "stdout",
     "output_type": "stream",
     "text": [
      "Informe um número: 9\n",
      "Adicionar valor a lista: 4\n",
      "Adicionar valor a lista: 5\n",
      "Adicionar valor a lista: 2\n",
      "Adicionar valor a lista: 1\n",
      "Adicionar valor a lista: 2\n",
      "Adicionar valor a lista: 7\n",
      "Adicionar valor a lista: 8\n",
      "Adicionar valor a lista: 3\n",
      "Adicionar valor a lista: 4\n",
      "5\n",
      "1\n",
      "7\n",
      "3\n"
     ]
    }
   ],
   "source": [
    "lista = []\n",
    "while True:\n",
    "    try:\n",
    "        n = int(input(\"Informe um número: \"))\n",
    "        while len(lista) != n:\n",
    "            lista.append(int(input(\"Adicionar valor a lista: \")))\n",
    "        break\n",
    "    except ValueError:\n",
    "        print(\"Valorr incorreto\")\n",
    "\n",
    "for i in lista: \n",
    "    if i % 2 != 0: print(i)"
   ]
  },
  {
   "cell_type": "markdown",
   "id": "0e1e6a97",
   "metadata": {},
   "source": [
    "### 10 - Faça um programa que calcule e mostre a soma dos 50 primeiros números pares."
   ]
  },
  {
   "cell_type": "code",
   "execution_count": null,
   "id": "34db183a",
   "metadata": {},
   "outputs": [],
   "source": [
    "lista = []\n",
    "n = 0\n",
    "while len(lista) != 50:\n",
    "    if n % 2 == 0:\n",
    "        lista.append(n)\n",
    "        n += 1\n",
    "\n"
   ]
  },
  {
   "cell_type": "code",
   "execution_count": null,
   "id": "5e05a1aa",
   "metadata": {},
   "outputs": [],
   "source": [
    "print(sum(lista))"
   ]
  },
  {
   "cell_type": "code",
   "execution_count": null,
   "id": "cae575d1",
   "metadata": {},
   "outputs": [],
   "source": [
    "print(\"oi\")"
   ]
  },
  {
   "cell_type": "markdown",
   "id": "55b3d6f0",
   "metadata": {},
   "source": [
    "### 11 - Faça um programa que leia 10 inteiros positivos, ignorando não positivos e imprima a média."
   ]
  },
  {
   "cell_type": "code",
   "execution_count": 1,
   "id": "1a90f0ac",
   "metadata": {},
   "outputs": [
    {
     "name": "stdout",
     "output_type": "stream",
     "text": [
      "Informe um número5\n",
      "Informe um número-5\n",
      "Informe um número4\n",
      "Informe um número2\n",
      "Informe um número-9\n",
      "Informe um número2\n",
      "Informe um número-7\n",
      "Informe um número2\n",
      "Informe um número4\n",
      "Informe um número8\n",
      "Informe um número2\n",
      "Informe um número3\n",
      "Informe um número4\n"
     ]
    }
   ],
   "source": [
    "lista = []\n",
    "while len(lista) != 10:\n",
    "    n = int(input(\"Informe um número: \"))\n",
    "    if n > (0 - 1):\n",
    "        lista.append(n)"
   ]
  },
  {
   "cell_type": "code",
   "execution_count": 2,
   "id": "00890a12",
   "metadata": {},
   "outputs": [
    {
     "name": "stdout",
     "output_type": "stream",
     "text": [
      "3.6\n"
     ]
    }
   ],
   "source": [
    "print(sum(lista) / len(lista))"
   ]
  },
  {
   "cell_type": "markdown",
   "id": "40256796",
   "metadata": {},
   "source": [
    "### 11 - Faça um programa que leia um número inteiro positivo N e imprima todos os números naturais de 0 até N em ordem decrescente."
   ]
  },
  {
   "cell_type": "code",
   "execution_count": 9,
   "id": "ea9a2a42",
   "metadata": {},
   "outputs": [
    {
     "name": "stdout",
     "output_type": "stream",
     "text": [
      "informe um número9\n"
     ]
    }
   ],
   "source": [
    "n = int(input(\"informe um número\"))"
   ]
  },
  {
   "cell_type": "code",
   "execution_count": 12,
   "id": "f554bc49",
   "metadata": {},
   "outputs": [
    {
     "name": "stdout",
     "output_type": "stream",
     "text": [
      "9\n",
      "8\n",
      "7\n",
      "6\n",
      "5\n",
      "4\n",
      "3\n",
      "2\n",
      "1\n"
     ]
    }
   ],
   "source": [
    "while n > 0:\n",
    "    print(n)\n",
    "    n -= 1"
   ]
  },
  {
   "cell_type": "markdown",
   "id": "014f93ff",
   "metadata": {},
   "source": [
    "### 12 - Faça um programa que leia um número inteiro positivo N e imprima todos os números de 0 até N em ordem crescente"
   ]
  },
  {
   "cell_type": "code",
   "execution_count": 13,
   "id": "03476613",
   "metadata": {},
   "outputs": [
    {
     "name": "stdout",
     "output_type": "stream",
     "text": [
      "informe um número20\n"
     ]
    }
   ],
   "source": [
    "n = int(input(\"informe um número\"))"
   ]
  },
  {
   "cell_type": "code",
   "execution_count": 14,
   "id": "120e7085",
   "metadata": {},
   "outputs": [
    {
     "name": "stdout",
     "output_type": "stream",
     "text": [
      "0\n",
      "1\n",
      "2\n",
      "3\n",
      "4\n",
      "5\n",
      "6\n",
      "7\n",
      "8\n",
      "9\n",
      "10\n",
      "11\n",
      "12\n",
      "13\n",
      "14\n",
      "15\n",
      "16\n",
      "17\n",
      "18\n",
      "19\n"
     ]
    }
   ],
   "source": [
    "for i in range(n):\n",
    "    print(i)"
   ]
  },
  {
   "cell_type": "markdown",
   "id": "81588ca5",
   "metadata": {},
   "source": [
    "### 13 - Faça um programa que leia um número inteiro positivo par N e imprima todos os números pares de 0 até N em ordem crescente."
   ]
  },
  {
   "cell_type": "code",
   "execution_count": 17,
   "id": "d103c56e",
   "metadata": {},
   "outputs": [
    {
     "name": "stdout",
     "output_type": "stream",
     "text": [
      "Informe um número inteiro e par: 10\n"
     ]
    }
   ],
   "source": [
    "while True:\n",
    "    n = int(input(\"Informe um número inteiro e par: \"))\n",
    "    if n % 2 == 0:\n",
    "        break"
   ]
  },
  {
   "cell_type": "code",
   "execution_count": 18,
   "id": "7d9bef4c",
   "metadata": {},
   "outputs": [
    {
     "name": "stdout",
     "output_type": "stream",
     "text": [
      "0\n",
      "2\n",
      "4\n",
      "6\n",
      "8\n"
     ]
    }
   ],
   "source": [
    "for i in range(n):\n",
    "    if i % 2 == 0:\n",
    "        print(i)"
   ]
  },
  {
   "cell_type": "code",
   "execution_count": null,
   "id": "735cfe29",
   "metadata": {},
   "outputs": [],
   "source": []
  }
 ],
 "metadata": {
  "kernelspec": {
   "display_name": "Python 3 (ipykernel)",
   "language": "python",
   "name": "python3"
  },
  "language_info": {
   "codemirror_mode": {
    "name": "ipython",
    "version": 3
   },
   "file_extension": ".py",
   "mimetype": "text/x-python",
   "name": "python",
   "nbconvert_exporter": "python",
   "pygments_lexer": "ipython3",
   "version": "3.10.9"
  }
 },
 "nbformat": 4,
 "nbformat_minor": 5
}
