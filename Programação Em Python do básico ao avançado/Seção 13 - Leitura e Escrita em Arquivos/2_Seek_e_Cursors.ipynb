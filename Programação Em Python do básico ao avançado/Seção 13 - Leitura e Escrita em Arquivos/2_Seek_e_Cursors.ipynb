{
 "cells": [
  {
   "cell_type": "markdown",
   "id": "4caba9ff",
   "metadata": {},
   "source": [
    "# Seek e Cursors"
   ]
  },
  {
   "cell_type": "code",
   "execution_count": 29,
   "id": "aab9dd1a",
   "metadata": {},
   "outputs": [
    {
     "name": "stdout",
     "output_type": "stream",
     "text": [
      "Help on built-in function open in module io:\n",
      "\n",
      "open(file, mode='r', buffering=-1, encoding=None, errors=None, newline=None, closefd=True, opener=None)\n",
      "    Open file and return a stream.  Raise OSError upon failure.\n",
      "    \n",
      "    file is either a text or byte string giving the name (and the path\n",
      "    if the file isn't in the current working directory) of the file to\n",
      "    be opened or an integer file descriptor of the file to be\n",
      "    wrapped. (If a file descriptor is given, it is closed when the\n",
      "    returned I/O object is closed, unless closefd is set to False.)\n",
      "    \n",
      "    mode is an optional string that specifies the mode in which the file\n",
      "    is opened. It defaults to 'r' which means open for reading in text\n",
      "    mode.  Other common values are 'w' for writing (truncating the file if\n",
      "    it already exists), 'x' for creating and writing to a new file, and\n",
      "    'a' for appending (which on some Unix systems, means that all writes\n",
      "    append to the end of the file regardless of the current seek position).\n",
      "    In text mode, if encoding is not specified the encoding used is platform\n",
      "    dependent: locale.getpreferredencoding(False) is called to get the\n",
      "    current locale encoding. (For reading and writing raw bytes use binary\n",
      "    mode and leave encoding unspecified.) The available modes are:\n",
      "    \n",
      "    ========= ===============================================================\n",
      "    Character Meaning\n",
      "    --------- ---------------------------------------------------------------\n",
      "    'r'       open for reading (default)\n",
      "    'w'       open for writing, truncating the file first\n",
      "    'x'       create a new file and open it for writing\n",
      "    'a'       open for writing, appending to the end of the file if it exists\n",
      "    'b'       binary mode\n",
      "    't'       text mode (default)\n",
      "    '+'       open a disk file for updating (reading and writing)\n",
      "    'U'       universal newline mode (deprecated)\n",
      "    ========= ===============================================================\n",
      "    \n",
      "    The default mode is 'rt' (open for reading text). For binary random\n",
      "    access, the mode 'w+b' opens and truncates the file to 0 bytes, while\n",
      "    'r+b' opens the file without truncation. The 'x' mode implies 'w' and\n",
      "    raises an `FileExistsError` if the file already exists.\n",
      "    \n",
      "    Python distinguishes between files opened in binary and text modes,\n",
      "    even when the underlying operating system doesn't. Files opened in\n",
      "    binary mode (appending 'b' to the mode argument) return contents as\n",
      "    bytes objects without any decoding. In text mode (the default, or when\n",
      "    't' is appended to the mode argument), the contents of the file are\n",
      "    returned as strings, the bytes having been first decoded using a\n",
      "    platform-dependent encoding or using the specified encoding if given.\n",
      "    \n",
      "    'U' mode is deprecated and will raise an exception in future versions\n",
      "    of Python.  It has no effect in Python 3.  Use newline to control\n",
      "    universal newlines mode.\n",
      "    \n",
      "    buffering is an optional integer used to set the buffering policy.\n",
      "    Pass 0 to switch buffering off (only allowed in binary mode), 1 to select\n",
      "    line buffering (only usable in text mode), and an integer > 1 to indicate\n",
      "    the size of a fixed-size chunk buffer.  When no buffering argument is\n",
      "    given, the default buffering policy works as follows:\n",
      "    \n",
      "    * Binary files are buffered in fixed-size chunks; the size of the buffer\n",
      "      is chosen using a heuristic trying to determine the underlying device's\n",
      "      \"block size\" and falling back on `io.DEFAULT_BUFFER_SIZE`.\n",
      "      On many systems, the buffer will typically be 4096 or 8192 bytes long.\n",
      "    \n",
      "    * \"Interactive\" text files (files for which isatty() returns True)\n",
      "      use line buffering.  Other text files use the policy described above\n",
      "      for binary files.\n",
      "    \n",
      "    encoding is the name of the encoding used to decode or encode the\n",
      "    file. This should only be used in text mode. The default encoding is\n",
      "    platform dependent, but any encoding supported by Python can be\n",
      "    passed.  See the codecs module for the list of supported encodings.\n",
      "    \n",
      "    errors is an optional string that specifies how encoding errors are to\n",
      "    be handled---this argument should not be used in binary mode. Pass\n",
      "    'strict' to raise a ValueError exception if there is an encoding error\n",
      "    (the default of None has the same effect), or pass 'ignore' to ignore\n",
      "    errors. (Note that ignoring encoding errors can lead to data loss.)\n",
      "    See the documentation for codecs.register or run 'help(codecs.Codec)'\n",
      "    for a list of the permitted encoding error strings.\n",
      "    \n",
      "    newline controls how universal newlines works (it only applies to text\n",
      "    mode). It can be None, '', '\\n', '\\r', and '\\r\\n'.  It works as\n",
      "    follows:\n",
      "    \n",
      "    * On input, if newline is None, universal newlines mode is\n",
      "      enabled. Lines in the input can end in '\\n', '\\r', or '\\r\\n', and\n",
      "      these are translated into '\\n' before being returned to the\n",
      "      caller. If it is '', universal newline mode is enabled, but line\n",
      "      endings are returned to the caller untranslated. If it has any of\n",
      "      the other legal values, input lines are only terminated by the given\n",
      "      string, and the line ending is returned to the caller untranslated.\n",
      "    \n",
      "    * On output, if newline is None, any '\\n' characters written are\n",
      "      translated to the system default line separator, os.linesep. If\n",
      "      newline is '' or '\\n', no translation takes place. If newline is any\n",
      "      of the other legal values, any '\\n' characters written are translated\n",
      "      to the given string.\n",
      "    \n",
      "    If closefd is False, the underlying file descriptor will be kept open\n",
      "    when the file is closed. This does not work when a file name is given\n",
      "    and must be True in that case.\n",
      "    \n",
      "    A custom opener can be used by passing a callable as *opener*. The\n",
      "    underlying file descriptor for the file object is then obtained by\n",
      "    calling *opener* with (*file*, *flags*). *opener* must return an open\n",
      "    file descriptor (passing os.open as *opener* results in functionality\n",
      "    similar to passing None).\n",
      "    \n",
      "    open() returns a file object whose type depends on the mode, and\n",
      "    through which the standard file operations such as reading and writing\n",
      "    are performed. When open() is used to open a file in a text mode ('w',\n",
      "    'r', 'wt', 'rt', etc.), it returns a TextIOWrapper. When used to open\n",
      "    a file in a binary mode, the returned class varies: in read binary\n",
      "    mode, it returns a BufferedReader; in write binary and append binary\n",
      "    modes, it returns a BufferedWriter, and in read/write mode, it returns\n",
      "    a BufferedRandom.\n",
      "    \n",
      "    It is also possible to use a string or bytearray as a file for both\n",
      "    reading and writing. For strings StringIO can be used like a file\n",
      "    opened in a text mode, and for bytes a BytesIO can be used like a file\n",
      "    opened in a binary mode.\n",
      "\n"
     ]
    }
   ],
   "source": [
    "help(open)"
   ]
  },
  {
   "cell_type": "code",
   "execution_count": 31,
   "id": "feb63957",
   "metadata": {},
   "outputs": [
    {
     "data": {
      "text/plain": [
       "['__call__',\n",
       " '__class__',\n",
       " '__delattr__',\n",
       " '__dir__',\n",
       " '__doc__',\n",
       " '__eq__',\n",
       " '__format__',\n",
       " '__ge__',\n",
       " '__getattribute__',\n",
       " '__gt__',\n",
       " '__hash__',\n",
       " '__init__',\n",
       " '__init_subclass__',\n",
       " '__le__',\n",
       " '__lt__',\n",
       " '__module__',\n",
       " '__name__',\n",
       " '__ne__',\n",
       " '__new__',\n",
       " '__qualname__',\n",
       " '__reduce__',\n",
       " '__reduce_ex__',\n",
       " '__repr__',\n",
       " '__self__',\n",
       " '__setattr__',\n",
       " '__sizeof__',\n",
       " '__str__',\n",
       " '__subclasshook__',\n",
       " '__text_signature__']"
      ]
     },
     "execution_count": 31,
     "metadata": {},
     "output_type": "execute_result"
    }
   ],
   "source": [
    "dir(open)"
   ]
  },
  {
   "cell_type": "markdown",
   "id": "2cdad316",
   "metadata": {},
   "source": [
    "Seek() -> É utilizada para mover o cursor pelo arquivo"
   ]
  },
  {
   "cell_type": "markdown",
   "id": "03d728e6",
   "metadata": {},
   "source": [
    "Em Python, a leitura de arquivos pode ser feita usando o objeto \"file\", que representa o arquivo aberto em modo leitura. Para percorrer o arquivo, duas abordagens comuns são o uso de seek() e cursors.\n",
    "\n",
    "A função seek() permite que você defina a posição do ponteiro do arquivo (também conhecido como cursor) para um byte específico do arquivo. A posição do ponteiro é usada para determinar onde a próxima operação de leitura ou escrita deve ocorrer. O método seek() é útil quando você precisa pular para uma posição específica no arquivo, como quando você quer ignorar as primeiras linhas do arquivo ou se você precisa processar apenas uma seção específica do arquivo.\n",
    "\n",
    "Por exemplo, o código a seguir lê o conteúdo de um arquivo começando na posição 10:"
   ]
  },
  {
   "cell_type": "code",
   "execution_count": 12,
   "id": "bd97b5ae",
   "metadata": {},
   "outputs": [
    {
     "name": "stdout",
     "output_type": "stream",
     "text": [
      "Description\n",
      "\n",
      "file\tThe path and name of the file\n",
      "mode\tA string, define which mode you want to open the file in:\n",
      "\n",
      "Syntax:\n",
      "\n",
      "open(file, mode)\n",
      "\n",
      "\"r\" - Read - Default value. Opens a file for reading, error if the file does not exist\n",
      "\n",
      "\"a\" - Append - Opens a file for appending, creates the file if it does not exist\n",
      "\n",
      "\"w\" - Write - Opens a file for writing, creates the file if it does not exist\n",
      "\n",
      "\"x\" - Create - Creates the specified file, returns an error if the file exist\n",
      "\n",
      "In addition you can specify if the file should be handled as binary or text mode\n",
      "\n",
      "\"t\" - Text - Default value. Text mode\n",
      "\n",
      "\"b\" - Binary - Binary mode (e.g. images)\n"
     ]
    }
   ],
   "source": [
    "with open('texto.txt', 'r') as file:\n",
    "    file.seek(10)\n",
    "    data = file.read()\n",
    "    print(data)"
   ]
  },
  {
   "cell_type": "markdown",
   "id": "6484db62",
   "metadata": {},
   "source": [
    "O outro método comum para percorrer arquivos em Python é o uso de cursors. O cursor é um objeto que representa a posição atual no arquivo. Em Python, você pode criar um objeto cursor usando o método tell() que retorna a posição atual do ponteiro do arquivo. O método readline() é usado para ler uma linha do arquivo a partir da posição atual do cursor, e o método seek() pode ser usado para mover o cursor para uma posição diferente.\n",
    "\n",
    "Por exemplo, o código a seguir lê as três primeiras linhas de um arquivo usando um objeto cursor:"
   ]
  },
  {
   "cell_type": "code",
   "execution_count": 2,
   "id": "b4352f3c",
   "metadata": {},
   "outputs": [
    {
     "name": "stdout",
     "output_type": "stream",
     "text": [
      "Parameter\tDescription\n",
      "\n",
      "\n",
      "\n",
      "file\tThe path and name of the file\n",
      "\n"
     ]
    }
   ],
   "source": [
    "with open('texto.txt', 'r') as file:\n",
    "    cursor = file.tell()\n",
    "    for i in range(3):\n",
    "        line = file.readline()\n",
    "        print(line)\n",
    "    file.seek(cursor)"
   ]
  },
  {
   "cell_type": "code",
   "execution_count": 43,
   "id": "d5103f1b",
   "metadata": {},
   "outputs": [
    {
     "name": "stdout",
     "output_type": "stream",
     "text": [
      "Arvores balancam suavemente. as pessoas caminham pelas ruas, algumas sozinhas e outras em grupos, conversando e rindo. o som dos passaros e dos carros se mistura em uma\n",
      "sinfonia urbana. e um dia tranquilo e pacifico, perfeito para desfrutar da natureza e da vida. a cada passo, sinto-me grato por\n",
      "estar vivo e por fazer parte deste mundo maravilhoso\n"
     ]
    }
   ],
   "source": [
    "arquivo = open('arquivo.txt')\n",
    "print(arquivo.read())"
   ]
  },
  {
   "cell_type": "code",
   "execution_count": 45,
   "id": "54c75f28",
   "metadata": {},
   "outputs": [
    {
     "data": {
      "text/plain": [
       "'Arvores balancam sua'"
      ]
     },
     "execution_count": 45,
     "metadata": {},
     "output_type": "execute_result"
    }
   ],
   "source": [
    "arquivo = open('arquivo.txt')\n",
    "arquivo.read(20) #Podemos limitar a quantidade de caracteres a serem lidos pelo programa"
   ]
  },
  {
   "cell_type": "code",
   "execution_count": 7,
   "id": "0a944f01",
   "metadata": {},
   "outputs": [
    {
     "name": "stdout",
     "output_type": "stream",
     "text": [
      "Em Python, a leitura de arquivos pode ser feita usando o objeto \"file\", que representa o arquivo aberto em modo leitura. \n",
      "\n",
      "Para percorrer o arquivo, duas abordagens comuns sÃ£o o uso de seek() e cursors.\n",
      "\n",
      "A funÃ§Ã£o seek() permite que vocÃª defina a posiÃ§Ã£o do ponteiro do arquivo (tambÃ©m conhecido como cursor) para um byte especÃ­fico do arquivo.\n",
      "\n"
     ]
    }
   ],
   "source": [
    "with open('arquivo.txt', 'r') as file:\n",
    "    cursor = file.tell()\n",
    "    for i in range(3):\n",
    "        line = file.readline()\n",
    "        print(line)\n",
    "    file.seek(cursor)"
   ]
  },
  {
   "cell_type": "code",
   "execution_count": 14,
   "id": "2b2315f5",
   "metadata": {},
   "outputs": [
    {
     "data": {
      "text/plain": [
       "''"
      ]
     },
     "execution_count": 14,
     "metadata": {},
     "output_type": "execute_result"
    }
   ],
   "source": [
    "arquivo.read() #Nesse momento o cursor está no final. Portanto não está lendo os novos textos"
   ]
  },
  {
   "cell_type": "code",
   "execution_count": null,
   "id": "5517f1fb",
   "metadata": {},
   "outputs": [],
   "source": [
    "#Movimentando o cursor pelo arquivo com a função seek()\n",
    "#A função seek() é utilizada para movimentação do cursor pelo arquivo, ela arquivo um parâmetro que indica onde queremos\n",
    "#colocar o cursor"
   ]
  },
  {
   "cell_type": "code",
   "execution_count": 15,
   "id": "67d6a4a4",
   "metadata": {},
   "outputs": [
    {
     "data": {
      "text/plain": [
       "0"
      ]
     },
     "execution_count": 15,
     "metadata": {},
     "output_type": "execute_result"
    }
   ],
   "source": [
    "arquivo.seek(0) #seek(0) coloca o cursor no inicio do arquivo"
   ]
  },
  {
   "cell_type": "code",
   "execution_count": 16,
   "id": "d3f4177c",
   "metadata": {},
   "outputs": [
    {
     "data": {
      "text/plain": [
       "'Arvores balancam suavemente. as pessoas caminham pelas ruas, algumas sozinhas e outras em grupos, conversando e rindo. o som dos passaros e dos carros se mistura em uma\\nsinfonia urbana. e um dia tranquilo e pacifico, perfeito para desfrutar da natureza e da vida. a cada passo, sinto-me grato por\\nestar vivo e por fazer parte deste mundo maravilhoso'"
      ]
     },
     "execution_count": 16,
     "metadata": {},
     "output_type": "execute_result"
    }
   ],
   "source": [
    "arquivo.read()"
   ]
  },
  {
   "cell_type": "code",
   "execution_count": 17,
   "id": "d520c553",
   "metadata": {},
   "outputs": [
    {
     "data": {
      "text/plain": [
       "''"
      ]
     },
     "execution_count": 17,
     "metadata": {},
     "output_type": "execute_result"
    }
   ],
   "source": [
    "arquivo.read() #Novamente no final do texto"
   ]
  },
  {
   "cell_type": "code",
   "execution_count": 18,
   "id": "b55f6e94",
   "metadata": {},
   "outputs": [
    {
     "data": {
      "text/plain": [
       "10"
      ]
     },
     "execution_count": 18,
     "metadata": {},
     "output_type": "execute_result"
    }
   ],
   "source": [
    "arquivo.seek(10) #Faz o cursor do mouse no texto ir para a posição 20, portanto, começamos a ler a partir desse caracter"
   ]
  },
  {
   "cell_type": "code",
   "execution_count": 19,
   "id": "bb3f1aaa",
   "metadata": {},
   "outputs": [
    {
     "data": {
      "text/plain": [
       "'lancam suavemente. as pessoas caminham pelas ruas, algumas sozinhas e outras em grupos, conversando e rindo. o som dos passaros e dos carros se mistura em uma\\nsinfonia urbana. e um dia tranquilo e pacifico, perfeito para desfrutar da natureza e da vida. a cada passo, sinto-me grato por\\nestar vivo e por fazer parte deste mundo maravilhoso'"
      ]
     },
     "execution_count": 19,
     "metadata": {},
     "output_type": "execute_result"
    }
   ],
   "source": [
    "arquivo.read()"
   ]
  },
  {
   "cell_type": "markdown",
   "id": "2d2c81ae",
   "metadata": {},
   "source": [
    "###### Em muitos casos é muito díficil ler todas as páginas, portanto, é melhor ler linha por linha utilizando a função readline()"
   ]
  },
  {
   "cell_type": "code",
   "execution_count": 21,
   "id": "430b2b6f",
   "metadata": {},
   "outputs": [
    {
     "data": {
      "text/plain": [
       "0"
      ]
     },
     "execution_count": 21,
     "metadata": {},
     "output_type": "execute_result"
    }
   ],
   "source": [
    "arquivo.seek(0)"
   ]
  },
  {
   "cell_type": "code",
   "execution_count": 22,
   "id": "99c1bb63",
   "metadata": {},
   "outputs": [
    {
     "data": {
      "text/plain": [
       "'Arvores balancam suavemente. as pessoas caminham pelas ruas, algumas sozinhas e outras em grupos, conversando e rindo. o som dos passaros e dos carros se mistura em uma\\n'"
      ]
     },
     "execution_count": 22,
     "metadata": {},
     "output_type": "execute_result"
    }
   ],
   "source": [
    "arquivo.readline() #Imprime a primeira linha e o cursor espera no começo a segunda linha"
   ]
  },
  {
   "cell_type": "code",
   "execution_count": 23,
   "id": "49681c40",
   "metadata": {},
   "outputs": [
    {
     "data": {
      "text/plain": [
       "'sinfonia urbana. e um dia tranquilo e pacifico, perfeito para desfrutar da natureza e da vida. a cada passo, sinto-me grato por\\n'"
      ]
     },
     "execution_count": 23,
     "metadata": {},
     "output_type": "execute_result"
    }
   ],
   "source": [
    "arquivo.readline() #Imprime a terceira linha e espera para ler a terceira"
   ]
  },
  {
   "cell_type": "code",
   "execution_count": 24,
   "id": "0b584fb2",
   "metadata": {},
   "outputs": [
    {
     "name": "stdout",
     "output_type": "stream",
     "text": [
      "estar vivo e por fazer parte deste mundo maravilhoso\n",
      "<class 'str'>\n"
     ]
    }
   ],
   "source": [
    "ret = arquivo.readline()\n",
    "print(ret)\n",
    "print(type(ret))"
   ]
  },
  {
   "cell_type": "code",
   "execution_count": 25,
   "id": "32094089",
   "metadata": {},
   "outputs": [
    {
     "name": "stdout",
     "output_type": "stream",
     "text": [
      "['estar', 'vivo', 'e', 'por', 'fazer', 'parte', 'deste', 'mundo', 'maravilhoso']\n"
     ]
    }
   ],
   "source": [
    "print(ret.split(' '))"
   ]
  },
  {
   "cell_type": "code",
   "execution_count": null,
   "id": "0e023dea",
   "metadata": {},
   "outputs": [],
   "source": [
    "# Transformar toda leitura em lista\n",
    "readlines() -> Ler as linhas e transofrma tudo em uma lista de string separando-as por linhas"
   ]
  },
  {
   "cell_type": "code",
   "execution_count": 27,
   "id": "d7a0bc32",
   "metadata": {},
   "outputs": [
    {
     "data": {
      "text/plain": [
       "0"
      ]
     },
     "execution_count": 27,
     "metadata": {},
     "output_type": "execute_result"
    }
   ],
   "source": [
    "arquivo.seek(0)"
   ]
  },
  {
   "cell_type": "code",
   "execution_count": 28,
   "id": "33c204bb",
   "metadata": {},
   "outputs": [
    {
     "name": "stdout",
     "output_type": "stream",
     "text": [
      "['Arvores balancam suavemente. as pessoas caminham pelas ruas, algumas sozinhas e outras em grupos, conversando e rindo. o som dos passaros e dos carros se mistura em uma\\n', 'sinfonia urbana. e um dia tranquilo e pacifico, perfeito para desfrutar da natureza e da vida. a cada passo, sinto-me grato por\\n', 'estar vivo e por fazer parte deste mundo maravilhoso']\n",
      "<class 'list'>\n",
      "3\n"
     ]
    }
   ],
   "source": [
    "lista = arquivo.readlines()\n",
    "\n",
    "print(lista)\n",
    "print(type(lista))\n",
    "print(len(lista))"
   ]
  },
  {
   "cell_type": "markdown",
   "id": "1791c8b6",
   "metadata": {},
   "source": [
    "#### Quando abrimos um arquivo com a função open(), é criada uma conexão entre o arquivo no disco do sistema com o programa.\n",
    "#### Essa conexão é chamada de streaming.\n",
    "#### Ao finalizar os trabalhos com o arquivo, devemos fechar essa conexão, para isso utilizamos a função close()"
   ]
  },
  {
   "cell_type": "markdown",
   "id": "6aeb3b1d",
   "metadata": {},
   "source": [
    "#### Passos para trabalhar com um arquivo.\n",
    "\n",
    "#### 1 - Abrir o arquivo"
   ]
  },
  {
   "cell_type": "code",
   "execution_count": 36,
   "id": "b4d67a1d",
   "metadata": {},
   "outputs": [],
   "source": [
    "arquivo = open('arquivo.txt')"
   ]
  },
  {
   "cell_type": "markdown",
   "id": "b64d8f95",
   "metadata": {},
   "source": [
    "#### 2 - Trabalhar com o arquivo"
   ]
  },
  {
   "cell_type": "code",
   "execution_count": 37,
   "id": "769e20eb",
   "metadata": {},
   "outputs": [
    {
     "data": {
      "text/plain": [
       "'Arvores balancam suavemente. as pessoas caminham pelas ruas, algumas sozinhas e outras em grupos, conversando e rindo. o som dos passaros e dos carros se mistura em uma\\nsinfonia urbana. e um dia tranquilo e pacifico, perfeito para desfrutar da natureza e da vida. a cada passo, sinto-me grato por\\nestar vivo e por fazer parte deste mundo maravilhoso'"
      ]
     },
     "execution_count": 37,
     "metadata": {},
     "output_type": "execute_result"
    }
   ],
   "source": [
    "arquivo.read()"
   ]
  },
  {
   "cell_type": "markdown",
   "id": "7942babe",
   "metadata": {},
   "source": [
    "#### 3 - Fechar o arquivo"
   ]
  },
  {
   "cell_type": "code",
   "execution_count": 38,
   "id": "55dd3e7c",
   "metadata": {},
   "outputs": [
    {
     "data": {
      "text/plain": [
       "False"
      ]
     },
     "execution_count": 38,
     "metadata": {},
     "output_type": "execute_result"
    }
   ],
   "source": [
    "arquivo.closed #Verifica se o arquivo está aberto ou fechado. True (Fechado) False (Aberto)"
   ]
  },
  {
   "cell_type": "code",
   "execution_count": 39,
   "id": "76546a96",
   "metadata": {},
   "outputs": [],
   "source": [
    "arquivo.close()"
   ]
  },
  {
   "cell_type": "code",
   "execution_count": 40,
   "id": "5a9698b7",
   "metadata": {},
   "outputs": [
    {
     "data": {
      "text/plain": [
       "True"
      ]
     },
     "execution_count": 40,
     "metadata": {},
     "output_type": "execute_result"
    }
   ],
   "source": [
    "arquivo.closed #Verifica se o arquivo está aberto ou fechado. True (Fechado) False (Aberto)"
   ]
  },
  {
   "cell_type": "markdown",
   "id": "83e03a92",
   "metadata": {},
   "source": [
    "#### Se tentarmos manipular o arquivo após seu fechamento, teremos um valueError. Eu não manipulo mais ele depois de fechado"
   ]
  },
  {
   "cell_type": "code",
   "execution_count": 41,
   "id": "43c573a3",
   "metadata": {},
   "outputs": [
    {
     "ename": "ValueError",
     "evalue": "I/O operation on closed file.",
     "output_type": "error",
     "traceback": [
      "\u001b[1;31m---------------------------------------------------------------------------\u001b[0m",
      "\u001b[1;31mValueError\u001b[0m                                Traceback (most recent call last)",
      "\u001b[1;32m~\\AppData\\Local\\Temp\\ipykernel_24908\\1726691100.py\u001b[0m in \u001b[0;36m<module>\u001b[1;34m\u001b[0m\n\u001b[1;32m----> 1\u001b[1;33m \u001b[0marquivo\u001b[0m\u001b[1;33m.\u001b[0m\u001b[0mread\u001b[0m\u001b[1;33m(\u001b[0m\u001b[1;33m)\u001b[0m\u001b[1;33m\u001b[0m\u001b[1;33m\u001b[0m\u001b[0m\n\u001b[0m",
      "\u001b[1;31mValueError\u001b[0m: I/O operation on closed file."
     ]
    }
   ],
   "source": [
    "arquivo.read()"
   ]
  },
  {
   "cell_type": "code",
   "execution_count": null,
   "id": "a0ef08b6",
   "metadata": {},
   "outputs": [],
   "source": []
  }
 ],
 "metadata": {
  "kernelspec": {
   "display_name": "Python 3 (ipykernel)",
   "language": "python",
   "name": "python3"
  },
  "language_info": {
   "codemirror_mode": {
    "name": "ipython",
    "version": 3
   },
   "file_extension": ".py",
   "mimetype": "text/x-python",
   "name": "python",
   "nbconvert_exporter": "python",
   "pygments_lexer": "ipython3",
   "version": "3.9.13"
  }
 },
 "nbformat": 4,
 "nbformat_minor": 5
}
