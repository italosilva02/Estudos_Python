{
  "nbformat": 4,
  "nbformat_minor": 0,
  "metadata": {
    "colab": {
      "provenance": [],
      "authorship_tag": "ABX9TyNDwONlN7j+1jaQ/57T16AR",
      "include_colab_link": true
    },
    "kernelspec": {
      "name": "python3",
      "display_name": "Python 3"
    },
    "language_info": {
      "name": "python"
    }
  },
  "cells": [
    {
      "cell_type": "markdown",
      "metadata": {
        "id": "view-in-github",
        "colab_type": "text"
      },
      "source": [
        "<a href=\"https://colab.research.google.com/github/italosilva02/exercicioPy/blob/main/Debugando_c%C3%B3digo_com_PDB.ipynb\" target=\"_parent\"><img src=\"https://colab.research.google.com/assets/colab-badge.svg\" alt=\"Open In Colab\"/></a>"
      ]
    },
    {
      "cell_type": "markdown",
      "source": [
        "# **Debugando código com PDB**\n",
        "\n",
        "PDB -> Python Debugger\n",
        "\n",
        "bug - Inseto"
      ],
      "metadata": {
        "id": "tSCub6EAA9Mv"
      }
    },
    {
      "cell_type": "code",
      "source": [
        "def dividir(a, b):\n",
        "  try:\n",
        "    return int(a) / int(b)\n",
        "  except (ValueError, ZeroDivisionError) as err:\n",
        "    print(f'Valor inserido é invalido: {err}')\n"
      ],
      "metadata": {
        "id": "wGyMSQpNBgW7"
      },
      "execution_count": 7,
      "outputs": []
    },
    {
      "cell_type": "code",
      "source": [
        "dividir('a', 45)"
      ],
      "metadata": {
        "colab": {
          "base_uri": "https://localhost:8080/"
        },
        "id": "oaGLcHF8B2WB",
        "outputId": "268d0906-4f06-416c-f172-c6bbd7014555"
      },
      "execution_count": 8,
      "outputs": [
        {
          "output_type": "stream",
          "name": "stdout",
          "text": [
            "Valor inserido é invalido: invalid literal for int() with base 10: 'a'\n"
          ]
        }
      ]
    },
    {
      "cell_type": "code",
      "source": [
        "dividir(4.3, 0)"
      ],
      "metadata": {
        "colab": {
          "base_uri": "https://localhost:8080/"
        },
        "id": "ZpSY34dJB5C5",
        "outputId": "db6efc35-a45c-4f10-f26c-1117717811f2"
      },
      "execution_count": 9,
      "outputs": [
        {
          "output_type": "stream",
          "name": "stdout",
          "text": [
            "Valor inserido é invalido: division by zero\n"
          ]
        }
      ]
    },
    {
      "cell_type": "code",
      "source": [
        "dividir(4,2)"
      ],
      "metadata": {
        "colab": {
          "base_uri": "https://localhost:8080/"
        },
        "id": "YbXD70IWB-YJ",
        "outputId": "f9bc82df-1aa7-4247-a41d-1e709c2f1ce0"
      },
      "execution_count": 10,
      "outputs": [
        {
          "output_type": "execute_result",
          "data": {
            "text/plain": [
              "2.0"
            ]
          },
          "metadata": {},
          "execution_count": 10
        }
      ]
    },
    {
      "cell_type": "markdown",
      "source": [
        "Utilizando print para debugar código - A mesma é uma prática ruim"
      ],
      "metadata": {
        "id": "8dJ9EZ7gCZVS"
      }
    },
    {
      "cell_type": "code",
      "source": [
        "def dividir(a, b):\n",
        "  try:\n",
        "    print(f'Retorno a={a} e b={b}')\n",
        "    return int(a) / int(b)\n",
        "  except (ValueError, ZeroDivisionError) as err:\n",
        "    print(f'Valor inserido é invalido: {err}')"
      ],
      "metadata": {
        "id": "jwVG2049CeJx"
      },
      "execution_count": 11,
      "outputs": []
    },
    {
      "cell_type": "code",
      "source": [
        "dividir(4,2)"
      ],
      "metadata": {
        "colab": {
          "base_uri": "https://localhost:8080/"
        },
        "id": "0aNE4e7CCm3_",
        "outputId": "dc5bfd36-c84b-449d-acce-b4cd65cff0bc"
      },
      "execution_count": 12,
      "outputs": [
        {
          "output_type": "stream",
          "name": "stdout",
          "text": [
            "Retorno a=4 e b=2\n"
          ]
        },
        {
          "output_type": "execute_result",
          "data": {
            "text/plain": [
              "2.0"
            ]
          },
          "metadata": {},
          "execution_count": 12
        }
      ]
    },
    {
      "cell_type": "markdown",
      "source": [
        "Existem formas mais profissionais de se fazer esse 'debug', utilizando o debugger.\n",
        "Em Python, podemos fazer isso em diferentes IDEs, como o Pycharm ou utilizando o PDB - Python Debugger"
      ],
      "metadata": {
        "id": "VQuxIk01CoDt"
      }
    },
    {
      "cell_type": "markdown",
      "source": [
        "Para utilizar o Python Debugger, precisamos* importar a biblioteca pdb e então utilizar a função set_trace()"
      ],
      "metadata": {
        "id": "sqp8vQSyEzg6"
      }
    },
    {
      "cell_type": "code",
      "source": [
        "import pdb"
      ],
      "metadata": {
        "id": "PA4FI4lEE7ey"
      },
      "execution_count": 5,
      "outputs": []
    },
    {
      "cell_type": "code",
      "source": [
        "nome = 'Italo'\n",
        "sobrenome = 'Silva'\n",
        "idade = 24\n",
        "curso = 'Analise e Desenvolvimento de Sistema'\n",
        "final = f'O aluno {nome} {sobrenome} tem {idade} e faz o curso de {curso}'"
      ],
      "metadata": {
        "id": "yLDW7gcSFtwE"
      },
      "execution_count": 1,
      "outputs": []
    },
    {
      "cell_type": "code",
      "source": [
        "print(final)"
      ],
      "metadata": {
        "colab": {
          "base_uri": "https://localhost:8080/"
        },
        "id": "l41fytraF9v2",
        "outputId": "8b5a83e3-0609-47dd-8214-f1fb3ae1d2ed"
      },
      "execution_count": 3,
      "outputs": [
        {
          "output_type": "stream",
          "name": "stdout",
          "text": [
            "O aluno Italo Silva tem 24 e faz o curso de Analise e Desenvolvimento de Sistema\n"
          ]
        }
      ]
    },
    {
      "cell_type": "markdown",
      "source": [
        "#### **Comando básicos do PDB**"
      ],
      "metadata": {
        "id": "FNAojkydF_0_"
      }
    },
    {
      "cell_type": "markdown",
      "source": [
        "- l (para para listar onde estamos no código)\n",
        "- n (próxima linha)\n",
        "- p (imprime variável)\n",
        "- c continua a execução - finaliza o debugging"
      ],
      "metadata": {
        "id": "4tf9TlWFGEhY"
      }
    },
    {
      "cell_type": "code",
      "source": [
        "pdb.set_trace()"
      ],
      "metadata": {
        "colab": {
          "base_uri": "https://localhost:8080/"
        },
        "id": "qXNYgTPHGe4k",
        "outputId": "345b8c2c-86d8-4347-96c8-a37837207067"
      },
      "execution_count": null,
      "outputs": [
        {
          "output_type": "stream",
          "name": "stderr",
          "text": [
            "\n",
            "PYDEV DEBUGGER WARNING:\n",
            "sys.settrace() should not be used when the debugger is being used.\n",
            "This may cause the debugger to stop working correctly.\n",
            "If this is needed, please check: \n",
            "http://pydev.blogspot.com/2007/06/why-cant-pydev-debugger-work-with.html\n",
            "to see how to restore the debug tracing back correctly.\n",
            "Call Location:\n",
            "  File \"/usr/lib/python3.9/bdb.py\", line 334, in set_trace\n",
            "    sys.settrace(self.trace_dispatch)\n",
            "\n"
          ]
        },
        {
          "output_type": "stream",
          "name": "stdout",
          "text": [
            "--Call--\n",
            "> /usr/local/lib/python3.9/dist-packages/IPython/core/displayhook.py(252)__call__()\n",
            "-> def __call__(self, result=None):\n",
            "(Pdb) l\n",
            "247  \t    def finish_displayhook(self):\n",
            "248  \t        \"\"\"Finish up all displayhook activities.\"\"\"\n",
            "249  \t        sys.stdout.write(self.shell.separate_out2)\n",
            "250  \t        sys.stdout.flush()\n",
            "251  \t\n",
            "252  ->\t    def __call__(self, result=None):\n",
            "253  \t        \"\"\"Printing with history cache management.\n",
            "254  \t\n",
            "255  \t        This is invoked every time the interpreter needs to print, and is\n",
            "256  \t        activated by setting the variable sys.displayhook to it.\n",
            "257  \t        \"\"\"\n",
            "(Pdb) n\n",
            "> /usr/local/lib/python3.9/dist-packages/IPython/core/displayhook.py(258)__call__()\n",
            "-> self.check_for_underscore()\n",
            "(Pdb) nome\n",
            "*** NameError: name 'nome' is not defined\n",
            "(Pdb) sobrenome\n",
            "*** NameError: name 'sobrenome' is not defined\n",
            "(Pdb) final\n",
            "*** NameError: name 'final' is not defined\n",
            "--KeyboardInterrupt--\n",
            "--KeyboardInterrupt--\n",
            "--KeyboardInterrupt--\n",
            "--KeyboardInterrupt--\n"
          ]
        }
      ]
    },
    {
      "cell_type": "markdown",
      "source": [
        " c:\\programação python\\sessão9- comprehensions\\debuug.py(4)<module>()\n",
        "\n",
        "-> idade = 24\n",
        "\n",
        "(Pdb) l\n",
        "\n",
        "  1  \tnome = 'Italo'\n",
        "\n",
        "  2  \tsobrenome = 'Silva'\n",
        "\n",
        "  3  \tbreakpoint()\n",
        "\n",
        "  4  ->\tidade = 24\n",
        "\n",
        "  5  \tcurso = 'Analise e Desenvolvimento de Sistema'\n",
        "\n",
        "  6  \tfinal = f'O aluno {nome} {sobrenome} tem {idade} e faz o curso de {curso}'\n",
        "\n",
        "[EOF]\n",
        "\n",
        "(Pdb) nome\n",
        "\n",
        "'Italo'\n",
        "\n",
        "(Pdb) sobrenome\n",
        "\n",
        "'Silva'\n",
        "\n",
        "(Pdb) "
      ],
      "metadata": {
        "id": "MTauodO2JNhq"
      }
    }
  ]
}