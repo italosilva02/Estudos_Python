{
  "nbformat": 4,
  "nbformat_minor": 0,
  "metadata": {
    "colab": {
      "provenance": [],
      "authorship_tag": "ABX9TyN38UGxJ5ZzxstWMNPFTZB0",
      "include_colab_link": true
    },
    "kernelspec": {
      "name": "python3",
      "display_name": "Python 3"
    },
    "language_info": {
      "name": "python"
    }
  },
  "cells": [
    {
      "cell_type": "markdown",
      "metadata": {
        "id": "view-in-github",
        "colab_type": "text"
      },
      "source": [
        "<a href=\"https://colab.research.google.com/github/italosilva02/exercicioPy/blob/main/Comprehesions.ipynb\" target=\"_parent\"><img src=\"https://colab.research.google.com/assets/colab-badge.svg\" alt=\"Open In Colab\"/></a>"
      ]
    },
    {
      "cell_type": "markdown",
      "source": [
        "# **Comprehesions**"
      ],
      "metadata": {
        "id": "IB_bdvoEUYrt"
      }
    },
    {
      "cell_type": "markdown",
      "source": [
        "Compreensões em Python (comprehensions) são uma forma concisa e expressiva de criar sequências, como listas, dicionários e conjuntos, usando uma sintaxe compacta. Elas permitem que você crie essas estruturas de dados de forma mais rápida e legível do que escrevendo laços tradicionais e condicionais.\n",
        "\n",
        "Existem três tipos de compreensões em Python: lista, dicionário e conjunto.\n",
        "\n",
        "Compreensões de lista são usadas para criar novas listas com base em uma expressão ou uma sequência. A sintaxe básica é a seguinte:"
      ],
      "metadata": {
        "id": "EkZ1zqDYUb-K"
      }
    },
    {
      "cell_type": "code",
      "source": [
        "# [expressão for item in sequência if condição]"
      ],
      "metadata": {
        "id": "GU4UDIgNUcxf"
      },
      "execution_count": null,
      "outputs": []
    },
    {
      "cell_type": "markdown",
      "source": [
        "Aqui está um exemplo de como usar uma compreensão de lista para criar uma lista de números pares:"
      ],
      "metadata": {
        "id": "Jkc0jyOWUgL7"
      }
    },
    {
      "cell_type": "code",
      "source": [
        "pares = [x for x in range(10) if x % 2 == 0]"
      ],
      "metadata": {
        "id": "bOgWsnAqUhnq"
      },
      "execution_count": 2,
      "outputs": []
    },
    {
      "cell_type": "markdown",
      "source": [
        "Compreensões de dicionário são usadas para criar novos dicionários a partir de um iterável, como uma lista ou um conjunto. A sintaxe básica é a seguinte:"
      ],
      "metadata": {
        "id": "63jPNI60UoBl"
      }
    },
    {
      "cell_type": "code",
      "source": [
        "{chave: valor for item in iterável}"
      ],
      "metadata": {
        "id": "YZe7rrfmUq0X"
      },
      "execution_count": null,
      "outputs": []
    },
    {
      "cell_type": "markdown",
      "source": [],
      "metadata": {
        "id": "xNtBCpmPUrWZ"
      }
    },
    {
      "cell_type": "markdown",
      "source": [
        "Aqui está um exemplo de como usar uma compreensão de dicionário para criar um dicionário de quadrados:"
      ],
      "metadata": {
        "id": "-gqjK4XtUu9G"
      }
    },
    {
      "cell_type": "code",
      "source": [
        "quadrados = {x: x**2 for x in range(5)}"
      ],
      "metadata": {
        "id": "tadjjhrqUv1E"
      },
      "execution_count": 3,
      "outputs": []
    },
    {
      "cell_type": "markdown",
      "source": [
        "Compreensões de conjunto são usadas para criar novos conjuntos com base em uma expressão ou uma sequência. A sintaxe básica é a seguinte:"
      ],
      "metadata": {
        "id": "LUgR_9PMU1Xz"
      }
    },
    {
      "cell_type": "code",
      "source": [
        "{expressão for item in sequência if condição}"
      ],
      "metadata": {
        "id": "z3hMZezgU4d4"
      },
      "execution_count": null,
      "outputs": []
    },
    {
      "cell_type": "markdown",
      "source": [
        "Aqui está um exemplo de como usar uma compreensão de conjunto para criar um conjunto de números ímpares:"
      ],
      "metadata": {
        "id": "kJfWbynTU5DU"
      }
    },
    {
      "cell_type": "code",
      "source": [
        "impares = {x for x in range(10) if x % 2 != 0}"
      ],
      "metadata": {
        "id": "uOPWI0vAU76D"
      },
      "execution_count": null,
      "outputs": []
    },
    {
      "cell_type": "markdown",
      "source": [
        "As compreensões em Python são uma maneira poderosa e elegante de criar sequências e estruturas de dados de forma rápida e eficiente. Elas também são muito úteis para tornar seu código mais legível e expressivo."
      ],
      "metadata": {
        "id": "xoM0QdGmU_uE"
      }
    },
    {
      "cell_type": "markdown",
      "source": [
        "# **List Comprehensions**"
      ],
      "metadata": {
        "id": "uA4jO9aZVTCB"
      }
    },
    {
      "cell_type": "markdown",
      "source": [
        "Não existe uma trudução exatada. \n",
        "- Utilizando List Comprehensions nos podemos gerar novas lista com dados processados a partir de outro iterável."
      ],
      "metadata": {
        "id": "R427udxVVy1l"
      }
    },
    {
      "cell_type": "code",
      "source": [
        "pares = [x for x in range(10) if x % 2 == 0]"
      ],
      "metadata": {
        "id": "GYKAUAHHWG5R"
      },
      "execution_count": 5,
      "outputs": []
    },
    {
      "cell_type": "code",
      "source": [
        "print(pares)"
      ],
      "metadata": {
        "colab": {
          "base_uri": "https://localhost:8080/"
        },
        "id": "GqIh3YXOWWcl",
        "outputId": "2858b06c-9b7c-43e6-952d-e6d8273e330e"
      },
      "execution_count": 6,
      "outputs": [
        {
          "output_type": "stream",
          "name": "stdout",
          "text": [
            "[0, 2, 4, 6, 8]\n"
          ]
        }
      ]
    },
    {
      "cell_type": "code",
      "source": [
        "lista = [1,3,4,5,6,7,8]"
      ],
      "metadata": {
        "id": "yzfn5niAW9un"
      },
      "execution_count": 7,
      "outputs": []
    },
    {
      "cell_type": "code",
      "source": [
        "vezes10 = [numero * 10 for numero in lista]"
      ],
      "metadata": {
        "id": "GGD0hIDEXEMH"
      },
      "execution_count": 12,
      "outputs": []
    },
    {
      "cell_type": "code",
      "source": [
        "print(vezes10)"
      ],
      "metadata": {
        "colab": {
          "base_uri": "https://localhost:8080/"
        },
        "id": "EtJ1STLVXkEU",
        "outputId": "1beb8c95-4452-4a3a-8054-ed99fbdd5281"
      },
      "execution_count": 13,
      "outputs": [
        {
          "output_type": "stream",
          "name": "stdout",
          "text": [
            "[10, 30, 40, 50, 60, 70, 80]\n"
          ]
        }
      ]
    },
    {
      "cell_type": "markdown",
      "source": [
        "Para entender melhor o que está acontecendo devemos dividir a expressão em duas partes:\n",
        "- A primeira parte: for numero in numeros\n",
        "- A segunda parte: numero * 10"
      ],
      "metadata": {
        "id": "KvZI8IouXsyr"
      }
    },
    {
      "cell_type": "code",
      "source": [
        "res = [numero / 2 for numero in lista]"
      ],
      "metadata": {
        "id": "gv7tq4JpYEoB"
      },
      "execution_count": 14,
      "outputs": []
    },
    {
      "cell_type": "code",
      "source": [
        "print(res)"
      ],
      "metadata": {
        "colab": {
          "base_uri": "https://localhost:8080/"
        },
        "id": "D4mrzcBlYLZ9",
        "outputId": "285ef1f1-abef-45c2-9810-cb6457b901da"
      },
      "execution_count": 15,
      "outputs": [
        {
          "output_type": "stream",
          "name": "stdout",
          "text": [
            "[0.5, 1.5, 2.0, 2.5, 3.0, 3.5, 4.0]\n"
          ]
        }
      ]
    },
    {
      "cell_type": "code",
      "source": [
        "def multi(valor):\n",
        "  return valor * valor"
      ],
      "metadata": {
        "id": "hfvqYeE3YheR"
      },
      "execution_count": 16,
      "outputs": []
    },
    {
      "cell_type": "code",
      "source": [
        "res = [multi(numero) for numero in lista]"
      ],
      "metadata": {
        "id": "LqD62IFBYmMM"
      },
      "execution_count": 17,
      "outputs": []
    },
    {
      "cell_type": "code",
      "source": [
        "print(res)"
      ],
      "metadata": {
        "colab": {
          "base_uri": "https://localhost:8080/"
        },
        "id": "NLf4hdsiYtr9",
        "outputId": "fc2f1c93-afad-463b-9f9a-6ab143b98ca8"
      },
      "execution_count": 18,
      "outputs": [
        {
          "output_type": "stream",
          "name": "stdout",
          "text": [
            "[1, 9, 16, 25, 36, 49, 64]\n"
          ]
        }
      ]
    },
    {
      "cell_type": "markdown",
      "source": [
        "List Comprehesions vs Loop"
      ],
      "metadata": {
        "id": "Ep1l20EQY3OS"
      }
    },
    {
      "cell_type": "code",
      "source": [
        "numero = [1,2,3,4,5,6,7]"
      ],
      "metadata": {
        "id": "CPWfLPGvY7t0"
      },
      "execution_count": 19,
      "outputs": []
    },
    {
      "cell_type": "code",
      "source": [
        "dobro = []"
      ],
      "metadata": {
        "id": "W_zGgljgY_DY"
      },
      "execution_count": 20,
      "outputs": []
    },
    {
      "cell_type": "code",
      "source": [
        "for x in numero:\n",
        "  dobro.append(x*2)"
      ],
      "metadata": {
        "id": "V76HAyTqZBBh"
      },
      "execution_count": 21,
      "outputs": []
    },
    {
      "cell_type": "code",
      "source": [
        "print(dobro)"
      ],
      "metadata": {
        "colab": {
          "base_uri": "https://localhost:8080/"
        },
        "id": "rBSNaok3ZKp1",
        "outputId": "c0eece18-8967-4658-a302-54143ea8bdae"
      },
      "execution_count": 22,
      "outputs": [
        {
          "output_type": "stream",
          "name": "stdout",
          "text": [
            "[2, 4, 6, 8, 10, 12, 14]\n"
          ]
        }
      ]
    },
    {
      "cell_type": "markdown",
      "source": [
        "Com list Comprehesions"
      ],
      "metadata": {
        "id": "9NqBWk9iZaLx"
      }
    },
    {
      "cell_type": "code",
      "source": [
        "res = [numeros * 2 for numeros in numero]"
      ],
      "metadata": {
        "id": "MgJw-UUwZczR"
      },
      "execution_count": 25,
      "outputs": []
    },
    {
      "cell_type": "code",
      "source": [
        "print(res)"
      ],
      "metadata": {
        "colab": {
          "base_uri": "https://localhost:8080/"
        },
        "id": "74MbrbR-Zspy",
        "outputId": "9ede0293-a2de-4c85-bf1c-9218849259ac"
      },
      "execution_count": 26,
      "outputs": [
        {
          "output_type": "stream",
          "name": "stdout",
          "text": [
            "[2, 4, 6, 8, 10, 12, 14]\n"
          ]
        }
      ]
    },
    {
      "cell_type": "markdown",
      "source": [
        "Outros exemplos"
      ],
      "metadata": {
        "id": "ATAI091BaBos"
      }
    },
    {
      "cell_type": "code",
      "source": [
        "nome = 'italo silva de santana'"
      ],
      "metadata": {
        "id": "79_rcA9vaEkE"
      },
      "execution_count": 27,
      "outputs": []
    },
    {
      "cell_type": "code",
      "source": [
        "print([letra.upper() for letra in nome])"
      ],
      "metadata": {
        "colab": {
          "base_uri": "https://localhost:8080/"
        },
        "id": "ZVKWe3A4aHzg",
        "outputId": "35572268-dcbc-4687-fcd0-efa707eab09f"
      },
      "execution_count": 28,
      "outputs": [
        {
          "output_type": "stream",
          "name": "stdout",
          "text": [
            "['I', 'T', 'A', 'L', 'O', ' ', 'S', 'I', 'L', 'V', 'A', ' ', 'D', 'E', ' ', 'S', 'A', 'N', 'T', 'A', 'N', 'A']\n"
          ]
        }
      ]
    },
    {
      "cell_type": "markdown",
      "source": [
        "Exemplo 2:"
      ],
      "metadata": {
        "id": "3twR0KeNaXkq"
      }
    },
    {
      "cell_type": "code",
      "source": [
        "amigos = ['maria', 'julia', 'pedro', 'guilherme', 'carlos', 'joão']"
      ],
      "metadata": {
        "id": "bGw8CzWyaY5U"
      },
      "execution_count": 30,
      "outputs": []
    },
    {
      "cell_type": "code",
      "source": [
        "print([amigo.title() for amigo in amigos])"
      ],
      "metadata": {
        "colab": {
          "base_uri": "https://localhost:8080/"
        },
        "id": "1VLRVQffajwx",
        "outputId": "19fa3612-ae43-493d-89ff-c90180e1c289"
      },
      "execution_count": 33,
      "outputs": [
        {
          "output_type": "stream",
          "name": "stdout",
          "text": [
            "['Maria', 'Julia', 'Pedro', 'Guilherme', 'Carlos', 'João']\n"
          ]
        }
      ]
    },
    {
      "cell_type": "markdown",
      "source": [
        "Exemplo 3"
      ],
      "metadata": {
        "id": "y7sDW8KYbxx6"
      }
    },
    {
      "cell_type": "code",
      "source": [
        "print([numero * 2 for numero in range(1,20)])"
      ],
      "metadata": {
        "colab": {
          "base_uri": "https://localhost:8080/"
        },
        "id": "6Y-oX53SbzLu",
        "outputId": "a25ece98-78b5-494a-b567-fb9a852f997a"
      },
      "execution_count": 34,
      "outputs": [
        {
          "output_type": "stream",
          "name": "stdout",
          "text": [
            "[2, 4, 6, 8, 10, 12, 14, 16, 18, 20, 22, 24, 26, 28, 30, 32, 34, 36, 38]\n"
          ]
        }
      ]
    },
    {
      "cell_type": "code",
      "source": [
        "print([bool(valor) for valor in [1,[], 'Italo', 3.14, True, False]])"
      ],
      "metadata": {
        "colab": {
          "base_uri": "https://localhost:8080/"
        },
        "id": "ekhkcgH9b5fW",
        "outputId": "f61af475-f688-4bd1-b313-1cf7cebb2811"
      },
      "execution_count": 35,
      "outputs": [
        {
          "output_type": "stream",
          "name": "stdout",
          "text": [
            "[True, False, True, True, True, False]\n"
          ]
        }
      ]
    },
    {
      "cell_type": "markdown",
      "source": [
        "(0, string vazia, lista vazia) em Python são considerados como falso\n",
        "O restante é considerado True"
      ],
      "metadata": {
        "id": "XEZkzv_7ceHo"
      }
    },
    {
      "cell_type": "markdown",
      "source": [],
      "metadata": {
        "id": "BP9IyusBcpWd"
      }
    },
    {
      "cell_type": "code",
      "source": [
        "print([str(numero) for numero in range(1,20)])"
      ],
      "metadata": {
        "colab": {
          "base_uri": "https://localhost:8080/"
        },
        "id": "s_fYHsZgct94",
        "outputId": "f9710224-7135-4c1c-a901-bf08b7775f5a"
      },
      "execution_count": 36,
      "outputs": [
        {
          "output_type": "stream",
          "name": "stdout",
          "text": [
            "['1', '2', '3', '4', '5', '6', '7', '8', '9', '10', '11', '12', '13', '14', '15', '16', '17', '18', '19']\n"
          ]
        }
      ]
    },
    {
      "cell_type": "markdown",
      "source": [
        "# **Parte 2**"
      ],
      "metadata": {
        "id": "s6D8R8jHgiy7"
      }
    },
    {
      "cell_type": "markdown",
      "source": [
        "Nós podemos adicionar estruturas condicionais lógicas às nossas List Comprehensions"
      ],
      "metadata": {
        "id": "oFmDbNV-gmlj"
      }
    },
    {
      "cell_type": "code",
      "source": [
        "numeros = [1,2,3,4,5,6,7,8]"
      ],
      "metadata": {
        "id": "CVCmMp6Jg288"
      },
      "execution_count": 41,
      "outputs": []
    },
    {
      "cell_type": "code",
      "source": [
        "pares = [x for x in numeros if x%2==0]"
      ],
      "metadata": {
        "id": "ddpQZUHcg6wL"
      },
      "execution_count": 42,
      "outputs": []
    },
    {
      "cell_type": "code",
      "source": [
        "impares = [x for x in numeros if x%2!=0]"
      ],
      "metadata": {
        "id": "knbFA9C7hG_R"
      },
      "execution_count": 40,
      "outputs": []
    },
    {
      "cell_type": "code",
      "source": [
        "print(pares)"
      ],
      "metadata": {
        "colab": {
          "base_uri": "https://localhost:8080/"
        },
        "id": "M35XC41jhKsR",
        "outputId": "f7a2bf43-5c93-4803-e5f0-f4892a856eea"
      },
      "execution_count": 43,
      "outputs": [
        {
          "output_type": "stream",
          "name": "stdout",
          "text": [
            "[2, 4, 6, 8]\n"
          ]
        }
      ]
    },
    {
      "cell_type": "code",
      "source": [
        "print(impares)"
      ],
      "metadata": {
        "colab": {
          "base_uri": "https://localhost:8080/"
        },
        "id": "HHRLsMl8hMQe",
        "outputId": "4a3f76bd-637e-489c-bfbc-68d6ad374b59"
      },
      "execution_count": 44,
      "outputs": [
        {
          "output_type": "stream",
          "name": "stdout",
          "text": [
            "[1, 3, 5, 7]\n"
          ]
        }
      ]
    },
    {
      "cell_type": "markdown",
      "source": [
        "Refatorando"
      ],
      "metadata": {
        "id": "G0mF5EXyhYE7"
      }
    },
    {
      "cell_type": "markdown",
      "source": [
        "Qualquer número par módulo de 2 é 0 e 0 em Python é False. not False = True"
      ],
      "metadata": {
        "id": "4v4okVeDhnHI"
      }
    },
    {
      "cell_type": "code",
      "source": [
        "pares = [numero for numero in numeros if not numero % 2]"
      ],
      "metadata": {
        "id": "p1h0HdM9hZ9o"
      },
      "execution_count": 45,
      "outputs": []
    },
    {
      "cell_type": "markdown",
      "source": [
        "Qualquer número ímpar módulo de 2 é 1, e 1 em Python é True"
      ],
      "metadata": {
        "id": "2RLscDzJhun3"
      }
    },
    {
      "cell_type": "code",
      "source": [
        "impares = [numero for numero in numeros if numero % 2]"
      ],
      "metadata": {
        "id": "W910BLDth01J"
      },
      "execution_count": 46,
      "outputs": []
    },
    {
      "cell_type": "code",
      "source": [
        "print(pares)"
      ],
      "metadata": {
        "colab": {
          "base_uri": "https://localhost:8080/"
        },
        "id": "36I-8-csh62T",
        "outputId": "5b171ad1-2c05-4ed8-9f57-54484e2f04a8"
      },
      "execution_count": 47,
      "outputs": [
        {
          "output_type": "stream",
          "name": "stdout",
          "text": [
            "[2, 4, 6, 8]\n"
          ]
        }
      ]
    },
    {
      "cell_type": "code",
      "source": [
        "print(impares)"
      ],
      "metadata": {
        "colab": {
          "base_uri": "https://localhost:8080/"
        },
        "id": "80-zNK2Oh86T",
        "outputId": "a604f341-b9de-42e1-b88a-d98cef7aed29"
      },
      "execution_count": 48,
      "outputs": [
        {
          "output_type": "stream",
          "name": "stdout",
          "text": [
            "[1, 3, 5, 7]\n"
          ]
        }
      ]
    },
    {
      "cell_type": "code",
      "source": [
        "res = [numero * 2 if numero % 2 == 0 else numero / 2 for numero in numeros]"
      ],
      "metadata": {
        "id": "waTCT1lziS7T"
      },
      "execution_count": 51,
      "outputs": []
    },
    {
      "cell_type": "code",
      "source": [
        "print(res)"
      ],
      "metadata": {
        "colab": {
          "base_uri": "https://localhost:8080/"
        },
        "id": "9WvssrvVigOS",
        "outputId": "09e4c0a1-4974-44aa-c681-1e11731deaa5"
      },
      "execution_count": 52,
      "outputs": [
        {
          "output_type": "stream",
          "name": "stdout",
          "text": [
            "[0.5, 4, 1.5, 8, 2.5, 12, 3.5, 16]\n"
          ]
        }
      ]
    },
    {
      "cell_type": "markdown",
      "source": [
        "# **Listas aninhadas**"
      ],
      "metadata": {
        "id": "G6pnYd3ji451"
      }
    },
    {
      "cell_type": "markdown",
      "source": [
        "Algumas linguagens de programação possuem uma estrutura de dados chamadas de arrays:\n",
        "- unidimensionais (Arrays/Vetores)\n",
        "- multidimensionais (Matrizes)\n",
        "\n",
        "Em python existem somente às listas\n",
        "\n",
        "numero = [1,2,3,4,5,6]\n",
        "\n",
        "Em C e Java o tamanho de vetor é limitado e homogenio, portanto, o tamanho não pode ser alterado e o vetor deve ter somente um tipo de dado"
      ],
      "metadata": {
        "id": "RDyDk2zWi9q_"
      }
    },
    {
      "cell_type": "markdown",
      "source": [
        "Exemplos"
      ],
      "metadata": {
        "id": "O6PkyEiPrE43"
      }
    },
    {
      "cell_type": "code",
      "source": [
        "listas = [[1,2,3], [4,5,6], [7,8,9]] #Matriz 3 x 3"
      ],
      "metadata": {
        "id": "OD8Nyn9GrGDn"
      },
      "execution_count": 63,
      "outputs": []
    },
    {
      "cell_type": "code",
      "source": [
        "print(listas)"
      ],
      "metadata": {
        "colab": {
          "base_uri": "https://localhost:8080/"
        },
        "id": "esRCUu9urR6S",
        "outputId": "19812dab-e3ef-4438-f45a-c3cddc1add12"
      },
      "execution_count": 54,
      "outputs": [
        {
          "output_type": "stream",
          "name": "stdout",
          "text": [
            "[[1, 2, 3], [4, 5, 6], [7, 8, 9]]\n"
          ]
        }
      ]
    },
    {
      "cell_type": "code",
      "source": [
        "print(type(listas))"
      ],
      "metadata": {
        "colab": {
          "base_uri": "https://localhost:8080/"
        },
        "id": "FgGyUuD6rT_I",
        "outputId": "30972e1d-3d86-466d-c7d3-8db92f130ca8"
      },
      "execution_count": 55,
      "outputs": [
        {
          "output_type": "stream",
          "name": "stdout",
          "text": [
            "<class 'list'>\n"
          ]
        }
      ]
    },
    {
      "cell_type": "markdown",
      "source": [
        "Como fazemos para acessar os dados"
      ],
      "metadata": {
        "id": "sP6O1pFlrhG3"
      }
    },
    {
      "cell_type": "code",
      "source": [
        "print(listas[0])"
      ],
      "metadata": {
        "colab": {
          "base_uri": "https://localhost:8080/"
        },
        "id": "0DifGaeNrjEo",
        "outputId": "ee8fe1a3-60e4-47d0-9050-f6952ec1abf9"
      },
      "execution_count": 56,
      "outputs": [
        {
          "output_type": "stream",
          "name": "stdout",
          "text": [
            "[1, 2, 3]\n"
          ]
        }
      ]
    },
    {
      "cell_type": "code",
      "source": [
        "print(listas[0][1]) #Acessando o segundo valor da primeira lista = 2"
      ],
      "metadata": {
        "colab": {
          "base_uri": "https://localhost:8080/"
        },
        "id": "-z2gcHo7rq8o",
        "outputId": "4be2d7f5-699b-4ad8-90dd-3208497832c4"
      },
      "execution_count": 57,
      "outputs": [
        {
          "output_type": "stream",
          "name": "stdout",
          "text": [
            "2\n"
          ]
        }
      ]
    },
    {
      "cell_type": "code",
      "source": [
        "print(listas[2][1]) #Acessando o segundo valor da ultima lista = 8"
      ],
      "metadata": {
        "colab": {
          "base_uri": "https://localhost:8080/"
        },
        "id": "GzsfZ-xeryW7",
        "outputId": "949d98ff-104b-4411-a6fc-cf4668226e1e"
      },
      "execution_count": 58,
      "outputs": [
        {
          "output_type": "stream",
          "name": "stdout",
          "text": [
            "8\n"
          ]
        }
      ]
    },
    {
      "cell_type": "code",
      "source": [
        "print(listas[2][-2]) #Fazendo acesso ao penultimo elemento"
      ],
      "metadata": {
        "colab": {
          "base_uri": "https://localhost:8080/"
        },
        "id": "ar0zYNTEsCGv",
        "outputId": "43f2fce6-8378-48cc-b5a2-753499fa8239"
      },
      "execution_count": 59,
      "outputs": [
        {
          "output_type": "stream",
          "name": "stdout",
          "text": [
            "8\n"
          ]
        }
      ]
    },
    {
      "cell_type": "markdown",
      "source": [
        "Iterando com loops em uma lista aninhada"
      ],
      "metadata": {
        "id": "XvJGLsDysHob"
      }
    },
    {
      "cell_type": "code",
      "source": [
        "for x in listas:\n",
        "  for numero in x:\n",
        "    print(numero)"
      ],
      "metadata": {
        "colab": {
          "base_uri": "https://localhost:8080/"
        },
        "id": "YQHJUobqsKtd",
        "outputId": "c1920ac4-c168-4594-b3c0-b8bcb81a2a2b"
      },
      "execution_count": 61,
      "outputs": [
        {
          "output_type": "stream",
          "name": "stdout",
          "text": [
            "1\n",
            "2\n",
            "3\n",
            "4\n",
            "5\n",
            "6\n",
            "7\n",
            "8\n",
            "9\n"
          ]
        }
      ]
    },
    {
      "cell_type": "markdown",
      "source": [
        "List Comprehension"
      ],
      "metadata": {
        "id": "ak0MqH_Wshov"
      }
    },
    {
      "cell_type": "code",
      "source": [
        "print([numero for x in listas  for numero in x])"
      ],
      "metadata": {
        "colab": {
          "base_uri": "https://localhost:8080/"
        },
        "id": "X7FOOmiBsjpW",
        "outputId": "fb668bce-529a-404d-eed1-36b172aaf982"
      },
      "execution_count": 66,
      "outputs": [
        {
          "output_type": "stream",
          "name": "stdout",
          "text": [
            "[1, 2, 3, 4, 5, 6, 7, 8, 9]\n"
          ]
        }
      ]
    },
    {
      "cell_type": "code",
      "source": [
        "[[print(valor) for valor in lista] for lista in listas] "
      ],
      "metadata": {
        "colab": {
          "base_uri": "https://localhost:8080/"
        },
        "id": "T0UUuFAHtRI1",
        "outputId": "c648dda6-b734-441a-b115-c855161730aa"
      },
      "execution_count": 69,
      "outputs": [
        {
          "output_type": "stream",
          "name": "stdout",
          "text": [
            "1\n",
            "2\n",
            "3\n",
            "4\n",
            "5\n",
            "6\n",
            "7\n",
            "8\n",
            "9\n"
          ]
        },
        {
          "output_type": "execute_result",
          "data": {
            "text/plain": [
              "[[None, None, None], [None, None, None], [None, None, None]]"
            ]
          },
          "metadata": {},
          "execution_count": 69
        }
      ]
    },
    {
      "cell_type": "code",
      "source": [
        "print([valor for lista in listas for valor in lista])"
      ],
      "metadata": {
        "colab": {
          "base_uri": "https://localhost:8080/"
        },
        "id": "IARpfSQltpkp",
        "outputId": "7d9d0cd0-8721-44c1-fbf2-4c605cf92e21"
      },
      "execution_count": 76,
      "outputs": [
        {
          "output_type": "stream",
          "name": "stdout",
          "text": [
            "[[1, 1, 1], [3, 3, 3], [4, 4, 4], [5, 5, 5], [6, 6, 6], [7, 7, 7], [8, 8, 8]]\n"
          ]
        }
      ]
    },
    {
      "cell_type": "markdown",
      "source": [
        "Gerando um tabuleiro/Matriz 3x3"
      ],
      "metadata": {
        "id": "41vC7M218KOF"
      }
    },
    {
      "cell_type": "code",
      "source": [
        "tabuleiro = [[numero for numero in range(1,4)] for valor in range(1,4)]"
      ],
      "metadata": {
        "id": "WnyEUebQ8N5Q"
      },
      "execution_count": 74,
      "outputs": []
    },
    {
      "cell_type": "code",
      "source": [
        "print(tabuleiro)"
      ],
      "metadata": {
        "colab": {
          "base_uri": "https://localhost:8080/"
        },
        "id": "8yiDXYwi8ZAL",
        "outputId": "39e52ad9-7cb1-49cf-8f48-ae721eca5e83"
      },
      "execution_count": 75,
      "outputs": [
        {
          "output_type": "stream",
          "name": "stdout",
          "text": [
            "[[1, 2, 3], [1, 2, 3], [1, 2, 3]]\n"
          ]
        }
      ]
    },
    {
      "cell_type": "markdown",
      "source": [
        "Gerando jogadas para o jogo da velha"
      ],
      "metadata": {
        "id": "7TweAKyf8xQC"
      }
    },
    {
      "cell_type": "code",
      "source": [
        "velha = [['X' if numero % 2 == 0 else 'O' for numero in range(1,4)] for valor in range (1,4)]"
      ],
      "metadata": {
        "id": "KI3jIs4n8zmO"
      },
      "execution_count": 83,
      "outputs": []
    },
    {
      "cell_type": "code",
      "source": [
        "print(velha)"
      ],
      "metadata": {
        "colab": {
          "base_uri": "https://localhost:8080/"
        },
        "id": "-YCqs2f79DPO",
        "outputId": "fa055009-55f8-4e18-a621-8696d3343382"
      },
      "execution_count": 84,
      "outputs": [
        {
          "output_type": "stream",
          "name": "stdout",
          "text": [
            "[['O', 'X', 'O'], ['O', 'X', 'O'], ['O', 'X', 'O']]\n"
          ]
        }
      ]
    },
    {
      "cell_type": "code",
      "source": [
        "print([['*' for i in range(1,4)] for j in range(1,4)])"
      ],
      "metadata": {
        "colab": {
          "base_uri": "https://localhost:8080/"
        },
        "id": "Xpw3TrS29Z8o",
        "outputId": "d92d747e-5942-45dd-c17c-0e6caf0904c8"
      },
      "execution_count": 85,
      "outputs": [
        {
          "output_type": "stream",
          "name": "stdout",
          "text": [
            "[['*', '*', '*'], ['*', '*', '*'], ['*', '*', '*']]\n"
          ]
        }
      ]
    },
    {
      "cell_type": "markdown",
      "source": [
        "## **Dictionary Comprehensions**"
      ],
      "metadata": {
        "id": "L0pIK_Ex-Cqp"
      }
    },
    {
      "cell_type": "markdown",
      "source": [
        "Pense o seguinte:\n",
        "\n",
        "Se quisermos criar uma lista fazemos:\n",
        "\n",
        "lista = [1,2,3,4]\n",
        "\n",
        "Se quisermos criar uma tupla fazemos:\n",
        "\n",
        "tupla = (1,2,3,4)\n",
        "\n",
        "Se quisermos um set/conjunto fazemos:\n",
        "\n",
        "conjunto = {1,2,3,4}\n",
        "\n",
        "Se quisermos criar um dicionário fazemos:\n",
        "\n",
        "dicionario = {'a': 1, 'b': 2, 'c': 3, 'd': 4}"
      ],
      "metadata": {
        "id": "om66TAE2-INx"
      }
    },
    {
      "cell_type": "markdown",
      "source": [
        "### Sintaxy\n",
        "\n",
        "{chave: valor for valor in iterável}"
      ],
      "metadata": {
        "id": "AD1kaUnM-_Bf"
      }
    },
    {
      "cell_type": "code",
      "source": [
        "dicionario = {'a': 1, 'b': 2, 'c': 3, 'd': 4}"
      ],
      "metadata": {
        "id": "nmQzFo_c_H0Z"
      },
      "execution_count": 86,
      "outputs": []
    },
    {
      "cell_type": "code",
      "source": [
        "print({chave:valor ** 2 for chave, valor in dicionario.items()})"
      ],
      "metadata": {
        "colab": {
          "base_uri": "https://localhost:8080/"
        },
        "id": "5AlXDB1e_MDi",
        "outputId": "920661b3-dd4a-4162-e0df-3c702270844b"
      },
      "execution_count": 92,
      "outputs": [
        {
          "output_type": "stream",
          "name": "stdout",
          "text": [
            "{'a': 1, 'b': 4, 'c': 9, 'd': 16}\n"
          ]
        }
      ]
    },
    {
      "cell_type": "code",
      "source": [
        "numero = [1,2,3,4,5]"
      ],
      "metadata": {
        "id": "tjSSgZ-EAOjv"
      },
      "execution_count": 93,
      "outputs": []
    },
    {
      "cell_type": "code",
      "source": [
        "quadrado = {valor: valor ** 2 for valor in numero}"
      ],
      "metadata": {
        "id": "dCqAQ-HWAQ2j"
      },
      "execution_count": 94,
      "outputs": []
    },
    {
      "cell_type": "code",
      "source": [
        "print(quadrado)"
      ],
      "metadata": {
        "colab": {
          "base_uri": "https://localhost:8080/"
        },
        "id": "igJ_Egw3AaJQ",
        "outputId": "5eb559b3-a2fd-42a5-d8a4-15716b86d822"
      },
      "execution_count": 95,
      "outputs": [
        {
          "output_type": "stream",
          "name": "stdout",
          "text": [
            "{1: 1, 2: 4, 3: 9, 4: 16, 5: 25}\n"
          ]
        }
      ]
    },
    {
      "cell_type": "markdown",
      "source": [
        "Lembrando que em dicionário não existe repetição de chave"
      ],
      "metadata": {
        "id": "iAcFUIKQAz5r"
      }
    },
    {
      "cell_type": "code",
      "source": [
        "numero = [1,2,3,4,5,1,2,3,4,5]"
      ],
      "metadata": {
        "id": "b1UK_iQUA6Fb"
      },
      "execution_count": 96,
      "outputs": []
    },
    {
      "cell_type": "code",
      "source": [
        "quadrado = {valor: valor ** 2 for valor in numero}"
      ],
      "metadata": {
        "id": "rSrVHFGVA8MS"
      },
      "execution_count": 97,
      "outputs": []
    },
    {
      "cell_type": "code",
      "source": [
        "print(quadrado)"
      ],
      "metadata": {
        "colab": {
          "base_uri": "https://localhost:8080/"
        },
        "id": "FYs48cR9A9NI",
        "outputId": "22444156-2dee-4da0-844e-9e7b1f17feaa"
      },
      "execution_count": 98,
      "outputs": [
        {
          "output_type": "stream",
          "name": "stdout",
          "text": [
            "{1: 1, 2: 4, 3: 9, 4: 16, 5: 25}\n"
          ]
        }
      ]
    },
    {
      "cell_type": "code",
      "source": [
        "chave = 'abcdefghi'"
      ],
      "metadata": {
        "id": "PdgKCD6-A_qN"
      },
      "execution_count": 101,
      "outputs": []
    },
    {
      "cell_type": "code",
      "source": [
        "valores = [1,2,3,4,5,6,7,8]"
      ],
      "metadata": {
        "id": "LsT8yMSMBCsF"
      },
      "execution_count": 100,
      "outputs": []
    },
    {
      "cell_type": "code",
      "source": [
        "mistura = {chave[i]:valores[i] for i in range(0, len(valores))}"
      ],
      "metadata": {
        "id": "aM9L2InIBGzz"
      },
      "execution_count": 102,
      "outputs": []
    },
    {
      "cell_type": "code",
      "source": [
        "print(mistura)"
      ],
      "metadata": {
        "colab": {
          "base_uri": "https://localhost:8080/"
        },
        "id": "AUO6up0uBTXS",
        "outputId": "df3e4ae5-8dca-4474-d9d8-018aa97e9586"
      },
      "execution_count": 103,
      "outputs": [
        {
          "output_type": "stream",
          "name": "stdout",
          "text": [
            "{'a': 1, 'b': 2, 'c': 3, 'd': 4, 'e': 5, 'f': 6, 'g': 7, 'h': 8}\n"
          ]
        }
      ]
    },
    {
      "cell_type": "code",
      "source": [
        "nome = 'italo silva de santana'"
      ],
      "metadata": {
        "id": "4IIN_FlsBZxH"
      },
      "execution_count": 113,
      "outputs": []
    },
    {
      "cell_type": "code",
      "source": [
        "chave = [1,2,3,4,5,6,7,8,9,10,11,12,13,14]"
      ],
      "metadata": {
        "id": "zrxnv8JmBdoz"
      },
      "execution_count": 114,
      "outputs": []
    },
    {
      "cell_type": "code",
      "source": [
        "nomeDic = {chave[i]:nome[i] for i in range(0, len(chave))}"
      ],
      "metadata": {
        "id": "FAxDMCRQB3fI"
      },
      "execution_count": 120,
      "outputs": []
    },
    {
      "cell_type": "code",
      "source": [
        "print(nomeDic)"
      ],
      "metadata": {
        "colab": {
          "base_uri": "https://localhost:8080/"
        },
        "id": "1k75MQjTCSsg",
        "outputId": "4bb3cf53-5a5b-40c5-c26f-eba34cb69ce3"
      },
      "execution_count": 121,
      "outputs": [
        {
          "output_type": "stream",
          "name": "stdout",
          "text": [
            "{1: 'i', 2: 't', 3: 'a', 4: 'l', 5: 'o', 6: ' ', 7: 's', 8: 'i', 9: 'l', 10: 'v', 11: 'a', 12: ' ', 13: 'd', 14: 'e'}\n"
          ]
        }
      ]
    },
    {
      "cell_type": "code",
      "source": [
        "numeros = [1,2,3,4,5,6,7,8,9,12,13,14,15,16,17]"
      ],
      "metadata": {
        "id": "VchbwJ5lDIBG"
      },
      "execution_count": 137,
      "outputs": []
    },
    {
      "cell_type": "code",
      "source": [
        "res = {num:('par' if num % 2 == 0 else 'Impar') for num in numeros}"
      ],
      "metadata": {
        "id": "LaV_wG7fDRA3"
      },
      "execution_count": 123,
      "outputs": []
    },
    {
      "cell_type": "code",
      "source": [
        "print(res)"
      ],
      "metadata": {
        "colab": {
          "base_uri": "https://localhost:8080/"
        },
        "id": "i8tCJB6VDl0B",
        "outputId": "2d911013-b56a-45b6-cbba-2cef0f578689"
      },
      "execution_count": 124,
      "outputs": [
        {
          "output_type": "stream",
          "name": "stdout",
          "text": [
            "{1: 'Impar', 2: 'par', 3: 'Impar', 4: 'par', 5: 'Impar', 6: 'par', 7: 'Impar', 8: 'par', 9: 'Impar', 12: 'par', 13: 'Impar', 14: 'par', 15: 'Impar', 16: 'par', 17: 'Impar'}\n"
          ]
        }
      ]
    },
    {
      "cell_type": "code",
      "source": [
        "lista = []"
      ],
      "metadata": {
        "id": "1ZvpDeJUDqA_"
      },
      "execution_count": 126,
      "outputs": []
    },
    {
      "cell_type": "code",
      "source": [
        "for x in numeros:\n",
        "  if x % 2 == 0:\n",
        "      lista.append(x)"
      ],
      "metadata": {
        "id": "grcVF4DrDtm8"
      },
      "execution_count": 128,
      "outputs": []
    },
    {
      "cell_type": "code",
      "source": [
        "print(lista)"
      ],
      "metadata": {
        "colab": {
          "base_uri": "https://localhost:8080/"
        },
        "id": "XXiI2yD8D74Q",
        "outputId": "a942395d-deb4-4eed-f617-cf178a8d2c6a"
      },
      "execution_count": 129,
      "outputs": [
        {
          "output_type": "stream",
          "name": "stdout",
          "text": [
            "[2, 4, 6, 8, 12, 14, 16]\n"
          ]
        }
      ]
    },
    {
      "cell_type": "code",
      "source": [
        "print([x for x in numeros if x % 2 == 0])"
      ],
      "metadata": {
        "colab": {
          "base_uri": "https://localhost:8080/"
        },
        "id": "CuPUsBYSD94w",
        "outputId": "6fe79536-fcbd-465f-f261-f9cb6bdd6593"
      },
      "execution_count": 139,
      "outputs": [
        {
          "output_type": "stream",
          "name": "stdout",
          "text": [
            "[2, 4, 6, 8, 12, 14, 16]\n"
          ]
        }
      ]
    },
    {
      "cell_type": "markdown",
      "source": [
        "# **Set Comprehesion**"
      ],
      "metadata": {
        "id": "ir2VkS8dF0Kv"
      }
    },
    {
      "cell_type": "markdown",
      "source": [
        "- lista = [1,2,3,4,5]\n",
        "- set = {1,2,3,4,5}"
      ],
      "metadata": {
        "id": "FAxdPqbIF4qY"
      }
    },
    {
      "cell_type": "code",
      "source": [
        "numero = {num for num in range(0,7)}"
      ],
      "metadata": {
        "id": "-JQ4ygJSGpXY"
      },
      "execution_count": 140,
      "outputs": []
    },
    {
      "cell_type": "code",
      "source": [
        "print(numero)"
      ],
      "metadata": {
        "colab": {
          "base_uri": "https://localhost:8080/"
        },
        "id": "2a9y_L5SGu00",
        "outputId": "597d2f9c-eaaf-4dd7-ed93-5736fc49ef5c"
      },
      "execution_count": 141,
      "outputs": [
        {
          "output_type": "stream",
          "name": "stdout",
          "text": [
            "{0, 1, 2, 3, 4, 5, 6}\n"
          ]
        }
      ]
    },
    {
      "cell_type": "code",
      "source": [
        "numeros = {x * 2  for x in range(0,11)}"
      ],
      "metadata": {
        "id": "aYqCA6Z2Gw7X"
      },
      "execution_count": 148,
      "outputs": []
    },
    {
      "cell_type": "code",
      "source": [
        "print(numeros)"
      ],
      "metadata": {
        "colab": {
          "base_uri": "https://localhost:8080/"
        },
        "id": "dDAzaC8fG2N1",
        "outputId": "6ae62242-f5b5-475b-d1d1-80431f79dcda"
      },
      "execution_count": 149,
      "outputs": [
        {
          "output_type": "stream",
          "name": "stdout",
          "text": [
            "{0, 2, 4, 6, 8, 10, 12, 14, 16, 18, 20}\n"
          ]
        }
      ]
    },
    {
      "cell_type": "markdown",
      "source": [
        "Faça uma alteração na estrutura acima para gerar um dicionário ao invés de um set"
      ],
      "metadata": {
        "id": "j22wEDIyHPVN"
      }
    },
    {
      "cell_type": "code",
      "source": [
        "numero = {valor:valor ** 2 for valor in numeros}"
      ],
      "metadata": {
        "id": "6F1B_ENvHUeH"
      },
      "execution_count": 153,
      "outputs": []
    },
    {
      "cell_type": "code",
      "source": [
        "print(numero)"
      ],
      "metadata": {
        "colab": {
          "base_uri": "https://localhost:8080/"
        },
        "id": "sOzH_WWyHn9p",
        "outputId": "4e447898-2d21-4d0c-9912-c9de27b7241b"
      },
      "execution_count": 154,
      "outputs": [
        {
          "output_type": "stream",
          "name": "stdout",
          "text": [
            "{0: 0, 2: 4, 4: 16, 6: 36, 8: 64, 10: 100, 12: 144, 14: 196, 16: 256, 18: 324, 20: 400}\n"
          ]
        }
      ]
    },
    {
      "cell_type": "code",
      "source": [
        "letra = {letra for letra in 'Geek University'}"
      ],
      "metadata": {
        "id": "gyIS8YHyH76z"
      },
      "execution_count": 155,
      "outputs": []
    },
    {
      "cell_type": "code",
      "source": [
        "print(letra)"
      ],
      "metadata": {
        "colab": {
          "base_uri": "https://localhost:8080/"
        },
        "id": "LzBd4hZVIBMd",
        "outputId": "210201d4-f653-4532-e0a7-fb740051c558"
      },
      "execution_count": 156,
      "outputs": [
        {
          "output_type": "stream",
          "name": "stdout",
          "text": [
            "{'e', ' ', 'U', 'v', 's', 'y', 'G', 'i', 'n', 'r', 'k', 't'}\n"
          ]
        }
      ]
    }
  ]
}