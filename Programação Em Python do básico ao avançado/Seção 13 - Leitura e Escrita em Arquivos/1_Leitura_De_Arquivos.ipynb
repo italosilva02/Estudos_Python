{
 "cells": [
  {
   "cell_type": "markdown",
   "metadata": {
    "id": "Es3U7pZFL2EG"
   },
   "source": [
    "# **Leitura de arquivo**"
   ]
  },
  {
   "cell_type": "code",
   "execution_count": 1,
   "metadata": {},
   "outputs": [
    {
     "data": {
      "text/plain": [
       "_io.TextIOWrapper"
      ]
     },
     "execution_count": 1,
     "metadata": {},
     "output_type": "execute_result"
    }
   ],
   "source": [
    "a = open('texto.txt')\n",
    "type(a)"
   ]
  },
  {
   "cell_type": "markdown",
   "metadata": {
    "id": "Ht_sgJJqOcQx"
   },
   "source": [
    "Para ler o conteúdo de um arquivo em Python, utilizamos a função integrada **open()** que significa 'abrir'"
   ]
  },
  {
   "cell_type": "markdown",
   "metadata": {
    "id": "OpbQ6CdcOlyW"
   },
   "source": [
    "open() -> Na forma mais simples de utilização nós passamos apenas um parâmetro de entrada, que nesse caso é o caminho para o arquivo a ser lido. Essa função retorna um _io.TextIOWrapper e é com ele que trabalhamos então."
   ]
  },
  {
   "cell_type": "code",
   "execution_count": 2,
   "metadata": {
    "colab": {
     "base_uri": "https://localhost:8080/"
    },
    "id": "3iHjdf8GPE69",
    "outputId": "73b5086e-c6be-43d6-d37a-a88b68008527"
   },
   "outputs": [
    {
     "data": {
      "text/plain": [
       "['__call__',\n",
       " '__class__',\n",
       " '__delattr__',\n",
       " '__dir__',\n",
       " '__doc__',\n",
       " '__eq__',\n",
       " '__format__',\n",
       " '__ge__',\n",
       " '__getattribute__',\n",
       " '__gt__',\n",
       " '__hash__',\n",
       " '__init__',\n",
       " '__init_subclass__',\n",
       " '__le__',\n",
       " '__lt__',\n",
       " '__module__',\n",
       " '__name__',\n",
       " '__ne__',\n",
       " '__new__',\n",
       " '__qualname__',\n",
       " '__reduce__',\n",
       " '__reduce_ex__',\n",
       " '__repr__',\n",
       " '__self__',\n",
       " '__setattr__',\n",
       " '__sizeof__',\n",
       " '__str__',\n",
       " '__subclasshook__',\n",
       " '__text_signature__']"
      ]
     },
     "execution_count": 2,
     "metadata": {},
     "output_type": "execute_result"
    }
   ],
   "source": [
    "dir(open)"
   ]
  },
  {
   "cell_type": "markdown",
   "metadata": {
    "id": "HoEYZ7cMPRe-"
   },
   "source": [
    "https://www.w3schools.com/python/ref_func_open.asp"
   ]
  },
  {
   "cell_type": "markdown",
   "metadata": {
    "id": "9PrzFkIePSrN"
   },
   "source": [
    "OBS: Por padrão, a função open() abre o arquivo para leitura. Este arquivo deve existir, ou então teremos o erro FileNotFoundError"
   ]
  },
  {
   "cell_type": "code",
   "execution_count": 3,
   "metadata": {},
   "outputs": [
    {
     "name": "stdout",
     "output_type": "stream",
     "text": [
      "<_io.TextIOWrapper name='texto.txt' mode='r' encoding='cp1252'>\n",
      "<class '_io.TextIOWrapper'>\n"
     ]
    }
   ],
   "source": [
    "a = open('texto.txt')\n",
    "print(a)\n",
    "print(type(a))"
   ]
  },
  {
   "cell_type": "markdown",
   "metadata": {},
   "source": [
    "###### Para ler o conteúdo de um arquivo após sua abertura, devemos utilizar a função read()"
   ]
  },
  {
   "cell_type": "code",
   "execution_count": 4,
   "metadata": {},
   "outputs": [
    {
     "name": "stdout",
     "output_type": "stream",
     "text": [
      "Eu estou estudando na Geek University e eu estou aprendendo Python\n"
     ]
    }
   ],
   "source": [
    "print(a.read())"
   ]
  },
  {
   "cell_type": "code",
   "execution_count": 5,
   "metadata": {},
   "outputs": [
    {
     "name": "stdout",
     "output_type": "stream",
     "text": [
      "\n"
     ]
    }
   ],
   "source": [
    "print(a.read())"
   ]
  },
  {
   "cell_type": "markdown",
   "metadata": {},
   "source": [
    "###### O Python utiliza um recurso para trabalhar com arquivos chamado cursor. Esse cursor funciona como o cursor quando estamos escrevendo.\n",
    "###### Quando lemos um arquivo, o cursor do arquivo vai até o final, portanto, se formos imprimir novamente, o retorno será em branco já que não tem nada depois do cursor."
   ]
  },
  {
   "cell_type": "code",
   "execution_count": 6,
   "metadata": {},
   "outputs": [
    {
     "name": "stdout",
     "output_type": "stream",
     "text": [
      ".\n",
      "\n",
      "\n",
      "Outro texto\n"
     ]
    }
   ],
   "source": [
    "print(a.read())"
   ]
  },
  {
   "cell_type": "markdown",
   "metadata": {},
   "source": [
    "###### A função read() lê todo o conteúdo do arquivo."
   ]
  },
  {
   "cell_type": "code",
   "execution_count": 7,
   "metadata": {},
   "outputs": [
    {
     "name": "stdout",
     "output_type": "stream",
     "text": [
      "Parameter\tDescription\n",
      "\n",
      "file\tThe path and name of the file\n",
      "mode\tA string, define which mode you want to open the file in:\n",
      "\n",
      "\"r\" - Read - Default value. Opens a file for reading, error if the file does not exist\n",
      "\n",
      "\"a\" - Append - Opens a file for appending, creates the file if it does not exist\n",
      "\n",
      "\"w\" - Write - Opens a file for writing, creates the file if it does not exist\n",
      "\n",
      "\"x\" - Create - Creates the specified file, returns an error if the file exist\n",
      "\n",
      "In addition you can specify if the file should be handled as binary or text mode\n",
      "\n",
      "\"t\" - Text - Default value. Text mode\n",
      "\n",
      "\"b\" - Binary - Binary mode (e.g. images)\n",
      "\n"
     ]
    }
   ],
   "source": [
    "arquivo = open('texto.txt')\n",
    "leitura = arquivo.read()\n",
    "print(leitura)"
   ]
  },
  {
   "cell_type": "code",
   "execution_count": 8,
   "metadata": {},
   "outputs": [
    {
     "data": {
      "text/plain": [
       "str"
      ]
     },
     "execution_count": 8,
     "metadata": {},
     "output_type": "execute_result"
    }
   ],
   "source": [
    "type(leitura)"
   ]
  },
  {
   "cell_type": "code",
   "execution_count": null,
   "metadata": {},
   "outputs": [],
   "source": []
  }
 ],
 "metadata": {
  "colab": {
   "provenance": []
  },
  "kernelspec": {
   "display_name": "Python 3 (ipykernel)",
   "language": "python",
   "name": "python3"
  },
  "language_info": {
   "codemirror_mode": {
    "name": "ipython",
    "version": 3
   },
   "file_extension": ".py",
   "mimetype": "text/x-python",
   "name": "python",
   "nbconvert_exporter": "python",
   "pygments_lexer": "ipython3",
   "version": "3.9.13"
  }
 },
 "nbformat": 4,
 "nbformat_minor": 1
}
