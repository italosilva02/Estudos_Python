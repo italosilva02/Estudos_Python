{
  "nbformat": 4,
  "nbformat_minor": 0,
  "metadata": {
    "colab": {
      "provenance": []
    },
    "kernelspec": {
      "name": "python3",
      "display_name": "Python 3"
    },
    "language_info": {
      "name": "python"
    }
  },
  "cells": [
    {
      "cell_type": "markdown",
      "source": [
        "# **01 - O que vamos aprender:**"
      ],
      "metadata": {
        "id": "TZdwhwHyVWOf"
      }
    },
    {
      "cell_type": "markdown",
      "source": [
        "- O módulo random\n",
        "- TRabalhando com módulos Built-in\n",
        "- Módulos customizados\n",
        "- Instalando e utilizando módulos externos\n",
        "- Pacotes\n",
        "- Dunder Main E Dunder Name\n",
        "- Recaptulando"
      ],
      "metadata": {
        "id": "GQLrDy3AVaOZ"
      }
    },
    {
      "cell_type": "markdown",
      "source": [
        "# **02 - O módulo random**"
      ],
      "metadata": {
        "id": "2Cy6wa8PVzsf"
      }
    },
    {
      "cell_type": "markdown",
      "source": [
        "O módulo random do Python é uma biblioteca padrão que fornece funções para gerar números aleatórios. Esses números aleatórios são úteis em uma ampla variedade de aplicativos, como jogos, simulações, análise de dados, criptografia e muito mais.\n",
        "\n",
        "Algumas das funções mais comuns do módulo random são:\n",
        "\n",
        "- **random**(): gera um número aleatório entre 0 e 1.\n",
        "- **randint**(a, b): gera um número inteiro aleatório entre a e b, inclusive.\n",
        "- **uniform**(a, b): gera um número de ponto flutuante aleatório entre a e b.\n",
        "- **choice**(seq): escolhe um elemento aleatório de uma sequência seq.\n",
        "- **shuffle**(seq): embaralha aleatoriamente os elementos de uma sequência seq.\n",
        "\n",
        "Além disso, o módulo random fornece algumas funções para gerar sequências de números aleatórios com características específicas, como:\n",
        "\n",
        "**seed(**a): inicializa o gerador de números aleatórios com uma semente a.\n",
        "**getstate**(): retorna o estado atual do gerador de números aleatórios.\n",
        "**setstate**(state): define o estado do gerador de números aleatórios para um valor anterior.\n",
        "\n",
        "O módulo **random é muito útil para simulações e experimentos que exigem valores aleatórios**, mas também é importante lembrar que os números gerados por esse módulo não são verdadeiramente aleatórios, pois são gerados por um algoritmo determinístico."
      ],
      "metadata": {
        "id": "3XU-8UTAWO5n"
      }
    },
    {
      "cell_type": "markdown",
      "source": [
        "#### **O que são módulos?**\n",
        "\n",
        "- Módulos são outros arquivos python\n",
        "- Os módulos são úteis para deixar nosso código mais simples e rápido\n",
        "- Eles podem ser escritos por programadores e compartilhados com a comunidade em formato de pacotes\n",
        "- Python tem uma comunidade grande e ativa, o que signífica que há muitos módulos para se utilizar\n",
        "- Para utilizar o módulo, precisamos instalar e importar"
      ],
      "metadata": {
        "id": "xsARkPxOWiUK"
      }
    },
    {
      "cell_type": "markdown",
      "source": [
        "#### **random**\n",
        "\n",
        "Módulo Random -> Possui várias funções para gerações de números pseudo-aleatório.\n",
        "\n",
        "obs: existem duas formas de se utilizar uma módulo ou função deste;\n",
        "\n"
      ],
      "metadata": {
        "id": "OFuV8uzYXQ7u"
      }
    },
    {
      "cell_type": "markdown",
      "source": [
        "- **Forma 1 - Importando todo o módulo (Não recomendado)**\n",
        "\n",
        "  * import random (ao importar todo o módulo, todas as funções, atributos, classes e propriedades que estiverem dentro do módulo ficarão disponíveis (Ficarão em Memória));\n",
        "  * Caso você saiba quais funções você precisa utilizar deste módulo, então não seria a forma ideal de utilização. Nós veremos uma forma melhor de utilizar."
      ],
      "metadata": {
        "id": "o15gB_44YKNY"
      }
    },
    {
      "cell_type": "code",
      "source": [
        "import random"
      ],
      "metadata": {
        "id": "FgLIJO3NYHeh"
      },
      "execution_count": 1,
      "outputs": []
    },
    {
      "cell_type": "code",
      "source": [
        "dir(random)"
      ],
      "metadata": {
        "colab": {
          "base_uri": "https://localhost:8080/"
        },
        "id": "bn0I8klFYRyw",
        "outputId": "aab5fd26-36ab-4e99-fd58-b6e564d47a0d"
      },
      "execution_count": 2,
      "outputs": [
        {
          "output_type": "execute_result",
          "data": {
            "text/plain": [
              "['BPF',\n",
              " 'LOG4',\n",
              " 'NV_MAGICCONST',\n",
              " 'RECIP_BPF',\n",
              " 'Random',\n",
              " 'SG_MAGICCONST',\n",
              " 'SystemRandom',\n",
              " 'TWOPI',\n",
              " '_Sequence',\n",
              " '_Set',\n",
              " '__all__',\n",
              " '__builtins__',\n",
              " '__cached__',\n",
              " '__doc__',\n",
              " '__file__',\n",
              " '__loader__',\n",
              " '__name__',\n",
              " '__package__',\n",
              " '__spec__',\n",
              " '_accumulate',\n",
              " '_acos',\n",
              " '_bisect',\n",
              " '_ceil',\n",
              " '_cos',\n",
              " '_e',\n",
              " '_exp',\n",
              " '_floor',\n",
              " '_inst',\n",
              " '_log',\n",
              " '_os',\n",
              " '_pi',\n",
              " '_random',\n",
              " '_repeat',\n",
              " '_sha512',\n",
              " '_sin',\n",
              " '_sqrt',\n",
              " '_test',\n",
              " '_test_generator',\n",
              " '_urandom',\n",
              " '_warn',\n",
              " 'betavariate',\n",
              " 'choice',\n",
              " 'choices',\n",
              " 'expovariate',\n",
              " 'gammavariate',\n",
              " 'gauss',\n",
              " 'getrandbits',\n",
              " 'getstate',\n",
              " 'lognormvariate',\n",
              " 'normalvariate',\n",
              " 'paretovariate',\n",
              " 'randbytes',\n",
              " 'randint',\n",
              " 'random',\n",
              " 'randrange',\n",
              " 'sample',\n",
              " 'seed',\n",
              " 'setstate',\n",
              " 'shuffle',\n",
              " 'triangular',\n",
              " 'uniform',\n",
              " 'vonmisesvariate',\n",
              " 'weibullvariate']"
            ]
          },
          "metadata": {},
          "execution_count": 2
        }
      ]
    },
    {
      "cell_type": "code",
      "source": [
        "help(random.Random())"
      ],
      "metadata": {
        "colab": {
          "base_uri": "https://localhost:8080/"
        },
        "id": "UlEkxucKYi7r",
        "outputId": "ebca5ea3-b9b5-4b47-e514-ebe3500b706d"
      },
      "execution_count": 7,
      "outputs": [
        {
          "output_type": "stream",
          "name": "stdout",
          "text": [
            "Help on Random in module random object:\n",
            "\n",
            "class Random(_random.Random)\n",
            " |  Random(x=None)\n",
            " |  \n",
            " |  Random number generator base class used by bound module functions.\n",
            " |  \n",
            " |  Used to instantiate instances of Random to get generators that don't\n",
            " |  share state.\n",
            " |  \n",
            " |  Class Random can also be subclassed if you want to use a different basic\n",
            " |  generator of your own devising: in that case, override the following\n",
            " |  methods:  random(), seed(), getstate(), and setstate().\n",
            " |  Optionally, implement a getrandbits() method so that randrange()\n",
            " |  can cover arbitrarily large ranges.\n",
            " |  \n",
            " |  Method resolution order:\n",
            " |      Random\n",
            " |      _random.Random\n",
            " |      builtins.object\n",
            " |  \n",
            " |  Methods defined here:\n",
            " |  \n",
            " |  __getstate__(self)\n",
            " |      # Issue 17489: Since __reduce__ was defined to fix #759889 this is no\n",
            " |      # longer called; we leave it here because it has been here since random was\n",
            " |      # rewritten back in 2001 and why risk breaking something.\n",
            " |  \n",
            " |  __init__(self, x=None)\n",
            " |      Initialize an instance.\n",
            " |      \n",
            " |      Optional argument x controls seeding, as for Random.seed().\n",
            " |  \n",
            " |  __reduce__(self)\n",
            " |      Helper for pickle.\n",
            " |  \n",
            " |  __setstate__(self, state)\n",
            " |  \n",
            " |  betavariate(self, alpha, beta)\n",
            " |      Beta distribution.\n",
            " |      \n",
            " |      Conditions on the parameters are alpha > 0 and beta > 0.\n",
            " |      Returned values range between 0 and 1.\n",
            " |  \n",
            " |  choice(self, seq)\n",
            " |      Choose a random element from a non-empty sequence.\n",
            " |  \n",
            " |  choices(self, population, weights=None, *, cum_weights=None, k=1)\n",
            " |      Return a k sized list of population elements chosen with replacement.\n",
            " |      \n",
            " |      If the relative weights or cumulative weights are not specified,\n",
            " |      the selections are made with equal probability.\n",
            " |  \n",
            " |  expovariate(self, lambd)\n",
            " |      Exponential distribution.\n",
            " |      \n",
            " |      lambd is 1.0 divided by the desired mean.  It should be\n",
            " |      nonzero.  (The parameter would be called \"lambda\", but that is\n",
            " |      a reserved word in Python.)  Returned values range from 0 to\n",
            " |      positive infinity if lambd is positive, and from negative\n",
            " |      infinity to 0 if lambd is negative.\n",
            " |  \n",
            " |  gammavariate(self, alpha, beta)\n",
            " |      Gamma distribution.  Not the gamma function!\n",
            " |      \n",
            " |      Conditions on the parameters are alpha > 0 and beta > 0.\n",
            " |      \n",
            " |      The probability distribution function is:\n",
            " |      \n",
            " |                  x ** (alpha - 1) * math.exp(-x / beta)\n",
            " |        pdf(x) =  --------------------------------------\n",
            " |                    math.gamma(alpha) * beta ** alpha\n",
            " |  \n",
            " |  gauss(self, mu, sigma)\n",
            " |      Gaussian distribution.\n",
            " |      \n",
            " |      mu is the mean, and sigma is the standard deviation.  This is\n",
            " |      slightly faster than the normalvariate() function.\n",
            " |      \n",
            " |      Not thread-safe without a lock around calls.\n",
            " |  \n",
            " |  getstate(self)\n",
            " |      Return internal state; can be passed to setstate() later.\n",
            " |  \n",
            " |  lognormvariate(self, mu, sigma)\n",
            " |      Log normal distribution.\n",
            " |      \n",
            " |      If you take the natural logarithm of this distribution, you'll get a\n",
            " |      normal distribution with mean mu and standard deviation sigma.\n",
            " |      mu can have any value, and sigma must be greater than zero.\n",
            " |  \n",
            " |  normalvariate(self, mu, sigma)\n",
            " |      Normal distribution.\n",
            " |      \n",
            " |      mu is the mean, and sigma is the standard deviation.\n",
            " |  \n",
            " |  paretovariate(self, alpha)\n",
            " |      Pareto distribution.  alpha is the shape parameter.\n",
            " |  \n",
            " |  randbytes(self, n)\n",
            " |      Generate n random bytes.\n",
            " |  \n",
            " |  randint(self, a, b)\n",
            " |      Return random integer in range [a, b], including both end points.\n",
            " |  \n",
            " |  randrange(self, start, stop=None, step=1)\n",
            " |      Choose a random item from range(start, stop[, step]).\n",
            " |      \n",
            " |      This fixes the problem with randint() which includes the\n",
            " |      endpoint; in Python this is usually not what you want.\n",
            " |  \n",
            " |  sample(self, population, k, *, counts=None)\n",
            " |      Chooses k unique random elements from a population sequence or set.\n",
            " |      \n",
            " |      Returns a new list containing elements from the population while\n",
            " |      leaving the original population unchanged.  The resulting list is\n",
            " |      in selection order so that all sub-slices will also be valid random\n",
            " |      samples.  This allows raffle winners (the sample) to be partitioned\n",
            " |      into grand prize and second place winners (the subslices).\n",
            " |      \n",
            " |      Members of the population need not be hashable or unique.  If the\n",
            " |      population contains repeats, then each occurrence is a possible\n",
            " |      selection in the sample.\n",
            " |      \n",
            " |      Repeated elements can be specified one at a time or with the optional\n",
            " |      counts parameter.  For example:\n",
            " |      \n",
            " |          sample(['red', 'blue'], counts=[4, 2], k=5)\n",
            " |      \n",
            " |      is equivalent to:\n",
            " |      \n",
            " |          sample(['red', 'red', 'red', 'red', 'blue', 'blue'], k=5)\n",
            " |      \n",
            " |      To choose a sample from a range of integers, use range() for the\n",
            " |      population argument.  This is especially fast and space efficient\n",
            " |      for sampling from a large population:\n",
            " |      \n",
            " |          sample(range(10000000), 60)\n",
            " |  \n",
            " |  seed(self, a=None, version=2)\n",
            " |      Initialize internal state from a seed.\n",
            " |      \n",
            " |      The only supported seed types are None, int, float,\n",
            " |      str, bytes, and bytearray.\n",
            " |      \n",
            " |      None or no argument seeds from current time or from an operating\n",
            " |      system specific randomness source if available.\n",
            " |      \n",
            " |      If *a* is an int, all bits are used.\n",
            " |      \n",
            " |      For version 2 (the default), all of the bits are used if *a* is a str,\n",
            " |      bytes, or bytearray.  For version 1 (provided for reproducing random\n",
            " |      sequences from older versions of Python), the algorithm for str and\n",
            " |      bytes generates a narrower range of seeds.\n",
            " |  \n",
            " |  setstate(self, state)\n",
            " |      Restore internal state from object returned by getstate().\n",
            " |  \n",
            " |  shuffle(self, x, random=None)\n",
            " |      Shuffle list x in place, and return None.\n",
            " |      \n",
            " |      Optional argument random is a 0-argument function returning a\n",
            " |      random float in [0.0, 1.0); if it is the default None, the\n",
            " |      standard random.random will be used.\n",
            " |  \n",
            " |  triangular(self, low=0.0, high=1.0, mode=None)\n",
            " |      Triangular distribution.\n",
            " |      \n",
            " |      Continuous distribution bounded by given lower and upper limits,\n",
            " |      and having a given mode value in-between.\n",
            " |      \n",
            " |      http://en.wikipedia.org/wiki/Triangular_distribution\n",
            " |  \n",
            " |  uniform(self, a, b)\n",
            " |      Get a random number in the range [a, b) or [a, b] depending on rounding.\n",
            " |  \n",
            " |  vonmisesvariate(self, mu, kappa)\n",
            " |      Circular data distribution.\n",
            " |      \n",
            " |      mu is the mean angle, expressed in radians between 0 and 2*pi, and\n",
            " |      kappa is the concentration parameter, which must be greater than or\n",
            " |      equal to zero.  If kappa is equal to zero, this distribution reduces\n",
            " |      to a uniform random angle over the range 0 to 2*pi.\n",
            " |  \n",
            " |  weibullvariate(self, alpha, beta)\n",
            " |      Weibull distribution.\n",
            " |      \n",
            " |      alpha is the scale parameter and beta is the shape parameter.\n",
            " |  \n",
            " |  ----------------------------------------------------------------------\n",
            " |  Class methods defined here:\n",
            " |  \n",
            " |  __init_subclass__(**kwargs) from builtins.type\n",
            " |      Control how subclasses generate random integers.\n",
            " |      \n",
            " |      The algorithm a subclass can use depends on the random() and/or\n",
            " |      getrandbits() implementation available to it and determines\n",
            " |      whether it can generate random integers from arbitrarily large\n",
            " |      ranges.\n",
            " |  \n",
            " |  ----------------------------------------------------------------------\n",
            " |  Data descriptors defined here:\n",
            " |  \n",
            " |  __dict__\n",
            " |      dictionary for instance variables (if defined)\n",
            " |  \n",
            " |  __weakref__\n",
            " |      list of weak references to the object (if defined)\n",
            " |  \n",
            " |  ----------------------------------------------------------------------\n",
            " |  Data and other attributes defined here:\n",
            " |  \n",
            " |  VERSION = 3\n",
            " |  \n",
            " |  ----------------------------------------------------------------------\n",
            " |  Methods inherited from _random.Random:\n",
            " |  \n",
            " |  getrandbits(self, k, /)\n",
            " |      getrandbits(k) -> x.  Generates an int with k random bits.\n",
            " |  \n",
            " |  random(self, /)\n",
            " |      random() -> x in the interval [0, 1).\n",
            " |  \n",
            " |  ----------------------------------------------------------------------\n",
            " |  Static methods inherited from _random.Random:\n",
            " |  \n",
            " |  __new__(*args, **kwargs) from builtins.type\n",
            " |      Create and return a new object.  See help(type) for accurate signature.\n",
            "\n"
          ]
        }
      ]
    },
    {
      "cell_type": "code",
      "source": [
        "print(random.randint(0, 10))"
      ],
      "metadata": {
        "colab": {
          "base_uri": "https://localhost:8080/"
        },
        "id": "3vXaJizEYsLL",
        "outputId": "1ab490b8-266d-45bb-d77c-f588c1b0ae52"
      },
      "execution_count": 32,
      "outputs": [
        {
          "output_type": "stream",
          "name": "stdout",
          "text": [
            "0\n"
          ]
        }
      ]
    },
    {
      "cell_type": "markdown",
      "source": [
        "Veja que para utilizar a função random() do pacote random, nós colocamos o nome do pacote e o nome da função separados por ponto"
      ],
      "metadata": {
        "id": "1iPKZfVpZqha"
      }
    },
    {
      "cell_type": "markdown",
      "source": [
        "- **Forma 2 - Importando uma função especifica do módulo**\n",
        "\n",
        "  * **from random import Random** (Nesse import estamos falando; Do módulo random, importe a função random)"
      ],
      "metadata": {
        "id": "3UPpATHAZ6oL"
      }
    },
    {
      "cell_type": "code",
      "source": [
        "from random import random"
      ],
      "metadata": {
        "id": "jDqebUK3aShG"
      },
      "execution_count": 39,
      "outputs": []
    },
    {
      "cell_type": "code",
      "source": [
        "for i in range(10):\n",
        "  print(random())"
      ],
      "metadata": {
        "colab": {
          "base_uri": "https://localhost:8080/"
        },
        "id": "Zqw_CitDaV8b",
        "outputId": "29331bbd-c318-4af7-803c-77292db82607"
      },
      "execution_count": 40,
      "outputs": [
        {
          "output_type": "stream",
          "name": "stdout",
          "text": [
            "0.029797219438070344\n",
            "0.21863797480360336\n",
            "0.5053552881033624\n",
            "0.026535969683863625\n",
            "0.1988376506866485\n",
            "0.6498844377795232\n",
            "0.5449414806032167\n",
            "0.2204406220406967\n",
            "0.5892656838759087\n",
            "0.8094304566778266\n"
          ]
        }
      ]
    },
    {
      "cell_type": "markdown",
      "source": [
        "Muito utilizado em inteligência artificial"
      ],
      "metadata": {
        "id": "zLCEZt4sbGU4"
      }
    },
    {
      "cell_type": "markdown",
      "source": [
        "uniform() -> Gerar um número pseudo-aleatório entre os valores estabelecidos"
      ],
      "metadata": {
        "id": "ke7DBUDBbf2z"
      }
    },
    {
      "cell_type": "code",
      "source": [
        "from random import uniform"
      ],
      "metadata": {
        "id": "36CXQ8QpbmCX"
      },
      "execution_count": 41,
      "outputs": []
    },
    {
      "cell_type": "code",
      "source": [
        "for i in range(10):\n",
        "  print(uniform(0,7)) #Imprime números real pseudo-aleátorios em um intervalo estabelecido, exceto o último número que nesse caso é o 7"
      ],
      "metadata": {
        "colab": {
          "base_uri": "https://localhost:8080/"
        },
        "id": "bmHxfHrbbpkE",
        "outputId": "03391247-b99a-49bb-d54c-ac5ff67b2870"
      },
      "execution_count": 44,
      "outputs": [
        {
          "output_type": "stream",
          "name": "stdout",
          "text": [
            "0.04549131774642712\n",
            "5.640734762829656\n",
            "4.8869757649175884\n",
            "2.381753615625943\n",
            "1.088356498682471\n",
            "6.700491505447468\n",
            "2.3561618157883872\n",
            "0.6492209036610354\n",
            "0.6770146378342481\n",
            "5.932460564432218\n"
          ]
        }
      ]
    },
    {
      "cell_type": "markdown",
      "source": [
        "Podemos também querer gerar valores inteiros.\n",
        "**Pra isso utilizamos a função randint()**"
      ],
      "metadata": {
        "id": "27LBpJ2RcakM"
      }
    },
    {
      "cell_type": "code",
      "source": [
        "from random import randint"
      ],
      "metadata": {
        "id": "0qI9BeSBckSm"
      },
      "execution_count": 45,
      "outputs": []
    },
    {
      "cell_type": "code",
      "source": [
        "for i in range(10):\n",
        "  print(randint(0,9), end=', ')"
      ],
      "metadata": {
        "colab": {
          "base_uri": "https://localhost:8080/"
        },
        "id": "0kZW2js-c6QD",
        "outputId": "7d8df7fc-21b0-4cdf-cb4f-b03f78f5569e"
      },
      "execution_count": 50,
      "outputs": [
        {
          "output_type": "stream",
          "name": "stdout",
          "text": [
            "2, 7, 6, 4, 8, 3, 5, 0, 3, 0, "
          ]
        }
      ]
    },
    {
      "cell_type": "code",
      "source": [
        "lista = [randint(0, 7) for i in range(10) ]\n",
        "conjunto = set(randint(0, 7) for i in range(10) )"
      ],
      "metadata": {
        "id": "ZJAfrkiEcm-7"
      },
      "execution_count": 58,
      "outputs": []
    },
    {
      "cell_type": "code",
      "source": [
        "print(lista)"
      ],
      "metadata": {
        "colab": {
          "base_uri": "https://localhost:8080/"
        },
        "id": "35Ld1XXsczYN",
        "outputId": "eb597ee5-5bd1-46c0-dd3c-9898e60454b8"
      },
      "execution_count": 59,
      "outputs": [
        {
          "output_type": "stream",
          "name": "stdout",
          "text": [
            "[7, 4, 0, 1, 4, 5, 1, 4, 6, 2]\n"
          ]
        }
      ]
    },
    {
      "cell_type": "code",
      "source": [
        "for i in conjunto:\n",
        "  print(i, end=', ')"
      ],
      "metadata": {
        "colab": {
          "base_uri": "https://localhost:8080/"
        },
        "id": "Dpv6IV5PdkCM",
        "outputId": "ce31416b-039c-4b06-c1c4-29a234c2f490"
      },
      "execution_count": 60,
      "outputs": [
        {
          "output_type": "stream",
          "name": "stdout",
          "text": [
            "0, 1, 2, 3, 4, 5, 7, "
          ]
        }
      ]
    },
    {
      "cell_type": "markdown",
      "source": [
        "**choice()** -> Mostra um valor aleatório entre um interável"
      ],
      "metadata": {
        "id": "2X-die19duNC"
      }
    },
    {
      "cell_type": "code",
      "source": [
        "from random import choice"
      ],
      "metadata": {
        "id": "WlKqedYSd79k"
      },
      "execution_count": 62,
      "outputs": []
    },
    {
      "cell_type": "code",
      "source": [
        "lista = ['pedra', 'papel', 'tesoura']"
      ],
      "metadata": {
        "id": "npHy3lGTd2Cu"
      },
      "execution_count": 61,
      "outputs": []
    },
    {
      "cell_type": "code",
      "source": [
        "def pedra_papel_tesoura(j1, j2):\n",
        "  if j1 == j2:\n",
        "    print('Empate: ')\n",
        "  elif j1 == 'pedra' and j2 == 'tesoura':\n",
        "    print(f'Ana ganhou: {j1} : Pedro: {j2}')\n",
        "  elif j1 == 'papel' and j2 == 'pedra':\n",
        "    print(f'Ana ganhou: {j1} : Pedro: {j2}') \n",
        "  elif j1 == 'tesoura' and j2 == 'papel':\n",
        "    print(f'Ana ganhou: {j1} : Pedro: {j2}') \n",
        "  else:\n",
        "    print(f'Pedro ganhou: {j2} : Ana: {j1}')"
      ],
      "metadata": {
        "id": "TmEdpxBReQQK"
      },
      "execution_count": 79,
      "outputs": []
    },
    {
      "cell_type": "code",
      "source": [
        "ana = choice(lista)\n",
        "pedro = choice(lista)\n",
        "\n",
        "pedra_papel_tesoura(ana, pedro)"
      ],
      "metadata": {
        "colab": {
          "base_uri": "https://localhost:8080/"
        },
        "id": "SNBRedU3fNXU",
        "outputId": "65635601-aa50-4641-d557-d240210d75f3"
      },
      "execution_count": 84,
      "outputs": [
        {
          "output_type": "stream",
          "name": "stdout",
          "text": [
            "Ana ganhou: papel : Pedro: pedra\n"
          ]
        }
      ]
    },
    {
      "cell_type": "code",
      "source": [
        "print(choice('ITALO SILVA DE SANTANA')) #String é um interável"
      ],
      "metadata": {
        "colab": {
          "base_uri": "https://localhost:8080/"
        },
        "id": "95BlVQffgBd4",
        "outputId": "ba4454c4-f1da-468b-bc33-877ee6266742"
      },
      "execution_count": 85,
      "outputs": [
        {
          "output_type": "stream",
          "name": "stdout",
          "text": [
            "N\n"
          ]
        }
      ]
    },
    {
      "cell_type": "markdown",
      "source": [
        "**Função shuffle()** -> Tem a função de embaralhar dados"
      ],
      "metadata": {
        "id": "mVR2ZemogLaF"
      }
    },
    {
      "cell_type": "code",
      "source": [
        "from random import shuffle"
      ],
      "metadata": {
        "id": "yGZtqefYggq_"
      },
      "execution_count": 87,
      "outputs": []
    },
    {
      "cell_type": "code",
      "source": [
        "cartas = ['k', 'Q', 'J', 'A', '4', '5', '9', '3', '1', '2', '6', '7']"
      ],
      "metadata": {
        "id": "U3kNgiQ2gWFq"
      },
      "execution_count": 101,
      "outputs": []
    },
    {
      "cell_type": "code",
      "source": [
        "print(cartas)"
      ],
      "metadata": {
        "colab": {
          "base_uri": "https://localhost:8080/"
        },
        "id": "cL9-Gbxbg7w0",
        "outputId": "926f9567-504c-4164-ba1f-72623d5d2c0d"
      },
      "execution_count": 102,
      "outputs": [
        {
          "output_type": "stream",
          "name": "stdout",
          "text": [
            "['k', 'Q', 'J', 'A', '4', '5', '9', '3', '1', '2', '6', '7']\n"
          ]
        }
      ]
    },
    {
      "cell_type": "code",
      "source": [
        "shuffle(cartas)"
      ],
      "metadata": {
        "id": "uUX5PF6ohWZs"
      },
      "execution_count": 110,
      "outputs": []
    },
    {
      "cell_type": "code",
      "source": [
        "print(cartas)"
      ],
      "metadata": {
        "colab": {
          "base_uri": "https://localhost:8080/"
        },
        "id": "FAPDgZxthYlc",
        "outputId": "51970c2c-8c7b-426c-9639-091b240c3503"
      },
      "execution_count": 111,
      "outputs": [
        {
          "output_type": "stream",
          "name": "stdout",
          "text": [
            "['4', '1', '5', 'J', '7', '9', '3', '6', 'k', '2', 'Q', 'A']\n"
          ]
        }
      ]
    },
    {
      "cell_type": "code",
      "source": [],
      "metadata": {
        "id": "NqF91aBghcuu"
      },
      "execution_count": null,
      "outputs": []
    }
  ]
}