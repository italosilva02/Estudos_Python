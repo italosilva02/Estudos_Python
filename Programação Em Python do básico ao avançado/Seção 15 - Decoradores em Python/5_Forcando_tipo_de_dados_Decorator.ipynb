{
 "cells": [
  {
   "cell_type": "markdown",
   "id": "275ac45a",
   "metadata": {},
   "source": [
    "# Forçando tipo de dados com Decorator"
   ]
  },
  {
   "cell_type": "markdown",
   "id": "e7a82fb8",
   "metadata": {},
   "source": [
    "Em Python, os tipos de dados são dinâmicos, o que significa que o interpretador de Python determina automaticamente o tipo de uma variável durante a execução do programa. Isso pode ser muito conveniente em algumas situações, mas pode levar a erros em outras. Por exemplo, se uma função espera receber um argumento do tipo int, mas em vez disso recebe um argumento do tipo str, a função pode produzir um comportamento inesperado ou até mesmo lançar uma exceção.\n",
    "\n",
    "Para evitar esses problemas, podemos usar decorators para forçar a tipagem de dados em uma função. O decorator @typing do Python é um exemplo de um decorator que pode ser usado para forçar a tipagem de dados em uma função. O @typing é um decorator que é usado para declarar o tipo de um argumento ou o tipo de retorno de uma função.\n",
    "\n",
    "Por exemplo, suponha que temos a seguinte função:"
   ]
  },
  {
   "cell_type": "code",
   "execution_count": null,
   "id": "dc16824d",
   "metadata": {},
   "outputs": [],
   "source": [
    "def soma(a, b):\n",
    "    return a + b"
   ]
  },
  {
   "cell_type": "markdown",
   "id": "b2e9007d",
   "metadata": {},
   "source": [
    "Se quisermos forçar que os argumentos a e b sejam do tipo int, podemos usar o @typing para declarar isso:"
   ]
  },
  {
   "cell_type": "code",
   "execution_count": null,
   "id": "dad9bcaa",
   "metadata": {},
   "outputs": [],
   "source": [
    "from typing import Union\n",
    "\n",
    "def soma(a: Union[int, float], b: Union[int, float]) -> Union[int, float]:\n",
    "    return a + b"
   ]
  },
  {
   "cell_type": "markdown",
   "id": "6e7599cf",
   "metadata": {},
   "source": [
    "Aqui, usamos o Union do typing para indicar que o argumento a e o argumento b podem ser do tipo int ou do tipo float. Da mesma forma, indicamos que a função retorna um valor que pode ser do tipo int ou do tipo float.\n",
    "\n",
    "Com essa abordagem, se alguém chamar a função soma com argumentos que não sejam do tipo int ou float, o interpretador do Python produzirá uma exceção, o que nos ajudará a identificar o erro mais facilmente.\n",
    "\n",
    "Outra maneira de forçar a tipagem de dados em uma função é criar um decorator personalizado que verifique os tipos de dados dos argumentos e retorne uma exceção caso um tipo incorreto seja passado. Por exemplo:"
   ]
  },
  {
   "cell_type": "code",
   "execution_count": null,
   "id": "34807e78",
   "metadata": {},
   "outputs": [],
   "source": [
    "def verifica_tipos(func):\n",
    "    def wrapper(*args, **kwargs):\n",
    "        for arg in args:\n",
    "            if not isinstance(arg, int):\n",
    "                raise TypeError(\"Os argumentos devem ser do tipo inteiro.\")\n",
    "        return func(*args, **kwargs)\n",
    "    return wrapper\n",
    "\n",
    "@verifica_tipos\n",
    "def soma(a, b):\n",
    "    return a + b"
   ]
  },
  {
   "cell_type": "markdown",
   "id": "a5540572",
   "metadata": {},
   "source": [
    "Nesse exemplo, criamos um decorator verifica_tipos que verifica se os argumentos são do tipo int. Se não forem, o decorator lança uma exceção. Em seguida, aplicamos o decorator verifica_tipos à função soma. Com isso, a função soma só será executada se os argumentos forem do tipo int.\n",
    "\n",
    "Em resumo, os decorators podem ser usados para forçar a tipagem de dados em funções em Python, tornando o código mais robusto e menos propenso a erros."
   ]
  },
  {
   "cell_type": "code",
   "execution_count": null,
   "id": "1066bb51",
   "metadata": {},
   "outputs": [],
   "source": [
    "Em python o tipo de dado é dado pelo seu conteúdo"
   ]
  },
  {
   "cell_type": "code",
   "execution_count": 15,
   "id": "f90a08ee",
   "metadata": {},
   "outputs": [],
   "source": [
    "def forca_tipo(*tipos):\n",
    "    def decorator(funcao):\n",
    "        def converte(*args, **kwargs):\n",
    "            novo_args = []\n",
    "            for (valor, tipo) in zip(args, tipos):\n",
    "                novo_args.append(tipo(valor)) #srt('Olá mundo'), int('3')\n",
    "            return funcao(*novo_args, **kwargs)\n",
    "        return converte\n",
    "    return decorator"
   ]
  },
  {
   "cell_type": "code",
   "execution_count": 20,
   "id": "18de8d68",
   "metadata": {},
   "outputs": [
    {
     "name": "stdout",
     "output_type": "stream",
     "text": [
      "20\n"
     ]
    }
   ],
   "source": [
    "tipo = int\n",
    "valor = '10'\n",
    "print(tipo(valor) * 2)"
   ]
  },
  {
   "cell_type": "code",
   "execution_count": 16,
   "id": "a65800de",
   "metadata": {},
   "outputs": [],
   "source": [
    "@forca_tipo(str, int)\n",
    "def repete_msg(msg, vezes):\n",
    "    for vez in range(vezes):\n",
    "        print(msg)"
   ]
  },
  {
   "cell_type": "code",
   "execution_count": null,
   "id": "72204ea5",
   "metadata": {},
   "outputs": [],
   "source": [
    "#zip ->\n",
    "a = (1,3,5)  |  b=(2,4,6)\n",
    "c = zip(a,b) #vai ser (1,2), (3,4), (5,6)"
   ]
  },
  {
   "cell_type": "code",
   "execution_count": 17,
   "id": "6398ba05",
   "metadata": {},
   "outputs": [
    {
     "name": "stdout",
     "output_type": "stream",
     "text": [
      "Olá mundo\n",
      "Olá mundo\n",
      "Olá mundo\n"
     ]
    }
   ],
   "source": [
    "repete_msg('Olá mundo', '3')"
   ]
  },
  {
   "cell_type": "code",
   "execution_count": 18,
   "id": "5e971cef",
   "metadata": {},
   "outputs": [],
   "source": [
    "@forca_tipo(float, float)\n",
    "def dividir(a,b):\n",
    "    print(a/b)"
   ]
  },
  {
   "cell_type": "code",
   "execution_count": 19,
   "id": "87c98154",
   "metadata": {},
   "outputs": [
    {
     "name": "stdout",
     "output_type": "stream",
     "text": [
      "2.5\n"
     ]
    }
   ],
   "source": [
    "dividir('5', 2)"
   ]
  },
  {
   "cell_type": "code",
   "execution_count": null,
   "id": "655560c1",
   "metadata": {},
   "outputs": [],
   "source": []
  }
 ],
 "metadata": {
  "kernelspec": {
   "display_name": "Python 3 (ipykernel)",
   "language": "python",
   "name": "python3"
  },
  "language_info": {
   "codemirror_mode": {
    "name": "ipython",
    "version": 3
   },
   "file_extension": ".py",
   "mimetype": "text/x-python",
   "name": "python",
   "nbconvert_exporter": "python",
   "pygments_lexer": "ipython3",
   "version": "3.9.13"
  }
 },
 "nbformat": 4,
 "nbformat_minor": 5
}
