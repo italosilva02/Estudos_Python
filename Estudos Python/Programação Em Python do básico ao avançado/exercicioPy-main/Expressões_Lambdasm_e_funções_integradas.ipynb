{
  "nbformat": 4,
  "nbformat_minor": 0,
  "metadata": {
    "colab": {
      "provenance": [],
      "authorship_tag": "ABX9TyObrw6jsMrbgu66tvU0Psf1",
      "include_colab_link": true
    },
    "kernelspec": {
      "name": "python3",
      "display_name": "Python 3"
    },
    "language_info": {
      "name": "python"
    }
  },
  "cells": [
    {
      "cell_type": "markdown",
      "metadata": {
        "id": "view-in-github",
        "colab_type": "text"
      },
      "source": [
        "<a href=\"https://colab.research.google.com/github/italosilva02/exercicioPy/blob/main/Express%C3%B5es_Lambdasm_e_fun%C3%A7%C3%B5es_integradas.ipynb\" target=\"_parent\"><img src=\"https://colab.research.google.com/assets/colab-badge.svg\" alt=\"Open In Colab\"/></a>"
      ]
    },
    {
      "cell_type": "markdown",
      "source": [
        "# **Lambdas**"
      ],
      "metadata": {
        "id": "t1Uo5V6b8mJQ"
      }
    },
    {
      "cell_type": "markdown",
      "source": [
        "Lambdas em Python são funções anônimas (sem nome) que permitem definir uma expressão em linha para criar funções simples sem a necessidade de criar uma definição formal de função usando a palavra-chave def.\n",
        "\n",
        "Essas funções são geralmente criadas para serem usadas em um contexto onde você precisa passar uma função como argumento para outra função, como em um filtro, mapeamento ou ordenação de uma lista.\n",
        "\n",
        "A sintaxe básica para criar uma lambda é usar a palavra-chave lambda, seguida pelos argumentos separados por vírgula, seguidos por dois pontos e a expressão que será executada quando a função for chamada. Por exemplo, uma lambda que recebe dois argumentos e retorna a soma deles seria definida assim:"
      ],
      "metadata": {
        "id": "SUMuyt4T8qLY"
      }
    },
    {
      "cell_type": "code",
      "source": [
        "lambda x, y: x + y"
      ],
      "metadata": {
        "colab": {
          "base_uri": "https://localhost:8080/"
        },
        "id": "x5di9yF48sJW",
        "outputId": "e108a53b-8965-4ab2-b71f-974704d3dbc4"
      },
      "execution_count": null,
      "outputs": [
        {
          "output_type": "execute_result",
          "data": {
            "text/plain": [
              "<function __main__.<lambda>(x, y)>"
            ]
          },
          "metadata": {},
          "execution_count": 1
        }
      ]
    },
    {
      "cell_type": "markdown",
      "source": [
        "Isso é equivalente a definir uma função nomeada como:"
      ],
      "metadata": {
        "id": "3y1Zn_fP8yJH"
      }
    },
    {
      "cell_type": "code",
      "source": [
        "def soma(x,y):\n",
        "  return x + y"
      ],
      "metadata": {
        "id": "sdOxkcPV8y5D"
      },
      "execution_count": null,
      "outputs": []
    },
    {
      "cell_type": "markdown",
      "source": [
        "Uma vantagem das lambdas é que elas são mais concisas e podem ser usadas em contextos onde uma função nomeada seria desnecessariamente longa e complexa.\n",
        "\n",
        "Além disso, lambdas são geralmente usadas em conjunto com funções como **filter()**, **map()** e **reduce()** para processar listas e outras coleções de dados.\n",
        "\n",
        "Por exemplo, podemos usar uma lambda para filtrar apenas os números pares em uma lista:"
      ],
      "metadata": {
        "id": "oK8YvcPh8277"
      }
    },
    {
      "cell_type": "code",
      "source": [
        "numeros = [1, 2, 3, 4, 5, 6, 7, 8, 9, 10]\n",
        "pares = list(filter(lambda x: x % 2 == 0, numeros))"
      ],
      "metadata": {
        "id": "r6SY4iSx866p"
      },
      "execution_count": null,
      "outputs": []
    },
    {
      "cell_type": "code",
      "source": [
        "print(pares)"
      ],
      "metadata": {
        "colab": {
          "base_uri": "https://localhost:8080/"
        },
        "id": "8lWr8Y1h88ts",
        "outputId": "adf5cb50-8b24-46d3-9c3f-06731425ee3e"
      },
      "execution_count": null,
      "outputs": [
        {
          "output_type": "stream",
          "name": "stdout",
          "text": [
            "[2, 4, 6, 8, 10]\n"
          ]
        }
      ]
    },
    {
      "cell_type": "markdown",
      "source": [
        "Aqui, a lambda verifica se um número é par usando a expressão x % 2 == 0, e filter() usa essa lambda para filtrar apenas os números pares da lista numeros. O resultado é atribuído a pares, que é uma nova lista contendo apenas os números pares."
      ],
      "metadata": {
        "id": "xnj4gznm9Aaq"
      }
    },
    {
      "cell_type": "markdown",
      "source": [
        "**Expressão normal**"
      ],
      "metadata": {
        "id": "xHGCH8wKG8gx"
      }
    },
    {
      "cell_type": "code",
      "source": [
        "def funcao(x):\n",
        "  return x * 3 + 1"
      ],
      "metadata": {
        "id": "qjxWyOqDG_ye"
      },
      "execution_count": null,
      "outputs": []
    },
    {
      "cell_type": "code",
      "source": [
        "print(funcao(5))"
      ],
      "metadata": {
        "colab": {
          "base_uri": "https://localhost:8080/"
        },
        "id": "zzA4YJkzHEAL",
        "outputId": "0cc8814a-2fd1-4847-a40b-ba47b3eed040"
      },
      "execution_count": null,
      "outputs": [
        {
          "output_type": "stream",
          "name": "stdout",
          "text": [
            "16\n"
          ]
        }
      ]
    },
    {
      "cell_type": "markdown",
      "source": [
        "**Expressão Lambda**"
      ],
      "metadata": {
        "id": "9duXhwMcHHHj"
      }
    },
    {
      "cell_type": "code",
      "source": [
        "lambda x: 3 * 3 + 1"
      ],
      "metadata": {
        "colab": {
          "base_uri": "https://localhost:8080/"
        },
        "id": "zPsYwiMBHMi_",
        "outputId": "afde8ce7-27b9-4524-f152-eec5a415569f"
      },
      "execution_count": null,
      "outputs": [
        {
          "output_type": "execute_result",
          "data": {
            "text/plain": [
              "<function __main__.<lambda>(x)>"
            ]
          },
          "metadata": {},
          "execution_count": 6
        }
      ]
    },
    {
      "cell_type": "markdown",
      "source": [
        "Como utilizar a exparessão lambda"
      ],
      "metadata": {
        "id": "AW39Te8mEcVp"
      }
    },
    {
      "cell_type": "code",
      "source": [
        "calc = lambda x: x * 3 + 1"
      ],
      "metadata": {
        "id": "e0KqBFIPEg1-"
      },
      "execution_count": null,
      "outputs": []
    },
    {
      "cell_type": "code",
      "source": [
        "print(calc(6))"
      ],
      "metadata": {
        "colab": {
          "base_uri": "https://localhost:8080/"
        },
        "id": "SmRaSC5oEp9r",
        "outputId": "32727cea-30c6-41ca-fdf3-410f44e63a04"
      },
      "execution_count": null,
      "outputs": [
        {
          "output_type": "stream",
          "name": "stdout",
          "text": [
            "19\n"
          ]
        }
      ]
    },
    {
      "cell_type": "code",
      "source": [
        "print(calc(9))"
      ],
      "metadata": {
        "colab": {
          "base_uri": "https://localhost:8080/"
        },
        "id": "aUmPEUgnE6kp",
        "outputId": "04c639b8-46ac-4ba1-b21f-198d7bebd15d"
      },
      "execution_count": null,
      "outputs": [
        {
          "output_type": "stream",
          "name": "stdout",
          "text": [
            "28\n"
          ]
        }
      ]
    },
    {
      "cell_type": "markdown",
      "source": [
        "Podemos ter expressões lambdas com multiplas entradas"
      ],
      "metadata": {
        "id": "UTFhX80XE-fe"
      }
    },
    {
      "cell_type": "code",
      "source": [
        "nome = lambda nome, sobrenome: nome.strip().title() + ' ' + sobrenome.strip().title()"
      ],
      "metadata": {
        "id": "QfVgtpC3FEYa"
      },
      "execution_count": null,
      "outputs": []
    },
    {
      "cell_type": "code",
      "source": [
        "print(nome('italo', 'silva'))"
      ],
      "metadata": {
        "colab": {
          "base_uri": "https://localhost:8080/"
        },
        "id": "X_wyr2FeFQsG",
        "outputId": "ee626312-3f67-47d2-b8a2-c06e31a740da"
      },
      "execution_count": null,
      "outputs": [
        {
          "output_type": "stream",
          "name": "stdout",
          "text": [
            "Italo Silva\n"
          ]
        }
      ]
    },
    {
      "cell_type": "markdown",
      "source": [
        "- **strip()** - utilizada para retirar os espaços em brancos tanto do ínicio quanto do fim da variável\n",
        "\n",
        "- **title()** - Coloca a primeira letra da variável em Maiucula."
      ],
      "metadata": {
        "id": "d4WglvSVGRvm"
      }
    },
    {
      "cell_type": "code",
      "source": [
        "print(nome('ANGELINA  ', '  jOLIE  '))"
      ],
      "metadata": {
        "colab": {
          "base_uri": "https://localhost:8080/"
        },
        "id": "Gh77kcosGpOk",
        "outputId": "2299dc76-f830-41a4-d480-e275fe00b3a2"
      },
      "execution_count": null,
      "outputs": [
        {
          "output_type": "stream",
          "name": "stdout",
          "text": [
            "Angelina Jolie\n"
          ]
        }
      ]
    },
    {
      "cell_type": "markdown",
      "source": [
        "Em funções podemos ter nenhuma, uma ou várias entradas. Em Lambdas também"
      ],
      "metadata": {
        "id": "XxqADv98HYK5"
      }
    },
    {
      "cell_type": "code",
      "source": [
        "amar = lambda: 'Como não amar Python'"
      ],
      "metadata": {
        "id": "Y0bY0U0uHdqd"
      },
      "execution_count": null,
      "outputs": []
    },
    {
      "cell_type": "code",
      "source": [
        "print(amar())"
      ],
      "metadata": {
        "colab": {
          "base_uri": "https://localhost:8080/"
        },
        "id": "M5fbulrCH2U8",
        "outputId": "aeb78f5c-2ceb-4ccd-a755-dc75ea503b53"
      },
      "execution_count": null,
      "outputs": [
        {
          "output_type": "stream",
          "name": "stdout",
          "text": [
            "Como não amar Python\n"
          ]
        }
      ]
    },
    {
      "cell_type": "code",
      "source": [
        "uma = lambda x: x * 2"
      ],
      "metadata": {
        "id": "Lxuisf7AHkP3"
      },
      "execution_count": null,
      "outputs": []
    },
    {
      "cell_type": "code",
      "source": [
        "print(uma(2))"
      ],
      "metadata": {
        "colab": {
          "base_uri": "https://localhost:8080/"
        },
        "id": "GerkdZCrH6IW",
        "outputId": "65c30d5b-89a9-4291-8e04-a071efac2c96"
      },
      "execution_count": null,
      "outputs": [
        {
          "output_type": "stream",
          "name": "stdout",
          "text": [
            "4\n"
          ]
        }
      ]
    },
    {
      "cell_type": "code",
      "source": [
        "varias = lambda n1,n2,n3,n4: ((n1 + n2) * (n3 + n4) ** ((n3**2)+(n1**2)))/n1+n2"
      ],
      "metadata": {
        "id": "Myr-0PNyHp5F"
      },
      "execution_count": null,
      "outputs": []
    },
    {
      "cell_type": "code",
      "source": [
        "print(varias(4,3,2,5))"
      ],
      "metadata": {
        "colab": {
          "base_uri": "https://localhost:8080/"
        },
        "id": "s0qTfUNhH8nh",
        "outputId": "e6799b19-d796-438a-db64-e2617b17738f"
      },
      "execution_count": null,
      "outputs": [
        {
          "output_type": "stream",
          "name": "stdout",
          "text": [
            "1.3963646602082101e+17\n"
          ]
        }
      ]
    },
    {
      "cell_type": "code",
      "source": [
        "autores = ['Isaac Asimov', 'Ray Bradbury', 'Robert Heinlein', 'Arthur C. Clarke', 'Frank Hebert', 'Orson Scott Card', 'Douglas Adams', 'H.G Wells', 'Leigh Brackett']"
      ],
      "metadata": {
        "id": "6CvJV2KjJPB3"
      },
      "execution_count": null,
      "outputs": []
    },
    {
      "cell_type": "code",
      "source": [
        "print(autores)"
      ],
      "metadata": {
        "colab": {
          "base_uri": "https://localhost:8080/"
        },
        "id": "UknsaFEHJmJ0",
        "outputId": "224ac813-30d3-48eb-caca-165dc0ddda6b"
      },
      "execution_count": null,
      "outputs": [
        {
          "output_type": "stream",
          "name": "stdout",
          "text": [
            "['Isaac Asimov', 'Ray Bradbury', 'Robert Heinlein', 'Arthur C. Clarke', 'Frank Hebert', 'Orson Scott Card', 'Douglas Adams', 'H.G Wells', 'Leigh Brackett']\n"
          ]
        }
      ]
    },
    {
      "cell_type": "markdown",
      "source": [
        "Lambda para extrair os sobrenome de uma lista"
      ],
      "metadata": {
        "id": "nvk7LAltJxAx"
      }
    },
    {
      "cell_type": "code",
      "source": [
        "print(sorted(autores))"
      ],
      "metadata": {
        "colab": {
          "base_uri": "https://localhost:8080/"
        },
        "id": "QNHoCp4LJ14z",
        "outputId": "cf787c27-bc6c-4657-b9ce-a65f28406458"
      },
      "execution_count": null,
      "outputs": [
        {
          "output_type": "stream",
          "name": "stdout",
          "text": [
            "['Arthur C. Clarke', 'Douglas Adams', 'Frank Hebert', 'H.G Wells', 'Isaac Asimov', 'Leigh Brackett', 'Orson Scott Card', 'Ray Bradbury', 'Robert Heinlein']\n"
          ]
        }
      ]
    },
    {
      "cell_type": "code",
      "source": [
        "autores.sort(key=lambda sobrenome: sobrenome.split(' ')[-1].lower())"
      ],
      "metadata": {
        "id": "eLYgOW5XKD6v"
      },
      "execution_count": null,
      "outputs": []
    },
    {
      "cell_type": "code",
      "source": [
        "print(autores)"
      ],
      "metadata": {
        "colab": {
          "base_uri": "https://localhost:8080/"
        },
        "id": "joSalrV4Kaeg",
        "outputId": "c7042e35-eb28-45d6-d87c-1c09d4c93ff2"
      },
      "execution_count": null,
      "outputs": [
        {
          "output_type": "stream",
          "name": "stdout",
          "text": [
            "['Douglas Adams', 'Isaac Asimov', 'Leigh Brackett', 'Ray Bradbury', 'Orson Scott Card', 'Arthur C. Clarke', 'Frank Hebert', 'Robert Heinlein', 'H.G Wells']\n"
          ]
        }
      ]
    },
    {
      "cell_type": "markdown",
      "source": [
        "Função quadrádica"
      ],
      "metadata": {
        "id": "vanwx1nGLNfl"
      }
    },
    {
      "cell_type": "markdown",
      "source": [
        "f(x) = a * x ** 2 + b * x + C"
      ],
      "metadata": {
        "id": "KiHs5kkRLZsQ"
      }
    },
    {
      "cell_type": "code",
      "source": [
        "def gerador_quadratica(a,b,c):\n",
        "  #Retorna a função f(x) = a * x ** 2 + b * x + c\n",
        "  return lambda x: a * x ** 2 + b * x + c"
      ],
      "metadata": {
        "id": "Gq2sS_9eLacn"
      },
      "execution_count": null,
      "outputs": []
    },
    {
      "cell_type": "code",
      "source": [
        "teste = (gerador_quadratica(2,3,-5))"
      ],
      "metadata": {
        "id": "X8x5zQAnLvnu"
      },
      "execution_count": null,
      "outputs": []
    },
    {
      "cell_type": "code",
      "source": [
        "print(teste(0))"
      ],
      "metadata": {
        "colab": {
          "base_uri": "https://localhost:8080/"
        },
        "id": "w_qgL9W0MDY6",
        "outputId": "713fd408-92f6-4d34-9f9a-ef81b4de63a2"
      },
      "execution_count": null,
      "outputs": [
        {
          "output_type": "stream",
          "name": "stdout",
          "text": [
            "-5\n"
          ]
        }
      ]
    },
    {
      "cell_type": "code",
      "source": [
        "print(teste(1))"
      ],
      "metadata": {
        "colab": {
          "base_uri": "https://localhost:8080/"
        },
        "id": "1071RrHLMGxO",
        "outputId": "147b7634-65ba-4247-9c0b-37cba2423f66"
      },
      "execution_count": null,
      "outputs": [
        {
          "output_type": "stream",
          "name": "stdout",
          "text": [
            "0\n"
          ]
        }
      ]
    },
    {
      "cell_type": "code",
      "source": [
        "print(teste(2))"
      ],
      "metadata": {
        "colab": {
          "base_uri": "https://localhost:8080/"
        },
        "id": "YRpJLYr3MIgG",
        "outputId": "895f5ec9-13cf-448a-cbf3-c8d47b4a67b5"
      },
      "execution_count": null,
      "outputs": [
        {
          "output_type": "stream",
          "name": "stdout",
          "text": [
            "9\n"
          ]
        }
      ]
    },
    {
      "cell_type": "code",
      "source": [
        "print(gerador_quadratica(2,3,-5)(2))"
      ],
      "metadata": {
        "colab": {
          "base_uri": "https://localhost:8080/",
          "height": 166
        },
        "id": "KFaGV-AjMXqW",
        "outputId": "2c2e32f9-31a8-471a-feb3-e2ea716626d9"
      },
      "execution_count": null,
      "outputs": [
        {
          "output_type": "error",
          "ename": "NameError",
          "evalue": "ignored",
          "traceback": [
            "\u001b[0;31m---------------------------------------------------------------------------\u001b[0m",
            "\u001b[0;31mNameError\u001b[0m                                 Traceback (most recent call last)",
            "\u001b[0;32m<ipython-input-1-7787c8c888b7>\u001b[0m in \u001b[0;36m<module>\u001b[0;34m\u001b[0m\n\u001b[0;32m----> 1\u001b[0;31m \u001b[0mprint\u001b[0m\u001b[0;34m(\u001b[0m\u001b[0mgerador_quadratica\u001b[0m\u001b[0;34m(\u001b[0m\u001b[0;36m2\u001b[0m\u001b[0;34m,\u001b[0m\u001b[0;36m3\u001b[0m\u001b[0;34m,\u001b[0m\u001b[0;34m-\u001b[0m\u001b[0;36m5\u001b[0m\u001b[0;34m)\u001b[0m\u001b[0;34m(\u001b[0m\u001b[0;36m2\u001b[0m\u001b[0;34m)\u001b[0m\u001b[0;34m)\u001b[0m\u001b[0;34m\u001b[0m\u001b[0;34m\u001b[0m\u001b[0m\n\u001b[0m",
            "\u001b[0;31mNameError\u001b[0m: name 'gerador_quadratica' is not defined"
          ]
        }
      ]
    },
    {
      "cell_type": "markdown",
      "source": [
        "# **Maps**"
      ],
      "metadata": {
        "id": "5ofpfbOwMbSk"
      }
    },
    {
      "cell_type": "markdown",
      "source": [
        "Em Python, a função map é usada para aplicar uma função a cada elemento de uma sequência (como uma lista ou tupla) e retornar um novo objeto que contém os resultados.\n",
        "\n",
        "A sintaxe básica da função map é a seguinte:\n",
        "\n"
      ],
      "metadata": {
        "id": "L79LR_E_NI6k"
      }
    },
    {
      "cell_type": "code",
      "source": [
        "import math"
      ],
      "metadata": {
        "id": "68MWP7h4N9t1"
      },
      "execution_count": null,
      "outputs": []
    },
    {
      "cell_type": "code",
      "source": [
        "def area(r):\n",
        "  return math.pi * (r**2)"
      ],
      "metadata": {
        "id": "Fj33_IcOOBgi"
      },
      "execution_count": null,
      "outputs": []
    },
    {
      "cell_type": "code",
      "source": [
        "print(area(2))"
      ],
      "metadata": {
        "colab": {
          "base_uri": "https://localhost:8080/"
        },
        "id": "MsHNCOPeOLgY",
        "outputId": "7116ad02-53d5-4713-ad9a-9ba8f333b9c0"
      },
      "execution_count": null,
      "outputs": [
        {
          "output_type": "stream",
          "name": "stdout",
          "text": [
            "12.566370614359172\n"
          ]
        }
      ]
    },
    {
      "cell_type": "code",
      "source": [
        "print(area(5.3))"
      ],
      "metadata": {
        "colab": {
          "base_uri": "https://localhost:8080/"
        },
        "id": "N2AEwyxlOOSe",
        "outputId": "55a12dd3-8924-4c52-db47-818238dd63b8"
      },
      "execution_count": null,
      "outputs": [
        {
          "output_type": "stream",
          "name": "stdout",
          "text": [
            "88.24733763933729\n"
          ]
        }
      ]
    },
    {
      "cell_type": "code",
      "source": [
        "raios = [2,4,5,6,0.4,55,3]"
      ],
      "metadata": {
        "id": "f6o_pNZoOhQa"
      },
      "execution_count": null,
      "outputs": []
    },
    {
      "cell_type": "code",
      "source": [
        "areas = []"
      ],
      "metadata": {
        "id": "sqZed_9DOpdU"
      },
      "execution_count": null,
      "outputs": []
    },
    {
      "cell_type": "code",
      "source": [
        "for r in raios:\n",
        "  areas.append(math.pi * (r ** 2))"
      ],
      "metadata": {
        "id": "gKmltSnKOmaK"
      },
      "execution_count": null,
      "outputs": []
    },
    {
      "cell_type": "code",
      "source": [
        "print(areas)"
      ],
      "metadata": {
        "colab": {
          "base_uri": "https://localhost:8080/"
        },
        "id": "YqtLYc5MP9vk",
        "outputId": "ce447361-c4f2-437e-a2dc-5c6ce210217b"
      },
      "execution_count": null,
      "outputs": [
        {
          "output_type": "stream",
          "name": "stdout",
          "text": [
            "[12.566370614359172, 50.26548245743669, 78.53981633974483, 113.09733552923255, 0.5026548245743669, 9503.317777109125, 28.274333882308138]\n"
          ]
        }
      ]
    },
    {
      "cell_type": "code",
      "source": [
        "a = map(area, raios)"
      ],
      "metadata": {
        "id": "SsKr-v0ZQEg7"
      },
      "execution_count": null,
      "outputs": []
    },
    {
      "cell_type": "markdown",
      "source": [
        "map é uma função que recebe dois parametros\n",
        "\n",
        "- Uma função\n",
        "- Um interável"
      ],
      "metadata": {
        "id": "PVPg51kSQO1X"
      }
    },
    {
      "cell_type": "code",
      "source": [
        "print((a))"
      ],
      "metadata": {
        "colab": {
          "base_uri": "https://localhost:8080/"
        },
        "id": "LUK9u0ChQIym",
        "outputId": "93caad1e-f985-4691-84ad-d1b34d9509f5"
      },
      "execution_count": null,
      "outputs": [
        {
          "output_type": "stream",
          "name": "stdout",
          "text": [
            "<map object at 0x7f1bba1177f0>\n"
          ]
        }
      ]
    },
    {
      "cell_type": "code",
      "source": [
        "print(type(a))"
      ],
      "metadata": {
        "colab": {
          "base_uri": "https://localhost:8080/"
        },
        "id": "VEl5TUQ5Qh9i",
        "outputId": "f11ced7b-d974-40a7-a851-aea88774f272"
      },
      "execution_count": null,
      "outputs": [
        {
          "output_type": "stream",
          "name": "stdout",
          "text": [
            "<class 'map'>\n"
          ]
        }
      ]
    },
    {
      "cell_type": "code",
      "source": [
        "print(list(map(area, raios)))"
      ],
      "metadata": {
        "colab": {
          "base_uri": "https://localhost:8080/",
          "height": 166
        },
        "id": "39gI067tQkPU",
        "outputId": "fddfc7cb-8c41-4fac-f6f4-7428212420f1"
      },
      "execution_count": null,
      "outputs": [
        {
          "output_type": "error",
          "ename": "TypeError",
          "evalue": "ignored",
          "traceback": [
            "\u001b[0;31m---------------------------------------------------------------------------\u001b[0m",
            "\u001b[0;31mTypeError\u001b[0m                                 Traceback (most recent call last)",
            "\u001b[0;32m<ipython-input-29-f687b04cdd59>\u001b[0m in \u001b[0;36m<module>\u001b[0;34m\u001b[0m\n\u001b[0;32m----> 1\u001b[0;31m \u001b[0mprint\u001b[0m\u001b[0;34m(\u001b[0m\u001b[0mlist\u001b[0m\u001b[0;34m(\u001b[0m\u001b[0mmap\u001b[0m\u001b[0;34m(\u001b[0m\u001b[0marea\u001b[0m\u001b[0;34m,\u001b[0m \u001b[0mraios\u001b[0m\u001b[0;34m)\u001b[0m\u001b[0;34m)\u001b[0m\u001b[0;34m)\u001b[0m\u001b[0;34m\u001b[0m\u001b[0;34m\u001b[0m\u001b[0m\n\u001b[0m",
            "\u001b[0;31mTypeError\u001b[0m: 'list' object is not callable"
          ]
        }
      ]
    },
    {
      "cell_type": "code",
      "source": [
        "import math\n",
        "\n",
        "def area(r):\n",
        "    return math.pi * (r**2)\n",
        "\n",
        "raios = [1,2,3,4,5,6,7,8,9,10]\n",
        "\n",
        "a = map(area, raios)\n",
        "\n",
        "print(a)\n",
        "print(type(a))\n",
        "print(list(a))"
      ],
      "metadata": {
        "colab": {
          "base_uri": "https://localhost:8080/"
        },
        "id": "J2tiHLtYRjwW",
        "outputId": "5147b5ca-3dce-47ea-c88a-bb57b7d88b78"
      },
      "execution_count": null,
      "outputs": [
        {
          "output_type": "stream",
          "name": "stdout",
          "text": [
            "<map object at 0x7f1bba0afe20>\n",
            "<class 'map'>\n",
            "[3.141592653589793, 12.566370614359172, 28.274333882308138, 50.26548245743669, 78.53981633974483, 113.09733552923255, 153.93804002589985, 201.06192982974676, 254.46900494077323, 314.1592653589793]\n"
          ]
        }
      ]
    },
    {
      "cell_type": "code",
      "source": [],
      "metadata": {
        "id": "Qjuc4xnTRor5"
      },
      "execution_count": null,
      "outputs": []
    },
    {
      "cell_type": "markdown",
      "source": [
        "Transformando em forma lambda"
      ],
      "metadata": {
        "id": "LR0l5R1XR7uf"
      }
    },
    {
      "cell_type": "code",
      "source": [
        "print(list(map(lambda r: math.pi * (r**2), raios)))"
      ],
      "metadata": {
        "colab": {
          "base_uri": "https://localhost:8080/"
        },
        "id": "FyPdx4unR-B0",
        "outputId": "2a03048e-9cc9-40d4-f81a-fedbffe38c76"
      },
      "execution_count": null,
      "outputs": [
        {
          "output_type": "stream",
          "name": "stdout",
          "text": [
            "[3.141592653589793, 12.566370614359172, 28.274333882308138, 50.26548245743669, 78.53981633974483, 113.09733552923255, 153.93804002589985, 201.06192982974676, 254.46900494077323, 314.1592653589793]\n"
          ]
        }
      ]
    },
    {
      "cell_type": "markdown",
      "source": [
        "**OBS:** Após utilizar a função map() depois da primeira utilização do resultado, ele zera"
      ],
      "metadata": {
        "id": "rFoJZXqkSqsa"
      }
    },
    {
      "cell_type": "markdown",
      "source": [
        "Para fixar map()\n",
        "\n",
        "- Temos dados interáveis\n",
        "- dados: a1, a2, a3.... an\n",
        "- Temos uma função:\n",
        "- função: f(x)\n",
        "- Utilizamos a função map(f, dados) onde map irá 'mapear' cada elemento dos dados e aplicar a função"
      ],
      "metadata": {
        "id": "eTm74uIGWnnB"
      }
    },
    {
      "cell_type": "code",
      "source": [
        "cidade = [('Berlin', 29), ('Paris', 32), ('Canada', -3), ('Suiça', 7), ('Jamaica', 30), ('Tokio', 27), ('Nova York', 22)]"
      ],
      "metadata": {
        "id": "0BYlNHhCXCB9"
      },
      "execution_count": null,
      "outputs": []
    },
    {
      "cell_type": "code",
      "source": [
        "print(cidade)"
      ],
      "metadata": {
        "colab": {
          "base_uri": "https://localhost:8080/"
        },
        "id": "sgkyaFeBX3w5",
        "outputId": "542aeb9b-cc3e-436d-d2df-e8dba0f58a6c"
      },
      "execution_count": null,
      "outputs": [
        {
          "output_type": "stream",
          "name": "stdout",
          "text": [
            "[('Berlin', 29), ('Paris', 32), ('Canada', -3), ('Suiça', 7), ('Jamaica', 30), ('Tokio', 27), ('Nova York', 22)]\n"
          ]
        }
      ]
    },
    {
      "cell_type": "markdown",
      "source": [
        "Transformar em fahrenheit\n",
        "\n",
        "f = 9/5 * c + 32"
      ],
      "metadata": {
        "id": "pffrUSGuX8eI"
      }
    },
    {
      "cell_type": "markdown",
      "source": [
        "Lambda"
      ],
      "metadata": {
        "id": "PjJMLAc4YLoB"
      }
    },
    {
      "cell_type": "code",
      "source": [
        "c_para_f = lambda dado: (dado[0], (9/5) * dado[1] + 32)"
      ],
      "metadata": {
        "id": "K6btrtVwYMyK"
      },
      "execution_count": null,
      "outputs": []
    },
    {
      "cell_type": "code",
      "source": [
        "print(list(map(c_para_f, cidade)))"
      ],
      "metadata": {
        "colab": {
          "base_uri": "https://localhost:8080/"
        },
        "id": "DdBTHWfmYawd",
        "outputId": "d18caa98-0364-4be5-a730-e0e670d8f1f6"
      },
      "execution_count": null,
      "outputs": [
        {
          "output_type": "stream",
          "name": "stdout",
          "text": [
            "[('Berlin', 84.2), ('Paris', 89.6), ('Canada', 26.6), ('Suiça', 44.6), ('Jamaica', 86.0), ('Tokio', 80.6), ('Nova York', 71.6)]\n"
          ]
        }
      ]
    },
    {
      "cell_type": "markdown",
      "source": [
        "Por exemplo, o código a seguir usa a função map para converter uma lista de strings em uma lista de inteiros:"
      ],
      "metadata": {
        "id": "77jIYj5QaQ1g"
      }
    },
    {
      "cell_type": "code",
      "source": [
        "lista_strings = [\"1\", \"2\", \"3\", \"4\"]\n",
        "lista_inteiros = list(map(int, lista_strings))\n",
        "print(lista_inteiros) # Output: [1, 2, 3, 4]"
      ],
      "metadata": {
        "colab": {
          "base_uri": "https://localhost:8080/"
        },
        "id": "PYMDHWYpaRqr",
        "outputId": "d22018be-0457-4e5d-f492-72449690eaf2"
      },
      "execution_count": null,
      "outputs": [
        {
          "output_type": "stream",
          "name": "stdout",
          "text": [
            "[1, 2, 3, 4]\n"
          ]
        }
      ]
    },
    {
      "cell_type": "markdown",
      "source": [
        "Neste exemplo, a função int é aplicada a cada elemento da lista de strings, convertendo-os em inteiros. A função map retorna um objeto map, que é convertido em uma lista usando a função list(). O resultado final é uma lista de inteiros.\n",
        "\n",
        "Em resumo, a função map é útil quando queremos aplicar uma função a todos os elementos de uma sequência e obter uma nova sequência com os resultados."
      ],
      "metadata": {
        "id": "3KWugnhuaVa-"
      }
    },
    {
      "cell_type": "markdown",
      "source": [
        "# **Filter**"
      ],
      "metadata": {
        "id": "gubIUVkYeeTY"
      }
    },
    {
      "cell_type": "markdown",
      "source": [
        "Filter é uma função integrada do Python que **permite filtrar elementos de uma sequência, com base em uma determinada condição ou função**. O objetivo é criar uma nova sequência contendo apenas os elementos que satisfazem a condição especificada.\n",
        "\n",
        "A sintaxe da função filter() é a seguinte:\n",
        "\n",
        "**filter(funcao, sequencia)**\n",
        "\n"
      ],
      "metadata": {
        "id": "TjZS8QPeejKL"
      }
    },
    {
      "cell_type": "markdown",
      "source": [
        "Onde funcao é a função usada para testar cada elemento da sequencia. A função funcao deve retornar um valor booleano (True ou False) que determina se o elemento atual deve ou não ser incluído na sequência resultante.\n",
        "\n",
        "A sequencia é a sequência que será filtrada.\n",
        "\n",
        "O resultado da função filter() é um objeto iterável que pode ser convertido em uma lista, tupla ou conjunto, dependendo das necessidades do programador.\n",
        "\n",
        "A função filter() é útil para trabalhar com grandes conjuntos de dados, em que é necessário filtrar os elementos com base em uma determinada condição. Além disso, ela pode ser usada em conjunto com funções lambda para filtrar os elementos de uma sequência de forma rápida e eficiente.\n",
        "\n",
        "Exemplo:"
      ],
      "metadata": {
        "id": "CXu58yWee2E8"
      }
    },
    {
      "cell_type": "code",
      "source": [
        "# Filtrando números pares de uma lista\n",
        "numeros = [1, 2, 3, 4, 5, 6, 7, 8, 9, 10]\n",
        "pares = list(filter(lambda x: x % 2 == 0, numeros))\n",
        "print(pares) # Output: [2, 4, 6, 8, 10]"
      ],
      "metadata": {
        "colab": {
          "base_uri": "https://localhost:8080/"
        },
        "id": "6X6h_heRe3IC",
        "outputId": "51d2ea58-ed9e-47a3-d55d-df1098864e0e"
      },
      "execution_count": null,
      "outputs": [
        {
          "output_type": "stream",
          "name": "stdout",
          "text": [
            "[2, 4, 6, 8, 10]\n"
          ]
        }
      ]
    },
    {
      "cell_type": "markdown",
      "source": [
        "Neste exemplo, usamos a função **filter()** com uma função lambda para filtrar os números pares da lista numeros e armazená-los na lista pares."
      ],
      "metadata": {
        "id": "7Y0zN44Oe6IS"
      }
    },
    {
      "cell_type": "code",
      "source": [
        "valores = 1,2,3,4,5,6"
      ],
      "metadata": {
        "id": "KUDOA42YfJNj"
      },
      "execution_count": null,
      "outputs": []
    },
    {
      "cell_type": "code",
      "source": [
        "media = sum(valores) / len(valores)"
      ],
      "metadata": {
        "id": "EJys55jEfOVZ"
      },
      "execution_count": null,
      "outputs": []
    },
    {
      "cell_type": "code",
      "source": [
        "print(media)"
      ],
      "metadata": {
        "colab": {
          "base_uri": "https://localhost:8080/"
        },
        "id": "y9aArpKVfXOs",
        "outputId": "962194f4-071b-46b2-8b93-586114dc666b"
      },
      "execution_count": null,
      "outputs": [
        {
          "output_type": "stream",
          "name": "stdout",
          "text": [
            "3.5\n"
          ]
        }
      ]
    },
    {
      "cell_type": "code",
      "source": [
        "print(list(filter(lambda x: x > media, valores)))"
      ],
      "metadata": {
        "colab": {
          "base_uri": "https://localhost:8080/"
        },
        "id": "daKFVplnfk1Y",
        "outputId": "3241a4eb-f23b-45dd-e1da-27d291b47479"
      },
      "execution_count": null,
      "outputs": [
        {
          "output_type": "stream",
          "name": "stdout",
          "text": [
            "[4, 5, 6]\n"
          ]
        }
      ]
    },
    {
      "cell_type": "markdown",
      "source": [
        "Biblioteca para trabalhar com dados estatísticos"
      ],
      "metadata": {
        "id": "_6KuKJuDgD9-"
      }
    },
    {
      "cell_type": "code",
      "source": [
        "import statistics"
      ],
      "metadata": {
        "id": "Jb3PsvR_gH--"
      },
      "execution_count": null,
      "outputs": []
    },
    {
      "cell_type": "code",
      "source": [
        "dados = [1.3, 2.7, 0.8, 4.1, 4.3, -0.1]"
      ],
      "metadata": {
        "id": "GCtqe2kJgLez"
      },
      "execution_count": null,
      "outputs": []
    },
    {
      "cell_type": "markdown",
      "source": [
        "Calculando a média dos dados utilizando a função mean()"
      ],
      "metadata": {
        "id": "87ztJpVYgSjm"
      }
    },
    {
      "cell_type": "code",
      "source": [
        "media = statistics.mean(dados)\n",
        "media1 = sum(dados) / len(dados)"
      ],
      "metadata": {
        "id": "YqsuHf60gWzK"
      },
      "execution_count": null,
      "outputs": []
    },
    {
      "cell_type": "code",
      "source": [
        "print(media)"
      ],
      "metadata": {
        "colab": {
          "base_uri": "https://localhost:8080/"
        },
        "id": "aFYiyEORgeIV",
        "outputId": "c763507e-cb7c-435e-98e6-a140a67d09de"
      },
      "execution_count": null,
      "outputs": [
        {
          "output_type": "stream",
          "name": "stdout",
          "text": [
            "2.183333333333333\n"
          ]
        }
      ]
    },
    {
      "cell_type": "code",
      "source": [
        "print(media1)"
      ],
      "metadata": {
        "colab": {
          "base_uri": "https://localhost:8080/"
        },
        "id": "cOJW-Y4AgseV",
        "outputId": "9073b8a6-d3ed-438c-c50e-d65c7970c558"
      },
      "execution_count": null,
      "outputs": [
        {
          "output_type": "stream",
          "name": "stdout",
          "text": [
            "2.183333333333333\n"
          ]
        }
      ]
    },
    {
      "cell_type": "code",
      "source": [
        "res = (list(filter(lambda x: x > media, dados)))"
      ],
      "metadata": {
        "id": "EJtQ6ddChEsQ"
      },
      "execution_count": null,
      "outputs": []
    },
    {
      "cell_type": "code",
      "source": [
        "print(res)"
      ],
      "metadata": {
        "colab": {
          "base_uri": "https://localhost:8080/"
        },
        "id": "lRj5TBltiCZJ",
        "outputId": "021f72c1-5843-4dc2-9324-6f5aaf3dc03b"
      },
      "execution_count": null,
      "outputs": [
        {
          "output_type": "stream",
          "name": "stdout",
          "text": [
            "[2.7, 4.1, 4.3]\n"
          ]
        }
      ]
    },
    {
      "cell_type": "markdown",
      "source": [
        "Ao utilizar o valor uma vez, o mesmo irá sair da memória"
      ],
      "metadata": {
        "id": "l5AmsigIiLpP"
      }
    },
    {
      "cell_type": "code",
      "source": [
        "print(f'Novamente {res}')"
      ],
      "metadata": {
        "colab": {
          "base_uri": "https://localhost:8080/"
        },
        "id": "_v_bGBCDiIP6",
        "outputId": "26580d6e-837c-4d19-87df-6f9591bcde44"
      },
      "execution_count": null,
      "outputs": [
        {
          "output_type": "stream",
          "name": "stdout",
          "text": [
            "Novamente [2.7, 4.1, 4.3]\n"
          ]
        }
      ]
    },
    {
      "cell_type": "code",
      "source": [
        "print(type(filter(lambda x: x > media, dados)))"
      ],
      "metadata": {
        "colab": {
          "base_uri": "https://localhost:8080/"
        },
        "id": "UxFtUAMhi-GI",
        "outputId": "ae858251-bbd5-46ef-cded-e7ad8b6bb15c"
      },
      "execution_count": null,
      "outputs": [
        {
          "output_type": "stream",
          "name": "stdout",
          "text": [
            "<class 'filter'>\n"
          ]
        }
      ]
    },
    {
      "cell_type": "code",
      "source": [
        "pases = ['', 'Argentina', '', 'Brasil', 'Chile', '', '', 'Colombia', '', 'Equador', '', '', 'Venezuela']"
      ],
      "metadata": {
        "id": "RmnTBzYfmI59"
      },
      "execution_count": null,
      "outputs": []
    },
    {
      "cell_type": "code",
      "source": [
        "paises = list(filter(lambda x: x != '', pases))"
      ],
      "metadata": {
        "id": "AI-wNMh2mWZj"
      },
      "execution_count": null,
      "outputs": []
    },
    {
      "cell_type": "code",
      "source": [
        "paises1 = list(filter(None, pases))"
      ],
      "metadata": {
        "id": "G27NUP31mj0c"
      },
      "execution_count": null,
      "outputs": []
    },
    {
      "cell_type": "code",
      "source": [
        "print(paises)"
      ],
      "metadata": {
        "colab": {
          "base_uri": "https://localhost:8080/"
        },
        "id": "JNqecXPamgMi",
        "outputId": "d412034c-9e0d-4d7a-cc7b-056d049a6177"
      },
      "execution_count": null,
      "outputs": [
        {
          "output_type": "stream",
          "name": "stdout",
          "text": [
            "['Argentina', 'Brasil', 'Chile', 'Colombia', 'Equador', 'Venezuela']\n"
          ]
        }
      ]
    },
    {
      "cell_type": "code",
      "source": [
        "print(paises1)"
      ],
      "metadata": {
        "colab": {
          "base_uri": "https://localhost:8080/"
        },
        "id": "3xaN2XZemoE-",
        "outputId": "cd24f567-4251-4118-812f-3b4ca616d70d"
      },
      "execution_count": null,
      "outputs": [
        {
          "output_type": "stream",
          "name": "stdout",
          "text": [
            "['Argentina', 'Brasil', 'Chile', 'Colombia', 'Equador', 'Venezuela']\n"
          ]
        }
      ]
    },
    {
      "cell_type": "markdown",
      "source": [
        "A diferença entre map() e filter() é:\n",
        "\n",
        "- map() -> Recebe dois parâmetros, uma função e um interável e retorna um objeto mapeando a função para cada elemento do interável\n",
        "\n",
        "- filter() -> Recebe dois parâmetros, uma função e uma interável e retorna um objeto filtrando apenas os elementos de acordo com a interação (filter retorna somente valores booleanos para decidir se quem entre e quem sai do filtro)"
      ],
      "metadata": {
        "id": "rAMppzR0pgu3"
      }
    },
    {
      "cell_type": "markdown",
      "source": [
        "Exemplo mais completo"
      ],
      "metadata": {
        "id": "RZQlyInmuu6O"
      }
    },
    {
      "cell_type": "code",
      "source": [
        "usuarios = [\n",
        "    {'username': 'Samuuel', 'twitter': ['Eu adoro bolos', 'Eu adoro pizza', 'Amanhã tem aula cedo denovo', 'Comendo pizza hoje a noite com os amigos']},\n",
        "    {'username': 'Anna', 'twitter': ['SENAC hoje foi um caos', 'Indo assistir o jogo com as amigas', 'Finalmente consegui meu estágio', 'PQ OS ONIBUS DESSA CIDADE NÃO FUNCIONA']},\n",
        "    {'username': 'bob123', 'twitter': []},\n",
        "    {'username': 'Beatriz', 'twitter': ['Quero jogar Harry Potter', 'Sdds comer um BK', 'Indo para casa finalmente', 'oooodiiiioooooo', 'Finalmente tá acabando', 'Meu bb me ligou', 'Que semana longa']},\n",
        "    {'username': 'Carla', 'twitter': ['VAMOS FLAMENGO', 'O Pedro tava tão lindo', 'Que preguiça desse povo', 'nunca mais bebo vinho']},\n",
        "    {'username': 'Brenda', 'twitter': []}\n",
        "]"
      ],
      "metadata": {
        "id": "XQn0_74puvfg"
      },
      "execution_count": null,
      "outputs": []
    },
    {
      "cell_type": "code",
      "source": [
        "print([x['username'] for x in usuarios])"
      ],
      "metadata": {
        "colab": {
          "base_uri": "https://localhost:8080/"
        },
        "id": "VjEvsasWwvKB",
        "outputId": "b00ae6da-6161-415a-f1d5-515cde049dce"
      },
      "execution_count": null,
      "outputs": [
        {
          "output_type": "stream",
          "name": "stdout",
          "text": [
            "['Samuuel', 'Anna', 'bob123', 'Beatriz', 'Carla', 'Brenda']\n"
          ]
        }
      ]
    },
    {
      "cell_type": "markdown",
      "source": [
        "Filtrar os usuários que estão inativos no Twitter"
      ],
      "metadata": {
        "id": "GtNDwcjAzDfv"
      }
    },
    {
      "cell_type": "code",
      "source": [
        "inativos = list(filter(lambda usuario: len(usuario['twitter']) == 0, usuarios))"
      ],
      "metadata": {
        "id": "a_FRNKUKzIaC"
      },
      "execution_count": null,
      "outputs": []
    },
    {
      "cell_type": "code",
      "source": [
        "inativos"
      ],
      "metadata": {
        "colab": {
          "base_uri": "https://localhost:8080/"
        },
        "id": "6I1j9h_4zhqJ",
        "outputId": "8c5fd86d-4814-462c-a878-c13a6a53fc0e"
      },
      "execution_count": null,
      "outputs": [
        {
          "output_type": "execute_result",
          "data": {
            "text/plain": [
              "[{'username': 'bob123', 'twitter': []}, {'username': 'Brenda', 'twitter': []}]"
            ]
          },
          "metadata": {},
          "execution_count": 108
        }
      ]
    },
    {
      "cell_type": "markdown",
      "source": [
        "**Forma 2**"
      ],
      "metadata": {
        "id": "T67YeisD1TPb"
      }
    },
    {
      "cell_type": "code",
      "source": [
        "invativos1 = list(filter(lambda usuario: not usuario['twitter'], usuarios ))"
      ],
      "metadata": {
        "id": "AIkejMjp1U9W"
      },
      "execution_count": null,
      "outputs": []
    },
    {
      "cell_type": "code",
      "source": [
        "print(invativos1)"
      ],
      "metadata": {
        "colab": {
          "base_uri": "https://localhost:8080/"
        },
        "id": "FAXhEKK3138L",
        "outputId": "71bd3695-c37e-450c-f9c0-2ea5120e9250"
      },
      "execution_count": null,
      "outputs": [
        {
          "output_type": "stream",
          "name": "stdout",
          "text": [
            "[{'username': 'bob123', 'twitter': []}, {'username': 'Brenda', 'twitter': []}]\n"
          ]
        }
      ]
    },
    {
      "cell_type": "markdown",
      "source": [
        "Devemos criar uma lista contendo 'Sua instrutora é' + nome, desde que cada nome tenha menos de 5 caracteres"
      ],
      "metadata": {
        "id": "7hwG0Ep692__"
      }
    },
    {
      "cell_type": "code",
      "source": [
        "nomes = ['Vanessa', 'Ana', 'Maria']"
      ],
      "metadata": {
        "id": "PsUsVDOi9Qnp"
      },
      "execution_count": null,
      "outputs": []
    },
    {
      "cell_type": "code",
      "source": [
        "instrutora = 'Sua instrutora é ' + str(filter(lambda x: len(x) > 5, nomes))"
      ],
      "metadata": {
        "id": "q4cW4hI2-AY9"
      },
      "execution_count": null,
      "outputs": []
    },
    {
      "cell_type": "code",
      "source": [
        "ista = list(map(lambda nome: f'Sua instrutora é {nome}', filter(lambda nome: len(nome) < 5, nomes)))"
      ],
      "metadata": {
        "id": "yY5xIeiA_Zj-"
      },
      "execution_count": null,
      "outputs": []
    },
    {
      "cell_type": "code",
      "source": [
        "ista"
      ],
      "metadata": {
        "colab": {
          "base_uri": "https://localhost:8080/"
        },
        "id": "NvbvjWzt-8U6",
        "outputId": "a8a7c2c7-7d79-460e-bdbe-f81e89062c77"
      },
      "execution_count": null,
      "outputs": [
        {
          "output_type": "execute_result",
          "data": {
            "text/plain": [
              "['Sua instrutora é Ana']"
            ]
          },
          "metadata": {},
          "execution_count": 126
        }
      ]
    },
    {
      "cell_type": "markdown",
      "source": [
        "# **Reduce**"
      ],
      "metadata": {
        "id": "D8zWiu3nWJfz"
      }
    },
    {
      "cell_type": "markdown",
      "source": [
        "Já foi uma função integrada, a partir do python3+ a função reduce() não é mais uma função integrada (built-in). Agora temos que importar e utilizar esta função a partir do módulo **'functools'**"
      ],
      "metadata": {
        "id": "C0qtC3sqWM9f"
      }
    },
    {
      "cell_type": "markdown",
      "source": [
        "Guido Van Rossum: Utilize a função reduce() se você realmente precisa dela. Em todo caso, 99% das vezes um loop for é mais legível."
      ],
      "metadata": {
        "id": "OJkq1wHHXTDT"
      }
    },
    {
      "cell_type": "markdown",
      "source": [
        "Para entender o reduce()\n",
        "\n",
        "Imagine que vocÊ tem uma coleção de dados:\n",
        "\n",
        "dados = [a1, a2, a3, a4 ..... an]\n",
        "\n",
        "e você tem uma função que recebe dois parâmetros\n",
        "\n",
        "def funcao(x,y):\n",
        "    return x * y\n",
        "\n",
        "A função reduce(), funciona da seguinte forma:\n",
        "Assim como map() e filter(), a função reduce() recebe dois parâmetros: a função e o interável.\n",
        "\n",
        "reduce (funcao, dados)\n",
        "\n",
        "A funcao () reduce funciona da seguinte forma:\n",
        "\n",
        "  - Passo 1: res1 = f(a1, a2) - Aplica a função nos dois primeiros elementos da coleção e guarda o resultado\n",
        "  - Passo 2: res2 = f(res1, a3) - Aplica a função passando o resultado do passo1 mais o terceiro elemento e guarda o resultado\n",
        "\n",
        "  - Isso é repetido até o final.\n",
        "  - Passo 3: res3 = f(res2, a4)\n",
        "\n",
        "  .\n",
        "\n",
        "  .\n",
        "\n",
        "  .\n",
        "\n",
        "  .\n",
        "  \n",
        "  .\n",
        "\n",
        "  - Passo n: resn = f(resm, an)\n"
      ],
      "metadata": {
        "id": "hUKjognhXvD6"
      }
    },
    {
      "cell_type": "markdown",
      "source": [
        "Ou seja, em cada passo ela aplica a função passando como primeiro argumento o resultado da aplicação anterior. No final, reduce() irá retornar o resultado final. \n",
        "Alternativamente, poderiamos ver a função reduce() como:\n",
        "\n",
        "funcao(funcao(funcao(a1, a2), a3), a4), ....), an)"
      ],
      "metadata": {
        "id": "i9yOvxDfZTXu"
      }
    },
    {
      "cell_type": "markdown",
      "source": [
        "Como funciona na prática?\n",
        "\n",
        "Vamos utililizar a função reduce() para multiplicar todos os números de uma lista"
      ],
      "metadata": {
        "id": "2sElLCUzZqSW"
      }
    },
    {
      "cell_type": "code",
      "source": [
        "from functools import reduce"
      ],
      "metadata": {
        "id": "msSn-GWZZyYf"
      },
      "execution_count": null,
      "outputs": []
    },
    {
      "cell_type": "code",
      "source": [
        "dados = [2,3,4,5,6,7,8,9,14,15,16,17,17]"
      ],
      "metadata": {
        "id": "GtaTa3KzZ5au"
      },
      "execution_count": null,
      "outputs": []
    },
    {
      "cell_type": "markdown",
      "source": [
        "Para utilizar o reduce() precisamos de uma função da qual recebe dois elementos"
      ],
      "metadata": {
        "id": "I1veUssPaKws"
      }
    },
    {
      "cell_type": "code",
      "source": [
        "multi = lambda x,y: x * y"
      ],
      "metadata": {
        "id": "M_4CWPwwZ9bK"
      },
      "execution_count": null,
      "outputs": []
    },
    {
      "cell_type": "code",
      "source": [
        "res = reduce(multi, dados)"
      ],
      "metadata": {
        "id": "DUW0tKdmaDAR"
      },
      "execution_count": null,
      "outputs": []
    },
    {
      "cell_type": "code",
      "source": [
        "print(res)"
      ],
      "metadata": {
        "colab": {
          "base_uri": "https://localhost:8080/"
        },
        "id": "uLeLxTVCaHzE",
        "outputId": "35fc6ffe-7128-460c-9aa1-23bda4f6c52a"
      },
      "execution_count": null,
      "outputs": [
        {
          "output_type": "stream",
          "name": "stdout",
          "text": [
            "352370995200\n"
          ]
        }
      ]
    },
    {
      "cell_type": "markdown",
      "source": [
        "Utizando um loop normal"
      ],
      "metadata": {
        "id": "-v4Gz_WoatpK"
      }
    },
    {
      "cell_type": "code",
      "source": [
        "res = 1\n",
        "for x in dados:\n",
        "  res = res * x\n",
        "\n",
        "print(res)"
      ],
      "metadata": {
        "colab": {
          "base_uri": "https://localhost:8080/"
        },
        "id": "SVIWQlunazcN",
        "outputId": "41d62db1-5d35-4c87-b85f-3ea515228848"
      },
      "execution_count": null,
      "outputs": [
        {
          "output_type": "stream",
          "name": "stdout",
          "text": [
            "352370995200\n"
          ]
        }
      ]
    },
    {
      "cell_type": "markdown",
      "source": [
        "# **All**"
      ],
      "metadata": {
        "id": "fLqKb6gzeYNp"
      }
    },
    {
      "cell_type": "markdown",
      "source": [
        "São funções integradas ao proprio Python. Não é necessário importar\n",
        "\n",
        "- all() - Retorna True se todos os elementos do interável são verdadeiros ou ainda se o interável está vazio\n",
        "\n",
        "exemplo all()\n",
        "\n"
      ],
      "metadata": {
        "id": "-yNVA-x4eq8i"
      }
    },
    {
      "cell_type": "code",
      "source": [
        "print(all([0,2,3,4,5,6,4,3])) #Retorna False pelo fato de 0 ser False"
      ],
      "metadata": {
        "colab": {
          "base_uri": "https://localhost:8080/"
        },
        "id": "XZUxHCs5fHaE",
        "outputId": "5f6f5819-9d6a-4496-a9a7-ca8837e71e7e"
      },
      "execution_count": null,
      "outputs": [
        {
          "output_type": "stream",
          "name": "stdout",
          "text": [
            "False\n"
          ]
        }
      ]
    },
    {
      "cell_type": "code",
      "source": [
        "print(all([])) #Retorna True porque a lista está vazia"
      ],
      "metadata": {
        "colab": {
          "base_uri": "https://localhost:8080/"
        },
        "id": "dV0Dax2ffcxP",
        "outputId": "88b0ab11-5087-4da9-f6a0-704f6739c03b"
      },
      "execution_count": null,
      "outputs": [
        {
          "output_type": "stream",
          "name": "stdout",
          "text": [
            "True\n"
          ]
        }
      ]
    },
    {
      "cell_type": "code",
      "source": [
        "print(all([2,3,4,5,6,4,3])) #Retorna True porque tiramos o 0"
      ],
      "metadata": {
        "colab": {
          "base_uri": "https://localhost:8080/"
        },
        "id": "zfYurtNJfRq1",
        "outputId": "6141f3d1-efdc-4551-bc4c-a43502e1e9ff"
      },
      "execution_count": null,
      "outputs": [
        {
          "output_type": "stream",
          "name": "stdout",
          "text": [
            "True\n"
          ]
        }
      ]
    },
    {
      "cell_type": "code",
      "source": [
        "print(all((2,3,4,5,6,4,3))) #Pode ser uma tupla"
      ],
      "metadata": {
        "colab": {
          "base_uri": "https://localhost:8080/"
        },
        "id": "KSsyA2ZmfrbZ",
        "outputId": "40fd464b-0637-4ef7-c1b6-2ffb278f7838"
      },
      "execution_count": null,
      "outputs": [
        {
          "output_type": "stream",
          "name": "stdout",
          "text": [
            "True\n"
          ]
        }
      ]
    },
    {
      "cell_type": "code",
      "source": [
        "print(all({2,3,4,5,6,4,3})) #Pode ser um set"
      ],
      "metadata": {
        "colab": {
          "base_uri": "https://localhost:8080/"
        },
        "id": "e6BRZtjhfwaU",
        "outputId": "4d3c821c-e087-4e2a-cef8-3506f3dcafdf"
      },
      "execution_count": null,
      "outputs": [
        {
          "output_type": "stream",
          "name": "stdout",
          "text": [
            "True\n"
          ]
        }
      ]
    },
    {
      "cell_type": "code",
      "source": [
        "print(all('ITALO SILVA DE SANTANA')) #Pode ser uma  string"
      ],
      "metadata": {
        "colab": {
          "base_uri": "https://localhost:8080/"
        },
        "id": "96sd_niXfz8i",
        "outputId": "f7c60161-5027-42f1-8b6c-31ee4b4089a8"
      },
      "execution_count": null,
      "outputs": [
        {
          "output_type": "stream",
          "name": "stdout",
          "text": [
            "True\n"
          ]
        }
      ]
    },
    {
      "cell_type": "code",
      "source": [
        "nomes = ['Carlos', 'Camila', 'Cassiano', 'Cristina']"
      ],
      "metadata": {
        "id": "qnuU_kYngCJx"
      },
      "execution_count": null,
      "outputs": []
    },
    {
      "cell_type": "code",
      "source": [
        "print(all([nome[0] == 'C' for nome in nomes]))"
      ],
      "metadata": {
        "colab": {
          "base_uri": "https://localhost:8080/"
        },
        "id": "0S5z3d64gHR3",
        "outputId": "95721518-6b02-4251-a4f2-289bb7b6ca16"
      },
      "execution_count": null,
      "outputs": [
        {
          "output_type": "stream",
          "name": "stdout",
          "text": [
            "True\n"
          ]
        }
      ]
    },
    {
      "cell_type": "code",
      "source": [
        "nomes = ['Carlos', 'Camila', 'Cassiano', 'Cristina', 'Daniel']"
      ],
      "metadata": {
        "id": "b4uPXB-pgdFX"
      },
      "execution_count": null,
      "outputs": []
    },
    {
      "cell_type": "code",
      "source": [
        "print(all([nome[0] == 'C' for nome in nomes]))"
      ],
      "metadata": {
        "colab": {
          "base_uri": "https://localhost:8080/"
        },
        "id": "5yXILCk3gfT0",
        "outputId": "020f57ef-b9b5-43bf-e8ba-c811c4c176ee"
      },
      "execution_count": null,
      "outputs": [
        {
          "output_type": "stream",
          "name": "stdout",
          "text": [
            "False\n"
          ]
        }
      ]
    },
    {
      "cell_type": "code",
      "source": [
        "print(all([letra for letra in 'iou' if letra in 'aeiou']))"
      ],
      "metadata": {
        "colab": {
          "base_uri": "https://localhost:8080/"
        },
        "id": "C9HmVJ8igqRA",
        "outputId": "c9f13ce8-62cd-4879-d48b-430d32a7838b"
      },
      "execution_count": null,
      "outputs": [
        {
          "output_type": "stream",
          "name": "stdout",
          "text": [
            "True\n"
          ]
        }
      ]
    },
    {
      "cell_type": "code",
      "source": [
        "print([letra for letra in 'f' if letra in 'aeiou'])"
      ],
      "metadata": {
        "colab": {
          "base_uri": "https://localhost:8080/"
        },
        "id": "qxocsTwzhdly",
        "outputId": "a0ff2119-7e7b-493b-ff79-3810b8d25c5f"
      },
      "execution_count": null,
      "outputs": [
        {
          "output_type": "stream",
          "name": "stdout",
          "text": [
            "[]\n"
          ]
        }
      ]
    },
    {
      "cell_type": "markdown",
      "source": [
        "**OBS:**  Um interável vazio convertido em boolean é False, mas o all() entende como True"
      ],
      "metadata": {
        "id": "GN3o2MiwiUMv"
      }
    },
    {
      "cell_type": "code",
      "source": [
        "print(all([num for num in [4,2,10,6,8] if num % 2 == 1]))"
      ],
      "metadata": {
        "colab": {
          "base_uri": "https://localhost:8080/"
        },
        "id": "-cN_X6-ziec_",
        "outputId": "376669ed-8b34-4496-c2fc-aefe9c627f61"
      },
      "execution_count": null,
      "outputs": [
        {
          "output_type": "stream",
          "name": "stdout",
          "text": [
            "True\n"
          ]
        }
      ]
    },
    {
      "cell_type": "code",
      "source": [
        "print([num for num in [4,2,10,6,8] if num % 2 == 1])"
      ],
      "metadata": {
        "colab": {
          "base_uri": "https://localhost:8080/"
        },
        "id": "HoyZ4kQFiumL",
        "outputId": "b89919e4-be2f-44c2-abd0-943c541b2c7c"
      },
      "execution_count": null,
      "outputs": [
        {
          "output_type": "stream",
          "name": "stdout",
          "text": [
            "[]\n"
          ]
        }
      ]
    },
    {
      "cell_type": "markdown",
      "source": [
        "# **Any**"
      ],
      "metadata": {
        "id": "AQW4brFki3HI"
      }
    },
    {
      "cell_type": "markdown",
      "source": [
        "Retorna True se qualquer elemento do interável for verdadeiro. Se o iterável estiver vazio, retorna False"
      ],
      "metadata": {
        "id": "1LC_LnHLi9IV"
      }
    },
    {
      "cell_type": "code",
      "source": [
        "print(any([0,1,2,3,4,5,6,7]))"
      ],
      "metadata": {
        "colab": {
          "base_uri": "https://localhost:8080/"
        },
        "id": "TECUXgrDkKKN",
        "outputId": "21cdbba9-a95f-429e-d768-9ac9220eef5c"
      },
      "execution_count": null,
      "outputs": [
        {
          "output_type": "stream",
          "name": "stdout",
          "text": [
            "True\n"
          ]
        }
      ]
    },
    {
      "cell_type": "code",
      "source": [
        "[num for num in [2,4,6,8,10,12,14] if num % 2 == 0]"
      ],
      "metadata": {
        "colab": {
          "base_uri": "https://localhost:8080/"
        },
        "id": "M1aDqJZwkdor",
        "outputId": "ca936857-44e0-4695-a1d9-c8e4b4c3785f"
      },
      "execution_count": null,
      "outputs": [
        {
          "output_type": "execute_result",
          "data": {
            "text/plain": [
              "[2, 4, 6, 8, 10, 12, 14]"
            ]
          },
          "metadata": {},
          "execution_count": 34
        }
      ]
    },
    {
      "cell_type": "code",
      "source": [
        "print(any([num for num in [2,4,6,8,10,12,14] if num % 2 == 0]))"
      ],
      "metadata": {
        "colab": {
          "base_uri": "https://localhost:8080/"
        },
        "id": "w6vxm1FDkPQI",
        "outputId": "764e1977-85cb-4a52-efdc-a7c64311c0b6"
      },
      "execution_count": null,
      "outputs": [
        {
          "output_type": "stream",
          "name": "stdout",
          "text": [
            "True\n"
          ]
        }
      ]
    },
    {
      "cell_type": "code",
      "source": [
        "[num for num in [2,4,6,8,10,12,14] if num % 2 == 1]"
      ],
      "metadata": {
        "colab": {
          "base_uri": "https://localhost:8080/"
        },
        "id": "GnU5JqiLkf4m",
        "outputId": "49b082a4-a946-4c48-fbb8-0cd6fd1be48e"
      },
      "execution_count": null,
      "outputs": [
        {
          "output_type": "execute_result",
          "data": {
            "text/plain": [
              "[]"
            ]
          },
          "metadata": {},
          "execution_count": 35
        }
      ]
    },
    {
      "cell_type": "code",
      "source": [
        "print(any([num for num in [2,4,6,8,10,12,14] if num % 2 == 1])) # False porque isso gera uma lista vazia e lista vazia em Any é False"
      ],
      "metadata": {
        "colab": {
          "base_uri": "https://localhost:8080/"
        },
        "id": "v-Y2DQRukkxG",
        "outputId": "e1a63b5c-5365-4266-ebb8-25f32b951ab9"
      },
      "execution_count": null,
      "outputs": [
        {
          "output_type": "stream",
          "name": "stdout",
          "text": [
            "False\n"
          ]
        }
      ]
    },
    {
      "cell_type": "code",
      "source": [
        "nomes = ['Carlos', 'Camila', 'Carla', 'Cassiano', 'Cristina', 'Vanessa']"
      ],
      "metadata": {
        "id": "KtClhZb4ky-s"
      },
      "execution_count": null,
      "outputs": []
    },
    {
      "cell_type": "code",
      "source": [
        "print(any([nome[0] == 'C' for nome in nomes])) #Any retorna True porque existe um elemento True no interável\n",
        "print([nome[0] == 'C' for nome in nomes])"
      ],
      "metadata": {
        "colab": {
          "base_uri": "https://localhost:8080/"
        },
        "id": "64wRnHqnk69e",
        "outputId": "5b034acb-a5bd-419c-bb87-dfdca20b0567"
      },
      "execution_count": null,
      "outputs": [
        {
          "output_type": "stream",
          "name": "stdout",
          "text": [
            "True\n",
            "[True, True, True, True, True, False]\n"
          ]
        }
      ]
    },
    {
      "cell_type": "code",
      "source": [
        "print(all([nome[0] == 'C' for nome in nomes])) #All retorna False porque existe um elemento Falso no interável\n",
        "print([nome[0] == 'C' for nome in nomes])"
      ],
      "metadata": {
        "colab": {
          "base_uri": "https://localhost:8080/"
        },
        "id": "rfdoot_TlSNU",
        "outputId": "0b021690-8b6b-4f30-9495-8d7e222d19f0"
      },
      "execution_count": null,
      "outputs": [
        {
          "output_type": "stream",
          "name": "stdout",
          "text": [
            "False\n",
            "[True, True, True, True, True, False]\n"
          ]
        }
      ]
    },
    {
      "cell_type": "markdown",
      "source": [
        "# **Generators**"
      ],
      "metadata": {
        "id": "Z2MKP002rKTB"
      }
    },
    {
      "cell_type": "markdown",
      "source": [
        "Em aulas anteriores nós estudamos:\n",
        "\n",
        "- List Comprehensions;\n",
        "- Dictionary Comprehension;\n",
        "- Set Comprehensions;\n",
        "\n",
        "Não vimos: \n",
        "\n",
        "- Tuple Comprehensions... porque elas se chamam Generators\n",
        "\n",
        "nomes = ['Carlos', 'Camila', 'Carla', 'Cassiano', 'Cristina', 'Vanessa']\n",
        "\n",
        "print(any([nome[0] == 'C' for nome in nomes])"
      ],
      "metadata": {
        "id": "xshbgeQUrM78"
      }
    },
    {
      "cell_type": "code",
      "source": [
        "nomes = ['Carlos', 'Camila', 'Carla', 'Cassiano', 'Cristina', 'Vanessa']"
      ],
      "metadata": {
        "id": "wFzH4dQsryUO"
      },
      "execution_count": null,
      "outputs": []
    },
    {
      "cell_type": "code",
      "source": [
        "print(any(nome[0] == 'C' for nome in nomes)) #Não é uma list Comprensions"
      ],
      "metadata": {
        "colab": {
          "base_uri": "https://localhost:8080/"
        },
        "id": "mXZRZ30brziu",
        "outputId": "049e3f75-de69-4b8e-dc98-fa65373ba23d"
      },
      "execution_count": null,
      "outputs": [
        {
          "output_type": "stream",
          "name": "stdout",
          "text": [
            "True\n"
          ]
        }
      ]
    },
    {
      "cell_type": "code",
      "source": [
        "(nome[0] == 'C' for nome in nomes)"
      ],
      "metadata": {
        "colab": {
          "base_uri": "https://localhost:8080/"
        },
        "id": "TLXNQPRFsCyl",
        "outputId": "718e46af-9a66-4fa1-c668-705819071971"
      },
      "execution_count": null,
      "outputs": [
        {
          "output_type": "execute_result",
          "data": {
            "text/plain": [
              "<generator object <genexpr> at 0x7feadb977c80>"
            ]
          },
          "metadata": {},
          "execution_count": 44
        }
      ]
    },
    {
      "cell_type": "code",
      "source": [
        "tuple((nome[0] == 'C' for nome in nomes))"
      ],
      "metadata": {
        "colab": {
          "base_uri": "https://localhost:8080/"
        },
        "id": "PgTTO4etsLjG",
        "outputId": "0e311b5d-bbc2-435d-f262-9debe38fd638"
      },
      "execution_count": null,
      "outputs": [
        {
          "output_type": "execute_result",
          "data": {
            "text/plain": [
              "(True, True, True, True, True, False)"
            ]
          },
          "metadata": {},
          "execution_count": 45
        }
      ]
    },
    {
      "cell_type": "markdown",
      "source": [
        "List Comprehesion"
      ],
      "metadata": {
        "id": "eTCNCTBQse95"
      }
    },
    {
      "cell_type": "code",
      "source": [
        "res = [nome[0] == 'C' for nome in nomes]\n",
        "print(res)\n",
        "print(type(res))"
      ],
      "metadata": {
        "colab": {
          "base_uri": "https://localhost:8080/"
        },
        "id": "YtqF4eNashFr",
        "outputId": "0fdb46d3-2efd-46ea-f906-1e9291b31532"
      },
      "execution_count": null,
      "outputs": [
        {
          "output_type": "stream",
          "name": "stdout",
          "text": [
            "[True, True, True, True, True, False]\n",
            "<class 'list'>\n"
          ]
        }
      ]
    },
    {
      "cell_type": "markdown",
      "source": [
        "Generator"
      ],
      "metadata": {
        "id": "1fRkW4SzsnI8"
      }
    },
    {
      "cell_type": "code",
      "source": [
        "res = (nome[0] == 'C' for nome in nomes)\n",
        "print(res)\n",
        "print(type(res))"
      ],
      "metadata": {
        "colab": {
          "base_uri": "https://localhost:8080/"
        },
        "id": "B0ijTliYsoqa",
        "outputId": "9e2d486a-a350-4bac-ca19-121d08e3b686"
      },
      "execution_count": null,
      "outputs": [
        {
          "output_type": "stream",
          "name": "stdout",
          "text": [
            "<generator object <genexpr> at 0x7feadb977f90>\n",
            "<class 'generator'>\n"
          ]
        }
      ]
    },
    {
      "cell_type": "markdown",
      "source": [
        "Em questão de perfomace, o **generator ocupa menos recurso em memória** porque list gera uma lista em memória, porém, o generator não gera espaço em memória."
      ],
      "metadata": {
        "id": "DHGh73F5s5bM"
      }
    },
    {
      "cell_type": "markdown",
      "source": [
        "Generator"
      ],
      "metadata": {
        "id": "nLqwW2bKuIrN"
      }
    },
    {
      "cell_type": "code",
      "source": [
        "print('any - ', any(nome[0]== 'C' for nome in nomes))\n",
        "print('all - ', all(nome[0] == 'C' for nome in nomes))\n",
        "print((nome[0]== 'C' for nome in nomes))"
      ],
      "metadata": {
        "colab": {
          "base_uri": "https://localhost:8080/"
        },
        "id": "TxvABEGktUqJ",
        "outputId": "6fed9b07-fed0-4354-db29-ba78ccda33ca"
      },
      "execution_count": null,
      "outputs": [
        {
          "output_type": "stream",
          "name": "stdout",
          "text": [
            "any -  True\n",
            "all -  False\n",
            "<generator object <genexpr> at 0x7feadb977270>\n"
          ]
        }
      ]
    },
    {
      "cell_type": "markdown",
      "source": [
        "List Comprehensions"
      ],
      "metadata": {
        "id": "7k_bhld0uKzg"
      }
    },
    {
      "cell_type": "code",
      "source": [
        "print('any - ', any([nome[0]== 'C' for nome in nomes]))\n",
        "print('all - ', all([nome[0] == 'C' for nome in nomes]))\n",
        "print([nome[0]== 'C' for nome in nomes])"
      ],
      "metadata": {
        "colab": {
          "base_uri": "https://localhost:8080/"
        },
        "id": "WrJTTa_TtbFK",
        "outputId": "58ac578e-df31-4244-e7c2-63c960f76cfa"
      },
      "execution_count": null,
      "outputs": [
        {
          "output_type": "stream",
          "name": "stdout",
          "text": [
            "any -  True\n",
            "all -  False\n",
            "[True, True, True, True, True, False]\n"
          ]
        }
      ]
    },
    {
      "cell_type": "code",
      "source": [
        "from sys import getsizeof"
      ],
      "metadata": {
        "id": "tNxUsPJeuOXL"
      },
      "execution_count": null,
      "outputs": []
    },
    {
      "cell_type": "markdown",
      "source": [
        "Qual é a utilizade de getsizeof()? -> Retorna a quantidade de bytes em memória do elemento passado como parâmetro"
      ],
      "metadata": {
        "id": "jKmMTKRuuaHz"
      }
    },
    {
      "cell_type": "markdown",
      "source": [
        "Mostra quantos bytes a string 'Italo' está ocupando na memória. Quanto maior a string, mais espaço ocupa"
      ],
      "metadata": {
        "id": "8gbr9yFsujlT"
      }
    },
    {
      "cell_type": "code",
      "source": [
        "print(getsizeof('Italo'))"
      ],
      "metadata": {
        "colab": {
          "base_uri": "https://localhost:8080/"
        },
        "id": "B974tMf_uQiZ",
        "outputId": "5004f43e-ac57-477b-d59f-20cc6fa182da"
      },
      "execution_count": null,
      "outputs": [
        {
          "output_type": "stream",
          "name": "stdout",
          "text": [
            "54\n"
          ]
        }
      ]
    },
    {
      "cell_type": "code",
      "source": [
        "print(getsizeof('a'))"
      ],
      "metadata": {
        "colab": {
          "base_uri": "https://localhost:8080/"
        },
        "id": "c4-mOftouscY",
        "outputId": "b7be0fd8-2968-4c77-9d64-305a6f340e1e"
      },
      "execution_count": null,
      "outputs": [
        {
          "output_type": "stream",
          "name": "stdout",
          "text": [
            "50\n"
          ]
        }
      ]
    },
    {
      "cell_type": "code",
      "source": [
        "print(getsizeof('ITALO SILVA DE SANTANA MORA NA RUA PEDRO BRANT'))"
      ],
      "metadata": {
        "colab": {
          "base_uri": "https://localhost:8080/"
        },
        "id": "8PYjMk4Yut54",
        "outputId": "a0811770-75e8-412c-c9bb-a3bb0485bcc5"
      },
      "execution_count": null,
      "outputs": [
        {
          "output_type": "stream",
          "name": "stdout",
          "text": [
            "95\n"
          ]
        }
      ]
    },
    {
      "cell_type": "code",
      "source": [
        "print(getsizeof(9234532345))"
      ],
      "metadata": {
        "colab": {
          "base_uri": "https://localhost:8080/"
        },
        "id": "bGDH3WQcuuTp",
        "outputId": "8658b3f6-d205-46c3-c34d-91d367a6ae08"
      },
      "execution_count": null,
      "outputs": [
        {
          "output_type": "stream",
          "name": "stdout",
          "text": [
            "32\n"
          ]
        }
      ]
    },
    {
      "cell_type": "code",
      "source": [
        "print(getsizeof(1))"
      ],
      "metadata": {
        "colab": {
          "base_uri": "https://localhost:8080/"
        },
        "id": "hAnVJ0ebuuur",
        "outputId": "ffa67706-466d-404b-88f0-7f2cdf11d003"
      },
      "execution_count": null,
      "outputs": [
        {
          "output_type": "stream",
          "name": "stdout",
          "text": [
            "28\n"
          ]
        }
      ]
    },
    {
      "cell_type": "code",
      "source": [
        "print(getsizeof(True))"
      ],
      "metadata": {
        "colab": {
          "base_uri": "https://localhost:8080/"
        },
        "id": "c9xm1nqju5NR",
        "outputId": "0492ed65-6fdd-4251-d66e-a153f1d7b990"
      },
      "execution_count": null,
      "outputs": [
        {
          "output_type": "stream",
          "name": "stdout",
          "text": [
            "28\n"
          ]
        }
      ]
    },
    {
      "cell_type": "markdown",
      "source": [
        "Gerando uma lista de números com List Comprehension\n",
        "\n",
        "---\n",
        "\n"
      ],
      "metadata": {
        "id": "iq7f9-Mqu_8x"
      }
    },
    {
      "cell_type": "code",
      "source": [
        "list_comp = getsizeof([x * 10 for x in range(1000)])"
      ],
      "metadata": {
        "id": "okWFVaFPvFAz"
      },
      "execution_count": null,
      "outputs": []
    },
    {
      "cell_type": "markdown",
      "source": [
        "Gerando uma lista de números com Set Comprehension\n",
        "\n"
      ],
      "metadata": {
        "id": "vF89Anh7vSvv"
      }
    },
    {
      "cell_type": "code",
      "source": [
        "set_comp = getsizeof({x * 10 for x in range(1000)})"
      ],
      "metadata": {
        "id": "2K7bQK7wvVn5"
      },
      "execution_count": null,
      "outputs": []
    },
    {
      "cell_type": "markdown",
      "source": [
        "Gerando uma lista de números com Dictonary Comprehension"
      ],
      "metadata": {
        "id": "pACxaEzKvZ3E"
      }
    },
    {
      "cell_type": "code",
      "source": [
        "dict_comp = getsizeof({x: x * 10 for x in range(1000)})"
      ],
      "metadata": {
        "id": "ZUqUHDaJvd91"
      },
      "execution_count": null,
      "outputs": []
    },
    {
      "cell_type": "markdown",
      "source": [
        "Gerando uma lista de números com Generator"
      ],
      "metadata": {
        "id": "QTDXWc-8vh6_"
      }
    },
    {
      "cell_type": "code",
      "source": [
        "generator_comp = getsizeof((x * 10 for x in range(1000)))"
      ],
      "metadata": {
        "id": "XPMG9Re1vldl"
      },
      "execution_count": null,
      "outputs": []
    },
    {
      "cell_type": "markdown",
      "source": [
        "**Comparando a quantidade de memória que cada um dos Comprehension ocupa**"
      ],
      "metadata": {
        "id": "v2Wh2H2xwJI5"
      }
    },
    {
      "cell_type": "code",
      "source": [
        "print('Lista Comprenhension', list_comp, ' Bytes')"
      ],
      "metadata": {
        "colab": {
          "base_uri": "https://localhost:8080/"
        },
        "id": "cu3_K8QPwKrZ",
        "outputId": "83c21ec5-0b2d-4280-90c1-252ac7ba2e62"
      },
      "execution_count": null,
      "outputs": [
        {
          "output_type": "stream",
          "name": "stdout",
          "text": [
            "Lista Comprenhension 8856  Bytes\n"
          ]
        }
      ]
    },
    {
      "cell_type": "code",
      "source": [
        "print('Set Comprenhension', set_comp, ' Bytes')"
      ],
      "metadata": {
        "colab": {
          "base_uri": "https://localhost:8080/"
        },
        "id": "DNi3xzMZwT-r",
        "outputId": "dbcae5a6-cb7e-4557-bc32-809c468eef46"
      },
      "execution_count": null,
      "outputs": [
        {
          "output_type": "stream",
          "name": "stdout",
          "text": [
            "Set Comprenhension 32984  Bytes\n"
          ]
        }
      ]
    },
    {
      "cell_type": "code",
      "source": [
        "print('Dictonary Comprenhension', dict_comp, ' Bytes')"
      ],
      "metadata": {
        "colab": {
          "base_uri": "https://localhost:8080/"
        },
        "id": "VaXlZvW8wUl6",
        "outputId": "b7f691a9-78d3-47aa-811e-5e093d59db31"
      },
      "execution_count": null,
      "outputs": [
        {
          "output_type": "stream",
          "name": "stdout",
          "text": [
            "Dictonary Comprenhension 36960  Bytes\n"
          ]
        }
      ]
    },
    {
      "cell_type": "code",
      "source": [
        "print('Generatos', generator_comp, ' Bytes')"
      ],
      "metadata": {
        "colab": {
          "base_uri": "https://localhost:8080/"
        },
        "id": "OiPMa_FswVGq",
        "outputId": "79917444-de6c-418d-9a73-272942de1788"
      },
      "execution_count": null,
      "outputs": [
        {
          "output_type": "stream",
          "name": "stdout",
          "text": [
            "Generatos 112  Bytes\n"
          ]
        }
      ]
    },
    {
      "cell_type": "markdown",
      "source": [
        "**Eu posso iterar no Generator Expression? Sim**"
      ],
      "metadata": {
        "id": "rnx_NsMdxgfM"
      }
    },
    {
      "cell_type": "code",
      "source": [
        "gen = (num * 2 for num in range(100))"
      ],
      "metadata": {
        "id": "mXptUUscxk6a"
      },
      "execution_count": null,
      "outputs": []
    },
    {
      "cell_type": "code",
      "source": [
        "print(gen)\n",
        "print(type(gen))"
      ],
      "metadata": {
        "colab": {
          "base_uri": "https://localhost:8080/"
        },
        "id": "8UErCLjtxqu7",
        "outputId": "5b7ec16d-463c-44ab-e8ca-95ea4431e225"
      },
      "execution_count": null,
      "outputs": [
        {
          "output_type": "stream",
          "name": "stdout",
          "text": [
            "<generator object <genexpr> at 0x7feadb90c7b0>\n",
            "<class 'generator'>\n"
          ]
        }
      ]
    },
    {
      "cell_type": "code",
      "source": [
        "for num in gen:\n",
        "  print(num)"
      ],
      "metadata": {
        "colab": {
          "base_uri": "https://localhost:8080/"
        },
        "id": "stgoR5Roxw8G",
        "outputId": "63404ab0-88cd-4592-8210-cebbe3a0065d"
      },
      "execution_count": null,
      "outputs": [
        {
          "output_type": "stream",
          "name": "stdout",
          "text": [
            "0\n",
            "2\n",
            "4\n",
            "6\n",
            "8\n",
            "10\n",
            "12\n",
            "14\n",
            "16\n",
            "18\n",
            "20\n",
            "22\n",
            "24\n",
            "26\n",
            "28\n",
            "30\n",
            "32\n",
            "34\n",
            "36\n",
            "38\n",
            "40\n",
            "42\n",
            "44\n",
            "46\n",
            "48\n",
            "50\n",
            "52\n",
            "54\n",
            "56\n",
            "58\n",
            "60\n",
            "62\n",
            "64\n",
            "66\n",
            "68\n",
            "70\n",
            "72\n",
            "74\n",
            "76\n",
            "78\n",
            "80\n",
            "82\n",
            "84\n",
            "86\n",
            "88\n",
            "90\n",
            "92\n",
            "94\n",
            "96\n",
            "98\n",
            "100\n",
            "102\n",
            "104\n",
            "106\n",
            "108\n",
            "110\n",
            "112\n",
            "114\n",
            "116\n",
            "118\n",
            "120\n",
            "122\n",
            "124\n",
            "126\n",
            "128\n",
            "130\n",
            "132\n",
            "134\n",
            "136\n",
            "138\n",
            "140\n",
            "142\n",
            "144\n",
            "146\n",
            "148\n",
            "150\n",
            "152\n",
            "154\n",
            "156\n",
            "158\n",
            "160\n",
            "162\n",
            "164\n",
            "166\n",
            "168\n",
            "170\n",
            "172\n",
            "174\n",
            "176\n",
            "178\n",
            "180\n",
            "182\n",
            "184\n",
            "186\n",
            "188\n",
            "190\n",
            "192\n",
            "194\n",
            "196\n",
            "198\n"
          ]
        }
      ]
    },
    {
      "cell_type": "markdown",
      "source": [
        "# **Sorted**"
      ],
      "metadata": {
        "id": "czluozwHhzw_"
      }
    },
    {
      "cell_type": "markdown",
      "source": [
        "Não confunda, apesar do nome, com a função sort() que já estuamos em Listas. O sort() só funciona em listas\n",
        "\n",
        "Podemos utilizar o sorted() com qualquer interável\n",
        "\n",
        "Como o próprio nome diz, sorted() serve para ordenar"
      ],
      "metadata": {
        "id": "YxEjaoQZpqAl"
      }
    },
    {
      "cell_type": "markdown",
      "source": [
        "Em Python, sorted() é uma função que pode ser usada para ordenar iteráveis (objetos que podem ser percorridos, como listas, tuplas, conjuntos e dicionários) em ordem crescente ou decrescente.\n",
        "\n",
        "A sintaxe básica da função sorted() é a seguinte:"
      ],
      "metadata": {
        "id": "_HxYX__kp5qG"
      }
    },
    {
      "cell_type": "code",
      "source": [
        "sorted(iterable, key=None, reverse=False)"
      ],
      "metadata": {
        "id": "-q2R3sqMp9OH"
      },
      "execution_count": null,
      "outputs": []
    },
    {
      "cell_type": "markdown",
      "source": [
        "- iterable: o objeto iterável que será ordenado.\n",
        "\n",
        "- key (opcional): uma função que será usada como critério de ordenação dos elementos. **Se não for especificado, os elementos serão ordenados em ordem natural (ordem numérica ou alfabética**, dependendo do tipo de dado).\n",
        "\n",
        "- reverse (opcional): um valor booleano que indica se a ordem de classificação deve ser reversa (True) ou não (False).\n",
        "Por exemplo, se quisermos ordenar uma lista de números em ordem crescente, podemos usar o seguinte código:"
      ],
      "metadata": {
        "id": "b49OIRbXp-yY"
      }
    },
    {
      "cell_type": "code",
      "source": [
        "numeros = [4, 2, 7, 1, 3]\n",
        "sorted_numeros = sorted(numeros)\n",
        "print(sorted_numeros)"
      ],
      "metadata": {
        "colab": {
          "base_uri": "https://localhost:8080/"
        },
        "id": "FnJesi4gqQik",
        "outputId": "3a33c1c0-c5c3-4561-fd11-233607c452a0"
      },
      "execution_count": null,
      "outputs": [
        {
          "output_type": "stream",
          "name": "stdout",
          "text": [
            "[1, 2, 3, 4, 7]\n"
          ]
        }
      ]
    },
    {
      "cell_type": "markdown",
      "source": [
        "Se quisermos ordenar a mesma lista em ordem decrescente, podemos passar o argumento **reverse=True** para a função sorted():"
      ],
      "metadata": {
        "id": "kl0rGCmQqXae"
      }
    },
    {
      "cell_type": "code",
      "source": [
        "numeros = [4, 2, 7, 1, 3]\n",
        "sorted_numeros = sorted(numeros, reverse=True)\n",
        "print(sorted_numeros)"
      ],
      "metadata": {
        "colab": {
          "base_uri": "https://localhost:8080/"
        },
        "id": "crjB0OBGqaqc",
        "outputId": "fb310648-be17-473a-d3be-ee82b8423b7d"
      },
      "execution_count": null,
      "outputs": [
        {
          "output_type": "stream",
          "name": "stdout",
          "text": [
            "[7, 4, 3, 2, 1]\n"
          ]
        }
      ]
    },
    {
      "cell_type": "markdown",
      "source": [
        "Também podemos usar a função sorted() para ordenar uma lista de palavras em ordem alfabética:"
      ],
      "metadata": {
        "id": "YFHtoa-Bqox3"
      }
    },
    {
      "cell_type": "code",
      "source": [
        "palavras = ['banana', 'abacaxi', 'laranja', 'maçã']\n",
        "sorted_palavras = sorted(palavras)\n",
        "print(sorted_palavras)"
      ],
      "metadata": {
        "colab": {
          "base_uri": "https://localhost:8080/"
        },
        "id": "uLO_XpbXqrk2",
        "outputId": "e70f1a34-65ad-4089-b1b1-9d003587d6e2"
      },
      "execution_count": null,
      "outputs": [
        {
          "output_type": "stream",
          "name": "stdout",
          "text": [
            "['abacaxi', 'banana', 'laranja', 'maçã']\n"
          ]
        }
      ]
    },
    {
      "cell_type": "markdown",
      "source": [
        "E se quisermos ordenar a mesma lista em ordem reversa, **podemos passar uma função lambda** como argumento **key**:"
      ],
      "metadata": {
        "id": "lKlAty-mqxjC"
      }
    },
    {
      "cell_type": "code",
      "source": [
        "palavras = ['banana', 'abacaxi', 'laranja', 'maçã']\n",
        "sorted_palavras = sorted(palavras, key=lambda x: x[::-1])\n",
        "print(sorted_palavras)"
      ],
      "metadata": {
        "colab": {
          "base_uri": "https://localhost:8080/"
        },
        "id": "YBhQopENq0J3",
        "outputId": "0f42c1c7-1304-4adc-e881-dd218af62090"
      },
      "execution_count": null,
      "outputs": [
        {
          "output_type": "stream",
          "name": "stdout",
          "text": [
            "['laranja', 'banana', 'abacaxi', 'maçã']\n"
          ]
        }
      ]
    },
    {
      "cell_type": "markdown",
      "source": [
        "O sorted() sempre retorna uma lista com os elementos do interável ordenados, mesmo que seja passado uma tupla, set ou dict"
      ],
      "metadata": {
        "id": "AUUOWQCvq9RD"
      }
    },
    {
      "cell_type": "code",
      "source": [
        "n = (7,4,6,2,1,9,7,5,9,3,2,6,8,9)"
      ],
      "metadata": {
        "id": "0zn0fwGErGA6"
      },
      "execution_count": null,
      "outputs": []
    },
    {
      "cell_type": "code",
      "source": [
        "print(f'Lista normal = {n}')"
      ],
      "metadata": {
        "colab": {
          "base_uri": "https://localhost:8080/"
        },
        "id": "uxeqEfhIry0U",
        "outputId": "bc4b6467-a5a8-4d9e-f3f5-e5dfc7f9d625"
      },
      "execution_count": null,
      "outputs": [
        {
          "output_type": "stream",
          "name": "stdout",
          "text": [
            "Lista normal = (7, 4, 6, 2, 1, 9, 7, 5, 9, 3, 2, 6, 8, 9)\n"
          ]
        }
      ]
    },
    {
      "cell_type": "code",
      "source": [
        "print(f'Lista ordenada = {sorted(n)}')"
      ],
      "metadata": {
        "colab": {
          "base_uri": "https://localhost:8080/"
        },
        "id": "BZJtDGMJrJZ-",
        "outputId": "2f31ecb4-4a55-405c-c550-21e04f70b679"
      },
      "execution_count": null,
      "outputs": [
        {
          "output_type": "stream",
          "name": "stdout",
          "text": [
            "Lista ordenada = [1, 2, 2, 3, 4, 5, 6, 6, 7, 7, 8, 9, 9, 9]\n"
          ]
        }
      ]
    },
    {
      "cell_type": "code",
      "source": [
        "print(f'Lista ordenada ao inverso = {sorted(n, reverse=True)}')"
      ],
      "metadata": {
        "colab": {
          "base_uri": "https://localhost:8080/"
        },
        "id": "jX9CSRogrRBn",
        "outputId": "4fb1d2a8-22df-4c7a-da85-bb11b1022304"
      },
      "execution_count": null,
      "outputs": [
        {
          "output_type": "stream",
          "name": "stdout",
          "text": [
            "Lista ordenada ao inverso = [9, 9, 9, 8, 7, 7, 6, 6, 5, 4, 3, 2, 2, 1]\n"
          ]
        }
      ]
    },
    {
      "cell_type": "code",
      "source": [
        "usuarios = [\n",
        "    {'username': 'Samuuel', 'twitter': ['Eu adoro bolos', 'Eu adoro pizza', 'Amanhã tem aula cedo denovo', 'Comendo pizza hoje a noite com os amigos']},\n",
        "    {'username': 'Anna', 'twitter': ['SENAC hoje foi um caos', 'Indo assistir o jogo com as amigas', 'Finalmente consegui meu estágio', 'PQ OS ONIBUS DESSA CIDADE NÃO FUNCIONA']},\n",
        "    {'username': 'bob123', 'twitter': []},\n",
        "    {'username': 'Beatriz', 'twitter': ['Quero jogar Harry Potter', 'Sdds comer um BK', 'Indo para casa finalmente', 'oooodiiiioooooo', 'Finalmente tá acabando', 'Meu bb me ligou', 'Que semana longa']},\n",
        "    {'username': 'Carla', 'twitter': ['VAMOS FLAMENGO', 'O Pedro tava tão lindo', 'Que preguiça desse povo', 'nunca mais bebo vinho']},\n",
        "    {'username': 'Brenda', 'twitter': []}\n",
        "]"
      ],
      "metadata": {
        "id": "yD1Ei3rWsJ-3"
      },
      "execution_count": null,
      "outputs": []
    },
    {
      "cell_type": "code",
      "source": [
        "print(usuarios)"
      ],
      "metadata": {
        "colab": {
          "base_uri": "https://localhost:8080/"
        },
        "id": "T1jPPxTgsWzq",
        "outputId": "6618b820-6d3a-4a7d-e5ae-c7f80940645f"
      },
      "execution_count": null,
      "outputs": [
        {
          "output_type": "stream",
          "name": "stdout",
          "text": [
            "[{'username': 'Samuuel', 'twitter': ['Eu adoro bolos', 'Eu adoro pizza', 'Amanhã tem aula cedo denovo', 'Comendo pizza hoje a noite com os amigos']}, {'username': 'Anna', 'twitter': ['SENAC hoje foi um caos', 'Indo assistir o jogo com as amigas', 'Finalmente consegui meu estágio', 'PQ OS ONIBUS DESSA CIDADE NÃO FUNCIONA']}, {'username': 'bob123', 'twitter': []}, {'username': 'Beatriz', 'twitter': ['Quero jogar Harry Potter', 'Sdds comer um BK', 'Indo para casa finalmente', 'oooodiiiioooooo', 'Finalmente tá acabando', 'Meu bb me ligou', 'Que semana longa']}, {'username': 'Carla', 'twitter': ['VAMOS FLAMENGO', 'O Pedro tava tão lindo', 'Que preguiça desse povo', 'nunca mais bebo vinho']}, {'username': 'Brenda', 'twitter': []}]\n"
          ]
        }
      ]
    },
    {
      "cell_type": "code",
      "source": [
        "print(sorted(usuarios, key=len))"
      ],
      "metadata": {
        "colab": {
          "base_uri": "https://localhost:8080/"
        },
        "id": "-vRQPgp4sb7b",
        "outputId": "3915abd7-14fb-4301-a880-533574d64ea2"
      },
      "execution_count": null,
      "outputs": [
        {
          "output_type": "stream",
          "name": "stdout",
          "text": [
            "[{'username': 'Samuuel', 'twitter': ['Eu adoro bolos', 'Eu adoro pizza', 'Amanhã tem aula cedo denovo', 'Comendo pizza hoje a noite com os amigos']}, {'username': 'Anna', 'twitter': ['SENAC hoje foi um caos', 'Indo assistir o jogo com as amigas', 'Finalmente consegui meu estágio', 'PQ OS ONIBUS DESSA CIDADE NÃO FUNCIONA']}, {'username': 'bob123', 'twitter': []}, {'username': 'Beatriz', 'twitter': ['Quero jogar Harry Potter', 'Sdds comer um BK', 'Indo para casa finalmente', 'oooodiiiioooooo', 'Finalmente tá acabando', 'Meu bb me ligou', 'Que semana longa']}, {'username': 'Carla', 'twitter': ['VAMOS FLAMENGO', 'O Pedro tava tão lindo', 'Que preguiça desse povo', 'nunca mais bebo vinho']}, {'username': 'Brenda', 'twitter': []}]\n"
          ]
        }
      ]
    },
    {
      "cell_type": "code",
      "source": [
        "print(sorted(usuarios, key= lambda usuario: usuario['username']))"
      ],
      "metadata": {
        "colab": {
          "base_uri": "https://localhost:8080/"
        },
        "id": "2WvJxPlZtYDJ",
        "outputId": "200ff9df-6120-4a1c-9881-9d090a8b0e37"
      },
      "execution_count": null,
      "outputs": [
        {
          "output_type": "stream",
          "name": "stdout",
          "text": [
            "[{'username': 'Anna', 'twitter': ['SENAC hoje foi um caos', 'Indo assistir o jogo com as amigas', 'Finalmente consegui meu estágio', 'PQ OS ONIBUS DESSA CIDADE NÃO FUNCIONA']}, {'username': 'Beatriz', 'twitter': ['Quero jogar Harry Potter', 'Sdds comer um BK', 'Indo para casa finalmente', 'oooodiiiioooooo', 'Finalmente tá acabando', 'Meu bb me ligou', 'Que semana longa']}, {'username': 'Brenda', 'twitter': []}, {'username': 'Carla', 'twitter': ['VAMOS FLAMENGO', 'O Pedro tava tão lindo', 'Que preguiça desse povo', 'nunca mais bebo vinho']}, {'username': 'Samuuel', 'twitter': ['Eu adoro bolos', 'Eu adoro pizza', 'Amanhã tem aula cedo denovo', 'Comendo pizza hoje a noite com os amigos']}, {'username': 'bob123', 'twitter': []}]\n"
          ]
        }
      ]
    },
    {
      "cell_type": "code",
      "source": [
        "print(sorted(usuarios, key= lambda usuario : len(usuario['twitter'])))"
      ],
      "metadata": {
        "colab": {
          "base_uri": "https://localhost:8080/"
        },
        "id": "ppTPLiB-thlP",
        "outputId": "bc2a5776-4ca7-4c5a-ab63-666a11676aae"
      },
      "execution_count": null,
      "outputs": [
        {
          "output_type": "stream",
          "name": "stdout",
          "text": [
            "[{'username': 'bob123', 'twitter': []}, {'username': 'Brenda', 'twitter': []}, {'username': 'Samuuel', 'twitter': ['Eu adoro bolos', 'Eu adoro pizza', 'Amanhã tem aula cedo denovo', 'Comendo pizza hoje a noite com os amigos']}, {'username': 'Anna', 'twitter': ['SENAC hoje foi um caos', 'Indo assistir o jogo com as amigas', 'Finalmente consegui meu estágio', 'PQ OS ONIBUS DESSA CIDADE NÃO FUNCIONA']}, {'username': 'Carla', 'twitter': ['VAMOS FLAMENGO', 'O Pedro tava tão lindo', 'Que preguiça desse povo', 'nunca mais bebo vinho']}, {'username': 'Beatriz', 'twitter': ['Quero jogar Harry Potter', 'Sdds comer um BK', 'Indo para casa finalmente', 'oooodiiiioooooo', 'Finalmente tá acabando', 'Meu bb me ligou', 'Que semana longa']}]\n"
          ]
        }
      ]
    },
    {
      "cell_type": "code",
      "source": [
        "print(sorted(usuarios, reverse=True, key= lambda usuario : len(usuario['twitter'])))"
      ],
      "metadata": {
        "colab": {
          "base_uri": "https://localhost:8080/"
        },
        "id": "BzaTBXTOwH0l",
        "outputId": "a230ac92-4bb4-4e89-bf0e-21a746849d4c"
      },
      "execution_count": null,
      "outputs": [
        {
          "output_type": "stream",
          "name": "stdout",
          "text": [
            "[{'username': 'Beatriz', 'twitter': ['Quero jogar Harry Potter', 'Sdds comer um BK', 'Indo para casa finalmente', 'oooodiiiioooooo', 'Finalmente tá acabando', 'Meu bb me ligou', 'Que semana longa']}, {'username': 'Samuuel', 'twitter': ['Eu adoro bolos', 'Eu adoro pizza', 'Amanhã tem aula cedo denovo', 'Comendo pizza hoje a noite com os amigos']}, {'username': 'Anna', 'twitter': ['SENAC hoje foi um caos', 'Indo assistir o jogo com as amigas', 'Finalmente consegui meu estágio', 'PQ OS ONIBUS DESSA CIDADE NÃO FUNCIONA']}, {'username': 'Carla', 'twitter': ['VAMOS FLAMENGO', 'O Pedro tava tão lindo', 'Que preguiça desse povo', 'nunca mais bebo vinho']}, {'username': 'bob123', 'twitter': []}, {'username': 'Brenda', 'twitter': []}]\n"
          ]
        }
      ]
    },
    {
      "cell_type": "markdown",
      "source": [
        "**Último exemplo**"
      ],
      "metadata": {
        "id": "pxLsE2ZowQVZ"
      }
    },
    {
      "cell_type": "code",
      "source": [
        "musicas = [\n",
        "    {'titulo': 'Made You Look. Meghan Trainor', 'tocou': 453},\n",
        "    {'titulo': 'Lift Me Up. Rihanna.', 'tocou': 645},\n",
        "    {'titulo': 'Eu Te Amo Tanto (Escrito Nas Estrelas) Iguinho e Lulinha', 'tocou': 426},\n",
        "    {'titulo': 'Unholy (feat. Kim Petras) Sam Smith.', 'tocou': 654},\n",
        "    {'titulo': 'As It Was. Harry Styles', 'tocou': 456},\n",
        "    {'titulo': 'Deserto. Maria Marçal.', 'tocou': 234},\n",
        "    {'titulo': 'Haja Colírio (part. Hugo e Guilherme) Guilherme e Benuto.', 'tocou': 543},\n",
        "    {'titulo': 'Snap. Rosa Linn.', 'tocou': 561},\n",
        "    {'titulo': 'Sambinha. O Grilo', 'tocou': 737}\n",
        "]"
      ],
      "metadata": {
        "id": "sGFIIgqAwU4n"
      },
      "execution_count": null,
      "outputs": []
    },
    {
      "cell_type": "code",
      "source": [
        "print(musicas)"
      ],
      "metadata": {
        "colab": {
          "base_uri": "https://localhost:8080/"
        },
        "id": "Cy6jHTOlxWE6",
        "outputId": "51aa67be-2d38-4d55-ca66-3e8ad6e79540"
      },
      "execution_count": null,
      "outputs": [
        {
          "output_type": "stream",
          "name": "stdout",
          "text": [
            "[{'titulo': 'Made You Look. Meghan Trainor', 'tocou': 453}, {'titulo': 'Lift Me Up. Rihanna.', 'tocou': 645}, {'titulo': 'Eu Te Amo Tanto (Escrito Nas Estrelas) Iguinho e Lulinha', 'tocou': 426}, {'titulo': 'Unholy (feat. Kim Petras) Sam Smith.', 'tocou': 654}, {'titulo': 'As It Was. Harry Styles', 'tocou': 456}, {'titulo': 'Deserto. Maria Marçal.', 'tocou': 234}, {'titulo': 'Haja Colírio (part. Hugo e Guilherme) Guilherme e Benuto.', 'tocou': 543}, {'titulo': 'Snap. Rosa Linn.', 'tocou': 561}, {'titulo': 'Sambinha. O Grilo', 'tocou': 737}]\n"
          ]
        }
      ]
    },
    {
      "cell_type": "code",
      "source": [
        "print(sorted(musicas, key= lambda musica: musica['tocou']))"
      ],
      "metadata": {
        "colab": {
          "base_uri": "https://localhost:8080/"
        },
        "id": "jot5n8T9xY1D",
        "outputId": "18e6148b-40bd-482d-ddfb-c38a135500a3"
      },
      "execution_count": null,
      "outputs": [
        {
          "output_type": "stream",
          "name": "stdout",
          "text": [
            "[{'titulo': 'Deserto. Maria Marçal.', 'tocou': 234}, {'titulo': 'Eu Te Amo Tanto (Escrito Nas Estrelas) Iguinho e Lulinha', 'tocou': 426}, {'titulo': 'Made You Look. Meghan Trainor', 'tocou': 453}, {'titulo': 'As It Was. Harry Styles', 'tocou': 456}, {'titulo': 'Haja Colírio (part. Hugo e Guilherme) Guilherme e Benuto.', 'tocou': 543}, {'titulo': 'Snap. Rosa Linn.', 'tocou': 561}, {'titulo': 'Lift Me Up. Rihanna.', 'tocou': 645}, {'titulo': 'Unholy (feat. Kim Petras) Sam Smith.', 'tocou': 654}, {'titulo': 'Sambinha. O Grilo', 'tocou': 737}]\n"
          ]
        }
      ]
    },
    {
      "cell_type": "code",
      "source": [
        "print(sorted(musicas, reverse = True, key= lambda musica: musica['tocou']))"
      ],
      "metadata": {
        "colab": {
          "base_uri": "https://localhost:8080/"
        },
        "id": "zRzBBp0cx9n7",
        "outputId": "e2a164cd-482c-4c27-ad09-2222c10ab92b"
      },
      "execution_count": null,
      "outputs": [
        {
          "output_type": "stream",
          "name": "stdout",
          "text": [
            "[{'titulo': 'Sambinha. O Grilo', 'tocou': 737}, {'titulo': 'Unholy (feat. Kim Petras) Sam Smith.', 'tocou': 654}, {'titulo': 'Lift Me Up. Rihanna.', 'tocou': 645}, {'titulo': 'Snap. Rosa Linn.', 'tocou': 561}, {'titulo': 'Haja Colírio (part. Hugo e Guilherme) Guilherme e Benuto.', 'tocou': 543}, {'titulo': 'As It Was. Harry Styles', 'tocou': 456}, {'titulo': 'Made You Look. Meghan Trainor', 'tocou': 453}, {'titulo': 'Eu Te Amo Tanto (Escrito Nas Estrelas) Iguinho e Lulinha', 'tocou': 426}, {'titulo': 'Deserto. Maria Marçal.', 'tocou': 234}]\n"
          ]
        }
      ]
    },
    {
      "cell_type": "markdown",
      "source": [
        "# **Min e Max**"
      ],
      "metadata": {
        "id": "EeX2-7zwyWf8"
      }
    },
    {
      "cell_type": "markdown",
      "source": [
        "Em Python, as funções **min()** e **max()** são usadas para retornar o menor e o maior valor, respectivamente, em um conjunto de valores. Elas podem ser usadas com diferentes tipos de dados, como números, strings e objetos personalizados, desde que esses objetos possuam uma ordem definida.\n",
        "\n",
        "A sintaxe básica da função min() é a seguinte:"
      ],
      "metadata": {
        "id": "ANxrabCc0mrZ"
      }
    },
    {
      "cell_type": "code",
      "source": [
        "numeros = [2, 6, 3, 8, 1, 7, 4]\n",
        "menor = min(numeros)\n",
        "maior = max(numeros)\n",
        "print(menor, maior)"
      ],
      "metadata": {
        "colab": {
          "base_uri": "https://localhost:8080/"
        },
        "id": "lNJofPDK02Ra",
        "outputId": "51650ae6-a2ba-415c-908a-b60ed878423f"
      },
      "execution_count": null,
      "outputs": [
        {
          "output_type": "stream",
          "name": "stdout",
          "text": [
            "1 8\n"
          ]
        }
      ]
    },
    {
      "cell_type": "markdown",
      "source": [
        "Também podemos usar as funções **min()** e **max()** com strings:"
      ],
      "metadata": {
        "id": "wzsQu_xW1CS-"
      }
    },
    {
      "cell_type": "code",
      "source": [
        "palavras = ['banana', 'abacaxi', 'laranja', 'maçã']\n",
        "menor = min(palavras)\n",
        "maior = max(palavras)\n",
        "print(menor, maior)"
      ],
      "metadata": {
        "colab": {
          "base_uri": "https://localhost:8080/"
        },
        "id": "PAVc5ZB31G-h",
        "outputId": "ca5c481f-fe88-4d0e-8f2f-996af8070fb3"
      },
      "execution_count": null,
      "outputs": [
        {
          "output_type": "stream",
          "name": "stdout",
          "text": [
            "abacaxi maçã\n"
          ]
        }
      ]
    },
    {
      "cell_type": "markdown",
      "source": [
        "No exemplo acima, as strings são comparadas em ordem alfabética.\n",
        "\n",
        "Se quisermos encontrar o menor ou o maior valor em uma série de valores, podemos passá-los como argumentos separados para as funções **min()** e **max()**. Por exemplo:"
      ],
      "metadata": {
        "id": "D5DotU6k1M3S"
      }
    },
    {
      "cell_type": "code",
      "source": [
        "menor = min(4, 7, 2, 9, 1)\n",
        "maior = max(4, 7, 2, 9, 1)\n",
        "print(menor, maior)"
      ],
      "metadata": {
        "colab": {
          "base_uri": "https://localhost:8080/"
        },
        "id": "MQs3hSkc1PjG",
        "outputId": "d9d652a1-3842-48e6-c652-5cd4c6c8a37f"
      },
      "execution_count": null,
      "outputs": [
        {
          "output_type": "stream",
          "name": "stdout",
          "text": [
            "1 9\n"
          ]
        }
      ]
    },
    {
      "cell_type": "markdown",
      "source": [
        "Por fim, se quisermos usar as funções min() e max() com objetos personalizados, podemos definir uma função de comparação personalizada e passá-la como argumento key. Por exemplo, suponha que temos uma lista de dicionários que representam pessoas e queremos encontrar a pessoa mais velha e a mais nova:"
      ],
      "metadata": {
        "id": "5YlWfWDe1bfM"
      }
    },
    {
      "cell_type": "code",
      "source": [
        "pessoas = [{'nome': 'Ana', 'idade': 20}, {'nome': 'Bob', 'idade': 25}, {'nome': 'Carla', 'idade': 18}]\n",
        "mais_nova = min(pessoas, key=lambda x: x['idade'])\n",
        "mais_velha = max(pessoas, key=lambda x: x['idade'])\n",
        "print(mais_nova['nome'], mais_nova['idade'])\n",
        "print(mais_velha['nome'], mais_velha['idade'])\n"
      ],
      "metadata": {
        "colab": {
          "base_uri": "https://localhost:8080/"
        },
        "id": "f1BaccKK1c2M",
        "outputId": "318d238f-4d11-46da-fbff-08d5a27bc8ee"
      },
      "execution_count": null,
      "outputs": [
        {
          "output_type": "stream",
          "name": "stdout",
          "text": [
            "Carla 18\n",
            "Bob 25\n"
          ]
        }
      ]
    },
    {
      "cell_type": "markdown",
      "source": [
        "Lista"
      ],
      "metadata": {
        "id": "3MBXCiKubypX"
      }
    },
    {
      "cell_type": "code",
      "source": [
        "lista = [1,2,3,4,56,7,5,3,2]"
      ],
      "metadata": {
        "id": "iuBRSPwhbzwX"
      },
      "execution_count": 1,
      "outputs": []
    },
    {
      "cell_type": "code",
      "source": [
        "print(max(lista))\n",
        "print(min(lista))"
      ],
      "metadata": {
        "colab": {
          "base_uri": "https://localhost:8080/"
        },
        "id": "dKmYo_dWb5NN",
        "outputId": "86eb6353-ebdf-4ac1-8024-df51bf12cebe"
      },
      "execution_count": 2,
      "outputs": [
        {
          "output_type": "stream",
          "name": "stdout",
          "text": [
            "56\n",
            "1\n"
          ]
        }
      ]
    },
    {
      "cell_type": "markdown",
      "source": [
        "tupla"
      ],
      "metadata": {
        "id": "bgfnQrHMcBpF"
      }
    },
    {
      "cell_type": "code",
      "source": [
        "tupla = (2,4,4,7,3,4,65,98,56,34,23)"
      ],
      "metadata": {
        "id": "1I_0W9kZcEA_"
      },
      "execution_count": 7,
      "outputs": []
    },
    {
      "cell_type": "code",
      "source": [
        "print(max(tupla))\n",
        "print(min(tupla))"
      ],
      "metadata": {
        "colab": {
          "base_uri": "https://localhost:8080/"
        },
        "id": "Dq_-niWpcG3E",
        "outputId": "b2b879c9-a82c-4a2a-bd6a-521a74d95f44"
      },
      "execution_count": 8,
      "outputs": [
        {
          "output_type": "stream",
          "name": "stdout",
          "text": [
            "98\n",
            "2\n"
          ]
        }
      ]
    },
    {
      "cell_type": "markdown",
      "source": [
        "Conjunto"
      ],
      "metadata": {
        "id": "MA3Kxdfjca34"
      }
    },
    {
      "cell_type": "code",
      "source": [
        "conjunto = {3,4,5,7,5,3,5,4,6,8,0,8,6}"
      ],
      "metadata": {
        "id": "Tjk52wUpcL-D"
      },
      "execution_count": 9,
      "outputs": []
    },
    {
      "cell_type": "code",
      "source": [
        "print(max(conjunto))\n",
        "print(min(conjunto))"
      ],
      "metadata": {
        "colab": {
          "base_uri": "https://localhost:8080/"
        },
        "id": "g0ycaIdscW-X",
        "outputId": "0dea920a-e5bc-47da-a40e-af63722d6b7b"
      },
      "execution_count": 10,
      "outputs": [
        {
          "output_type": "stream",
          "name": "stdout",
          "text": [
            "8\n",
            "0\n"
          ]
        }
      ]
    },
    {
      "cell_type": "markdown",
      "source": [
        "Dicionário"
      ],
      "metadata": {
        "id": "wQR9SEVZccTm"
      }
    },
    {
      "cell_type": "code",
      "source": [
        "dicionario = {'a':3, 'b':5, 'c':9, 'd':9, 'e': 11, 'f': 14}"
      ],
      "metadata": {
        "id": "2e7kVh0Vcd5l"
      },
      "execution_count": 11,
      "outputs": []
    },
    {
      "cell_type": "markdown",
      "source": [
        "Se não especificar nada no dicionário, ele volta qual é a maior chave"
      ],
      "metadata": {
        "id": "c2enf7iGcyBK"
      }
    },
    {
      "cell_type": "code",
      "source": [
        "print(max(dicionario))\n",
        "print(min(dicionario))"
      ],
      "metadata": {
        "colab": {
          "base_uri": "https://localhost:8080/"
        },
        "id": "MpALgJeQcuY2",
        "outputId": "ba7b9b7e-4410-44a1-bf98-e00b4871d3e4"
      },
      "execution_count": 12,
      "outputs": [
        {
          "output_type": "stream",
          "name": "stdout",
          "text": [
            "f\n",
            "a\n"
          ]
        }
      ]
    },
    {
      "cell_type": "code",
      "source": [
        "print(max(dicionario.values()))\n",
        "print(min(dicionario.values()))"
      ],
      "metadata": {
        "colab": {
          "base_uri": "https://localhost:8080/"
        },
        "id": "oah8PpUYc2cS",
        "outputId": "c76ca822-02ab-4ec6-c0cf-b428f5ac95ff"
      },
      "execution_count": 13,
      "outputs": [
        {
          "output_type": "stream",
          "name": "stdout",
          "text": [
            "14\n",
            "3\n"
          ]
        }
      ]
    },
    {
      "cell_type": "code",
      "source": [
        "nomes = ['Alice', 'Bruna', 'Zack','Carla', 'Brenda', 'Yago', 'Simone', 'Julio', 'Kaio', 'Maycon']"
      ],
      "metadata": {
        "id": "ImWOcqPte5Jb"
      },
      "execution_count": 15,
      "outputs": []
    },
    {
      "cell_type": "markdown",
      "source": [
        "Pega o nome atráves da ordem alfabetifca"
      ],
      "metadata": {
        "id": "kZau3RiTfXTo"
      }
    },
    {
      "cell_type": "code",
      "source": [
        "print(min(nomes))"
      ],
      "metadata": {
        "colab": {
          "base_uri": "https://localhost:8080/"
        },
        "id": "m-mA7chVfKAw",
        "outputId": "5bb2be4a-91fd-442d-c836-5202d8a30360"
      },
      "execution_count": 16,
      "outputs": [
        {
          "output_type": "stream",
          "name": "stdout",
          "text": [
            "Alice\n"
          ]
        }
      ]
    },
    {
      "cell_type": "code",
      "source": [
        "print(min(nomes, key= lambda nome: len(nome))) #Menor  nome é Zack que tem quatro letras"
      ],
      "metadata": {
        "colab": {
          "base_uri": "https://localhost:8080/"
        },
        "id": "aRHayx7WfT2w",
        "outputId": "bac73f41-f070-4379-dd84-d952145a7e3f"
      },
      "execution_count": 18,
      "outputs": [
        {
          "output_type": "stream",
          "name": "stdout",
          "text": [
            "Zack\n"
          ]
        }
      ]
    },
    {
      "cell_type": "code",
      "source": [
        "print([min(nome, key= lambda nome: len(nome)) for nome in nomes])"
      ],
      "metadata": {
        "colab": {
          "base_uri": "https://localhost:8080/"
        },
        "id": "Pmg_hNIMfxBy",
        "outputId": "fc49524d-5955-4d13-f16f-ca12cc6fe29a"
      },
      "execution_count": 20,
      "outputs": [
        {
          "output_type": "stream",
          "name": "stdout",
          "text": [
            "['A', 'B', 'Z', 'C', 'B', 'Y', 'S', 'J', 'K', 'M']\n"
          ]
        }
      ]
    },
    {
      "cell_type": "code",
      "source": [
        "print([len(nome) for nome in nomes])"
      ],
      "metadata": {
        "colab": {
          "base_uri": "https://localhost:8080/"
        },
        "id": "pRqUtZ8YgN2X",
        "outputId": "8e104dfd-3fc1-4dfa-f94a-6a7ddb988de5"
      },
      "execution_count": 23,
      "outputs": [
        {
          "output_type": "stream",
          "name": "stdout",
          "text": [
            "[5, 5, 4, 5, 6, 4, 6, 5, 4, 6]\n"
          ]
        }
      ]
    },
    {
      "cell_type": "code",
      "source": [
        "musicas = [\n",
        "    {'titulo': 'Made You Look. Meghan Trainor', 'tocou': 453},\n",
        "    {'titulo': 'Lift Me Up. Rihanna.', 'tocou': 645},\n",
        "    {'titulo': 'Eu Te Amo Tanto (Escrito Nas Estrelas) Iguinho e Lulinha', 'tocou': 426},\n",
        "    {'titulo': 'Unholy (feat. Kim Petras) Sam Smith.', 'tocou': 654},\n",
        "    {'titulo': 'As It Was. Harry Styles', 'tocou': 456},\n",
        "    {'titulo': 'Deserto. Maria Marçal.', 'tocou': 234},\n",
        "    {'titulo': 'Haja Colírio (part. Hugo e Guilherme) Guilherme e Benuto.', 'tocou': 543},\n",
        "    {'titulo': 'Snap. Rosa Linn.', 'tocou': 561},\n",
        "    {'titulo': 'Sambinha. O Grilo', 'tocou': 737}\n",
        "]"
      ],
      "metadata": {
        "id": "MUfD-I7GgkFC"
      },
      "execution_count": 24,
      "outputs": []
    },
    {
      "cell_type": "code",
      "source": [
        "print(max(musicas, key = lambda musica: musica['tocou']))\n",
        "print(min(musicas, key = lambda musica: musica['tocou']))"
      ],
      "metadata": {
        "colab": {
          "base_uri": "https://localhost:8080/"
        },
        "id": "UkBMxJLfgnfe",
        "outputId": "7beefd6d-9929-4458-eb02-a88746e3f709"
      },
      "execution_count": 28,
      "outputs": [
        {
          "output_type": "stream",
          "name": "stdout",
          "text": [
            "{'titulo': 'Sambinha. O Grilo', 'tocou': 737}\n",
            "{'titulo': 'Deserto. Maria Marçal.', 'tocou': 234}\n"
          ]
        }
      ]
    },
    {
      "cell_type": "markdown",
      "source": [
        "# **DESAFIO**\n",
        "\n",
        "\n",
        "Imprimir somente o titulo da música"
      ],
      "metadata": {
        "id": "1vVpQ79ug8yi"
      }
    },
    {
      "cell_type": "code",
      "source": [
        "print(max(musicas, key= lambda musica : musica['tocou'])['titulo'])"
      ],
      "metadata": {
        "colab": {
          "base_uri": "https://localhost:8080/"
        },
        "id": "0lv75zwlhE12",
        "outputId": "db102530-433c-4987-a519-78f7390f8764"
      },
      "execution_count": 37,
      "outputs": [
        {
          "output_type": "stream",
          "name": "stdout",
          "text": [
            "Sambinha. O Grilo\n"
          ]
        }
      ]
    },
    {
      "cell_type": "code",
      "source": [
        "print(min(musicas, key= lambda musica : musica['tocou'])['titulo'])"
      ],
      "metadata": {
        "colab": {
          "base_uri": "https://localhost:8080/"
        },
        "id": "YIExSpXLiOF1",
        "outputId": "5983fcbb-337d-47dc-e843-db4bebfdeb49"
      },
      "execution_count": 38,
      "outputs": [
        {
          "output_type": "stream",
          "name": "stdout",
          "text": [
            "Deserto. Maria Marçal.\n"
          ]
        }
      ]
    },
    {
      "cell_type": "markdown",
      "source": [
        "# **DESAFIO**\n",
        "\n",
        "Imprimir novamente o objeto sem utilizar max ou min"
      ],
      "metadata": {
        "id": "VXl8K0Isi7Mi"
      }
    },
    {
      "cell_type": "markdown",
      "source": [
        "**Max**"
      ],
      "metadata": {
        "id": "B4lFIaiXj2sy"
      }
    },
    {
      "cell_type": "code",
      "source": [
        "tanto = 0\n",
        "musica = ''\n",
        "for musica in musicas:\n",
        "  if musica['tocou'] > tanto:\n",
        "    tanto = musica['tocou']\n",
        "    musica = musica['titulo']\n",
        "\n",
        "print(tanto)\n",
        "print(musica)"
      ],
      "metadata": {
        "colab": {
          "base_uri": "https://localhost:8080/"
        },
        "id": "WqTa4koRjG8N",
        "outputId": "456357b4-7780-4170-ffdd-bdcafbb380cb"
      },
      "execution_count": 44,
      "outputs": [
        {
          "output_type": "stream",
          "name": "stdout",
          "text": [
            "737\n",
            "Sambinha. O Grilo\n"
          ]
        }
      ]
    },
    {
      "cell_type": "code",
      "source": [
        "tanto = sum(x['tocou'] for x in musicas)\n",
        "mus = ''\n",
        "for musica in musicas:\n",
        "  if musica['tocou'] < tanto:\n",
        "    tanto = musica['tocou']\n",
        "    mus = musica['titulo']\n",
        "\n",
        "print(tanto)"
      ],
      "metadata": {
        "colab": {
          "base_uri": "https://localhost:8080/"
        },
        "id": "ajA1Lr3sj4EP",
        "outputId": "1d71d371-11ce-4e59-99b9-b1a7b94ea012"
      },
      "execution_count": 63,
      "outputs": [
        {
          "output_type": "stream",
          "name": "stdout",
          "text": [
            "234\n"
          ]
        }
      ]
    },
    {
      "cell_type": "markdown",
      "source": [
        "# **Reversed**\n",
        "\n",
        "Não confuda com a função reserve() que estudamos nas listas"
      ],
      "metadata": {
        "id": "nhjZfJN_prMm"
      }
    },
    {
      "cell_type": "code",
      "source": [
        "lista = [1,4,5,7,8,9]"
      ],
      "metadata": {
        "id": "x5TLUKTepw3R"
      },
      "execution_count": 64,
      "outputs": []
    },
    {
      "cell_type": "code",
      "source": [
        "lista.reverse()"
      ],
      "metadata": {
        "id": "U_gtbPwwpz8B"
      },
      "execution_count": 65,
      "outputs": []
    },
    {
      "cell_type": "code",
      "source": [
        "print(lista)"
      ],
      "metadata": {
        "colab": {
          "base_uri": "https://localhost:8080/"
        },
        "id": "egm51Utsp2fj",
        "outputId": "03563204-c146-4557-97f2-3a01d772f25d"
      },
      "execution_count": 66,
      "outputs": [
        {
          "output_type": "stream",
          "name": "stdout",
          "text": [
            "[9, 8, 7, 5, 4, 1]\n"
          ]
        }
      ]
    },
    {
      "cell_type": "markdown",
      "source": [
        "A função **reverse()** só funciona em lista, já a função **reversed()** função com qualquer interável. Sua função é inverter o interável"
      ],
      "metadata": {
        "id": "oGn6nntFp5gc"
      }
    },
    {
      "cell_type": "markdown",
      "source": [
        "Em Python, o método reverse() é usado para inverter a ordem dos elementos de uma lista. Ele é aplicado diretamente em uma lista e modifica a ordem dos elementos na própria lista, sem criar uma nova.\n",
        "\n",
        "Aqui está um exemplo simples:"
      ],
      "metadata": {
        "id": "Zvu6NMmZqRyP"
      }
    },
    {
      "cell_type": "markdown",
      "source": [
        "A função reversed() retorna um iterável chamado List Reverse Iterator"
      ],
      "metadata": {
        "id": "gdszbry4qTKW"
      }
    },
    {
      "cell_type": "code",
      "source": [
        "lista = [1,2,4,5,6,7,9]"
      ],
      "metadata": {
        "id": "nscroRinqZg3"
      },
      "execution_count": 67,
      "outputs": []
    },
    {
      "cell_type": "code",
      "source": [
        "res = reversed(lista)\n",
        "print(res)\n",
        "print(type(res))"
      ],
      "metadata": {
        "colab": {
          "base_uri": "https://localhost:8080/"
        },
        "id": "Ky30XLSFqcNw",
        "outputId": "8e55e4a5-2a24-4f37-ccf5-90a37d9fe78f"
      },
      "execution_count": 68,
      "outputs": [
        {
          "output_type": "stream",
          "name": "stdout",
          "text": [
            "<list_reverseiterator object at 0x7f59c41dae20>\n",
            "<class 'list_reverseiterator'>\n"
          ]
        }
      ]
    },
    {
      "cell_type": "markdown",
      "source": [
        "Podemos converter o elemento retornado para uma Lista, Tupla ou conjunto"
      ],
      "metadata": {
        "id": "NbdFMnWNqmXk"
      }
    },
    {
      "cell_type": "code",
      "source": [
        "print(list(reversed(lista)))"
      ],
      "metadata": {
        "colab": {
          "base_uri": "https://localhost:8080/"
        },
        "id": "p000xqmIqrZQ",
        "outputId": "8be9ddf0-696a-4227-a4e2-81b94285e3e8"
      },
      "execution_count": 69,
      "outputs": [
        {
          "output_type": "stream",
          "name": "stdout",
          "text": [
            "[9, 7, 6, 5, 4, 2, 1]\n"
          ]
        }
      ]
    },
    {
      "cell_type": "code",
      "source": [
        "print(tuple(reversed(lista)))"
      ],
      "metadata": {
        "colab": {
          "base_uri": "https://localhost:8080/"
        },
        "id": "fYn47xQ8qvR4",
        "outputId": "e855b19d-f7ad-40da-ad0a-666f4ee701d0"
      },
      "execution_count": 70,
      "outputs": [
        {
          "output_type": "stream",
          "name": "stdout",
          "text": [
            "(9, 7, 6, 5, 4, 2, 1)\n"
          ]
        }
      ]
    },
    {
      "cell_type": "code",
      "source": [
        "print(set(reversed(lista))) # Em conjunto não funciona porque ele não guarda as ordens dos elementos"
      ],
      "metadata": {
        "colab": {
          "base_uri": "https://localhost:8080/"
        },
        "id": "RF0519q6qwlH",
        "outputId": "f58ed8a0-290f-42fc-a221-bb646e3d9cba"
      },
      "execution_count": 71,
      "outputs": [
        {
          "output_type": "stream",
          "name": "stdout",
          "text": [
            "{1, 2, 4, 5, 6, 7, 9}\n"
          ]
        }
      ]
    },
    {
      "cell_type": "markdown",
      "source": [
        "Podemos iterar sobre o reversed"
      ],
      "metadata": {
        "id": "WBfSHXowq49z"
      }
    },
    {
      "cell_type": "code",
      "source": [
        "for letra in reversed('ITALO SILVA DE SANTANA'):\n",
        "  print(letra, end='')"
      ],
      "metadata": {
        "colab": {
          "base_uri": "https://localhost:8080/"
        },
        "id": "jUS0XgLwq7cJ",
        "outputId": "38fa4d3f-0849-4839-b28b-09a5b0ccb60d"
      },
      "execution_count": 73,
      "outputs": [
        {
          "output_type": "stream",
          "name": "stdout",
          "text": [
            "ANATNAS ED AVLIS OLATI"
          ]
        }
      ]
    },
    {
      "cell_type": "code",
      "source": [
        "print(''.join(list(reversed('ITALO SILVA DE SANTANA'))))"
      ],
      "metadata": {
        "colab": {
          "base_uri": "https://localhost:8080/"
        },
        "id": "BIwHJlnArOP-",
        "outputId": "729f0032-4892-4110-c065-42aaf5ed185d"
      },
      "execution_count": 74,
      "outputs": [
        {
          "output_type": "stream",
          "name": "stdout",
          "text": [
            "ANATNAS ED AVLIS OLATI\n"
          ]
        }
      ]
    },
    {
      "cell_type": "markdown",
      "source": [
        "Já vimos como fazer isso mais fácil com o slice de string"
      ],
      "metadata": {
        "id": "oL7rozVbreiA"
      }
    },
    {
      "cell_type": "code",
      "source": [
        "print('ITALO SILVA DE SANTANA'[::-1])"
      ],
      "metadata": {
        "colab": {
          "base_uri": "https://localhost:8080/"
        },
        "id": "6YmL40i7riD6",
        "outputId": "0079bcb0-d271-487a-fa52-b64c19231b1c"
      },
      "execution_count": 75,
      "outputs": [
        {
          "output_type": "stream",
          "name": "stdout",
          "text": [
            "ANATNAS ED AVLIS OLATI\n"
          ]
        }
      ]
    },
    {
      "cell_type": "markdown",
      "source": [
        "Podemos também utilizar o reversed() para fazer loop reverso"
      ],
      "metadata": {
        "id": "S2rPxfVrrnGG"
      }
    },
    {
      "cell_type": "code",
      "source": [
        "for n in reversed(range(0,10)):\n",
        "  print(n)"
      ],
      "metadata": {
        "colab": {
          "base_uri": "https://localhost:8080/"
        },
        "id": "LzhUkn42rriM",
        "outputId": "b0107474-fc53-42ba-da67-b4ac5a0aea62"
      },
      "execution_count": 76,
      "outputs": [
        {
          "output_type": "stream",
          "name": "stdout",
          "text": [
            "9\n",
            "8\n",
            "7\n",
            "6\n",
            "5\n",
            "4\n",
            "3\n",
            "2\n",
            "1\n",
            "0\n"
          ]
        }
      ]
    },
    {
      "cell_type": "markdown",
      "source": [
        "Apesar também de já termos visto como fazer isso utilizando o próprio range()"
      ],
      "metadata": {
        "id": "O4vAfehUrxz-"
      }
    },
    {
      "cell_type": "code",
      "source": [
        "for n in range(9, -1, -1):\n",
        "  print(n, end=' ')"
      ],
      "metadata": {
        "colab": {
          "base_uri": "https://localhost:8080/"
        },
        "id": "GLOUdYE9r4w6",
        "outputId": "a3c1f501-ef52-4672-b391-6b019eac74bf"
      },
      "execution_count": 78,
      "outputs": [
        {
          "output_type": "stream",
          "name": "stdout",
          "text": [
            "9 8 7 6 5 4 3 2 1 0 "
          ]
        }
      ]
    },
    {
      "cell_type": "markdown",
      "source": [
        "# **Len, Abs, Sum e Round**"
      ],
      "metadata": {
        "id": "UGRK0TBEvQ88"
      }
    },
    {
      "cell_type": "markdown",
      "source": [
        "### **Len()**"
      ],
      "metadata": {
        "id": "Ze-SEz3NvWza"
      }
    },
    {
      "cell_type": "markdown",
      "source": [
        "Em Python, len() é uma função embutida que retorna o comprimento de um objeto. O comprimento geralmente se refere ao número de itens ou elementos em um objeto.\n",
        "\n",
        "A função len() pode ser usada com muitos tipos de objetos, incluindo strings, listas, tuplas, dicionários, conjuntos e outros objetos iteráveis.\n",
        "\n",
        "Por exemplo, se você quiser saber o comprimento de uma string, você pode usar len() da seguinte forma:"
      ],
      "metadata": {
        "id": "zPm6ITDXvsNo"
      }
    },
    {
      "cell_type": "code",
      "source": [
        "texto = \"Olá, Mundo!\"\n",
        "comprimento = len(texto)\n",
        "print(comprimento)"
      ],
      "metadata": {
        "colab": {
          "base_uri": "https://localhost:8080/"
        },
        "id": "i_OaUwaEvs0H",
        "outputId": "0b5bc7b7-c819-4ef0-a9eb-13474ebc6f42"
      },
      "execution_count": 79,
      "outputs": [
        {
          "output_type": "stream",
          "name": "stdout",
          "text": [
            "11\n"
          ]
        }
      ]
    },
    {
      "cell_type": "markdown",
      "source": [
        "Neste caso, o valor de comprimento será 12, que é o número de caracteres na string.\n",
        "\n",
        "Da mesma forma, se você quiser saber o número de elementos em uma lista, pode usar len() assim:"
      ],
      "metadata": {
        "id": "Bkweu3E4vwoe"
      }
    },
    {
      "cell_type": "code",
      "source": [
        "lista = [1, 2, 3, 4, 5]\n",
        "comprimento = len(lista)\n",
        "print(comprimento)"
      ],
      "metadata": {
        "colab": {
          "base_uri": "https://localhost:8080/"
        },
        "id": "ffGl2w7OvxIv",
        "outputId": "c96cff35-a7f4-41a3-cadc-4632764d8c74"
      },
      "execution_count": 80,
      "outputs": [
        {
          "output_type": "stream",
          "name": "stdout",
          "text": [
            "5\n"
          ]
        }
      ]
    },
    {
      "cell_type": "markdown",
      "source": [
        "Neste caso, o valor de comprimento será 5, que é o número de elementos na lista.\n",
        "\n",
        "Em resumo, len() é uma função útil que pode ser usada para determinar o tamanho de um objeto em Python."
      ],
      "metadata": {
        "id": "W9Zs3armv0Av"
      }
    },
    {
      "cell_type": "code",
      "source": [
        "print(len(range(0,10)))"
      ],
      "metadata": {
        "colab": {
          "base_uri": "https://localhost:8080/"
        },
        "id": "SCDgWaJ-v7Xa",
        "outputId": "a94a514a-3287-4023-c8d3-768ea1cd3163"
      },
      "execution_count": 82,
      "outputs": [
        {
          "output_type": "stream",
          "name": "stdout",
          "text": [
            "10\n"
          ]
        }
      ]
    },
    {
      "cell_type": "code",
      "source": [
        "print('ITALO SILVA DE SANTANA'.__len__)"
      ],
      "metadata": {
        "colab": {
          "base_uri": "https://localhost:8080/"
        },
        "id": "zVUL8ZLCwElh",
        "outputId": "09cd16e1-e5c5-457b-9135-b30598232239"
      },
      "execution_count": 83,
      "outputs": [
        {
          "output_type": "stream",
          "name": "stdout",
          "text": [
            "<method-wrapper '__len__' of str object at 0x7f59c41f2f30>\n"
          ]
        }
      ]
    },
    {
      "cell_type": "markdown",
      "source": [
        "Toda função que começa com 2 underlaine se chama Dunder"
      ],
      "metadata": {
        "id": "gouN-3UMwNsv"
      }
    },
    {
      "cell_type": "markdown",
      "source": [
        "### **Abs()**"
      ],
      "metadata": {
        "id": "MafV-zcwwlsL"
      }
    },
    {
      "cell_type": "markdown",
      "source": [
        "Retorna o valor absoluto de um número inteiro ou real. De forma básica, seria o seu valor real sem o sinal"
      ],
      "metadata": {
        "id": "PSZCuslnwq5-"
      }
    },
    {
      "cell_type": "code",
      "source": [
        "print(abs(-6))\n",
        "print(abs(6))\n",
        "print(abs(54))\n",
        "print(abs(-43))\n",
        "print(abs(43))\n",
        "print(abs(-0))"
      ],
      "metadata": {
        "colab": {
          "base_uri": "https://localhost:8080/"
        },
        "id": "BFs49i2hwxje",
        "outputId": "672519f3-fb78-485f-f1e8-d7b23fe71f22"
      },
      "execution_count": 84,
      "outputs": [
        {
          "output_type": "stream",
          "name": "stdout",
          "text": [
            "6\n",
            "6\n",
            "54\n",
            "43\n",
            "43\n",
            "0\n"
          ]
        }
      ]
    },
    {
      "cell_type": "markdown",
      "source": [
        "Não tem como retornar uma função abs() em uma string"
      ],
      "metadata": {
        "id": "xLHUE-2jw6Xf"
      }
    },
    {
      "cell_type": "code",
      "source": [
        "print(abs('Ola mundo'))"
      ],
      "metadata": {
        "colab": {
          "base_uri": "https://localhost:8080/",
          "height": 166
        },
        "id": "3Zwx4wOqw_QO",
        "outputId": "f0beacaf-0a5b-4c73-fad0-c9e587e18449"
      },
      "execution_count": 85,
      "outputs": [
        {
          "output_type": "error",
          "ename": "TypeError",
          "evalue": "ignored",
          "traceback": [
            "\u001b[0;31m---------------------------------------------------------------------------\u001b[0m",
            "\u001b[0;31mTypeError\u001b[0m                                 Traceback (most recent call last)",
            "\u001b[0;32m<ipython-input-85-0b6f64b42853>\u001b[0m in \u001b[0;36m<module>\u001b[0;34m\u001b[0m\n\u001b[0;32m----> 1\u001b[0;31m \u001b[0mprint\u001b[0m\u001b[0;34m(\u001b[0m\u001b[0mabs\u001b[0m\u001b[0;34m(\u001b[0m\u001b[0;34m'Ola mundo'\u001b[0m\u001b[0;34m)\u001b[0m\u001b[0;34m)\u001b[0m\u001b[0;34m\u001b[0m\u001b[0;34m\u001b[0m\u001b[0m\n\u001b[0m",
            "\u001b[0;31mTypeError\u001b[0m: bad operand type for abs(): 'str'"
          ]
        }
      ]
    },
    {
      "cell_type": "markdown",
      "source": [
        "### **sum()**"
      ],
      "metadata": {
        "id": "9d7Vw_CmxCqI"
      }
    },
    {
      "cell_type": "markdown",
      "source": [
        "Recebe como parâmetro um iterável, podendo receber um valor inicial, e retorna a soma total dos elementos, incluindo o valor\n",
        "\n",
        "obs: O valor inicial default = 0"
      ],
      "metadata": {
        "id": "dwcC6OsIxFKC"
      }
    },
    {
      "cell_type": "code",
      "source": [
        "print(sum([1,2,3,4,5]))"
      ],
      "metadata": {
        "colab": {
          "base_uri": "https://localhost:8080/"
        },
        "id": "Wc_CprTrxPgk",
        "outputId": "adf674cd-867f-4205-bb0e-cc75cebd4ac1"
      },
      "execution_count": 86,
      "outputs": [
        {
          "output_type": "stream",
          "name": "stdout",
          "text": [
            "15\n"
          ]
        }
      ]
    },
    {
      "cell_type": "code",
      "source": [
        "print(sum([1,2,3,4,5], -5))"
      ],
      "metadata": {
        "colab": {
          "base_uri": "https://localhost:8080/"
        },
        "id": "DcCxOiF0xTaQ",
        "outputId": "edf8f2b2-f3c0-4f54-8169-12ad7bef416e"
      },
      "execution_count": 87,
      "outputs": [
        {
          "output_type": "stream",
          "name": "stdout",
          "text": [
            "10\n"
          ]
        }
      ]
    },
    {
      "cell_type": "code",
      "source": [
        "print(sum([1,2,3,4,5], 5))"
      ],
      "metadata": {
        "colab": {
          "base_uri": "https://localhost:8080/"
        },
        "id": "bDFM1F-XxYoE",
        "outputId": "d54398ec-de92-4a68-8019-8c4dccc6e35b"
      },
      "execution_count": 88,
      "outputs": [
        {
          "output_type": "stream",
          "name": "stdout",
          "text": [
            "20\n"
          ]
        }
      ]
    },
    {
      "cell_type": "code",
      "source": [
        "print(sum([3.12, 4.32, 6.34, 7.45, 9.45, 4.12]))"
      ],
      "metadata": {
        "colab": {
          "base_uri": "https://localhost:8080/"
        },
        "id": "SPMKdHuRxeQI",
        "outputId": "5a245569-463b-4f9c-97de-c46d870415b7"
      },
      "execution_count": 89,
      "outputs": [
        {
          "output_type": "stream",
          "name": "stdout",
          "text": [
            "34.8\n"
          ]
        }
      ]
    },
    {
      "cell_type": "code",
      "source": [
        "print(sum({1,2,3,4,5,7,4,5,7})) #Como é um set, os valores repetidos são exluidos o que faz a soma voltar menor = 22\n",
        "print(sum([1,2,3,4,5,7,4,5,7])) # Enquanto na lista os valores repetidos são mantidos e a soma volta = 38"
      ],
      "metadata": {
        "colab": {
          "base_uri": "https://localhost:8080/"
        },
        "id": "QCrtOStFxlqm",
        "outputId": "0ca0ccfb-4580-4695-a7ef-9b5f17efb641"
      },
      "execution_count": 91,
      "outputs": [
        {
          "output_type": "stream",
          "name": "stdout",
          "text": [
            "22\n",
            "38\n"
          ]
        }
      ]
    },
    {
      "cell_type": "code",
      "source": [
        "print(sum({'a':3, 'b':5, 'c':9, 'd':9, 'e': 11, 'f': 14})) #Não pode somar uma string"
      ],
      "metadata": {
        "colab": {
          "base_uri": "https://localhost:8080/",
          "height": 166
        },
        "id": "rbJU6O_xyd9p",
        "outputId": "1e303d78-0b8b-4ad7-c1bc-1ccc3869d6d8"
      },
      "execution_count": 94,
      "outputs": [
        {
          "output_type": "error",
          "ename": "TypeError",
          "evalue": "ignored",
          "traceback": [
            "\u001b[0;31m---------------------------------------------------------------------------\u001b[0m",
            "\u001b[0;31mTypeError\u001b[0m                                 Traceback (most recent call last)",
            "\u001b[0;32m<ipython-input-94-f0826638cf25>\u001b[0m in \u001b[0;36m<module>\u001b[0;34m\u001b[0m\n\u001b[0;32m----> 1\u001b[0;31m \u001b[0mprint\u001b[0m\u001b[0;34m(\u001b[0m\u001b[0msum\u001b[0m\u001b[0;34m(\u001b[0m\u001b[0;34m{\u001b[0m\u001b[0;34m'a'\u001b[0m\u001b[0;34m:\u001b[0m\u001b[0;36m3\u001b[0m\u001b[0;34m,\u001b[0m \u001b[0;34m'b'\u001b[0m\u001b[0;34m:\u001b[0m\u001b[0;36m5\u001b[0m\u001b[0;34m,\u001b[0m \u001b[0;34m'c'\u001b[0m\u001b[0;34m:\u001b[0m\u001b[0;36m9\u001b[0m\u001b[0;34m,\u001b[0m \u001b[0;34m'd'\u001b[0m\u001b[0;34m:\u001b[0m\u001b[0;36m9\u001b[0m\u001b[0;34m,\u001b[0m \u001b[0;34m'e'\u001b[0m\u001b[0;34m:\u001b[0m \u001b[0;36m11\u001b[0m\u001b[0;34m,\u001b[0m \u001b[0;34m'f'\u001b[0m\u001b[0;34m:\u001b[0m \u001b[0;36m14\u001b[0m\u001b[0;34m}\u001b[0m\u001b[0;34m)\u001b[0m\u001b[0;34m)\u001b[0m \u001b[0;31m#Não pode somar uma string\u001b[0m\u001b[0;34m\u001b[0m\u001b[0;34m\u001b[0m\u001b[0m\n\u001b[0m",
            "\u001b[0;31mTypeError\u001b[0m: unsupported operand type(s) for +: 'int' and 'str'"
          ]
        }
      ]
    },
    {
      "cell_type": "code",
      "source": [
        "a = {'a':3, 'b':5, 'c':9, 'd':9, 'e': 11, 'f': 14} #Não pode somar uma string\n",
        "print(sum(a.values()))\n"
      ],
      "metadata": {
        "colab": {
          "base_uri": "https://localhost:8080/"
        },
        "id": "oMnk7N1kyB32",
        "outputId": "72927582-b452-4ee9-e4dd-16608d1c5b1f"
      },
      "execution_count": 93,
      "outputs": [
        {
          "output_type": "stream",
          "name": "stdout",
          "text": [
            "51\n"
          ]
        }
      ]
    },
    {
      "cell_type": "markdown",
      "source": [
        "### **Round()**"
      ],
      "metadata": {
        "id": "f3DjeZRXygwE"
      }
    },
    {
      "cell_type": "markdown",
      "source": [
        "Retorna um número arredondado para n digito de precisão após a casa decimal. Se a precisão não for informada, retorna o inteiro mais próximo da entrada"
      ],
      "metadata": {
        "id": "r-CqhLpKzhlk"
      }
    },
    {
      "cell_type": "code",
      "source": [
        "print(round(3.14))"
      ],
      "metadata": {
        "colab": {
          "base_uri": "https://localhost:8080/"
        },
        "id": "AuNTUlC_zvnO",
        "outputId": "bdae5b98-5bd4-4944-ae22-be3d2ea0f263"
      },
      "execution_count": 95,
      "outputs": [
        {
          "output_type": "stream",
          "name": "stdout",
          "text": [
            "3\n"
          ]
        }
      ]
    },
    {
      "cell_type": "code",
      "source": [
        "print(round(54.34))"
      ],
      "metadata": {
        "colab": {
          "base_uri": "https://localhost:8080/"
        },
        "id": "kk9tSTodzy8_",
        "outputId": "5996f18d-934a-4218-c13a-9c92c05b29c2"
      },
      "execution_count": 96,
      "outputs": [
        {
          "output_type": "stream",
          "name": "stdout",
          "text": [
            "54\n"
          ]
        }
      ]
    },
    {
      "cell_type": "code",
      "source": [
        "print(round(234.1))"
      ],
      "metadata": {
        "colab": {
          "base_uri": "https://localhost:8080/"
        },
        "id": "DkiANp3CzzYa",
        "outputId": "fa785942-740e-4818-e90a-44724fc1cdff"
      },
      "execution_count": 97,
      "outputs": [
        {
          "output_type": "stream",
          "name": "stdout",
          "text": [
            "234\n"
          ]
        }
      ]
    },
    {
      "cell_type": "code",
      "source": [
        "print(round(43.6))"
      ],
      "metadata": {
        "colab": {
          "base_uri": "https://localhost:8080/"
        },
        "id": "6H-KKM1pzz2s",
        "outputId": "9412163c-931f-4a2d-e926-7acd5aa8aa55"
      },
      "execution_count": 99,
      "outputs": [
        {
          "output_type": "stream",
          "name": "stdout",
          "text": [
            "44\n"
          ]
        }
      ]
    },
    {
      "cell_type": "code",
      "source": [
        "print(round(2600.646144534532, 2))"
      ],
      "metadata": {
        "colab": {
          "base_uri": "https://localhost:8080/"
        },
        "id": "KRvnAKMKz0T-",
        "outputId": "062379ec-35c0-4f25-edf3-6db71e0af8c5"
      },
      "execution_count": 101,
      "outputs": [
        {
          "output_type": "stream",
          "name": "stdout",
          "text": [
            "2600.65\n"
          ]
        }
      ]
    },
    {
      "cell_type": "code",
      "source": [
        "print(round(1.21999999999999, 4))"
      ],
      "metadata": {
        "colab": {
          "base_uri": "https://localhost:8080/"
        },
        "id": "aIX62nII0JOQ",
        "outputId": "25be9d4a-34bb-425c-c5d4-4ee78540610c"
      },
      "execution_count": 102,
      "outputs": [
        {
          "output_type": "stream",
          "name": "stdout",
          "text": [
            "1.22\n"
          ]
        }
      ]
    },
    {
      "cell_type": "markdown",
      "source": [
        "### **Zip**"
      ],
      "metadata": {
        "id": "p9KIEjk-3AxU"
      }
    },
    {
      "cell_type": "markdown",
      "source": [
        "zip é uma função interna do Python que permite combinar elementos de duas ou mais sequências (por exemplo, listas, tuplas, dicionários) em uma única sequência de tuplas.\n",
        "\n",
        "A sintaxe da função zip é a seguinte:"
      ],
      "metadata": {
        "id": "eAMf9sVu3FJG"
      }
    },
    {
      "cell_type": "markdown",
      "source": [
        "**zip(iterables)**"
      ],
      "metadata": {
        "id": "701bQwYB3Pn1"
      }
    },
    {
      "cell_type": "markdown",
      "source": [
        "O argumento iterables é uma ou mais sequências que se deseja combinar. A função zip retorna um objeto de tuplas, onde cada tupla contém o elemento na mesma posição de cada uma das sequências passadas como argumento.\n",
        "\n",
        "Por exemplo, suponha que temos duas listas:"
      ],
      "metadata": {
        "id": "QO1lK6BE3YGe"
      }
    },
    {
      "cell_type": "code",
      "source": [
        "lista1 = [1, 2, 3, 4]\n",
        "lista2 = ['a', 'b', 'c', 'd']"
      ],
      "metadata": {
        "id": "vcDcQ2c13bCg"
      },
      "execution_count": 103,
      "outputs": []
    },
    {
      "cell_type": "markdown",
      "source": [
        "Podemos combiná-las usando a função zip da seguinte maneira:"
      ],
      "metadata": {
        "id": "OZ-7eElF3Rm4"
      }
    },
    {
      "cell_type": "code",
      "source": [
        "combinados = zip(lista1, lista2)"
      ],
      "metadata": {
        "id": "NU-4hpNI3keg"
      },
      "execution_count": 108,
      "outputs": []
    },
    {
      "cell_type": "code",
      "source": [
        "print(dict(combinados))\n",
        "print(list(combinados))\n",
        "print(tuple(combinados))\n",
        "print(set(combinados))"
      ],
      "metadata": {
        "colab": {
          "base_uri": "https://localhost:8080/"
        },
        "id": "wQsgzZRX3qDK",
        "outputId": "7062ddde-8280-4d59-950a-6789dfbb3453"
      },
      "execution_count": 109,
      "outputs": [
        {
          "output_type": "stream",
          "name": "stdout",
          "text": [
            "{1: 'a', 2: 'b', 3: 'c', 4: 'd'}\n",
            "[]\n",
            "()\n",
            "set()\n"
          ]
        }
      ]
    },
    {
      "cell_type": "markdown",
      "source": [
        "Observe que a função zip retorna um objeto de tuplas, que pode ser convertido em outras sequências, como listas ou tuplas, usando a função list() ou tuple().\n",
        "\n",
        "A função zip também pode ser usada com mais de duas sequências, desde que todas as sequências tenham o mesmo número de elementos. Se alguma sequência tiver menos elementos, o objeto resultante terá o mesmo número de tuplas que a sequência mais curta.\n",
        "\n",
        "A função zip é frequentemente usada em conjunto com loops for para percorrer simultaneamente várias sequências, combinando seus elementos correspondentes em cada iteração do loop."
      ],
      "metadata": {
        "id": "pFQqBvtM3nJH"
      }
    },
    {
      "cell_type": "code",
      "source": [
        "lista1 = [1,2,3,4]\n",
        "lista2 = [11,12,13,14]"
      ],
      "metadata": {
        "id": "iixtqCO8383-"
      },
      "execution_count": 115,
      "outputs": []
    },
    {
      "cell_type": "code",
      "source": [
        "zip1 = zip(lista1, lista2)"
      ],
      "metadata": {
        "id": "q3dVJ6oS4Eia"
      },
      "execution_count": 111,
      "outputs": []
    },
    {
      "cell_type": "code",
      "source": [
        "print(zip1)\n",
        "print(type(zip1))"
      ],
      "metadata": {
        "colab": {
          "base_uri": "https://localhost:8080/"
        },
        "id": "Y9I4qqAM4J2r",
        "outputId": "e99aab5b-9f6e-4d01-ce37-3a10bf7577e9"
      },
      "execution_count": 113,
      "outputs": [
        {
          "output_type": "stream",
          "name": "stdout",
          "text": [
            "<zip object at 0x7f59c418d500>\n",
            "<class 'zip'>\n"
          ]
        }
      ]
    },
    {
      "cell_type": "code",
      "source": [
        "print(dict(zip1))"
      ],
      "metadata": {
        "colab": {
          "base_uri": "https://localhost:8080/"
        },
        "id": "6fsLz0Ym4MHP",
        "outputId": "ca5f1053-754f-4249-8324-0d837b1856af"
      },
      "execution_count": 116,
      "outputs": [
        {
          "output_type": "stream",
          "name": "stdout",
          "text": [
            "{}\n"
          ]
        }
      ]
    },
    {
      "cell_type": "code",
      "source": [
        "lista2 = [1,2,3,4]\n",
        "lista2 = ['a', 'b', 'c', 'd']"
      ],
      "metadata": {
        "id": "-Ph2aClf4esX"
      },
      "execution_count": 117,
      "outputs": []
    },
    {
      "cell_type": "code",
      "source": [
        "zip2 = zip(lista1, lista2)"
      ],
      "metadata": {
        "id": "c4Z3845c4kmY"
      },
      "execution_count": 118,
      "outputs": []
    },
    {
      "cell_type": "code",
      "source": [
        "print(dict(zip2))"
      ],
      "metadata": {
        "colab": {
          "base_uri": "https://localhost:8080/"
        },
        "id": "mRkNh_9R4oM9",
        "outputId": "f26de642-1e02-40e1-c2ab-cbb0aa5fc7ab"
      },
      "execution_count": 119,
      "outputs": [
        {
          "output_type": "stream",
          "name": "stdout",
          "text": [
            "{1: 'a', 2: 'b', 3: 'c', 4: 'd'}\n"
          ]
        }
      ]
    },
    {
      "cell_type": "markdown",
      "source": [
        "Se uma lista for mais que a outra, o dicionário volta vazio"
      ],
      "metadata": {
        "id": "e5L7KooV4uIF"
      }
    },
    {
      "cell_type": "code",
      "source": [
        "lista2 = [1,2,3,4,5,6]\n",
        "lista2 = ['a', 'b', 'c', 'd', 'e']\n",
        "zip2 = zip(lista1, lista2)\n",
        "print(dict(zip2))"
      ],
      "metadata": {
        "colab": {
          "base_uri": "https://localhost:8080/"
        },
        "id": "o7ItON3e4ypN",
        "outputId": "e22bbd24-8b88-408d-dea1-16177706bd44"
      },
      "execution_count": 122,
      "outputs": [
        {
          "output_type": "stream",
          "name": "stdout",
          "text": [
            "{1: 'a', 2: 'b', 3: 'c', 4: 'd'}\n"
          ]
        }
      ]
    },
    {
      "cell_type": "code",
      "source": [
        "lista2 = [1,2,3,4,5,6]\n",
        "lista2 = ['a', 'b', 'c', 'd', 'e']\n",
        "zip2 = zip(lista1, lista2)\n",
        "print(list(zip2))"
      ],
      "metadata": {
        "colab": {
          "base_uri": "https://localhost:8080/"
        },
        "id": "BEekjGWT5LiX",
        "outputId": "0770231a-25ae-44f0-f8b1-7199f0668cd0"
      },
      "execution_count": 123,
      "outputs": [
        {
          "output_type": "stream",
          "name": "stdout",
          "text": [
            "[(1, 'a'), (2, 'b'), (3, 'c'), (4, 'd')]\n"
          ]
        }
      ]
    },
    {
      "cell_type": "code",
      "source": [
        "lista2 = [1,2,3,4,5,6]\n",
        "lista2 = ['a', 'b', 'c', 'd', 'e']\n",
        "zip2 = zip(lista1, lista2)\n",
        "print(tuple(zip2))"
      ],
      "metadata": {
        "colab": {
          "base_uri": "https://localhost:8080/"
        },
        "id": "DrYVPhKW5O1N",
        "outputId": "ebc9b9b1-b918-47f0-f7c8-b66c5aa7ea2c"
      },
      "execution_count": 124,
      "outputs": [
        {
          "output_type": "stream",
          "name": "stdout",
          "text": [
            "((1, 'a'), (2, 'b'), (3, 'c'), (4, 'd'))\n"
          ]
        }
      ]
    },
    {
      "cell_type": "code",
      "source": [
        "lista3 = [7,8,9,10,11]"
      ],
      "metadata": {
        "id": "u_6_DIJI5Ygb"
      },
      "execution_count": 125,
      "outputs": []
    },
    {
      "cell_type": "markdown",
      "source": [
        "O zip utiliza como parâmetro o menor tamanho do interável. Isso significa que se estiver trabalhando com interáveis de tamanho diferentes, irá parar quando os elementos do menor elemento acabar"
      ],
      "metadata": {
        "id": "e7wZIFbK5s-w"
      }
    },
    {
      "cell_type": "code",
      "source": [
        "zip1 = zip(lista1, lista2, lista3) \n",
        "print(list(zip1))"
      ],
      "metadata": {
        "colab": {
          "base_uri": "https://localhost:8080/"
        },
        "id": "GjMMbimf5by7",
        "outputId": "725be063-7c1e-414a-c3aa-f3440ea53ed2"
      },
      "execution_count": 127,
      "outputs": [
        {
          "output_type": "stream",
          "name": "stdout",
          "text": [
            "[(1, 'a', 7), (2, 'b', 8), (3, 'c', 9), (4, 'd', 10)]\n"
          ]
        }
      ]
    },
    {
      "cell_type": "code",
      "source": [
        "print(list(zip([1,3,4,5,3], [3,2,4,6,2,4], ['a', 'b', 'c', 'd', 'e', 'f'])))"
      ],
      "metadata": {
        "colab": {
          "base_uri": "https://localhost:8080/"
        },
        "id": "U-_VyH_S6MKT",
        "outputId": "4d67f3c1-88d3-486e-8990-23fbe76f68a5"
      },
      "execution_count": 129,
      "outputs": [
        {
          "output_type": "stream",
          "name": "stdout",
          "text": [
            "[(1, 3, 'a'), (3, 2, 'b'), (4, 4, 'c'), (5, 6, 'd'), (3, 2, 'e')]\n"
          ]
        }
      ]
    },
    {
      "cell_type": "code",
      "source": [
        "tupla = (1,2,3,4,5)\n",
        "lista = [11,12,13,14,15]\n",
        "dic = {'a': 21, 'b': 22, 'c': 23, 'd': 24, 'e':25}"
      ],
      "metadata": {
        "id": "lWDPQLnc6UWh"
      },
      "execution_count": 130,
      "outputs": []
    },
    {
      "cell_type": "code",
      "source": [
        "print(list(zip(tupla, lista, dic.values())))\n",
        "print(list(zip(tupla, lista, dic.keys())))"
      ],
      "metadata": {
        "colab": {
          "base_uri": "https://localhost:8080/"
        },
        "id": "1Rfsf0P36X_O",
        "outputId": "d36352dd-a677-4881-d016-ae6dc8170800"
      },
      "execution_count": 132,
      "outputs": [
        {
          "output_type": "stream",
          "name": "stdout",
          "text": [
            "[(1, 11, 21), (2, 12, 22), (3, 13, 23), (4, 14, 24), (5, 15, 25)]\n",
            "[(1, 11, 'a'), (2, 12, 'b'), (3, 13, 'c'), (4, 14, 'd'), (5, 15, 'e')]\n"
          ]
        }
      ]
    },
    {
      "cell_type": "code",
      "source": [
        "dados = [(0,1), (2,3), (4,5), (6,7), (8,9), (10,11)]"
      ],
      "metadata": {
        "id": "VpoU1nf-7A7p"
      },
      "execution_count": 135,
      "outputs": []
    },
    {
      "cell_type": "code",
      "source": [
        "print(list(zip(*dados)))"
      ],
      "metadata": {
        "colab": {
          "base_uri": "https://localhost:8080/"
        },
        "id": "3Cg3GSSA7IRa",
        "outputId": "909049f2-eb06-426e-ece1-63681da25717"
      },
      "execution_count": 136,
      "outputs": [
        {
          "output_type": "stream",
          "name": "stdout",
          "text": [
            "[(0, 2, 4, 6, 8, 10), (1, 3, 5, 7, 9, 11)]\n"
          ]
        }
      ]
    },
    {
      "cell_type": "markdown",
      "source": [
        "Exemplo mais complexo"
      ],
      "metadata": {
        "id": "dr6VcCiWDmDx"
      }
    },
    {
      "cell_type": "code",
      "source": [
        "prova1 = [80,87,43]\n",
        "prova2 = [87,98,91]\n",
        "alunos = ['Maria', 'Pedro', 'Carla']"
      ],
      "metadata": {
        "id": "CZwrEWStDnrP"
      },
      "execution_count": 137,
      "outputs": []
    },
    {
      "cell_type": "code",
      "source": [
        "final = {dado[0]:max(dado[1], dado[2]) for dado in zip(alunos, prova1, prova2)}"
      ],
      "metadata": {
        "id": "E4xbCkD_D1Zo"
      },
      "execution_count": 138,
      "outputs": []
    },
    {
      "cell_type": "code",
      "source": [
        "print(dict(final))"
      ],
      "metadata": {
        "colab": {
          "base_uri": "https://localhost:8080/"
        },
        "id": "K7V3n8r4ECYg",
        "outputId": "49483884-7fb3-4483-dd50-967014d6e6e4"
      },
      "execution_count": 140,
      "outputs": [
        {
          "output_type": "stream",
          "name": "stdout",
          "text": [
            "{'Maria': 87, 'Pedro': 98, 'Carla': 91}\n"
          ]
        }
      ]
    },
    {
      "cell_type": "markdown",
      "source": [
        "Podemos utilizar o map()"
      ],
      "metadata": {
        "id": "OzWLKTLgEngb"
      }
    },
    {
      "cell_type": "code",
      "source": [
        "final = zip(alunos, map(lambda nota: max(nota), zip(prova1, prova2)))"
      ],
      "metadata": {
        "id": "HEOksjM6Ep3U"
      },
      "execution_count": 141,
      "outputs": []
    },
    {
      "cell_type": "code",
      "source": [
        "print(dict(final))"
      ],
      "metadata": {
        "colab": {
          "base_uri": "https://localhost:8080/"
        },
        "id": "c44k0V6mEzmu",
        "outputId": "c498c803-07ab-46db-ec66-4fbb2fa36e98"
      },
      "execution_count": 142,
      "outputs": [
        {
          "output_type": "stream",
          "name": "stdout",
          "text": [
            "{'Maria': 87, 'Pedro': 98, 'Carla': 91}\n"
          ]
        }
      ]
    },
    {
      "cell_type": "markdown",
      "source": [
        "# **Acabou**"
      ],
      "metadata": {
        "id": "y8eqwILQFn-g"
      }
    }
  ]
}