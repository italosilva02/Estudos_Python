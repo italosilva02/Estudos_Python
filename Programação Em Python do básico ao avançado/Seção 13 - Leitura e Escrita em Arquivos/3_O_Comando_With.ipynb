{
 "cells": [
  {
   "cell_type": "markdown",
   "id": "c79d8bde",
   "metadata": {},
   "source": [
    "## O Comando With"
   ]
  },
  {
   "cell_type": "markdown",
   "id": "955581fc",
   "metadata": {},
   "source": [
    "O comando \"with\" é usado em Python para trabalhar com arquivos de uma maneira mais segura e eficiente. É frequentemente usado para abrir um arquivo, ler ou escrever em seu conteúdo e, em seguida, fechá-lo automaticamente após a conclusão das operações.\n",
    "\n",
    "Ao usar o comando \"with\", você não precisa se preocupar em fechar o arquivo manualmente, pois o Python cuida disso para você, mesmo se ocorrer uma exceção durante a execução.\n",
    "\n",
    "O seguinte código é um exemplo de como usar o comando \"with\" para ler o conteúdo de um arquivo em Python:"
   ]
  },
  {
   "cell_type": "markdown",
   "id": "efad6dad",
   "metadata": {},
   "source": [
    "O block with é utilizado para criar um contexto de trabalho onde os recursos utilizados são fechados após o bloco with."
   ]
  },
  {
   "cell_type": "code",
   "execution_count": 1,
   "id": "3ba4bae7",
   "metadata": {},
   "outputs": [
    {
     "name": "stdout",
     "output_type": "stream",
     "text": [
      "['Arvores balancam suavemente. as pessoas caminham pelas ruas, algumas sozinhas e outras em grupos, conversando e rindo. o som dos passaros e dos carros se mistura em uma\\n', 'sinfonia urbana. e um dia tranquilo e pacifico, perfeito para desfrutar da natureza e da vida. a cada passo, sinto-me grato por\\n', 'estar vivo e por fazer parte deste mundo maravilhoso']\n"
     ]
    }
   ],
   "source": [
    "with open('arquivo.txt') as arquivo:\n",
    "    print(arquivo.readlines())\n",
    "    \n",
    "#Quando sair do bloco with, não existe mais esse contexto, portanto, o arquivo é automaticamente fechado"
   ]
  },
  {
   "cell_type": "code",
   "execution_count": 2,
   "id": "798fa8b0",
   "metadata": {},
   "outputs": [
    {
     "ename": "ValueError",
     "evalue": "I/O operation on closed file.",
     "output_type": "error",
     "traceback": [
      "\u001b[1;31m---------------------------------------------------------------------------\u001b[0m",
      "\u001b[1;31mValueError\u001b[0m                                Traceback (most recent call last)",
      "\u001b[1;32m~\\AppData\\Local\\Temp\\ipykernel_12832\\3858331235.py\u001b[0m in \u001b[0;36m<module>\u001b[1;34m\u001b[0m\n\u001b[1;32m----> 1\u001b[1;33m \u001b[0mprint\u001b[0m\u001b[1;33m(\u001b[0m\u001b[0marquivo\u001b[0m\u001b[1;33m.\u001b[0m\u001b[0mread\u001b[0m\u001b[1;33m(\u001b[0m\u001b[1;33m)\u001b[0m\u001b[1;33m)\u001b[0m\u001b[1;33m\u001b[0m\u001b[1;33m\u001b[0m\u001b[0m\n\u001b[0m",
      "\u001b[1;31mValueError\u001b[0m: I/O operation on closed file."
     ]
    }
   ],
   "source": [
    "print(arquivo.read()) #O arquivo já foi fechado, portanto, não tem como ler"
   ]
  },
  {
   "cell_type": "code",
   "execution_count": 3,
   "id": "6759f352",
   "metadata": {},
   "outputs": [
    {
     "name": "stdout",
     "output_type": "stream",
     "text": [
      "['Arvores balancam suavemente. as pessoas caminham pelas ruas, algumas sozinhas e outras em grupos, conversando e rindo. o som dos passaros e dos carros se mistura em uma\\n', 'sinfonia urbana. e um dia tranquilo e pacifico, perfeito para desfrutar da natureza e da vida. a cada passo, sinto-me grato por\\n', 'estar vivo e por fazer parte deste mundo maravilhoso']\n",
      "False\n"
     ]
    }
   ],
   "source": [
    "with open('arquivo.txt') as arquivo:\n",
    "    print(arquivo.readlines())\n",
    "    print(arquivo.closed)"
   ]
  },
  {
   "cell_type": "code",
   "execution_count": 4,
   "id": "0596a6c3",
   "metadata": {},
   "outputs": [
    {
     "data": {
      "text/plain": [
       "True"
      ]
     },
     "execution_count": 4,
     "metadata": {},
     "output_type": "execute_result"
    }
   ],
   "source": [
    "arquivo.closed #Arquivo saiu do bloco with, portanto, agora está fechado"
   ]
  },
  {
   "cell_type": "code",
   "execution_count": null,
   "id": "7a45f70c",
   "metadata": {},
   "outputs": [],
   "source": []
  }
 ],
 "metadata": {
  "kernelspec": {
   "display_name": "Python 3 (ipykernel)",
   "language": "python",
   "name": "python3"
  },
  "language_info": {
   "codemirror_mode": {
    "name": "ipython",
    "version": 3
   },
   "file_extension": ".py",
   "mimetype": "text/x-python",
   "name": "python",
   "nbconvert_exporter": "python",
   "pygments_lexer": "ipython3",
   "version": "3.9.13"
  }
 },
 "nbformat": 4,
 "nbformat_minor": 5
}
