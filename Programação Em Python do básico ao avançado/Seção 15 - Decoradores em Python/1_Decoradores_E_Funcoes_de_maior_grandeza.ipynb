{
 "cells": [
  {
   "cell_type": "markdown",
   "id": "52e8f801",
   "metadata": {},
   "source": [
    "# Decoradores"
   ]
  },
  {
   "cell_type": "markdown",
   "id": "307fef1f",
   "metadata": {},
   "source": [
    "Em Python, decoradores são funções que modificam o comportamento de outras funções sem alterá-las diretamente. Os decoradores são usados para adicionar funcionalidades extras a uma função existente sem modificar o código original da função.\n",
    "\n",
    "Os decoradores em Python funcionam de maneira semelhante às funções de ordem superior, que são funções que recebem outras funções como argumentos ou que retornam funções como valores. Um decorador é uma função que recebe outra função como argumento e retorna uma nova função. A nova função é uma versão modificada da função original, com funcionalidades extras adicionadas pelo decorador.\n",
    "\n",
    "Os decoradores são normalmente definidos usando a sintaxe \"@decorator_name\" antes da definição da função que será decorada. O decorator_name é o nome da função que irá decorar a função seguinte. Por exemplo:"
   ]
  },
  {
   "cell_type": "markdown",
   "id": "aa67c2cd",
   "metadata": {},
   "source": [
    "# Funções de Maior Grandeza (Height Order Functions) HOF"
   ]
  },
  {
   "cell_type": "markdown",
   "id": "ec1045d5",
   "metadata": {},
   "source": [
    "Quando uma linguagem de programação suporta HOF indica que podemos ter funções que retornam outras funções como resultado ou mesmo que podemos passar funções como argumentos para outras funções e até mesmo criar variáveis do tipo de funções no nossos programas.\n",
    "\n",
    "OBS: Na seção de funções nós utilizamos isso."
   ]
  },
  {
   "cell_type": "markdown",
   "id": "9f88b67f",
   "metadata": {},
   "source": [
    "No Python, uma função de maior grandeza (higher-order function) é uma função que recebe outra função como argumento ou retorna uma função como resultado. Isso significa que uma função de maior grandeza pode ser usada para manipular outras funções como se fossem objetos.\n",
    "\n",
    "Por exemplo, a função map() é uma função de maior grandeza do Python que recebe uma função como seu primeiro argumento e uma sequência como seu segundo argumento. A função map() aplica a função fornecida a cada elemento da sequência e retorna um iterador com os resultados.\n",
    "\n",
    "Veja um exemplo simples:"
   ]
  },
  {
   "cell_type": "code",
   "execution_count": 1,
   "id": "7472e427",
   "metadata": {},
   "outputs": [
    {
     "name": "stdout",
     "output_type": "stream",
     "text": [
      "[1, 4, 9, 16, 25]\n"
     ]
    }
   ],
   "source": [
    "def quadrado(x):\n",
    "    return x * x\n",
    "\n",
    "numeros = [1, 2, 3, 4, 5]\n",
    "\n",
    "quadrados = map(quadrado, numeros)\n",
    "\n",
    "print(list(quadrados)) # Output: [1, 4, 9, 16, 25]"
   ]
  },
  {
   "cell_type": "markdown",
   "id": "ab5cfe59",
   "metadata": {},
   "source": [
    "Nesse exemplo, a função map() é usada para aplicar a função quadrado() a cada elemento da lista numeros. O resultado é uma nova lista com os quadrados de cada número.\n",
    "\n",
    "Outra função de maior grandeza comum no Python é a função filter(). Essa função recebe uma função que retorna um valor booleano (verdadeiro ou falso) e uma sequência como seus argumentos. A função filter() retorna um iterador com os elementos da sequência para os quais a função fornecida retorna verdadeiro."
   ]
  },
  {
   "cell_type": "code",
   "execution_count": 2,
   "id": "2c2b5ede",
   "metadata": {},
   "outputs": [
    {
     "name": "stdout",
     "output_type": "stream",
     "text": [
      "[2, 4, 6, 8, 10]\n"
     ]
    }
   ],
   "source": [
    "def eh_par(x):\n",
    "    return x % 2 == 0\n",
    "\n",
    "numeros = [1, 2, 3, 4, 5, 6, 7, 8, 9, 10]\n",
    "\n",
    "pares = filter(eh_par, numeros)\n",
    "\n",
    "print(list(pares)) # Output: [2, 4, 6, 8, 10]"
   ]
  },
  {
   "cell_type": "markdown",
   "id": "6adb8cab",
   "metadata": {},
   "source": [
    "Nesse exemplo, a função filter() é usada para filtrar apenas os números pares da lista numeros. A função eh_par() retorna verdadeiro se o número é par e falso caso contrário. A função filter() aplica essa função a cada elemento da lista e retorna um iterador com apenas os números pares.\n",
    "\n",
    "Funções de maior grandeza são úteis em muitos casos, permitindo que o código seja mais genérico, mais flexível e mais fácil de ler e manter."
   ]
  },
  {
   "cell_type": "code",
   "execution_count": null,
   "id": "c1030020",
   "metadata": {},
   "outputs": [],
   "source": [
    "#Exemplo: Definindo as funções"
   ]
  },
  {
   "cell_type": "code",
   "execution_count": 3,
   "id": "44bb1b1a",
   "metadata": {},
   "outputs": [],
   "source": [
    "def soma(a,b):\n",
    "    return a + b"
   ]
  },
  {
   "cell_type": "code",
   "execution_count": 4,
   "id": "185da759",
   "metadata": {},
   "outputs": [],
   "source": [
    "def diminuit(a,b):\n",
    "    return a - b"
   ]
  },
  {
   "cell_type": "code",
   "execution_count": 5,
   "id": "e693d29d",
   "metadata": {},
   "outputs": [],
   "source": [
    "def mult(a,b):\n",
    "    return a * b"
   ]
  },
  {
   "cell_type": "code",
   "execution_count": 10,
   "id": "8a5ede33",
   "metadata": {},
   "outputs": [],
   "source": [
    "def dividir(a,b):\n",
    "    return a / b"
   ]
  },
  {
   "cell_type": "code",
   "execution_count": 11,
   "id": "1ec92efa",
   "metadata": {},
   "outputs": [],
   "source": [
    "def calcular(a,b, funcao):\n",
    "    return funcao(a,b)"
   ]
  },
  {
   "cell_type": "code",
   "execution_count": 12,
   "id": "94dee233",
   "metadata": {},
   "outputs": [],
   "source": [
    "#Testando as funções"
   ]
  },
  {
   "cell_type": "code",
   "execution_count": 13,
   "id": "5559ece6",
   "metadata": {},
   "outputs": [
    {
     "name": "stdout",
     "output_type": "stream",
     "text": [
      "12\n",
      "8\n",
      "20\n",
      "5.0\n"
     ]
    }
   ],
   "source": [
    "print(calcular(10,2, soma))\n",
    "print(calcular(10,2, diminuit))\n",
    "print(calcular(10,2, mult))\n",
    "print(calcular(10,2, dividir))"
   ]
  },
  {
   "cell_type": "code",
   "execution_count": null,
   "id": "52a927fa",
   "metadata": {},
   "outputs": [],
   "source": [
    "#Somar o total de números de uma lista"
   ]
  },
  {
   "cell_type": "code",
   "execution_count": 14,
   "id": "b40bdaf8",
   "metadata": {},
   "outputs": [],
   "source": [
    "def funcao(lista):\n",
    "    num = 0\n",
    "    for i in lista:\n",
    "        num += i\n",
    "    return num"
   ]
  },
  {
   "cell_type": "code",
   "execution_count": 15,
   "id": "de759349",
   "metadata": {},
   "outputs": [],
   "source": [
    "lista = [1,2,3,4,5,6,7,8,9,12,13,14,15,15]"
   ]
  },
  {
   "cell_type": "code",
   "execution_count": 16,
   "id": "f8369529",
   "metadata": {},
   "outputs": [],
   "source": [
    "def soma_total(funcao, lista):\n",
    "    return funcao(lista)"
   ]
  },
  {
   "cell_type": "code",
   "execution_count": 17,
   "id": "354c085c",
   "metadata": {},
   "outputs": [
    {
     "name": "stdout",
     "output_type": "stream",
     "text": [
      "114\n"
     ]
    }
   ],
   "source": [
    "print(soma_total(funcao, lista))"
   ]
  },
  {
   "cell_type": "code",
   "execution_count": null,
   "id": "19723c22",
   "metadata": {},
   "outputs": [],
   "source": [
    "#Fim da função de total de números"
   ]
  },
  {
   "cell_type": "code",
   "execution_count": null,
   "id": "6e3af4ce",
   "metadata": {},
   "outputs": [],
   "source": [
    "# Em Python, as funções são Cidadões de Primeira classe (First Class Citizen)"
   ]
  },
  {
   "cell_type": "markdown",
   "id": "edbbb937",
   "metadata": {},
   "source": [
    "#### Nested Functions - Funções Aninhadas"
   ]
  },
  {
   "cell_type": "markdown",
   "id": "a826e14a",
   "metadata": {},
   "source": [
    "Em python nos também podemos ter funções dentro de funções, que são conhecidas como Nested Functions ou Inner Functions (Funções Internas)"
   ]
  },
  {
   "cell_type": "markdown",
   "id": "7998b5e7",
   "metadata": {},
   "source": [
    "Em Python, uma nested function (função aninhada) é uma função definida dentro do escopo de outra função. Isso significa que a nested function é acessível apenas dentro da função que a contém.\n",
    "\n",
    "Aqui está um exemplo simples de uma nested function em Python:"
   ]
  },
  {
   "cell_type": "code",
   "execution_count": 18,
   "id": "5c854437",
   "metadata": {},
   "outputs": [
    {
     "name": "stdout",
     "output_type": "stream",
     "text": [
      "8\n"
     ]
    }
   ],
   "source": [
    "def funcao_principal(x):\n",
    "    def funcao_aninhada(y):\n",
    "        return x + y\n",
    "    return funcao_aninhada\n",
    "\n",
    "resultado = funcao_principal(5)(3)\n",
    "print(resultado) # Output: 8"
   ]
  },
  {
   "cell_type": "markdown",
   "id": "eecdf049",
   "metadata": {},
   "source": [
    "Nesse exemplo, a função funcao_principal() contém uma nested function chamada funcao_aninhada(). Essa nested function recebe um argumento y e retorna a soma de x (que é definido na função principal) e y. A função principal retorna a nested function funcao_aninhada().\n",
    "\n",
    "Na última linha do código, a função principal é chamada com o argumento 5 e, em seguida, a nested function é chamada com o argumento 3. O resultado é a soma de 5 e 3, que é 8.\n",
    "\n",
    "As nested functions em Python são úteis para criar funções que só precisam ser usadas dentro do escopo da função principal. Eles também podem ser usados para criar funções de fábrica que retornam funções personalizadas com base em parâmetros fornecidos.\n",
    "\n",
    "É importante notar que, embora seja possível criar nested functions em Python, elas não são necessárias para muitos casos de uso. Em muitos casos, é possível alcançar o mesmo resultado usando funções regulares e passando argumentos adicionais, em vez de aninhá-las."
   ]
  },
  {
   "cell_type": "code",
   "execution_count": 19,
   "id": "86e98c8c",
   "metadata": {},
   "outputs": [],
   "source": [
    "from random import choice"
   ]
  },
  {
   "cell_type": "code",
   "execution_count": 27,
   "id": "927d8651",
   "metadata": {},
   "outputs": [],
   "source": [
    "def comprimento(pessoa):\n",
    "    def humor():\n",
    "        return choice(('E ae, ', 'Bom dia, ', 'Que foi? ', 'Suma daqui, ', 'Gosto muito de você, '))\n",
    "    return humor() + pessoa"
   ]
  },
  {
   "cell_type": "code",
   "execution_count": 30,
   "id": "d397de0f",
   "metadata": {},
   "outputs": [
    {
     "name": "stdout",
     "output_type": "stream",
     "text": [
      "Gosto muito de você, Italo\n",
      "Suma daqui, Bruna\n",
      "Suma daqui, Carla\n",
      "Gosto muito de você, Pedro\n",
      "Bom dia, Sammily\n",
      "Gosto muito de você, Kaio\n"
     ]
    }
   ],
   "source": [
    "print(comprimento('Italo'))\n",
    "print(comprimento('Bruna'))\n",
    "print(comprimento('Carla'))\n",
    "print(comprimento('Pedro'))\n",
    "print(comprimento('Sammily'))\n",
    "print(comprimento('Kaio'))"
   ]
  },
  {
   "cell_type": "code",
   "execution_count": null,
   "id": "1bec4be0",
   "metadata": {},
   "outputs": [],
   "source": [
    "#Retornando funções de outras funçoes"
   ]
  },
  {
   "cell_type": "code",
   "execution_count": 31,
   "id": "d5ff8000",
   "metadata": {},
   "outputs": [],
   "source": [
    "def faz_rir():\n",
    "    def rir():\n",
    "        return choice(('hahahahaha', 'kkkkkkkkkkkkk', 'hihihihihihihi', 'kofkofkofkofkof'))\n",
    "    return rir()"
   ]
  },
  {
   "cell_type": "code",
   "execution_count": 33,
   "id": "8da759de",
   "metadata": {},
   "outputs": [
    {
     "name": "stdout",
     "output_type": "stream",
     "text": [
      "kkkkkkkkkkkkk\n",
      "kofkofkofkofkof\n",
      "hihihihihihihi\n",
      "hahahahaha\n",
      "kkkkkkkkkkkkk\n",
      "hihihihihihihi\n",
      "kofkofkofkofkof\n"
     ]
    }
   ],
   "source": [
    "print(faz_rir())\n",
    "print(faz_rir())\n",
    "print(faz_rir())\n",
    "print(faz_rir())\n",
    "print(faz_rir())\n",
    "print(faz_rir())\n",
    "print(faz_rir())"
   ]
  },
  {
   "cell_type": "code",
   "execution_count": null,
   "id": "c4d89464",
   "metadata": {},
   "outputs": [],
   "source": [
    "# Inner Functions (Funções Internas/Nested Functions) podem acessar o escopo de funções mais  externas"
   ]
  },
  {
   "cell_type": "code",
   "execution_count": 34,
   "id": "b553c6d9",
   "metadata": {},
   "outputs": [],
   "source": [
    "def comprimento(pessoa):\n",
    "    def humor(): # A função humor consegue fazer acesso ao escopoto do atributo (pessoa) da função comprimento\n",
    "        return choice((f'E ae, {pessoa}', f'Bom dia, {pessoa}', f'Que foi? {pessoa}', f'Suma daqui, {pessoa}', f'Gosto muito de você, {pessoa}'))\n",
    "    return humor()"
   ]
  },
  {
   "cell_type": "code",
   "execution_count": 36,
   "id": "9689b6bd",
   "metadata": {},
   "outputs": [
    {
     "name": "stdout",
     "output_type": "stream",
     "text": [
      "Que foi? Italo\n",
      "Bom dia, Bruna\n",
      "Bom dia, Carla\n",
      "Que foi? Pedro\n",
      "Gosto muito de você, Sammily\n",
      "Que foi? Kaio\n"
     ]
    }
   ],
   "source": [
    "print(comprimento('Italo'))\n",
    "print(comprimento('Bruna'))\n",
    "print(comprimento('Carla'))\n",
    "print(comprimento('Pedro'))\n",
    "print(comprimento('Sammily'))\n",
    "print(comprimento('Kaio'))"
   ]
  },
  {
   "cell_type": "code",
   "execution_count": null,
   "id": "351b8f3b",
   "metadata": {},
   "outputs": [],
   "source": []
  }
 ],
 "metadata": {
  "kernelspec": {
   "display_name": "Python 3 (ipykernel)",
   "language": "python",
   "name": "python3"
  },
  "language_info": {
   "codemirror_mode": {
    "name": "ipython",
    "version": 3
   },
   "file_extension": ".py",
   "mimetype": "text/x-python",
   "name": "python",
   "nbconvert_exporter": "python",
   "pygments_lexer": "ipython3",
   "version": "3.9.13"
  }
 },
 "nbformat": 4,
 "nbformat_minor": 5
}
