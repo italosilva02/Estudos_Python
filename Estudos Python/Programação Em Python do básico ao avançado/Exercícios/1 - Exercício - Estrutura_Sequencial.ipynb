{
 "cells": [
  {
   "cell_type": "markdown",
   "id": "914ad789",
   "metadata": {},
   "source": [
    "###### 1 - Faça um Programa que mostre a mensagem \"Alo mundo\" na tela."
   ]
  },
  {
   "cell_type": "code",
   "execution_count": 1,
   "id": "82a66c8e",
   "metadata": {},
   "outputs": [
    {
     "name": "stdout",
     "output_type": "stream",
     "text": [
      "Alo mundo\n"
     ]
    }
   ],
   "source": [
    "print('Alo mundo')"
   ]
  },
  {
   "cell_type": "markdown",
   "id": "fae19cf5",
   "metadata": {},
   "source": [
    "###### 2 - Faça um Programa que peça um número e então mostre a mensagem O número informado foi [número]."
   ]
  },
  {
   "cell_type": "code",
   "execution_count": 4,
   "id": "b7081faa",
   "metadata": {},
   "outputs": [
    {
     "name": "stdout",
     "output_type": "stream",
     "text": [
      "Informe um número: 5\n",
      "O número informado é 5\n"
     ]
    }
   ],
   "source": [
    "n = int(input(\"Informe um número: \"))\n",
    "print(f'O número informado é {n}')"
   ]
  },
  {
   "cell_type": "markdown",
   "id": "8b155774",
   "metadata": {},
   "source": [
    "###### 3 - Faça um Programa que peça dois números e imprima a soma."
   ]
  },
  {
   "cell_type": "code",
   "execution_count": 18,
   "id": "18be873a",
   "metadata": {},
   "outputs": [
    {
     "name": "stdout",
     "output_type": "stream",
     "text": [
      "Informe um número: 3.4\n",
      "Informe o segundo número: 23.\n"
     ]
    }
   ],
   "source": [
    "n1 = float(input('Informe um número: '))\n",
    "n2 = float(input('Informe o segundo número: '))\n",
    "soma = n1 + n2"
   ]
  },
  {
   "cell_type": "code",
   "execution_count": 24,
   "id": "3d38913e",
   "metadata": {},
   "outputs": [
    {
     "name": "stdout",
     "output_type": "stream",
     "text": [
      "26.4\n"
     ]
    }
   ],
   "source": [
    "print(f'Valor {soma:.2f}')"
   ]
  },
  {
   "cell_type": "markdown",
   "id": "86b73725",
   "metadata": {},
   "source": [
    "###### 4 - Faça um Programa que peça as 4 notas bimestrais e mostre a média."
   ]
  },
  {
   "cell_type": "code",
   "execution_count": 1,
   "id": "d02c9e52",
   "metadata": {},
   "outputs": [
    {
     "name": "stdout",
     "output_type": "stream",
     "text": [
      "Informe a primeira nota: 3.6\n",
      "Informe a segunda nota: 5.7\n",
      "Informe a terceira nota: 7.6\n",
      "Informe a quarta nota: 7.0\n",
      "A media do aluno foi = 5.97\n"
     ]
    }
   ],
   "source": [
    "n1 = float(input('Informe a primeira nota: '))\n",
    "n2 = float(input('Informe a segunda nota: '))\n",
    "n3 = float(input('Informe a terceira nota: '))\n",
    "n4 = float(input('Informe a quarta nota: '))\n",
    "\n",
    "media = (n1+n2+n3+n4) / 4\n",
    "\n",
    "print(f'A media do aluno foi = {media:.2f}')"
   ]
  },
  {
   "cell_type": "markdown",
   "id": "7f18afdb",
   "metadata": {},
   "source": [
    "###### 5 - Faça um Programa que converta metros para centímetros."
   ]
  },
  {
   "cell_type": "code",
   "execution_count": 5,
   "id": "f2df792d",
   "metadata": {},
   "outputs": [
    {
     "name": "stdout",
     "output_type": "stream",
     "text": [
      "Informe quantos metros: 5.8\n",
      "580.00 cm\n"
     ]
    }
   ],
   "source": [
    "metro = float(input('Informe quantos metros: '))\n",
    "print(f'{metro * 100:.2f} cm')"
   ]
  },
  {
   "cell_type": "markdown",
   "id": "f5630d3e",
   "metadata": {},
   "source": [
    "###### 6 - Faça um Programa que peça o raio de um círculo, calcule e mostre sua área."
   ]
  },
  {
   "cell_type": "code",
   "execution_count": 6,
   "id": "3acd3042",
   "metadata": {},
   "outputs": [
    {
     "name": "stdout",
     "output_type": "stream",
     "text": [
      "Informe o raio: 2\n",
      "A área é: 12.57\n"
     ]
    }
   ],
   "source": [
    "raio = float(input('Informe o raio: '))\n",
    "area = 3.1415 * (raio ** 2)\n",
    "print(f'A área é: {area:.2f}')"
   ]
  },
  {
   "cell_type": "markdown",
   "id": "b030b37c",
   "metadata": {},
   "source": [
    "###### 7 - Faça um Programa que calcule a área de um quadrado, em seguida mostre o dobro desta área para o usuário."
   ]
  },
  {
   "cell_type": "code",
   "execution_count": 9,
   "id": "6473061a",
   "metadata": {},
   "outputs": [
    {
     "name": "stdout",
     "output_type": "stream",
     "text": [
      "Informe a altura do quadrado: 6\n",
      "O dobro da área do quadrado é: 72.00\n"
     ]
    }
   ],
   "source": [
    "altura = float(input('Informe a altura do quadrado: '))\n",
    "area = (altura ** 2)\n",
    "print(f'O dobro da área do quadrado é: {area * 2:.2f}')"
   ]
  },
  {
   "cell_type": "markdown",
   "id": "4981eee8",
   "metadata": {},
   "source": [
    "###### 8 - Faça um Programa que pergunte quanto você ganha por hora e o número de horas trabalhadas no mês. Calcule e mostre o total do seu salário no referido mês."
   ]
  },
  {
   "cell_type": "code",
   "execution_count": 10,
   "id": "a9240f05",
   "metadata": {},
   "outputs": [
    {
     "name": "stdout",
     "output_type": "stream",
     "text": [
      "Informe a quantidade de horas trabalhas no mês: 126\n",
      "Informe o valor da hora trabalhada: 32\n",
      "O salário do trabalhador é de R$: 4032.00\n"
     ]
    }
   ],
   "source": [
    "horas_trabalhadas = float(input('Informe a quantidade de horas trabalhas no mês: '))\n",
    "hora_salario = float(input('Informe o valor da hora trabalhada: '))\n",
    "\n",
    "salario_mes = horas_trabalhadas * hora_salario\n",
    "\n",
    "print(f'O salário do trabalhador é de R$: {salario_mes:.2f}')"
   ]
  },
  {
   "cell_type": "markdown",
   "id": "90cc3c16",
   "metadata": {},
   "source": [
    "###### 9 - Faça um Programa que peça a temperatura em graus Fahrenheit, transforme e mostre a temperatura em graus Celsius.\n",
    "C = 5 * ((F-32) / 9)."
   ]
  },
  {
   "cell_type": "code",
   "execution_count": 11,
   "id": "f9470333",
   "metadata": {},
   "outputs": [
    {
     "name": "stdout",
     "output_type": "stream",
     "text": [
      "Informe a temperaturas em Fahrenheit: 62\n",
      "Está fazendo 16.67 graus Celsius\n"
     ]
    }
   ],
   "source": [
    "f = float(input('Informe a temperaturas em Fahrenheit: '))\n",
    "c = 5 * ((f - 32) / 9)\n",
    "print(f'Está fazendo {c:.2f} graus Celsius')"
   ]
  },
  {
   "cell_type": "markdown",
   "id": "c5f598fa",
   "metadata": {},
   "source": [
    "###### 10 - Faça um Programa que peça a temperatura em graus Celsius, transforme e mostre em graus Fahrenheit."
   ]
  },
  {
   "cell_type": "code",
   "execution_count": 12,
   "id": "699cec1b",
   "metadata": {},
   "outputs": [
    {
     "name": "stdout",
     "output_type": "stream",
     "text": [
      "Informe a temperaturas em Celsius: 62\n",
      "Está fazendo 143.60 graus Fahrenheits\n"
     ]
    }
   ],
   "source": [
    "c = float(input('Informe a temperaturas em Celsius: '))\n",
    "f = ((c * (9/5) + 32))\n",
    "print(f'Está fazendo {f:.2f} graus Fahrenheits')"
   ]
  },
  {
   "cell_type": "markdown",
   "id": "3a637339",
   "metadata": {},
   "source": [
    "###### 11 -  Faça um Programa que peça 2 números inteiros e um número real. Calcule e mostre:\n",
    " - o produto do dobro do primeiro com metade do segundo .\n",
    " - a soma do triplo do primeiro com o terceiro.\n",
    " - o terceiro elevado ao cubo."
   ]
  },
  {
   "cell_type": "code",
   "execution_count": 13,
   "id": "e9277101",
   "metadata": {},
   "outputs": [
    {
     "name": "stdout",
     "output_type": "stream",
     "text": [
      "Informe um número inteiro: 5\n",
      "Informe um segundo inteiro: 9\n",
      "Informe um número real: 3.14\n"
     ]
    }
   ],
   "source": [
    "n1 = int(input('Informe um número inteiro: '))\n",
    "n2 = int(input('Informe um segundo inteiro: '))\n",
    "n3 = float(input('Informe um número real: '))"
   ]
  },
  {
   "cell_type": "code",
   "execution_count": 15,
   "id": "f7abd391",
   "metadata": {},
   "outputs": [],
   "source": [
    "produto = (n1 * 2) * (n2/2)\n",
    "soma_triplo = (n1 * 3) + n3\n",
    "cubo = (n3 ** 3)"
   ]
  },
  {
   "cell_type": "code",
   "execution_count": 16,
   "id": "6a7f3fcc",
   "metadata": {},
   "outputs": [
    {
     "name": "stdout",
     "output_type": "stream",
     "text": [
      "o produto do dobro do primeiro com metade do segundo = 45.00\n",
      "a soma do triplo do primeiro com o terceiro. = 18.14\n",
      "o terceiro elevado ao cubo = 30.96\n"
     ]
    }
   ],
   "source": [
    "print(f'o produto do dobro do primeiro com metade do segundo = {produto:.2f}')\n",
    "print(f'a soma do triplo do primeiro com o terceiro. = {soma_triplo:.2f}')\n",
    "print(f'o terceiro elevado ao cubo = {cubo:.2f}')"
   ]
  },
  {
   "cell_type": "markdown",
   "id": "b6d38f8f",
   "metadata": {},
   "source": [
    "###### 12 - Tendo como dados de entrada a altura de uma pessoa, construa um algoritmo que calcule seu peso ideal, usando a seguinte fórmula: (72.7*altura) - 58"
   ]
  },
  {
   "cell_type": "code",
   "execution_count": 18,
   "id": "03cae025",
   "metadata": {},
   "outputs": [
    {
     "name": "stdout",
     "output_type": "stream",
     "text": [
      "Informe sua altura: 1.70\n",
      "Seu peso ideal é: 65.59\n"
     ]
    }
   ],
   "source": [
    "altura = float(input('Informe sua altura: '))\n",
    "peso_ideal = (72.7 * altura) - 58\n",
    "print(f'Seu peso ideal é: {peso_ideal:.2f}')"
   ]
  },
  {
   "cell_type": "markdown",
   "id": "01295bc6",
   "metadata": {},
   "source": [
    "###### 13 - Tendo como dado de entrada a altura (h) de uma pessoa, construa um algoritmo que calcule seu peso ideal, utilizando as seguintes fórmulas:\n",
    "- Para homens: (72.7*h) - 58\n",
    "- Para mulheres: (62.1*h) - 44.7"
   ]
  },
  {
   "cell_type": "code",
   "execution_count": 20,
   "id": "c021c42a",
   "metadata": {},
   "outputs": [
    {
     "name": "stdout",
     "output_type": "stream",
     "text": [
      "Informe sua altura: 1.78\n",
      "Pesso ideal Masculino: 65.59\n",
      "Pesso ideal Feminino: 60.87\n"
     ]
    }
   ],
   "source": [
    "h = float(input('Informe sua altura: '))\n",
    "peso_masculino = (72.7 * altura) - 58\n",
    "peso_feminino = (62.1 * altura) - 44.7\n",
    "print(f'Pesso ideal Masculino: {peso_masculino:.2f}')\n",
    "print(f'Pesso ideal Feminino: {peso_feminino:.2f}')"
   ]
  },
  {
   "cell_type": "markdown",
   "id": "a88166a7",
   "metadata": {},
   "source": [
    "####### - 14 João Papo-de-Pescador, homem de bem, comprou um microcomputador para controlar o rendimento diário de seu trabalho. Toda vez que ele traz um peso de peixes maior que o estabelecido pelo regulamento de pesca do estado de São Paulo (50 quilos) deve pagar uma multa de R$ 4,00 por quilo excedente. João precisa que você faça um programa que leia a variável peso (peso de peixes) e calcule o excesso. Gravar na variável excesso a quantidade de quilos além do limite e na variável multa o valor da multa que João deverá pagar. Imprima os dados do programa com as mensagens adequadas."
   ]
  },
  {
   "cell_type": "code",
   "execution_count": null,
   "id": "fae96549",
   "metadata": {},
   "outputs": [],
   "source": [
    "limite - 50\n",
    "multa - 4"
   ]
  },
  {
   "cell_type": "code",
   "execution_count": 28,
   "id": "b9250118",
   "metadata": {},
   "outputs": [
    {
     "name": "stdout",
     "output_type": "stream",
     "text": [
      "Informe o peso do peixe: 54\n",
      "KG do peixe = 54.0 KG \n",
      "Multa = R$ 16.0\n"
     ]
    }
   ],
   "source": [
    "peso = float(input('Informe o peso do peixe: '))\n",
    "multa = 0\n",
    "if peso > 50:\n",
    "    multa = (peso - 50) * 4\n",
    "print(f'KG do peixe = {peso} KG \\nMulta = R$ {multa}')"
   ]
  },
  {
   "cell_type": "markdown",
   "id": "6fd36889",
   "metadata": {},
   "source": [
    "###### 15 - Faça um Programa que pergunte quanto você ganha por hora e o número de horas trabalhadas no mês. Calcule e mostre o total do seu salário no referido mês, sabendo-se que são descontados 11% para o Imposto de Renda, 8% para o INSS e 5% para o sindicato, faça um programa que nos dê:\n",
    "\n",
    "- salário bruto.\n",
    "- quanto pagou ao INSS.\n",
    "- quanto pagou ao sindicato.\n",
    "- o salário líquido.\n",
    "- calcule os descontos e o salário líquido, conforme a tabela abaixo"
   ]
  },
  {
   "cell_type": "markdown",
   "id": "899d81c4",
   "metadata": {},
   "source": [
    "+ Salário Bruto : R$\n",
    "- IR (11%) : R$\n",
    "- INSS (8%) : R$\n",
    "- Sindicato ( 5%) : R$\n",
    "= Salário Liquido : R$"
   ]
  },
  {
   "cell_type": "code",
   "execution_count": 31,
   "id": "6b7fff8d",
   "metadata": {},
   "outputs": [
    {
     "name": "stdout",
     "output_type": "stream",
     "text": [
      "Quantas horas trabalhadas no mês: 160\n",
      "Qual é o valor em R$ pago por hora: 32\n"
     ]
    }
   ],
   "source": [
    "hora_mes = float(input('Quantas horas trabalhadas no mês: '))\n",
    "valor_horas = float(input('Qual é o valor em R$ pago por hora: '))\n",
    "salario_bruto = hora_mes * valor_horas\n",
    "ir = (salario_bruto * 0.011) \n",
    "inss = salario_bruto * 0.08\n",
    "sindicado = salario_bruto * 0.05\n",
    "salario_liquido = salario_bruto - (ir+inss+sindicado)"
   ]
  },
  {
   "cell_type": "markdown",
   "id": "b18acc5a",
   "metadata": {},
   "source": [
    "Obs.: Salário Bruto - Descontos = Salário Líquido."
   ]
  },
  {
   "cell_type": "code",
   "execution_count": 34,
   "id": "8ce0d5c9",
   "metadata": {},
   "outputs": [
    {
     "name": "stdout",
     "output_type": "stream",
     "text": [
      "Salario Bruto = R$ 5120.00\n",
      "Imposto de renda = R$ 56.32\n",
      "INSS = R$ 409.60\n",
      "Sindicado = R$ 256.00\n",
      "Salario Liquido = R$ 4398.08\n"
     ]
    }
   ],
   "source": [
    "print(f'Salario Bruto = R$ {salario_bruto:.2f}')\n",
    "print(f'Imposto de renda = R$ {ir:.2f}')\n",
    "print(f'INSS = R$ {inss:.2f}')\n",
    "print(f'Sindicado = R$ {sindicado:.2f}')\n",
    "print(f'Salario Liquido = R$ {salario_liquido:.2f}')"
   ]
  },
  {
   "cell_type": "markdown",
   "id": "ef5aa89c",
   "metadata": {},
   "source": [
    "###### 16 - Faça um programa para uma loja de tintas. O programa deverá pedir o tamanho em metros quadrados da área a ser pintada. Considere que a cobertura da tinta é de 1 litro para cada 3 metros quadrados e que a tinta é vendida em latas de 18 litros, que custam R$ 80,00. Informe ao usuário a quantidades de latas de tinta a serem compradas e o preço total."
   ]
  },
  {
   "cell_type": "code",
   "execution_count": 49,
   "id": "b825b237",
   "metadata": {},
   "outputs": [
    {
     "name": "stdout",
     "output_type": "stream",
     "text": [
      "Informe os metros quadrados que serão pintados: 920\n",
      "Serão necessarios 17.04 latas | valor R$ 1362.962962962963\n"
     ]
    }
   ],
   "source": [
    "metros = float(input('Informe os metros quadrados que serão pintados: '))\n",
    "# 1l - 3metros - 18 total litros\n",
    "total_litros = metros / 3\n",
    "if total_litros <= 18:\n",
    "    print(f'Será necessário somente uma lata: {total_litros:.2f} litros | Valor R$ 80:00')\n",
    "elif total_litros > 18: \n",
    "    print(f'Serão necessarios {(total_litros /18):.2f} latas | valor R$ {(total_litros/18):.2f * 80.00}')\n",
    "\n",
    "    \n"
   ]
  },
  {
   "cell_type": "code",
   "execution_count": 38,
   "id": "73332906",
   "metadata": {},
   "outputs": [
    {
     "data": {
      "text/plain": [
       "0"
      ]
     },
     "execution_count": 38,
     "metadata": {},
     "output_type": "execute_result"
    }
   ],
   "source": []
  },
  {
   "cell_type": "code",
   "execution_count": null,
   "id": "2fe3ee0a",
   "metadata": {},
   "outputs": [],
   "source": []
  }
 ],
 "metadata": {
  "kernelspec": {
   "display_name": "Python 3 (ipykernel)",
   "language": "python",
   "name": "python3"
  },
  "language_info": {
   "codemirror_mode": {
    "name": "ipython",
    "version": 3
   },
   "file_extension": ".py",
   "mimetype": "text/x-python",
   "name": "python",
   "nbconvert_exporter": "python",
   "pygments_lexer": "ipython3",
   "version": "3.9.13"
  }
 },
 "nbformat": 4,
 "nbformat_minor": 5
}
