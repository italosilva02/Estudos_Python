{
 "cells": [
  {
   "cell_type": "markdown",
   "id": "65a7f621",
   "metadata": {},
   "source": [
    "# Aula: Escrevendo em CSV sem utilizar módulos"
   ]
  },
  {
   "cell_type": "markdown",
   "id": "524aa444",
   "metadata": {},
   "source": [
    "Objetivo:\n",
    "\n",
    "Aprender a escrever dados em arquivos CSV sem utilizar módulos externos.\n",
    "Conteúdo:\n",
    "\n",
    "Introdução aos arquivos CSV\n",
    "Escrevendo dados em um arquivo CSV\n",
    "Exemplos práticos\n",
    "Introdução aos arquivos CSV\n",
    "\n",
    "Arquivos CSV são arquivos de texto que armazenam dados tabulares. Cada linha do arquivo representa um registro de dados, e os valores individuais são separados por um delimitador, geralmente uma vírgula (,).\n",
    "\n",
    "Os arquivos CSV são um formato de arquivo simples e fácil de ler e escrever, o que os torna uma boa escolha para armazenar dados tabulares. Eles são amplamente utilizados em diferentes contextos, como planilhas, bancos de dados e análise de dados.\n",
    "\n",
    "Escrevendo dados em um arquivo CSV\n",
    "\n",
    "Para escrever dados em um arquivo CSV, podemos usar o método write() do objeto io.TextIOWrapper. O método write() recebe uma string como argumento e escreve essa string no arquivo.\n",
    "\n",
    "Para separar os valores dos registros, podemos usar o método write() para escrever o delimitador desejado. Por exemplo, para separar os valores com uma vírgula, podemos usar o seguinte código:"
   ]
  },
  {
   "cell_type": "markdown",
   "id": "fd762970",
   "metadata": {},
   "source": [
    "Escrevendo em arquivos CSV\n",
    "reader(), writer()"
   ]
  },
  {
   "cell_type": "code",
   "execution_count": null,
   "id": "61f6341b",
   "metadata": {},
   "outputs": [],
   "source": [
    "writerow()"
   ]
  },
  {
   "cell_type": "code",
   "execution_count": 1,
   "id": "4096f9ad",
   "metadata": {},
   "outputs": [],
   "source": [
    "from csv import writer"
   ]
  },
  {
   "cell_type": "code",
   "execution_count": 5,
   "id": "797a5071",
   "metadata": {},
   "outputs": [
    {
     "name": "stdout",
     "output_type": "stream",
     "text": [
      "Informe o nome do filme: Senhor dos aneis - A socidade do anel\n",
      "Informe o gênero: fantasia\n",
      "Informe o ano: 2012\n",
      "Informe o nome do filme: Harry Potter\n",
      "Informe o gênero: Fantasia\n",
      "Informe o ano: 2021\n",
      "Informe o nome do filme: O ultimo Jedi\n",
      "Informe o gênero: Ação\n",
      "Informe o ano: 1997\n",
      "Informe o nome do filme: Maria e João\n",
      "Informe o gênero: Drama\n",
      "Informe o ano: 2002\n",
      "Informe o nome do filme: sair\n"
     ]
    }
   ],
   "source": [
    "with open('file/filmes.csv', 'w') as df:\n",
    "    filmes_csv = writer(df)\n",
    "    filme = None\n",
    "    filmes_csv.writerow(['Titulo','Gênero', 'Ano'])\n",
    "    while filme != 'sair':\n",
    "        filme = input('Informe o nome do filme: ')\n",
    "        if filme != 'sair':\n",
    "            genero = input('Informe o gênero: ')\n",
    "            ano = input('Informe o ano: ')\n",
    "            filmes_csv.writerow([filme, genero, ano])"
   ]
  },
  {
   "cell_type": "markdown",
   "id": "995b357e",
   "metadata": {},
   "source": [
    "# DictWriter"
   ]
  },
  {
   "cell_type": "code",
   "execution_count": 6,
   "id": "b4d1851a",
   "metadata": {},
   "outputs": [],
   "source": [
    "from csv import DictWriter"
   ]
  },
  {
   "cell_type": "code",
   "execution_count": 7,
   "id": "bad4b2cf",
   "metadata": {},
   "outputs": [
    {
     "data": {
      "text/plain": [
       "['__class__',\n",
       " '__delattr__',\n",
       " '__dict__',\n",
       " '__dir__',\n",
       " '__doc__',\n",
       " '__eq__',\n",
       " '__format__',\n",
       " '__ge__',\n",
       " '__getattribute__',\n",
       " '__gt__',\n",
       " '__hash__',\n",
       " '__init__',\n",
       " '__init_subclass__',\n",
       " '__le__',\n",
       " '__lt__',\n",
       " '__module__',\n",
       " '__ne__',\n",
       " '__new__',\n",
       " '__reduce__',\n",
       " '__reduce_ex__',\n",
       " '__repr__',\n",
       " '__setattr__',\n",
       " '__sizeof__',\n",
       " '__str__',\n",
       " '__subclasshook__',\n",
       " '__weakref__',\n",
       " '_dict_to_list',\n",
       " 'writeheader',\n",
       " 'writerow',\n",
       " 'writerows']"
      ]
     },
     "execution_count": 7,
     "metadata": {},
     "output_type": "execute_result"
    }
   ],
   "source": [
    "dir(DictWriter)"
   ]
  },
  {
   "cell_type": "code",
   "execution_count": 8,
   "id": "fe5e34f6",
   "metadata": {},
   "outputs": [
    {
     "name": "stdout",
     "output_type": "stream",
     "text": [
      "Help on class DictWriter in module csv:\n",
      "\n",
      "class DictWriter(builtins.object)\n",
      " |  DictWriter(f, fieldnames, restval='', extrasaction='raise', dialect='excel', *args, **kwds)\n",
      " |  \n",
      " |  Methods defined here:\n",
      " |  \n",
      " |  __init__(self, f, fieldnames, restval='', extrasaction='raise', dialect='excel', *args, **kwds)\n",
      " |      Initialize self.  See help(type(self)) for accurate signature.\n",
      " |  \n",
      " |  writeheader(self)\n",
      " |  \n",
      " |  writerow(self, rowdict)\n",
      " |  \n",
      " |  writerows(self, rowdicts)\n",
      " |  \n",
      " |  ----------------------------------------------------------------------\n",
      " |  Data descriptors defined here:\n",
      " |  \n",
      " |  __dict__\n",
      " |      dictionary for instance variables (if defined)\n",
      " |  \n",
      " |  __weakref__\n",
      " |      list of weak references to the object (if defined)\n",
      "\n"
     ]
    }
   ],
   "source": [
    "help(DictWriter)"
   ]
  },
  {
   "cell_type": "code",
   "execution_count": 9,
   "id": "bf544ca4",
   "metadata": {},
   "outputs": [],
   "source": [
    "from csv import DictWriter"
   ]
  },
  {
   "cell_type": "code",
   "execution_count": 15,
   "id": "2ee50be5",
   "metadata": {},
   "outputs": [
    {
     "name": "stdout",
     "output_type": "stream",
     "text": [
      "Informe a posição: Goleiro\n",
      "Informe o jogador: Alisson\n",
      "Informe o clube: Liverpool (ING)\n",
      "Informe o número de partidas: 2\n",
      "Informe a posição: Goleiro\n",
      "Informe o jogador: Ederson\n",
      "Informe o clube: Manchester City (ING)\n",
      "Informe o número de partidas: 4\n",
      "Informe a posição: Goleiro\n",
      "Informe o jogador: Lucas Perri\n",
      "Informe o clube: Botafogo\n",
      "Informe o número de partidas: 0\n",
      "Informe a posição: Lateral-direito\n",
      "Informe o jogador: Danilo\n",
      "Informe o clube: Juventus (ITA)\n",
      "Informe o número de partidas: 3\n",
      "Informe a posição: Lateral-direito\n",
      "Informe o jogador: Vanderson\n",
      "Informe o clube: Monaco (FRA)\n",
      "Informe o número de partidas: 1\n",
      "Informe a posição: Lateral-esquerdo\t\n",
      "Informe o jogador: Renan Lodi\n",
      "Informe o clube: Olympique (FRA)\t\n",
      "Informe o número de partidas: 3\n",
      "Informe a posição: Lateral-esquerdo\n",
      "Informe o jogador: Caio Henrique\n",
      "Informe o clube: Monaco (FRA)\n",
      "Informe o número de partidas: 1\n",
      "Informe a posição: Lateral-esquerdo\n",
      "Informe o jogador: Guilherme Arana\n",
      "Informe o clube: Atlético-MG (BRA)\n",
      "Informe o número de partidas: 2\n",
      "Informe a posição: Zagueiro\n",
      "Informe o jogador: Marquinhos\n",
      "Informe o clube: PSG (FRA)\n",
      "Informe o número de partidas: 6\n",
      "Informe a posição: sair\n",
      "Informe o jogador: sair\n",
      "Informe o clube: sair\n",
      "Informe o número de partidas: sair\n"
     ]
    },
    {
     "ename": "KeyboardInterrupt",
     "evalue": "Interrupted by user",
     "output_type": "error",
     "traceback": [
      "\u001b[1;31m---------------------------------------------------------------------------\u001b[0m",
      "\u001b[1;31mKeyboardInterrupt\u001b[0m                         Traceback (most recent call last)",
      "Cell \u001b[1;32mIn[15], line 7\u001b[0m\n\u001b[0;32m      5\u001b[0m jogadores \u001b[38;5;241m=\u001b[39m \u001b[38;5;28;01mNone\u001b[39;00m\n\u001b[0;32m      6\u001b[0m \u001b[38;5;28;01mwhile\u001b[39;00m jogadores \u001b[38;5;241m!=\u001b[39m \u001b[38;5;124m'\u001b[39m\u001b[38;5;124msair\u001b[39m\u001b[38;5;124m'\u001b[39m:\n\u001b[1;32m----> 7\u001b[0m     posicao \u001b[38;5;241m=\u001b[39m \u001b[38;5;28;43minput\u001b[39;49m\u001b[43m(\u001b[49m\u001b[38;5;124;43m'\u001b[39;49m\u001b[38;5;124;43mInforme a posição: \u001b[39;49m\u001b[38;5;124;43m'\u001b[39;49m\u001b[43m)\u001b[49m\n\u001b[0;32m      8\u001b[0m     player \u001b[38;5;241m=\u001b[39m \u001b[38;5;28minput\u001b[39m(\u001b[38;5;124m'\u001b[39m\u001b[38;5;124mInforme o jogador: \u001b[39m\u001b[38;5;124m'\u001b[39m)\n\u001b[0;32m      9\u001b[0m     clube \u001b[38;5;241m=\u001b[39m \u001b[38;5;28minput\u001b[39m(\u001b[38;5;124m'\u001b[39m\u001b[38;5;124mInforme o clube: \u001b[39m\u001b[38;5;124m'\u001b[39m)\n",
      "File \u001b[1;32m~\\AppData\\Local\\anaconda3\\lib\\site-packages\\ipykernel\\kernelbase.py:1175\u001b[0m, in \u001b[0;36mKernel.raw_input\u001b[1;34m(self, prompt)\u001b[0m\n\u001b[0;32m   1171\u001b[0m \u001b[38;5;28;01mif\u001b[39;00m \u001b[38;5;129;01mnot\u001b[39;00m \u001b[38;5;28mself\u001b[39m\u001b[38;5;241m.\u001b[39m_allow_stdin:\n\u001b[0;32m   1172\u001b[0m     \u001b[38;5;28;01mraise\u001b[39;00m StdinNotImplementedError(\n\u001b[0;32m   1173\u001b[0m         \u001b[38;5;124m\"\u001b[39m\u001b[38;5;124mraw_input was called, but this frontend does not support input requests.\u001b[39m\u001b[38;5;124m\"\u001b[39m\n\u001b[0;32m   1174\u001b[0m     )\n\u001b[1;32m-> 1175\u001b[0m \u001b[38;5;28;01mreturn\u001b[39;00m \u001b[38;5;28;43mself\u001b[39;49m\u001b[38;5;241;43m.\u001b[39;49m\u001b[43m_input_request\u001b[49m\u001b[43m(\u001b[49m\n\u001b[0;32m   1176\u001b[0m \u001b[43m    \u001b[49m\u001b[38;5;28;43mstr\u001b[39;49m\u001b[43m(\u001b[49m\u001b[43mprompt\u001b[49m\u001b[43m)\u001b[49m\u001b[43m,\u001b[49m\n\u001b[0;32m   1177\u001b[0m \u001b[43m    \u001b[49m\u001b[38;5;28;43mself\u001b[39;49m\u001b[38;5;241;43m.\u001b[39;49m\u001b[43m_parent_ident\u001b[49m\u001b[43m[\u001b[49m\u001b[38;5;124;43m\"\u001b[39;49m\u001b[38;5;124;43mshell\u001b[39;49m\u001b[38;5;124;43m\"\u001b[39;49m\u001b[43m]\u001b[49m\u001b[43m,\u001b[49m\n\u001b[0;32m   1178\u001b[0m \u001b[43m    \u001b[49m\u001b[38;5;28;43mself\u001b[39;49m\u001b[38;5;241;43m.\u001b[39;49m\u001b[43mget_parent\u001b[49m\u001b[43m(\u001b[49m\u001b[38;5;124;43m\"\u001b[39;49m\u001b[38;5;124;43mshell\u001b[39;49m\u001b[38;5;124;43m\"\u001b[39;49m\u001b[43m)\u001b[49m\u001b[43m,\u001b[49m\n\u001b[0;32m   1179\u001b[0m \u001b[43m    \u001b[49m\u001b[43mpassword\u001b[49m\u001b[38;5;241;43m=\u001b[39;49m\u001b[38;5;28;43;01mFalse\u001b[39;49;00m\u001b[43m,\u001b[49m\n\u001b[0;32m   1180\u001b[0m \u001b[43m\u001b[49m\u001b[43m)\u001b[49m\n",
      "File \u001b[1;32m~\\AppData\\Local\\anaconda3\\lib\\site-packages\\ipykernel\\kernelbase.py:1217\u001b[0m, in \u001b[0;36mKernel._input_request\u001b[1;34m(self, prompt, ident, parent, password)\u001b[0m\n\u001b[0;32m   1214\u001b[0m             \u001b[38;5;28;01mbreak\u001b[39;00m\n\u001b[0;32m   1215\u001b[0m \u001b[38;5;28;01mexcept\u001b[39;00m \u001b[38;5;167;01mKeyboardInterrupt\u001b[39;00m:\n\u001b[0;32m   1216\u001b[0m     \u001b[38;5;66;03m# re-raise KeyboardInterrupt, to truncate traceback\u001b[39;00m\n\u001b[1;32m-> 1217\u001b[0m     \u001b[38;5;28;01mraise\u001b[39;00m \u001b[38;5;167;01mKeyboardInterrupt\u001b[39;00m(\u001b[38;5;124m\"\u001b[39m\u001b[38;5;124mInterrupted by user\u001b[39m\u001b[38;5;124m\"\u001b[39m) \u001b[38;5;28;01mfrom\u001b[39;00m \u001b[38;5;28mNone\u001b[39m\n\u001b[0;32m   1218\u001b[0m \u001b[38;5;28;01mexcept\u001b[39;00m \u001b[38;5;167;01mException\u001b[39;00m:\n\u001b[0;32m   1219\u001b[0m     \u001b[38;5;28mself\u001b[39m\u001b[38;5;241m.\u001b[39mlog\u001b[38;5;241m.\u001b[39mwarning(\u001b[38;5;124m\"\u001b[39m\u001b[38;5;124mInvalid Message:\u001b[39m\u001b[38;5;124m\"\u001b[39m, exc_info\u001b[38;5;241m=\u001b[39m\u001b[38;5;28;01mTrue\u001b[39;00m)\n",
      "\u001b[1;31mKeyboardInterrupt\u001b[0m: Interrupted by user"
     ]
    }
   ],
   "source": [
    "with open('file/jogadores_selecao.csv', 'w') as df:\n",
    "    cabecalho = ['Posição', 'Jogador', 'Clube', 'Jogos']\n",
    "    jogadores_csv = DictWriter(df, fieldnames=cabecalho)\n",
    "    jogadores_csv.writeheader()\n",
    "    jogadores = None\n",
    "    while jogadores != 'sair':\n",
    "        posicao = input('Informe a posição: ')\n",
    "        jogadores = input('Informe o jogador: ')\n",
    "        clube = input('Informe o clube: ')\n",
    "        partidas = input('Informe o número de partidas: ')\n",
    "        \n",
    "        jogadores_csv.writerow({'Posição': posicao, 'Jogador': jogadores, 'Clube': clube, 'Jogos': partidas})"
   ]
  },
  {
   "cell_type": "code",
   "execution_count": 21,
   "id": "98a7164a",
   "metadata": {},
   "outputs": [],
   "source": [
    "from csv import DictWriter"
   ]
  },
  {
   "cell_type": "code",
   "execution_count": 22,
   "id": "f3cedd6b",
   "metadata": {},
   "outputs": [
    {
     "data": {
      "text/plain": [
       "['__class__',\n",
       " '__delattr__',\n",
       " '__dict__',\n",
       " '__dir__',\n",
       " '__doc__',\n",
       " '__eq__',\n",
       " '__format__',\n",
       " '__ge__',\n",
       " '__getattribute__',\n",
       " '__gt__',\n",
       " '__hash__',\n",
       " '__init__',\n",
       " '__init_subclass__',\n",
       " '__le__',\n",
       " '__lt__',\n",
       " '__module__',\n",
       " '__ne__',\n",
       " '__new__',\n",
       " '__reduce__',\n",
       " '__reduce_ex__',\n",
       " '__repr__',\n",
       " '__setattr__',\n",
       " '__sizeof__',\n",
       " '__str__',\n",
       " '__subclasshook__',\n",
       " '__weakref__',\n",
       " '_dict_to_list',\n",
       " 'writeheader',\n",
       " 'writerow',\n",
       " 'writerows']"
      ]
     },
     "execution_count": 22,
     "metadata": {},
     "output_type": "execute_result"
    }
   ],
   "source": [
    "dir(DictWriter)"
   ]
  },
  {
   "cell_type": "code",
   "execution_count": 24,
   "id": "9a9fde53",
   "metadata": {},
   "outputs": [
    {
     "name": "stdout",
     "output_type": "stream",
     "text": [
      "Informe o nome do jogador: Fernando\n",
      "Informe a posição do jogadorLevantador\n",
      "Informe o nome do jogador: Alan\n",
      "Informe a posição do jogadorOposto\n",
      "Informe o nome do jogador: Isac\n",
      "Informe a posição do jogadorCentral\n",
      "Informe o nome do jogador: Rodrigo\n",
      "Informe a posição do jogadorPonteiro\n",
      "Informe o nome do jogador: Eduardo\n",
      "Informe a posição do jogadorLevantador\n",
      "Informe o nome do jogador: Wallece\n",
      "Informe a posição do jogadorOposto\n",
      "Informe o nome do jogador: sair\n",
      "Informe a posição do jogadorsair\n"
     ]
    }
   ],
   "source": [
    "with open('file/jogadores_volei.csv', 'w', encoding='UTF-8') as df:\n",
    "    cabecalho = ['Jogador', 'Posição']\n",
    "    jogadores = DictWriter(df, fieldnames=cabecalho)\n",
    "    jogadores.writeheader()\n",
    "    jogador = None\n",
    "    while jogador != 'sair':\n",
    "        jogador = input('Informe o nome do jogador: ')\n",
    "        posicao = input('Informe a posição do jogador')\n",
    "        jogadores.writerow({'Jogador': jogador, 'Posição': posicao})"
   ]
  },
  {
   "cell_type": "code",
   "execution_count": null,
   "id": "45578288",
   "metadata": {},
   "outputs": [],
   "source": []
  }
 ],
 "metadata": {
  "kernelspec": {
   "display_name": "Python 3 (ipykernel)",
   "language": "python",
   "name": "python3"
  },
  "language_info": {
   "codemirror_mode": {
    "name": "ipython",
    "version": 3
   },
   "file_extension": ".py",
   "mimetype": "text/x-python",
   "name": "python",
   "nbconvert_exporter": "python",
   "pygments_lexer": "ipython3",
   "version": "3.10.9"
  }
 },
 "nbformat": 4,
 "nbformat_minor": 5
}
