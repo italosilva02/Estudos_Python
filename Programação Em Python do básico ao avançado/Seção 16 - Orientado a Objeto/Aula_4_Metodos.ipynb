{
  "nbformat": 4,
  "nbformat_minor": 0,
  "metadata": {
    "colab": {
      "provenance": []
    },
    "kernelspec": {
      "name": "python3",
      "display_name": "Python 3"
    },
    "language_info": {
      "name": "python"
    }
  },
  "cells": [
    {
      "cell_type": "code",
      "execution_count": null,
      "metadata": {
        "colab": {
          "base_uri": "https://localhost:8080/"
        },
        "id": "N6X6Cw20Ehgo",
        "outputId": "f807ecf4-ebbb-402c-b408-20b3700179bf"
      },
      "outputs": [
        {
          "output_type": "stream",
          "name": "stdout",
          "text": [
            "ola mundo\n"
          ]
        }
      ],
      "source": [
        "print('ola mundo')"
      ]
    },
    {
      "cell_type": "markdown",
      "source": [
        "Metodos representam do objeto, ou seja, as ações que este objeto pode realizar no seu sistema.\n",
        "Em python, dividimos os metodos em 2 grupos\n",
        "\n",
        "Metodos de instância\n",
        "Metodos de Classe"
      ],
      "metadata": {
        "id": "u4UcP0hXEvHQ"
      }
    },
    {
      "cell_type": "markdown",
      "source": [
        "Métodos em Python são funções que estão associadas a objetos. Eles permitem que você defina comportamentos específicos para objetos de uma classe. Métodos são essenciais na programação orientada a objetos, pois eles permitem que você manipule e interaja com os dados internos de um objeto de maneira controlada.\n",
        "\n",
        "Aqui estão algumas informações importantes sobre métodos em Python:\n",
        "\n",
        "1. **Métodos de Instância**: Métodos que são associados a instâncias específicas de uma classe. Eles podem acessar e modificar os atributos da instância.\n",
        "\n",
        "```python\n",
        "class MinhaClasse:\n",
        "    def __init__(self, valor):\n",
        "        self.valor = valor\n",
        "\n",
        "    def dobrar(self):\n",
        "        self.valor *= 2\n",
        "\n",
        "objeto = MinhaClasse(5)\n",
        "objeto.dobrar()\n",
        "print(objeto.valor)  # Isso imprimirá 10\n",
        "```\n",
        "\n",
        "2. **Métodos de Classe**: Métodos que são associados à classe em vez de instâncias individuais. Eles geralmente são decorados com `@classmethod` e têm o primeiro parâmetro chamado de `cls`, que se refere à classe em si.\n",
        "\n",
        "```python\n",
        "class MinhaClasse:\n",
        "    atributo_de_classe = 0\n",
        "\n",
        "    @classmethod\n",
        "    def incrementar_atributo(cls):\n",
        "        cls.atributo_de_classe += 1\n",
        "\n",
        "MinhaClasse.incrementar_atributo()\n",
        "print(MinhaClasse.atributo_de_classe)  # Isso imprimirá 1\n",
        "```\n",
        "\n",
        "3. **Métodos Estáticos**: Métodos estáticos são definidos usando o decorador `@staticmethod`. Eles não recebem uma referência à instância ou à classe e, portanto, não podem acessar ou modificar atributos de instância ou de classe. São úteis quando você precisa de uma função relacionada à classe, mas que não depende do estado da classe.\n",
        "\n",
        "```python\n",
        "class MinhaClasse:\n",
        "    @staticmethod\n",
        "    def somar(a, b):\n",
        "        return a + b\n",
        "\n",
        "resultado = MinhaClasse.somar(3, 5)\n",
        "print(resultado)  # Isso imprimirá 8\n",
        "```\n",
        "\n",
        "4. **Métodos Mágicos (Dunder Methods)**: São métodos especiais que têm nomes iniciados e terminados com dois sublinhados duplos (dunder). Eles são usados para definir o comportamento de operações específicas, como `__init__` para a inicialização de objetos ou `__str__` para representar uma instância como uma string.\n",
        "\n",
        "```python\n",
        "class MinhaClasse:\n",
        "    def __init__(self, valor):\n",
        "        self.valor = valor\n",
        "\n",
        "    def __str__(self):\n",
        "        return f'Valor: {self.valor}'\n",
        "\n",
        "objeto = MinhaClasse(42)\n",
        "print(objeto)  # Isso imprimirá \"Valor: 42\"\n",
        "```\n",
        "\n",
        "Esses são os conceitos básicos de métodos em Python. Eles desempenham um papel fundamental na criação de classes e objetos que podem encapsular dados e comportamentos relacionados, tornando o código mais organizado e reutilizável."
      ],
      "metadata": {
        "id": "qIkxCSXcFO1Z"
      }
    },
    {
      "cell_type": "markdown",
      "source": [
        "Métodos de Classe: Métodos que são associados à classe em vez de instâncias individuais. Eles geralmente são decorados com @classmethod e têm o primeiro parâmetro chamado de cls, que se refere à classe em si."
      ],
      "metadata": {
        "id": "Dczqu45aFQVP"
      }
    },
    {
      "cell_type": "code",
      "source": [
        "class MinhaClasse:\n",
        "    def __init__(self, valor):\n",
        "        self.valor = valor\n",
        "\n",
        "    def __str__(self):\n",
        "        return f'Valor: {self.valor}'\n",
        "\n",
        "objeto = MinhaClasse(42)\n",
        "print(objeto)  # Isso imprimirá \"Valor: 42\""
      ],
      "metadata": {
        "colab": {
          "base_uri": "https://localhost:8080/"
        },
        "id": "DLzB0nfRyQ4F",
        "outputId": "befe0cbb-6cf1-44e0-bdcd-e7caadf61f23"
      },
      "execution_count": 3,
      "outputs": [
        {
          "output_type": "stream",
          "name": "stdout",
          "text": [
            "Valor: 42\n"
          ]
        }
      ]
    },
    {
      "cell_type": "code",
      "source": [
        "dir(MinhaClasse)"
      ],
      "metadata": {
        "colab": {
          "base_uri": "https://localhost:8080/"
        },
        "id": "rnq3GiF9yGtR",
        "outputId": "3091aecf-0949-4b5f-8abe-4fd019e9f83f"
      },
      "execution_count": 4,
      "outputs": [
        {
          "output_type": "execute_result",
          "data": {
            "text/plain": [
              "['__class__',\n",
              " '__delattr__',\n",
              " '__dict__',\n",
              " '__dir__',\n",
              " '__doc__',\n",
              " '__eq__',\n",
              " '__format__',\n",
              " '__ge__',\n",
              " '__getattribute__',\n",
              " '__gt__',\n",
              " '__hash__',\n",
              " '__init__',\n",
              " '__init_subclass__',\n",
              " '__le__',\n",
              " '__lt__',\n",
              " '__module__',\n",
              " '__ne__',\n",
              " '__new__',\n",
              " '__reduce__',\n",
              " '__reduce_ex__',\n",
              " '__repr__',\n",
              " '__setattr__',\n",
              " '__sizeof__',\n",
              " '__str__',\n",
              " '__subclasshook__',\n",
              " '__weakref__']"
            ]
          },
          "metadata": {},
          "execution_count": 4
        }
      ]
    },
    {
      "cell_type": "code",
      "source": [
        "class MinhaClasse:\n",
        "    atributo_de_classe = 0\n",
        "\n",
        "    @classmethod\n",
        "    def incrementar_atributo(cls):\n",
        "        cls.atributo_de_classe += 1\n",
        "\n",
        "MinhaClasse.incrementar_atributo()\n",
        "print(MinhaClasse.atributo_de_classe)  # Isso imprimirá 1\n"
      ],
      "metadata": {
        "colab": {
          "base_uri": "https://localhost:8080/"
        },
        "id": "A2TO0mHlFUpb",
        "outputId": "190c2519-ab66-46a9-9d07-0ea6c00d9526"
      },
      "execution_count": null,
      "outputs": [
        {
          "output_type": "stream",
          "name": "stdout",
          "text": [
            "1\n"
          ]
        }
      ]
    },
    {
      "cell_type": "markdown",
      "source": [
        "Métodos Estáticos: Métodos estáticos são definidos usando o decorador @staticmethod. Eles não recebem uma referência à instância ou à classe e, portanto, não podem acessar ou modificar atributos de instância ou de classe. São úteis quando você precisa de uma função relacionada à classe, mas que não depende do estado da classe."
      ],
      "metadata": {
        "id": "BAz0gnebFdsv"
      }
    },
    {
      "cell_type": "markdown",
      "source": [
        "Métodos Mágicos (Dunder Methods): São métodos especiais que têm nomes iniciados e terminados com dois sublinhados duplos (dunder). Eles são usados para definir o comportamento de operações específicas, como __init__ para a inicialização de objetos ou __str__ para representar uma instância como uma string."
      ],
      "metadata": {
        "id": "pxbYgl6yFh5_"
      }
    },
    {
      "cell_type": "code",
      "source": [
        "class MinhaClasse:\n",
        "    def __init__(self, valor):\n",
        "        self.valor = valor\n",
        "\n",
        "    def __str__(self):\n",
        "        return f'Valor: {self.valor}'\n",
        "\n",
        "objeto = MinhaClasse(42)\n",
        "print(objeto)  # Isso imprimirá \"Valor: 42\"\n"
      ],
      "metadata": {
        "id": "l9Irk9xsFixx"
      },
      "execution_count": null,
      "outputs": []
    },
    {
      "cell_type": "markdown",
      "source": [
        "Esses são os conceitos básicos de métodos em Python. Eles desempenham um papel fundamental na criação de classes e objetos que podem encapsular dados e comportamentos relacionados, tornando o código mais organizado e reutilizável."
      ],
      "metadata": {
        "id": "zZdRYYYQFlCx"
      }
    },
    {
      "cell_type": "code",
      "source": [
        "class Lalmpada():\n",
        "  def __init__(self, cor, voltagem, luminosidade):\n",
        "    self.__cor = cor,\n",
        "    self.__voltagem = voltagem,\n",
        "    self.__luminosidade = luminosidade\n",
        "    self.__ligada = False\n",
        "\n"
      ],
      "metadata": {
        "id": "v-J3vyc2FnjY"
      },
      "execution_count": null,
      "outputs": []
    },
    {
      "cell_type": "code",
      "source": [
        "class ContaCorrente():\n",
        "  contador = 4999\n",
        "  def __init__(self, limite, saldo):\n",
        "    self.__numero = ContaCorrente.contador + 1\n",
        "    self.__limite = limite\n",
        "    self.__saldo = saldo\n",
        "\n",
        "    ContaCorrente.contador = self.__numero"
      ],
      "metadata": {
        "id": "idUCApshF56D"
      },
      "execution_count": null,
      "outputs": []
    },
    {
      "cell_type": "code",
      "source": [
        "class Produto():\n",
        "  contador = 0\n",
        "  def __init__(self, nome, descricao, valor):\n",
        "    self.__id = Produto.contador + 1\n",
        "    self.__nome = nome  # Remova a vírgula aqui\n",
        "    self.__descricao = descricao  # Remova a vírgula aqui\n",
        "    self.__valor = valor  # Remova a vírgula aqui\n",
        "\n",
        "    Produto.contador = self.__id\n"
      ],
      "metadata": {
        "id": "bszBUNzGGQZg"
      },
      "execution_count": null,
      "outputs": []
    },
    {
      "cell_type": "code",
      "source": [
        "produto = Produto('Televisão', 'TV 63p', 2000)\n",
        "produto1 = Produto('Video Game', 'XBox Series x', 1700)\n",
        "produto2 = Produto('Radio', 'A pilha', 100)\n",
        "produto3 = Produto('Televisão', 'TV 32p',  1200)"
      ],
      "metadata": {
        "id": "sb7dAHHVHz44"
      },
      "execution_count": null,
      "outputs": []
    },
    {
      "cell_type": "code",
      "source": [
        "print(produto._Produto__id)\n",
        "print(produto1._Produto__id)\n",
        "print(produto2._Produto__id)\n",
        "print(produto3._Produto__id)"
      ],
      "metadata": {
        "colab": {
          "base_uri": "https://localhost:8080/"
        },
        "id": "WjBJWhAaIPVO",
        "outputId": "fb4a4096-d279-4d27-e3f5-a3d308652c28"
      },
      "execution_count": null,
      "outputs": [
        {
          "output_type": "stream",
          "name": "stdout",
          "text": [
            "1\n",
            "2\n",
            "3\n",
            "4\n"
          ]
        }
      ]
    },
    {
      "cell_type": "code",
      "source": [
        "class Usuario():\n",
        "  def __init__(self, nome, email, senha):\n",
        "    self.__nome = nome,\n",
        "    self.__email = email,\n",
        "    self.__senha = senha"
      ],
      "metadata": {
        "id": "UAOGYdJSGgwq"
      },
      "execution_count": null,
      "outputs": []
    },
    {
      "cell_type": "markdown",
      "source": [
        "O metodo dunder __init__ é um metodo especial chamado de construtor e sua função é construir o objeto a partir da classe."
      ],
      "metadata": {
        "id": "perl_kYUJfQL"
      }
    },
    {
      "cell_type": "markdown",
      "source": [
        "Todo elemento em python que inicia e finaliza com __ é chamado de dunder (Double Underline)\n",
        "Atenção, por mais que possamos criar nossas próprias funções utilizando dunder __ no inicio e no fim __ não é aconselhado. Python possui vários métodos com essa forma de nomeclatura e pode ser que mudemos o comportanmento dessas funções internas da linguagem. Então eviste ao máximo."
      ],
      "metadata": {
        "id": "AUxrdgTnJ3Bc"
      }
    },
    {
      "cell_type": "markdown",
      "source": [],
      "metadata": {
        "id": "CcoDPZ8MLIGF"
      }
    },
    {
      "cell_type": "code",
      "source": [
        "dir()"
      ],
      "metadata": {
        "colab": {
          "base_uri": "https://localhost:8080/"
        },
        "id": "ArR5VrUEKCFX",
        "outputId": "0d71fda0-8f2a-4268-f50e-0ebfed3015a3"
      },
      "execution_count": null,
      "outputs": [
        {
          "output_type": "execute_result",
          "data": {
            "text/plain": [
              "['ContaCorrente',\n",
              " 'In',\n",
              " 'MinhaClasse',\n",
              " 'Out',\n",
              " 'Palmpada',\n",
              " 'Produto',\n",
              " 'Usuario',\n",
              " '_',\n",
              " '__',\n",
              " '___',\n",
              " '__builtin__',\n",
              " '__builtins__',\n",
              " '__doc__',\n",
              " '__loader__',\n",
              " '__name__',\n",
              " '__package__',\n",
              " '__spec__',\n",
              " '_dh',\n",
              " '_i',\n",
              " '_i1',\n",
              " '_i10',\n",
              " '_i11',\n",
              " '_i12',\n",
              " '_i13',\n",
              " '_i14',\n",
              " '_i15',\n",
              " '_i16',\n",
              " '_i17',\n",
              " '_i18',\n",
              " '_i19',\n",
              " '_i2',\n",
              " '_i20',\n",
              " '_i21',\n",
              " '_i22',\n",
              " '_i23',\n",
              " '_i24',\n",
              " '_i25',\n",
              " '_i3',\n",
              " '_i4',\n",
              " '_i5',\n",
              " '_i6',\n",
              " '_i7',\n",
              " '_i8',\n",
              " '_i9',\n",
              " '_ih',\n",
              " '_ii',\n",
              " '_iii',\n",
              " '_oh',\n",
              " 'exit',\n",
              " 'get_ipython',\n",
              " 'produto',\n",
              " 'produto1',\n",
              " 'produto2',\n",
              " 'produto3',\n",
              " 'quit']"
            ]
          },
          "metadata": {},
          "execution_count": 25
        }
      ]
    },
    {
      "cell_type": "code",
      "source": [
        "class Lampada:\n",
        "    def __init__(self, cor, voltagem):\n",
        "        self.cor = cor\n",
        "        self.voltagem = voltagem\n",
        "        self.ligada = False\n",
        "\n",
        "    def ligar(self):\n",
        "        if self.ligada:\n",
        "            print('Lâmpada já está ligada')\n",
        "        else:\n",
        "            self.ligada = True\n",
        "            print('Lâmpada ligada')\n",
        "\n",
        "    def desligar(self):\n",
        "        if not self.ligada:\n",
        "            print('Lâmpada já está desligada')\n",
        "        else:\n",
        "            self.ligada = False\n",
        "            print('Lâmpada desligada')\n",
        "\n",
        "# Criando uma instância da classe Lampada\n",
        "lampada1 = Lampada(\"Branca\", 220)\n",
        "\n",
        "# Ligar a lâmpada\n",
        "lampada1.ligar()\n"
      ],
      "metadata": {
        "colab": {
          "base_uri": "https://localhost:8080/"
        },
        "id": "aDtVRpa60VHz",
        "outputId": "6f720467-2552-4f4d-9d21-7dbdea0ec247"
      },
      "execution_count": 22,
      "outputs": [
        {
          "output_type": "stream",
          "name": "stdout",
          "text": [
            "Lâmpada ligada\n"
          ]
        }
      ]
    },
    {
      "cell_type": "code",
      "source": [
        "class Lampada:\n",
        "  def __init__(self, cor, voltagem):\n",
        "    self.cor = cor\n",
        "    self.voltagem = voltagem\n",
        "    self.ligada = False\n",
        "\n",
        "  def ligar(self):\n",
        "    if self.ligada == True:\n",
        "      print('Lampada já está ligada')\n",
        "    else:\n",
        "      self.ligada = True\n",
        "\n",
        "  def desligar(self):\n",
        "    if self.ligada == False:\n",
        "      print('Lampada já está ligada')\n",
        "    else:\n",
        "      self.lampada = False\n",
        "\n",
        "lampada1 = Lampada('Blue', 165)\n",
        "lampada1.ligar()\n",
        "lampada1.ligar()"
      ],
      "metadata": {
        "colab": {
          "base_uri": "https://localhost:8080/"
        },
        "id": "DM9La9RXyYRV",
        "outputId": "4f05438a-62e2-4ca3-9192-eaae1ee357af"
      },
      "execution_count": 21,
      "outputs": [
        {
          "output_type": "stream",
          "name": "stdout",
          "text": [
            "Lampada já está ligada\n"
          ]
        }
      ]
    },
    {
      "cell_type": "code",
      "source": [
        "dir()"
      ],
      "metadata": {
        "colab": {
          "base_uri": "https://localhost:8080/"
        },
        "id": "lYk6TAHA1BfV",
        "outputId": "7795b7c4-e4e6-40c5-b72f-13045dff7b6d"
      },
      "execution_count": 23,
      "outputs": [
        {
          "output_type": "execute_result",
          "data": {
            "text/plain": [
              "['In',\n",
              " 'Lampada',\n",
              " 'MinhaClasse',\n",
              " 'Out',\n",
              " '_',\n",
              " '_16',\n",
              " '_4',\n",
              " '__',\n",
              " '___',\n",
              " '__builtin__',\n",
              " '__builtins__',\n",
              " '__doc__',\n",
              " '__loader__',\n",
              " '__name__',\n",
              " '__package__',\n",
              " '__spec__',\n",
              " '_dh',\n",
              " '_i',\n",
              " '_i1',\n",
              " '_i10',\n",
              " '_i11',\n",
              " '_i12',\n",
              " '_i13',\n",
              " '_i14',\n",
              " '_i15',\n",
              " '_i16',\n",
              " '_i17',\n",
              " '_i18',\n",
              " '_i19',\n",
              " '_i2',\n",
              " '_i20',\n",
              " '_i21',\n",
              " '_i22',\n",
              " '_i23',\n",
              " '_i3',\n",
              " '_i4',\n",
              " '_i5',\n",
              " '_i6',\n",
              " '_i7',\n",
              " '_i8',\n",
              " '_i9',\n",
              " '_ih',\n",
              " '_ii',\n",
              " '_iii',\n",
              " '_oh',\n",
              " 'exit',\n",
              " 'get_ipython',\n",
              " 'lampada1',\n",
              " 'objeto',\n",
              " 'quit']"
            ]
          },
          "metadata": {},
          "execution_count": 23
        }
      ]
    },
    {
      "cell_type": "code",
      "source": [
        "dir(__builtins__)"
      ],
      "metadata": {
        "colab": {
          "base_uri": "https://localhost:8080/"
        },
        "id": "tMpWia8k1ez-",
        "outputId": "0a1aded5-10a8-41e7-c67d-4bca65d2c79b"
      },
      "execution_count": 24,
      "outputs": [
        {
          "output_type": "execute_result",
          "data": {
            "text/plain": [
              "['ArithmeticError',\n",
              " 'AssertionError',\n",
              " 'AttributeError',\n",
              " 'BaseException',\n",
              " 'BlockingIOError',\n",
              " 'BrokenPipeError',\n",
              " 'BufferError',\n",
              " 'BytesWarning',\n",
              " 'ChildProcessError',\n",
              " 'ConnectionAbortedError',\n",
              " 'ConnectionError',\n",
              " 'ConnectionRefusedError',\n",
              " 'ConnectionResetError',\n",
              " 'DeprecationWarning',\n",
              " 'EOFError',\n",
              " 'Ellipsis',\n",
              " 'EncodingWarning',\n",
              " 'EnvironmentError',\n",
              " 'Exception',\n",
              " 'False',\n",
              " 'FileExistsError',\n",
              " 'FileNotFoundError',\n",
              " 'FloatingPointError',\n",
              " 'FutureWarning',\n",
              " 'GeneratorExit',\n",
              " 'IOError',\n",
              " 'ImportError',\n",
              " 'ImportWarning',\n",
              " 'IndentationError',\n",
              " 'IndexError',\n",
              " 'InterruptedError',\n",
              " 'IsADirectoryError',\n",
              " 'KeyError',\n",
              " 'KeyboardInterrupt',\n",
              " 'LookupError',\n",
              " 'MemoryError',\n",
              " 'ModuleNotFoundError',\n",
              " 'NameError',\n",
              " 'None',\n",
              " 'NotADirectoryError',\n",
              " 'NotImplemented',\n",
              " 'NotImplementedError',\n",
              " 'OSError',\n",
              " 'OverflowError',\n",
              " 'PendingDeprecationWarning',\n",
              " 'PermissionError',\n",
              " 'ProcessLookupError',\n",
              " 'RecursionError',\n",
              " 'ReferenceError',\n",
              " 'ResourceWarning',\n",
              " 'RuntimeError',\n",
              " 'RuntimeWarning',\n",
              " 'StopAsyncIteration',\n",
              " 'StopIteration',\n",
              " 'SyntaxError',\n",
              " 'SyntaxWarning',\n",
              " 'SystemError',\n",
              " 'SystemExit',\n",
              " 'TabError',\n",
              " 'TimeoutError',\n",
              " 'True',\n",
              " 'TypeError',\n",
              " 'UnboundLocalError',\n",
              " 'UnicodeDecodeError',\n",
              " 'UnicodeEncodeError',\n",
              " 'UnicodeError',\n",
              " 'UnicodeTranslateError',\n",
              " 'UnicodeWarning',\n",
              " 'UserWarning',\n",
              " 'ValueError',\n",
              " 'Warning',\n",
              " 'ZeroDivisionError',\n",
              " '__IPYTHON__',\n",
              " '__build_class__',\n",
              " '__debug__',\n",
              " '__doc__',\n",
              " '__import__',\n",
              " '__loader__',\n",
              " '__name__',\n",
              " '__package__',\n",
              " '__spec__',\n",
              " 'abs',\n",
              " 'aiter',\n",
              " 'all',\n",
              " 'anext',\n",
              " 'any',\n",
              " 'ascii',\n",
              " 'bin',\n",
              " 'bool',\n",
              " 'breakpoint',\n",
              " 'bytearray',\n",
              " 'bytes',\n",
              " 'callable',\n",
              " 'chr',\n",
              " 'classmethod',\n",
              " 'compile',\n",
              " 'complex',\n",
              " 'copyright',\n",
              " 'credits',\n",
              " 'delattr',\n",
              " 'dict',\n",
              " 'dir',\n",
              " 'display',\n",
              " 'divmod',\n",
              " 'enumerate',\n",
              " 'eval',\n",
              " 'exec',\n",
              " 'execfile',\n",
              " 'filter',\n",
              " 'float',\n",
              " 'format',\n",
              " 'frozenset',\n",
              " 'get_ipython',\n",
              " 'getattr',\n",
              " 'globals',\n",
              " 'hasattr',\n",
              " 'hash',\n",
              " 'help',\n",
              " 'hex',\n",
              " 'id',\n",
              " 'input',\n",
              " 'int',\n",
              " 'isinstance',\n",
              " 'issubclass',\n",
              " 'iter',\n",
              " 'len',\n",
              " 'license',\n",
              " 'list',\n",
              " 'locals',\n",
              " 'map',\n",
              " 'max',\n",
              " 'memoryview',\n",
              " 'min',\n",
              " 'next',\n",
              " 'object',\n",
              " 'oct',\n",
              " 'open',\n",
              " 'ord',\n",
              " 'pow',\n",
              " 'print',\n",
              " 'property',\n",
              " 'range',\n",
              " 'repr',\n",
              " 'reversed',\n",
              " 'round',\n",
              " 'runfile',\n",
              " 'set',\n",
              " 'setattr',\n",
              " 'slice',\n",
              " 'sorted',\n",
              " 'staticmethod',\n",
              " 'str',\n",
              " 'sum',\n",
              " 'super',\n",
              " 'tuple',\n",
              " 'type',\n",
              " 'vars',\n",
              " 'zip']"
            ]
          },
          "metadata": {},
          "execution_count": 24
        }
      ]
    },
    {
      "cell_type": "code",
      "source": [
        "class Corredor:\n",
        "  corredor = 500\n",
        "  def __init__(self, cor, altura, peso):\n",
        "    self.numero = Corredor.corredor + 1\n",
        "    self.cor = cor\n",
        "    self.altura = altura\n",
        "    self.peso = peso\n",
        "\n",
        "    Corredor.corredor = self.numero\n",
        "\n",
        "\n",
        "  def mudar_cor(self, cor):\n",
        "    self.cor = cor\n",
        "\n",
        "  def corredor_completo(self):\n",
        "    return (f'Cor: {self.cor} numero: {self.numero}')"
      ],
      "metadata": {
        "id": "zFXhhObO3GeG"
      },
      "execution_count": 46,
      "outputs": []
    },
    {
      "cell_type": "code",
      "source": [
        "corredor1 = Corredor('Azul', 1.80, 80)\n",
        "corredor2 = Corredor('Verde', 1.75, 75)\n",
        "corredor3 = Corredor('Vermelho', 1.70, 70)\n",
        "corredor4 = Corredor('Amarelo', 1.85, 90)\n",
        "corredor5 = Corredor('Roxo', 1.78, 78)\n",
        "corredor6 = Corredor('Laranja', 1.77, 76)\n",
        "corredor7 = Corredor('Preto', 1.82, 85)\n",
        "corredor8 = Corredor('Branco', 1.72, 72)\n",
        "corredor9 = Corredor('Cinza', 1.79, 79)\n",
        "corredor10 = Corredor('Marrom', 1.86, 95)"
      ],
      "metadata": {
        "id": "YtIPei_E4GcB"
      },
      "execution_count": 47,
      "outputs": []
    },
    {
      "cell_type": "code",
      "source": [
        "corredor10.mudar_cor('Rosa')"
      ],
      "metadata": {
        "id": "Zv5014DS5wro"
      },
      "execution_count": 48,
      "outputs": []
    },
    {
      "cell_type": "code",
      "source": [
        "print(corredor1.corredor_completo())\n",
        "print(corredor2.corredor_completo())\n",
        "print(corredor3.corredor_completo())\n",
        "print(corredor4.corredor_completo())\n",
        "print(corredor5.corredor_completo())\n",
        "print(corredor6.corredor_completo())\n",
        "print(corredor7.corredor_completo())\n",
        "print(corredor8.corredor_completo())\n",
        "print(corredor9.corredor_completo())\n",
        "print(corredor10.corredor_completo())"
      ],
      "metadata": {
        "colab": {
          "base_uri": "https://localhost:8080/"
        },
        "id": "srikjvc54NSB",
        "outputId": "e0c6be38-0e17-4f46-9409-46a9b6d1d027"
      },
      "execution_count": 49,
      "outputs": [
        {
          "output_type": "stream",
          "name": "stdout",
          "text": [
            "Cor: Azul numero: 501\n",
            "Cor: Verde numero: 502\n",
            "Cor: Vermelho numero: 503\n",
            "Cor: Amarelo numero: 504\n",
            "Cor: Roxo numero: 505\n",
            "Cor: Laranja numero: 506\n",
            "Cor: Preto numero: 507\n",
            "Cor: Branco numero: 508\n",
            "Cor: Cinza numero: 509\n",
            "Cor: Rosa numero: 510\n"
          ]
        }
      ]
    },
    {
      "cell_type": "code",
      "source": [
        "!pip install passlib"
      ],
      "metadata": {
        "colab": {
          "base_uri": "https://localhost:8080/"
        },
        "id": "v8ip4UrJ7iKw",
        "outputId": "99f1dd05-c369-4b01-bc86-06b4e4dfd145"
      },
      "execution_count": 50,
      "outputs": [
        {
          "output_type": "stream",
          "name": "stdout",
          "text": [
            "Collecting passlib\n",
            "  Downloading passlib-1.7.4-py2.py3-none-any.whl (525 kB)\n",
            "\u001b[?25l     \u001b[90m━━━━━━━━━━━━━━━━━━━━━━━━━━━━━━━━━━━━━━━━\u001b[0m \u001b[32m0.0/525.6 kB\u001b[0m \u001b[31m?\u001b[0m eta \u001b[36m-:--:--\u001b[0m\r\u001b[2K     \u001b[91m━━━━━━━━━━━━━━\u001b[0m\u001b[90m╺\u001b[0m\u001b[90m━━━━━━━━━━━━━━━━━━━━━━━━\u001b[0m \u001b[32m194.6/525.6 kB\u001b[0m \u001b[31m5.8 MB/s\u001b[0m eta \u001b[36m0:00:01\u001b[0m\r\u001b[2K     \u001b[90m━━━━━━━━━━━━━━━━━━━━━━━━━━━━━━━━━━━━━━━\u001b[0m \u001b[32m525.6/525.6 kB\u001b[0m \u001b[31m7.9 MB/s\u001b[0m eta \u001b[36m0:00:00\u001b[0m\n",
            "\u001b[?25hInstalling collected packages: passlib\n",
            "Successfully installed passlib-1.7.4\n"
          ]
        }
      ]
    },
    {
      "cell_type": "code",
      "source": [
        "from passlib.hash import pbkdf2_sha256 as crip"
      ],
      "metadata": {
        "id": "qIXKzfjS9tZW"
      },
      "execution_count": 69,
      "outputs": []
    },
    {
      "cell_type": "code",
      "source": [
        "class Usuario:\n",
        "  id = 500\n",
        "  def __init__(self, nome, sobrenome, email, senha, telefone):\n",
        "    self._id = Usuario.id + 1\n",
        "    self._nome = nome\n",
        "    self._sobrenome = sobrenome\n",
        "    self._email = email\n",
        "    self._senha = crip.encrypt(senha, rounds=20000, salt_size=16)\n",
        "    self._telefone = telefone\n",
        "\n",
        "    id = self._id\n",
        "  def dados_completos(self):\n",
        "    return (f'User: {self._nome}, Sobrenome; {self._sobrenome}')\n",
        "\n",
        "  def check_senha(self, senha):\n",
        "    if crip.verify(senha, self._senha):\n",
        "      return True\n",
        "    else:\n",
        "      return False\n"
      ],
      "metadata": {
        "id": "4vCJx_da7ohU"
      },
      "execution_count": 72,
      "outputs": []
    },
    {
      "cell_type": "markdown",
      "source": [
        "Dados criados utilizando chatgpt. Nenhuma informação real foi utilizada"
      ],
      "metadata": {
        "id": "JOkq-hgl8uad"
      }
    },
    {
      "cell_type": "code",
      "source": [
        "usuario1 = Usuario('Alice', 'Silva', 'alice@example.com', 'senha1', '1234567890')\n",
        "usuario2 = Usuario('Bob', 'Santos', 'bob@example.com', 'senha2', '9876543210')\n",
        "usuario3 = Usuario('Carol', 'Oliveira', 'carol@example.com', 'senha3', '5555555555')\n",
        "usuario4 = Usuario('David', 'Ferreira', 'david@example.com', 'senha4', '4444444444')\n",
        "usuario5 = Usuario('Eva', 'Gomes', 'eva@example.com', 'senha5', '3333333333')\n",
        "usuario6 = Usuario('Fernando', 'Ribeiro', 'fernando@example.com', 'senha6', '2222222222')\n",
        "usuario7 = Usuario('Giovanna', 'Alves', 'giovanna@example.com', 'senha7', '1111111111')\n",
        "usuario8 = Usuario('Hugo', 'Lima', 'hugo@example.com', 'senha8', '9999999999')\n",
        "usuario9 = Usuario('Isabela', 'Martins', 'isabela@example.com', 'senha9', '7777777777')\n",
        "usuario10 = Usuario('João', 'Pereira', 'joao@example.com', 'senha10', '6666666666')"
      ],
      "metadata": {
        "colab": {
          "base_uri": "https://localhost:8080/"
        },
        "id": "-9G0riRj8zE5",
        "outputId": "f1c91815-b121-4cc4-a349-846b58be193a"
      },
      "execution_count": 73,
      "outputs": [
        {
          "output_type": "stream",
          "name": "stderr",
          "text": [
            "<ipython-input-72-a5017e61fe21>:8: DeprecationWarning: the method passlib.handlers.pbkdf2.pbkdf2_sha256.encrypt() is deprecated as of Passlib 1.7, and will be removed in Passlib 2.0, use .hash() instead.\n",
            "  self._senha = crip.encrypt(senha, rounds=20000, salt_size=16)\n"
          ]
        }
      ]
    },
    {
      "cell_type": "code",
      "source": [
        "usuarios = [usuario1, usuario2, usuario3, usuario4, usuario5, usuario6, usuario7, usuario8, usuario9, usuario10]"
      ],
      "metadata": {
        "id": "9g-9znov86yW"
      },
      "execution_count": 74,
      "outputs": []
    },
    {
      "cell_type": "code",
      "source": [
        "for i in usuarios:\n",
        "  print(i.dados_completos())"
      ],
      "metadata": {
        "colab": {
          "base_uri": "https://localhost:8080/"
        },
        "id": "HCHWRrMc87so",
        "outputId": "d148730e-842b-480e-8575-5442671cff23"
      },
      "execution_count": 75,
      "outputs": [
        {
          "output_type": "stream",
          "name": "stdout",
          "text": [
            "User: Alice, Sobrenome; Silva\n",
            "User: Bob, Sobrenome; Santos\n",
            "User: Carol, Sobrenome; Oliveira\n",
            "User: David, Sobrenome; Ferreira\n",
            "User: Eva, Sobrenome; Gomes\n",
            "User: Fernando, Sobrenome; Ribeiro\n",
            "User: Giovanna, Sobrenome; Alves\n",
            "User: Hugo, Sobrenome; Lima\n",
            "User: Isabela, Sobrenome; Martins\n",
            "User: João, Sobrenome; Pereira\n"
          ]
        }
      ]
    },
    {
      "cell_type": "code",
      "source": [
        "for i in usuarios:\n",
        "  print(i._email)"
      ],
      "metadata": {
        "colab": {
          "base_uri": "https://localhost:8080/"
        },
        "id": "nCXLhM1-BxN_",
        "outputId": "8d645a05-a947-48ab-eeb3-ee0695f584ea"
      },
      "execution_count": 90,
      "outputs": [
        {
          "output_type": "stream",
          "name": "stdout",
          "text": [
            "alice@example.com\n",
            "bob@example.com\n",
            "carol@example.com\n",
            "david@example.com\n",
            "eva@example.com\n",
            "fernando@example.com\n",
            "giovanna@example.com\n",
            "hugo@example.com\n",
            "isabela@example.com\n",
            "joao@example.com\n"
          ]
        }
      ]
    },
    {
      "cell_type": "code",
      "source": [
        "for i in usuarios:\n",
        "  print(i.senha) #Erro pois o atributo é privado"
      ],
      "metadata": {
        "colab": {
          "base_uri": "https://localhost:8080/",
          "height": 193
        },
        "id": "Hxg0N-7X9iDa",
        "outputId": "ad026d06-986f-4571-e769-562c13b8dd2b"
      },
      "execution_count": 76,
      "outputs": [
        {
          "output_type": "error",
          "ename": "AttributeError",
          "evalue": "ignored",
          "traceback": [
            "\u001b[0;31m---------------------------------------------------------------------------\u001b[0m",
            "\u001b[0;31mAttributeError\u001b[0m                            Traceback (most recent call last)",
            "\u001b[0;32m<ipython-input-76-9d5117b84c8e>\u001b[0m in \u001b[0;36m<cell line: 1>\u001b[0;34m()\u001b[0m\n\u001b[1;32m      1\u001b[0m \u001b[0;32mfor\u001b[0m \u001b[0mi\u001b[0m \u001b[0;32min\u001b[0m \u001b[0musuarios\u001b[0m\u001b[0;34m:\u001b[0m\u001b[0;34m\u001b[0m\u001b[0;34m\u001b[0m\u001b[0m\n\u001b[0;32m----> 2\u001b[0;31m   \u001b[0mprint\u001b[0m\u001b[0;34m(\u001b[0m\u001b[0mi\u001b[0m\u001b[0;34m.\u001b[0m\u001b[0msenha\u001b[0m\u001b[0;34m)\u001b[0m \u001b[0;31m#Erro pois o atributo é privado\u001b[0m\u001b[0;34m\u001b[0m\u001b[0;34m\u001b[0m\u001b[0m\n\u001b[0m",
            "\u001b[0;31mAttributeError\u001b[0m: 'Usuario' object has no attribute 'senha'"
          ]
        }
      ]
    },
    {
      "cell_type": "code",
      "source": [
        "for i in usuarios:\n",
        "  print(i._senha)"
      ],
      "metadata": {
        "colab": {
          "base_uri": "https://localhost:8080/"
        },
        "id": "g30Jheml9bsS",
        "outputId": "fd6c612c-8805-4cf7-9e82-e642354ced72"
      },
      "execution_count": 77,
      "outputs": [
        {
          "output_type": "stream",
          "name": "stdout",
          "text": [
            "$pbkdf2-sha256$20000$BkDonTMGgHCOsfZeC.H8/w$JK5/kkWwDERS/3.BuNxJk6nVhJDEfx1GGYWHQWnHs8Q\n",
            "$pbkdf2-sha256$20000$qzWmVCqllBLi3Nt7j5Fyrg$4nDUyVp2x06tqvZczhu.tRyzQZ00dQJgZW72gJUE.4Y\n",
            "$pbkdf2-sha256$20000$YMy515pzrhXCmLN2rtU6Rw$6nwayU1Hdwld.mA/mDwSRFP4maoTnhrNonKmTkW78Ew\n",
            "$pbkdf2-sha256$20000$4by3llIq5ZwTwjhnLAUAYA$jJk.lFq3uON9IvTtGIPFVFNbdTUTGj46jxoeWy1UEw4\n",
            "$pbkdf2-sha256$20000$t3bOGWOM8R4DAMD4fw.BsA$MsMdteR5gzMAHDkNHH8C61wKiCzuA1GUqOY6rnpZkHE\n",
            "$pbkdf2-sha256$20000$FeJcq9X6P2esNSaE0Pq/Vw$0kQmb2UQsNTiWcw3.as9/5NE0Iv5c5RfNOJi2p3Ol30\n",
            "$pbkdf2-sha256$20000$X4txbm3t3XuP8f4/B4AwRg$W0.n/evOU1bisih8Mfh1sDeYDkIfC3JqG1HSIvwmhNs\n",
            "$pbkdf2-sha256$20000$BqCUkvIeA.B8753zHqNU6g$WCM.NIme77KcH3813BV8.FnwHyCeFPHQFFHg2N/efr8\n",
            "$pbkdf2-sha256$20000$mlOKkTJGCGGs9d77/7.3tg$7Wpnc34vlspydqqqkV0s1WTj8LOjX7Sfqtqg9UVN0n0\n",
            "$pbkdf2-sha256$20000$Z8x5z3kvRej9X2stpbSWcg$sQdvt3pD.aVrx/L.yX0gc6.ADLw2H3knkNGQUqXHHcM\n"
          ]
        }
      ]
    },
    {
      "cell_type": "code",
      "source": [],
      "metadata": {
        "colab": {
          "base_uri": "https://localhost:8080/",
          "height": 35
        },
        "id": "nOoDZm439qpg",
        "outputId": "ce8ee18b-edfb-44b1-ab86-3ae783aaa566"
      },
      "execution_count": 79,
      "outputs": [
        {
          "output_type": "execute_result",
          "data": {
            "text/plain": [
              "'$pbkdf2-sha256$20000$BkDonTMGgHCOsfZeC.H8/w$JK5/kkWwDERS/3.BuNxJk6nVhJDEfx1GGYWHQWnHs8Q'"
            ],
            "application/vnd.google.colaboratory.intrinsic+json": {
              "type": "string"
            }
          },
          "metadata": {},
          "execution_count": 79
        }
      ]
    },
    {
      "cell_type": "code",
      "source": [
        "crip.identify(usuario1._senha)"
      ],
      "metadata": {
        "colab": {
          "base_uri": "https://localhost:8080/"
        },
        "id": "jUD8OFjT-6zZ",
        "outputId": "d5e058ef-d8aa-4848-c9c7-efb47438e70f"
      },
      "execution_count": 80,
      "outputs": [
        {
          "output_type": "execute_result",
          "data": {
            "text/plain": [
              "True"
            ]
          },
          "metadata": {},
          "execution_count": 80
        }
      ]
    },
    {
      "cell_type": "code",
      "source": [
        "nome = input('Informe o nome: ')\n",
        "sobrenome = input('Informe o sobrenome: ')\n",
        "email = input('informe o email: ')\n",
        "senha = input('Informe a senha: ')\n",
        "confirma_senha = input('Informe a senha novamente: ')\n",
        "telefone = input('Informe o telefone')\n",
        "\n",
        "if senha == confirma_senha:\n",
        "  user = Usuario(nome, sobrenome, email, senha, telefone)\n",
        "else:\n",
        "  print('Sistema encerrado. Tente novamente')\n",
        "  exit(42)"
      ],
      "metadata": {
        "colab": {
          "base_uri": "https://localhost:8080/"
        },
        "id": "_ZerPFhT_km4",
        "outputId": "20a0eb84-a96a-44ae-f179-2125b7a8deb9"
      },
      "execution_count": 91,
      "outputs": [
        {
          "name": "stdout",
          "output_type": "stream",
          "text": [
            "Informe o nome: Amanda\n",
            "Informe o sobrenome: Oliveira\n",
            "informe o email: amanda_ld@gmail.com\n",
            "Informe a senha: 54525485\n",
            "Informe a senha novamente: 54525485\n",
            "Informe o telefone62985457457\n"
          ]
        },
        {
          "output_type": "stream",
          "name": "stderr",
          "text": [
            "<ipython-input-72-a5017e61fe21>:8: DeprecationWarning: the method passlib.handlers.pbkdf2.pbkdf2_sha256.encrypt() is deprecated as of Passlib 1.7, and will be removed in Passlib 2.0, use .hash() instead.\n",
            "  self._senha = crip.encrypt(senha, rounds=20000, salt_size=16)\n"
          ]
        }
      ]
    },
    {
      "cell_type": "code",
      "source": [
        "print(user._senha)\n",
        "print(user._email)\n",
        "print(user._id)"
      ],
      "metadata": {
        "colab": {
          "base_uri": "https://localhost:8080/"
        },
        "id": "UddZ0ci9AmPV",
        "outputId": "e118764b-d278-4799-d89d-0c84ddd000f2"
      },
      "execution_count": 93,
      "outputs": [
        {
          "output_type": "stream",
          "name": "stdout",
          "text": [
            "$pbkdf2-sha256$20000$/Z.TEuK8t1aKsZaSMqY0Zg$cY84vhrq9qUbCF.qVvR.IV7FfxduxDwfXjH3uSjSVPM\n",
            "amanda_ld@gmail.com\n",
            "501\n"
          ]
        }
      ]
    },
    {
      "cell_type": "markdown",
      "source": [
        "**Explicação sobre *args e kwargs em Python\n",
        "\n",
        "Em Python, *args e **kwargs são recursos usados para trabalhar com funções que aceitam um número variável de argumentos posicionais e argumentos de palavra-chave. Eles são particularmente úteis quando você não sabe com antecedência quantos argumentos serão passados para uma função.\n",
        "\n",
        "*args (Argumentos de posição):\n",
        "\n",
        "*args permite que você passe um número arbitrário de argumentos posicionais para uma função.\n",
        "Os argumentos são coletados em uma tupla dentro da função, onde você pode acessá-los pelo índice.\n",
        "O nome args é uma convenção, mas você pode nomeá-lo de outra forma, desde que mantenha o asterisco * na frente.\n",
        "Exemplo:"
      ],
      "metadata": {
        "id": "XPG38_X6DAMR"
      }
    },
    {
      "cell_type": "code",
      "source": [
        "def somar(*args):\n",
        "    resultado = 0\n",
        "    for numero in args:\n",
        "        resultado += numero\n",
        "    return resultado\n"
      ],
      "metadata": {
        "id": "yhNybPImDAw4"
      },
      "execution_count": 94,
      "outputs": []
    },
    {
      "cell_type": "markdown",
      "source": [
        "Uso: somar(1, 2, 3, 4) retornará 10.\n",
        "\n",
        "**kwargs (Argumentos de palavra-chave):\n",
        "\n",
        "**kwargs permite que você passe um número arbitrário de argumentos de palavra-chave (chave-valor) para uma função.\n",
        "Os argumentos de palavra-chave são coletados em um dicionário dentro da função, onde você pode acessá-los pelas chaves.\n",
        "O nome kwargs é uma convenção, mas você pode nomeá-lo de outra forma, desde que mantenha os dois asteriscos ** na frente."
      ],
      "metadata": {
        "id": "entgRkteDFrS"
      }
    },
    {
      "cell_type": "code",
      "source": [
        "def exibir_info(**kwargs):\n",
        "    for chave, valor in kwargs.items():\n",
        "        print(f'{chave}: {valor}')"
      ],
      "metadata": {
        "id": "s7JBpBq6DGXL"
      },
      "execution_count": 95,
      "outputs": []
    },
    {
      "cell_type": "markdown",
      "source": [
        "Uso: exibir_info(nome='Alice', idade=30, cidade='São Paulo') exibirá:"
      ],
      "metadata": {
        "id": "HHAJZx6XDH3m"
      }
    },
    {
      "cell_type": "markdown",
      "source": [
        "Você pode combinar *args e **kwargs em uma mesma função, mas é importante seguir a ordem correta, com *args antes de **kwargs.\n",
        "\n",
        "Esses recursos são valiosos quando você precisa criar funções genéricas e flexíveis que podem lidar com diferentes números de argumentos. Eles são comuns em bibliotecas e em situações em que você não conhece todos os argumentos que podem ser passados antecipadamente."
      ],
      "metadata": {
        "id": "pNnSbp5_DMf5"
      }
    },
    {
      "cell_type": "code",
      "source": [
        "import random\n",
        "print(random.randint(1,80000))"
      ],
      "metadata": {
        "colab": {
          "base_uri": "https://localhost:8080/"
        },
        "id": "o8GumV1ZF0HT",
        "outputId": "dfc77c13-9eb0-4794-b62a-e3497972a6ff"
      },
      "execution_count": 107,
      "outputs": [
        {
          "output_type": "stream",
          "name": "stdout",
          "text": [
            "27236\n"
          ]
        }
      ]
    },
    {
      "cell_type": "code",
      "source": [
        "import random\n",
        "\n",
        "class Carro:\n",
        "  contador = 500 + 1\n",
        "  @classmethod #Decorador\n",
        "  def rodar(cls): #cls é a propria classe\n",
        "    return(f'Temos {cls.contador} rodados')\n",
        "\n",
        "  def __init__(self, cor,modelo, ano, portas):\n",
        "    self. cor = cor\n",
        "    self.modelo = modelo\n",
        "    self. ano = ano\n",
        "    self.portas = portas\n",
        "    self.ipva_pago = False\n",
        "    self._rodou = random.randint(1,50000)\n",
        "\n",
        "  def ipva_pagar(self):\n",
        "    if self.ipva_pago:\n",
        "      return f'IPVA já foi pago'\n",
        "    else:\n",
        "      self.ipva_pago = True\n"
      ],
      "metadata": {
        "id": "bh5mZbcXDO11"
      },
      "execution_count": 118,
      "outputs": []
    },
    {
      "cell_type": "code",
      "source": [
        "carro1 = Carro('Amarela', 'Ford Ka', 2018, 4)\n",
        "carro2 = Carro('Azul', 'Chevrolet Onix', 2020, 4)\n",
        "carro3 = Carro('Prata', 'Honda Civic', 2019, 4)\n",
        "carro4 = Carro('Vermelha', 'Volkswagen Gol', 2017, 2)\n",
        "carro5 = Carro('Branca', 'Toyota Corolla', 2021, 4)\n",
        "carro6 = Carro('Cinza', 'Hyundai HB20', 2019, 4)\n",
        "carro7 = Carro('Preto', 'Renault Sandero', 2016, 4)\n",
        "carro8 = Carro('Verde', 'Fiat Uno', 2015, 2)\n",
        "carro9 = Carro('Roxa', 'Nissan Versa', 2022, 4)\n",
        "carro10 = Carro('Laranja', 'Kia Picanto', 2020, 2)\n",
        "\n",
        "# Exibindo informações dos 10 carros\n",
        "carros = [carro1, carro2, carro3, carro4, carro5, carro6, carro7, carro8, carro9, carro10]\n",
        "\n",
        "for i, carro in enumerate(carros, start=1):\n",
        "    print(f\"Carro {i}: Cor: {carro.cor}, Modelo: {carro.modelo}, Ano: {carro.ano}, Portas: {carro.portas}, Rodou: {carro._rodou} : {carro.contador}\")\n",
        "\n",
        "# Chamando o método de classe para exibir o contador de carros\n",
        "\n",
        "#Neste código, criamos 10 instâncias da classe Carro com atributos diferentes e, em seguida, exibimos as informações de cada carro. Também chamamos o método de classe rodar para exibir o contador de carros. Você pode personalizar os atributos de cada carro conforme necessário.\n",
        "\n",
        "\n",
        "\n",
        "\n",
        "\n"
      ],
      "metadata": {
        "colab": {
          "base_uri": "https://localhost:8080/"
        },
        "id": "qPNWnQGoE_tV",
        "outputId": "ab00e5e3-0169-46d9-9787-b36d4eaa266b"
      },
      "execution_count": 121,
      "outputs": [
        {
          "output_type": "stream",
          "name": "stdout",
          "text": [
            "Carro 1: Cor: Amarela, Modelo: Ford Ka, Ano: 2018, Portas: 4, Rodou: 23949 : 501\n",
            "Carro 2: Cor: Azul, Modelo: Chevrolet Onix, Ano: 2020, Portas: 4, Rodou: 25928 : 501\n",
            "Carro 3: Cor: Prata, Modelo: Honda Civic, Ano: 2019, Portas: 4, Rodou: 2286 : 501\n",
            "Carro 4: Cor: Vermelha, Modelo: Volkswagen Gol, Ano: 2017, Portas: 2, Rodou: 14994 : 501\n",
            "Carro 5: Cor: Branca, Modelo: Toyota Corolla, Ano: 2021, Portas: 4, Rodou: 15732 : 501\n",
            "Carro 6: Cor: Cinza, Modelo: Hyundai HB20, Ano: 2019, Portas: 4, Rodou: 3525 : 501\n",
            "Carro 7: Cor: Preto, Modelo: Renault Sandero, Ano: 2016, Portas: 4, Rodou: 40834 : 501\n",
            "Carro 8: Cor: Verde, Modelo: Fiat Uno, Ano: 2015, Portas: 2, Rodou: 43900 : 501\n",
            "Carro 9: Cor: Roxa, Modelo: Nissan Versa, Ano: 2022, Portas: 4, Rodou: 38376 : 501\n",
            "Carro 10: Cor: Laranja, Modelo: Kia Picanto, Ano: 2020, Portas: 2, Rodou: 22326 : 501\n"
          ]
        }
      ]
    },
    {
      "cell_type": "code",
      "source": [
        "#Criamos metodos de classe para fazer acesso à atributos de classe"
      ],
      "metadata": {
        "id": "V_WsSnQHHL8Y"
      },
      "execution_count": 120,
      "outputs": []
    },
    {
      "cell_type": "code",
      "source": [
        "#Todos os metodos acima são públicos, portanto, podem ser acessados fora da classe."
      ],
      "metadata": {
        "id": "S6cjossTH9d2"
      },
      "execution_count": null,
      "outputs": []
    },
    {
      "cell_type": "code",
      "source": [
        "class Usuario:\n",
        "  id = 500\n",
        "  def __init__(self, nome, sobrenome, email, senha, telefone):\n",
        "    self._id = Usuario.id + 1\n",
        "    self._nome = nome\n",
        "    self._sobrenome = sobrenome\n",
        "    self._email = email\n",
        "    self._senha = crip.encrypt(senha, rounds=20000, salt_size=16)\n",
        "    self._telefone = telefone\n",
        "    print(f'Usuario criado: {self.__gera_usuario()}')\n",
        "\n",
        "    id = self._id\n",
        "  def dados_completos(self):\n",
        "    return (f'User: {self._nome}, Sobrenome; {self._sobrenome}')\n",
        "\n",
        "  def check_senha(self, senha):\n",
        "    if crip.verify(senha, self._senha):\n",
        "      return True\n",
        "    else:\n",
        "      return False\n",
        "\n",
        "  def __gera_usuario(self):\n",
        "    return(self._email.split('@')[0])"
      ],
      "metadata": {
        "id": "eeImTiKKIEBw"
      },
      "execution_count": 129,
      "outputs": []
    },
    {
      "cell_type": "code",
      "source": [
        "usuario1 = Usuario('Alice', 'Silva', 'alice@example.com', 'senha1', '1234567890')\n",
        "usuario2 = Usuario('Bob', 'Santos', 'bob@example.com', 'senha2', '9876543210')\n",
        "usuario3 = Usuario('Carol', 'Oliveira', 'carol@example.com', 'senha3', '5555555555')\n",
        "usuario4 = Usuario('David', 'Ferreira', 'david@example.com', 'senha4', '4444444444')\n",
        "usuario5 = Usuario('Eva', 'Gomes', 'eva@example.com', 'senha5', '3333333333')\n",
        "usuario6 = Usuario('Fernando', 'Ribeiro', 'fernando@example.com', 'senha6', '2222222222')\n",
        "usuario7 = Usuario('Giovanna', 'Alves', 'giovanna@example.com', 'senha7', '1111111111')\n",
        "usuario8 = Usuario('Hugo', 'Lima', 'hugo@example.com', 'senha8', '9999999999')\n",
        "usuario9 = Usuario('Isabela', 'Martins', 'isabela@example.com', 'senha9', '7777777777')\n",
        "usuario10 = Usuario('João', 'Pereira', 'joao@example.com', 'senha10', '6666666666')"
      ],
      "metadata": {
        "colab": {
          "base_uri": "https://localhost:8080/"
        },
        "id": "a7oWZHVCIlDQ",
        "outputId": "9d065ef8-adc6-4218-84ca-b34df23e3d1c"
      },
      "execution_count": 130,
      "outputs": [
        {
          "output_type": "stream",
          "name": "stdout",
          "text": [
            "Usuario criado: alice\n",
            "Usuario criado: bob\n",
            "Usuario criado: carol\n",
            "Usuario criado: david\n",
            "Usuario criado: eva\n",
            "Usuario criado: fernando\n",
            "Usuario criado: giovanna\n",
            "Usuario criado: hugo\n",
            "Usuario criado: isabela\n",
            "Usuario criado: joao\n"
          ]
        },
        {
          "output_type": "stream",
          "name": "stderr",
          "text": [
            "<ipython-input-129-c1b394707795>:8: DeprecationWarning: the method passlib.handlers.pbkdf2.pbkdf2_sha256.encrypt() is deprecated as of Passlib 1.7, and will be removed in Passlib 2.0, use .hash() instead.\n",
            "  self._senha = crip.encrypt(senha, rounds=20000, salt_size=16)\n"
          ]
        }
      ]
    },
    {
      "cell_type": "code",
      "source": [
        "print(usuario1.__gera_usuario()) #Erro pelo fato do atributo ser privado"
      ],
      "metadata": {
        "colab": {
          "base_uri": "https://localhost:8080/",
          "height": 175
        },
        "id": "2cB4VFs5JQlG",
        "outputId": "e982b8bb-8266-45d5-cc22-6b3d18ac4cbd"
      },
      "execution_count": 131,
      "outputs": [
        {
          "output_type": "error",
          "ename": "AttributeError",
          "evalue": "ignored",
          "traceback": [
            "\u001b[0;31m---------------------------------------------------------------------------\u001b[0m",
            "\u001b[0;31mAttributeError\u001b[0m                            Traceback (most recent call last)",
            "\u001b[0;32m<ipython-input-131-cae20057fa89>\u001b[0m in \u001b[0;36m<cell line: 1>\u001b[0;34m()\u001b[0m\n\u001b[0;32m----> 1\u001b[0;31m \u001b[0mprint\u001b[0m\u001b[0;34m(\u001b[0m\u001b[0musuario1\u001b[0m\u001b[0;34m.\u001b[0m\u001b[0m__gera_usuario\u001b[0m\u001b[0;34m(\u001b[0m\u001b[0;34m)\u001b[0m\u001b[0;34m)\u001b[0m\u001b[0;34m\u001b[0m\u001b[0;34m\u001b[0m\u001b[0m\n\u001b[0m",
            "\u001b[0;31mAttributeError\u001b[0m: 'Usuario' object has no attribute '__gera_usuario'"
          ]
        }
      ]
    },
    {
      "cell_type": "code",
      "source": [
        "print(usuario1._Usuario__gera_usuario()) #Funciona, porém, está errado"
      ],
      "metadata": {
        "colab": {
          "base_uri": "https://localhost:8080/"
        },
        "id": "zoLWmafcJaan",
        "outputId": "4240af9c-034f-4e22-93bb-2d09af8635aa"
      },
      "execution_count": 139,
      "outputs": [
        {
          "output_type": "stream",
          "name": "stdout",
          "text": [
            "alice\n"
          ]
        }
      ]
    },
    {
      "cell_type": "markdown",
      "source": [
        "## Método estáticos"
      ],
      "metadata": {
        "id": "P5SyknkzKB9v"
      }
    },
    {
      "cell_type": "code",
      "source": [
        "class Usuario:\n",
        "  id = 500\n",
        "  def __init__(self, nome, sobrenome, email, senha, telefone):\n",
        "    self._id = Usuario.id + 1\n",
        "    self._nome = nome\n",
        "    self._sobrenome = sobrenome\n",
        "    self._email = email\n",
        "    self._senha = crip.encrypt(senha, rounds=20000, salt_size=16)\n",
        "    self._telefone = telefone\n",
        "    print(f'Usuario criado: {self.__gera_usuario()}')\n",
        "\n",
        "    id = self._id\n",
        "  def dados_completos(self):\n",
        "    return (f'User: {self._nome}, Sobrenome; {self._sobrenome}')\n",
        "\n",
        "  def check_senha(self, senha):\n",
        "    if crip.verify(senha, self._senha):\n",
        "      return True\n",
        "    else:\n",
        "      return False\n",
        "\n",
        "  @staticmethod\n",
        "  def all():\n",
        "    return 'slaks5642'\n",
        "\n",
        "  def __gera_usuario(self):\n",
        "    return(self._email.split('@')[0])"
      ],
      "metadata": {
        "id": "gUYFmdKoKFx9"
      },
      "execution_count": 140,
      "outputs": []
    },
    {
      "cell_type": "code",
      "source": [
        "usuario6 = Usuario('Fernando', 'Ribeiro', 'fernando@example.com', 'senha6', '2222222222')"
      ],
      "metadata": {
        "colab": {
          "base_uri": "https://localhost:8080/"
        },
        "id": "xtPuUSqpKZfo",
        "outputId": "fe1b115c-ac9c-432d-cf64-407522dd2870"
      },
      "execution_count": 141,
      "outputs": [
        {
          "output_type": "stream",
          "name": "stdout",
          "text": [
            "Usuario criado: fernando\n"
          ]
        },
        {
          "output_type": "stream",
          "name": "stderr",
          "text": [
            "<ipython-input-140-1d444ec36117>:8: DeprecationWarning: the method passlib.handlers.pbkdf2.pbkdf2_sha256.encrypt() is deprecated as of Passlib 1.7, and will be removed in Passlib 2.0, use .hash() instead.\n",
            "  self._senha = crip.encrypt(senha, rounds=20000, salt_size=16)\n"
          ]
        }
      ]
    },
    {
      "cell_type": "code",
      "source": [
        "usuario6.dados_completos()"
      ],
      "metadata": {
        "colab": {
          "base_uri": "https://localhost:8080/",
          "height": 35
        },
        "id": "cMMOsq9EKcKy",
        "outputId": "be58ba64-9177-4dfb-ee0f-b44590979d0b"
      },
      "execution_count": 143,
      "outputs": [
        {
          "output_type": "execute_result",
          "data": {
            "text/plain": [
              "'User: Fernando, Sobrenome; Ribeiro'"
            ],
            "application/vnd.google.colaboratory.intrinsic+json": {
              "type": "string"
            }
          },
          "metadata": {},
          "execution_count": 143
        }
      ]
    },
    {
      "cell_type": "code",
      "source": [
        "usuario6.all()"
      ],
      "metadata": {
        "colab": {
          "base_uri": "https://localhost:8080/",
          "height": 35
        },
        "id": "_e1eRifOKg3s",
        "outputId": "75b06f5b-594b-46cd-aa78-59091ac60238"
      },
      "execution_count": 144,
      "outputs": [
        {
          "output_type": "execute_result",
          "data": {
            "text/plain": [
              "'slaks5642'"
            ],
            "application/vnd.google.colaboratory.intrinsic+json": {
              "type": "string"
            }
          },
          "metadata": {},
          "execution_count": 144
        }
      ]
    }
  ]
}