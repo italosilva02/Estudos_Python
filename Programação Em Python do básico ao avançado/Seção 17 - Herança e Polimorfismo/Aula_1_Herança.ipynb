{
 "cells": [
  {
   "cell_type": "markdown",
   "id": "16f6129a",
   "metadata": {},
   "source": [
    "# Herança (Inheritance)\n",
    "\n",
    "\n",
    "A ideia de herança é a de reaproveitar código. Também extender nossas classes. \n",
    "\n",
    "OBS: Com a herança, a partir de uma classe existente nós extendemos outra classe que passa a herdar atributos e métodos da classe herdada.\n",
    "\n",
    "Cliente\n",
    "    - Nome\n",
    "    - Sobrenome\n",
    "    - CPF\n",
    "    - Renda\n",
    "    \n",
    "Funcionario\n",
    "    - Nome\n",
    "    - Sobrenome\n",
    "    - CPF\n",
    "    - Matricula"
   ]
  },
  {
   "cell_type": "code",
   "execution_count": 3,
   "id": "ef070eb8",
   "metadata": {},
   "outputs": [],
   "source": [
    "class Cliente:\n",
    "    def __init__(self, nome, sobrenome, cpf, renda):\n",
    "        self._nome = nome\n",
    "        self._sobrenome = sobrenome\n",
    "        self._cpf = cpf\n",
    "        self._renda = renda\n",
    "        \n",
    "    def nome_completo(self):\n",
    "        return f'{self._nome} {self._sobrenome}'"
   ]
  },
  {
   "cell_type": "code",
   "execution_count": 8,
   "id": "bee9e430",
   "metadata": {},
   "outputs": [],
   "source": [
    "class Funcionario:\n",
    "    def __init__(self, nome, sobrenome, cpf, matricula):\n",
    "        self._nome = nome\n",
    "        self._sobrenome = sobrenome\n",
    "        self._cpf = cpf\n",
    "        self._matricula = matricula\n",
    "        \n",
    "    def nome_completo(self):\n",
    "        return f'{self._nome} {self._sobrenome}'"
   ]
  },
  {
   "cell_type": "code",
   "execution_count": 9,
   "id": "a96bc040",
   "metadata": {},
   "outputs": [],
   "source": [
    "cliente1 = Cliente('Angelina', \"Jolie\", '123.456.789-30', 5000)"
   ]
  },
  {
   "cell_type": "code",
   "execution_count": 11,
   "id": "fa3c3d68",
   "metadata": {},
   "outputs": [
    {
     "data": {
      "text/plain": [
       "'Angelina Jolie'"
      ]
     },
     "execution_count": 11,
     "metadata": {},
     "output_type": "execute_result"
    }
   ],
   "source": [
    "cliente1.nome_completo()"
   ]
  },
  {
   "cell_type": "code",
   "execution_count": 10,
   "id": "5df33650",
   "metadata": {},
   "outputs": [],
   "source": [
    "funcionario1 = Funcionario('Maria', 'Rita', '156.854.245-30', '45825-90')"
   ]
  },
  {
   "cell_type": "code",
   "execution_count": 12,
   "id": "d27882d5",
   "metadata": {},
   "outputs": [
    {
     "data": {
      "text/plain": [
       "'Maria Rita'"
      ]
     },
     "execution_count": 12,
     "metadata": {},
     "output_type": "execute_result"
    }
   ],
   "source": [
    "funcionario1.nome_completo()"
   ]
  },
  {
   "cell_type": "markdown",
   "id": "cadcd27c",
   "metadata": {},
   "source": [
    "Há repetição de atributos e métodos em ambas as classes e isso não é bom."
   ]
  },
  {
   "cell_type": "markdown",
   "id": "1000491a",
   "metadata": {},
   "source": [
    "A partir dos atributos genericos de ambas as classes podemos extrair uma nova classe"
   ]
  },
  {
   "cell_type": "code",
   "execution_count": 17,
   "id": "f694cd2e",
   "metadata": {},
   "outputs": [],
   "source": [
    "class Pessoa:\n",
    "    def __init__(self, nome, sobrenome, cpf):\n",
    "        self._nome = nome\n",
    "        self._sobrenome = sobrenome\n",
    "        self._cpf = cpf\n",
    "        \n",
    "    def nome_completo(self):\n",
    "        return f'{self._nome} {self._sobrenome}'"
   ]
  },
  {
   "cell_type": "markdown",
   "id": "368039ad",
   "metadata": {},
   "source": [
    "Atribuindo herança"
   ]
  },
  {
   "cell_type": "code",
   "execution_count": 25,
   "id": "e8571922",
   "metadata": {},
   "outputs": [],
   "source": [
    "#Cliente herda de Pessoa\n",
    "class Cliente(Pessoa):\n",
    "    def __init__(self, nome, sobrenome, cpf, renda):\n",
    "        super().__init__(nome, sobrenome, cpf)\n",
    "        self._renda = renda"
   ]
  },
  {
   "cell_type": "code",
   "execution_count": 26,
   "id": "51a32060",
   "metadata": {},
   "outputs": [],
   "source": [
    "#Funcionario herda de Pessoa\n",
    "class Funcionario(Pessoa):\n",
    "    def __init__(self, nome, sobrenome, cpf, matricula):\n",
    "        super().__init__(nome, sobrenome, cpf) #Acessando o método init da super classe (pessoa)\n",
    "        self._matricula = matricula"
   ]
  },
  {
   "cell_type": "code",
   "execution_count": null,
   "id": "939b6b81",
   "metadata": {},
   "outputs": [],
   "source": [
    "Quando uma classe herda de outra classe, ela herda todos os atributos e métodos."
   ]
  },
  {
   "cell_type": "markdown",
   "id": "f89d7cc5",
   "metadata": {},
   "source": [
    "Quando uma classe herda de outra classe, a classe herdada é conhecida como\n",
    "super classe\n",
    "classe mãe\n",
    "classe pai\n",
    "classe base.\n",
    "\n",
    "Quando uma classe herda de outra classe, ela é chamada de:\n",
    "SubClasse\n",
    "Classe filha\n",
    "Classe específica\n",
    "\n"
   ]
  },
  {
   "cell_type": "code",
   "execution_count": 27,
   "id": "3b21d772",
   "metadata": {},
   "outputs": [],
   "source": [
    "funcionario1 = Funcionario('Maria', 'Rita', '156.854.245-30', '45825-90')"
   ]
  },
  {
   "cell_type": "code",
   "execution_count": 28,
   "id": "d5db46bb",
   "metadata": {},
   "outputs": [
    {
     "data": {
      "text/plain": [
       "'Maria Rita'"
      ]
     },
     "execution_count": 28,
     "metadata": {},
     "output_type": "execute_result"
    }
   ],
   "source": [
    "funcionario1.nome_completo()"
   ]
  },
  {
   "cell_type": "code",
   "execution_count": 29,
   "id": "0a876df4",
   "metadata": {},
   "outputs": [],
   "source": [
    "cliente1 = Cliente('Angelina', \"Jolie\", '123.456.789-30', 5000)"
   ]
  },
  {
   "cell_type": "code",
   "execution_count": 30,
   "id": "3ca47fbd",
   "metadata": {},
   "outputs": [
    {
     "data": {
      "text/plain": [
       "'Angelina Jolie'"
      ]
     },
     "execution_count": 30,
     "metadata": {},
     "output_type": "execute_result"
    }
   ],
   "source": [
    "cliente1.nome_completo()"
   ]
  },
  {
   "cell_type": "code",
   "execution_count": null,
   "id": "a69763f8",
   "metadata": {},
   "outputs": [],
   "source": [
    "# O método que utilizamos para imprimir o nome completo não está nas classes Cliente e Funcionario. Estão na superClasse Pessoa"
   ]
  },
  {
   "cell_type": "code",
   "execution_count": null,
   "id": "d0bdfb04",
   "metadata": {},
   "outputs": [],
   "source": [
    "Podemos fazer de duas maneiras, com o método super() ou atribuindo a propria classe"
   ]
  },
  {
   "cell_type": "code",
   "execution_count": null,
   "id": "b91c5aea",
   "metadata": {},
   "outputs": [],
   "source": [
    "#Forma comum de acessar dados da super classe\n",
    "\n",
    "#Funcionario herda de Pessoa\n",
    "class Funcionario(Pessoa):\n",
    "    def __init__(self, nome, sobrenome, cpf, matricula):\n",
    "        super().__init__(nome, sobrenome, cpf) #Acessando o método init da super classe (pessoa)\n",
    "        self._matricula = matricula"
   ]
  },
  {
   "cell_type": "code",
   "execution_count": null,
   "id": "b5ed2396",
   "metadata": {},
   "outputs": [],
   "source": [
    "#Forma não comum de acessar dados da super classe\n",
    "\n",
    "#Funcionario herda de Pessoa\n",
    "class Funcionario(Pessoa):\n",
    "    def __init__(self, nome, sobrenome, cpf, matricula):\n",
    "        Pessoa.__init__(self, nome, sobrenome, cpf) #Podemos utilizar a SuperClasse também, porém, precisamos definir o self\n",
    "        self._matricula = matricula "
   ]
  },
  {
   "cell_type": "code",
   "execution_count": 32,
   "id": "cc4c80bb",
   "metadata": {},
   "outputs": [
    {
     "data": {
      "text/plain": [
       "{'_nome': 'Maria',\n",
       " '_sobrenome': 'Rita',\n",
       " '_cpf': '156.854.245-30',\n",
       " '_matricula': '45825-90'}"
      ]
     },
     "execution_count": 32,
     "metadata": {},
     "output_type": "execute_result"
    }
   ],
   "source": [
    "funcionario1.__dict__"
   ]
  },
  {
   "cell_type": "code",
   "execution_count": 33,
   "id": "2278f80d",
   "metadata": {},
   "outputs": [
    {
     "data": {
      "text/plain": [
       "{'_nome': 'Angelina',\n",
       " '_sobrenome': 'Jolie',\n",
       " '_cpf': '123.456.789-30',\n",
       " '_renda': 5000}"
      ]
     },
     "execution_count": 33,
     "metadata": {},
     "output_type": "execute_result"
    }
   ],
   "source": [
    "cliente1.__dict__"
   ]
  },
  {
   "cell_type": "markdown",
   "id": "4aed8ba5",
   "metadata": {},
   "source": [
    "### Sobreescrita de métodos (Overriding)"
   ]
  },
  {
   "cell_type": "code",
   "execution_count": null,
   "id": "527fcc3b",
   "metadata": {},
   "outputs": [],
   "source": [
    "Sobreescrita de método ocorre quando reescrevemos um métodos presente na super classe em classe filha"
   ]
  },
  {
   "cell_type": "markdown",
   "id": "a60855dc",
   "metadata": {},
   "source": [
    "Sobreescrita de métodos é um conceito da programação orientada a objetos que permite que uma subclasse reescreva um método herdado da superclasse.\n",
    "\n",
    "Em Python, a sobrescrita de métodos é feita definindo um método com o mesmo nome e assinatura do método herdado. Por exemplo, a seguinte classe Animal define um método falar():\n"
   ]
  },
  {
   "cell_type": "code",
   "execution_count": 34,
   "id": "ece67484",
   "metadata": {},
   "outputs": [],
   "source": [
    "class Animal:\n",
    "    def falar(self):\n",
    "        raise NotImplementedError()"
   ]
  },
  {
   "cell_type": "code",
   "execution_count": null,
   "id": "4f3a0631",
   "metadata": {},
   "outputs": [],
   "source": [
    "A classe Gato é uma subclasse de Animal e redefine o método falar():"
   ]
  },
  {
   "cell_type": "code",
   "execution_count": null,
   "id": "3c533825",
   "metadata": {},
   "outputs": [],
   "source": [
    "class Gato(Animal):\n",
    "    def falar(self):\n",
    "        return \"miau\""
   ]
  },
  {
   "cell_type": "markdown",
   "id": "800cd9fe",
   "metadata": {},
   "source": [
    "Uma instância da classe Gato terá o método falar() da classe Animal. No entanto, quando o método falar() é chamado em uma instância da classe Gato, o método reescrito da classe Gato é chamado.\n",
    "\n",
    "A sobrescrita de métodos pode ser usada para:\n",
    "\n",
    "Fornecer uma implementação mais específica de um método: A sobrescrita de métodos permite que você forneça uma implementação mais específica de um método herdado. Por exemplo, a classe Gato fornece uma implementação específica do método falar() para gatos.\n",
    "Resolver conflitos de métodos: A sobrescrita de métodos pode ser usada para resolver conflitos de métodos. Por exemplo, se duas classes herdarem um método com o mesmo nome, a sobrescrita de métodos permite que você defina uma implementação específica para cada classe.\n",
    "Adicionar novos recursos a uma classe: A sobrescrita de métodos pode ser usada para adicionar novos recursos a uma classe. Por exemplo, a classe Gato pode adicionar um novo recurso ao método falar() para gatos.\n",
    "Aqui estão alguns exemplos de como a sobrescrita de métodos pode ser usada em Python:\n",
    "\n",
    "Redefinir o comportamento padrão de um método: Você pode usar a sobrescrita de métodos para redefinir o comportamento padrão de um método herdado. Por exemplo, a classe Gato redefine o comportamento padrão do método falar() para gatos.\n",
    "Implementar um método de forma diferente para diferentes tipos de objetos: Você pode usar a sobrescrita de métodos para implementar um método de forma diferente para diferentes tipos de objetos. Por exemplo, a classe Gato e a classe Cachorro podem implementar o método falar() de forma diferente.\n",
    "Adicionar novos recursos a uma classe: Você pode usar a sobrescrita de métodos para adicionar novos recursos a uma classe. Por exemplo, a classe Gato pode adicionar um novo recurso ao método falar() para gatos.\n",
    "A sobrescrita de métodos é uma ferramenta poderosa que pode ser usada para melhorar a flexibilidade e a funcionalidade do seu código."
   ]
  },
  {
   "cell_type": "code",
   "execution_count": 56,
   "id": "68418d19",
   "metadata": {},
   "outputs": [],
   "source": [
    "#Forma não comum de acessar dados da super classe\n",
    "\n",
    "#Funcionario herda de Pessoa\n",
    "class Funcionario(Pessoa):\n",
    "    def __init__(self, nome, sobrenome, cpf, matricula):\n",
    "        super().__init__(nome, sobrenome, cpf) #Podemos utilizar a SuperClasse também, porém, precisamos definir o self\n",
    "        self._matricula = matricula \n",
    "        \n",
    "    def nome_completo(self):\n",
    "        print(self._cpf)\n",
    "        print(super().nome_completo()) #Métodos da SuperClasse que não é alterada pela definição na subClasse\n",
    "        return f'Matricula: {self._matricula}, Nome Completo: {self._nome} {self._sobrenome}'"
   ]
  },
  {
   "cell_type": "code",
   "execution_count": 57,
   "id": "27db4db3",
   "metadata": {},
   "outputs": [],
   "source": [
    "funcionario1 = Funcionario('Maria', 'Rita', '156.854.245-30', '45825-90')"
   ]
  },
  {
   "cell_type": "code",
   "execution_count": 58,
   "id": "2383bc21",
   "metadata": {},
   "outputs": [
    {
     "name": "stdout",
     "output_type": "stream",
     "text": [
      "156.854.245-30\n",
      "Maria Rita\n"
     ]
    },
    {
     "data": {
      "text/plain": [
       "'Matricula: 45825-90, Nome Completo: Maria Rita'"
      ]
     },
     "execution_count": 58,
     "metadata": {},
     "output_type": "execute_result"
    }
   ],
   "source": [
    "funcionario1.nome_completo()"
   ]
  },
  {
   "cell_type": "code",
   "execution_count": null,
   "id": "90c21715",
   "metadata": {},
   "outputs": [],
   "source": [
    "#Conseguimos reescrever métodos já existente para atender nossas necessidades"
   ]
  }
 ],
 "metadata": {
  "kernelspec": {
   "display_name": "Python 3 (ipykernel)",
   "language": "python",
   "name": "python3"
  },
  "language_info": {
   "codemirror_mode": {
    "name": "ipython",
    "version": 3
   },
   "file_extension": ".py",
   "mimetype": "text/x-python",
   "name": "python",
   "nbconvert_exporter": "python",
   "pygments_lexer": "ipython3",
   "version": "3.10.9"
  }
 },
 "nbformat": 4,
 "nbformat_minor": 5
}
