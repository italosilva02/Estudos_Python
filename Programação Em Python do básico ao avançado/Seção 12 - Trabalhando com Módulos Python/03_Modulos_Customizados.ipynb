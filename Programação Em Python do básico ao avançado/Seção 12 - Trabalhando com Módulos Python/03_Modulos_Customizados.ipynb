{
  "nbformat": 4,
  "nbformat_minor": 0,
  "metadata": {
    "colab": {
      "provenance": []
    },
    "kernelspec": {
      "name": "python3",
      "display_name": "Python 3"
    },
    "language_info": {
      "name": "python"
    }
  },
  "cells": [
    {
      "cell_type": "markdown",
      "source": [
        "# **Módulos Customizados**"
      ],
      "metadata": {
        "id": "r_iR2JOnOp0q"
      }
    },
    {
      "cell_type": "markdown",
      "source": [
        "Módulos personalizados em Python referem-se a um conjunto de funções, classes e variáveis definidas pelo usuário que podem ser importadas e usadas em outros programas Python. Isso permite que os programadores escrevam código reutilizável para realizar tarefas específicas que podem ser usadas em diferentes projetos.\n",
        "\n",
        "Para criar um módulo personalizado em Python, você pode seguir os seguintes passos:\n",
        "\n",
        "- Crie um novo arquivo Python e escreva o código para as funções, classes e variáveis que deseja incluir no módulo.\n",
        "\n",
        "- Salve o arquivo com um nome descritivo e uma extensão \".py\", como \"mymodule.py\".\n",
        "\n",
        "- Para usar o módulo personalizado em outro programa Python, você precisa importá-lo. Você pode fazer isso usando o comando \"import\" seguido pelo nome do arquivo sem a extensão \".py\", como em \"import mymodule\".\n",
        "\n",
        "- Depois de importar o módulo personalizado, você pode usar as funções, classes e variáveis definidas no módulo como se fossem parte do programa atual.\n",
        "\n",
        "Por exemplo, suponha que você queira criar um módulo personalizado para lidar com operações matemáticas simples. Você pode criar um arquivo chamado \"mymath.py\" com o seguinte código:"
      ],
      "metadata": {
        "id": "D04uz9jTO8Q0"
      }
    },
    {
      "cell_type": "code",
      "source": [
        "def add(x, y):\n",
        "    return x + y\n",
        "\n",
        "def subtract(x, y):\n",
        "    return x - y\n",
        "\n",
        "def multiply(x, y):\n",
        "    return x * y\n",
        "\n",
        "def divide(x, y):\n",
        "    return x / y\n"
      ],
      "metadata": {
        "id": "oCX3xum8PRlP"
      },
      "execution_count": null,
      "outputs": []
    },
    {
      "cell_type": "markdown",
      "source": [
        "Em seguida, para usar essas funções em outro programa Python, você pode importar o módulo \"mymath\" e chamar as funções, como em:"
      ],
      "metadata": {
        "id": "4fbIjJFLPSLj"
      }
    },
    {
      "cell_type": "code",
      "source": [
        "import mymath\n",
        "\n",
        "result = mymath.add(2, 3)\n",
        "print(result) # imprime 5\n"
      ],
      "metadata": {
        "id": "BbpcHXUhPTyE"
      },
      "execution_count": null,
      "outputs": []
    },
    {
      "cell_type": "markdown",
      "source": [
        "Como módulos python nada mais são do que arquivos python, entãpo, todos os programas ou todos os arquivos que criamos nesse curso são módulos python prontos para ser utilizados."
      ],
      "metadata": {
        "id": "VvrXRPvhPeZM"
      }
    },
    {
      "cell_type": "markdown",
      "source": [
        "No módulo python não é ideal colocar print já que o mesmo irá ser  eecutado no programa"
      ],
      "metadata": {
        "id": "yxm9uRmYTMxe"
      }
    },
    {
      "cell_type": "code",
      "source": [
        "from funcoes_com_parametros import soma_impar\n",
        "\n",
        "print(soma_impar([1,2,3,4,5,6,7,8,9,10,11,12,13,14]))"
      ],
      "metadata": {
        "id": "LruYU1e_UQmA"
      },
      "execution_count": null,
      "outputs": []
    },
    {
      "cell_type": "code",
      "source": [
        "from funcoes_com_parametros import *"
      ],
      "metadata": {
        "id": "7E4zi1ZyUVD-"
      },
      "execution_count": null,
      "outputs": []
    }
  ]
}