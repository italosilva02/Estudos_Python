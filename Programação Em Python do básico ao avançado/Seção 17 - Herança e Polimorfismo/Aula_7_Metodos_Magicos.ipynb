{
 "cells": [
  {
   "cell_type": "markdown",
   "id": "e9041e41",
   "metadata": {},
   "source": [
    "Métodos mágicos, também conhecidos como métodos especiais ou métodos dunder (double underscore), são funções predefinidas em Python que têm nomes cercados por dois underscores duplos, como __init__, __str__, __add__, entre outros. Esses métodos têm um significado especial e são chamados automaticamente em situações específicas para realizar operações que definem o comportamento de objetos em classes personalizadas.\n",
    "\n",
    "Aqui estão alguns exemplos de métodos mágicos e suas utilizações:\n",
    "\n",
    "__init__(self, ...): O construtor da classe, chamado quando um objeto da classe é criado. É usado para inicializar atributos do objeto.\n",
    "\n",
    "__str__(self): Retorna uma representação em forma de string do objeto, usada quando você chama a função str(obj) ou ao imprimir o objeto com print(obj).\n",
    "\n",
    "__repr__(self): Retorna uma representação \"oficial\" do objeto, geralmente usada para debugging. É acionada quando você chama a função repr(obj).\n",
    "\n",
    "__len__(self): Retorna o tamanho do objeto quando a função len(obj) é chamada.\n",
    "\n",
    "__getitem__(self, key): Permite que você acesse elementos de um objeto como se fosse uma sequência (exemplo: obj[key]).\n",
    "\n",
    "__setitem__(self, key, value): Permite que você atribua valores a elementos de um objeto como se fosse uma sequência.\n",
    "\n",
    "__delitem__(self, key): Permite que você exclua elementos de um objeto como se fosse uma sequência.\n",
    "\n",
    "__iter__(self): Define como um objeto deve se comportar quando é iterado. Geralmente, você retorna um iterador para percorrer o objeto.\n",
    "\n",
    "__next__(self): Usado em conjunto com __iter__, define como a iteração deve avançar no objeto.\n",
    "\n",
    "__eq__(self, other): Define a lógica de igualdade entre objetos. É acionada quando você usa o operador ==.\n",
    "\n",
    "__lt__, __le__, __gt__, __ge__: Métodos mágicos usados para definir as comparações de ordem entre objetos.\n",
    "\n",
    "__add__, __sub__, __mul__, __div__: Métodos mágicos para definir operações matemáticas entre objetos.\n",
    "\n",
    "__call__(self, ...): Permite que um objeto seja chamado como uma função.\n",
    "\n",
    "__enter__, __exit__: Métodos mágicos usados em contextos com a instrução with.\n",
    "\n",
    "__getattr__, __setattr__, __delattr__: Usados para controlar o acesso a atributos de um objeto.\n",
    "\n",
    "Esses são apenas alguns exemplos dos muitos métodos mágicos disponíveis em Python. Eles são usados para personalizar o comportamento de objetos de classes personalizadas, tornando as classes mais poderosas e flexíveis.\n",
    "\n",
    "Ao implementar esses métodos mágicos em suas classes, você pode fazer com que seus objetos interajam de maneira mais natural com as funcionalidades da linguagem Python e outras bibliotecas. Isso permite que você crie classes mais robustas e reutilizáveis."
   ]
  },
  {
   "cell_type": "code",
   "execution_count": 71,
   "id": "360e4fb8",
   "metadata": {},
   "outputs": [],
   "source": [
    "class Livro:\n",
    "    def __init__(self, titulo, escritor, paginas):\n",
    "        self._titulo = titulo\n",
    "        self._escritor = escritor\n",
    "        self._paginas = paginas\n",
    "        \n",
    "    def __repr__(self):\n",
    "        return self._titulo\n",
    "    \n",
    "    def __str__(self):\n",
    "        return f'Livro escrito por {self._escritor}' #Tem preferencia entre os métodos\n",
    "    \n",
    "    def __len__(self):\n",
    "        return f'{self._paginas}'\n",
    "    \n",
    "    def __del__(self):\n",
    "           print( f'Um objeto do tipo livro foi deletado:  {self._titulo}, {self._escritor} {self._paginas}')\n",
    "            \n",
    "    def __add__(self, outro):\n",
    "        return f'{self} - {outro}'\n",
    "    \n",
    "    def __mul__(self, outro: int):\n",
    "        return self._titulo * outro"
   ]
  },
  {
   "cell_type": "code",
   "execution_count": 78,
   "id": "99ce0984",
   "metadata": {},
   "outputs": [
    {
     "name": "stdout",
     "output_type": "stream",
     "text": [
      "Um objeto do tipo livro foi deletado:  Game Of Thrones, J.J Martins 612\n"
     ]
    }
   ],
   "source": [
    "livro = Livro(\"Harry Potter\", \"J.k\", 587)\n",
    "livro1 = Livro(\"Game Of Thrones\", \"J.J Martins\", 612)"
   ]
  },
  {
   "cell_type": "code",
   "execution_count": 12,
   "id": "8de4d3b0",
   "metadata": {},
   "outputs": [
    {
     "name": "stdout",
     "output_type": "stream",
     "text": [
      "<__main__.Livro object at 0x000001AF81F74100>\n"
     ]
    }
   ],
   "source": [
    "print(livro) #Sem representação __repr__"
   ]
  },
  {
   "cell_type": "code",
   "execution_count": 62,
   "id": "9134c01d",
   "metadata": {},
   "outputs": [
    {
     "name": "stdout",
     "output_type": "stream",
     "text": [
      "Livro escrito por J.k\n"
     ]
    }
   ],
   "source": [
    "print(livro) #Com representação __repr__\n",
    "# É a representação do retorno padrão do Objeto"
   ]
  },
  {
   "cell_type": "code",
   "execution_count": 73,
   "id": "a2b59635",
   "metadata": {},
   "outputs": [
    {
     "name": "stdout",
     "output_type": "stream",
     "text": [
      "Livro escrito por J.J Martins\n"
     ]
    }
   ],
   "source": [
    "print(livro1)"
   ]
  },
  {
   "cell_type": "code",
   "execution_count": 74,
   "id": "3ecfb9d8",
   "metadata": {},
   "outputs": [
    {
     "name": "stdout",
     "output_type": "stream",
     "text": [
      "587\n"
     ]
    }
   ],
   "source": [
    "print(livro.__len__())"
   ]
  },
  {
   "cell_type": "code",
   "execution_count": 75,
   "id": "c76c35be",
   "metadata": {},
   "outputs": [
    {
     "name": "stdout",
     "output_type": "stream",
     "text": [
      "612\n"
     ]
    }
   ],
   "source": [
    "print(livro1.__len__())"
   ]
  },
  {
   "cell_type": "code",
   "execution_count": 76,
   "id": "cd8f5c43",
   "metadata": {},
   "outputs": [
    {
     "name": "stdout",
     "output_type": "stream",
     "text": [
      "Um objeto do tipo livro foi deletado:  Harry Potter, J.k 587\n"
     ]
    }
   ],
   "source": [
    "del livro"
   ]
  },
  {
   "cell_type": "code",
   "execution_count": 79,
   "id": "363e05b5",
   "metadata": {},
   "outputs": [
    {
     "name": "stdout",
     "output_type": "stream",
     "text": [
      "Livro escrito por J.k - Livro escrito por J.J Martins\n"
     ]
    }
   ],
   "source": [
    "print(livro + livro1) #Por conta do __add__ ele retorna o __str__ de um objeto + o __str__ de outro objeto"
   ]
  },
  {
   "cell_type": "code",
   "execution_count": 80,
   "id": "fccb637d",
   "metadata": {},
   "outputs": [
    {
     "data": {
      "text/plain": [
       "32"
      ]
     },
     "execution_count": 80,
     "metadata": {},
     "output_type": "execute_result"
    }
   ],
   "source": [
    "livro.__sizeof__()"
   ]
  },
  {
   "cell_type": "code",
   "execution_count": 81,
   "id": "896bf8cb",
   "metadata": {},
   "outputs": [
    {
     "name": "stdout",
     "output_type": "stream",
     "text": [
      "Harry PotterHarry PotterHarry Potter\n"
     ]
    }
   ],
   "source": [
    "print(livro * 3) #__mul__ o segundo atributo deve ser um número inteiro"
   ]
  },
  {
   "cell_type": "code",
   "execution_count": 82,
   "id": "75b0982e",
   "metadata": {},
   "outputs": [
    {
     "ename": "TypeError",
     "evalue": "can't multiply sequence by non-int of type 'float'",
     "output_type": "error",
     "traceback": [
      "\u001b[1;31m---------------------------------------------------------------------------\u001b[0m",
      "\u001b[1;31mTypeError\u001b[0m                                 Traceback (most recent call last)",
      "Cell \u001b[1;32mIn[82], line 1\u001b[0m\n\u001b[1;32m----> 1\u001b[0m \u001b[38;5;28mprint\u001b[39m(\u001b[43mlivro\u001b[49m\u001b[43m \u001b[49m\u001b[38;5;241;43m*\u001b[39;49m\u001b[43m \u001b[49m\u001b[38;5;241;43m5.5\u001b[39;49m)\n",
      "Cell \u001b[1;32mIn[71], line 23\u001b[0m, in \u001b[0;36mLivro.__mul__\u001b[1;34m(self, outro)\u001b[0m\n\u001b[0;32m     22\u001b[0m \u001b[38;5;28;01mdef\u001b[39;00m \u001b[38;5;21m__mul__\u001b[39m(\u001b[38;5;28mself\u001b[39m, outro: \u001b[38;5;28mint\u001b[39m):\n\u001b[1;32m---> 23\u001b[0m     \u001b[38;5;28;01mreturn\u001b[39;00m \u001b[38;5;28;43mself\u001b[39;49m\u001b[38;5;241;43m.\u001b[39;49m\u001b[43m_titulo\u001b[49m\u001b[43m \u001b[49m\u001b[38;5;241;43m*\u001b[39;49m\u001b[43m \u001b[49m\u001b[43moutro\u001b[49m\n",
      "\u001b[1;31mTypeError\u001b[0m: can't multiply sequence by non-int of type 'float'"
     ]
    }
   ],
   "source": [
    "print(livro * 5.5)"
   ]
  },
  {
   "cell_type": "code",
   "execution_count": null,
   "id": "f5cb59e9",
   "metadata": {},
   "outputs": [],
   "source": [
    "Todos esses métodos vem de Object"
   ]
  },
  {
   "cell_type": "code",
   "execution_count": 83,
   "id": "e39a51b3",
   "metadata": {},
   "outputs": [
    {
     "data": {
      "text/plain": [
       "['__class__',\n",
       " '__delattr__',\n",
       " '__dir__',\n",
       " '__doc__',\n",
       " '__eq__',\n",
       " '__format__',\n",
       " '__ge__',\n",
       " '__getattribute__',\n",
       " '__gt__',\n",
       " '__hash__',\n",
       " '__init__',\n",
       " '__init_subclass__',\n",
       " '__le__',\n",
       " '__lt__',\n",
       " '__ne__',\n",
       " '__new__',\n",
       " '__reduce__',\n",
       " '__reduce_ex__',\n",
       " '__repr__',\n",
       " '__setattr__',\n",
       " '__sizeof__',\n",
       " '__str__',\n",
       " '__subclasshook__']"
      ]
     },
     "execution_count": 83,
     "metadata": {},
     "output_type": "execute_result"
    }
   ],
   "source": [
    "dir(object)"
   ]
  },
  {
   "cell_type": "code",
   "execution_count": 87,
   "id": "f216fa89",
   "metadata": {},
   "outputs": [],
   "source": [
    "nome = \"Italo\""
   ]
  },
  {
   "cell_type": "code",
   "execution_count": 88,
   "id": "79d4e1e7",
   "metadata": {},
   "outputs": [
    {
     "name": "stdout",
     "output_type": "stream",
     "text": [
      "6562430729685652526\n"
     ]
    }
   ],
   "source": [
    "print(nome.__hash__())"
   ]
  },
  {
   "cell_type": "code",
   "execution_count": null,
   "id": "5e065ab4",
   "metadata": {},
   "outputs": [],
   "source": []
  }
 ],
 "metadata": {
  "kernelspec": {
   "display_name": "Python 3 (ipykernel)",
   "language": "python",
   "name": "python3"
  },
  "language_info": {
   "codemirror_mode": {
    "name": "ipython",
    "version": 3
   },
   "file_extension": ".py",
   "mimetype": "text/x-python",
   "name": "python",
   "nbconvert_exporter": "python",
   "pygments_lexer": "ipython3",
   "version": "3.10.9"
  }
 },
 "nbformat": 4,
 "nbformat_minor": 5
}
