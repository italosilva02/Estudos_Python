{
 "cells": [
  {
   "cell_type": "markdown",
   "id": "2b6d1f53",
   "metadata": {},
   "source": [
    "### 1. Crie uma classe Bola que represente uma bola. A classe deve ter os seguintes atributos:\n",
    "\n",
    "raio: o raio da bola\n",
    "cor: a cor da bola\n",
    "A classe deve ter os seguintes métodos:\n",
    "\n",
    "get_raio(): retorna o raio da bola\n",
    "set_raio(): define o raio da bola\n",
    "get_cor(): retorna a cor da bola\n",
    "set_cor(): define a cor da bola\n",
    "Escreva um programa que crie uma bola com raio 5 e cor vermelha. Imprima o raio e a cor da bola"
   ]
  },
  {
   "cell_type": "code",
   "execution_count": 1,
   "id": "b9149eb1",
   "metadata": {},
   "outputs": [],
   "source": [
    "class Bola:\n",
    "    def __init__(self, raio, cor):\n",
    "        self._raio = raio\n",
    "        self._cor  = cor\n",
    "        \n",
    "    def get_raio(self):\n",
    "        return self._raio\n",
    "    \n",
    "    def set_raio(self, raio):\n",
    "        self._raio = raio\n",
    "        \n",
    "    def get_cor(self):\n",
    "        return self._cor\n",
    "    \n",
    "    def set_cor(self, cor):\n",
    "        self._cor = cor"
   ]
  },
  {
   "cell_type": "code",
   "execution_count": 10,
   "id": "356dda8e",
   "metadata": {},
   "outputs": [],
   "source": [
    "b1 = Bola(5, 'Vermelha')"
   ]
  },
  {
   "cell_type": "code",
   "execution_count": 11,
   "id": "3b35f3df",
   "metadata": {},
   "outputs": [
    {
     "data": {
      "text/plain": [
       "'Vermelha'"
      ]
     },
     "execution_count": 11,
     "metadata": {},
     "output_type": "execute_result"
    }
   ],
   "source": [
    "b1.get_cor()"
   ]
  },
  {
   "cell_type": "code",
   "execution_count": 12,
   "id": "8ad1e10b",
   "metadata": {},
   "outputs": [],
   "source": [
    "b1.set_cor('Azul')"
   ]
  },
  {
   "cell_type": "code",
   "execution_count": 13,
   "id": "6e1d5f6c",
   "metadata": {},
   "outputs": [
    {
     "data": {
      "text/plain": [
       "'Azul'"
      ]
     },
     "execution_count": 13,
     "metadata": {},
     "output_type": "execute_result"
    }
   ],
   "source": [
    "b1.get_cor()"
   ]
  },
  {
   "cell_type": "code",
   "execution_count": 14,
   "id": "d5523e06",
   "metadata": {},
   "outputs": [
    {
     "data": {
      "text/plain": [
       "5"
      ]
     },
     "execution_count": 14,
     "metadata": {},
     "output_type": "execute_result"
    }
   ],
   "source": [
    "b1.get_raio()"
   ]
  },
  {
   "cell_type": "markdown",
   "id": "3530697e",
   "metadata": {},
   "source": [
    "### 2. Crie uma classe Retângulo que represente um retângulo. A classe deve ter os seguintes atributos:\n",
    "\n",
    "largura: a largura do retângulo\n",
    "altura: a altura do retângulo\n",
    "A classe deve ter os seguintes métodos:\n",
    "\n",
    "get_largura(): retorna a largura do retângulo\n",
    "set_largura(): define a largura do retângulo\n",
    "get_altura(): retorna a altura do retângulo\n",
    "set_altura(): define a altura do retângulo\n",
    "calcula_area(): calcula a área do retângulo\n",
    "Escreva um programa que crie um retângulo com largura 10 e altura 20. Imprima a área do retângulo."
   ]
  },
  {
   "cell_type": "code",
   "execution_count": 19,
   "id": "8346b737",
   "metadata": {},
   "outputs": [],
   "source": [
    "class Retangulo:\n",
    "    def __init__(self, largura, altura):\n",
    "        self._largura = largura\n",
    "        self._altura = altura\n",
    "        \n",
    "    def get_largura(self):\n",
    "        return self._largura\n",
    "    \n",
    "    def get_altura(self):\n",
    "        return self._altura\n",
    "    \n",
    "    def set_largura(self, largura):\n",
    "        self._largura = largura\n",
    "        \n",
    "    def set_altura(self, altura):\n",
    "        self._altura = altura\n",
    "        \n",
    "    def calcula_area(self):\n",
    "        return (self._largura * self._altura) / 2\n",
    "    \n",
    "    "
   ]
  },
  {
   "cell_type": "code",
   "execution_count": 20,
   "id": "96080a78",
   "metadata": {},
   "outputs": [],
   "source": [
    "retangulo1 = Retangulo(5,30)"
   ]
  },
  {
   "cell_type": "code",
   "execution_count": 21,
   "id": "f58f5eeb",
   "metadata": {},
   "outputs": [
    {
     "data": {
      "text/plain": [
       "30"
      ]
     },
     "execution_count": 21,
     "metadata": {},
     "output_type": "execute_result"
    }
   ],
   "source": [
    "retangulo1.get_altura()"
   ]
  },
  {
   "cell_type": "code",
   "execution_count": 23,
   "id": "1b7c47b2",
   "metadata": {},
   "outputs": [],
   "source": [
    "retangulo1.set_altura(14)"
   ]
  },
  {
   "cell_type": "code",
   "execution_count": 24,
   "id": "670f85f4",
   "metadata": {},
   "outputs": [
    {
     "data": {
      "text/plain": [
       "14"
      ]
     },
     "execution_count": 24,
     "metadata": {},
     "output_type": "execute_result"
    }
   ],
   "source": [
    "retangulo1.get_altura()"
   ]
  },
  {
   "cell_type": "code",
   "execution_count": 26,
   "id": "da3205eb",
   "metadata": {},
   "outputs": [
    {
     "data": {
      "text/plain": [
       "35.0"
      ]
     },
     "execution_count": 26,
     "metadata": {},
     "output_type": "execute_result"
    }
   ],
   "source": [
    "retangulo1.calcula_area()"
   ]
  },
  {
   "cell_type": "markdown",
   "id": "b999dac0",
   "metadata": {},
   "source": [
    "### 3. Crie uma classe Pessoa que represente uma pessoa. A classe deve ter os seguintes atributos:\n",
    "\n",
    "nome: o nome da pessoa\n",
    "idade: a idade da pessoa\n",
    "altura: a altura da pessoa\n",
    "A classe deve ter os seguintes métodos:\n",
    "\n",
    "get_nome(): retorna o nome da pessoa\n",
    "set_nome(): define o nome da pessoa\n",
    "get_idade(): retorna a idade da pessoa\n",
    "set_idade(): define a idade da pessoa\n",
    "get_altura(): retorna a altura da pessoa\n",
    "set_altura(): define a altura da pessoa\n",
    "Escreva um programa que crie uma pessoa com nome \"João\", idade 25 e altura 1,80m. Imprima o nome, a idade e a altura da pessoa."
   ]
  },
  {
   "cell_type": "code",
   "execution_count": 33,
   "id": "833b963a",
   "metadata": {},
   "outputs": [],
   "source": [
    "class Pessoa:\n",
    "    def __init__(self, nome, idade, altura):\n",
    "        self._nome = nome\n",
    "        self._idade = idade\n",
    "        self._altura = altura\n",
    "        \n",
    "    def get_nome(self):\n",
    "        return self._nome\n",
    "    \n",
    "    def get_idade(self):\n",
    "        return self._idade\n",
    "    \n",
    "    def get_altura(self):\n",
    "        return self._altura\n",
    "    \n",
    "    def set_nome(self, nome):\n",
    "        if nome == '':\n",
    "            print('Insira um nome válido')\n",
    "        else:\n",
    "            self._nome = nome\n",
    "            \n",
    "    def set_idade(self, idade):\n",
    "        if idade != int:\n",
    "            print('Insira uma idade inteira')\n",
    "        else:\n",
    "            self._idade = idade\n",
    "            \n",
    "    def set_altura(self, altura):\n",
    "        self._altura = altura\n",
    "        \n",
    "    def get_dados(self):\n",
    "        return f'Nome: {self._nome}, Idade: {self._idade}, Altura: {self._altura}'\n",
    "        \n",
    "        "
   ]
  },
  {
   "cell_type": "code",
   "execution_count": 34,
   "id": "24718347",
   "metadata": {},
   "outputs": [],
   "source": [
    "p1 = Pessoa('João', 25, 1.80)"
   ]
  },
  {
   "cell_type": "code",
   "execution_count": 35,
   "id": "b5e14fc0",
   "metadata": {},
   "outputs": [
    {
     "data": {
      "text/plain": [
       "'João'"
      ]
     },
     "execution_count": 35,
     "metadata": {},
     "output_type": "execute_result"
    }
   ],
   "source": [
    "p1.get_nome()"
   ]
  },
  {
   "cell_type": "code",
   "execution_count": 36,
   "id": "7cd58775",
   "metadata": {},
   "outputs": [
    {
     "data": {
      "text/plain": [
       "1.8"
      ]
     },
     "execution_count": 36,
     "metadata": {},
     "output_type": "execute_result"
    }
   ],
   "source": [
    "p1.get_altura()"
   ]
  },
  {
   "cell_type": "code",
   "execution_count": 37,
   "id": "4835113f",
   "metadata": {},
   "outputs": [
    {
     "data": {
      "text/plain": [
       "25"
      ]
     },
     "execution_count": 37,
     "metadata": {},
     "output_type": "execute_result"
    }
   ],
   "source": [
    "p1.get_idade()"
   ]
  },
  {
   "cell_type": "code",
   "execution_count": 38,
   "id": "22971bed",
   "metadata": {},
   "outputs": [
    {
     "data": {
      "text/plain": [
       "'Nome: João, Idade: 25, Altura: 1.8'"
      ]
     },
     "execution_count": 38,
     "metadata": {},
     "output_type": "execute_result"
    }
   ],
   "source": [
    "p1.get_dados()"
   ]
  },
  {
   "cell_type": "markdown",
   "id": "5f3ff338",
   "metadata": {},
   "source": [
    "### 4. Crie uma classe Carro que represente um carro. A classe deve ter os seguintes atributos:\n",
    "\n",
    "marca: a marca do carro\n",
    "modelo: o modelo do carro\n",
    "ano: o ano do carro\n",
    "cor: a cor do carro\n",
    "km_rodados: a quantidade de quilômetros rodados do carro\n",
    "A classe deve ter os seguintes métodos:\n",
    "\n",
    "get_marca(): retorna a marca do carro\n",
    "set_marca(): define a marca do carro\n",
    "get_modelo(): retorna o modelo do carro\n",
    "set_modelo(): define o modelo do carro\n",
    "get_ano(): retorna o ano do carro\n",
    "set_ano(): define o ano do carro\n",
    "get_cor(): retorna a cor do carro\n",
    "set_cor(): define a cor do carro\n",
    "get_km_rodados(): retorna a quantidade de quilômetros rodados do carro\n",
    "set_km_rodados(): define a quantidade de quilômetros rodados do carro\n",
    "imprime_dados(): imprime os dados do carro\n",
    "Escreva um programa que crie um carro com marca \"Fiat\", modelo \"Palio\", ano 2023, cor \"branca\" e 10.000 quilômetros rodados. Imprima os dados do carro."
   ]
  },
  {
   "cell_type": "code",
   "execution_count": 50,
   "id": "b3446dce",
   "metadata": {},
   "outputs": [],
   "source": [
    "class Carro:\n",
    "    def __init__(self, marca, modelo, ano, cor, km_rodado):\n",
    "        self._marca = marca\n",
    "        self._modelo = modelo\n",
    "        self._ano = ano\n",
    "        self._cor = cor\n",
    "        self._km_rodado = km_rodado\n",
    "        \n",
    "    def get_marca(self):\n",
    "        return self._marca\n",
    "    \n",
    "    def set_marca(self, marca):\n",
    "        self._marca = marca\n",
    "        \n",
    "    def get_modelo(self):\n",
    "        return self._modelo\n",
    "    \n",
    "    def set_modelo(self, modelo):\n",
    "        self._modelo = modelo\n",
    "        \n",
    "    def get_cor(self):\n",
    "        return self._cor\n",
    "    \n",
    "    def set_cor(self, cor):\n",
    "        self._cor = cor\n",
    "        \n",
    "    def get_km_rodado(self):\n",
    "        return self._km_rodado\n",
    "    \n",
    "    def set_km_rodado(self, km):\n",
    "        self._km_rodado = km\n",
    "        \n",
    "    def get_dados(self):\n",
    "        return f'Marca: {self._marca}, Modelo: {self._modelo}, Cor: {self._cor}, Km Rodado: {format(self._km_rodado, \".4f\")}'"
   ]
  },
  {
   "cell_type": "code",
   "execution_count": 51,
   "id": "7c35a349",
   "metadata": {},
   "outputs": [],
   "source": [
    "carro = Carro('Fiat', 'Palio', 2023, 'Branca', 10.000)"
   ]
  },
  {
   "cell_type": "code",
   "execution_count": 52,
   "id": "afadea2e",
   "metadata": {},
   "outputs": [
    {
     "data": {
      "text/plain": [
       "'Marca: Fiat, Modelo: Palio, Cor: Branca, Km Rodado: 10.0000'"
      ]
     },
     "execution_count": 52,
     "metadata": {},
     "output_type": "execute_result"
    }
   ],
   "source": [
    "carro.get_dados()"
   ]
  },
  {
   "cell_type": "markdown",
   "id": "af165222",
   "metadata": {},
   "source": [
    "### 5. Crie uma classe Conta que represente uma conta bancária. A classe deve ter os seguintes atributos:\n",
    "\n",
    "numero: o número da conta\n",
    "titular: o titular da conta\n",
    "saldo: o saldo da conta\n",
    "A classe deve ter os seguintes métodos:\n",
    "\n",
    "get_numero(): retorna o número da conta\n",
    "\n",
    "set_numero(): define o número da conta\n",
    "\n",
    "get_titular(): retorna o titular da conta\n",
    "\n",
    "set_titular(): define o titular da conta\n",
    "\n",
    "get_saldo(): retorna o saldo da conta\n",
    "\n",
    "deposita(): deposita um valor na conta\n",
    "\n",
    "saca(): saca um valor da conta\n",
    "\n",
    "Escreva um programa que crie uma conta com número 123456-7 e titular \"João da Silva\". Deposite R$100,00 na conta e saque R$50,00."
   ]
  },
  {
   "cell_type": "code",
   "execution_count": 13,
   "id": "0e533517",
   "metadata": {},
   "outputs": [],
   "source": [
    "class Conta:\n",
    "    def __init__(self, numero, titular, saldo):\n",
    "        self._numero = numero\n",
    "        self._titular = titular\n",
    "        self._saldo = saldo\n",
    "        \n",
    "    def get_numero(self):\n",
    "        return self._numero\n",
    "    \n",
    "    def set_numero(self, numero):\n",
    "        self._numero = numero\n",
    "        \n",
    "    def get_titular(self):\n",
    "        return self._titular\n",
    "    \n",
    "    def set_titular(self, titular):\n",
    "        self._titular = titular\n",
    "        \n",
    "    def get_saldo(self):\n",
    "        return self._saldo\n",
    "    \n",
    "    def set_saldo(self):\n",
    "        self._saldo = saldo\n",
    "        \n",
    "    def depositar(self, valor):\n",
    "        if valor < 0:\n",
    "            print('Impossível depositar um valor negativo')\n",
    "        else:\n",
    "            self._saldo += valor\n",
    "            print(f'Valor R$ {valor}. Saldo atual: {self._saldo}')\n",
    "        \n",
    "    def sacar(self, valor):\n",
    "        if valor < 0:\n",
    "            print('Impossível sacar um valor negativo')\n",
    "        else:\n",
    "            self._saldo -= valor\n",
    "            print(f'Valor R$ {valor}. Saldo atual: {self._saldo}')\n",
    "            \n",
    "    def get_dados(self):\n",
    "        return (f'{self._numero}, {self._titular}, {self._saldo}')\n",
    "        "
   ]
  },
  {
   "cell_type": "code",
   "execution_count": 14,
   "id": "8df654c9",
   "metadata": {},
   "outputs": [],
   "source": [
    "conta1 = Conta('123456-7', 'João Silva', 500)"
   ]
  },
  {
   "cell_type": "code",
   "execution_count": 15,
   "id": "e935e6ac",
   "metadata": {},
   "outputs": [
    {
     "data": {
      "text/plain": [
       "500"
      ]
     },
     "execution_count": 15,
     "metadata": {},
     "output_type": "execute_result"
    }
   ],
   "source": [
    "conta1.get_saldo()"
   ]
  },
  {
   "cell_type": "code",
   "execution_count": 16,
   "id": "0490d932",
   "metadata": {},
   "outputs": [
    {
     "name": "stdout",
     "output_type": "stream",
     "text": [
      "Valor R$ 100. Saldo atual: 600\n"
     ]
    }
   ],
   "source": [
    "conta1.depositar(100)"
   ]
  },
  {
   "cell_type": "code",
   "execution_count": 17,
   "id": "6e5fd671",
   "metadata": {},
   "outputs": [
    {
     "name": "stdout",
     "output_type": "stream",
     "text": [
      "Valor R$ 50. Saldo atual: 550\n"
     ]
    }
   ],
   "source": [
    "conta1.sacar(50)"
   ]
  },
  {
   "cell_type": "code",
   "execution_count": 18,
   "id": "46e953ec",
   "metadata": {},
   "outputs": [
    {
     "data": {
      "text/plain": [
       "'123456-7, João Silva, 550'"
      ]
     },
     "execution_count": 18,
     "metadata": {},
     "output_type": "execute_result"
    }
   ],
   "source": [
    "conta1.get_dados()"
   ]
  },
  {
   "cell_type": "markdown",
   "id": "4199569e",
   "metadata": {},
   "source": [
    "### 6. Crie uma classe Livro que represente um livro. A classe deve ter os seguintes atributos:\n",
    "\n",
    "titulo: o título do livro\n",
    "autor: o autor do livro\n",
    "genero: o gênero do livro\n",
    "paginas: a quantidade de páginas do livro\n",
    "A classe deve ter os seguintes métodos:\n",
    "\n",
    "get_titulo(): retorna o título do livro\n",
    "set_titulo(): define o título do livro\n",
    "get_autor(): retorna o autor do livro\n",
    "set_autor(): define o autor do livro\n",
    "get_genero(): retorna o gênero do livro\n",
    "set_genero(): define o gênero do livro\n",
    "get_paginas(): retorna a quantidade de páginas do livro\n",
    "set_paginas(): define a quantidade de páginas do livro\n",
    "imprime_dados(): imprime os dados do livro\n",
    "Escreva um programa que crie um livro com título \"O Hobbit\", autor \"J.R.R. Tolkien\", gênero \"fantasia\" e 300 páginas. Imprima os dados do livro."
   ]
  },
  {
   "cell_type": "code",
   "execution_count": 19,
   "id": "f830b0c4",
   "metadata": {},
   "outputs": [],
   "source": [
    "class Livro:\n",
    "    def __init__(self, livro, autor, genero, paginas):\n",
    "        self._livro = livro\n",
    "        self._autor = autor\n",
    "        self._genero = genero\n",
    "        self._paginas = paginas\n",
    "        \n",
    "        \n",
    "    def get_titulo(self):\n",
    "        return self._livro\n",
    "    \n",
    "    def set_livro(self, livro):\n",
    "        self._livro = livro\n",
    "        \n",
    "    def get_autor(self):\n",
    "        return self._autor\n",
    "    \n",
    "    def set_autor(self, autor):\n",
    "        self._autor = autor\n",
    "        \n",
    "    def get_genero(self):\n",
    "        return self._genero\n",
    "    \n",
    "    def set_genero(self, genero):\n",
    "        self._genero = genero\n",
    "        \n",
    "    def get_paginas(self):\n",
    "        return self._paginas\n",
    "    \n",
    "    def set_paginas(self, pg):\n",
    "        self._paginas = pg\n",
    "        \n",
    "    def get_dados(self):\n",
    "        return f'Livro: {self._livro}, Autor: {self._autor}, Gênero: {self._genero}, Páginas: {self._paginas}'"
   ]
  },
  {
   "cell_type": "code",
   "execution_count": 20,
   "id": "264ce93d",
   "metadata": {},
   "outputs": [],
   "source": [
    "# Criando instâncias da classe Livro\n",
    "livro1 = Livro(\"Dom Casmurro\", \"Machado de Assis\", \"Romance\", 256)\n",
    "livro2 = Livro(\"1984\", \"George Orwell\", \"Ficção Científica\", 328)\n",
    "livro3 = Livro(\"O Pequeno Príncipe\", \"Antoine de Saint-Exupéry\", \"Fábula\", 96)"
   ]
  },
  {
   "cell_type": "code",
   "execution_count": 21,
   "id": "73076a51",
   "metadata": {},
   "outputs": [
    {
     "data": {
      "text/plain": [
       "'Livro: Dom Casmurro, Autor: Machado de Assis, Gênero: Romance, Páginas: 256'"
      ]
     },
     "execution_count": 21,
     "metadata": {},
     "output_type": "execute_result"
    }
   ],
   "source": [
    "livro1.get_dados()"
   ]
  },
  {
   "cell_type": "code",
   "execution_count": 22,
   "id": "cdabed13",
   "metadata": {},
   "outputs": [],
   "source": [
    "livro1.set_paginas(652)"
   ]
  },
  {
   "cell_type": "code",
   "execution_count": 23,
   "id": "6ce850af",
   "metadata": {},
   "outputs": [
    {
     "data": {
      "text/plain": [
       "'Livro: Dom Casmurro, Autor: Machado de Assis, Gênero: Romance, Páginas: 652'"
      ]
     },
     "execution_count": 23,
     "metadata": {},
     "output_type": "execute_result"
    }
   ],
   "source": [
    "livro1.get_dados()"
   ]
  },
  {
   "cell_type": "code",
   "execution_count": 1,
   "id": "ad5c97d8",
   "metadata": {
    "scrolled": true
   },
   "outputs": [
    {
     "name": "stdout",
     "output_type": "stream",
     "text": [
      "10\n",
      "9\n",
      "8\n",
      "7\n",
      "6\n",
      "5\n",
      "4\n",
      "3\n",
      "2\n",
      "1\n",
      "FIM\n"
     ]
    }
   ],
   "source": [
    "n = 10\n",
    "while n > 0:\n",
    "    print(n)\n",
    "    n -= 1\n",
    "print('FIM')"
   ]
  },
  {
   "cell_type": "code",
   "execution_count": null,
   "id": "538034ab",
   "metadata": {},
   "outputs": [],
   "source": []
  }
 ],
 "metadata": {
  "kernelspec": {
   "display_name": "Python 3 (ipykernel)",
   "language": "python",
   "name": "python3"
  },
  "language_info": {
   "codemirror_mode": {
    "name": "ipython",
    "version": 3
   },
   "file_extension": ".py",
   "mimetype": "text/x-python",
   "name": "python",
   "nbconvert_exporter": "python",
   "pygments_lexer": "ipython3",
   "version": "3.10.9"
  }
 },
 "nbformat": 4,
 "nbformat_minor": 5
}
