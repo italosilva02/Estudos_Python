{
 "cells": [
  {
   "cell_type": "markdown",
   "id": "f51726b0",
   "metadata": {},
   "source": [
    "# Arquivos CSV e JSON em Python: Uma Visão Geral"
   ]
  },
  {
   "cell_type": "markdown",
   "id": "2a30aeb1",
   "metadata": {},
   "source": [
    "Em Python, dois formatos de arquivo populares para trabalhar com dados são CSV (comma-separated values) e JSON (JavaScript Object Notation). Cada um tem suas próprias vantagens e desvantagens, e a escolha do formato certo depende de suas necessidades específicas.\n",
    "\n",
    "### CSV (Comma-separated values):\n",
    "\n",
    "Um formato simples e text-based, fácil de ler e escrever manualmente.\n",
    "Cada linha representa um registro de dados, e os valores individuais são separados por vírgulas (,).\n",
    "Ideal para dados tabulares simples, como planilhas ou dados extraídos de websites.\n",
    "Limitações: não fornece informações sobre o tipo de dados ou a estrutura dos registros, nem suporta dados não-ASCII.\n",
    "JSON (JavaScript Object Notation):\n",
    "\n",
    "Um formato baseado em chave-valor, mais estruturado e legível para a máquina.\n",
    "Os dados são representados como pares de chave-valor (key-value), aninhados em objetos e arrays.\n",
    "É excelente para dados complexos com hierarquias e diferentes tipos de dados.\n",
    "Permite definir o tipo de cada dado (string, integer, etc.) e facilita o parsing e o uso em programas.\n",
    "Pode ser menos amigável para a leitura humana.\n",
    "Trabalhando com CSV e JSON em Python:\n",
    "\n",
    "### Python possui bibliotecas padrão (csv e json) para trabalhar facilmente com esses formatos:\n",
    "\n",
    "- csv: \n",
    "Permite ler e escrever arquivos CSV, definir delimitadores, ignorar linhas em branco, etc.\n",
    "\n",
    "- json: \n",
    "Permite carregar e salvar dados JSON, converter objetos Python em JSON e vice-versa, etc.\n",
    "\n",
    "### Além disso, vários pacotes extras oferecem funcionalidades avançadas, como:\n",
    "\n",
    "- pandas: \n",
    "Uma biblioteca poderosa para análise de dados que suporta leitura e escrita de CSV e JSON com manipulação e análise avançadas.\n",
    "- fastcsv: \n",
    "Uma biblioteca alternativa para leitura e escrita de CSV para melhor performance.\n",
    "- orjson: \n",
    "Uma biblioteca JSON mais rápida e eficiente do que a padrão.\n",
    "\n",
    "### Resumindo:\n",
    "\n",
    "Escolha CSV para dados simples tabulares e legíveis manualmente.\n",
    "Use JSON para dados complexos com estrutura e tipos de dados definidos.\n",
    "Python oferece bibliotecas padrão e pacotes extras para trabalhar com ambos os formatos com facilidade e flexibilidade.\n",
    "Espero que esta explicação tenha sido útil! Se tiver dúvidas específicas sobre como trabalhar com CSV ou JSON no Python, fique à vontade para perguntar."
   ]
  },
  {
   "cell_type": "code",
   "execution_count": 1,
   "id": "f4f09542",
   "metadata": {},
   "outputs": [],
   "source": [
    "import os"
   ]
  },
  {
   "cell_type": "code",
   "execution_count": 2,
   "id": "55818484",
   "metadata": {},
   "outputs": [
    {
     "data": {
      "text/plain": [
       "['.ipynb_checkpoints', 'Aula_2_lendo_csv_json.ipynb', 'file']"
      ]
     },
     "execution_count": 2,
     "metadata": {},
     "output_type": "execute_result"
    }
   ],
   "source": [
    "os.listdir()"
   ]
  },
  {
   "cell_type": "code",
   "execution_count": 3,
   "id": "e2ff90ac",
   "metadata": {},
   "outputs": [
    {
     "data": {
      "text/plain": [
       "['lutadores.csv']"
      ]
     },
     "execution_count": 3,
     "metadata": {},
     "output_type": "execute_result"
    }
   ],
   "source": [
    "os.listdir('file/')"
   ]
  },
  {
   "cell_type": "markdown",
   "id": "83124ffe",
   "metadata": {},
   "source": [
    "- Possível se trabalhar, porém, não é o ideal"
   ]
  },
  {
   "cell_type": "code",
   "execution_count": 11,
   "id": "75384f13",
   "metadata": {},
   "outputs": [
    {
     "name": "stdout",
     "output_type": "stream",
     "text": [
      "<class 'list'>\n"
     ]
    }
   ],
   "source": [
    "with open('file/lutadores.csv', encoding='utf-8') as df:\n",
    "    dados = df.read()\n",
    "    dados = dados.split(',')\n",
    "    print(type(dados))"
   ]
  },
  {
   "cell_type": "code",
   "execution_count": 12,
   "id": "5a983c2d",
   "metadata": {},
   "outputs": [
    {
     "name": "stdout",
     "output_type": "stream",
     "text": [
      "['Nome', 'País', 'Altura (em cm)\\nRyu', 'Japão', '175\\nKen', 'EUA', '175\\nChun-Li', 'China', '165\\nGuile', 'EUA', '185\\nE. Honda', 'Japão', '185\\nDhalsim', 'Índia', '176\\nBlanka', 'Brasil', '192\\nZangief', 'Rússia', '214']\n"
     ]
    }
   ],
   "source": [
    "print(dados)"
   ]
  },
  {
   "cell_type": "code",
   "execution_count": 14,
   "id": "ed00f152",
   "metadata": {},
   "outputs": [
    {
     "name": "stdout",
     "output_type": "stream",
     "text": [
      "['Altura (em cm)\\nRyu', 'Japão', '175\\nKen', 'EUA', '175\\nChun-Li', 'China', '165\\nGuile', 'EUA', '185\\nE. Honda', 'Japão', '185\\nDhalsim', 'Índia', '176\\nBlanka', 'Brasil', '192\\nZangief', 'Rússia', '214']\n"
     ]
    }
   ],
   "source": [
    "print(dados[2:])"
   ]
  },
  {
   "cell_type": "markdown",
   "id": "a69f8f0a",
   "metadata": {},
   "source": [
    "Python possui duas formas diferentes para er dados em arquivos CSV:\n",
    " - reader -> Permite que interemos sobre as linhas do arquivo csv como listas\n",
    " - dictReader -> Permite que iteremos sobre as linhas do arquivo scv como OrderDicts"
   ]
  },
  {
   "cell_type": "code",
   "execution_count": 51,
   "id": "6a8399b9",
   "metadata": {},
   "outputs": [],
   "source": [
    "import csv"
   ]
  },
  {
   "cell_type": "code",
   "execution_count": 52,
   "id": "c59cea85",
   "metadata": {},
   "outputs": [
    {
     "data": {
      "text/plain": [
       "['Dialect',\n",
       " 'DictReader',\n",
       " 'DictWriter',\n",
       " 'Error',\n",
       " 'QUOTE_ALL',\n",
       " 'QUOTE_MINIMAL',\n",
       " 'QUOTE_NONE',\n",
       " 'QUOTE_NONNUMERIC',\n",
       " 'Sniffer',\n",
       " 'StringIO',\n",
       " '_Dialect',\n",
       " '__all__',\n",
       " '__builtins__',\n",
       " '__cached__',\n",
       " '__doc__',\n",
       " '__file__',\n",
       " '__loader__',\n",
       " '__name__',\n",
       " '__package__',\n",
       " '__spec__',\n",
       " '__version__',\n",
       " 'excel',\n",
       " 'excel_tab',\n",
       " 'field_size_limit',\n",
       " 'get_dialect',\n",
       " 'list_dialects',\n",
       " 're',\n",
       " 'reader',\n",
       " 'register_dialect',\n",
       " 'unix_dialect',\n",
       " 'unregister_dialect',\n",
       " 'writer']"
      ]
     },
     "execution_count": 52,
     "metadata": {},
     "output_type": "execute_result"
    }
   ],
   "source": [
    "dir(csv)"
   ]
  },
  {
   "cell_type": "markdown",
   "id": "21d6ac79",
   "metadata": {},
   "source": [
    "## Reader"
   ]
  },
  {
   "cell_type": "code",
   "execution_count": 15,
   "id": "d94635c0",
   "metadata": {},
   "outputs": [],
   "source": [
    "from csv import reader"
   ]
  },
  {
   "cell_type": "code",
   "execution_count": 16,
   "id": "0976e1b1",
   "metadata": {},
   "outputs": [
    {
     "data": {
      "text/plain": [
       "['__call__',\n",
       " '__class__',\n",
       " '__delattr__',\n",
       " '__dir__',\n",
       " '__doc__',\n",
       " '__eq__',\n",
       " '__format__',\n",
       " '__ge__',\n",
       " '__getattribute__',\n",
       " '__gt__',\n",
       " '__hash__',\n",
       " '__init__',\n",
       " '__init_subclass__',\n",
       " '__le__',\n",
       " '__lt__',\n",
       " '__module__',\n",
       " '__name__',\n",
       " '__ne__',\n",
       " '__new__',\n",
       " '__qualname__',\n",
       " '__reduce__',\n",
       " '__reduce_ex__',\n",
       " '__repr__',\n",
       " '__self__',\n",
       " '__setattr__',\n",
       " '__sizeof__',\n",
       " '__str__',\n",
       " '__subclasshook__',\n",
       " '__text_signature__']"
      ]
     },
     "execution_count": 16,
     "metadata": {},
     "output_type": "execute_result"
    }
   ],
   "source": [
    "dir(reader)"
   ]
  },
  {
   "cell_type": "code",
   "execution_count": 31,
   "id": "b2c48b4a",
   "metadata": {},
   "outputs": [
    {
     "name": "stdout",
     "output_type": "stream",
     "text": [
      "Nome nasceu no(a)(s) País e tem Altura (em cm) metros\n",
      "Ryu nasceu no(a)(s) Japão e tem 175 metros\n",
      "Ken nasceu no(a)(s) EUA e tem 175 metros\n",
      "Chun-Li nasceu no(a)(s) China e tem 165 metros\n",
      "Guile nasceu no(a)(s) EUA e tem 185 metros\n",
      "E. Honda nasceu no(a)(s) Japão e tem 185 metros\n",
      "Dhalsim nasceu no(a)(s) Índia e tem 176 metros\n",
      "Blanka nasceu no(a)(s) Brasil e tem 192 metros\n",
      "Zangief nasceu no(a)(s) Rússia e tem 214 metros\n"
     ]
    }
   ],
   "source": [
    "with open('file/lutadores.csv', encoding='UTF-8') as df:\n",
    "    dados_csv = reader(df)\n",
    "    for linha in dados_csv:\n",
    "        #Cada linha é uma lista\n",
    "        print(f'{linha[0]} nasceu no(a)(s) {linha[1]} e tem {linha[2]} metros')"
   ]
  },
  {
   "cell_type": "markdown",
   "id": "176d88aa",
   "metadata": {},
   "source": [
    "### Pular o cabeçalho"
   ]
  },
  {
   "cell_type": "code",
   "execution_count": 37,
   "id": "6aad6234",
   "metadata": {},
   "outputs": [
    {
     "name": "stdout",
     "output_type": "stream",
     "text": [
      "Ryu nasceu no(a)(s) Japão e tem 1.75 metros\n",
      "Ken nasceu no(a)(s) EUA e tem 1.75 metros\n",
      "Chun-Li nasceu no(a)(s) China e tem 1.65 metros\n",
      "Guile nasceu no(a)(s) EUA e tem 1.85 metros\n",
      "E. Honda nasceu no(a)(s) Japão e tem 1.85 metros\n",
      "Dhalsim nasceu no(a)(s) Índia e tem 1.76 metros\n",
      "Blanka nasceu no(a)(s) Brasil e tem 1.92 metros\n",
      "Zangief nasceu no(a)(s) Rússia e tem 2.14 metros\n"
     ]
    }
   ],
   "source": [
    "with open('file/lutadores.csv', encoding='UTF-8') as df:\n",
    "    dados_csv = reader(df)\n",
    "    next(dados_csv) # Pula o cabeçalho\n",
    "    for linha in dados_csv:\n",
    "        #Cada linha é uma lista\n",
    "        print(f'{linha[0]} nasceu no(a)(s) {linha[1]} e tem {int(linha[2]) / 100} metros')"
   ]
  },
  {
   "cell_type": "code",
   "execution_count": 33,
   "id": "bb4c854c",
   "metadata": {},
   "outputs": [
    {
     "name": "stdout",
     "output_type": "stream",
     "text": [
      "<class '_csv.reader'>\n"
     ]
    }
   ],
   "source": [
    "print(type(dados_csv))"
   ]
  },
  {
   "cell_type": "code",
   "execution_count": 35,
   "id": "793bc9d6",
   "metadata": {},
   "outputs": [
    {
     "data": {
      "text/plain": [
       "['__class__',\n",
       " '__delattr__',\n",
       " '__dir__',\n",
       " '__doc__',\n",
       " '__eq__',\n",
       " '__format__',\n",
       " '__ge__',\n",
       " '__getattribute__',\n",
       " '__gt__',\n",
       " '__hash__',\n",
       " '__init__',\n",
       " '__init_subclass__',\n",
       " '__iter__',\n",
       " '__le__',\n",
       " '__lt__',\n",
       " '__module__',\n",
       " '__ne__',\n",
       " '__new__',\n",
       " '__next__',\n",
       " '__reduce__',\n",
       " '__reduce_ex__',\n",
       " '__repr__',\n",
       " '__setattr__',\n",
       " '__sizeof__',\n",
       " '__str__',\n",
       " '__subclasshook__',\n",
       " 'dialect',\n",
       " 'line_num']"
      ]
     },
     "execution_count": 35,
     "metadata": {},
     "output_type": "execute_result"
    }
   ],
   "source": [
    "dir(dados_csv)"
   ]
  },
  {
   "cell_type": "markdown",
   "id": "99f997cd",
   "metadata": {},
   "source": [
    "## DictReader"
   ]
  },
  {
   "cell_type": "code",
   "execution_count": 45,
   "id": "0faaf82f",
   "metadata": {},
   "outputs": [],
   "source": [
    "from csv import DictReader"
   ]
  },
  {
   "cell_type": "code",
   "execution_count": 46,
   "id": "a49acdc4",
   "metadata": {},
   "outputs": [
    {
     "data": {
      "text/plain": [
       "['__class__',\n",
       " '__delattr__',\n",
       " '__dict__',\n",
       " '__dir__',\n",
       " '__doc__',\n",
       " '__eq__',\n",
       " '__format__',\n",
       " '__ge__',\n",
       " '__getattribute__',\n",
       " '__gt__',\n",
       " '__hash__',\n",
       " '__init__',\n",
       " '__init_subclass__',\n",
       " '__iter__',\n",
       " '__le__',\n",
       " '__lt__',\n",
       " '__module__',\n",
       " '__ne__',\n",
       " '__new__',\n",
       " '__next__',\n",
       " '__reduce__',\n",
       " '__reduce_ex__',\n",
       " '__repr__',\n",
       " '__setattr__',\n",
       " '__sizeof__',\n",
       " '__str__',\n",
       " '__subclasshook__',\n",
       " '__weakref__',\n",
       " 'fieldnames']"
      ]
     },
     "execution_count": 46,
     "metadata": {},
     "output_type": "execute_result"
    }
   ],
   "source": [
    "dir(DictReader)"
   ]
  },
  {
   "cell_type": "code",
   "execution_count": 49,
   "id": "4b5833c8",
   "metadata": {},
   "outputs": [
    {
     "name": "stdout",
     "output_type": "stream",
     "text": [
      "{'Nome': 'Ryu', 'País': 'Japão', 'Altura (em cm)': '175'}\n",
      "{'Nome': 'Ken', 'País': 'EUA', 'Altura (em cm)': '175'}\n",
      "{'Nome': 'Chun-Li', 'País': 'China', 'Altura (em cm)': '165'}\n",
      "{'Nome': 'Guile', 'País': 'EUA', 'Altura (em cm)': '185'}\n",
      "{'Nome': 'E. Honda', 'País': 'Japão', 'Altura (em cm)': '185'}\n",
      "{'Nome': 'Dhalsim', 'País': 'Índia', 'Altura (em cm)': '176'}\n",
      "{'Nome': 'Blanka', 'País': 'Brasil', 'Altura (em cm)': '192'}\n",
      "{'Nome': 'Zangief', 'País': 'Rússia', 'Altura (em cm)': '214'}\n"
     ]
    }
   ],
   "source": [
    "with open('file/lutadores.csv', encoding='UTF-8') as df:\n",
    "    dados_csv = DictReader(df)\n",
    "    for i in dados_csv:\n",
    "        print(i)"
   ]
  },
  {
   "cell_type": "code",
   "execution_count": 50,
   "id": "e7cbde84",
   "metadata": {},
   "outputs": [
    {
     "name": "stdout",
     "output_type": "stream",
     "text": [
      "Nome: Ryu, País: Japão, Altura: 175\n",
      "Nome: Ken, País: EUA, Altura: 175\n",
      "Nome: Chun-Li, País: China, Altura: 165\n",
      "Nome: Guile, País: EUA, Altura: 185\n",
      "Nome: E. Honda, País: Japão, Altura: 185\n",
      "Nome: Dhalsim, País: Índia, Altura: 176\n",
      "Nome: Blanka, País: Brasil, Altura: 192\n",
      "Nome: Zangief, País: Rússia, Altura: 214\n"
     ]
    }
   ],
   "source": [
    "with open('file/lutadores.csv', encoding='UTF-8') as df:\n",
    "    dados_csv = DictReader(df)\n",
    "    for i in dados_csv:\n",
    "        print(f\"Nome: {i['Nome']}, País: {i['País']}, Altura: {i['Altura (em cm)']}\")"
   ]
  },
  {
   "cell_type": "code",
   "execution_count": null,
   "id": "d837bf1a",
   "metadata": {},
   "outputs": [],
   "source": [
    "# Caso o delimitador seja diferente de virgula"
   ]
  },
  {
   "cell_type": "code",
   "execution_count": null,
   "id": "59959ccf",
   "metadata": {},
   "outputs": [],
   "source": [
    "with open('file/lutadores.csv', encoding='UTF-8') as df:\n",
    "    dados_csv = DictReader(df, delimiter=',')\n",
    "    for i in dados_csv:\n",
    "        print(f\"Nome: {i['Nome']}, País: {i['País']}, Altura: {i['Altura (em cm)']}\")"
   ]
  }
 ],
 "metadata": {
  "kernelspec": {
   "display_name": "Python 3 (ipykernel)",
   "language": "python",
   "name": "python3"
  },
  "language_info": {
   "codemirror_mode": {
    "name": "ipython",
    "version": 3
   },
   "file_extension": ".py",
   "mimetype": "text/x-python",
   "name": "python",
   "nbconvert_exporter": "python",
   "pygments_lexer": "ipython3",
   "version": "3.10.9"
  }
 },
 "nbformat": 4,
 "nbformat_minor": 5
}
