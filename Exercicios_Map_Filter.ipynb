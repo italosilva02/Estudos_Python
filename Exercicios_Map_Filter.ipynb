{
  "nbformat": 4,
  "nbformat_minor": 0,
  "metadata": {
    "colab": {
      "provenance": [],
      "authorship_tag": "ABX9TyP2DqicjzDO6T7ywEXZ5r/B",
      "include_colab_link": true
    },
    "kernelspec": {
      "name": "python3",
      "display_name": "Python 3"
    },
    "language_info": {
      "name": "python"
    }
  },
  "cells": [
    {
      "cell_type": "markdown",
      "metadata": {
        "id": "view-in-github",
        "colab_type": "text"
      },
      "source": [
        "<a href=\"https://colab.research.google.com/github/italosilva02/Estudos_Python/blob/main/Exercicios_Map_Filter.ipynb\" target=\"_parent\"><img src=\"https://colab.research.google.com/assets/colab-badge.svg\" alt=\"Open In Colab\"/></a>"
      ]
    },
    {
      "cell_type": "markdown",
      "source": [
        "#**10 questões - Map e Filter**"
      ],
      "metadata": {
        "id": "Blka5JtRrIWa"
      }
    },
    {
      "cell_type": "markdown",
      "source": [
        "###1 - Questão: Dada uma lista de números, como utilizar map para gerar uma nova lista com cada número elevado ao quadrado?"
      ],
      "metadata": {
        "id": "8NqZittCrVC5"
      }
    },
    {
      "cell_type": "code",
      "source": [
        "lista = []\n",
        "\n",
        "for i in range(1,21):\n",
        "  lista.append(i)"
      ],
      "metadata": {
        "id": "65kh165I1Qii"
      },
      "execution_count": 3,
      "outputs": []
    },
    {
      "cell_type": "code",
      "source": [
        "print(lista)"
      ],
      "metadata": {
        "colab": {
          "base_uri": "https://localhost:8080/"
        },
        "id": "01rn5jcy1eyE",
        "outputId": "62dca4ad-6449-4da6-d089-86920128d374"
      },
      "execution_count": 4,
      "outputs": [
        {
          "output_type": "stream",
          "name": "stdout",
          "text": [
            "[1, 2, 3, 4, 5, 6, 7, 8, 9, 10, 11, 12, 13, 14, 15, 16, 17, 18, 19, 20]\n"
          ]
        }
      ]
    },
    {
      "cell_type": "code",
      "source": [
        "nova_lista = list(map(lambda x: x**2, lista))\n",
        "print(nova_lista)"
      ],
      "metadata": {
        "colab": {
          "base_uri": "https://localhost:8080/"
        },
        "id": "4sZPhmZ71knT",
        "outputId": "917b2e63-5b53-4dc2-d71e-da825d957da6"
      },
      "execution_count": 5,
      "outputs": [
        {
          "output_type": "stream",
          "name": "stdout",
          "text": [
            "[1, 4, 9, 16, 25, 36, 49, 64, 81, 100, 121, 144, 169, 196, 225, 256, 289, 324, 361, 400]\n"
          ]
        }
      ]
    },
    {
      "cell_type": "markdown",
      "source": [
        "###2 - Questão: Dada uma lista de strings, como usar map para transformar todas as letras em maiúsculas?"
      ],
      "metadata": {
        "id": "loIGkeRm10VC"
      }
    },
    {
      "cell_type": "code",
      "source": [
        "lista_str = ['paulo', 'maria', 'carla', 'andré', 'barbara', 'bianca', 'jessica', 'kaio']\n",
        "nova_lista_str = list(map(lambda x: x.lower(), lista_str))\n",
        "print(nova_lista_str)"
      ],
      "metadata": {
        "colab": {
          "base_uri": "https://localhost:8080/"
        },
        "id": "3d_2Ewa217An",
        "outputId": "e5691f12-5972-4cd5-af75-5eccd39e3718"
      },
      "execution_count": 10,
      "outputs": [
        {
          "output_type": "stream",
          "name": "stdout",
          "text": [
            "['paulo', 'maria', 'carla', 'andré', 'barbara', 'bianca', 'jessica', 'kaio']\n"
          ]
        }
      ]
    },
    {
      "cell_type": "markdown",
      "source": [
        "###3 - Questão: Como utilizar filter para obter todos os números pares de uma lista de números inteiros?"
      ],
      "metadata": {
        "id": "7o7dExnm2odK"
      }
    },
    {
      "cell_type": "code",
      "source": [
        "nova_lista_int = list(filter(lambda x: x if x % 2 == 0 else 0, lista))"
      ],
      "metadata": {
        "id": "1WcZuCZ_2sRB"
      },
      "execution_count": 15,
      "outputs": []
    },
    {
      "cell_type": "code",
      "source": [
        "print(nova_lista_int)"
      ],
      "metadata": {
        "colab": {
          "base_uri": "https://localhost:8080/"
        },
        "id": "E9PDovDq25dB",
        "outputId": "30bfc659-cec8-4e7d-8c88-f5e1b85d9179"
      },
      "execution_count": 16,
      "outputs": [
        {
          "output_type": "stream",
          "name": "stdout",
          "text": [
            "[2, 4, 6, 8, 10, 12, 14, 16, 18, 20]\n"
          ]
        }
      ]
    },
    {
      "cell_type": "markdown",
      "source": [
        "###4 - Questão: Dada uma lista de palavras, como usar filter para selecionar apenas as palavras com mais de 5 letras??"
      ],
      "metadata": {
        "id": "LYnsPDM-3aWq"
      }
    },
    {
      "cell_type": "code",
      "source": [
        "lista_nome_mais5 = list(filter(lambda x: x if len(x) > 5 else 0, lista_str))"
      ],
      "metadata": {
        "id": "jshOFjk53f2q"
      },
      "execution_count": 19,
      "outputs": []
    },
    {
      "cell_type": "code",
      "source": [
        "print(lista_nome_mais5)"
      ],
      "metadata": {
        "colab": {
          "base_uri": "https://localhost:8080/"
        },
        "id": "g7bFp8Lj3z5K",
        "outputId": "b4b8f24c-ac28-42f5-9148-b65e9b1fc1cf"
      },
      "execution_count": 20,
      "outputs": [
        {
          "output_type": "stream",
          "name": "stdout",
          "text": [
            "['barbara', 'bianca', 'jessica']\n"
          ]
        }
      ]
    },
    {
      "cell_type": "markdown",
      "source": [
        "###5 - Questão: Dada uma lista de dicionários, onde cada dicionário representa um produto com chaves \"nome\" e \"preço\", como usar map para criar uma nova lista apenas com os preços dos produtos?"
      ],
      "metadata": {
        "id": "9BG6rqIH397k"
      }
    },
    {
      "cell_type": "code",
      "source": [
        "produtos = {'televisão': 600,\n",
        "            'videogame': 1500,\n",
        "            'mesa': 150,\n",
        "            'cadeira': 50,\n",
        "            'ventilador': 130,\n",
        "            'torradeira': 35,\n",
        "            'chaleira': 60}"
      ],
      "metadata": {
        "id": "kevsQkmV4EJ0"
      },
      "execution_count": 22,
      "outputs": []
    },
    {
      "cell_type": "code",
      "source": [
        "print(produtos.values())"
      ],
      "metadata": {
        "colab": {
          "base_uri": "https://localhost:8080/"
        },
        "id": "1P2BtTOW6Lkb",
        "outputId": "42c7ad61-ff28-4823-f2c1-8563dd273328"
      },
      "execution_count": 25,
      "outputs": [
        {
          "output_type": "stream",
          "name": "stdout",
          "text": [
            "dict_values([600, 1500, 150, 50, 130, 35, 60])\n"
          ]
        }
      ]
    },
    {
      "cell_type": "code",
      "source": [
        "lista_de_preco = (list(map(lambda item: item, produtos.values())))"
      ],
      "metadata": {
        "id": "xwtuKNmt41cu"
      },
      "execution_count": 29,
      "outputs": []
    },
    {
      "cell_type": "code",
      "source": [
        "print(lista_de_preco)"
      ],
      "metadata": {
        "colab": {
          "base_uri": "https://localhost:8080/"
        },
        "id": "Uf4hQDPf6gRn",
        "outputId": "fb98bd3f-0d7f-4b00-bf0f-b8a545760489"
      },
      "execution_count": 30,
      "outputs": [
        {
          "output_type": "stream",
          "name": "stdout",
          "text": [
            "[600, 1500, 150, 50, 130, 35, 60]\n"
          ]
        }
      ]
    },
    {
      "cell_type": "markdown",
      "source": [
        "###6 - Questão: Utilizando filter, como encontrar todos os elementos únicos em uma lista?"
      ],
      "metadata": {
        "id": "nJ3Vm6fD6lT7"
      }
    },
    {
      "cell_type": "code",
      "source": [
        "numero = [5,6,3,7,8,9,8,4,7,1,5,9,6]"
      ],
      "metadata": {
        "id": "MrwfsQ5X6q7L"
      },
      "execution_count": 36,
      "outputs": []
    },
    {
      "cell_type": "code",
      "source": [
        "valores_unicos = [list(filter(lambda x: numero.count(x) == 1, numero))]"
      ],
      "metadata": {
        "id": "4bzxhkR_7dor"
      },
      "execution_count": 37,
      "outputs": []
    },
    {
      "cell_type": "code",
      "source": [
        "print(valores_unicos)"
      ],
      "metadata": {
        "colab": {
          "base_uri": "https://localhost:8080/"
        },
        "id": "vBpvp1Oi714z",
        "outputId": "6c2281ff-5acd-43a3-9c0f-bf2b127392f6"
      },
      "execution_count": 38,
      "outputs": [
        {
          "output_type": "stream",
          "name": "stdout",
          "text": [
            "[[3, 4, 1]]\n"
          ]
        }
      ]
    },
    {
      "cell_type": "markdown",
      "source": [
        "###7 - Questão: Dada uma lista de valores mistos (números e strings), como usar map para converter apenas os números em inteiros?"
      ],
      "metadata": {
        "id": "34p7eh3U8P90"
      }
    },
    {
      "cell_type": "code",
      "source": [
        "lista_mista = ['televisão',5.2, 'maria', 'carla', 'andré', 5.6, 8.6, 8, 9.6]"
      ],
      "metadata": {
        "id": "XG0O4ZOx8Vsj"
      },
      "execution_count": 39,
      "outputs": []
    },
    {
      "cell_type": "code",
      "source": [
        "print(type(5.6))"
      ],
      "metadata": {
        "colab": {
          "base_uri": "https://localhost:8080/"
        },
        "id": "IgFLcNop9Ibb",
        "outputId": "ed5a5da6-df29-4d65-f820-2ecaa986bb1e"
      },
      "execution_count": 41,
      "outputs": [
        {
          "output_type": "stream",
          "name": "stdout",
          "text": [
            "<class 'float'>\n"
          ]
        }
      ]
    },
    {
      "cell_type": "code",
      "source": [
        "nova_lista_inteiro = list(map(lambda x: int(x) if type(x) == float else x, lista_mista))"
      ],
      "metadata": {
        "id": "ITz71vpU8tW7"
      },
      "execution_count": 47,
      "outputs": []
    },
    {
      "cell_type": "code",
      "source": [
        "print(nova_lista_inteiro)"
      ],
      "metadata": {
        "colab": {
          "base_uri": "https://localhost:8080/"
        },
        "id": "EFTUIIz9BXAW",
        "outputId": "2c6d6689-b4cb-4bfe-d941-3150252a3e72"
      },
      "execution_count": 48,
      "outputs": [
        {
          "output_type": "stream",
          "name": "stdout",
          "text": [
            "['televisão', 5, 'maria', 'carla', 'andré', 5, 8, 8, 9]\n"
          ]
        }
      ]
    }
  ]
}