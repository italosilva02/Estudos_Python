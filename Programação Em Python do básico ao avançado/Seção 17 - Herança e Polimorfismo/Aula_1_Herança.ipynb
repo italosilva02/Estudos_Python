{
 "cells": [
  {
   "cell_type": "markdown",
   "id": "16f6129a",
   "metadata": {},
   "source": [
    "# Herança (Inheritance)\n",
    "\n",
    "\n",
    "A ideia de herança é a de reaproveitar código. Também extender nossas classes. \n",
    "\n",
    "OBS: Com a herança, a partir de uma classe existente nós extendemos outra classe que passa a herdar atributos e métodos da classe herdada.\n",
    "\n",
    "Cliente\n",
    "    - Nome\n",
    "    - Sobrenome\n",
    "    - CPF\n",
    "    - Renda\n",
    "    \n",
    "Funcionario\n",
    "    - Nome\n",
    "    - Sobrenome\n",
    "    - CPF\n",
    "    - Matricula"
   ]
  },
  {
   "cell_type": "code",
   "execution_count": 3,
   "id": "ef070eb8",
   "metadata": {},
   "outputs": [],
   "source": [
    "class Cliente:\n",
    "    def __init__(self, nome, sobrenome, cpf, renda):\n",
    "        self._nome = nome\n",
    "        self._sobrenome = sobrenome\n",
    "        self._cpf = cpf\n",
    "        self._renda = renda\n",
    "        \n",
    "    def nome_completo(self):\n",
    "        return f'{self._nome} {self._sobrenome}'"
   ]
  },
  {
   "cell_type": "code",
   "execution_count": 8,
   "id": "bee9e430",
   "metadata": {},
   "outputs": [],
   "source": [
    "class Funcionario:\n",
    "    def __init__(self, nome, sobrenome, cpf, matricula):\n",
    "        self._nome = nome\n",
    "        self._sobrenome = sobrenome\n",
    "        self._cpf = cpf\n",
    "        self._matricula = matricula\n",
    "        \n",
    "    def nome_completo(self):\n",
    "        return f'{self._nome} {self._sobrenome}'"
   ]
  },
  {
   "cell_type": "code",
   "execution_count": 9,
   "id": "a96bc040",
   "metadata": {},
   "outputs": [],
   "source": [
    "cliente1 = Cliente('Angelina', \"Jolie\", '123.456.789-30', 5000)"
   ]
  },
  {
   "cell_type": "code",
   "execution_count": 11,
   "id": "fa3c3d68",
   "metadata": {},
   "outputs": [
    {
     "data": {
      "text/plain": [
       "'Angelina Jolie'"
      ]
     },
     "execution_count": 11,
     "metadata": {},
     "output_type": "execute_result"
    }
   ],
   "source": [
    "cliente1.nome_completo()"
   ]
  },
  {
   "cell_type": "code",
   "execution_count": 10,
   "id": "5df33650",
   "metadata": {},
   "outputs": [],
   "source": [
    "funcionario1 = Funcionario('Maria', 'Rita', '156.854.245-30', '45825-90')"
   ]
  },
  {
   "cell_type": "code",
   "execution_count": 12,
   "id": "d27882d5",
   "metadata": {},
   "outputs": [
    {
     "data": {
      "text/plain": [
       "'Maria Rita'"
      ]
     },
     "execution_count": 12,
     "metadata": {},
     "output_type": "execute_result"
    }
   ],
   "source": [
    "funcionario1.nome_completo()"
   ]
  },
  {
   "cell_type": "markdown",
   "id": "cadcd27c",
   "metadata": {},
   "source": [
    "Há repetição de atributos e métodos em ambas as classes e isso não é bom."
   ]
  },
  {
   "cell_type": "markdown",
   "id": "1000491a",
   "metadata": {},
   "source": [
    "A partir dos atributos genericos de ambas as classes podemos extrair uma nova classe"
   ]
  },
  {
   "cell_type": "code",
   "execution_count": 17,
   "id": "f694cd2e",
   "metadata": {},
   "outputs": [],
   "source": [
    "class Pessoa:\n",
    "    def __init__(self, nome, sobrenome, cpf):\n",
    "        self._nome = nome\n",
    "        self._sobrenome = sobrenome\n",
    "        self._cpf = cpf\n",
    "        \n",
    "    def nome_completo(self):\n",
    "        return f'{self._nome} {self._sobrenome}'"
   ]
  },
  {
   "cell_type": "markdown",
   "id": "368039ad",
   "metadata": {},
   "source": [
    "Atribuindo herança"
   ]
  },
  {
   "cell_type": "code",
   "execution_count": 25,
   "id": "e8571922",
   "metadata": {},
   "outputs": [],
   "source": [
    "#Cliente herda de Pessoa\n",
    "class Cliente(Pessoa):\n",
    "    def __init__(self, nome, sobrenome, cpf, renda):\n",
    "        super().__init__(nome, sobrenome, cpf)\n",
    "        self._renda = renda"
   ]
  },
  {
   "cell_type": "code",
   "execution_count": 26,
   "id": "51a32060",
   "metadata": {},
   "outputs": [],
   "source": [
    "#Funcionario herda de Pessoa\n",
    "class Funcionario(Pessoa):\n",
    "    def __init__(self, nome, sobrenome, cpf, matricula):\n",
    "        super().__init__(nome, sobrenome, cpf) #Acessando o método init da super classe (pessoa)\n",
    "        self._matricula = matricula"
   ]
  },
  {
   "cell_type": "code",
   "execution_count": null,
   "id": "939b6b81",
   "metadata": {},
   "outputs": [],
   "source": [
    "Quando uma classe herda de outra classe, ela herda todos os atributos e métodos."
   ]
  },
  {
   "cell_type": "markdown",
   "id": "f89d7cc5",
   "metadata": {},
   "source": [
    "Quando uma classe herda de outra classe, a classe herdada é conhecida como\n",
    "super classe\n",
    "classe mãe\n",
    "classe pai\n",
    "classe base.\n",
    "\n",
    "Quando uma classe herda de outra classe, ela é chamada de:\n",
    "SubClasse\n",
    "Classe filha\n",
    "Classe específica\n",
    "\n"
   ]
  },
  {
   "cell_type": "code",
   "execution_count": 27,
   "id": "3b21d772",
   "metadata": {},
   "outputs": [],
   "source": [
    "funcionario1 = Funcionario('Maria', 'Rita', '156.854.245-30', '45825-90')"
   ]
  },
  {
   "cell_type": "code",
   "execution_count": 28,
   "id": "d5db46bb",
   "metadata": {},
   "outputs": [
    {
     "data": {
      "text/plain": [
       "'Maria Rita'"
      ]
     },
     "execution_count": 28,
     "metadata": {},
     "output_type": "execute_result"
    }
   ],
   "source": [
    "funcionario1.nome_completo()"
   ]
  },
  {
   "cell_type": "code",
   "execution_count": 29,
   "id": "0a876df4",
   "metadata": {},
   "outputs": [],
   "source": [
    "cliente1 = Cliente('Angelina', \"Jolie\", '123.456.789-30', 5000)"
   ]
  },
  {
   "cell_type": "code",
   "execution_count": 30,
   "id": "3ca47fbd",
   "metadata": {},
   "outputs": [
    {
     "data": {
      "text/plain": [
       "'Angelina Jolie'"
      ]
     },
     "execution_count": 30,
     "metadata": {},
     "output_type": "execute_result"
    }
   ],
   "source": [
    "cliente1.nome_completo()"
   ]
  },
  {
   "cell_type": "code",
   "execution_count": null,
   "id": "a69763f8",
   "metadata": {},
   "outputs": [],
   "source": [
    "# O método que utilizamos para imprimir o nome completo não está nas classes Cliente e Funcionario. Estão na superClasse Pessoa"
   ]
  },
  {
   "cell_type": "code",
   "execution_count": null,
   "id": "d0bdfb04",
   "metadata": {},
   "outputs": [],
   "source": [
    "Podemos fazer de duas maneiras, com o método super() ou atribuindo a propria classe"
   ]
  },
  {
   "cell_type": "code",
   "execution_count": null,
   "id": "b91c5aea",
   "metadata": {},
   "outputs": [],
   "source": [
    "#Forma comum de acessar dados da super classe\n",
    "\n",
    "#Funcionario herda de Pessoa\n",
    "class Funcionario(Pessoa):\n",
    "    def __init__(self, nome, sobrenome, cpf, matricula):\n",
    "        super().__init__(nome, sobrenome, cpf) #Acessando o método init da super classe (pessoa)\n",
    "        self._matricula = matricula"
   ]
  },
  {
   "cell_type": "code",
   "execution_count": null,
   "id": "b5ed2396",
   "metadata": {},
   "outputs": [],
   "source": [
    "#Forma não comum de acessar dados da super classe\n",
    "\n",
    "#Funcionario herda de Pessoa\n",
    "class Funcionario(Pessoa):\n",
    "    def __init__(self, nome, sobrenome, cpf, matricula):\n",
    "        Pessoa.__init__(self, nome, sobrenome, cpf) #Podemos utilizar a SuperClasse também, porém, precisamos definir o self\n",
    "        self._matricula = matricula "
   ]
  },
  {
   "cell_type": "code",
   "execution_count": 32,
   "id": "cc4c80bb",
   "metadata": {},
   "outputs": [
    {
     "data": {
      "text/plain": [
       "{'_nome': 'Maria',\n",
       " '_sobrenome': 'Rita',\n",
       " '_cpf': '156.854.245-30',\n",
       " '_matricula': '45825-90'}"
      ]
     },
     "execution_count": 32,
     "metadata": {},
     "output_type": "execute_result"
    }
   ],
   "source": [
    "funcionario1.__dict__"
   ]
  },
  {
   "cell_type": "code",
   "execution_count": 33,
   "id": "2278f80d",
   "metadata": {},
   "outputs": [
    {
     "data": {
      "text/plain": [
       "{'_nome': 'Angelina',\n",
       " '_sobrenome': 'Jolie',\n",
       " '_cpf': '123.456.789-30',\n",
       " '_renda': 5000}"
      ]
     },
     "execution_count": 33,
     "metadata": {},
     "output_type": "execute_result"
    }
   ],
   "source": [
    "cliente1.__dict__"
   ]
  },
  {
   "cell_type": "markdown",
   "id": "4aed8ba5",
   "metadata": {},
   "source": [
    "### Sobreescrita de métodos (Overriding)"
   ]
  },
  {
   "cell_type": "code",
   "execution_count": null,
   "id": "527fcc3b",
   "metadata": {},
   "outputs": [],
   "source": [
    "Sobreescrita de método ocorre quando reescrevemos um métodos presente na super classe em classe filha"
   ]
  },
  {
   "cell_type": "markdown",
   "id": "a60855dc",
   "metadata": {},
   "source": [
    "Sobreescrita de métodos é um conceito da programação orientada a objetos que permite que uma subclasse reescreva um método herdado da superclasse.\n",
    "\n",
    "Em Python, a sobrescrita de métodos é feita definindo um método com o mesmo nome e assinatura do método herdado. Por exemplo, a seguinte classe Animal define um método falar():\n"
   ]
  },
  {
   "cell_type": "code",
   "execution_count": 34,
   "id": "ece67484",
   "metadata": {},
   "outputs": [],
   "source": [
    "class Animal:\n",
    "    def falar(self):\n",
    "        raise NotImplementedError()"
   ]
  },
  {
   "cell_type": "code",
   "execution_count": null,
   "id": "4f3a0631",
   "metadata": {},
   "outputs": [],
   "source": [
    "A classe Gato é uma subclasse de Animal e redefine o método falar():"
   ]
  },
  {
   "cell_type": "code",
   "execution_count": null,
   "id": "3c533825",
   "metadata": {},
   "outputs": [],
   "source": [
    "class Gato(Animal):\n",
    "    def falar(self):\n",
    "        return \"miau\""
   ]
  },
  {
   "cell_type": "markdown",
   "id": "800cd9fe",
   "metadata": {},
   "source": [
    "Uma instância da classe Gato terá o método falar() da classe Animal. No entanto, quando o método falar() é chamado em uma instância da classe Gato, o método reescrito da classe Gato é chamado.\n",
    "\n",
    "A sobrescrita de métodos pode ser usada para:\n",
    "\n",
    "Fornecer uma implementação mais específica de um método: A sobrescrita de métodos permite que você forneça uma implementação mais específica de um método herdado. Por exemplo, a classe Gato fornece uma implementação específica do método falar() para gatos.\n",
    "Resolver conflitos de métodos: A sobrescrita de métodos pode ser usada para resolver conflitos de métodos. Por exemplo, se duas classes herdarem um método com o mesmo nome, a sobrescrita de métodos permite que você defina uma implementação específica para cada classe.\n",
    "Adicionar novos recursos a uma classe: A sobrescrita de métodos pode ser usada para adicionar novos recursos a uma classe. Por exemplo, a classe Gato pode adicionar um novo recurso ao método falar() para gatos.\n",
    "Aqui estão alguns exemplos de como a sobrescrita de métodos pode ser usada em Python:\n",
    "\n",
    "Redefinir o comportamento padrão de um método: Você pode usar a sobrescrita de métodos para redefinir o comportamento padrão de um método herdado. Por exemplo, a classe Gato redefine o comportamento padrão do método falar() para gatos.\n",
    "Implementar um método de forma diferente para diferentes tipos de objetos: Você pode usar a sobrescrita de métodos para implementar um método de forma diferente para diferentes tipos de objetos. Por exemplo, a classe Gato e a classe Cachorro podem implementar o método falar() de forma diferente.\n",
    "Adicionar novos recursos a uma classe: Você pode usar a sobrescrita de métodos para adicionar novos recursos a uma classe. Por exemplo, a classe Gato pode adicionar um novo recurso ao método falar() para gatos.\n",
    "A sobrescrita de métodos é uma ferramenta poderosa que pode ser usada para melhorar a flexibilidade e a funcionalidade do seu código."
   ]
  },
  {
   "cell_type": "code",
   "execution_count": 56,
   "id": "68418d19",
   "metadata": {},
   "outputs": [],
   "source": [
    "#Forma não comum de acessar dados da super classe\n",
    "\n",
    "#Funcionario herda de Pessoa\n",
    "class Funcionario(Pessoa):\n",
    "    def __init__(self, nome, sobrenome, cpf, matricula):\n",
    "        super().__init__(nome, sobrenome, cpf) #Podemos utilizar a SuperClasse também, porém, precisamos definir o self\n",
    "        self._matricula = matricula \n",
    "        \n",
    "    def nome_completo(self):\n",
    "        print(self._cpf)\n",
    "        print(super().nome_completo()) #Métodos da SuperClasse que não é alterada pela definição na subClasse\n",
    "        return f'Matricula: {self._matricula}, Nome Completo: {self._nome} {self._sobrenome}'"
   ]
  },
  {
   "cell_type": "code",
   "execution_count": 57,
   "id": "27db4db3",
   "metadata": {},
   "outputs": [],
   "source": [
    "funcionario1 = Funcionario('Maria', 'Rita', '156.854.245-30', '45825-90')"
   ]
  },
  {
   "cell_type": "code",
   "execution_count": 58,
   "id": "2383bc21",
   "metadata": {},
   "outputs": [
    {
     "name": "stdout",
     "output_type": "stream",
     "text": [
      "156.854.245-30\n",
      "Maria Rita\n"
     ]
    },
    {
     "data": {
      "text/plain": [
       "'Matricula: 45825-90, Nome Completo: Maria Rita'"
      ]
     },
     "execution_count": 58,
     "metadata": {},
     "output_type": "execute_result"
    }
   ],
   "source": [
    "funcionario1.nome_completo()"
   ]
  },
  {
   "cell_type": "code",
   "execution_count": null,
   "id": "90c21715",
   "metadata": {},
   "outputs": [],
   "source": [
    "#Conseguimos reescrever métodos já existente para atender nossas necessidades"
   ]
  },
  {
   "cell_type": "code",
   "execution_count": 32,
   "id": "20fc39f5",
   "metadata": {},
   "outputs": [],
   "source": [
    "class Cliente:\n",
    "    \n",
    "    id_contador = 5000\n",
    "    \n",
    "    def __init__(self, nome, sobrenome, cpf, endereco):\n",
    "        self.__id_cliente = Cliente.id_contador + 1  # Corrigindo a referência à variável de classe\n",
    "        self.__nome = nome\n",
    "        self.__sobrenome = sobrenome\n",
    "        self.__cpf = cpf\n",
    "        self.__endereco = endereco\n",
    "        Cliente.id_contador = self.__id_cliente  # Atualizando a variável de classe\n",
    "\n",
    "    def nome_completo(self):\n",
    "        return f'{self.__id_cliente} - {self.__nome} {self.__sobrenome}'\n"
   ]
  },
  {
   "cell_type": "code",
   "execution_count": 33,
   "id": "00a3ab66",
   "metadata": {},
   "outputs": [],
   "source": [
    "c1 = Cliente('Maria', 'Carla', '704.658.978-650,', 'Rua Sebastião Carlos de Almadeia - Salvador-BA')"
   ]
  },
  {
   "cell_type": "code",
   "execution_count": 34,
   "id": "7eca83b3",
   "metadata": {},
   "outputs": [],
   "source": [
    "c2 = a = Cliente('Carlos', 'Siqueira', '984.652.145-65,', 'Rua Camilo de Castro - São Paulo-SP')"
   ]
  },
  {
   "cell_type": "code",
   "execution_count": 35,
   "id": "683f0e27",
   "metadata": {},
   "outputs": [
    {
     "name": "stdout",
     "output_type": "stream",
     "text": [
      "5001 - Maria Carla\n"
     ]
    }
   ],
   "source": [
    "print(c1.nome_completo())"
   ]
  },
  {
   "cell_type": "code",
   "execution_count": 36,
   "id": "f7076ccc",
   "metadata": {},
   "outputs": [
    {
     "name": "stdout",
     "output_type": "stream",
     "text": [
      "5002 - Carlos Siqueira\n"
     ]
    }
   ],
   "source": [
    "print(c2.nome_completo())"
   ]
  },
  {
   "cell_type": "code",
   "execution_count": 37,
   "id": "2ec630e6",
   "metadata": {},
   "outputs": [],
   "source": [
    "import random"
   ]
  },
  {
   "cell_type": "code",
   "execution_count": 38,
   "id": "ebc27092",
   "metadata": {},
   "outputs": [
    {
     "name": "stdout",
     "output_type": "stream",
     "text": [
      "50\n"
     ]
    }
   ],
   "source": [
    "print(random.randint(0,500))"
   ]
  },
  {
   "cell_type": "code",
   "execution_count": 90,
   "id": "0d27f189",
   "metadata": {},
   "outputs": [],
   "source": [
    "class Pessoa:\n",
    "    def __init__(self, nome, sobrenome, cpf, idade, sexo):\n",
    "        self.__nome = nome\n",
    "        self.__sobrenome = sobrenome\n",
    "        self.__cpf = cpf\n",
    "        self.__idade = idade\n",
    "        self.__sexo = sexo\n",
    "        \n",
    "    def mostrar_dados(self):\n",
    "        print(f'{self.__nome} {self.__sobrenome} - {self.__idade} - {self.__sexo}')\n",
    "\n",
    "\n",
    "class Cliente_Agora(Pessoa):\n",
    "    def __init__(self):\n",
    "        nome = input('Informe seu nome: ')\n",
    "        sobrenome = input('Informe seu sobrenome: ')\n",
    "        cpf = input('Informe seu CPF: ')\n",
    "        idade = input('Informe sua idade: ')\n",
    "        sexo = input('Informe seu sexo: ')\n",
    "        \n",
    "        super().__init__(nome, sobrenome, cpf, idade, sexo)\n",
    "\n",
    "# Exemplo de uso\n"
   ]
  },
  {
   "cell_type": "code",
   "execution_count": 91,
   "id": "e104c112",
   "metadata": {},
   "outputs": [
    {
     "name": "stdout",
     "output_type": "stream",
     "text": [
      "Informe seu nome: Italo\n",
      "Informe seu sobrenome: Silva\n",
      "Informe seu CPF: 856.845.968-98\n",
      "Informe sua idade: 98\n",
      "Informe seu sexo: M\n",
      "Italo Silva - 98 - M\n"
     ]
    }
   ],
   "source": [
    "cliente_agora = Cliente_Agora()\n",
    "cliente_agora.mostrar_dados()"
   ]
  },
  {
   "cell_type": "code",
   "execution_count": 59,
   "id": "6d41dac7",
   "metadata": {},
   "outputs": [],
   "source": [
    "class Cliente:\n",
    "    id_cliente = 5000\n",
    "    def __init__(self):\n",
    "        self.__id_cliente = Cliente.id_cliente + 1\n",
    "        self.__nome = input(\"Informe seu nome: \")\n",
    "        self.__sobrenome = input(\"Informe seu sobrenome: \")\n",
    "        self.__cpf = input('Informe seu CPF: ')\n",
    "        self.__endereco = input('Informe seu endereco')\n",
    "        Cliente.id_cliente = self.__id_cliente\n",
    "        \n",
    "    def salvar_dados(self):\n",
    "        with open('banco.txt', 'a') as bd:\n",
    "            bd.write(f'\\n{self.__id_cliente} - {self.__nome} {self.__sobrenome}')\n",
    "            \n",
    "    def imprimir_dados(self):\n",
    "        print(f'{self.__id_cliente} - {self.__nome} {self.__sobrenome}')"
   ]
  },
  {
   "cell_type": "code",
   "execution_count": 60,
   "id": "1bd38f1a",
   "metadata": {},
   "outputs": [
    {
     "name": "stdout",
     "output_type": "stream",
     "text": [
      "Informe seu nome: Maria\n",
      "Informe seu sobrenome: Luiza\n",
      "Informe seu CPF: 785.652.458-98\n",
      "Informe seu enderecoRua Salvador - Salvador - BA\n"
     ]
    }
   ],
   "source": [
    "cliente1 = Cliente()"
   ]
  },
  {
   "cell_type": "code",
   "execution_count": 61,
   "id": "e9582c83",
   "metadata": {},
   "outputs": [
    {
     "name": "stdout",
     "output_type": "stream",
     "text": [
      "5001 - Maria Luiza\n"
     ]
    }
   ],
   "source": [
    "cliente1.imprimir_dados()"
   ]
  },
  {
   "cell_type": "code",
   "execution_count": 62,
   "id": "c581bacd",
   "metadata": {},
   "outputs": [],
   "source": [
    "cliente1.salvar_dados()"
   ]
  },
  {
   "cell_type": "code",
   "execution_count": 64,
   "id": "0f3babdf",
   "metadata": {},
   "outputs": [],
   "source": [
    "cliente2.salvar_dados()"
   ]
  },
  {
   "cell_type": "code",
   "execution_count": 65,
   "id": "c4550463",
   "metadata": {},
   "outputs": [
    {
     "name": "stdout",
     "output_type": "stream",
     "text": [
      "5002 - Kaique Marques\n"
     ]
    }
   ],
   "source": [
    "cliente2.imprimir_dados()"
   ]
  },
  {
   "cell_type": "code",
   "execution_count": 89,
   "id": "9dfb8ead",
   "metadata": {},
   "outputs": [
    {
     "ename": "TypeError",
     "evalue": "Cliente_Agora.__init__() missing 5 required positional arguments: 'nome', 'sobrenome', 'cpf', 'idade', and 'sexo'",
     "output_type": "error",
     "traceback": [
      "\u001b[1;31m---------------------------------------------------------------------------\u001b[0m",
      "\u001b[1;31mTypeError\u001b[0m                                 Traceback (most recent call last)",
      "Cell \u001b[1;32mIn[89], line 1\u001b[0m\n\u001b[1;32m----> 1\u001b[0m c \u001b[38;5;241m=\u001b[39m \u001b[43mCliente_Agora\u001b[49m\u001b[43m(\u001b[49m\u001b[43m)\u001b[49m\n",
      "\u001b[1;31mTypeError\u001b[0m: Cliente_Agora.__init__() missing 5 required positional arguments: 'nome', 'sobrenome', 'cpf', 'idade', and 'sexo'"
     ]
    }
   ],
   "source": [
    "c = Cliente_Agora()"
   ]
  },
  {
   "cell_type": "code",
   "execution_count": 76,
   "id": "5eec9d87",
   "metadata": {},
   "outputs": [
    {
     "ename": "NameError",
     "evalue": "name 'nome' is not defined",
     "output_type": "error",
     "traceback": [
      "\u001b[1;31m---------------------------------------------------------------------------\u001b[0m",
      "\u001b[1;31mNameError\u001b[0m                                 Traceback (most recent call last)",
      "Cell \u001b[1;32mIn[76], line 1\u001b[0m\n\u001b[1;32m----> 1\u001b[0m \u001b[43mc\u001b[49m\u001b[38;5;241;43m.\u001b[39;49m\u001b[43mmostrar_dados\u001b[49m\u001b[43m(\u001b[49m\u001b[43m)\u001b[49m\n",
      "Cell \u001b[1;32mIn[73], line 10\u001b[0m, in \u001b[0;36mPessoa.mostrar_dados\u001b[1;34m(self)\u001b[0m\n\u001b[0;32m      9\u001b[0m \u001b[38;5;28;01mdef\u001b[39;00m \u001b[38;5;21mmostrar_dados\u001b[39m(\u001b[38;5;28mself\u001b[39m):\n\u001b[1;32m---> 10\u001b[0m     \u001b[38;5;28mprint\u001b[39m(\u001b[38;5;124mf\u001b[39m\u001b[38;5;124m'\u001b[39m\u001b[38;5;132;01m{\u001b[39;00mnome\u001b[38;5;132;01m}\u001b[39;00m\u001b[38;5;124m \u001b[39m\u001b[38;5;132;01m{\u001b[39;00msobrenome\u001b[38;5;132;01m}\u001b[39;00m\u001b[38;5;124m - \u001b[39m\u001b[38;5;132;01m{\u001b[39;00m\u001b[38;5;28mself\u001b[39m\u001b[38;5;241m.\u001b[39m__idade\u001b[38;5;132;01m}\u001b[39;00m\u001b[38;5;124m - \u001b[39m\u001b[38;5;132;01m{\u001b[39;00m\u001b[38;5;28mself\u001b[39m\u001b[38;5;241m.\u001b[39m__sexo\u001b[38;5;132;01m}\u001b[39;00m\u001b[38;5;124m'\u001b[39m)\n",
      "\u001b[1;31mNameError\u001b[0m: name 'nome' is not defined"
     ]
    }
   ],
   "source": [
    "c.mostrar_dados()"
   ]
  },
  {
   "cell_type": "code",
   "execution_count": 97,
   "id": "f0c95eb3",
   "metadata": {},
   "outputs": [],
   "source": [
    "class Conta:\n",
    "    conta = 5000\n",
    "    def __init__(self, nome, sobrenome, limite, saldo):\n",
    "        self.__numero = Conta.conta + 1\n",
    "        self.__nome = nome\n",
    "        self.__sobrenome = sobrenome\n",
    "        self.__limite = limite\n",
    "        self.__saldo = saldo\n",
    "        \n",
    "        Conta.conta = self.__numero\n",
    "        \n",
    "    def dados(self):\n",
    "        print(f'{self.__nome} {self.__sobrenome} {self.__limite} {self.__saldo}')\n",
    "        \n",
    "    @property\n",
    "    def saldo(self):\n",
    "        return self.__saldo\n",
    "    \n",
    "    @property\n",
    "    def nome(self):\n",
    "        return self.__nome\n",
    "    \n",
    "    @property\n",
    "    def limite(self):\n",
    "        return self.__limite\n",
    "    \n",
    "    @saldo.setter\n",
    "    def saldo(self, valor):\n",
    "        self.__saldo += valor"
   ]
  },
  {
   "cell_type": "code",
   "execution_count": 98,
   "id": "2d0de4b6",
   "metadata": {},
   "outputs": [],
   "source": [
    "a = Conta('Italo', 'Silva', 5000, 150)"
   ]
  },
  {
   "cell_type": "code",
   "execution_count": 99,
   "id": "d0a1d62d",
   "metadata": {},
   "outputs": [
    {
     "name": "stdout",
     "output_type": "stream",
     "text": [
      "Italo Silva 5000 150\n"
     ]
    }
   ],
   "source": [
    "a.dados()"
   ]
  },
  {
   "cell_type": "code",
   "execution_count": 100,
   "id": "0e3a514d",
   "metadata": {},
   "outputs": [
    {
     "data": {
      "text/plain": [
       "5000"
      ]
     },
     "execution_count": 100,
     "metadata": {},
     "output_type": "execute_result"
    }
   ],
   "source": [
    "a.limite"
   ]
  },
  {
   "cell_type": "code",
   "execution_count": 101,
   "id": "6aafd106",
   "metadata": {},
   "outputs": [
    {
     "data": {
      "text/plain": [
       "150"
      ]
     },
     "execution_count": 101,
     "metadata": {},
     "output_type": "execute_result"
    }
   ],
   "source": [
    "a.saldo"
   ]
  },
  {
   "cell_type": "code",
   "execution_count": 102,
   "id": "57fb1e64",
   "metadata": {},
   "outputs": [],
   "source": [
    "a.saldo = 1250"
   ]
  },
  {
   "cell_type": "code",
   "execution_count": 103,
   "id": "c0e030af",
   "metadata": {},
   "outputs": [
    {
     "data": {
      "text/plain": [
       "1400"
      ]
     },
     "execution_count": 103,
     "metadata": {},
     "output_type": "execute_result"
    }
   ],
   "source": [
    "a.saldo"
   ]
  },
  {
   "cell_type": "code",
   "execution_count": 104,
   "id": "8af47802",
   "metadata": {},
   "outputs": [
    {
     "data": {
      "text/plain": [
       "{'_Conta__numero': 5001,\n",
       " '_Conta__nome': 'Italo',\n",
       " '_Conta__sobrenome': 'Silva',\n",
       " '_Conta__limite': 5000,\n",
       " '_Conta__saldo': 1400}"
      ]
     },
     "execution_count": 104,
     "metadata": {},
     "output_type": "execute_result"
    }
   ],
   "source": [
    "a.__dict__"
   ]
  },
  {
   "cell_type": "code",
   "execution_count": 107,
   "id": "38d8e8ad",
   "metadata": {},
   "outputs": [
    {
     "name": "stdout",
     "output_type": "stream",
     "text": [
      "_Conta__numero 5001\n",
      "_Conta__nome Italo\n",
      "_Conta__sobrenome Silva\n",
      "_Conta__limite 5000\n",
      "_Conta__saldo 1400\n"
     ]
    }
   ],
   "source": [
    "for i, v in a.__dict__.items():\n",
    "    print(i, v)"
   ]
  },
  {
   "cell_type": "code",
   "execution_count": null,
   "id": "b6b7538d",
   "metadata": {},
   "outputs": [],
   "source": []
  }
 ],
 "metadata": {
  "kernelspec": {
   "display_name": "Python 3 (ipykernel)",
   "language": "python",
   "name": "python3"
  },
  "language_info": {
   "codemirror_mode": {
    "name": "ipython",
    "version": 3
   },
   "file_extension": ".py",
   "mimetype": "text/x-python",
   "name": "python",
   "nbconvert_exporter": "python",
   "pygments_lexer": "ipython3",
   "version": "3.10.9"
  }
 },
 "nbformat": 4,
 "nbformat_minor": 5
}
