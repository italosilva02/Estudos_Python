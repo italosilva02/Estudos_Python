{
 "cells": [
  {
   "cell_type": "markdown",
   "id": "7a354e8e",
   "metadata": {},
   "source": [
    "# Sistema de arquivos - Manipulação"
   ]
  },
  {
   "cell_type": "code",
   "execution_count": 18,
   "id": "259cc3c1",
   "metadata": {},
   "outputs": [
    {
     "data": {
      "text/plain": [
       "['DirEntry',\n",
       " 'F_OK',\n",
       " 'GenericAlias',\n",
       " 'Mapping',\n",
       " 'MutableMapping',\n",
       " 'O_APPEND',\n",
       " 'O_BINARY',\n",
       " 'O_CREAT',\n",
       " 'O_EXCL',\n",
       " 'O_NOINHERIT',\n",
       " 'O_RANDOM',\n",
       " 'O_RDONLY',\n",
       " 'O_RDWR',\n",
       " 'O_SEQUENTIAL',\n",
       " 'O_SHORT_LIVED',\n",
       " 'O_TEMPORARY',\n",
       " 'O_TEXT',\n",
       " 'O_TRUNC',\n",
       " 'O_WRONLY',\n",
       " 'P_DETACH',\n",
       " 'P_NOWAIT',\n",
       " 'P_NOWAITO',\n",
       " 'P_OVERLAY',\n",
       " 'P_WAIT',\n",
       " 'PathLike',\n",
       " 'R_OK',\n",
       " 'SEEK_CUR',\n",
       " 'SEEK_END',\n",
       " 'SEEK_SET',\n",
       " 'TMP_MAX',\n",
       " 'W_OK',\n",
       " 'X_OK',\n",
       " '_AddedDllDirectory',\n",
       " '_Environ',\n",
       " '__all__',\n",
       " '__builtins__',\n",
       " '__cached__',\n",
       " '__doc__',\n",
       " '__file__',\n",
       " '__loader__',\n",
       " '__name__',\n",
       " '__package__',\n",
       " '__spec__',\n",
       " '_check_methods',\n",
       " '_execvpe',\n",
       " '_exists',\n",
       " '_exit',\n",
       " '_fspath',\n",
       " '_get_exports_list',\n",
       " '_walk',\n",
       " '_wrap_close',\n",
       " 'abc',\n",
       " 'abort',\n",
       " 'access',\n",
       " 'add_dll_directory',\n",
       " 'altsep',\n",
       " 'chdir',\n",
       " 'chmod',\n",
       " 'close',\n",
       " 'closerange',\n",
       " 'cpu_count',\n",
       " 'curdir',\n",
       " 'defpath',\n",
       " 'device_encoding',\n",
       " 'devnull',\n",
       " 'dup',\n",
       " 'dup2',\n",
       " 'environ',\n",
       " 'error',\n",
       " 'execl',\n",
       " 'execle',\n",
       " 'execlp',\n",
       " 'execlpe',\n",
       " 'execv',\n",
       " 'execve',\n",
       " 'execvp',\n",
       " 'execvpe',\n",
       " 'extsep',\n",
       " 'fdopen',\n",
       " 'fsdecode',\n",
       " 'fsencode',\n",
       " 'fspath',\n",
       " 'fstat',\n",
       " 'fsync',\n",
       " 'ftruncate',\n",
       " 'get_exec_path',\n",
       " 'get_handle_inheritable',\n",
       " 'get_inheritable',\n",
       " 'get_terminal_size',\n",
       " 'getcwd',\n",
       " 'getcwdb',\n",
       " 'getenv',\n",
       " 'getlogin',\n",
       " 'getpid',\n",
       " 'getppid',\n",
       " 'isatty',\n",
       " 'kill',\n",
       " 'linesep',\n",
       " 'link',\n",
       " 'listdir',\n",
       " 'lseek',\n",
       " 'lstat',\n",
       " 'makedirs',\n",
       " 'mkdir',\n",
       " 'name',\n",
       " 'open',\n",
       " 'pardir',\n",
       " 'path',\n",
       " 'pathsep',\n",
       " 'pipe',\n",
       " 'popen',\n",
       " 'putenv',\n",
       " 'read',\n",
       " 'readlink',\n",
       " 'remove',\n",
       " 'removedirs',\n",
       " 'rename',\n",
       " 'renames',\n",
       " 'replace',\n",
       " 'rmdir',\n",
       " 'scandir',\n",
       " 'sep',\n",
       " 'set_handle_inheritable',\n",
       " 'set_inheritable',\n",
       " 'spawnl',\n",
       " 'spawnle',\n",
       " 'spawnv',\n",
       " 'spawnve',\n",
       " 'st',\n",
       " 'startfile',\n",
       " 'stat',\n",
       " 'stat_result',\n",
       " 'statvfs_result',\n",
       " 'strerror',\n",
       " 'supports_bytes_environ',\n",
       " 'supports_dir_fd',\n",
       " 'supports_effective_ids',\n",
       " 'supports_fd',\n",
       " 'supports_follow_symlinks',\n",
       " 'symlink',\n",
       " 'sys',\n",
       " 'system',\n",
       " 'terminal_size',\n",
       " 'times',\n",
       " 'times_result',\n",
       " 'truncate',\n",
       " 'umask',\n",
       " 'uname_result',\n",
       " 'unlink',\n",
       " 'unsetenv',\n",
       " 'urandom',\n",
       " 'utime',\n",
       " 'waitpid',\n",
       " 'waitstatus_to_exitcode',\n",
       " 'walk',\n",
       " 'write']"
      ]
     },
     "execution_count": 18,
     "metadata": {},
     "output_type": "execute_result"
    }
   ],
   "source": [
    "dir(os)"
   ]
  },
  {
   "cell_type": "code",
   "execution_count": 4,
   "id": "40458519",
   "metadata": {},
   "outputs": [],
   "source": [
    "import os"
   ]
  },
  {
   "cell_type": "code",
   "execution_count": 6,
   "id": "34d7c63c",
   "metadata": {},
   "outputs": [
    {
     "name": "stdout",
     "output_type": "stream",
     "text": [
      "C:\\Users\\jzk767\\OneDrive - Corteva\\Área de Trabalho\\Estudos Python\\Programação Em Python do básico ao avançado\\Seção 13 - Leitura e Escrita em Arquivos\n"
     ]
    }
   ],
   "source": [
    "print(os.getcwd())"
   ]
  },
  {
   "cell_type": "code",
   "execution_count": 7,
   "id": "5454cfc6",
   "metadata": {},
   "outputs": [
    {
     "name": "stdout",
     "output_type": "stream",
     "text": [
      "['.idea', '.ipynb_checkpoints', '1-Leitura_De_Arquivos.py', '1_Leitura_De_Arquivos.ipynb', '2_Seek_e_Cursors.ipynb', '3_O_Comando_With.ipynb', '4_Escrevendo_Em_Arquivos.ipynb', '5_Modos_De_Arquivos.ipynb', '6_StringIO.ipynb', '7_Sistema_de_Arquivos_Navegacao.ipynb', '8_Sistema_de_Arquivo_Manipulacao.ipynb', 'arquivo.txt', 'escrevendo.txt', 'fruta.txt', 'frutas.txt', 'frutas_top.txt', 'nome.txt', 'sobrenome.txt', 'sobrenomes.txt', 'texto.txt', 'texto_usuario.txt']\n"
     ]
    }
   ],
   "source": [
    "print(os.listdir())"
   ]
  },
  {
   "cell_type": "markdown",
   "id": "caa7e93e",
   "metadata": {},
   "source": [
    "##### Descobrindo se um arquivo ou diretório existe ou não."
   ]
  },
  {
   "cell_type": "code",
   "execution_count": 8,
   "id": "629e5100",
   "metadata": {},
   "outputs": [
    {
     "name": "stdout",
     "output_type": "stream",
     "text": [
      "True\n"
     ]
    }
   ],
   "source": [
    "print(os.path.exists('arquivo.txt')) #Vai retornar verdade ou falso se o arquivo existir"
   ]
  },
  {
   "cell_type": "code",
   "execution_count": null,
   "id": "26c6d3a4",
   "metadata": {},
   "outputs": [],
   "source": [
    "# Para diretório é exatamente a mesma coisa"
   ]
  },
  {
   "cell_type": "code",
   "execution_count": 9,
   "id": "547d0863",
   "metadata": {},
   "outputs": [
    {
     "name": "stdout",
     "output_type": "stream",
     "text": [
      "False\n"
     ]
    }
   ],
   "source": [
    "print(os.path.exists('Exercícios')) #Retorna falso porque esse diretório não existe"
   ]
  },
  {
   "cell_type": "code",
   "execution_count": 10,
   "id": "5edb461e",
   "metadata": {},
   "outputs": [
    {
     "name": "stdout",
     "output_type": "stream",
     "text": [
      "True\n"
     ]
    }
   ],
   "source": [
    "print(os.path.exists('.ipynb_checkpoints')) #Retorna verdadeiro já que o diretório existe dentro da pasta Seção 13 - Leitura e Escrita em Arquivos"
   ]
  },
  {
   "cell_type": "markdown",
   "id": "26258049",
   "metadata": {},
   "source": [
    "##### Criando arquivo - Unicos"
   ]
  },
  {
   "cell_type": "code",
   "execution_count": 11,
   "id": "798f9611",
   "metadata": {},
   "outputs": [
    {
     "data": {
      "text/plain": [
       "<function TextIOWrapper.close()>"
      ]
     },
     "execution_count": 11,
     "metadata": {},
     "output_type": "execute_result"
    }
   ],
   "source": [
    "open('arquivo_teste.py', 'w').close"
   ]
  },
  {
   "cell_type": "code",
   "execution_count": 12,
   "id": "798f6060",
   "metadata": {
    "scrolled": true
   },
   "outputs": [
    {
     "name": "stdout",
     "output_type": "stream",
     "text": [
      "['.idea', '.ipynb_checkpoints', '1-Leitura_De_Arquivos.py', '1_Leitura_De_Arquivos.ipynb', '2_Seek_e_Cursors.ipynb', '3_O_Comando_With.ipynb', '4_Escrevendo_Em_Arquivos.ipynb', '5_Modos_De_Arquivos.ipynb', '6_StringIO.ipynb', '7_Sistema_de_Arquivos_Navegacao.ipynb', '8_Sistema_de_Arquivo_Manipulacao.ipynb', 'arquivo.txt', 'arquivo_teste.py', 'escrevendo.txt', 'fruta.txt', 'frutas.txt', 'frutas_top.txt', 'nome.txt', 'sobrenome.txt', 'sobrenomes.txt', 'texto.txt', 'texto_usuario.txt']\n"
     ]
    }
   ],
   "source": [
    "print(os.listdir())"
   ]
  },
  {
   "cell_type": "code",
   "execution_count": 13,
   "id": "69227566",
   "metadata": {},
   "outputs": [],
   "source": [
    "with open ('arquivo_teste2.py', 'w') as arquivo:\n",
    "    pass"
   ]
  },
  {
   "cell_type": "code",
   "execution_count": 14,
   "id": "a083bf9e",
   "metadata": {},
   "outputs": [
    {
     "name": "stdout",
     "output_type": "stream",
     "text": [
      "['.idea', '.ipynb_checkpoints', '1-Leitura_De_Arquivos.py', '1_Leitura_De_Arquivos.ipynb', '2_Seek_e_Cursors.ipynb', '3_O_Comando_With.ipynb', '4_Escrevendo_Em_Arquivos.ipynb', '5_Modos_De_Arquivos.ipynb', '6_StringIO.ipynb', '7_Sistema_de_Arquivos_Navegacao.ipynb', '8_Sistema_de_Arquivo_Manipulacao.ipynb', 'arquivo.txt', 'arquivo_teste.py', 'arquivo_teste2.py', 'escrevendo.txt', 'fruta.txt', 'frutas.txt', 'frutas_top.txt', 'nome.txt', 'sobrenome.txt', 'sobrenomes.txt', 'texto.txt', 'texto_usuario.txt']\n"
     ]
    }
   ],
   "source": [
    "print(os.listdir())"
   ]
  },
  {
   "cell_type": "code",
   "execution_count": 17,
   "id": "54d7aee8",
   "metadata": {},
   "outputs": [],
   "source": [
    "os.mkdir('arquivo_teste3.py') #Melhores forma de se criar arquivos não existente\n",
    "os.mkdir('/diretorio_teste')"
   ]
  },
  {
   "cell_type": "code",
   "execution_count": 19,
   "id": "09ae2bd3",
   "metadata": {},
   "outputs": [
    {
     "name": "stdout",
     "output_type": "stream",
     "text": [
      "['.idea', '.ipynb_checkpoints', '1-Leitura_De_Arquivos.py', '1_Leitura_De_Arquivos.ipynb', '2_Seek_e_Cursors.ipynb', '3_O_Comando_With.ipynb', '4_Escrevendo_Em_Arquivos.ipynb', '5_Modos_De_Arquivos.ipynb', '6_StringIO.ipynb', '7_Sistema_de_Arquivos_Navegacao.ipynb', '8_Sistema_de_Arquivo_Manipulacao.ipynb', 'arquivo.txt', 'arquivo_teste.py', 'arquivo_teste2.py', 'arquivo_teste3.py', 'escrevendo.txt', 'fruta.txt', 'frutas.txt', 'frutas_top.txt', 'nome.txt', 'sobrenome.txt', 'sobrenomes.txt', 'texto.txt', 'texto_usuario.txt']\n"
     ]
    }
   ],
   "source": [
    "print(os.listdir())"
   ]
  },
  {
   "cell_type": "code",
   "execution_count": 20,
   "id": "7b1dc118",
   "metadata": {},
   "outputs": [
    {
     "ename": "FileExistsError",
     "evalue": "[WinError 183] Cannot create a file when that file already exists: 'arquivo_teste3.py'",
     "output_type": "error",
     "traceback": [
      "\u001b[1;31m---------------------------------------------------------------------------\u001b[0m",
      "\u001b[1;31mFileExistsError\u001b[0m                           Traceback (most recent call last)",
      "\u001b[1;32m~\\AppData\\Local\\Temp\\ipykernel_11176\\2554593017.py\u001b[0m in \u001b[0;36m<module>\u001b[1;34m\u001b[0m\n\u001b[1;32m----> 1\u001b[1;33m \u001b[0mos\u001b[0m\u001b[1;33m.\u001b[0m\u001b[0mmkdir\u001b[0m\u001b[1;33m(\u001b[0m\u001b[1;34m'arquivo_teste3.py'\u001b[0m\u001b[1;33m)\u001b[0m \u001b[1;31m#Melhores forma de se criar arquivos não existente\u001b[0m\u001b[1;33m\u001b[0m\u001b[1;33m\u001b[0m\u001b[0m\n\u001b[0m\u001b[0;32m      2\u001b[0m \u001b[0mos\u001b[0m\u001b[1;33m.\u001b[0m\u001b[0mmkdir\u001b[0m\u001b[1;33m(\u001b[0m\u001b[1;34m'/diretorio_teste'\u001b[0m\u001b[1;33m)\u001b[0m\u001b[1;33m\u001b[0m\u001b[1;33m\u001b[0m\u001b[0m\n",
      "\u001b[1;31mFileExistsError\u001b[0m: [WinError 183] Cannot create a file when that file already exists: 'arquivo_teste3.py'"
     ]
    }
   ],
   "source": [
    "os.mkdir('arquivo_teste3.py') #Melhores forma de se criar arquivos não existente\n",
    "os.mkdir('/diretorio_teste')"
   ]
  },
  {
   "cell_type": "code",
   "execution_count": null,
   "id": "9039b30b",
   "metadata": {},
   "outputs": [],
   "source": [
    "# obs: Se o arquivo já existir, teremos o erro 'FileExistsError'"
   ]
  },
  {
   "cell_type": "code",
   "execution_count": 21,
   "id": "809a5a00",
   "metadata": {},
   "outputs": [
    {
     "name": "stdout",
     "output_type": "stream",
     "text": [
      "Arquivo e diretório já existem\n"
     ]
    }
   ],
   "source": [
    "try:\n",
    "    os.mkdir('arquivo_teste3.py')\n",
    "    os.mkdir('/diretorio_teste')\n",
    "except FileExistsError:\n",
    "    print('Arquivo e diretório já existem')"
   ]
  },
  {
   "cell_type": "code",
   "execution_count": 26,
   "id": "cc5e3aef",
   "metadata": {},
   "outputs": [],
   "source": [
    "os.rename('arquivo_teste3.py', 'diretorio_teste_renomeado')"
   ]
  },
  {
   "cell_type": "code",
   "execution_count": null,
   "id": "b8781600",
   "metadata": {},
   "outputs": [],
   "source": []
  }
 ],
 "metadata": {
  "kernelspec": {
   "display_name": "Python 3 (ipykernel)",
   "language": "python",
   "name": "python3"
  },
  "language_info": {
   "codemirror_mode": {
    "name": "ipython",
    "version": 3
   },
   "file_extension": ".py",
   "mimetype": "text/x-python",
   "name": "python",
   "nbconvert_exporter": "python",
   "pygments_lexer": "ipython3",
   "version": "3.9.13"
  }
 },
 "nbformat": 4,
 "nbformat_minor": 5
}
