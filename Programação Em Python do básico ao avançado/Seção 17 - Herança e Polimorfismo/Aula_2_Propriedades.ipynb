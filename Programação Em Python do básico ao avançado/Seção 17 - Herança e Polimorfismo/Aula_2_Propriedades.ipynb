{
 "cells": [
  {
   "cell_type": "markdown",
   "id": "75c6ab8a",
   "metadata": {},
   "source": [
    "Em Python, propriedades são uma forma de encapsular o acesso a atributos de classe. Elas permitem que você forneça uma interface de acesso aos atributos que está ocultando a implementação real.\n",
    "\n",
    "As propriedades são definidas usando a palavra-chave property(). O argumento da palavra-chave property() é uma tupla que contém três funções:\n",
    "\n",
    "fget(): A função fget() é chamada para obter o valor do atributo.\n",
    "fset(): A função fset() é chamada para definir o valor do atributo.\n",
    "fdel(): A função fdel() é chamada para excluir o atributo.\n",
    "Por exemplo, a seguinte classe define uma propriedade nome:"
   ]
  },
  {
   "cell_type": "code",
   "execution_count": null,
   "id": "5165755b",
   "metadata": {},
   "outputs": [],
   "source": [
    "class Pessoa:\n",
    "    def __init__(self, nome):\n",
    "        self._nome = nome\n",
    "\n",
    "    @property\n",
    "    def nome(self):\n",
    "        return self._nome\n",
    "\n",
    "    @nome.setter\n",
    "    def nome(self, valor):\n",
    "        self._nome = valor\n",
    "\n",
    "    @nome.deleter\n",
    "    def nome(self):\n",
    "        del self._nome"
   ]
  },
  {
   "cell_type": "markdown",
   "id": "174b558f",
   "metadata": {},
   "source": [
    " propriedade nome tem duas funções:\n",
    "\n",
    "fget(): A função fget() simplesmente retorna o valor do atributo _nome.\n",
    "fset(): A função fset() atribui o valor do argumento valor ao atributo _nome.\n",
    "fdel(): A função fdel() exclui o atributo _nome.\n",
    "Para acessar a propriedade nome, você pode usar o operador de acesso de propriedade .:"
   ]
  },
  {
   "cell_type": "markdown",
   "id": "821de00d",
   "metadata": {},
   "source": [
    "essoa = Pessoa(\"João\")\n",
    "\n",
    "print(pessoa.nome)  # Imprime \"João\"\n",
    "\n",
    "pessoa.nome = \"Maria\"\n",
    "\n",
    "print(pessoa.nome)  # Imprime \"Maria\"\n",
    "\n",
    "del pessoa.nome\n",
    "\n",
    "print(pessoa.nome)  # Imprime \"None\""
   ]
  },
  {
   "cell_type": "markdown",
   "id": "0a4cd487",
   "metadata": {},
   "source": [
    "As propriedades podem ser usadas para:\n",
    "\n",
    "Fornecer uma interface de acesso segura: As propriedades podem ser usadas para fornecer uma interface de acesso segura aos atributos. Por exemplo, você pode usar uma propriedade para garantir que um atributo só possa ser definido por um método específico.\n",
    "Fornecer uma interface de acesso consistente: As propriedades podem ser usadas para fornecer uma interface de acesso consistente aos atributos. Por exemplo, você pode usar uma propriedade para garantir que todos os atributos sejam acessados da mesma forma.\n",
    "Fornecer uma interface de acesso otimizada: As propriedades podem ser usadas para fornecer uma interface de acesso otimizada aos atributos. Por exemplo, você pode usar uma propriedade para armazenar o valor de um atributo em cache.\n",
    "Aqui estão alguns exemplos de como as propriedades podem ser usadas em Python:\n",
    "\n",
    "Validar dados: Você pode usar uma propriedade para validar os dados inseridos em um atributo. Por exemplo, você pode usar uma propriedade para garantir que um atributo só possa ser definido por um valor numérico.\n",
    "Aplicar restrições: Você pode usar uma propriedade para aplicar restrições a um atributo. Por exemplo, você pode usar uma propriedade para garantir que um atributo só possa ser definido por um valor que esteja dentro de um intervalo específico.\n",
    "Oferecer suporte a operações de cálculo: Você pode usar uma propriedade para oferecer suporte a operações de cálculo em um atributo. Por exemplo, você pode usar uma propriedade para calcular o comprimento de uma string.\n",
    "As propriedades são uma ferramenta poderosa que pode ser usada para melhorar a segurança, a consistência e a funcionalidade do seu código."
   ]
  },
  {
   "cell_type": "code",
   "execution_count": null,
   "id": "1ed62d5d",
   "metadata": {},
   "outputs": [],
   "source": [
    "Fontes\n",
    "\n",
    "github.com/ArthurVitor/Python-FullStackSujeito à licença (MIT)"
   ]
  },
  {
   "cell_type": "code",
   "execution_count": 3,
   "id": "3d2ccedd",
   "metadata": {},
   "outputs": [],
   "source": [
    "class Conta:\n",
    "    contador = 0\n",
    "    \n",
    "    def __init__(self, titular, saldo, limite):\n",
    "        self._numero = Conta.contador + 1\n",
    "        self._titular = titular\n",
    "        self._saldo = saldo\n",
    "        self._limite = limite\n",
    "        \n",
    "        Conta.contador += 1\n",
    "        \n",
    "    def extrato(self):\n",
    "        return f'Saldo: {self._saldo}, Titular: {self._titular}'\n",
    "    \n",
    "    def sacar(self, saldo):\n",
    "        self._saldo -= saldo\n",
    "        \n",
    "    def depositar(self, saldo):\n",
    "        self._saldo += saldo"
   ]
  },
  {
   "cell_type": "code",
   "execution_count": 8,
   "id": "6ce044f3",
   "metadata": {},
   "outputs": [],
   "source": [
    "conta1 = Conta('54256-85', 500, 1000)\n",
    "conta2 = Conta('65125-98', 1987, 10000)"
   ]
  },
  {
   "cell_type": "code",
   "execution_count": 9,
   "id": "4f9e70a1",
   "metadata": {},
   "outputs": [
    {
     "data": {
      "text/plain": [
       "'Saldo: 500, Titular: 54256-85'"
      ]
     },
     "execution_count": 9,
     "metadata": {},
     "output_type": "execute_result"
    }
   ],
   "source": [
    "conta1.extrato()"
   ]
  },
  {
   "cell_type": "code",
   "execution_count": 10,
   "id": "aa53fd77",
   "metadata": {},
   "outputs": [],
   "source": [
    "conta1.depositar(154)"
   ]
  },
  {
   "cell_type": "code",
   "execution_count": 11,
   "id": "ceaf3d9d",
   "metadata": {},
   "outputs": [
    {
     "data": {
      "text/plain": [
       "'Saldo: 654, Titular: 54256-85'"
      ]
     },
     "execution_count": 11,
     "metadata": {},
     "output_type": "execute_result"
    }
   ],
   "source": [
    "conta1.extrato()"
   ]
  },
  {
   "cell_type": "code",
   "execution_count": 12,
   "id": "1d74aaea",
   "metadata": {},
   "outputs": [
    {
     "data": {
      "text/plain": [
       "'Saldo: 1987, Titular: 65125-98'"
      ]
     },
     "execution_count": 12,
     "metadata": {},
     "output_type": "execute_result"
    }
   ],
   "source": [
    "conta2.extrato()"
   ]
  },
  {
   "cell_type": "code",
   "execution_count": 14,
   "id": "63d92802",
   "metadata": {},
   "outputs": [
    {
     "name": "stdout",
     "output_type": "stream",
     "text": [
      "2641\n"
     ]
    }
   ],
   "source": [
    "print(conta1._saldo + conta2._saldo) #Possível, porém, incorreto.O elemento é privado e deve ser acessado somente na classe"
   ]
  },
  {
   "cell_type": "code",
   "execution_count": 15,
   "id": "5f6963ab",
   "metadata": {},
   "outputs": [],
   "source": [
    "class Conta:\n",
    "    \"\"\"\n",
    "    Classe para representar uma conta bancária.\n",
    "\n",
    "    Atributos:\n",
    "        numero: O número da conta.\n",
    "        saldo: O saldo da conta.\n",
    "        contador: Um contador que é incrementado a cada nova conta criada.\n",
    "\n",
    "     Métodos:\n",
    "        __init__(self, numero, saldo): O construtor da classe.\n",
    "        depositar(self, valor): Deposita um valor na conta.\n",
    "        sacar(self, valor): Sacar um valor da conta.\n",
    "    \"\"\"\n",
    "\n",
    "    contador = 0\n",
    "\n",
    "    def __init__(self, numero, saldo):\n",
    "        \"\"\"\n",
    "        Construtor da classe.\n",
    "\n",
    "        Args:\n",
    "            numero: O número da conta.\n",
    "            saldo: O saldo da conta.\n",
    "        \"\"\"\n",
    "        self.numero = numero\n",
    "        self.saldo = saldo\n",
    "        Conta.contador += 1\n",
    "\n",
    "    def depositar(self, valor):\n",
    "        \"\"\"\n",
    "        Deposita um valor na conta.\n",
    "\n",
    "        Args:\n",
    "            valor: O valor a ser depositado.\n",
    "        \"\"\"\n",
    "        self.saldo += valor\n",
    "\n",
    "    def sacar(self, valor):\n",
    "        \"\"\"\n",
    "        Sacar um valor da conta.\n",
    "\n",
    "        Args:\n",
    "            valor: O valor a ser sacado.\n",
    "        \"\"\"\n",
    "        self.saldo -= valor\n",
    "\n"
   ]
  },
  {
   "cell_type": "code",
   "execution_count": 16,
   "id": "c1795aea",
   "metadata": {},
   "outputs": [
    {
     "name": "stdout",
     "output_type": "stream",
     "text": [
      "2\n",
      "123456789\n",
      "1000\n",
      "1500\n",
      "1000\n"
     ]
    }
   ],
   "source": [
    "\n",
    "conta1 = Conta(123456789, 1000)\n",
    "conta2 = Conta(987654321, 2000)\n",
    "\n",
    "print(Conta.contador)  # Imprime 2\n",
    "\n",
    "print(conta1.numero)  # Imprime 123456789\n",
    "print(conta1.saldo)  # Imprime 1000\n",
    "\n",
    "conta1.depositar(500)\n",
    "print(conta1.saldo)  # Imprime 1500\n",
    "\n",
    "conta2.sacar(1000)\n",
    "print(conta2.saldo)  # Imprime 1000"
   ]
  },
  {
   "cell_type": "code",
   "execution_count": 8,
   "id": "3332c792",
   "metadata": {},
   "outputs": [],
   "source": [
    "class Animal:\n",
    "    def __init__(self, nome, raca, cor):\n",
    "        self._nome = nome\n",
    "        self._raca = raca\n",
    "        self._cor = cor\n",
    "        \n",
    "    @property\n",
    "    def nome(self):\n",
    "        return self._nome\n",
    "    \n",
    "    @nome.setter\n",
    "    def nome(self, nome):\n",
    "        self._nome = nome\n",
    "        \n",
    "    @nome.deleter\n",
    "    def nome(self):\n",
    "        del self._nome"
   ]
  },
  {
   "cell_type": "code",
   "execution_count": 9,
   "id": "4275dc49",
   "metadata": {},
   "outputs": [],
   "source": [
    "animal = Animal(\"Maria\", \"Cachorro\", \"Marrom\")"
   ]
  },
  {
   "cell_type": "code",
   "execution_count": 10,
   "id": "9b1c55c3",
   "metadata": {},
   "outputs": [
    {
     "data": {
      "text/plain": [
       "'Maria'"
      ]
     },
     "execution_count": 10,
     "metadata": {},
     "output_type": "execute_result"
    }
   ],
   "source": [
    "animal.nome"
   ]
  },
  {
   "cell_type": "code",
   "execution_count": 13,
   "id": "1d38beb2",
   "metadata": {},
   "outputs": [],
   "source": [
    "animal.nome = \"Carlos\""
   ]
  },
  {
   "cell_type": "code",
   "execution_count": 15,
   "id": "c75eb012",
   "metadata": {},
   "outputs": [
    {
     "name": "stdout",
     "output_type": "stream",
     "text": [
      "Carlos\n",
      "Fido\n"
     ]
    }
   ],
   "source": [
    "animal1 = Animal(\"Rex\", \"Cachorro\", \"Marrom\")\n",
    "print(animal.nome)  # Isso deve imprimir \"Rex\"\n",
    "\n",
    "animal1.nome = \"Fido\"  # Isso deve chamar o setter e atualizar o nome\n",
    "print(animal1.nome)  # Agora deve imprimir \"Fido\"\n"
   ]
  },
  {
   "cell_type": "code",
   "execution_count": 1,
   "id": "1eea9c6e",
   "metadata": {},
   "outputs": [],
   "source": [
    "class Carro:\n",
    "    def __init__(self, modelo, fabricante, ano, cor):\n",
    "        self._modelo = modelo\n",
    "        self._fabricante = fabricante\n",
    "        self._ano = ano\n",
    "        self._cor = cor\n",
    "        \n",
    "    @property\n",
    "    def modelo(self):\n",
    "        return self._modelo\n",
    "    \n",
    "    @modelo.setter\n",
    "    def modelo(self, valor):\n",
    "        self._modelo = valor\n",
    "        \n",
    "    @modelo.deleter\n",
    "    def modelo(self):\n",
    "        del self._modelo"
   ]
  },
  {
   "cell_type": "code",
   "execution_count": 2,
   "id": "b3b534e6",
   "metadata": {},
   "outputs": [],
   "source": [
    "c = Carro(\"Ford Ka\", \"Ford\", 1998, \"Vermelho\")"
   ]
  },
  {
   "cell_type": "code",
   "execution_count": 3,
   "id": "81836248",
   "metadata": {},
   "outputs": [
    {
     "data": {
      "text/plain": [
       "'Ford Ka'"
      ]
     },
     "execution_count": 3,
     "metadata": {},
     "output_type": "execute_result"
    }
   ],
   "source": [
    "c.modelo"
   ]
  },
  {
   "cell_type": "code",
   "execution_count": 5,
   "id": "79e476f5",
   "metadata": {},
   "outputs": [],
   "source": [
    "c.modelo = \"Ford Fiesta\""
   ]
  },
  {
   "cell_type": "code",
   "execution_count": 6,
   "id": "b0122398",
   "metadata": {},
   "outputs": [
    {
     "data": {
      "text/plain": [
       "'Ford Fiesta'"
      ]
     },
     "execution_count": 6,
     "metadata": {},
     "output_type": "execute_result"
    }
   ],
   "source": [
    "c.modelo"
   ]
  },
  {
   "cell_type": "code",
   "execution_count": null,
   "id": "926e2a00",
   "metadata": {},
   "outputs": [],
   "source": []
  }
 ],
 "metadata": {
  "kernelspec": {
   "display_name": "Python 3 (ipykernel)",
   "language": "python",
   "name": "python3"
  },
  "language_info": {
   "codemirror_mode": {
    "name": "ipython",
    "version": 3
   },
   "file_extension": ".py",
   "mimetype": "text/x-python",
   "name": "python",
   "nbconvert_exporter": "python",
   "pygments_lexer": "ipython3",
   "version": "3.10.9"
  }
 },
 "nbformat": 4,
 "nbformat_minor": 5
}
