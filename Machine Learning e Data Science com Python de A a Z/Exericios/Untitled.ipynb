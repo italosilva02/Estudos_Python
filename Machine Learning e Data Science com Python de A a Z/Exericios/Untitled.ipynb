{
 "cells": [
  {
   "cell_type": "markdown",
   "id": "8742a674",
   "metadata": {},
   "source": [
    "# Prática Python"
   ]
  },
  {
   "cell_type": "markdown",
   "id": "086637fb",
   "metadata": {},
   "source": [
    "### 1 - Ler dois números inteiros, executar e mostrar o resultado das seguintes operações: adição, subtração, multiplicação e divisão"
   ]
  },
  {
   "cell_type": "code",
   "execution_count": 1,
   "id": "52f03060",
   "metadata": {},
   "outputs": [
    {
     "name": "stdout",
     "output_type": "stream",
     "text": [
      "Informe um número: 5\n",
      "Informe um segundo número: 4\n",
      "9\n"
     ]
    }
   ],
   "source": [
    "n1 = int(input(\"Informe um número: \"))\n",
    "n2 = int(input(\"Informe um segundo número: \"))\n",
    "print(n1+n2)"
   ]
  },
  {
   "cell_type": "markdown",
   "id": "b0f7b0f0",
   "metadata": {},
   "source": [
    "### 2 - Efetuar o cálculo da quantidade de litros de combustível gasto em uma viagem, utilizando um automóvel que faz 12 Km por litro. Para obter o cálculo, o usuário deve fornecer o tempo gasto na viagem e a velocidade média durante ela. Desta forma, será possível obter a distância percorrida com a fórmula DISTANCIA = TEMPO * VELOCIDADE. Tendo o valor da distância, basta calcular a quantidade de litros de combustível utilizada na viagem, com a fórmula: LITROS_USADOS = DISTANCIA / 12. O programa deve apresentar os valores da velocidade média, tempo gasto na viagem, a distância percorrida e a quantidade de litros utilizada na viagem"
   ]
  },
  {
   "cell_type": "code",
   "execution_count": 2,
   "id": "dd927dcc",
   "metadata": {},
   "outputs": [
    {
     "name": "stdout",
     "output_type": "stream",
     "text": [
      "Informe a distância total: 685\n",
      "Informe o tempo gasto: 6\n"
     ]
    }
   ],
   "source": [
    "distancia = float(input(\"Informe a distância total: \"))\n",
    "tempo = float(input(\"Informe o tempo gasto: \"))"
   ]
  },
  {
   "cell_type": "code",
   "execution_count": 17,
   "id": "8bec20af",
   "metadata": {},
   "outputs": [],
   "source": [
    "litros = distancia / 12"
   ]
  },
  {
   "cell_type": "code",
   "execution_count": 19,
   "id": "5adefd17",
   "metadata": {},
   "outputs": [
    {
     "name": "stdout",
     "output_type": "stream",
     "text": [
      "Foi feito uma média de  114.17 km por hora com  57.08 litros\n"
     ]
    }
   ],
   "source": [
    "print(f'Foi feito uma média de {distancia/tempo: .2f} km por hora com {litros: .2f} litros')"
   ]
  },
  {
   "cell_type": "markdown",
   "id": "5410fe64",
   "metadata": {},
   "source": [
    "### 3 - Leia a idade do usuário e classifique-o em:\n",
    "- Criança – 0 a 12 anos\n",
    "- Adolescente – 13 a 17 anos\n",
    "- Adulto – acima de 18 anos\n",
    "-Se o usuário digitar um número negativo, mostrar a mensagem que a idade é inválida"
   ]
  },
  {
   "cell_type": "code",
   "execution_count": 5,
   "id": "7917e5d1",
   "metadata": {},
   "outputs": [
    {
     "name": "stdout",
     "output_type": "stream",
     "text": [
      "Informe a idade: 45\n",
      "Adulto\n"
     ]
    }
   ],
   "source": [
    "idade = int(input(\"Informe a idade: \"))\n",
    "\n",
    "if idade < 0:\n",
    "    print(\"Idade inválida\")\n",
    "elif idade <= 12:\n",
    "    print(\"Criança\")\n",
    "elif idade <= 17:\n",
    "    print(\"Adolescente\")\n",
    "else:\n",
    "    print(\"Adulto\")\n"
   ]
  },
  {
   "cell_type": "markdown",
   "id": "bc54769a",
   "metadata": {},
   "source": [
    "### 4 - Calcular a média de um aluno que cursou a disciplina de Programação I, a partir da leitura das notas M1, M2 e M3; passando por um cálculo da média aritmética. Após a média calculada, devemos anunciar se o aluno foi aprovado, reprovado ou pegou exame\n",
    "- Se a média estiver entre 0.0 e 4.0, o aluno está reprovado\n",
    "- Se a média estiver entre 4.1 e 6.0, o aluno pegou exame\n",
    "- Se a média for maior do que 6.0, o aluno está aprovado\n",
    "- Se o aluno pegou exame, deve ser lida a nota do exame. Se a nota do exame for maior do que 6.0, está aprovado, senão; está reprovado"
   ]
  },
  {
   "cell_type": "code",
   "execution_count": 6,
   "id": "02b47dac",
   "metadata": {},
   "outputs": [
    {
     "name": "stdout",
     "output_type": "stream",
     "text": [
      "Informe a Nota 16\n",
      "Informe a Nota 25.2\n",
      "Informe a Nota 36.8\n"
     ]
    }
   ],
   "source": [
    "m1 = float(input(\"Informe a Nota 1\"))\n",
    "m2 = float(input(\"Informe a Nota 2\"))\n",
    "m3 = float(input(\"Informe a Nota 3\"))\n",
    "\n",
    "nota = (m1 + m2 + m3) / 3"
   ]
  },
  {
   "cell_type": "code",
   "execution_count": 7,
   "id": "0ca4ff2b",
   "metadata": {},
   "outputs": [
    {
     "name": "stdout",
     "output_type": "stream",
     "text": [
      "o aluno pegou exame\n",
      "Informe a nota do exame8.6\n",
      "Aprovado\n"
     ]
    }
   ],
   "source": [
    "if nota < 0:\n",
    "    print(\"Nota inválida\")\n",
    "    \n",
    "elif nota <= 4:\n",
    "    print(\"o aluno está reprovado\")\n",
    "elif nota <= 6:\n",
    "    print(\"o aluno pegou exame\")\n",
    "    n_exame = float(input(\"Informe a nota do exame\"))\n",
    "    if n_exame < 6:\n",
    "        print(\"Reprovado\")\n",
    "    else:\n",
    "        print(\"Aprovado\")\n",
    "else:\n",
    "    print(\"Aprovado\")"
   ]
  },
  {
   "cell_type": "markdown",
   "id": "c3108d6a",
   "metadata": {},
   "source": [
    "### 5 - Ler 5 notas e informar a média"
   ]
  },
  {
   "cell_type": "code",
   "execution_count": 9,
   "id": "c3e135b2",
   "metadata": {},
   "outputs": [
    {
     "name": "stdout",
     "output_type": "stream",
     "text": [
      "Informe a nota: 5.6\n",
      "Informe a nota: 9.8\n",
      "Informe a nota: 5.4\n",
      "Informe a nota: 8.5\n",
      "Informe a nota: 6.9\n"
     ]
    }
   ],
   "source": [
    "n = 1\n",
    "nota = []\n",
    "while n <= 5:\n",
    "    nota.append(float(input(\"Informe a nota: \")))\n",
    "    n += 1"
   ]
  },
  {
   "cell_type": "code",
   "execution_count": 11,
   "id": "75c76fd9",
   "metadata": {},
   "outputs": [
    {
     "name": "stdout",
     "output_type": "stream",
     "text": [
      "A média do aluno foi de  7.24\n"
     ]
    }
   ],
   "source": [
    "print(f'A média do aluno foi de {sum(nota) / len(nota): .2f}')"
   ]
  },
  {
   "cell_type": "markdown",
   "id": "564d0fcd",
   "metadata": {},
   "source": [
    "###  6 - Imprimir a tabuada do número 3 (3 x 1 = 3 ; 3 x 10 = 30)"
   ]
  },
  {
   "cell_type": "code",
   "execution_count": 16,
   "id": "abddebde",
   "metadata": {},
   "outputs": [
    {
     "name": "stdout",
     "output_type": "stream",
     "text": [
      "3 * 0 = 0\n",
      "3 * 1 = 3\n",
      "3 * 2 = 6\n",
      "3 * 3 = 9\n",
      "3 * 4 = 12\n",
      "3 * 5 = 15\n",
      "3 * 6 = 18\n",
      "3 * 7 = 21\n",
      "3 * 8 = 24\n",
      "3 * 9 = 27\n"
     ]
    }
   ],
   "source": [
    "for i in range(0,10):\n",
    "    print(f'3 * {i} = {3 * i}')"
   ]
  },
  {
   "cell_type": "markdown",
   "id": "ac299480",
   "metadata": {},
   "source": [
    "### 7 - Efetuar o cálculo da quantidade de litros de combustível gasto em uma viagem, utilizando um automóvel que faz 12 Km por litro. Para obter o cálculo, o usuário deve fornecer o tempo gasto na viagem e a velocidade média durante ela. Desta forma, será possível obter a distância percorrida com a fórmula DISTANCIA = TEMPO * VELOCIDADE. Tendo o valor da distância, basta calcular a quantidade de litros de combustível utilizada na viagem, com a fórmula: LITROS_USADOS = DISTANCIA / 12. O programa deve apresentar os valores da velocidade média, tempo gasto na viagem, a distância percorrida e a quantidade de litros utilizada na viagem\n",
    "- Função para ler os valores (não recebe parâmetro e retorna os dois valores)\n",
    "- Função para calcular a distância (recebe como parâmetro o tempo e a velocidade e retorna a distância)\n",
    "- Função para calcular a quantidade de litros (recebe como parâmetro a distância e retorna os litros)\n",
    "- Função para apresentar o resultado (recebe como parâmetro os valores e somente imprime o resultado)"
   ]
  },
  {
   "cell_type": "code",
   "execution_count": 21,
   "id": "5f0bb4e6",
   "metadata": {},
   "outputs": [
    {
     "name": "stdout",
     "output_type": "stream",
     "text": [
      "Informe o tempo gasto na viagem (em horas): 9\n",
      "Informe a velocidade média (em Km/h: 140\n",
      "Velocidade média: 140.0 Km/h\n",
      "Tempo gasto na viagem: 9.0 horas\n",
      "Distância percorrida: 1260.0 Km\n",
      "Quantidade de litros utilizada na viagem: 105.0 litros\n"
     ]
    }
   ],
   "source": [
    "def ler_valores():\n",
    "    tempo = float(input(\"Informe o tempo gasto na viagem (em horas): \"))\n",
    "    velocidade_media = float(input(\"Informe a velocidade média (em Km/h: \"))\n",
    "    return tempo, velocidade_media\n",
    "\n",
    "def calcular_distancia(tempo, velocidade_media):\n",
    "    distancia = tempo * velocidade_media\n",
    "    return distancia\n",
    "\n",
    "def calcular_litros(distancia):\n",
    "    litros_usados = distancia / 12\n",
    "    return litros_usados\n",
    "\n",
    "def apresentar_resultado(tempo, velocidade_media, distancia, litros_usados):\n",
    "    print(f\"Velocidade média: {velocidade_media} Km/h\")\n",
    "    print(f\"Tempo gasto na viagem: {tempo} horas\")\n",
    "    print(f\"Distância percorrida: {distancia} Km\")\n",
    "    print(f\"Quantidade de litros utilizada na viagem: {litros_usados} litros\")\n",
    "\n",
    "tempo, velocidade_media = ler_valores()\n",
    "distancia = calcular_distancia(tempo, velocidade_media)\n",
    "litros_usados = calcular_litros(distancia)\n",
    "apresentar_resultado(tempo, velocidade_media, distancia, litros_usados)\n"
   ]
  },
  {
   "cell_type": "code",
   "execution_count": 22,
   "id": "06a28d19",
   "metadata": {},
   "outputs": [
    {
     "ename": "ModuleNotFoundError",
     "evalue": "No module named 'metodo'",
     "output_type": "error",
     "traceback": [
      "\u001b[1;31m---------------------------------------------------------------------------\u001b[0m",
      "\u001b[1;31mModuleNotFoundError\u001b[0m                       Traceback (most recent call last)",
      "Cell \u001b[1;32mIn[22], line 1\u001b[0m\n\u001b[1;32m----> 1\u001b[0m \u001b[38;5;28;01mfrom\u001b[39;00m \u001b[38;5;21;01mmetodo\u001b[39;00m \u001b[38;5;28;01mimport\u001b[39;00m \u001b[38;5;241m*\u001b[39m\n",
      "\u001b[1;31mModuleNotFoundError\u001b[0m: No module named 'metodo'"
     ]
    }
   ],
   "source": [
    "from metodo import *"
   ]
  },
  {
   "cell_type": "code",
   "execution_count": null,
   "id": "63e34a07",
   "metadata": {},
   "outputs": [],
   "source": []
  }
 ],
 "metadata": {
  "kernelspec": {
   "display_name": "Python 3 (ipykernel)",
   "language": "python",
   "name": "python3"
  },
  "language_info": {
   "codemirror_mode": {
    "name": "ipython",
    "version": 3
   },
   "file_extension": ".py",
   "mimetype": "text/x-python",
   "name": "python",
   "nbconvert_exporter": "python",
   "pygments_lexer": "ipython3",
   "version": "3.10.9"
  }
 },
 "nbformat": 4,
 "nbformat_minor": 5
}
