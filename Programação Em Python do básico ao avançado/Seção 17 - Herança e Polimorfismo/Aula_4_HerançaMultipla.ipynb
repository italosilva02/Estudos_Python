{
 "cells": [
  {
   "cell_type": "markdown",
   "id": "f5c761cb",
   "metadata": {},
   "source": [
    "A herança múltipla é um recurso da linguagem de programação Python que permite que uma classe herde atributos e métodos de mais de uma classe pai. Isso significa que uma classe filha pode herdar características de várias classes pai, o que pode ser útil em situações em que você deseja criar uma classe que combina funcionalidades de várias fontes diferentes. No entanto, a herança múltipla também pode ser complexa e requer cuidado para evitar problemas de ambiguidade.\n",
    "\n",
    "Aqui estão alguns conceitos importantes relacionados à herança múltipla no Python:\n",
    "\n",
    "Sintaxe:\n",
    "Para criar uma classe que herda de várias classes pai, você simplesmente lista as classes pai separadas por vírgulas na definição da classe filha. Por exemplo:"
   ]
  },
  {
   "cell_type": "code",
   "execution_count": null,
   "id": "d53e52d2",
   "metadata": {},
   "outputs": [],
   "source": [
    "class ClasseFilha(ClassePai1, ClassePai2):\n",
    "    # corpo da classe filha\n"
   ]
  },
  {
   "cell_type": "markdown",
   "id": "dd78a936",
   "metadata": {},
   "source": [
    "Ordem de Resolução de Métodos (MRO):\n",
    "O Python usa um algoritmo chamado \"C3 Linearization\" para determinar a ordem em que as classes pai são pesquisadas quando você chama um método em uma instância da classe filha. Isso é conhecido como a \"Ordem de Resolução de Métodos\" (Method Resolution Order - MRO). A ordem MRO é calculada com base na hierarquia de classes pai e na ordem em que as classes pai são listadas na definição da classe filha.\n",
    "\n",
    "Ambiguidade:\n",
    "A herança múltipla pode levar a situações em que há ambiguidade na resolução de métodos. Isso ocorre quando duas ou mais classes pai têm métodos com o mesmo nome e a ordem MRO não é clara. Nesses casos, você deve ser explícito ao chamar o método desejado ou sobrescrever o método na classe filha para fornecer uma implementação específica.\n",
    "\n",
    "Chamando Métodos de Classes Pai:\n",
    "Para chamar métodos de classes pai a partir da classe filha, você pode usar a função super(). Isso permite chamar um método da classe pai especificando a classe filha como o primeiro argumento. Por exemplo:"
   ]
  },
  {
   "cell_type": "code",
   "execution_count": null,
   "id": "d9e00d66",
   "metadata": {},
   "outputs": [],
   "source": [
    "class ClasseFilha(ClassePai1, ClassePai2):\n",
    "    def algum_metodo(self):\n",
    "        super(ClasseFilha, self).algum_metodo()  # Chama o método de ClassePai1\n"
   ]
  },
  {
   "cell_type": "markdown",
   "id": "badd84be",
   "metadata": {},
   "source": [
    "A herança múltipla pode ser poderosa, mas também pode tornar o código mais complexo e difícil de entender. É importante usá-la com moderação e considerar alternativas, como a composição de objetos, quando a herança múltipla pode levar a problemas de design. Além disso, a documentação e a clareza do código são cruciais ao trabalhar com herança múltipla para evitar erros e facilitar a manutenção."
   ]
  },
  {
   "cell_type": "markdown",
   "id": "da09386a",
   "metadata": {},
   "source": [
    "Herança múltipla nada mais é do que a possíbilidade de uma classe filha poder herdar caracteriscias de uma ou mais classes pai.\n",
    "Fazendo assim a classe filha herde métodos e atríbutos de uma ou mais classes pais.\n",
    "A herança múltipla pode ser feita de duas maneiras: \n",
    "    - Por multiderivação direta\n",
    "    - Por multiderivação indireta"
   ]
  },
  {
   "cell_type": "markdown",
   "id": "6ae46dd2",
   "metadata": {},
   "source": [
    "### Multiderivação direta"
   ]
  },
  {
   "cell_type": "code",
   "execution_count": 1,
   "id": "5b1bbe86",
   "metadata": {},
   "outputs": [],
   "source": [
    "class Base1:\n",
    "    pass\n",
    "\n",
    "class Base2:\n",
    "    pass\n",
    "\n",
    "class Multiderivada(Base1, Base2):\n",
    "    pass"
   ]
  },
  {
   "cell_type": "code",
   "execution_count": 4,
   "id": "31c61576",
   "metadata": {},
   "outputs": [
    {
     "data": {
      "text/plain": [
       "['__abstractmethods__',\n",
       " '__annotations__',\n",
       " '__base__',\n",
       " '__bases__',\n",
       " '__basicsize__',\n",
       " '__call__',\n",
       " '__class__',\n",
       " '__delattr__',\n",
       " '__dict__',\n",
       " '__dictoffset__',\n",
       " '__dir__',\n",
       " '__doc__',\n",
       " '__eq__',\n",
       " '__flags__',\n",
       " '__format__',\n",
       " '__ge__',\n",
       " '__getattribute__',\n",
       " '__gt__',\n",
       " '__hash__',\n",
       " '__init__',\n",
       " '__init_subclass__',\n",
       " '__instancecheck__',\n",
       " '__itemsize__',\n",
       " '__le__',\n",
       " '__lt__',\n",
       " '__module__',\n",
       " '__mro__',\n",
       " '__name__',\n",
       " '__ne__',\n",
       " '__new__',\n",
       " '__or__',\n",
       " '__prepare__',\n",
       " '__qualname__',\n",
       " '__reduce__',\n",
       " '__reduce_ex__',\n",
       " '__repr__',\n",
       " '__ror__',\n",
       " '__setattr__',\n",
       " '__sizeof__',\n",
       " '__str__',\n",
       " '__subclasscheck__',\n",
       " '__subclasses__',\n",
       " '__subclasshook__',\n",
       " '__text_signature__',\n",
       " '__weakrefoffset__',\n",
       " 'mro']"
      ]
     },
     "execution_count": 4,
     "metadata": {},
     "output_type": "execute_result"
    }
   ],
   "source": [
    "dir(Multiderivada.__class__)"
   ]
  },
  {
   "cell_type": "markdown",
   "id": "5ad6a564",
   "metadata": {},
   "source": [
    "Podemos herdar de quantas classes for necessária. Não há limites"
   ]
  },
  {
   "cell_type": "markdown",
   "id": "6eeb7da2",
   "metadata": {},
   "source": [
    "### Multiderivação indireta"
   ]
  },
  {
   "cell_type": "code",
   "execution_count": 5,
   "id": "e7889657",
   "metadata": {},
   "outputs": [],
   "source": [
    "class Base1:\n",
    "    pass\n",
    "\n",
    "class Base2(Base1):\n",
    "    pass\n",
    "\n",
    "class Base3(Base2):\n",
    "    pass\n",
    "\n",
    "class Multiderivada(Base3):\n",
    "    pass"
   ]
  },
  {
   "cell_type": "code",
   "execution_count": 6,
   "id": "cd4300e3",
   "metadata": {},
   "outputs": [
    {
     "data": {
      "text/plain": [
       "['__abstractmethods__',\n",
       " '__annotations__',\n",
       " '__base__',\n",
       " '__bases__',\n",
       " '__basicsize__',\n",
       " '__call__',\n",
       " '__class__',\n",
       " '__delattr__',\n",
       " '__dict__',\n",
       " '__dictoffset__',\n",
       " '__dir__',\n",
       " '__doc__',\n",
       " '__eq__',\n",
       " '__flags__',\n",
       " '__format__',\n",
       " '__ge__',\n",
       " '__getattribute__',\n",
       " '__gt__',\n",
       " '__hash__',\n",
       " '__init__',\n",
       " '__init_subclass__',\n",
       " '__instancecheck__',\n",
       " '__itemsize__',\n",
       " '__le__',\n",
       " '__lt__',\n",
       " '__module__',\n",
       " '__mro__',\n",
       " '__name__',\n",
       " '__ne__',\n",
       " '__new__',\n",
       " '__or__',\n",
       " '__prepare__',\n",
       " '__qualname__',\n",
       " '__reduce__',\n",
       " '__reduce_ex__',\n",
       " '__repr__',\n",
       " '__ror__',\n",
       " '__setattr__',\n",
       " '__sizeof__',\n",
       " '__str__',\n",
       " '__subclasscheck__',\n",
       " '__subclasses__',\n",
       " '__subclasshook__',\n",
       " '__text_signature__',\n",
       " '__weakrefoffset__',\n",
       " 'mro']"
      ]
     },
     "execution_count": 6,
     "metadata": {},
     "output_type": "execute_result"
    }
   ],
   "source": [
    "dir(Multiderivada.__class__)"
   ]
  },
  {
   "cell_type": "code",
   "execution_count": 7,
   "id": "92849313",
   "metadata": {},
   "outputs": [
    {
     "data": {
      "text/plain": [
       "['__call__',\n",
       " '__class__',\n",
       " '__delattr__',\n",
       " '__dir__',\n",
       " '__doc__',\n",
       " '__eq__',\n",
       " '__format__',\n",
       " '__ge__',\n",
       " '__getattribute__',\n",
       " '__gt__',\n",
       " '__hash__',\n",
       " '__init__',\n",
       " '__init_subclass__',\n",
       " '__le__',\n",
       " '__lt__',\n",
       " '__module__',\n",
       " '__name__',\n",
       " '__ne__',\n",
       " '__new__',\n",
       " '__qualname__',\n",
       " '__reduce__',\n",
       " '__reduce_ex__',\n",
       " '__repr__',\n",
       " '__self__',\n",
       " '__setattr__',\n",
       " '__sizeof__',\n",
       " '__str__',\n",
       " '__subclasshook__',\n",
       " '__text_signature__']"
      ]
     },
     "execution_count": 7,
     "metadata": {},
     "output_type": "execute_result"
    }
   ],
   "source": [
    "dir(Multiderivada.__subclasses__)"
   ]
  },
  {
   "cell_type": "markdown",
   "id": "b5b36654",
   "metadata": {},
   "source": [
    "Não importa se a derivação seja direta ou indireta, a classe que realizar a herança herdara todos os atríbutos e métodos das super classes. Não há diferenças nas heranças"
   ]
  },
  {
   "cell_type": "code",
   "execution_count": 23,
   "id": "365a4de8",
   "metadata": {},
   "outputs": [],
   "source": [
    "class Animal:\n",
    "    def __init__(self, nome):\n",
    "        self._nome = nome\n",
    "        \n",
    "    def comprimentar(self):\n",
    "        return f'{self._nome} say Hello'"
   ]
  },
  {
   "cell_type": "code",
   "execution_count": 29,
   "id": "dbd2a99b",
   "metadata": {},
   "outputs": [],
   "source": [
    "class Aquatico(Animal):\n",
    "    def __init__(self, nome):\n",
    "        super().__init__(nome)\n",
    "        \n",
    "    def nadar(self):\n",
    "        return f'{self._nome} está nadando'\n",
    "    \n",
    "    def comprimentar(self):\n",
    "        return f'{self._nome} está fazendo bolhas de água'"
   ]
  },
  {
   "cell_type": "code",
   "execution_count": 30,
   "id": "4e41bbf3",
   "metadata": {},
   "outputs": [],
   "source": [
    "class Terrestre(Animal):\n",
    "    def __init__(self, nome):\n",
    "        super().__init__(nome)\n",
    "        \n",
    "    def andar(self):\n",
    "        return f'{self._nome} está andando'\n",
    "    \n",
    "    def comprimentar(self):\n",
    "        return f'{self._nome} está falando Oii'"
   ]
  },
  {
   "cell_type": "code",
   "execution_count": 40,
   "id": "7494fef6",
   "metadata": {},
   "outputs": [],
   "source": [
    "class Pinguim(Aquatico, Terrestre):\n",
    "    def __init__(self, nome):\n",
    "        super().__init__(nome)"
   ]
  },
  {
   "cell_type": "code",
   "execution_count": 41,
   "id": "293757e5",
   "metadata": {},
   "outputs": [],
   "source": [
    "baleia = Aquatico('Wally')"
   ]
  },
  {
   "cell_type": "code",
   "execution_count": 42,
   "id": "26bab730",
   "metadata": {},
   "outputs": [
    {
     "data": {
      "text/plain": [
       "'Wally está fazendo bolhas de água'"
      ]
     },
     "execution_count": 42,
     "metadata": {},
     "output_type": "execute_result"
    }
   ],
   "source": [
    "baleia.comprimentar()"
   ]
  },
  {
   "cell_type": "code",
   "execution_count": 43,
   "id": "9d917850",
   "metadata": {},
   "outputs": [
    {
     "data": {
      "text/plain": [
       "'Wally está nadando'"
      ]
     },
     "execution_count": 43,
     "metadata": {},
     "output_type": "execute_result"
    }
   ],
   "source": [
    "baleia.nadar()"
   ]
  },
  {
   "cell_type": "code",
   "execution_count": 44,
   "id": "f4a3db66",
   "metadata": {},
   "outputs": [],
   "source": [
    "tatu = Terrestre('Maick')"
   ]
  },
  {
   "cell_type": "code",
   "execution_count": 45,
   "id": "8e933e68",
   "metadata": {},
   "outputs": [
    {
     "data": {
      "text/plain": [
       "'Maick está falando Oii'"
      ]
     },
     "execution_count": 45,
     "metadata": {},
     "output_type": "execute_result"
    }
   ],
   "source": [
    "tatu.comprimentar()"
   ]
  },
  {
   "cell_type": "code",
   "execution_count": 46,
   "id": "28a10300",
   "metadata": {},
   "outputs": [
    {
     "data": {
      "text/plain": [
       "'Maick está andando'"
      ]
     },
     "execution_count": 46,
     "metadata": {},
     "output_type": "execute_result"
    }
   ],
   "source": [
    "tatu.andar()"
   ]
  },
  {
   "cell_type": "code",
   "execution_count": 47,
   "id": "5d2f21b3",
   "metadata": {},
   "outputs": [],
   "source": [
    "pinguim = Pinguim(\"Jim\")"
   ]
  },
  {
   "cell_type": "code",
   "execution_count": 48,
   "id": "59ce94c6",
   "metadata": {},
   "outputs": [
    {
     "data": {
      "text/plain": [
       "'Jim está fazendo bolhas de água'"
      ]
     },
     "execution_count": 48,
     "metadata": {},
     "output_type": "execute_result"
    }
   ],
   "source": [
    "pinguim.comprimentar()"
   ]
  },
  {
   "cell_type": "markdown",
   "id": "18b0d6b8",
   "metadata": {},
   "source": [
    "O comportamento que você está observando, onde a instância da classe Pinguim retorna a implementação do método comprimentar da superclasse Terrestre, ocorre devido à ordem de resolução de métodos (MRO) no Python. A ordem MRO determina a sequência em que as classes pai são pesquisadas quando um método é chamado em uma instância da classe filha.\n",
    "\n",
    "Neste caso, a classe Pinguim herda de duas classes pai, Terrestre e Aquatico. Quando você chama pinguim.comprimentar(), o Python procura o método comprimentar na classe Pinguim primeiro. Se não o encontrar, ele procurará na primeira classe pai listada na definição da classe filha, que é Terrestre. Se o método comprimentar não for encontrado em Terrestre, ele continuará a pesquisa nas outras classes pai, seguindo a ordem MRO.\n",
    "\n",
    "Se você deseja que a instância da classe Pinguim retorne a implementação do método comprimentar da classe Aquatico, você pode reorganizar a ordem das classes pai na definição da classe Pinguim da seguinte forma:"
   ]
  },
  {
   "cell_type": "code",
   "execution_count": 51,
   "id": "57cb9962",
   "metadata": {},
   "outputs": [
    {
     "data": {
      "text/plain": [
       "['__class__',\n",
       " '__delattr__',\n",
       " '__dict__',\n",
       " '__dir__',\n",
       " '__doc__',\n",
       " '__eq__',\n",
       " '__format__',\n",
       " '__ge__',\n",
       " '__getattribute__',\n",
       " '__gt__',\n",
       " '__hash__',\n",
       " '__init__',\n",
       " '__init_subclass__',\n",
       " '__le__',\n",
       " '__lt__',\n",
       " '__module__',\n",
       " '__ne__',\n",
       " '__new__',\n",
       " '__reduce__',\n",
       " '__reduce_ex__',\n",
       " '__repr__',\n",
       " '__setattr__',\n",
       " '__sizeof__',\n",
       " '__str__',\n",
       " '__subclasshook__',\n",
       " '__weakref__',\n",
       " '_nome',\n",
       " 'andar',\n",
       " 'comprimentar',\n",
       " 'nadar']"
      ]
     },
     "execution_count": 51,
     "metadata": {},
     "output_type": "execute_result"
    }
   ],
   "source": [
    "dir(pinguim)"
   ]
  },
  {
   "cell_type": "markdown",
   "id": "eee24248",
   "metadata": {},
   "source": [
    "O objeto é uma instancia"
   ]
  },
  {
   "cell_type": "code",
   "execution_count": 58,
   "id": "6d0b14c0",
   "metadata": {},
   "outputs": [
    {
     "name": "stdout",
     "output_type": "stream",
     "text": [
      "Help on built-in function isinstance in module builtins:\n",
      "\n",
      "isinstance(obj, class_or_tuple, /)\n",
      "    Return whether an object is an instance of a class or of a subclass thereof.\n",
      "    \n",
      "    A tuple, as in ``isinstance(x, (A, B, ...))``, may be given as the target to\n",
      "    check against. This is equivalent to ``isinstance(x, A) or isinstance(x, B)\n",
      "    or ...`` etc.\n",
      "\n"
     ]
    }
   ],
   "source": [
    "help(isinstance)"
   ]
  },
  {
   "cell_type": "code",
   "execution_count": 53,
   "id": "f717c6a8",
   "metadata": {},
   "outputs": [
    {
     "name": "stdout",
     "output_type": "stream",
     "text": [
      "Fim é uma instância de pinguim? True\n"
     ]
    }
   ],
   "source": [
    "print(f'Jim é uma instância de pinguim? {isinstance(pinguim, Pinguim)}')"
   ]
  },
  {
   "cell_type": "code",
   "execution_count": 54,
   "id": "24520fac",
   "metadata": {},
   "outputs": [
    {
     "name": "stdout",
     "output_type": "stream",
     "text": [
      "Jim é uma instância de Aquatico? True\n"
     ]
    }
   ],
   "source": [
    "print(f'Jim é uma instância de Aquatico? {isinstance(pinguim, Aquatico)}')"
   ]
  },
  {
   "cell_type": "code",
   "execution_count": 55,
   "id": "fcc485b4",
   "metadata": {},
   "outputs": [
    {
     "name": "stdout",
     "output_type": "stream",
     "text": [
      "Jim é uma instância de Terrestre? True\n"
     ]
    }
   ],
   "source": [
    "print(f'Jim é uma instância de Terrestre? {isinstance(pinguim, Terrestre)}')"
   ]
  },
  {
   "cell_type": "code",
   "execution_count": 56,
   "id": "2434d00e",
   "metadata": {},
   "outputs": [
    {
     "name": "stdout",
     "output_type": "stream",
     "text": [
      "Jim é uma instância de Aquatico? True\n"
     ]
    }
   ],
   "source": [
    "print(f'Jim é uma instância de Animal? {isinstance(pinguim, Animal)}')"
   ]
  },
  {
   "cell_type": "code",
   "execution_count": null,
   "id": "b84a17db",
   "metadata": {},
   "outputs": [],
   "source": [
    "print(f'Jim é uma instância de Aquatico? {isinstance(pinguim, Aquatico)}')"
   ]
  }
 ],
 "metadata": {
  "kernelspec": {
   "display_name": "Python 3 (ipykernel)",
   "language": "python",
   "name": "python3"
  },
  "language_info": {
   "codemirror_mode": {
    "name": "ipython",
    "version": 3
   },
   "file_extension": ".py",
   "mimetype": "text/x-python",
   "name": "python",
   "nbconvert_exporter": "python",
   "pygments_lexer": "ipython3",
   "version": "3.10.9"
  }
 },
 "nbformat": 4,
 "nbformat_minor": 5
}
