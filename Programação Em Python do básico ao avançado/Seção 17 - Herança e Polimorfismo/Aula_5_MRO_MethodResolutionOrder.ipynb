{
 "cells": [
  {
   "cell_type": "markdown",
   "id": "ac1c8c01",
   "metadata": {},
   "source": [
    "### MRO (Method Resolution Order) em Python"
   ]
  },
  {
   "cell_type": "markdown",
   "id": "0383e4cb",
   "metadata": {},
   "source": [
    "MRO, ou Method Resolution Order, é um conceito fundamental em Python que determina a ordem em que as classes são pesquisadas para encontrar métodos ou atributos. É especialmente importante quando você está lidando com herança múltipla, ou seja, uma classe que herda de mais de uma classe base.\n",
    "\n",
    "O MRO é utilizado para garantir que a busca por métodos seja consistente e que as classes sejam pesquisadas na ordem correta. Em Python, a MRO é calculada usando o algoritmo C3, que foi projetado para garantir a coerência e a previsibilidade na resolução de métodos.\n",
    "\n",
    "A ordem de pesquisa é determinada da seguinte forma:\n",
    "\n",
    "A classe derivada (a classe que chama o método).\n",
    "As classes bases da classe derivada, da esquerda para a direita.\n",
    "As classes bases das classes bases, na ordem em que foram definidas, da esquerda para a direita.\n",
    "Aqui está um exemplo de herança múltipla e a MRO resultante:"
   ]
  },
  {
   "cell_type": "code",
   "execution_count": null,
   "id": "22ded4f5",
   "metadata": {},
   "outputs": [],
   "source": [
    "class A:\n",
    "    def method(self):\n",
    "        print(\"Método de A\")\n",
    "\n",
    "class B(A):\n",
    "    def method(self):\n",
    "        print(\"Método de B\")\n",
    "\n",
    "class C(A):\n",
    "    def method(self):\n",
    "        print(\"Método de C\")\n",
    "\n",
    "class D(B, C):\n",
    "    pass\n",
    "\n",
    "obj = D()\n",
    "obj.method()  # A ordem de pesquisa MRO é D -> B -> C -> A\n"
   ]
  },
  {
   "cell_type": "markdown",
   "id": "80677332",
   "metadata": {},
   "source": [
    "Neste exemplo, o método obj.method() chamará o método da classe B, porque a ordem de pesquisa segue a MRO, que é D -> B -> C -> A.\n",
    "\n",
    "Compreender a MRO é importante para lidar com herança múltipla e garantir o comportamento esperado em situações complexas de herança.\n"
   ]
  },
  {
   "cell_type": "code",
   "execution_count": 1,
   "id": "4388a74e",
   "metadata": {},
   "outputs": [],
   "source": [
    "class Animal:\n",
    "    def __init__(self, nome):\n",
    "        self._nome = nome\n",
    "        \n",
    "    def comprimentar(self):\n",
    "        return f'{self._nome} say Hello'"
   ]
  },
  {
   "cell_type": "code",
   "execution_count": 2,
   "id": "caffd21c",
   "metadata": {},
   "outputs": [],
   "source": [
    "class Aquatico(Animal):\n",
    "    def __init__(self, nome):\n",
    "        super().__init__(nome)\n",
    "        \n",
    "    def nadar(self):\n",
    "        return f'{self._nome} está nadando'\n",
    "    \n",
    "    def comprimentar(self):\n",
    "        return f'{self._nome} está fazendo bolhas de água'"
   ]
  },
  {
   "cell_type": "code",
   "execution_count": 3,
   "id": "3784ab19",
   "metadata": {},
   "outputs": [],
   "source": [
    "class Terrestre(Animal):\n",
    "    def __init__(self, nome):\n",
    "        super().__init__(nome)\n",
    "        \n",
    "    def andar(self):\n",
    "        return f'{self._nome} está andando'\n",
    "    \n",
    "    def comprimentar(self):\n",
    "        return f'{self._nome} está falando Oii'"
   ]
  },
  {
   "cell_type": "code",
   "execution_count": 4,
   "id": "02fd6ff2",
   "metadata": {},
   "outputs": [],
   "source": [
    "class Pinguim(Aquatico, Terrestre):\n",
    "    def __init__(self, nome):\n",
    "        super().__init__(nome)"
   ]
  },
  {
   "cell_type": "code",
   "execution_count": 5,
   "id": "e44e56fd",
   "metadata": {},
   "outputs": [],
   "source": [
    "p = Pinguim(\"Jix\")"
   ]
  },
  {
   "cell_type": "code",
   "execution_count": 6,
   "id": "f1df1fc3",
   "metadata": {},
   "outputs": [
    {
     "data": {
      "text/plain": [
       "'Jix está fazendo bolhas de água'"
      ]
     },
     "execution_count": 6,
     "metadata": {},
     "output_type": "execute_result"
    }
   ],
   "source": [
    "p.comprimentar()"
   ]
  },
  {
   "cell_type": "markdown",
   "id": "5b9aa91c",
   "metadata": {},
   "source": [
    "Em Python você pode conferir a ordem de execução dos métodos (MRO) de 3 formas\n",
    " - Via propriedade da classe _mro_\n",
    " - Via método mro()\n",
    " - Via help"
   ]
  },
  {
   "cell_type": "code",
   "execution_count": 13,
   "id": "63b415f7",
   "metadata": {},
   "outputs": [
    {
     "name": "stdout",
     "output_type": "stream",
     "text": [
      "Could not fetch URL https://pypi.org/simple/mro/: There was a problem confirming the ssl certificate: HTTPSConnectionPool(host='pypi.org', port=443): Max retries exceeded with url: /simple/mro/ (Caused by SSLError(SSLCertVerificationError(1, '[SSL: CERTIFICATE_VERIFY_FAILED] certificate verify failed: unable to get local issuer certificate (_ssl.c:997)'))) - skipping\n",
      "Could not fetch URL https://pypi.org/simple/pip/: There was a problem confirming the ssl certificate: HTTPSConnectionPool(host='pypi.org', port=443): Max retries exceeded with url: /simple/pip/ (Caused by SSLError(SSLCertVerificationError(1, '[SSL: CERTIFICATE_VERIFY_FAILED] certificate verify failed: unable to get local issuer certificate (_ssl.c:997)'))) - skipping\n",
      "Note: you may need to restart the kernel to use updated packages.\n"
     ]
    },
    {
     "name": "stderr",
     "output_type": "stream",
     "text": [
      "WARNING: Retrying (Retry(total=4, connect=None, read=None, redirect=None, status=None)) after connection broken by 'SSLError(SSLCertVerificationError(1, '[SSL: CERTIFICATE_VERIFY_FAILED] certificate verify failed: unable to get local issuer certificate (_ssl.c:997)'))': /simple/mro/\n",
      "WARNING: Retrying (Retry(total=3, connect=None, read=None, redirect=None, status=None)) after connection broken by 'SSLError(SSLCertVerificationError(1, '[SSL: CERTIFICATE_VERIFY_FAILED] certificate verify failed: unable to get local issuer certificate (_ssl.c:997)'))': /simple/mro/\n",
      "WARNING: Retrying (Retry(total=2, connect=None, read=None, redirect=None, status=None)) after connection broken by 'SSLError(SSLCertVerificationError(1, '[SSL: CERTIFICATE_VERIFY_FAILED] certificate verify failed: unable to get local issuer certificate (_ssl.c:997)'))': /simple/mro/\n",
      "WARNING: Retrying (Retry(total=1, connect=None, read=None, redirect=None, status=None)) after connection broken by 'SSLError(SSLCertVerificationError(1, '[SSL: CERTIFICATE_VERIFY_FAILED] certificate verify failed: unable to get local issuer certificate (_ssl.c:997)'))': /simple/mro/\n",
      "WARNING: Retrying (Retry(total=0, connect=None, read=None, redirect=None, status=None)) after connection broken by 'SSLError(SSLCertVerificationError(1, '[SSL: CERTIFICATE_VERIFY_FAILED] certificate verify failed: unable to get local issuer certificate (_ssl.c:997)'))': /simple/mro/\n",
      "ERROR: Could not find a version that satisfies the requirement mro (from versions: none)\n",
      "ERROR: No matching distribution found for mro\n",
      "WARNING: There was an error checking the latest version of pip.\n"
     ]
    }
   ],
   "source": [
    "pip install mro"
   ]
  },
  {
   "cell_type": "code",
   "execution_count": 14,
   "id": "9b451159",
   "metadata": {},
   "outputs": [
    {
     "data": {
      "text/plain": [
       "(__main__.Pinguim,\n",
       " __main__.Aquatico,\n",
       " __main__.Terrestre,\n",
       " __main__.Animal,\n",
       " object)"
      ]
     },
     "execution_count": 14,
     "metadata": {},
     "output_type": "execute_result"
    }
   ],
   "source": [
    "Pinguim.__mro__"
   ]
  },
  {
   "cell_type": "code",
   "execution_count": 15,
   "id": "cf98fa08",
   "metadata": {},
   "outputs": [
    {
     "name": "stdout",
     "output_type": "stream",
     "text": [
      "Help on class Pinguim in module __main__:\n",
      "\n",
      "class Pinguim(Aquatico, Terrestre)\n",
      " |  Pinguim(nome)\n",
      " |  \n",
      " |  Method resolution order:\n",
      " |      Pinguim\n",
      " |      Aquatico\n",
      " |      Terrestre\n",
      " |      Animal\n",
      " |      builtins.object\n",
      " |  \n",
      " |  Methods defined here:\n",
      " |  \n",
      " |  __init__(self, nome)\n",
      " |      Initialize self.  See help(type(self)) for accurate signature.\n",
      " |  \n",
      " |  ----------------------------------------------------------------------\n",
      " |  Methods inherited from Aquatico:\n",
      " |  \n",
      " |  comprimentar(self)\n",
      " |  \n",
      " |  nadar(self)\n",
      " |  \n",
      " |  ----------------------------------------------------------------------\n",
      " |  Methods inherited from Terrestre:\n",
      " |  \n",
      " |  andar(self)\n",
      " |  \n",
      " |  ----------------------------------------------------------------------\n",
      " |  Data descriptors inherited from Animal:\n",
      " |  \n",
      " |  __dict__\n",
      " |      dictionary for instance variables (if defined)\n",
      " |  \n",
      " |  __weakref__\n",
      " |      list of weak references to the object (if defined)\n",
      "\n"
     ]
    }
   ],
   "source": [
    "help(Pinguim)"
   ]
  },
  {
   "cell_type": "code",
   "execution_count": 9,
   "id": "4b67e0d7",
   "metadata": {},
   "outputs": [],
   "source": [
    "class Animal:\n",
    "    def method():\n",
    "        return \"Aniaml\"\n",
    "    \n",
    "class Crustacio:\n",
    "    def method():\n",
    "        return \"Essa é um crustacio\""
   ]
  },
  {
   "cell_type": "code",
   "execution_count": 10,
   "id": "082dec02",
   "metadata": {},
   "outputs": [],
   "source": [
    "class Adf(Animal, Crustacio):\n",
    "    pass"
   ]
  },
  {
   "cell_type": "code",
   "execution_count": 11,
   "id": "856e9449",
   "metadata": {},
   "outputs": [],
   "source": [
    "a = Adf()"
   ]
  },
  {
   "cell_type": "code",
   "execution_count": 13,
   "id": "01b862d2",
   "metadata": {},
   "outputs": [
    {
     "ename": "TypeError",
     "evalue": "Animal.method() takes 0 positional arguments but 1 was given",
     "output_type": "error",
     "traceback": [
      "\u001b[1;31m---------------------------------------------------------------------------\u001b[0m",
      "\u001b[1;31mTypeError\u001b[0m                                 Traceback (most recent call last)",
      "Cell \u001b[1;32mIn[13], line 1\u001b[0m\n\u001b[1;32m----> 1\u001b[0m \u001b[38;5;28mprint\u001b[39m(\u001b[43ma\u001b[49m\u001b[38;5;241;43m.\u001b[39;49m\u001b[43mmethod\u001b[49m\u001b[43m(\u001b[49m\u001b[43m)\u001b[49m)\n",
      "\u001b[1;31mTypeError\u001b[0m: Animal.method() takes 0 positional arguments but 1 was given"
     ]
    }
   ],
   "source": [
    "print(a.method())"
   ]
  },
  {
   "cell_type": "code",
   "execution_count": null,
   "id": "fcfd66cd",
   "metadata": {},
   "outputs": [],
   "source": []
  }
 ],
 "metadata": {
  "kernelspec": {
   "display_name": "Python 3 (ipykernel)",
   "language": "python",
   "name": "python3"
  },
  "language_info": {
   "codemirror_mode": {
    "name": "ipython",
    "version": 3
   },
   "file_extension": ".py",
   "mimetype": "text/x-python",
   "name": "python",
   "nbconvert_exporter": "python",
   "pygments_lexer": "ipython3",
   "version": "3.10.9"
  }
 },
 "nbformat": 4,
 "nbformat_minor": 5
}
