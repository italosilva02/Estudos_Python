{
 "cells": [
  {
   "cell_type": "markdown",
   "id": "a02de02a",
   "metadata": {},
   "source": [
    "O polimorfismo é um dos princípios fundamentais da programação orientada a objetos (POO) e se refere à capacidade de objetos de diferentes classes responderem ao mesmo método de forma diferente. Em Python, o polimorfismo é amplamente suportado, devido à natureza dinâmica e flexível da linguagem.\n",
    "\n",
    "Existem dois principais tipos de polimorfismo em Python: polimorfismo de sobrecarga (ou sobrescrita) e polimorfismo de interface."
   ]
  },
  {
   "cell_type": "markdown",
   "id": "a9880ca7",
   "metadata": {},
   "source": [
    "### Polimorfismo de Sobrecarga"
   ]
  },
  {
   "cell_type": "markdown",
   "id": "4b9cc84b",
   "metadata": {},
   "source": [
    "O polimorfismo de sobrecarga ocorre quando várias classes têm métodos com o mesmo nome, mas eles se comportam de maneira diferente, dependendo da classe específica em que são chamados. Isso é frequentemente alcançado por meio da herança e da substituição de métodos em classes derivadas.\n",
    "\n",
    "Aqui está um exemplo simples de polimorfismo de sobrecarga:"
   ]
  },
  {
   "cell_type": "code",
   "execution_count": null,
   "id": "78709d64",
   "metadata": {},
   "outputs": [],
   "source": [
    "class Animal:\n",
    "    def falar(self):\n",
    "        pass\n",
    "\n",
    "class Cachorro(Animal):\n",
    "    def falar(self):\n",
    "        return \"Au Au!\"\n",
    "\n",
    "class Gato(Animal):\n",
    "    def falar(self):\n",
    "        return \"Miau!\"\n",
    "\n",
    "for animal in [Cachorro(), Gato()]:\n",
    "    print(animal.falar())\n"
   ]
  },
  {
   "cell_type": "markdown",
   "id": "b3c046b1",
   "metadata": {},
   "source": [
    "### Polimorfismo de Interface"
   ]
  },
  {
   "cell_type": "markdown",
   "id": "ddc02bfb",
   "metadata": {},
   "source": [
    "O polimorfismo de interface ocorre quando várias classes implementam uma interface comum, ou seja, elas têm métodos com os mesmos nomes e assinaturas, mas com implementações específicas para cada classe. Isso permite que você trate objetos de diferentes classes de maneira uniforme quando eles seguem a mesma interface.\n",
    "\n",
    "Aqui está um exemplo de polimorfismo de interface:"
   ]
  },
  {
   "cell_type": "code",
   "execution_count": null,
   "id": "f7b97aa2",
   "metadata": {},
   "outputs": [],
   "source": [
    "class Forma:\n",
    "    def calcular_area(self):\n",
    "        pass\n",
    "\n",
    "class Retangulo(Forma):\n",
    "    def __init__(self, largura, altura):\n",
    "        self.largura = largura\n",
    "        self.altura = altura\n",
    "\n",
    "    def calcular_area(self):\n",
    "        return self.largura * self.altura\n",
    "\n",
    "class Circulo(Forma):\n",
    "    def __init__(self, raio):\n",
    "        self.raio = raio\n",
    "\n",
    "    def calcular_area(self):\n",
    "        return 3.14 * self.raio * self.raio\n",
    "\n",
    "formas = [Retangulo(4, 5), Circulo(3)]\n",
    "\n",
    "for forma in formas:\n",
    "    print(f'Área da forma: {forma.calcular_area()}')\n"
   ]
  },
  {
   "cell_type": "markdown",
   "id": "b6257c4f",
   "metadata": {},
   "source": [
    "Neste exemplo, ambas as classes Retangulo e Circulo implementam o método calcular_area(), seguindo a mesma interface da classe base Forma, permitindo que objetos de diferentes classes sejam tratados de maneira uniforme.\n",
    "\n",
    "O polimorfismo é uma característica poderosa da programação orientada a objetos em Python, pois permite escrever código mais flexível e genérico, facilitando a reutilização de código e a manutenção do sistema."
   ]
  },
  {
   "cell_type": "markdown",
   "id": "815a1cc9",
   "metadata": {},
   "source": [
    "Poli - Muitos\n",
    "Morfis - Formas"
   ]
  },
  {
   "cell_type": "code",
   "execution_count": 33,
   "id": "3aa2c37c",
   "metadata": {},
   "outputs": [],
   "source": [
    "class Animal(object):\n",
    "    def __init__(self, nome):\n",
    "        self._nome = nome\n",
    "        \n",
    "    def falar(self):\n",
    "        raise NotImplementedError('A classe filha precisa implentanr')\n",
    "        \n",
    "    def comer(self):\n",
    "        return f'O {self._nome} está comendo'"
   ]
  },
  {
   "cell_type": "code",
   "execution_count": 34,
   "id": "814c8c1d",
   "metadata": {},
   "outputs": [],
   "source": [
    "class Cachorro(Animal):\n",
    "    def __init__(self, nome):\n",
    "        super().__init__(nome)\n",
    "    \n",
    "    def falar(self):\n",
    "        return f'{self._nome} falou auau'"
   ]
  },
  {
   "cell_type": "code",
   "execution_count": 35,
   "id": "141ce86b",
   "metadata": {},
   "outputs": [
    {
     "name": "stdout",
     "output_type": "stream",
     "text": [
      "Help on class Cachorro in module __main__:\n",
      "\n",
      "class Cachorro(Animal)\n",
      " |  Cachorro(nome)\n",
      " |  \n",
      " |  Method resolution order:\n",
      " |      Cachorro\n",
      " |      Animal\n",
      " |      builtins.object\n",
      " |  \n",
      " |  Methods defined here:\n",
      " |  \n",
      " |  __init__(self, nome)\n",
      " |      Initialize self.  See help(type(self)) for accurate signature.\n",
      " |  \n",
      " |  falar(self)\n",
      " |  \n",
      " |  ----------------------------------------------------------------------\n",
      " |  Methods inherited from Animal:\n",
      " |  \n",
      " |  comer(self)\n",
      " |  \n",
      " |  ----------------------------------------------------------------------\n",
      " |  Data descriptors inherited from Animal:\n",
      " |  \n",
      " |  __dict__\n",
      " |      dictionary for instance variables (if defined)\n",
      " |  \n",
      " |  __weakref__\n",
      " |      list of weak references to the object (if defined)\n",
      "\n"
     ]
    }
   ],
   "source": [
    "help(Cachorro)"
   ]
  },
  {
   "cell_type": "code",
   "execution_count": 36,
   "id": "98da95fe",
   "metadata": {},
   "outputs": [],
   "source": [
    "class Gato(Animal):\n",
    "    def __init__(self, nome):\n",
    "        super().__init__(nome)\n",
    "        \n",
    "    def falar(self):\n",
    "        return f'O {self._nome} falou miau'"
   ]
  },
  {
   "cell_type": "code",
   "execution_count": 37,
   "id": "fe9f0801",
   "metadata": {},
   "outputs": [
    {
     "name": "stdout",
     "output_type": "stream",
     "text": [
      "Help on class Gato in module __main__:\n",
      "\n",
      "class Gato(Animal)\n",
      " |  Gato(nome)\n",
      " |  \n",
      " |  Method resolution order:\n",
      " |      Gato\n",
      " |      Animal\n",
      " |      builtins.object\n",
      " |  \n",
      " |  Methods defined here:\n",
      " |  \n",
      " |  __init__(self, nome)\n",
      " |      Initialize self.  See help(type(self)) for accurate signature.\n",
      " |  \n",
      " |  falar(self)\n",
      " |  \n",
      " |  ----------------------------------------------------------------------\n",
      " |  Methods inherited from Animal:\n",
      " |  \n",
      " |  comer(self)\n",
      " |  \n",
      " |  ----------------------------------------------------------------------\n",
      " |  Data descriptors inherited from Animal:\n",
      " |  \n",
      " |  __dict__\n",
      " |      dictionary for instance variables (if defined)\n",
      " |  \n",
      " |  __weakref__\n",
      " |      list of weak references to the object (if defined)\n",
      "\n"
     ]
    }
   ],
   "source": [
    "help(Gato)"
   ]
  },
  {
   "cell_type": "code",
   "execution_count": 38,
   "id": "203b3a63",
   "metadata": {},
   "outputs": [],
   "source": [
    "class Rato(Animal):\n",
    "    def __init__(self, nome):\n",
    "        super().__init__(nome)"
   ]
  },
  {
   "cell_type": "code",
   "execution_count": null,
   "id": "023ca4ce",
   "metadata": {},
   "outputs": [],
   "source": [
    "Cachorro - Herda a classe animal e o método falar\n",
    "Gato - Herda a classe animal e o método falar\n",
    "Rato - Não implementou o método falar"
   ]
  },
  {
   "cell_type": "code",
   "execution_count": 39,
   "id": "c5ff1220",
   "metadata": {},
   "outputs": [],
   "source": [
    "gato = Gato(\"Felix\")"
   ]
  },
  {
   "cell_type": "code",
   "execution_count": 40,
   "id": "aefaf785",
   "metadata": {},
   "outputs": [
    {
     "data": {
      "text/plain": [
       "'O Felix está comendo'"
      ]
     },
     "execution_count": 40,
     "metadata": {},
     "output_type": "execute_result"
    }
   ],
   "source": [
    "gato.comer()"
   ]
  },
  {
   "cell_type": "code",
   "execution_count": 41,
   "id": "c1f5993d",
   "metadata": {},
   "outputs": [
    {
     "data": {
      "text/plain": [
       "'O Felix falou miau'"
      ]
     },
     "execution_count": 41,
     "metadata": {},
     "output_type": "execute_result"
    }
   ],
   "source": [
    "gato.falar()"
   ]
  },
  {
   "cell_type": "code",
   "execution_count": 42,
   "id": "972253fd",
   "metadata": {},
   "outputs": [],
   "source": [
    "cachorro = Cachorro(\"Marley\")"
   ]
  },
  {
   "cell_type": "code",
   "execution_count": 43,
   "id": "f7b23c66",
   "metadata": {},
   "outputs": [
    {
     "data": {
      "text/plain": [
       "'O Marley está comendo'"
      ]
     },
     "execution_count": 43,
     "metadata": {},
     "output_type": "execute_result"
    }
   ],
   "source": [
    "cachorro.comer()"
   ]
  },
  {
   "cell_type": "code",
   "execution_count": 44,
   "id": "63dda738",
   "metadata": {},
   "outputs": [
    {
     "data": {
      "text/plain": [
       "'Marley falou auau'"
      ]
     },
     "execution_count": 44,
     "metadata": {},
     "output_type": "execute_result"
    }
   ],
   "source": [
    "cachorro.falar()"
   ]
  },
  {
   "cell_type": "code",
   "execution_count": 45,
   "id": "7cc1bc23",
   "metadata": {},
   "outputs": [],
   "source": [
    "rato = Rato('Stitch')"
   ]
  },
  {
   "cell_type": "code",
   "execution_count": 46,
   "id": "a07860fb",
   "metadata": {},
   "outputs": [
    {
     "data": {
      "text/plain": [
       "'O Stitch está comendo'"
      ]
     },
     "execution_count": 46,
     "metadata": {},
     "output_type": "execute_result"
    }
   ],
   "source": [
    "rato.comer()"
   ]
  },
  {
   "cell_type": "code",
   "execution_count": 47,
   "id": "7584bbd6",
   "metadata": {},
   "outputs": [
    {
     "ename": "NotImplementedError",
     "evalue": "A classe filha precisa implentanr",
     "output_type": "error",
     "traceback": [
      "\u001b[1;31m---------------------------------------------------------------------------\u001b[0m",
      "\u001b[1;31mNotImplementedError\u001b[0m                       Traceback (most recent call last)",
      "Cell \u001b[1;32mIn[47], line 1\u001b[0m\n\u001b[1;32m----> 1\u001b[0m \u001b[43mrato\u001b[49m\u001b[38;5;241;43m.\u001b[39;49m\u001b[43mfalar\u001b[49m\u001b[43m(\u001b[49m\u001b[43m)\u001b[49m\n",
      "Cell \u001b[1;32mIn[33], line 6\u001b[0m, in \u001b[0;36mAnimal.falar\u001b[1;34m(self)\u001b[0m\n\u001b[0;32m      5\u001b[0m \u001b[38;5;28;01mdef\u001b[39;00m \u001b[38;5;21mfalar\u001b[39m(\u001b[38;5;28mself\u001b[39m):\n\u001b[1;32m----> 6\u001b[0m     \u001b[38;5;28;01mraise\u001b[39;00m \u001b[38;5;167;01mNotImplementedError\u001b[39;00m(\u001b[38;5;124m'\u001b[39m\u001b[38;5;124mA classe filha precisa implentanr\u001b[39m\u001b[38;5;124m'\u001b[39m)\n",
      "\u001b[1;31mNotImplementedError\u001b[0m: A classe filha precisa implentanr"
     ]
    }
   ],
   "source": [
    "rato.falar() #Erro pq o método falar não foi implementado na classe pai ou na classe filha"
   ]
  },
  {
   "cell_type": "code",
   "execution_count": null,
   "id": "6572ae30",
   "metadata": {},
   "outputs": [],
   "source": []
  }
 ],
 "metadata": {
  "kernelspec": {
   "display_name": "Python 3 (ipykernel)",
   "language": "python",
   "name": "python3"
  },
  "language_info": {
   "codemirror_mode": {
    "name": "ipython",
    "version": 3
   },
   "file_extension": ".py",
   "mimetype": "text/x-python",
   "name": "python",
   "nbconvert_exporter": "python",
   "pygments_lexer": "ipython3",
   "version": "3.10.9"
  }
 },
 "nbformat": 4,
 "nbformat_minor": 5
}
