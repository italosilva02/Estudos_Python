{
 "cells": [
  {
   "cell_type": "code",
   "execution_count": 1,
   "metadata": {
    "colab": {
     "base_uri": "https://localhost:8080/"
    },
    "id": "k-i-9PUAfQFA",
    "outputId": "74529acc-dafa-4a4e-810b-013b4642d5bc"
   },
   "outputs": [
    {
     "name": "stdout",
     "output_type": "stream",
     "text": [
      "0\n",
      "1\n",
      "2\n",
      "3\n",
      "4\n",
      "5\n"
     ]
    }
   ],
   "source": [
    "numero = 0\n",
    "while numero < 6:\n",
    "  print(numero)\n",
    "  numero += 1"
   ]
  },
  {
   "cell_type": "code",
   "execution_count": 2,
   "metadata": {
    "colab": {
     "base_uri": "https://localhost:8080/"
    },
    "id": "9XjxS-lxflAV",
    "outputId": "3faff5d3-8ceb-4f66-ba10-1ded062b4f9d"
   },
   "outputs": [
    {
     "name": "stdout",
     "output_type": "stream",
     "text": [
      "1\n",
      "2\n",
      "3\n",
      "4\n",
      "5\n",
      "6\n",
      "7\n",
      "21\n"
     ]
    }
   ],
   "source": [
    "soma = 0\n",
    "numero = 0\n",
    "while numero <= 6:\n",
    "  soma += numero\n",
    "  numero +=1\n",
    "  print(numero)\n",
    "\n",
    "print(soma)"
   ]
  },
  {
   "cell_type": "code",
   "execution_count": 3,
   "metadata": {
    "colab": {
     "base_uri": "https://localhost:8080/"
    },
    "id": "Y33_p3dCf0Vr",
    "outputId": "c39e2731-5ce7-44a7-e2f5-a2ea9e953f5f"
   },
   "outputs": [
    {
     "name": "stdout",
     "output_type": "stream",
     "text": [
      "Informe um número: 8\n",
      "Informe um número: 4\n",
      "Informe um número: 3\n",
      "Informe um número: 2\n",
      "Informe um número: 6\n",
      "Informe um número: 21\n",
      "Numero Maior que 20\n"
     ]
    }
   ],
   "source": [
    "while True:\n",
    "  try:\n",
    "    numero = int(input(\"Informe um número: \"))\n",
    "  except:\n",
    "    print(\"O número deve ser um inteiro\")\n",
    "  if numero >=20:\n",
    "    print(\"Numero Maior que 20\")\n",
    "    break\n"
   ]
  },
  {
   "cell_type": "code",
   "execution_count": 4,
   "metadata": {
    "colab": {
     "base_uri": "https://localhost:8080/"
    },
    "id": "-XQJ3UZ3g1ea",
    "outputId": "b02f6772-7def-42bd-b3ec-3df83c43d915"
   },
   "outputs": [
    {
     "name": "stdout",
     "output_type": "stream",
     "text": [
      "Informe o nome do aluno: Maria\n",
      "Informe a nota do aluno: 9.5\n",
      "Deseja continuar? S/N: Carla\n",
      "Informe o nome do aluno: 7.6\n",
      "Informe a nota do aluno: Bruna\n",
      "Deseja continuar? S/N: 4.3\n",
      "Informe o nome do aluno: Kaio\n",
      "Informe a nota do aluno: 8.7\n",
      "Deseja continuar? S/N: S\n"
     ]
    }
   ],
   "source": [
    "from IPython.core import error\n",
    "while True:\n",
    "  dic = {}\n",
    "  try:\n",
    "    nome = input(\"Informe o nome do aluno: \")\n",
    "    if not isinstance(nome, str):\n",
    "      raise ValueError(\"O nome deve ser uma string.\")\n",
    "\n",
    "    nota = float(input(\"Informe a nota do aluno: \"))\n",
    "    if nota < 0 or nota > 100:\n",
    "      raise ValueError(\"A nota deve ser um número entre 0 e 100.\")\n",
    "\n",
    "    dic[nome] = dic[nota]\n",
    "\n",
    "    with open(\"Arquivo.txt\", \"a\") as ar:\n",
    "      ar.write(dic, \"\\n\")\n",
    "\n",
    "  except:\n",
    "    pass\n",
    "\n",
    "  per = input(\"Deseja continuar? S/N: \")\n",
    "  per.upper()\n",
    "\n",
    "  if per == \"S\":\n",
    "    break\n"
   ]
  },
  {
   "cell_type": "code",
   "execution_count": 5,
   "metadata": {
    "id": "y3_-ahmT6DAa"
   },
   "outputs": [],
   "source": [
    "x = open(\"Arquivo.txt\")"
   ]
  },
  {
   "cell_type": "code",
   "execution_count": 6,
   "metadata": {
    "id": "S6E1U0bS8GtX"
   },
   "outputs": [],
   "source": [
    "l = x.readlines()"
   ]
  },
  {
   "cell_type": "code",
   "execution_count": 7,
   "metadata": {
    "id": "L8YypLPl8JMA"
   },
   "outputs": [
    {
     "name": "stdout",
     "output_type": "stream",
     "text": [
      "Italo, 8.5\n",
      "\n",
      "Maria, 9.6\n",
      "\n",
      "Carla, 4.5\n",
      "\n",
      "Bruna, 9.6\n",
      "\n",
      "Barb, 4.8\n",
      "\n"
     ]
    }
   ],
   "source": [
    "for a in l:\n",
    "  print(a)"
   ]
  },
  {
   "cell_type": "code",
   "execution_count": 8,
   "metadata": {
    "colab": {
     "base_uri": "https://localhost:8080/"
    },
    "id": "q1CBLIbV6kek",
    "outputId": "8851c90b-4693-4400-ad61-1b90da81e958"
   },
   "outputs": [
    {
     "data": {
      "text/plain": [
       "<_io.TextIOWrapper name='Arquivo.txt' mode='r' encoding='cp1252'>"
      ]
     },
     "execution_count": 8,
     "metadata": {},
     "output_type": "execute_result"
    }
   ],
   "source": [
    "x"
   ]
  },
  {
   "cell_type": "code",
   "execution_count": 9,
   "metadata": {
    "colab": {
     "base_uri": "https://localhost:8080/"
    },
    "id": "LjfK9U6tjrqu",
    "outputId": "585cc077-3831-4685-ac07-8969e5e6baa8"
   },
   "outputs": [
    {
     "name": "stdout",
     "output_type": "stream",
     "text": [
      "1 x 3 = 3\n",
      "1 x 3 = 6\n",
      "1 x 3 = 9\n",
      "1 x 3 = 12\n",
      "1 x 3 = 15\n",
      "1 x 3 = 18\n",
      "1 x 3 = 21\n",
      "1 x 3 = 24\n",
      "1 x 3 = 27\n"
     ]
    }
   ],
   "source": [
    "for i in range(1,10):\n",
    "  print(f'{1} x 3 = {i * 3}')"
   ]
  },
  {
   "cell_type": "code",
   "execution_count": 10,
   "metadata": {
    "colab": {
     "base_uri": "https://localhost:8080/"
    },
    "id": "ZFlGfqFTj2w6",
    "outputId": "720101f9-0c3e-480e-ea3c-94c3db329b23"
   },
   "outputs": [
    {
     "name": "stdout",
     "output_type": "stream",
     "text": [
      "[3, 6, 9, 12, 15, 18, 21, 24, 27]\n"
     ]
    }
   ],
   "source": [
    "print([x*3 for x in range(1,10)])"
   ]
  },
  {
   "cell_type": "code",
   "execution_count": 11,
   "metadata": {
    "id": "kzAxHYp-kNPT"
   },
   "outputs": [],
   "source": [
    "l = [x*3 for x in range(1,10)]"
   ]
  },
  {
   "cell_type": "code",
   "execution_count": 12,
   "metadata": {
    "id": "DrrZHjW-kRWr"
   },
   "outputs": [],
   "source": [
    "n = map(lambda x : x/2, l)"
   ]
  },
  {
   "cell_type": "code",
   "execution_count": 13,
   "metadata": {
    "id": "8KKFJBU1ktfY"
   },
   "outputs": [],
   "source": [
    "n = list(n)"
   ]
  },
  {
   "cell_type": "code",
   "execution_count": 14,
   "metadata": {
    "colab": {
     "base_uri": "https://localhost:8080/"
    },
    "id": "Q8ufrVdQke_r",
    "outputId": "26fde798-34d4-42cf-e5a6-89c09dfb66fb"
   },
   "outputs": [
    {
     "name": "stdout",
     "output_type": "stream",
     "text": [
      "[1.5, 3.0, 4.5, 6.0, 7.5, 9.0, 10.5, 12.0, 13.5]\n"
     ]
    }
   ],
   "source": [
    "print(list(n))"
   ]
  },
  {
   "cell_type": "code",
   "execution_count": 15,
   "metadata": {
    "colab": {
     "base_uri": "https://localhost:8080/"
    },
    "id": "HxeaeVoxkh0v",
    "outputId": "95ca4958-e96e-4f4b-da80-7580acd986e6"
   },
   "outputs": [
    {
     "name": "stdout",
     "output_type": "stream",
     "text": [
      "7.5\n"
     ]
    }
   ],
   "source": [
    "print(sum(n) / len(n))"
   ]
  },
  {
   "cell_type": "code",
   "execution_count": 16,
   "metadata": {
    "colab": {
     "base_uri": "https://localhost:8080/"
    },
    "id": "K4I3ybMHle68",
    "outputId": "407f9e09-7770-4335-a37e-6899f52079ad"
   },
   "outputs": [
    {
     "name": "stdout",
     "output_type": "stream",
     "text": [
      "15.0\n"
     ]
    }
   ],
   "source": [
    "def adivinha_proximo_numero(lista):\n",
    "  \"\"\"\n",
    "  Adivina o próximo número de uma lista.\n",
    "\n",
    "  Args:\n",
    "    lista: Uma lista de números.\n",
    "\n",
    "  Returns:\n",
    "    O número que a IA acha que é o próximo.\n",
    "  \"\"\"\n",
    "\n",
    "  # Calcula a diferença entre os elementos da lista.\n",
    "  diferencas = [b - a for a, b in zip(lista[:-1], lista[1:])]\n",
    "\n",
    "  # Calcula a média das diferenças.\n",
    "  media_diferenca = sum(diferencas) / len(diferencas)\n",
    "\n",
    "  # Adiciona a média da diferença ao último elemento da lista.\n",
    "  proximo_numero = lista[-1] + media_diferenca\n",
    "\n",
    "  return proximo_numero\n",
    "\n",
    "\n",
    "lista = [1.5, 3.0, 4.5, 6.0, 7.5, 9.0, 10.5, 12.0, 13.5]\n",
    "\n",
    "proximo_numero = adivinha_proximo_numero(lista)\n",
    "\n",
    "print(proximo_numero)"
   ]
  },
  {
   "cell_type": "code",
   "execution_count": 17,
   "metadata": {
    "id": "inbueHtzl-TI"
   },
   "outputs": [],
   "source": [
    "dic = {x: x**2 for x in range(1,100)}"
   ]
  },
  {
   "cell_type": "code",
   "execution_count": 18,
   "metadata": {
    "colab": {
     "base_uri": "https://localhost:8080/"
    },
    "id": "i300tEoDm20B",
    "outputId": "d988a5ac-fd12-4c17-c925-a599de281e5b"
   },
   "outputs": [
    {
     "name": "stdout",
     "output_type": "stream",
     "text": [
      "{1: 1, 2: 4, 3: 9, 4: 16, 5: 25, 6: 36, 7: 49, 8: 64, 9: 81, 10: 100, 11: 121, 12: 144, 13: 169, 14: 196, 15: 225, 16: 256, 17: 289, 18: 324, 19: 361, 20: 400, 21: 441, 22: 484, 23: 529, 24: 576, 25: 625, 26: 676, 27: 729, 28: 784, 29: 841, 30: 900, 31: 961, 32: 1024, 33: 1089, 34: 1156, 35: 1225, 36: 1296, 37: 1369, 38: 1444, 39: 1521, 40: 1600, 41: 1681, 42: 1764, 43: 1849, 44: 1936, 45: 2025, 46: 2116, 47: 2209, 48: 2304, 49: 2401, 50: 2500, 51: 2601, 52: 2704, 53: 2809, 54: 2916, 55: 3025, 56: 3136, 57: 3249, 58: 3364, 59: 3481, 60: 3600, 61: 3721, 62: 3844, 63: 3969, 64: 4096, 65: 4225, 66: 4356, 67: 4489, 68: 4624, 69: 4761, 70: 4900, 71: 5041, 72: 5184, 73: 5329, 74: 5476, 75: 5625, 76: 5776, 77: 5929, 78: 6084, 79: 6241, 80: 6400, 81: 6561, 82: 6724, 83: 6889, 84: 7056, 85: 7225, 86: 7396, 87: 7569, 88: 7744, 89: 7921, 90: 8100, 91: 8281, 92: 8464, 93: 8649, 94: 8836, 95: 9025, 96: 9216, 97: 9409, 98: 9604, 99: 9801}\n"
     ]
    }
   ],
   "source": [
    "print(dic)"
   ]
  },
  {
   "cell_type": "code",
   "execution_count": 19,
   "metadata": {
    "colab": {
     "base_uri": "https://localhost:8080/"
    },
    "id": "MOTAKpk6m72W",
    "outputId": "42fd7c1b-5e20-491a-b956-4283e97367d6"
   },
   "outputs": [
    {
     "name": "stdout",
     "output_type": "stream",
     "text": [
      "256\n"
     ]
    }
   ],
   "source": [
    "print(dic[16])"
   ]
  },
  {
   "cell_type": "code",
   "execution_count": 20,
   "metadata": {
    "id": "xnUegivRnSn6"
   },
   "outputs": [],
   "source": [
    "lista = map(lambda x, y: y / x, zip(dic.keys(), dic.values()))"
   ]
  },
  {
   "cell_type": "code",
   "execution_count": 21,
   "metadata": {
    "id": "bkquuPYirBAu"
   },
   "outputs": [],
   "source": [
    "import numpy as np\n"
   ]
  },
  {
   "cell_type": "code",
   "execution_count": 22,
   "metadata": {
    "colab": {
     "base_uri": "https://localhost:8080/"
    },
    "id": "JseBopysrD6_",
    "outputId": "7b9f2f82-42b1-4351-f001-e689b1d71530"
   },
   "outputs": [
    {
     "data": {
      "text/plain": [
       "['ALLOW_THREADS',\n",
       " 'AxisError',\n",
       " 'BUFSIZE',\n",
       " 'CLIP',\n",
       " 'ComplexWarning',\n",
       " 'DataSource',\n",
       " 'ERR_CALL',\n",
       " 'ERR_DEFAULT',\n",
       " 'ERR_IGNORE',\n",
       " 'ERR_LOG',\n",
       " 'ERR_PRINT',\n",
       " 'ERR_RAISE',\n",
       " 'ERR_WARN',\n",
       " 'FLOATING_POINT_SUPPORT',\n",
       " 'FPE_DIVIDEBYZERO',\n",
       " 'FPE_INVALID',\n",
       " 'FPE_OVERFLOW',\n",
       " 'FPE_UNDERFLOW',\n",
       " 'False_',\n",
       " 'Inf',\n",
       " 'Infinity',\n",
       " 'MAXDIMS',\n",
       " 'MAY_SHARE_BOUNDS',\n",
       " 'MAY_SHARE_EXACT',\n",
       " 'ModuleDeprecationWarning',\n",
       " 'NAN',\n",
       " 'NINF',\n",
       " 'NZERO',\n",
       " 'NaN',\n",
       " 'PINF',\n",
       " 'PZERO',\n",
       " 'RAISE',\n",
       " 'RankWarning',\n",
       " 'SHIFT_DIVIDEBYZERO',\n",
       " 'SHIFT_INVALID',\n",
       " 'SHIFT_OVERFLOW',\n",
       " 'SHIFT_UNDERFLOW',\n",
       " 'ScalarType',\n",
       " 'Tester',\n",
       " 'TooHardError',\n",
       " 'True_',\n",
       " 'UFUNC_BUFSIZE_DEFAULT',\n",
       " 'UFUNC_PYVALS_NAME',\n",
       " 'VisibleDeprecationWarning',\n",
       " 'WRAP',\n",
       " '_CopyMode',\n",
       " '_NoValue',\n",
       " '_UFUNC_API',\n",
       " '__NUMPY_SETUP__',\n",
       " '__all__',\n",
       " '__builtins__',\n",
       " '__cached__',\n",
       " '__config__',\n",
       " '__deprecated_attrs__',\n",
       " '__dir__',\n",
       " '__doc__',\n",
       " '__expired_functions__',\n",
       " '__file__',\n",
       " '__getattr__',\n",
       " '__git_version__',\n",
       " '__loader__',\n",
       " '__mkl_version__',\n",
       " '__name__',\n",
       " '__package__',\n",
       " '__path__',\n",
       " '__spec__',\n",
       " '__version__',\n",
       " '_add_newdoc_ufunc',\n",
       " '_distributor_init',\n",
       " '_financial_names',\n",
       " '_globals',\n",
       " '_mat',\n",
       " '_pyinstaller_hooks_dir',\n",
       " '_pytesttester',\n",
       " '_version',\n",
       " 'abs',\n",
       " 'absolute',\n",
       " 'add',\n",
       " 'add_docstring',\n",
       " 'add_newdoc',\n",
       " 'add_newdoc_ufunc',\n",
       " 'all',\n",
       " 'allclose',\n",
       " 'alltrue',\n",
       " 'amax',\n",
       " 'amin',\n",
       " 'angle',\n",
       " 'any',\n",
       " 'append',\n",
       " 'apply_along_axis',\n",
       " 'apply_over_axes',\n",
       " 'arange',\n",
       " 'arccos',\n",
       " 'arccosh',\n",
       " 'arcsin',\n",
       " 'arcsinh',\n",
       " 'arctan',\n",
       " 'arctan2',\n",
       " 'arctanh',\n",
       " 'argmax',\n",
       " 'argmin',\n",
       " 'argpartition',\n",
       " 'argsort',\n",
       " 'argwhere',\n",
       " 'around',\n",
       " 'array',\n",
       " 'array2string',\n",
       " 'array_equal',\n",
       " 'array_equiv',\n",
       " 'array_repr',\n",
       " 'array_split',\n",
       " 'array_str',\n",
       " 'asanyarray',\n",
       " 'asarray',\n",
       " 'asarray_chkfinite',\n",
       " 'ascontiguousarray',\n",
       " 'asfarray',\n",
       " 'asfortranarray',\n",
       " 'asmatrix',\n",
       " 'atleast_1d',\n",
       " 'atleast_2d',\n",
       " 'atleast_3d',\n",
       " 'average',\n",
       " 'bartlett',\n",
       " 'base_repr',\n",
       " 'binary_repr',\n",
       " 'bincount',\n",
       " 'bitwise_and',\n",
       " 'bitwise_not',\n",
       " 'bitwise_or',\n",
       " 'bitwise_xor',\n",
       " 'blackman',\n",
       " 'block',\n",
       " 'bmat',\n",
       " 'bool8',\n",
       " 'bool_',\n",
       " 'broadcast',\n",
       " 'broadcast_arrays',\n",
       " 'broadcast_shapes',\n",
       " 'broadcast_to',\n",
       " 'busday_count',\n",
       " 'busday_offset',\n",
       " 'busdaycalendar',\n",
       " 'byte',\n",
       " 'byte_bounds',\n",
       " 'bytes0',\n",
       " 'bytes_',\n",
       " 'c_',\n",
       " 'can_cast',\n",
       " 'cast',\n",
       " 'cbrt',\n",
       " 'cdouble',\n",
       " 'ceil',\n",
       " 'cfloat',\n",
       " 'char',\n",
       " 'character',\n",
       " 'chararray',\n",
       " 'choose',\n",
       " 'clip',\n",
       " 'clongdouble',\n",
       " 'clongfloat',\n",
       " 'column_stack',\n",
       " 'common_type',\n",
       " 'compare_chararrays',\n",
       " 'compat',\n",
       " 'complex128',\n",
       " 'complex64',\n",
       " 'complex_',\n",
       " 'complexfloating',\n",
       " 'compress',\n",
       " 'concatenate',\n",
       " 'conj',\n",
       " 'conjugate',\n",
       " 'convolve',\n",
       " 'copy',\n",
       " 'copysign',\n",
       " 'copyto',\n",
       " 'core',\n",
       " 'corrcoef',\n",
       " 'correlate',\n",
       " 'cos',\n",
       " 'cosh',\n",
       " 'count_nonzero',\n",
       " 'cov',\n",
       " 'cross',\n",
       " 'csingle',\n",
       " 'ctypeslib',\n",
       " 'cumprod',\n",
       " 'cumproduct',\n",
       " 'cumsum',\n",
       " 'datetime64',\n",
       " 'datetime_as_string',\n",
       " 'datetime_data',\n",
       " 'deg2rad',\n",
       " 'degrees',\n",
       " 'delete',\n",
       " 'deprecate',\n",
       " 'deprecate_with_doc',\n",
       " 'diag',\n",
       " 'diag_indices',\n",
       " 'diag_indices_from',\n",
       " 'diagflat',\n",
       " 'diagonal',\n",
       " 'diff',\n",
       " 'digitize',\n",
       " 'disp',\n",
       " 'divide',\n",
       " 'divmod',\n",
       " 'dot',\n",
       " 'double',\n",
       " 'dsplit',\n",
       " 'dstack',\n",
       " 'dtype',\n",
       " 'e',\n",
       " 'ediff1d',\n",
       " 'einsum',\n",
       " 'einsum_path',\n",
       " 'emath',\n",
       " 'empty',\n",
       " 'empty_like',\n",
       " 'equal',\n",
       " 'errstate',\n",
       " 'euler_gamma',\n",
       " 'exp',\n",
       " 'exp2',\n",
       " 'expand_dims',\n",
       " 'expm1',\n",
       " 'extract',\n",
       " 'eye',\n",
       " 'fabs',\n",
       " 'fastCopyAndTranspose',\n",
       " 'fft',\n",
       " 'fill_diagonal',\n",
       " 'find_common_type',\n",
       " 'finfo',\n",
       " 'fix',\n",
       " 'flatiter',\n",
       " 'flatnonzero',\n",
       " 'flexible',\n",
       " 'flip',\n",
       " 'fliplr',\n",
       " 'flipud',\n",
       " 'float16',\n",
       " 'float32',\n",
       " 'float64',\n",
       " 'float_',\n",
       " 'float_power',\n",
       " 'floating',\n",
       " 'floor',\n",
       " 'floor_divide',\n",
       " 'fmax',\n",
       " 'fmin',\n",
       " 'fmod',\n",
       " 'format_float_positional',\n",
       " 'format_float_scientific',\n",
       " 'format_parser',\n",
       " 'frexp',\n",
       " 'from_dlpack',\n",
       " 'frombuffer',\n",
       " 'fromfile',\n",
       " 'fromfunction',\n",
       " 'fromiter',\n",
       " 'frompyfunc',\n",
       " 'fromregex',\n",
       " 'fromstring',\n",
       " 'full',\n",
       " 'full_like',\n",
       " 'gcd',\n",
       " 'generic',\n",
       " 'genfromtxt',\n",
       " 'geomspace',\n",
       " 'get_array_wrap',\n",
       " 'get_include',\n",
       " 'get_printoptions',\n",
       " 'getbufsize',\n",
       " 'geterr',\n",
       " 'geterrcall',\n",
       " 'geterrobj',\n",
       " 'gradient',\n",
       " 'greater',\n",
       " 'greater_equal',\n",
       " 'half',\n",
       " 'hamming',\n",
       " 'hanning',\n",
       " 'heaviside',\n",
       " 'histogram',\n",
       " 'histogram2d',\n",
       " 'histogram_bin_edges',\n",
       " 'histogramdd',\n",
       " 'hsplit',\n",
       " 'hstack',\n",
       " 'hypot',\n",
       " 'i0',\n",
       " 'identity',\n",
       " 'iinfo',\n",
       " 'imag',\n",
       " 'in1d',\n",
       " 'index_exp',\n",
       " 'indices',\n",
       " 'inexact',\n",
       " 'inf',\n",
       " 'info',\n",
       " 'infty',\n",
       " 'inner',\n",
       " 'insert',\n",
       " 'int0',\n",
       " 'int16',\n",
       " 'int32',\n",
       " 'int64',\n",
       " 'int8',\n",
       " 'int_',\n",
       " 'intc',\n",
       " 'integer',\n",
       " 'interp',\n",
       " 'intersect1d',\n",
       " 'intp',\n",
       " 'invert',\n",
       " 'is_busday',\n",
       " 'isclose',\n",
       " 'iscomplex',\n",
       " 'iscomplexobj',\n",
       " 'isfinite',\n",
       " 'isfortran',\n",
       " 'isin',\n",
       " 'isinf',\n",
       " 'isnan',\n",
       " 'isnat',\n",
       " 'isneginf',\n",
       " 'isposinf',\n",
       " 'isreal',\n",
       " 'isrealobj',\n",
       " 'isscalar',\n",
       " 'issctype',\n",
       " 'issubclass_',\n",
       " 'issubdtype',\n",
       " 'issubsctype',\n",
       " 'iterable',\n",
       " 'ix_',\n",
       " 'kaiser',\n",
       " 'kron',\n",
       " 'lcm',\n",
       " 'ldexp',\n",
       " 'left_shift',\n",
       " 'less',\n",
       " 'less_equal',\n",
       " 'lexsort',\n",
       " 'lib',\n",
       " 'linalg',\n",
       " 'linspace',\n",
       " 'little_endian',\n",
       " 'load',\n",
       " 'loadtxt',\n",
       " 'log',\n",
       " 'log10',\n",
       " 'log1p',\n",
       " 'log2',\n",
       " 'logaddexp',\n",
       " 'logaddexp2',\n",
       " 'logical_and',\n",
       " 'logical_not',\n",
       " 'logical_or',\n",
       " 'logical_xor',\n",
       " 'logspace',\n",
       " 'longcomplex',\n",
       " 'longdouble',\n",
       " 'longfloat',\n",
       " 'longlong',\n",
       " 'lookfor',\n",
       " 'ma',\n",
       " 'mask_indices',\n",
       " 'mat',\n",
       " 'math',\n",
       " 'matmul',\n",
       " 'matrix',\n",
       " 'matrixlib',\n",
       " 'max',\n",
       " 'maximum',\n",
       " 'maximum_sctype',\n",
       " 'may_share_memory',\n",
       " 'mean',\n",
       " 'median',\n",
       " 'memmap',\n",
       " 'meshgrid',\n",
       " 'mgrid',\n",
       " 'min',\n",
       " 'min_scalar_type',\n",
       " 'minimum',\n",
       " 'mintypecode',\n",
       " 'mkl',\n",
       " 'mod',\n",
       " 'modf',\n",
       " 'moveaxis',\n",
       " 'msort',\n",
       " 'multiply',\n",
       " 'nan',\n",
       " 'nan_to_num',\n",
       " 'nanargmax',\n",
       " 'nanargmin',\n",
       " 'nancumprod',\n",
       " 'nancumsum',\n",
       " 'nanmax',\n",
       " 'nanmean',\n",
       " 'nanmedian',\n",
       " 'nanmin',\n",
       " 'nanpercentile',\n",
       " 'nanprod',\n",
       " 'nanquantile',\n",
       " 'nanstd',\n",
       " 'nansum',\n",
       " 'nanvar',\n",
       " 'nbytes',\n",
       " 'ndarray',\n",
       " 'ndenumerate',\n",
       " 'ndim',\n",
       " 'ndindex',\n",
       " 'nditer',\n",
       " 'negative',\n",
       " 'nested_iters',\n",
       " 'newaxis',\n",
       " 'nextafter',\n",
       " 'nonzero',\n",
       " 'not_equal',\n",
       " 'numarray',\n",
       " 'number',\n",
       " 'obj2sctype',\n",
       " 'object0',\n",
       " 'object_',\n",
       " 'ogrid',\n",
       " 'oldnumeric',\n",
       " 'ones',\n",
       " 'ones_like',\n",
       " 'os',\n",
       " 'outer',\n",
       " 'packbits',\n",
       " 'pad',\n",
       " 'partition',\n",
       " 'percentile',\n",
       " 'pi',\n",
       " 'piecewise',\n",
       " 'place',\n",
       " 'poly',\n",
       " 'poly1d',\n",
       " 'polyadd',\n",
       " 'polyder',\n",
       " 'polydiv',\n",
       " 'polyfit',\n",
       " 'polyint',\n",
       " 'polymul',\n",
       " 'polynomial',\n",
       " 'polysub',\n",
       " 'polyval',\n",
       " 'positive',\n",
       " 'power',\n",
       " 'printoptions',\n",
       " 'prod',\n",
       " 'product',\n",
       " 'promote_types',\n",
       " 'ptp',\n",
       " 'put',\n",
       " 'put_along_axis',\n",
       " 'putmask',\n",
       " 'quantile',\n",
       " 'r_',\n",
       " 'rad2deg',\n",
       " 'radians',\n",
       " 'random',\n",
       " 'ravel',\n",
       " 'ravel_multi_index',\n",
       " 'real',\n",
       " 'real_if_close',\n",
       " 'rec',\n",
       " 'recarray',\n",
       " 'recfromcsv',\n",
       " 'recfromtxt',\n",
       " 'reciprocal',\n",
       " 'record',\n",
       " 'remainder',\n",
       " 'repeat',\n",
       " 'require',\n",
       " 'reshape',\n",
       " 'resize',\n",
       " 'result_type',\n",
       " 'right_shift',\n",
       " 'rint',\n",
       " 'roll',\n",
       " 'rollaxis',\n",
       " 'roots',\n",
       " 'rot90',\n",
       " 'round',\n",
       " 'round_',\n",
       " 'row_stack',\n",
       " 's_',\n",
       " 'safe_eval',\n",
       " 'save',\n",
       " 'savetxt',\n",
       " 'savez',\n",
       " 'savez_compressed',\n",
       " 'sctype2char',\n",
       " 'sctypeDict',\n",
       " 'sctypes',\n",
       " 'searchsorted',\n",
       " 'select',\n",
       " 'set_numeric_ops',\n",
       " 'set_printoptions',\n",
       " 'set_string_function',\n",
       " 'setbufsize',\n",
       " 'setdiff1d',\n",
       " 'seterr',\n",
       " 'seterrcall',\n",
       " 'seterrobj',\n",
       " 'setxor1d',\n",
       " 'shape',\n",
       " 'shares_memory',\n",
       " 'short',\n",
       " 'show_config',\n",
       " 'sign',\n",
       " 'signbit',\n",
       " 'signedinteger',\n",
       " 'sin',\n",
       " 'sinc',\n",
       " 'single',\n",
       " 'singlecomplex',\n",
       " 'sinh',\n",
       " 'size',\n",
       " 'sometrue',\n",
       " 'sort',\n",
       " 'sort_complex',\n",
       " 'source',\n",
       " 'spacing',\n",
       " 'split',\n",
       " 'sqrt',\n",
       " 'square',\n",
       " 'squeeze',\n",
       " 'stack',\n",
       " 'std',\n",
       " 'str0',\n",
       " 'str_',\n",
       " 'string_',\n",
       " 'subtract',\n",
       " 'sum',\n",
       " 'swapaxes',\n",
       " 'sys',\n",
       " 'take',\n",
       " 'take_along_axis',\n",
       " 'tan',\n",
       " 'tanh',\n",
       " 'tensordot',\n",
       " 'test',\n",
       " 'testing',\n",
       " 'tile',\n",
       " 'timedelta64',\n",
       " 'trace',\n",
       " 'tracemalloc_domain',\n",
       " 'transpose',\n",
       " 'trapz',\n",
       " 'tri',\n",
       " 'tril',\n",
       " 'tril_indices',\n",
       " 'tril_indices_from',\n",
       " 'trim_zeros',\n",
       " 'triu',\n",
       " 'triu_indices',\n",
       " 'triu_indices_from',\n",
       " 'true_divide',\n",
       " 'trunc',\n",
       " 'typecodes',\n",
       " 'typename',\n",
       " 'ubyte',\n",
       " 'ufunc',\n",
       " 'uint',\n",
       " 'uint0',\n",
       " 'uint16',\n",
       " 'uint32',\n",
       " 'uint64',\n",
       " 'uint8',\n",
       " 'uintc',\n",
       " 'uintp',\n",
       " 'ulonglong',\n",
       " 'unicode_',\n",
       " 'union1d',\n",
       " 'unique',\n",
       " 'unpackbits',\n",
       " 'unravel_index',\n",
       " 'unsignedinteger',\n",
       " 'unwrap',\n",
       " 'use_hugepage',\n",
       " 'ushort',\n",
       " 'vander',\n",
       " 'var',\n",
       " 'vdot',\n",
       " 'vectorize',\n",
       " 'version',\n",
       " 'void',\n",
       " 'void0',\n",
       " 'vsplit',\n",
       " 'vstack',\n",
       " 'warnings',\n",
       " 'where',\n",
       " 'who',\n",
       " 'zeros',\n",
       " 'zeros_like']"
      ]
     },
     "execution_count": 22,
     "metadata": {},
     "output_type": "execute_result"
    }
   ],
   "source": [
    "dir(np)"
   ]
  },
  {
   "cell_type": "code",
   "execution_count": 23,
   "metadata": {
    "id": "cn5WIYUMrNAg"
   },
   "outputs": [],
   "source": [
    "n = [int(x) for x in range(1,100)]\n",
    "n1 = [int(x ** 2) for x in range(1,100)]"
   ]
  },
  {
   "cell_type": "code",
   "execution_count": 24,
   "metadata": {
    "id": "JNOE5hTRrS7e"
   },
   "outputs": [],
   "source": [
    "import numpy as np\n",
    "\n",
    "n = [int(x) for x in range(1, 100)]\n",
    "n1 = [int(x ** 2) for x in range(1, 100)]\n",
    "\n",
    "num = np.column_stack((n, n1))\n"
   ]
  },
  {
   "cell_type": "code",
   "execution_count": 25,
   "metadata": {
    "colab": {
     "base_uri": "https://localhost:8080/"
    },
    "id": "KFkdn7aPso_u",
    "outputId": "5312f197-bb16-462c-fd3f-00573f6e6270"
   },
   "outputs": [
    {
     "name": "stdout",
     "output_type": "stream",
     "text": [
      "[[   1    1]\n",
      " [   2    4]\n",
      " [   3    9]\n",
      " [   4   16]\n",
      " [   5   25]\n",
      " [   6   36]\n",
      " [   7   49]\n",
      " [   8   64]\n",
      " [   9   81]\n",
      " [  10  100]\n",
      " [  11  121]\n",
      " [  12  144]\n",
      " [  13  169]\n",
      " [  14  196]\n",
      " [  15  225]\n",
      " [  16  256]\n",
      " [  17  289]\n",
      " [  18  324]\n",
      " [  19  361]\n",
      " [  20  400]\n",
      " [  21  441]\n",
      " [  22  484]\n",
      " [  23  529]\n",
      " [  24  576]\n",
      " [  25  625]\n",
      " [  26  676]\n",
      " [  27  729]\n",
      " [  28  784]\n",
      " [  29  841]\n",
      " [  30  900]\n",
      " [  31  961]\n",
      " [  32 1024]\n",
      " [  33 1089]\n",
      " [  34 1156]\n",
      " [  35 1225]\n",
      " [  36 1296]\n",
      " [  37 1369]\n",
      " [  38 1444]\n",
      " [  39 1521]\n",
      " [  40 1600]\n",
      " [  41 1681]\n",
      " [  42 1764]\n",
      " [  43 1849]\n",
      " [  44 1936]\n",
      " [  45 2025]\n",
      " [  46 2116]\n",
      " [  47 2209]\n",
      " [  48 2304]\n",
      " [  49 2401]\n",
      " [  50 2500]\n",
      " [  51 2601]\n",
      " [  52 2704]\n",
      " [  53 2809]\n",
      " [  54 2916]\n",
      " [  55 3025]\n",
      " [  56 3136]\n",
      " [  57 3249]\n",
      " [  58 3364]\n",
      " [  59 3481]\n",
      " [  60 3600]\n",
      " [  61 3721]\n",
      " [  62 3844]\n",
      " [  63 3969]\n",
      " [  64 4096]\n",
      " [  65 4225]\n",
      " [  66 4356]\n",
      " [  67 4489]\n",
      " [  68 4624]\n",
      " [  69 4761]\n",
      " [  70 4900]\n",
      " [  71 5041]\n",
      " [  72 5184]\n",
      " [  73 5329]\n",
      " [  74 5476]\n",
      " [  75 5625]\n",
      " [  76 5776]\n",
      " [  77 5929]\n",
      " [  78 6084]\n",
      " [  79 6241]\n",
      " [  80 6400]\n",
      " [  81 6561]\n",
      " [  82 6724]\n",
      " [  83 6889]\n",
      " [  84 7056]\n",
      " [  85 7225]\n",
      " [  86 7396]\n",
      " [  87 7569]\n",
      " [  88 7744]\n",
      " [  89 7921]\n",
      " [  90 8100]\n",
      " [  91 8281]\n",
      " [  92 8464]\n",
      " [  93 8649]\n",
      " [  94 8836]\n",
      " [  95 9025]\n",
      " [  96 9216]\n",
      " [  97 9409]\n",
      " [  98 9604]\n",
      " [  99 9801]]\n"
     ]
    }
   ],
   "source": [
    "print(num)"
   ]
  },
  {
   "cell_type": "code",
   "execution_count": 26,
   "metadata": {
    "id": "otyQJqECsuM7"
   },
   "outputs": [],
   "source": [
    "num1 = np.array(([1,2,3,4,5,6],[7,8,9,10,11,12]))"
   ]
  },
  {
   "cell_type": "code",
   "execution_count": 27,
   "metadata": {
    "colab": {
     "base_uri": "https://localhost:8080/"
    },
    "id": "BeyLpE6AtAyF",
    "outputId": "73af37d5-0e47-4d2e-a611-5afc080f613c"
   },
   "outputs": [
    {
     "data": {
      "text/plain": [
       "array([[ 1,  2,  3,  4,  5,  6],\n",
       "       [ 7,  8,  9, 10, 11, 12]])"
      ]
     },
     "execution_count": 27,
     "metadata": {},
     "output_type": "execute_result"
    }
   ],
   "source": [
    "num1"
   ]
  },
  {
   "cell_type": "code",
   "execution_count": 28,
   "metadata": {
    "id": "4MnkYR5TtENE"
   },
   "outputs": [],
   "source": [
    "num = np.array(([int(x) for x in range(1,100)], [int(x **2) for x in range(1,100)]))"
   ]
  },
  {
   "cell_type": "code",
   "execution_count": 29,
   "metadata": {
    "id": "tjkzP53ftQyX"
   },
   "outputs": [],
   "source": [
    "n = np.array([[1,2,3], [4,5,6]])"
   ]
  },
  {
   "cell_type": "code",
   "execution_count": 30,
   "metadata": {
    "colab": {
     "base_uri": "https://localhost:8080/"
    },
    "id": "YwScq4OQvRuP",
    "outputId": "76a97dc0-f369-48de-c96a-daf024985560"
   },
   "outputs": [
    {
     "data": {
      "text/plain": [
       "array([[1, 2, 3],\n",
       "       [4, 5, 6]])"
      ]
     },
     "execution_count": 30,
     "metadata": {},
     "output_type": "execute_result"
    }
   ],
   "source": [
    "n"
   ]
  },
  {
   "cell_type": "code",
   "execution_count": 31,
   "metadata": {
    "colab": {
     "base_uri": "https://localhost:8080/"
    },
    "id": "Z3D1XZNQtUhu",
    "outputId": "320b66f4-f934-4e01-f9dd-fcbb56df10ea"
   },
   "outputs": [
    {
     "name": "stdout",
     "output_type": "stream",
     "text": [
      "11 121\n"
     ]
    }
   ],
   "source": [
    "print((num[0][10]), (num[1][10]))"
   ]
  },
  {
   "cell_type": "code",
   "execution_count": 32,
   "metadata": {
    "colab": {
     "base_uri": "https://localhost:8080/"
    },
    "id": "NGU5_tzVt2s5",
    "outputId": "90beb5f0-e709-49ee-c960-c7ca681e2c7b"
   },
   "outputs": [
    {
     "data": {
      "text/plain": [
       "(2, 99)"
      ]
     },
     "execution_count": 32,
     "metadata": {},
     "output_type": "execute_result"
    }
   ],
   "source": [
    "num.shape #Retorna o formato o array"
   ]
  },
  {
   "cell_type": "code",
   "execution_count": 33,
   "metadata": {
    "colab": {
     "base_uri": "https://localhost:8080/"
    },
    "id": "IkW5Cre7uA2U",
    "outputId": "5ed94318-1d4d-4ae6-b1bc-8c58e6ef507b"
   },
   "outputs": [
    {
     "name": "stdout",
     "output_type": "stream",
     "text": [
      "[ 1  2  3  4  5  6  7  8  9 10 11 12 13 14 15 16 17 18 19 20 21 22 23 24\n",
      " 25 26 27 28 29 30 31 32 33 34 35 36 37 38 39 40 41 42 43 44 45 46 47 48\n",
      " 49 50 51 52 53 54 55 56 57 58 59 60 61 62 63 64 65 66 67 68 69 70 71 72\n",
      " 73 74 75 76 77 78 79 80 81 82 83 84 85 86 87 88 89 90 91 92 93 94 95 96\n",
      " 97 98 99]\n",
      "[   1    4    9   16   25   36   49   64   81  100  121  144  169  196\n",
      "  225  256  289  324  361  400  441  484  529  576  625  676  729  784\n",
      "  841  900  961 1024 1089 1156 1225 1296 1369 1444 1521 1600 1681 1764\n",
      " 1849 1936 2025 2116 2209 2304 2401 2500 2601 2704 2809 2916 3025 3136\n",
      " 3249 3364 3481 3600 3721 3844 3969 4096 4225 4356 4489 4624 4761 4900\n",
      " 5041 5184 5329 5476 5625 5776 5929 6084 6241 6400 6561 6724 6889 7056\n",
      " 7225 7396 7569 7744 7921 8100 8281 8464 8649 8836 9025 9216 9409 9604\n",
      " 9801]\n"
     ]
    }
   ],
   "source": [
    "for i in range(num.shape[0]):\n",
    "  print(num[i])"
   ]
  },
  {
   "cell_type": "code",
   "execution_count": 34,
   "metadata": {
    "id": "KQ-c80Bzugvv"
   },
   "outputs": [],
   "source": [
    "num = np.array([[int(x) for x in range(1,50)], [int(x**2) for x in range(1,50)]])"
   ]
  },
  {
   "cell_type": "code",
   "execution_count": 35,
   "metadata": {
    "colab": {
     "base_uri": "https://localhost:8080/"
    },
    "id": "YdTCO9DDvlOl",
    "outputId": "bf7c2504-339d-48de-d8b9-4fd68e1801e2"
   },
   "outputs": [
    {
     "data": {
      "text/plain": [
       "(2, 49)"
      ]
     },
     "execution_count": 35,
     "metadata": {},
     "output_type": "execute_result"
    }
   ],
   "source": [
    "num.shape"
   ]
  },
  {
   "cell_type": "code",
   "execution_count": 36,
   "metadata": {
    "colab": {
     "base_uri": "https://localhost:8080/"
    },
    "id": "BYS02lMQvizL",
    "outputId": "b9f03c15-baf4-4a20-b8b9-c5a5f583b449"
   },
   "outputs": [
    {
     "data": {
      "text/plain": [
       "576"
      ]
     },
     "execution_count": 36,
     "metadata": {},
     "output_type": "execute_result"
    }
   ],
   "source": [
    "num[1][23]"
   ]
  },
  {
   "cell_type": "code",
   "execution_count": 37,
   "metadata": {
    "colab": {
     "base_uri": "https://localhost:8080/"
    },
    "id": "q7wAFBFNvra3",
    "outputId": "d643df33-3352-4e97-b316-2ef2901085d8"
   },
   "outputs": [
    {
     "name": "stdout",
     "output_type": "stream",
     "text": [
      "[ 1  2  3  4  5  6  7  8  9 10 11 12 13 14 15 16 17 18 19 20 21 22 23 24\n",
      " 25 26 27 28 29 30 31 32 33 34 35 36 37 38 39 40 41 42 43 44 45 46 47 48\n",
      " 49]\n",
      "[   1    4    9   16   25   36   49   64   81  100  121  144  169  196\n",
      "  225  256  289  324  361  400  441  484  529  576  625  676  729  784\n",
      "  841  900  961 1024 1089 1156 1225 1296 1369 1444 1521 1600 1681 1764\n",
      " 1849 1936 2025 2116 2209 2304 2401]\n"
     ]
    }
   ],
   "source": [
    "for i in range(num.shape[0]):\n",
    "  print(num[i])"
   ]
  },
  {
   "cell_type": "code",
   "execution_count": 38,
   "metadata": {
    "id": "dpn5-7D4v7dI"
   },
   "outputs": [],
   "source": [
    "n = np.array([[1,2,3],\n",
    "             [4,5,6]])"
   ]
  },
  {
   "cell_type": "code",
   "execution_count": 39,
   "metadata": {
    "colab": {
     "base_uri": "https://localhost:8080/"
    },
    "id": "CSGi6dEawEEF",
    "outputId": "3fac3c2c-6665-4076-c50f-a305fbb4c073"
   },
   "outputs": [
    {
     "data": {
      "text/plain": [
       "array([[1, 2, 3],\n",
       "       [4, 5, 6]])"
      ]
     },
     "execution_count": 39,
     "metadata": {},
     "output_type": "execute_result"
    }
   ],
   "source": [
    "n"
   ]
  },
  {
   "cell_type": "code",
   "execution_count": 40,
   "metadata": {
    "colab": {
     "base_uri": "https://localhost:8080/"
    },
    "id": "AorymrRuwFRU",
    "outputId": "9b23044b-ed63-4cd2-f549-652b43a69957"
   },
   "outputs": [
    {
     "data": {
      "text/plain": [
       "(2, 3)"
      ]
     },
     "execution_count": 40,
     "metadata": {},
     "output_type": "execute_result"
    }
   ],
   "source": [
    "n.shape"
   ]
  },
  {
   "cell_type": "code",
   "execution_count": 41,
   "metadata": {
    "colab": {
     "base_uri": "https://localhost:8080/"
    },
    "id": "pkZAnJ7AwSK1",
    "outputId": "a2187194-08c5-49b5-d5df-705031b5c37c"
   },
   "outputs": [
    {
     "data": {
      "text/plain": [
       "6"
      ]
     },
     "execution_count": 41,
     "metadata": {},
     "output_type": "execute_result"
    }
   ],
   "source": [
    "n[1][2]"
   ]
  },
  {
   "cell_type": "code",
   "execution_count": 42,
   "metadata": {
    "colab": {
     "base_uri": "https://localhost:8080/"
    },
    "id": "n6N4bfbXwfiD",
    "outputId": "954aadad-767d-4b91-83be-138739a445e9"
   },
   "outputs": [
    {
     "data": {
      "text/plain": [
       "array([1, 2, 3])"
      ]
     },
     "execution_count": 42,
     "metadata": {},
     "output_type": "execute_result"
    }
   ],
   "source": [
    "n[0]"
   ]
  },
  {
   "cell_type": "code",
   "execution_count": 43,
   "metadata": {
    "colab": {
     "base_uri": "https://localhost:8080/"
    },
    "id": "1CLqlc0_wci-",
    "outputId": "3d58ba8d-b36e-4544-f77e-9ee1a67f4fc7"
   },
   "outputs": [
    {
     "data": {
      "text/plain": [
       "array([4, 5, 6])"
      ]
     },
     "execution_count": 43,
     "metadata": {},
     "output_type": "execute_result"
    }
   ],
   "source": [
    "n[1]"
   ]
  },
  {
   "cell_type": "code",
   "execution_count": 44,
   "metadata": {
    "colab": {
     "base_uri": "https://localhost:8080/"
    },
    "id": "mx5FyfE-wH4c",
    "outputId": "b5e7a586-14e7-4a4b-c753-ea79a715f997"
   },
   "outputs": [
    {
     "name": "stdout",
     "output_type": "stream",
     "text": [
      "[1 2 3]\n",
      "[4 5 6]\n"
     ]
    }
   ],
   "source": [
    "for i in range(n.shape[0]):\n",
    "  print(n[i])"
   ]
  },
  {
   "cell_type": "code",
   "execution_count": 45,
   "metadata": {
    "colab": {
     "base_uri": "https://localhost:8080/"
    },
    "id": "DvLrj-RDxBlq",
    "outputId": "cc8f53aa-08fd-49b9-b17d-aa2a33f7ef39"
   },
   "outputs": [
    {
     "name": "stdout",
     "output_type": "stream",
     "text": [
      "[1 2 3]\n",
      "1\n",
      "2\n",
      "3\n",
      "[4 5 6]\n",
      "4\n",
      "5\n",
      "6\n"
     ]
    }
   ],
   "source": [
    "for i in range(n.shape[0]):\n",
    "  print(n[i])\n",
    "  for j in range(n.shape[1]):\n",
    "    print(n[i][j])"
   ]
  },
  {
   "cell_type": "code",
   "execution_count": 46,
   "metadata": {
    "colab": {
     "base_uri": "https://localhost:8080/"
    },
    "id": "8XviAA4WxouD",
    "outputId": "de3e8dd5-219f-4254-82df-c7511a82c00c"
   },
   "outputs": [
    {
     "data": {
      "text/plain": [
       "2"
      ]
     },
     "execution_count": 46,
     "metadata": {},
     "output_type": "execute_result"
    }
   ],
   "source": [
    "n.shape[0] #Retorna o número de colunas no meu array"
   ]
  },
  {
   "cell_type": "code",
   "execution_count": 47,
   "metadata": {
    "colab": {
     "base_uri": "https://localhost:8080/"
    },
    "id": "hAzgas_4ycEv",
    "outputId": "50191ca9-3445-4823-9d1d-5f197fc2db6f"
   },
   "outputs": [
    {
     "data": {
      "text/plain": [
       "3"
      ]
     },
     "execution_count": 47,
     "metadata": {},
     "output_type": "execute_result"
    }
   ],
   "source": [
    "n.shape[1] # Retorna o número de linhas"
   ]
  },
  {
   "cell_type": "code",
   "execution_count": 48,
   "metadata": {
    "id": "WpsatFKpyh1T"
   },
   "outputs": [],
   "source": [
    "n = [1,2,3]\n",
    "n1 = [3,4,5]\n",
    "n2 = [6,7,8]"
   ]
  },
  {
   "cell_type": "code",
   "execution_count": 49,
   "metadata": {
    "id": "MH7U1Qktyqhj"
   },
   "outputs": [],
   "source": [
    "no = np.array([n,n2,n1])"
   ]
  },
  {
   "cell_type": "code",
   "execution_count": 50,
   "metadata": {
    "colab": {
     "base_uri": "https://localhost:8080/"
    },
    "id": "yoN17qlzyyKq",
    "outputId": "8b810d5b-b7e9-402f-bdf3-126c766a2a6a"
   },
   "outputs": [
    {
     "data": {
      "text/plain": [
       "(3, 3)"
      ]
     },
     "execution_count": 50,
     "metadata": {},
     "output_type": "execute_result"
    }
   ],
   "source": [
    "no.shape"
   ]
  },
  {
   "cell_type": "code",
   "execution_count": 51,
   "metadata": {
    "colab": {
     "base_uri": "https://localhost:8080/"
    },
    "id": "o6v8P9aEy00N",
    "outputId": "6b8beb46-18f0-4ad3-cbc4-3ab15ab5d200"
   },
   "outputs": [
    {
     "name": "stdout",
     "output_type": "stream",
     "text": [
      "1\n",
      "2\n",
      "3\n"
     ]
    }
   ],
   "source": [
    "for i in range(no.shape[0]):\n",
    "  print(n[i])"
   ]
  },
  {
   "cell_type": "code",
   "execution_count": 52,
   "metadata": {
    "colab": {
     "base_uri": "https://localhost:8080/"
    },
    "id": "Gh430fxYzKj0",
    "outputId": "2331f469-008f-46e7-faf5-c483d48fe548"
   },
   "outputs": [
    {
     "data": {
      "text/plain": [
       "3"
      ]
     },
     "execution_count": 52,
     "metadata": {},
     "output_type": "execute_result"
    }
   ],
   "source": [
    "len(n)"
   ]
  },
  {
   "cell_type": "code",
   "execution_count": 53,
   "metadata": {
    "colab": {
     "base_uri": "https://localhost:8080/"
    },
    "id": "GsUy5Gkny-aG",
    "outputId": "d9236af1-2f78-46ce-b5df-98a084a2472a"
   },
   "outputs": [
    {
     "name": "stdout",
     "output_type": "stream",
     "text": [
      "Informe um número inteiro: 6\n",
      "Informe um número inteiro: 5\n",
      "Informe um número inteiro: 4\n",
      "Informe um número inteiro: 3\n",
      "Informe um número inteiro: 6\n"
     ]
    }
   ],
   "source": [
    "lista = []\n",
    "n = 0\n",
    "while n < 5:\n",
    "  j = int(input(\"Informe um número inteiro: \"))\n",
    "  lista.append(j)\n",
    "  n += 1"
   ]
  },
  {
   "cell_type": "code",
   "execution_count": 54,
   "metadata": {
    "id": "sT_l0Ldr0ADI"
   },
   "outputs": [],
   "source": [
    "soma = 0\n",
    "for i in lista:\n",
    "  soma += i"
   ]
  },
  {
   "cell_type": "code",
   "execution_count": 55,
   "metadata": {
    "colab": {
     "base_uri": "https://localhost:8080/"
    },
    "id": "P3pwCTzh0f7t",
    "outputId": "baa6188e-6a26-49fc-dbff-8fce2646cfa1"
   },
   "outputs": [
    {
     "data": {
      "text/plain": [
       "24"
      ]
     },
     "execution_count": 55,
     "metadata": {},
     "output_type": "execute_result"
    }
   ],
   "source": [
    "soma"
   ]
  },
  {
   "cell_type": "code",
   "execution_count": 56,
   "metadata": {
    "id": "7vbcZQ2b0neu"
   },
   "outputs": [],
   "source": [
    "num = np.array([[1,2,3], [4,5,6], [7,8,9]])"
   ]
  },
  {
   "cell_type": "code",
   "execution_count": 57,
   "metadata": {
    "colab": {
     "base_uri": "https://localhost:8080/"
    },
    "id": "pq4zD2rF0yBf",
    "outputId": "b36b639d-f932-47f1-8cc8-9aa8e38daa96"
   },
   "outputs": [
    {
     "data": {
      "text/plain": [
       "array([[1, 2, 3],\n",
       "       [4, 5, 6],\n",
       "       [7, 8, 9]])"
      ]
     },
     "execution_count": 57,
     "metadata": {},
     "output_type": "execute_result"
    }
   ],
   "source": [
    "num"
   ]
  },
  {
   "cell_type": "code",
   "execution_count": 58,
   "metadata": {
    "colab": {
     "base_uri": "https://localhost:8080/"
    },
    "id": "oy3Ul8w10zij",
    "outputId": "78d3b48f-5e92-4bd0-c76e-0d16443b1d46"
   },
   "outputs": [
    {
     "data": {
      "text/plain": [
       "3"
      ]
     },
     "execution_count": 58,
     "metadata": {},
     "output_type": "execute_result"
    }
   ],
   "source": [
    "num.shape[0]"
   ]
  },
  {
   "cell_type": "code",
   "execution_count": 59,
   "metadata": {
    "colab": {
     "base_uri": "https://localhost:8080/"
    },
    "id": "XY1SrAWx071m",
    "outputId": "d1ecf28e-3e73-46d9-f09f-eefd52e30c9f"
   },
   "outputs": [
    {
     "data": {
      "text/plain": [
       "3"
      ]
     },
     "execution_count": 59,
     "metadata": {},
     "output_type": "execute_result"
    }
   ],
   "source": [
    "num.shape[1]"
   ]
  },
  {
   "cell_type": "code",
   "execution_count": 60,
   "metadata": {
    "colab": {
     "base_uri": "https://localhost:8080/"
    },
    "id": "HSlf3r9T0-rv",
    "outputId": "dd814111-b2a3-4512-95a0-7cfb7543be83"
   },
   "outputs": [
    {
     "name": "stdout",
     "output_type": "stream",
     "text": [
      "0\n",
      "1\n",
      "2\n"
     ]
    }
   ],
   "source": [
    "soma = 0\n",
    "for i in range(num.shape[1]):\n",
    "  print(i)\n",
    "  soma += num[i]"
   ]
  },
  {
   "cell_type": "code",
   "execution_count": 61,
   "metadata": {
    "colab": {
     "base_uri": "https://localhost:8080/"
    },
    "id": "ZjQOE7Sn1eh0",
    "outputId": "7c90002d-211b-45c8-f2af-192c1964bd82"
   },
   "outputs": [
    {
     "name": "stdout",
     "output_type": "stream",
     "text": [
      "45\n"
     ]
    }
   ],
   "source": [
    "print(sum(soma))"
   ]
  },
  {
   "cell_type": "code",
   "execution_count": 62,
   "metadata": {
    "colab": {
     "base_uri": "https://localhost:8080/"
    },
    "id": "hF2meHyA3Jn7",
    "outputId": "8113c5ce-961b-4ddf-c441-086d4adf3955"
   },
   "outputs": [
    {
     "name": "stdout",
     "output_type": "stream",
     "text": [
      "Informe número inteiro: 7\n",
      "Informe número inteiro: 6\n",
      "Informe número inteiro: 5\n",
      "Informe número inteiro: 4\n",
      "Informe número inteiro: 3\n",
      "Informe número inteiro: 8\n",
      "Informe número inteiro: 5\n",
      "Informe número inteiro: 3\n",
      "Informe número inteiro: 2\n"
     ]
    }
   ],
   "source": [
    "n = []\n",
    "for _ in range(1,10):\n",
    "  n.append(int(input(\"Informe número inteiro: \")))\n",
    "\n",
    "n = list(map(lambda x: x*2, n))"
   ]
  },
  {
   "cell_type": "code",
   "execution_count": 63,
   "metadata": {
    "colab": {
     "base_uri": "https://localhost:8080/"
    },
    "id": "Diz3SfuZ4e3G",
    "outputId": "b94f49be-866e-457e-e22e-8db18114bc02"
   },
   "outputs": [
    {
     "data": {
      "text/plain": [
       "86"
      ]
     },
     "execution_count": 63,
     "metadata": {},
     "output_type": "execute_result"
    }
   ],
   "source": [
    "sum(n)"
   ]
  },
  {
   "cell_type": "code",
   "execution_count": 64,
   "metadata": {
    "colab": {
     "base_uri": "https://localhost:8080/"
    },
    "id": "l_TYVw524hgG",
    "outputId": "e2eb2de2-212e-4be7-f9a0-851fcaf70483"
   },
   "outputs": [
    {
     "data": {
      "text/plain": [
       "4"
      ]
     },
     "execution_count": 64,
     "metadata": {},
     "output_type": "execute_result"
    }
   ],
   "source": [
    "min(n)"
   ]
  },
  {
   "cell_type": "code",
   "execution_count": 65,
   "metadata": {
    "colab": {
     "base_uri": "https://localhost:8080/"
    },
    "id": "MWnkhPM34j8p",
    "outputId": "3f84718c-1966-4d83-9fca-cfcd22b5303c"
   },
   "outputs": [
    {
     "data": {
      "text/plain": [
       "9.555555555555555"
      ]
     },
     "execution_count": 65,
     "metadata": {},
     "output_type": "execute_result"
    }
   ],
   "source": [
    "from numpy.lib.function_base import average\n",
    "average(n)"
   ]
  },
  {
   "cell_type": "code",
   "execution_count": 66,
   "metadata": {
    "colab": {
     "base_uri": "https://localhost:8080/"
    },
    "id": "eyrvzaMT3jTe",
    "outputId": "4eb0e3c6-6320-46c8-abe9-5ebeedd59157"
   },
   "outputs": [
    {
     "name": "stdout",
     "output_type": "stream",
     "text": [
      "[14, 12, 10, 8, 6, 16, 10, 6, 4]\n"
     ]
    }
   ],
   "source": [
    "print(list(n))"
   ]
  },
  {
   "cell_type": "code",
   "execution_count": 67,
   "metadata": {
    "id": "ufr3hPG13tj2"
   },
   "outputs": [],
   "source": [
    "medida = sum(n) / (sum(n) / 2)"
   ]
  },
  {
   "cell_type": "code",
   "execution_count": 68,
   "metadata": {
    "colab": {
     "base_uri": "https://localhost:8080/"
    },
    "id": "rIcVw2dh335q",
    "outputId": "a3a45dc6-56aa-4519-b107-7d0a65f1fee0"
   },
   "outputs": [
    {
     "data": {
      "text/plain": [
       "2.0"
      ]
     },
     "execution_count": 68,
     "metadata": {},
     "output_type": "execute_result"
    }
   ],
   "source": [
    "medida"
   ]
  },
  {
   "cell_type": "code",
   "execution_count": 69,
   "metadata": {
    "id": "-CCEiVaO8qe9"
   },
   "outputs": [],
   "source": [
    "import os"
   ]
  },
  {
   "cell_type": "code",
   "execution_count": 70,
   "metadata": {
    "colab": {
     "base_uri": "https://localhost:8080/"
    },
    "id": "CjDCFZoN8scV",
    "outputId": "49dbdd7b-486b-4559-c416-f5145a1cbfc2"
   },
   "outputs": [
    {
     "data": {
      "text/plain": [
       "['.ipynb_checkpoints',\n",
       " 'arquivo.txt',\n",
       " 'Exercicios.ipynb',\n",
       " 'meto.py',\n",
       " 'metodos.py',\n",
       " 'n.py',\n",
       " 'Treino_01.ipynb',\n",
       " 'Untitled.ipynb',\n",
       " '__pycache__']"
      ]
     },
     "execution_count": 70,
     "metadata": {},
     "output_type": "execute_result"
    }
   ],
   "source": [
    "os.listdir()"
   ]
  },
  {
   "cell_type": "code",
   "execution_count": 73,
   "metadata": {},
   "outputs": [
    {
     "name": "stdout",
     "output_type": "stream",
     "text": [
      "Informe o nome: Italo\n",
      "Informe a nota6.5\n",
      "Informe o nome: Maria\n",
      "Informe a nota8.6\n",
      "Informe o nome: Carlos\n",
      "Informe a nota4.6\n",
      "Informe o nome: Leticia\n",
      "Informe a nota7.6\n",
      "Informe o nome: Marta\n",
      "Informe a nota9.7\n"
     ]
    }
   ],
   "source": [
    "dic = {}\n",
    "for _ in range(1,6):\n",
    "    nome = input(\"Informe o nome: \")\n",
    "    nota = float(input(\"Informe a nota\"))\n",
    "    dic[nome] = nota"
   ]
  },
  {
   "cell_type": "code",
   "execution_count": 74,
   "metadata": {},
   "outputs": [
    {
     "data": {
      "text/plain": [
       "6.5"
      ]
     },
     "execution_count": 74,
     "metadata": {},
     "output_type": "execute_result"
    }
   ],
   "source": [
    "dic[\"Italo\"]"
   ]
  },
  {
   "cell_type": "code",
   "execution_count": null,
   "metadata": {},
   "outputs": [],
   "source": [
    "for nome, nota in dic.items():\n",
    "    print(f'Nome: {nome} - Nota: {nota}')"
   ]
  },
  {
   "cell_type": "code",
   "execution_count": 75,
   "metadata": {},
   "outputs": [],
   "source": [
    "import datetime"
   ]
  },
  {
   "cell_type": "code",
   "execution_count": 76,
   "metadata": {},
   "outputs": [
    {
     "data": {
      "text/plain": [
       "datetime.date(2023, 11, 12)"
      ]
     },
     "execution_count": 76,
     "metadata": {},
     "output_type": "execute_result"
    }
   ],
   "source": [
    "datetime.date.today()"
   ]
  },
  {
   "cell_type": "code",
   "execution_count": 77,
   "metadata": {},
   "outputs": [
    {
     "data": {
      "text/plain": [
       "datetime.datetime(2023, 11, 12, 9, 29, 22, 995539)"
      ]
     },
     "execution_count": 77,
     "metadata": {},
     "output_type": "execute_result"
    }
   ],
   "source": [
    "datetime.datetime.now()"
   ]
  },
  {
   "cell_type": "code",
   "execution_count": 78,
   "metadata": {},
   "outputs": [],
   "source": [
    "hora = datetime.date.today()"
   ]
  },
  {
   "cell_type": "code",
   "execution_count": 79,
   "metadata": {},
   "outputs": [
    {
     "data": {
      "text/plain": [
       "datetime.date(2023, 11, 12)"
      ]
     },
     "execution_count": 79,
     "metadata": {},
     "output_type": "execute_result"
    }
   ],
   "source": [
    "hora"
   ]
  },
  {
   "cell_type": "code",
   "execution_count": 80,
   "metadata": {},
   "outputs": [
    {
     "data": {
      "text/plain": [
       "2023"
      ]
     },
     "execution_count": 80,
     "metadata": {},
     "output_type": "execute_result"
    }
   ],
   "source": [
    "hora.year"
   ]
  },
  {
   "cell_type": "code",
   "execution_count": 81,
   "metadata": {},
   "outputs": [
    {
     "data": {
      "text/plain": [
       "11"
      ]
     },
     "execution_count": 81,
     "metadata": {},
     "output_type": "execute_result"
    }
   ],
   "source": [
    "hora.month"
   ]
  },
  {
   "cell_type": "code",
   "execution_count": 82,
   "metadata": {},
   "outputs": [
    {
     "data": {
      "text/plain": [
       "12"
      ]
     },
     "execution_count": 82,
     "metadata": {},
     "output_type": "execute_result"
    }
   ],
   "source": [
    "hora.day"
   ]
  },
  {
   "cell_type": "code",
   "execution_count": 83,
   "metadata": {},
   "outputs": [],
   "source": [
    "data = datetime.datetime.now()"
   ]
  },
  {
   "cell_type": "code",
   "execution_count": 84,
   "metadata": {},
   "outputs": [
    {
     "data": {
      "text/plain": [
       "datetime.datetime(2023, 11, 12, 9, 29, 28, 586850)"
      ]
     },
     "execution_count": 84,
     "metadata": {},
     "output_type": "execute_result"
    }
   ],
   "source": [
    "data"
   ]
  },
  {
   "cell_type": "code",
   "execution_count": 85,
   "metadata": {},
   "outputs": [
    {
     "data": {
      "text/plain": [
       "['__add__',\n",
       " '__class__',\n",
       " '__delattr__',\n",
       " '__dir__',\n",
       " '__doc__',\n",
       " '__eq__',\n",
       " '__format__',\n",
       " '__ge__',\n",
       " '__getattribute__',\n",
       " '__gt__',\n",
       " '__hash__',\n",
       " '__init__',\n",
       " '__init_subclass__',\n",
       " '__le__',\n",
       " '__lt__',\n",
       " '__ne__',\n",
       " '__new__',\n",
       " '__radd__',\n",
       " '__reduce__',\n",
       " '__reduce_ex__',\n",
       " '__repr__',\n",
       " '__rsub__',\n",
       " '__setattr__',\n",
       " '__sizeof__',\n",
       " '__str__',\n",
       " '__sub__',\n",
       " '__subclasshook__',\n",
       " 'astimezone',\n",
       " 'combine',\n",
       " 'ctime',\n",
       " 'date',\n",
       " 'day',\n",
       " 'dst',\n",
       " 'fold',\n",
       " 'fromisocalendar',\n",
       " 'fromisoformat',\n",
       " 'fromordinal',\n",
       " 'fromtimestamp',\n",
       " 'hour',\n",
       " 'isocalendar',\n",
       " 'isoformat',\n",
       " 'isoweekday',\n",
       " 'max',\n",
       " 'microsecond',\n",
       " 'min',\n",
       " 'minute',\n",
       " 'month',\n",
       " 'now',\n",
       " 'replace',\n",
       " 'resolution',\n",
       " 'second',\n",
       " 'strftime',\n",
       " 'strptime',\n",
       " 'time',\n",
       " 'timestamp',\n",
       " 'timetuple',\n",
       " 'timetz',\n",
       " 'today',\n",
       " 'toordinal',\n",
       " 'tzinfo',\n",
       " 'tzname',\n",
       " 'utcfromtimestamp',\n",
       " 'utcnow',\n",
       " 'utcoffset',\n",
       " 'utctimetuple',\n",
       " 'weekday',\n",
       " 'year']"
      ]
     },
     "execution_count": 85,
     "metadata": {},
     "output_type": "execute_result"
    }
   ],
   "source": [
    "dir(data)"
   ]
  },
  {
   "cell_type": "code",
   "execution_count": 86,
   "metadata": {},
   "outputs": [],
   "source": [
    "import random"
   ]
  },
  {
   "cell_type": "code",
   "execution_count": 87,
   "metadata": {},
   "outputs": [
    {
     "name": "stdout",
     "output_type": "stream",
     "text": [
      "7\n",
      "7\n",
      "1\n",
      "4\n",
      "3\n",
      "5\n",
      "2\n",
      "8\n",
      "6\n"
     ]
    }
   ],
   "source": [
    "for _ in range(1,10):\n",
    "    print(random.randint(1,10))"
   ]
  },
  {
   "cell_type": "code",
   "execution_count": 88,
   "metadata": {},
   "outputs": [
    {
     "name": "stdout",
     "output_type": "stream",
     "text": [
      "4\n",
      "0\n",
      "4\n",
      "6\n",
      "0\n",
      "6\n",
      "0\n",
      "8\n",
      "0\n"
     ]
    }
   ],
   "source": [
    "for _ in range(1,10):\n",
    "    print(random.randrange(0,10, 2)) #Terceiro atributo é o step"
   ]
  },
  {
   "cell_type": "code",
   "execution_count": 89,
   "metadata": {},
   "outputs": [],
   "source": [
    "lista = [1,2,6,'tr', 8.2, 67, \"bf\", 6.5, 2]"
   ]
  },
  {
   "cell_type": "code",
   "execution_count": 90,
   "metadata": {},
   "outputs": [
    {
     "name": "stdout",
     "output_type": "stream",
     "text": [
      "2\n",
      "2\n",
      "6\n",
      "8.2\n",
      "bf\n",
      "2\n",
      "2\n",
      "tr\n",
      "1\n",
      "bf\n"
     ]
    }
   ],
   "source": [
    "for _ in range(0,10):\n",
    "    print(random.choice(lista))"
   ]
  },
  {
   "cell_type": "code",
   "execution_count": 91,
   "metadata": {},
   "outputs": [],
   "source": [
    "import time as tm"
   ]
  },
  {
   "cell_type": "code",
   "execution_count": 92,
   "metadata": {},
   "outputs": [
    {
     "data": {
      "text/plain": [
       "['_STRUCT_TM_ITEMS',\n",
       " '__doc__',\n",
       " '__loader__',\n",
       " '__name__',\n",
       " '__package__',\n",
       " '__spec__',\n",
       " 'altzone',\n",
       " 'asctime',\n",
       " 'ctime',\n",
       " 'daylight',\n",
       " 'get_clock_info',\n",
       " 'gmtime',\n",
       " 'localtime',\n",
       " 'mktime',\n",
       " 'monotonic',\n",
       " 'monotonic_ns',\n",
       " 'perf_counter',\n",
       " 'perf_counter_ns',\n",
       " 'process_time',\n",
       " 'process_time_ns',\n",
       " 'sleep',\n",
       " 'strftime',\n",
       " 'strptime',\n",
       " 'struct_time',\n",
       " 'thread_time',\n",
       " 'thread_time_ns',\n",
       " 'time',\n",
       " 'time_ns',\n",
       " 'timezone',\n",
       " 'tzname']"
      ]
     },
     "execution_count": 92,
     "metadata": {},
     "output_type": "execute_result"
    }
   ],
   "source": [
    "dir(tm)"
   ]
  },
  {
   "cell_type": "code",
   "execution_count": 93,
   "metadata": {},
   "outputs": [
    {
     "data": {
      "text/plain": [
       "1699792188.2018094"
      ]
     },
     "execution_count": 93,
     "metadata": {},
     "output_type": "execute_result"
    }
   ],
   "source": [
    "tm.time()"
   ]
  },
  {
   "cell_type": "code",
   "execution_count": 94,
   "metadata": {},
   "outputs": [],
   "source": [
    "antes = tm.time()\n",
    "lista = []\n",
    "for i in range(0,10000):\n",
    "    lista.append(random.randint(0,50))\n",
    "    \n",
    "depois = tm.time()"
   ]
  },
  {
   "cell_type": "code",
   "execution_count": 95,
   "metadata": {},
   "outputs": [
    {
     "name": "stdout",
     "output_type": "stream",
     "text": [
      "1699792188.931369\n"
     ]
    }
   ],
   "source": [
    "print(antes)"
   ]
  },
  {
   "cell_type": "code",
   "execution_count": 96,
   "metadata": {},
   "outputs": [
    {
     "name": "stdout",
     "output_type": "stream",
     "text": [
      "1699792188.9433293\n"
     ]
    }
   ],
   "source": [
    "print(depois)"
   ]
  },
  {
   "cell_type": "code",
   "execution_count": 97,
   "metadata": {},
   "outputs": [
    {
     "name": "stdout",
     "output_type": "stream",
     "text": [
      "-0.011960268020629883\n"
     ]
    }
   ],
   "source": [
    "print(antes - depois)"
   ]
  },
  {
   "cell_type": "code",
   "execution_count": 98,
   "metadata": {},
   "outputs": [
    {
     "data": {
      "text/plain": [
       "[5,\n",
       " 32,\n",
       " 29,\n",
       " 18,\n",
       " 35,\n",
       " 44,\n",
       " 23,\n",
       " 4,\n",
       " 12,\n",
       " 42,\n",
       " 21,\n",
       " 2,\n",
       " 47,\n",
       " 6,\n",
       " 41,\n",
       " 32,\n",
       " 24,\n",
       " 35,\n",
       " 31,\n",
       " 38,\n",
       " 49,\n",
       " 43,\n",
       " 40,\n",
       " 8,\n",
       " 31,\n",
       " 41,\n",
       " 12,\n",
       " 42,\n",
       " 7,\n",
       " 44,\n",
       " 23,\n",
       " 2,\n",
       " 38,\n",
       " 50,\n",
       " 27,\n",
       " 19,\n",
       " 7,\n",
       " 48,\n",
       " 22,\n",
       " 49,\n",
       " 16,\n",
       " 47,\n",
       " 10,\n",
       " 15,\n",
       " 47,\n",
       " 31,\n",
       " 32,\n",
       " 39,\n",
       " 2,\n",
       " 31,\n",
       " 16,\n",
       " 30,\n",
       " 20,\n",
       " 1,\n",
       " 33,\n",
       " 2,\n",
       " 40,\n",
       " 30,\n",
       " 45,\n",
       " 35,\n",
       " 16,\n",
       " 28,\n",
       " 10,\n",
       " 16,\n",
       " 18,\n",
       " 10,\n",
       " 21,\n",
       " 25,\n",
       " 2,\n",
       " 4,\n",
       " 21,\n",
       " 23,\n",
       " 44,\n",
       " 16,\n",
       " 25,\n",
       " 28,\n",
       " 24,\n",
       " 37,\n",
       " 13,\n",
       " 20,\n",
       " 32,\n",
       " 23,\n",
       " 19,\n",
       " 18,\n",
       " 50,\n",
       " 17,\n",
       " 33,\n",
       " 10,\n",
       " 8,\n",
       " 41,\n",
       " 33,\n",
       " 39,\n",
       " 45,\n",
       " 5,\n",
       " 6,\n",
       " 29,\n",
       " 29,\n",
       " 16,\n",
       " 15,\n",
       " 47,\n",
       " 18,\n",
       " 46,\n",
       " 8,\n",
       " 49,\n",
       " 34,\n",
       " 3,\n",
       " 0,\n",
       " 44,\n",
       " 24,\n",
       " 42,\n",
       " 5,\n",
       " 0,\n",
       " 43,\n",
       " 2,\n",
       " 2,\n",
       " 46,\n",
       " 45,\n",
       " 34,\n",
       " 4,\n",
       " 37,\n",
       " 44,\n",
       " 48,\n",
       " 17,\n",
       " 48,\n",
       " 13,\n",
       " 19,\n",
       " 35,\n",
       " 36,\n",
       " 6,\n",
       " 41,\n",
       " 22,\n",
       " 2,\n",
       " 44,\n",
       " 23,\n",
       " 32,\n",
       " 26,\n",
       " 8,\n",
       " 41,\n",
       " 49,\n",
       " 25,\n",
       " 34,\n",
       " 5,\n",
       " 50,\n",
       " 39,\n",
       " 30,\n",
       " 36,\n",
       " 0,\n",
       " 42,\n",
       " 2,\n",
       " 48,\n",
       " 39,\n",
       " 36,\n",
       " 38,\n",
       " 46,\n",
       " 1,\n",
       " 5,\n",
       " 26,\n",
       " 28,\n",
       " 5,\n",
       " 26,\n",
       " 26,\n",
       " 2,\n",
       " 6,\n",
       " 32,\n",
       " 7,\n",
       " 13,\n",
       " 14,\n",
       " 22,\n",
       " 17,\n",
       " 5,\n",
       " 9,\n",
       " 24,\n",
       " 37,\n",
       " 9,\n",
       " 15,\n",
       " 8,\n",
       " 25,\n",
       " 18,\n",
       " 15,\n",
       " 16,\n",
       " 18,\n",
       " 28,\n",
       " 25,\n",
       " 3,\n",
       " 32,\n",
       " 45,\n",
       " 35,\n",
       " 17,\n",
       " 10,\n",
       " 20,\n",
       " 25,\n",
       " 4,\n",
       " 12,\n",
       " 36,\n",
       " 18,\n",
       " 25,\n",
       " 48,\n",
       " 31,\n",
       " 27,\n",
       " 8,\n",
       " 43,\n",
       " 37,\n",
       " 23,\n",
       " 16,\n",
       " 49,\n",
       " 13,\n",
       " 19,\n",
       " 30,\n",
       " 3,\n",
       " 5,\n",
       " 48,\n",
       " 2,\n",
       " 1,\n",
       " 33,\n",
       " 9,\n",
       " 46,\n",
       " 31,\n",
       " 35,\n",
       " 49,\n",
       " 49,\n",
       " 7,\n",
       " 33,\n",
       " 49,\n",
       " 10,\n",
       " 36,\n",
       " 20,\n",
       " 28,\n",
       " 10,\n",
       " 41,\n",
       " 20,\n",
       " 13,\n",
       " 24,\n",
       " 23,\n",
       " 39,\n",
       " 44,\n",
       " 41,\n",
       " 49,\n",
       " 2,\n",
       " 40,\n",
       " 18,\n",
       " 48,\n",
       " 0,\n",
       " 11,\n",
       " 21,\n",
       " 41,\n",
       " 37,\n",
       " 45,\n",
       " 30,\n",
       " 18,\n",
       " 0,\n",
       " 45,\n",
       " 35,\n",
       " 37,\n",
       " 29,\n",
       " 2,\n",
       " 1,\n",
       " 14,\n",
       " 45,\n",
       " 21,\n",
       " 27,\n",
       " 39,\n",
       " 39,\n",
       " 38,\n",
       " 33,\n",
       " 49,\n",
       " 28,\n",
       " 8,\n",
       " 49,\n",
       " 47,\n",
       " 46,\n",
       " 20,\n",
       " 44,\n",
       " 47,\n",
       " 37,\n",
       " 12,\n",
       " 6,\n",
       " 31,\n",
       " 1,\n",
       " 40,\n",
       " 36,\n",
       " 16,\n",
       " 0,\n",
       " 20,\n",
       " 32,\n",
       " 21,\n",
       " 5,\n",
       " 3,\n",
       " 12,\n",
       " 0,\n",
       " 33,\n",
       " 8,\n",
       " 36,\n",
       " 40,\n",
       " 25,\n",
       " 21,\n",
       " 39,\n",
       " 26,\n",
       " 33,\n",
       " 16,\n",
       " 2,\n",
       " 19,\n",
       " 45,\n",
       " 7,\n",
       " 8,\n",
       " 39,\n",
       " 14,\n",
       " 24,\n",
       " 44,\n",
       " 9,\n",
       " 28,\n",
       " 10,\n",
       " 19,\n",
       " 7,\n",
       " 27,\n",
       " 18,\n",
       " 21,\n",
       " 43,\n",
       " 13,\n",
       " 26,\n",
       " 39,\n",
       " 10,\n",
       " 26,\n",
       " 41,\n",
       " 44,\n",
       " 7,\n",
       " 7,\n",
       " 11,\n",
       " 46,\n",
       " 32,\n",
       " 30,\n",
       " 16,\n",
       " 3,\n",
       " 29,\n",
       " 21,\n",
       " 9,\n",
       " 11,\n",
       " 39,\n",
       " 42,\n",
       " 22,\n",
       " 36,\n",
       " 42,\n",
       " 0,\n",
       " 12,\n",
       " 4,\n",
       " 27,\n",
       " 50,\n",
       " 29,\n",
       " 35,\n",
       " 36,\n",
       " 28,\n",
       " 39,\n",
       " 18,\n",
       " 38,\n",
       " 46,\n",
       " 16,\n",
       " 13,\n",
       " 0,\n",
       " 3,\n",
       " 5,\n",
       " 13,\n",
       " 24,\n",
       " 3,\n",
       " 27,\n",
       " 25,\n",
       " 38,\n",
       " 45,\n",
       " 29,\n",
       " 45,\n",
       " 36,\n",
       " 18,\n",
       " 45,\n",
       " 45,\n",
       " 4,\n",
       " 23,\n",
       " 14,\n",
       " 19,\n",
       " 20,\n",
       " 14,\n",
       " 41,\n",
       " 43,\n",
       " 2,\n",
       " 35,\n",
       " 36,\n",
       " 15,\n",
       " 32,\n",
       " 19,\n",
       " 42,\n",
       " 17,\n",
       " 28,\n",
       " 10,\n",
       " 25,\n",
       " 17,\n",
       " 38,\n",
       " 9,\n",
       " 31,\n",
       " 6,\n",
       " 20,\n",
       " 28,\n",
       " 48,\n",
       " 44,\n",
       " 34,\n",
       " 0,\n",
       " 38,\n",
       " 2,\n",
       " 39,\n",
       " 9,\n",
       " 27,\n",
       " 4,\n",
       " 2,\n",
       " 34,\n",
       " 23,\n",
       " 19,\n",
       " 0,\n",
       " 49,\n",
       " 26,\n",
       " 20,\n",
       " 33,\n",
       " 29,\n",
       " 0,\n",
       " 29,\n",
       " 40,\n",
       " 10,\n",
       " 47,\n",
       " 23,\n",
       " 49,\n",
       " 36,\n",
       " 6,\n",
       " 50,\n",
       " 50,\n",
       " 49,\n",
       " 10,\n",
       " 16,\n",
       " 19,\n",
       " 15,\n",
       " 13,\n",
       " 10,\n",
       " 32,\n",
       " 20,\n",
       " 2,\n",
       " 33,\n",
       " 28,\n",
       " 6,\n",
       " 50,\n",
       " 3,\n",
       " 25,\n",
       " 24,\n",
       " 15,\n",
       " 27,\n",
       " 23,\n",
       " 50,\n",
       " 31,\n",
       " 30,\n",
       " 25,\n",
       " 24,\n",
       " 8,\n",
       " 45,\n",
       " 46,\n",
       " 7,\n",
       " 29,\n",
       " 43,\n",
       " 46,\n",
       " 40,\n",
       " 28,\n",
       " 27,\n",
       " 45,\n",
       " 17,\n",
       " 27,\n",
       " 43,\n",
       " 18,\n",
       " 29,\n",
       " 24,\n",
       " 22,\n",
       " 2,\n",
       " 19,\n",
       " 21,\n",
       " 42,\n",
       " 41,\n",
       " 21,\n",
       " 1,\n",
       " 2,\n",
       " 33,\n",
       " 37,\n",
       " 11,\n",
       " 36,\n",
       " 16,\n",
       " 26,\n",
       " 16,\n",
       " 14,\n",
       " 11,\n",
       " 37,\n",
       " 50,\n",
       " 28,\n",
       " 5,\n",
       " 47,\n",
       " 6,\n",
       " 5,\n",
       " 19,\n",
       " 30,\n",
       " 27,\n",
       " 47,\n",
       " 31,\n",
       " 10,\n",
       " 15,\n",
       " 39,\n",
       " 22,\n",
       " 44,\n",
       " 16,\n",
       " 17,\n",
       " 47,\n",
       " 23,\n",
       " 6,\n",
       " 16,\n",
       " 12,\n",
       " 3,\n",
       " 12,\n",
       " 16,\n",
       " 22,\n",
       " 6,\n",
       " 8,\n",
       " 1,\n",
       " 12,\n",
       " 48,\n",
       " 39,\n",
       " 33,\n",
       " 30,\n",
       " 7,\n",
       " 23,\n",
       " 17,\n",
       " 4,\n",
       " 24,\n",
       " 39,\n",
       " 27,\n",
       " 5,\n",
       " 27,\n",
       " 9,\n",
       " 10,\n",
       " 7,\n",
       " 10,\n",
       " 13,\n",
       " 38,\n",
       " 5,\n",
       " 21,\n",
       " 13,\n",
       " 22,\n",
       " 16,\n",
       " 48,\n",
       " 43,\n",
       " 8,\n",
       " 30,\n",
       " 34,\n",
       " 38,\n",
       " 27,\n",
       " 6,\n",
       " 31,\n",
       " 47,\n",
       " 31,\n",
       " 35,\n",
       " 48,\n",
       " 17,\n",
       " 49,\n",
       " 14,\n",
       " 34,\n",
       " 20,\n",
       " 2,\n",
       " 35,\n",
       " 50,\n",
       " 42,\n",
       " 27,\n",
       " 12,\n",
       " 6,\n",
       " 5,\n",
       " 49,\n",
       " 20,\n",
       " 42,\n",
       " 34,\n",
       " 35,\n",
       " 44,\n",
       " 41,\n",
       " 10,\n",
       " 49,\n",
       " 22,\n",
       " 2,\n",
       " 8,\n",
       " 42,\n",
       " 43,\n",
       " 38,\n",
       " 1,\n",
       " 13,\n",
       " 45,\n",
       " 46,\n",
       " 36,\n",
       " 17,\n",
       " 27,\n",
       " 41,\n",
       " 21,\n",
       " 17,\n",
       " 36,\n",
       " 29,\n",
       " 18,\n",
       " 45,\n",
       " 22,\n",
       " 24,\n",
       " 19,\n",
       " 48,\n",
       " 32,\n",
       " 33,\n",
       " 8,\n",
       " 1,\n",
       " 44,\n",
       " 41,\n",
       " 32,\n",
       " 15,\n",
       " 38,\n",
       " 27,\n",
       " 26,\n",
       " 39,\n",
       " 49,\n",
       " 16,\n",
       " 24,\n",
       " 39,\n",
       " 20,\n",
       " 30,\n",
       " 1,\n",
       " 6,\n",
       " 41,\n",
       " 28,\n",
       " 22,\n",
       " 24,\n",
       " 47,\n",
       " 26,\n",
       " 34,\n",
       " 10,\n",
       " 27,\n",
       " 12,\n",
       " 14,\n",
       " 17,\n",
       " 20,\n",
       " 41,\n",
       " 2,\n",
       " 24,\n",
       " 25,\n",
       " 12,\n",
       " 3,\n",
       " 45,\n",
       " 46,\n",
       " 16,\n",
       " 30,\n",
       " 25,\n",
       " 7,\n",
       " 36,\n",
       " 49,\n",
       " 46,\n",
       " 44,\n",
       " 16,\n",
       " 44,\n",
       " 29,\n",
       " 11,\n",
       " 20,\n",
       " 7,\n",
       " 21,\n",
       " 12,\n",
       " 37,\n",
       " 24,\n",
       " 35,\n",
       " 49,\n",
       " 50,\n",
       " 43,\n",
       " 11,\n",
       " 32,\n",
       " 10,\n",
       " 30,\n",
       " 11,\n",
       " 9,\n",
       " 40,\n",
       " 8,\n",
       " 48,\n",
       " 23,\n",
       " 26,\n",
       " 14,\n",
       " 12,\n",
       " 34,\n",
       " 36,\n",
       " 46,\n",
       " 1,\n",
       " 35,\n",
       " 20,\n",
       " 33,\n",
       " 34,\n",
       " 17,\n",
       " 12,\n",
       " 45,\n",
       " 39,\n",
       " 32,\n",
       " 30,\n",
       " 21,\n",
       " 31,\n",
       " 24,\n",
       " 45,\n",
       " 11,\n",
       " 30,\n",
       " 7,\n",
       " 48,\n",
       " 23,\n",
       " 32,\n",
       " 30,\n",
       " 13,\n",
       " 40,\n",
       " 34,\n",
       " 15,\n",
       " 5,\n",
       " 16,\n",
       " 19,\n",
       " 3,\n",
       " 48,\n",
       " 6,\n",
       " 7,\n",
       " 26,\n",
       " 21,\n",
       " 34,\n",
       " 4,\n",
       " 24,\n",
       " 12,\n",
       " 28,\n",
       " 42,\n",
       " 4,\n",
       " 15,\n",
       " 3,\n",
       " 45,\n",
       " 15,\n",
       " 22,\n",
       " 0,\n",
       " 26,\n",
       " 8,\n",
       " 12,\n",
       " 25,\n",
       " 38,\n",
       " 24,\n",
       " 31,\n",
       " 21,\n",
       " 21,\n",
       " 18,\n",
       " 38,\n",
       " 15,\n",
       " 31,\n",
       " 44,\n",
       " 33,\n",
       " 1,\n",
       " 24,\n",
       " 22,\n",
       " 46,\n",
       " 37,\n",
       " 45,\n",
       " 8,\n",
       " 42,\n",
       " 32,\n",
       " 20,\n",
       " 11,\n",
       " 15,\n",
       " 15,\n",
       " 21,\n",
       " 37,\n",
       " 19,\n",
       " 37,\n",
       " 29,\n",
       " 4,\n",
       " 9,\n",
       " 44,\n",
       " 8,\n",
       " 22,\n",
       " 6,\n",
       " 35,\n",
       " 34,\n",
       " 46,\n",
       " 0,\n",
       " 15,\n",
       " 13,\n",
       " 47,\n",
       " 19,\n",
       " 43,\n",
       " 39,\n",
       " 48,\n",
       " 5,\n",
       " 0,\n",
       " 16,\n",
       " 47,\n",
       " 25,\n",
       " 31,\n",
       " 34,\n",
       " 43,\n",
       " 41,\n",
       " 44,\n",
       " 49,\n",
       " 14,\n",
       " 47,\n",
       " 28,\n",
       " 49,\n",
       " 40,\n",
       " 14,\n",
       " 40,\n",
       " 2,\n",
       " 33,\n",
       " 25,\n",
       " 29,\n",
       " 16,\n",
       " 4,\n",
       " 29,\n",
       " 37,\n",
       " 10,\n",
       " 40,\n",
       " 32,\n",
       " 47,\n",
       " 10,\n",
       " 13,\n",
       " 4,\n",
       " 27,\n",
       " 28,\n",
       " 42,\n",
       " 26,\n",
       " 32,\n",
       " 47,\n",
       " 21,\n",
       " 29,\n",
       " 42,\n",
       " 29,\n",
       " 24,\n",
       " 22,\n",
       " 14,\n",
       " 27,\n",
       " 29,\n",
       " 16,\n",
       " 2,\n",
       " 25,\n",
       " 6,\n",
       " 0,\n",
       " 4,\n",
       " 43,\n",
       " 3,\n",
       " 48,\n",
       " 20,\n",
       " 42,\n",
       " 33,\n",
       " 15,\n",
       " 40,\n",
       " 5,\n",
       " 43,\n",
       " 20,\n",
       " 43,\n",
       " 23,\n",
       " 48,\n",
       " 14,\n",
       " 49,\n",
       " 5,\n",
       " 40,\n",
       " 3,\n",
       " 9,\n",
       " 37,\n",
       " 49,\n",
       " 15,\n",
       " 14,\n",
       " 18,\n",
       " 37,\n",
       " 48,\n",
       " 14,\n",
       " 18,\n",
       " 47,\n",
       " 8,\n",
       " 9,\n",
       " 15,\n",
       " 17,\n",
       " 8,\n",
       " 30,\n",
       " 35,\n",
       " 37,\n",
       " 43,\n",
       " 48,\n",
       " 6,\n",
       " 23,\n",
       " 32,\n",
       " 21,\n",
       " 23,\n",
       " 19,\n",
       " 37,\n",
       " 47,\n",
       " 41,\n",
       " 38,\n",
       " 32,\n",
       " 27,\n",
       " 40,\n",
       " 11,\n",
       " 29,\n",
       " 46,\n",
       " 23,\n",
       " 43,\n",
       " 4,\n",
       " 41,\n",
       " 8,\n",
       " 27,\n",
       " 11,\n",
       " 0,\n",
       " 33,\n",
       " 12,\n",
       " 13,\n",
       " 11,\n",
       " 14,\n",
       " 5,\n",
       " 44,\n",
       " 22,\n",
       " 5,\n",
       " 37,\n",
       " 30,\n",
       " 20,\n",
       " 14,\n",
       " 0,\n",
       " 42,\n",
       " 13,\n",
       " 50,\n",
       " 21,\n",
       " 11,\n",
       " 2,\n",
       " 36,\n",
       " 40,\n",
       " 50,\n",
       " 26,\n",
       " 43,\n",
       " 50,\n",
       " 3,\n",
       " 11,\n",
       " 50,\n",
       " 6,\n",
       " 26,\n",
       " 21,\n",
       " 37,\n",
       " 9,\n",
       " 47,\n",
       " 9,\n",
       " 27,\n",
       " 7,\n",
       " 36,\n",
       " 46,\n",
       " 13,\n",
       " 18,\n",
       " 29,\n",
       " 40,\n",
       " 23,\n",
       " 3,\n",
       " 47,\n",
       " 45,\n",
       " 2,\n",
       " 50,\n",
       " 26,\n",
       " 13,\n",
       " 16,\n",
       " 38,\n",
       " 26,\n",
       " 37,\n",
       " 13,\n",
       " 10,\n",
       " 2,\n",
       " 49,\n",
       " 14,\n",
       " 28,\n",
       " 5,\n",
       " 25,\n",
       " 31,\n",
       " 32,\n",
       " 22,\n",
       " 43,\n",
       " 30,\n",
       " 31,\n",
       " 40,\n",
       " 35,\n",
       " 33,\n",
       " 20,\n",
       " 30,\n",
       " 26,\n",
       " 34,\n",
       " 27,\n",
       " 50,\n",
       " 35,\n",
       " 40,\n",
       " 10,\n",
       " 18,\n",
       " 39,\n",
       " 0,\n",
       " 11,\n",
       " 14,\n",
       " 39,\n",
       " 36,\n",
       " 10,\n",
       " 35,\n",
       " 41,\n",
       " 33,\n",
       " 26,\n",
       " 21,\n",
       " 2,\n",
       " 16,\n",
       " 49,\n",
       " 48,\n",
       " 6,\n",
       " 21,\n",
       " ...]"
      ]
     },
     "execution_count": 98,
     "metadata": {},
     "output_type": "execute_result"
    }
   ],
   "source": [
    "lista"
   ]
  },
  {
   "cell_type": "code",
   "execution_count": 99,
   "metadata": {},
   "outputs": [],
   "source": [
    "from collections import Counter"
   ]
  },
  {
   "cell_type": "code",
   "execution_count": 100,
   "metadata": {},
   "outputs": [],
   "source": [
    "lis = Counter(lista)"
   ]
  },
  {
   "cell_type": "code",
   "execution_count": 101,
   "metadata": {},
   "outputs": [
    {
     "data": {
      "text/plain": [
       "[(50, 219),\n",
       " (19, 219),\n",
       " (35, 215),\n",
       " (41, 214),\n",
       " (18, 212),\n",
       " (20, 211),\n",
       " (13, 211),\n",
       " (25, 209),\n",
       " (0, 208),\n",
       " (32, 207),\n",
       " (39, 207),\n",
       " (31, 203),\n",
       " (43, 202),\n",
       " (36, 202),\n",
       " (11, 202),\n",
       " (14, 201),\n",
       " (42, 200),\n",
       " (23, 199),\n",
       " (2, 199),\n",
       " (49, 199),\n",
       " (15, 198),\n",
       " (33, 198),\n",
       " (17, 198),\n",
       " (3, 197),\n",
       " (26, 196),\n",
       " (37, 195),\n",
       " (29, 194),\n",
       " (8, 194),\n",
       " (27, 194),\n",
       " (44, 193),\n",
       " (16, 192),\n",
       " (1, 192),\n",
       " (45, 192),\n",
       " (47, 191),\n",
       " (38, 191),\n",
       " (28, 191),\n",
       " (12, 190),\n",
       " (6, 189),\n",
       " (24, 189),\n",
       " (40, 189),\n",
       " (48, 187),\n",
       " (30, 187),\n",
       " (4, 185),\n",
       " (22, 184),\n",
       " (34, 184),\n",
       " (10, 181),\n",
       " (5, 180),\n",
       " (7, 180),\n",
       " (46, 180),\n",
       " (21, 179),\n",
       " (9, 171)]"
      ]
     },
     "execution_count": 101,
     "metadata": {},
     "output_type": "execute_result"
    }
   ],
   "source": [
    "lis.most_common()"
   ]
  },
  {
   "cell_type": "code",
   "execution_count": 102,
   "metadata": {},
   "outputs": [],
   "source": [
    "intervalo = antes - depois"
   ]
  },
  {
   "cell_type": "code",
   "execution_count": 103,
   "metadata": {},
   "outputs": [
    {
     "name": "stdout",
     "output_type": "stream",
     "text": [
      "-0.011960268020629883\n"
     ]
    }
   ],
   "source": [
    "print(intervalo)"
   ]
  },
  {
   "cell_type": "code",
   "execution_count": 104,
   "metadata": {},
   "outputs": [
    {
     "name": "stdout",
     "output_type": "stream",
     "text": [
      "1\n",
      "Indo para o próximo\n",
      "2\n",
      "Indo para o próximo\n",
      "3\n",
      "Indo para o próximo\n",
      "4\n",
      "Indo para o próximo\n",
      "5\n",
      "Indo para o próximo\n",
      "6\n",
      "Indo para o próximo\n",
      "7\n",
      "Indo para o próximo\n",
      "8\n",
      "Indo para o próximo\n",
      "9\n",
      "Indo para o próximo\n"
     ]
    }
   ],
   "source": [
    "for i in range(1,10):\n",
    "    print(i)\n",
    "    tm.sleep(2)\n",
    "    print(\"Indo para o próximo\")"
   ]
  },
  {
   "cell_type": "code",
   "execution_count": 105,
   "metadata": {},
   "outputs": [],
   "source": [
    "import os"
   ]
  },
  {
   "cell_type": "code",
   "execution_count": 106,
   "metadata": {},
   "outputs": [
    {
     "data": {
      "text/plain": [
       "['.ipynb_checkpoints',\n",
       " 'arquivo.txt',\n",
       " 'Exercicios.ipynb',\n",
       " 'meto.py',\n",
       " 'metodos.py',\n",
       " 'n.py',\n",
       " 'Treino_01.ipynb',\n",
       " 'Untitled.ipynb',\n",
       " '__pycache__']"
      ]
     },
     "execution_count": 106,
     "metadata": {},
     "output_type": "execute_result"
    }
   ],
   "source": [
    "os.listdir()"
   ]
  },
  {
   "cell_type": "code",
   "execution_count": 107,
   "metadata": {},
   "outputs": [],
   "source": [
    "import meto"
   ]
  },
  {
   "cell_type": "code",
   "execution_count": 108,
   "metadata": {},
   "outputs": [
    {
     "data": {
      "text/plain": [
       "['IsPalidromo',\n",
       " '__builtins__',\n",
       " '__cached__',\n",
       " '__doc__',\n",
       " '__file__',\n",
       " '__loader__',\n",
       " '__name__',\n",
       " '__package__',\n",
       " '__spec__',\n",
       " 'divisao',\n",
       " 'soma']"
      ]
     },
     "execution_count": 108,
     "metadata": {},
     "output_type": "execute_result"
    }
   ],
   "source": [
    "dir(meto)"
   ]
  },
  {
   "cell_type": "code",
   "execution_count": 109,
   "metadata": {},
   "outputs": [
    {
     "name": "stdout",
     "output_type": "stream",
     "text": [
      "É um palidromo\n"
     ]
    }
   ],
   "source": [
    "print(meto.IsPalidromo(\"abccba\"))"
   ]
  },
  {
   "cell_type": "code",
   "execution_count": 110,
   "metadata": {},
   "outputs": [
    {
     "name": "stdout",
     "output_type": "stream",
     "text": [
      "11\n"
     ]
    }
   ],
   "source": [
    "print(meto.soma(5,6))"
   ]
  },
  {
   "cell_type": "code",
   "execution_count": 111,
   "metadata": {},
   "outputs": [
    {
     "name": "stdout",
     "output_type": "stream",
     "text": [
      "É um palidromo\n"
     ]
    }
   ],
   "source": [
    "print(meto.IsPalidromo(\"anna\"))"
   ]
  },
  {
   "cell_type": "code",
   "execution_count": 112,
   "metadata": {},
   "outputs": [
    {
     "name": "stdout",
     "output_type": "stream",
     "text": [
      "anna\n"
     ]
    }
   ],
   "source": [
    "print(\"anna\"[::-1])"
   ]
  },
  {
   "cell_type": "code",
   "execution_count": 113,
   "metadata": {},
   "outputs": [],
   "source": [
    "import meto"
   ]
  },
  {
   "cell_type": "code",
   "execution_count": 114,
   "metadata": {},
   "outputs": [
    {
     "name": "stdout",
     "output_type": "stream",
     "text": [
      "0.75\n"
     ]
    }
   ],
   "source": [
    "print(meto.divisao(3,4))"
   ]
  },
  {
   "cell_type": "markdown",
   "metadata": {},
   "source": [
    "# Tratamento de erros"
   ]
  },
  {
   "cell_type": "markdown",
   "metadata": {},
   "source": [
    "NameError: Quando a váriavel não foi definida\n",
    "TypeError: Tipos de dados incompatíveis\n",
    "RuntimeError: Erro de execução\n",
    "SyntaxError: Erro de digitação\n",
    "ZeroDivisionError: Divisão por zero\n",
    "IndexError: Índice fora da coleção"
   ]
  },
  {
   "cell_type": "code",
   "execution_count": 115,
   "metadata": {},
   "outputs": [
    {
     "ename": "SyntaxError",
     "evalue": "cannot assign to literal here. Maybe you meant '==' instead of '='? (732916017.py, line 1)",
     "output_type": "error",
     "traceback": [
      "\u001b[1;36m  Cell \u001b[1;32mIn[115], line 1\u001b[1;36m\u001b[0m\n\u001b[1;33m    3 = 4\u001b[0m\n\u001b[1;37m    ^\u001b[0m\n\u001b[1;31mSyntaxError\u001b[0m\u001b[1;31m:\u001b[0m cannot assign to literal here. Maybe you meant '==' instead of '='?\n"
     ]
    }
   ],
   "source": [
    "3 = 4 #SyntaxError"
   ]
  },
  {
   "cell_type": "code",
   "execution_count": 116,
   "metadata": {},
   "outputs": [
    {
     "data": {
      "text/plain": [
       "False"
      ]
     },
     "execution_count": 116,
     "metadata": {},
     "output_type": "execute_result"
    }
   ],
   "source": [
    "3 == 4"
   ]
  },
  {
   "cell_type": "code",
   "execution_count": 118,
   "metadata": {},
   "outputs": [
    {
     "ename": "NameError",
     "evalue": "name 'Sobrenome' is not defined",
     "output_type": "error",
     "traceback": [
      "\u001b[1;31m---------------------------------------------------------------------------\u001b[0m",
      "\u001b[1;31mNameError\u001b[0m                                 Traceback (most recent call last)",
      "Cell \u001b[1;32mIn[118], line 1\u001b[0m\n\u001b[1;32m----> 1\u001b[0m \u001b[38;5;28mprint\u001b[39m(\u001b[38;5;124mf\u001b[39m\u001b[38;5;124m'\u001b[39m\u001b[38;5;124mMeu nome é \u001b[39m\u001b[38;5;132;01m{\u001b[39;00mSobrenome\u001b[38;5;132;01m}\u001b[39;00m\u001b[38;5;124m'\u001b[39m)\n",
      "\u001b[1;31mNameError\u001b[0m: name 'Sobrenome' is not defined"
     ]
    }
   ],
   "source": [
    "print(f'Meu nome é {Sobrenome}') #NameError"
   ]
  },
  {
   "cell_type": "code",
   "execution_count": 119,
   "metadata": {},
   "outputs": [
    {
     "ename": "ZeroDivisionError",
     "evalue": "division by zero",
     "output_type": "error",
     "traceback": [
      "\u001b[1;31m---------------------------------------------------------------------------\u001b[0m",
      "\u001b[1;31mZeroDivisionError\u001b[0m                         Traceback (most recent call last)",
      "Cell \u001b[1;32mIn[119], line 1\u001b[0m\n\u001b[1;32m----> 1\u001b[0m \u001b[38;5;28mprint\u001b[39m(\u001b[38;5;241;43m3\u001b[39;49m\u001b[38;5;241;43m/\u001b[39;49m\u001b[38;5;241;43m0\u001b[39;49m)\n",
      "\u001b[1;31mZeroDivisionError\u001b[0m: division by zero"
     ]
    }
   ],
   "source": [
    "print(3/0) #ZeroDivisionError"
   ]
  },
  {
   "cell_type": "code",
   "execution_count": 120,
   "metadata": {},
   "outputs": [
    {
     "ename": "TypeError",
     "evalue": "unsupported operand type(s) for /: 'int' and 'str'",
     "output_type": "error",
     "traceback": [
      "\u001b[1;31m---------------------------------------------------------------------------\u001b[0m",
      "\u001b[1;31mTypeError\u001b[0m                                 Traceback (most recent call last)",
      "Cell \u001b[1;32mIn[120], line 1\u001b[0m\n\u001b[1;32m----> 1\u001b[0m \u001b[38;5;28mprint\u001b[39m(\u001b[38;5;241;43m3\u001b[39;49m\u001b[38;5;241;43m/\u001b[39;49m\u001b[38;5;124;43m\"\u001b[39;49m\u001b[38;5;124;43ma\u001b[39;49m\u001b[38;5;124;43m\"\u001b[39;49m)\n",
      "\u001b[1;31mTypeError\u001b[0m: unsupported operand type(s) for /: 'int' and 'str'"
     ]
    }
   ],
   "source": [
    "print(3/\"a\") #TypeError"
   ]
  },
  {
   "cell_type": "code",
   "execution_count": 121,
   "metadata": {},
   "outputs": [
    {
     "ename": "AttributeError",
     "evalue": "'list' object has no attribute 'indexoff'",
     "output_type": "error",
     "traceback": [
      "\u001b[1;31m---------------------------------------------------------------------------\u001b[0m",
      "\u001b[1;31mAttributeError\u001b[0m                            Traceback (most recent call last)",
      "Cell \u001b[1;32mIn[121], line 1\u001b[0m\n\u001b[1;32m----> 1\u001b[0m \u001b[43mlista\u001b[49m\u001b[38;5;241;43m.\u001b[39;49m\u001b[43mindexoff\u001b[49m()\n",
      "\u001b[1;31mAttributeError\u001b[0m: 'list' object has no attribute 'indexoff'"
     ]
    }
   ],
   "source": [
    "lista.indexoff() #AttributeError"
   ]
  },
  {
   "cell_type": "code",
   "execution_count": 123,
   "metadata": {},
   "outputs": [
    {
     "name": "stdout",
     "output_type": "stream",
     "text": [
      "Informe um número inteiro: 43\n"
     ]
    }
   ],
   "source": [
    "n = int(input(\"Informe um número inteiro: \"))"
   ]
  },
  {
   "cell_type": "code",
   "execution_count": 124,
   "metadata": {},
   "outputs": [
    {
     "name": "stdout",
     "output_type": "stream",
     "text": [
      "Informe um número inteiro: a\n"
     ]
    },
    {
     "ename": "ValueError",
     "evalue": "invalid literal for int() with base 10: 'a'",
     "output_type": "error",
     "traceback": [
      "\u001b[1;31m---------------------------------------------------------------------------\u001b[0m",
      "\u001b[1;31mValueError\u001b[0m                                Traceback (most recent call last)",
      "Cell \u001b[1;32mIn[124], line 1\u001b[0m\n\u001b[1;32m----> 1\u001b[0m n \u001b[38;5;241m=\u001b[39m \u001b[38;5;28;43mint\u001b[39;49m\u001b[43m(\u001b[49m\u001b[38;5;28;43minput\u001b[39;49m\u001b[43m(\u001b[49m\u001b[38;5;124;43m\"\u001b[39;49m\u001b[38;5;124;43mInforme um número inteiro: \u001b[39;49m\u001b[38;5;124;43m\"\u001b[39;49m\u001b[43m)\u001b[49m\u001b[43m)\u001b[49m\n",
      "\u001b[1;31mValueError\u001b[0m: invalid literal for int() with base 10: 'a'"
     ]
    }
   ],
   "source": [
    "n = int(input(\"Informe um número inteiro: \")) #ValueError"
   ]
  },
  {
   "cell_type": "code",
   "execution_count": 126,
   "metadata": {},
   "outputs": [
    {
     "name": "stdout",
     "output_type": "stream",
     "text": [
      "Informe um número inteiro: 43\n",
      "Valor digitado:  43\n"
     ]
    }
   ],
   "source": [
    "try:\n",
    "    n = int(input(\"Informe um número inteiro: \")) \n",
    "\n",
    "except:\n",
    "    print(\"Informe um número inteiro\")\n",
    "else:\n",
    "    print(\"Valor digitado:\", n)"
   ]
  },
  {
   "cell_type": "code",
   "execution_count": 127,
   "metadata": {},
   "outputs": [
    {
     "name": "stdout",
     "output_type": "stream",
     "text": [
      "Informe um número inteiro: 34\n",
      "O número digitado foi, 34\n"
     ]
    }
   ],
   "source": [
    "while True:\n",
    "    try:\n",
    "        n = int(input(\"Informe um número inteiro: \"))\n",
    "    except:\n",
    "        print(\"Número inválido\")\n",
    "    else:\n",
    "        print(\"O número digitado foi,\", n)\n",
    "        break"
   ]
  },
  {
   "cell_type": "code",
   "execution_count": 128,
   "metadata": {},
   "outputs": [
    {
     "name": "stdout",
     "output_type": "stream",
     "text": [
      "Informe um número inteiro: asd\n",
      "Número inválido\n",
      "Informe um número inteiro: b\n",
      "Número inválido\n",
      "Informe um número inteiro: a\n",
      "Número inválido\n",
      "Informe um número inteiro: r\n",
      "Número inválido\n",
      "Informe um número inteiro: 54.34\n",
      "Número inválido\n",
      "Informe um número inteiro: 54\n",
      "O número digitado foi, 54\n"
     ]
    }
   ],
   "source": [
    "while True:\n",
    "    try:\n",
    "        n = int(input(\"Informe um número inteiro: \"))\n",
    "    except:\n",
    "        print(\"Número inválido\")\n",
    "    else:\n",
    "        print(\"O número digitado foi,\", n)\n",
    "        break"
   ]
  },
  {
   "cell_type": "code",
   "execution_count": 131,
   "metadata": {},
   "outputs": [
    {
     "name": "stdout",
     "output_type": "stream",
     "text": [
      "Informe um número inteiro: 34\n",
      "Valor digitado é: 34\n"
     ]
    }
   ],
   "source": [
    "while True:\n",
    "    try:\n",
    "        p = int(input(\"Informe um número inteiro: \"))\n",
    "    except ValueError:\n",
    "        print(\"Valor inválido\")\n",
    "    except KeyboardInterrupt:\n",
    "        print(\"Finalizado pelo usuário\")\n",
    "        break\n",
    "        \n",
    "    else:\n",
    "        print(\"Valor digitado é:\",p)\n",
    "        break"
   ]
  },
  {
   "cell_type": "code",
   "execution_count": 132,
   "metadata": {},
   "outputs": [
    {
     "name": "stdout",
     "output_type": "stream",
     "text": [
      "Informe um número inteiro: d\n",
      "Valor inválido\n",
      "Informe um número inteiro: s\n",
      "Valor inválido\n",
      "Informe um número inteiro: fs\n",
      "Valor inválido\n",
      "Informe um número inteiro: gfd\n",
      "Valor inválido\n",
      "Informe um número inteiro: a\n",
      "Valor inválido\n",
      "Informe um número inteiro: 4\n",
      "Valor digitado é: 4\n"
     ]
    }
   ],
   "source": [
    "while True:\n",
    "    try:\n",
    "        p = int(input(\"Informe um número inteiro: \"))\n",
    "    except ValueError:\n",
    "        print(\"Valor inválido\")\n",
    "    except KeyboardInterrupt:\n",
    "        print(\"Finalizado pelo usuário\")\n",
    "        break\n",
    "        \n",
    "    else:\n",
    "        print(\"Valor digitado é:\",p)\n",
    "        break"
   ]
  },
  {
   "cell_type": "code",
   "execution_count": 2,
   "metadata": {},
   "outputs": [],
   "source": [
    "def erros():\n",
    "    lista = []\n",
    "    while True:\n",
    "        try:\n",
    "            n = float(input(\"Informe o primeiro número flutuante: \"))\n",
    "            n1 = float(input(\"Informe o segundo número flutuante\"))\n",
    "        except ValueError:\n",
    "            print(\"Informe um número válido\")\n",
    "        except KeyboardInterrupt:\n",
    "            print(\"Programa encerrado \")\n",
    "        else: \n",
    "            lista.append(n)\n",
    "            lista.append(n1)\n",
    "        \n",
    "        try:\n",
    "            print(lista[0] / lista[1])\n",
    "            break\n",
    "        except ZeroDivisionError:\n",
    "            print(\"Impossível dividir por zero\")\n",
    "            break\n",
    "        except IndexError:\n",
    "            print(\"Index não encontrado\")\n",
    "            break\n",
    "        \n",
    "    "
   ]
  },
  {
   "cell_type": "code",
   "execution_count": 3,
   "metadata": {},
   "outputs": [
    {
     "name": "stdout",
     "output_type": "stream",
     "text": [
      "Informe o primeiro número flutuante: 4.5\n",
      "Informe o segundo número flutuante7.5\n",
      "0.6\n"
     ]
    }
   ],
   "source": [
    "erros()"
   ]
  },
  {
   "cell_type": "code",
   "execution_count": 4,
   "metadata": {},
   "outputs": [
    {
     "name": "stdout",
     "output_type": "stream",
     "text": [
      "Informe o primeiro número flutuante: 6.5\n",
      "Informe o segundo número flutuantea\n",
      "Informe um número válido\n",
      "Index não encontrado\n"
     ]
    }
   ],
   "source": [
    "erros()"
   ]
  },
  {
   "cell_type": "code",
   "execution_count": 11,
   "metadata": {},
   "outputs": [
    {
     "name": "stdout",
     "output_type": "stream",
     "text": [
      "Italo, 8.5\n",
      "\n",
      "Maria, 9.6\n",
      "\n",
      "Carla, 4.5\n",
      "\n",
      "Bruna, 9.6\n",
      "\n",
      "Barb, 4.8\n",
      "\n"
     ]
    }
   ],
   "source": [
    "with open(\"arquivo/arquivo.txt\", \"r\") as txt:\n",
    "    for linha in txt:\n",
    "        print(linha)"
   ]
  },
  {
   "cell_type": "code",
   "execution_count": 8,
   "metadata": {},
   "outputs": [
    {
     "data": {
      "text/plain": [
       "['.ipynb_checkpoints',\n",
       " 'arquivo',\n",
       " 'Exercicios.ipynb',\n",
       " 'meto.py',\n",
       " 'metodos.py',\n",
       " 'n.py',\n",
       " 'Treino_01.ipynb',\n",
       " 'Untitled.ipynb',\n",
       " '__pycache__']"
      ]
     },
     "execution_count": 8,
     "metadata": {},
     "output_type": "execute_result"
    }
   ],
   "source": [
    "import os\n",
    "os.listdir()"
   ]
  },
  {
   "cell_type": "code",
   "execution_count": 10,
   "metadata": {},
   "outputs": [
    {
     "data": {
      "text/plain": [
       "['arquivo.txt']"
      ]
     },
     "execution_count": 10,
     "metadata": {},
     "output_type": "execute_result"
    }
   ],
   "source": [
    "os.listdir(\"arquivo\")"
   ]
  },
  {
   "cell_type": "code",
   "execution_count": 12,
   "metadata": {},
   "outputs": [],
   "source": [
    "with open(\"arquivo/arquivo.txt\") as txt:\n",
    "    r = txt.readlines()"
   ]
  },
  {
   "cell_type": "code",
   "execution_count": 13,
   "metadata": {},
   "outputs": [
    {
     "data": {
      "text/plain": [
       "['Italo, 8.5\\n', 'Maria, 9.6\\n', 'Carla, 4.5\\n', 'Bruna, 9.6\\n', 'Barb, 4.8\\n']"
      ]
     },
     "execution_count": 13,
     "metadata": {},
     "output_type": "execute_result"
    }
   ],
   "source": [
    "r"
   ]
  },
  {
   "cell_type": "code",
   "execution_count": 14,
   "metadata": {},
   "outputs": [
    {
     "data": {
      "text/plain": [
       "'Carla, 4.5\\n'"
      ]
     },
     "execution_count": 14,
     "metadata": {},
     "output_type": "execute_result"
    }
   ],
   "source": [
    "r[2]"
   ]
  },
  {
   "cell_type": "code",
   "execution_count": 15,
   "metadata": {},
   "outputs": [],
   "source": [
    "with open('arquivo/arquivo_2.txt', 'w') as txt:\n",
    "    txt.write(\"Ola a todos\")"
   ]
  },
  {
   "cell_type": "code",
   "execution_count": 16,
   "metadata": {},
   "outputs": [
    {
     "data": {
      "text/plain": [
       "['arquivo.txt', 'arquivo_2.txt']"
      ]
     },
     "execution_count": 16,
     "metadata": {},
     "output_type": "execute_result"
    }
   ],
   "source": [
    "os.listdir('arquivo')"
   ]
  },
  {
   "cell_type": "code",
   "execution_count": 18,
   "metadata": {},
   "outputs": [
    {
     "name": "stdout",
     "output_type": "stream",
     "text": [
      "Ola a todos\n"
     ]
    }
   ],
   "source": [
    "with open('arquivo/arquivo_2.txt', 'r') as txt:\n",
    "    for linha in txt:\n",
    "        print(linha)"
   ]
  },
  {
   "cell_type": "code",
   "execution_count": 9,
   "metadata": {},
   "outputs": [
    {
     "name": "stdout",
     "output_type": "stream",
     "text": [
      "Informe um nome: Maria\n",
      "Informe uma nota: 5.4\n",
      "Informe um nome: Carlos\n",
      "Informe uma nota: 8.7\n",
      "Informe um nome: Kaique\n",
      "Informe uma nota: 5.6\n",
      "Informe um nome: Marta\n",
      "Informe uma nota: 7.6\n",
      "Informe um nome: Barbara\n",
      "Informe uma nota: 8.1\n",
      "Informe um nome: Sam\n",
      "Informe uma nota: 9.5\n",
      "Informe um nome: Luiz\n",
      "Informe uma nota: 4.5\n"
     ]
    }
   ],
   "source": [
    "with open('arquivo/notas.txt', 'w') as txt:\n",
    "    while True:\n",
    "        try:\n",
    "            nome = input(\"Informe um nome: \")\n",
    "            nota = float(input(\"Informe uma nota: \"))\n",
    "            txt.write(f'{nome} : {nota}\\n')\n",
    "        except ValueError:\n",
    "            break\n",
    "            print(\"Valor informado está incorreto\")\n",
    "        except KeyboardInterrupt:\n",
    "            break\n",
    "            print(\"Encerrado pelo usuário\") \n",
    "            \n"
   ]
  },
  {
   "cell_type": "code",
   "execution_count": 10,
   "metadata": {},
   "outputs": [
    {
     "name": "stdout",
     "output_type": "stream",
     "text": [
      "Maria : 5.4\n",
      "\n",
      "Carlos : 8.7\n",
      "\n",
      "Kaique : 5.6\n",
      "\n",
      "Marta : 7.6\n",
      "\n",
      "Barbara : 8.1\n",
      "\n",
      "Sam : 9.5\n",
      "\n",
      "Luiz : 4.5\n",
      "\n"
     ]
    }
   ],
   "source": [
    "with open('arquivo/notas.txt', 'r') as txt:\n",
    "    for linha in txt:\n",
    "        print(linha)"
   ]
  },
  {
   "cell_type": "markdown",
   "metadata": {},
   "source": [
    "# Expressões regulares"
   ]
  },
  {
   "cell_type": "markdown",
   "metadata": {},
   "source": [
    "### Busca sofisticada em string\n",
    "### Procurar todas as palavras que começam com letra maiúscula ou minúscula \n",
    "### Que começam com 'a' e terminam com 'e'\n",
    "### Procurar por e-mail, número de telefone, CEP's e etc"
   ]
  },
  {
   "cell_type": "markdown",
   "metadata": {},
   "source": [
    "### Encontrar as posições de padrões dentro de uma string, se estes estiver presentes (métodos search)\n",
    "### Encontrar se o começo de uma string é igual a um determinado padrão (método match)\n",
    "### Encontrar todas as substrings em uma string que correspondam a um padrão (método findall)"
   ]
  },
  {
   "cell_type": "code",
   "execution_count": null,
   "metadata": {},
   "outputs": [],
   "source": [
    "https://docs.python.org/pt-br/3/library/re.html# Documentação"
   ]
  },
  {
   "cell_type": "code",
   "execution_count": 18,
   "metadata": {},
   "outputs": [],
   "source": [
    "lista = \"\"\"Você nunca atende, você é maluca\n",
    "\n",
    "Mas você nunca me atende\n",
    "Você é maluca e me entende\n",
    "Você é a única que vai ganhar música da minha pessoa pública daqui pra frente\n",
    "Mas você nunca me atende\n",
    "Você é maluca e me entende\n",
    "Você é a única que vai ganhar música da minha pessoa pública daqui pra frente\n",
    "\n",
    "Misturo fogo com gasolina\n",
    "Tô sem minha peita de dar rolê\n",
    "Volto sem peita, eu deixei com a mina\n",
    "Tá com meu cheiro pra tu saber\n",
    "Minha camiseta é a favorita\n",
    "Então você tem que me devolver\n",
    "Tá com meu cheiro na axila\n",
    "Vitória, eu sei qual é o seu segredo\n",
    "Mano, um dia eu fui na Disney\n",
    "O Derek disse pra eu não usar listra\n",
    "Briso amarelo porque combina\n",
    "Algo bem quente num dia cinza\n",
    "Toda essa moda é tão relativa\n",
    "Antes da grana eu pegava mina\n",
    "Com a minha camisa da Maresia\n",
    "O que ela quer é adrenalina\n",
    "\n",
    "Eu tenho um carro, já tive moto\n",
    "Foda-se o topo\n",
    "Não tô por falar quando eu entoco\n",
    "Não dá pra falar que eu não me importo\n",
    "Você é linda, me via em foto\n",
    "Tem uma vírgula no seu corpo\n",
    "Sei que elas dizem que eu não sou santo\n",
    "Eu tô aqui pra botar um ponto\n",
    "Lembra de mim no primeiro encontro?\n",
    "Sei que eu mudei, 'cê num sabe o quanto\n",
    "Mas eu ainda sou o que canto\n",
    "Por isso me encontrou por todo canto\n",
    "É pra você que eu trampo, mas eu preciso de um sindicato\n",
    "Acho que ainda sou só um sujeito\n",
    "Essa canção é meu predicado\n",
    "\n",
    "Mas você nunca me atende\n",
    "Você é maluca e me entende\n",
    "Você é a única que vai ganhar música da minha pessoa pública daqui pra frente\n",
    "Mas você nunca me atende\n",
    "Você é maluca e me entende\n",
    "Você é a única que vai ganhar música da minha pessoa pública daqui pra frente\n",
    "\n",
    "Ei, ei, ei, ei, ei, ei\n",
    "Eu dividi a capa do jornal com a Björk\n",
    "Eu só pude ler no day off\n",
    "Eletros do meu carro no poste\n",
    "Todos querem a chave do cofre\n",
    "A polícia não confia nos jovens\n",
    "Os jovens não confiam em ninguém\n",
    "Nós somos rebeldes\n",
    "Dormi na sua casa de novo\n",
    "Eu sei, você precisa de alguém\n",
    "Me dê mais remédios\n",
    "Me conte segredos\n",
    "\n",
    "Jovens não confiam em ninguém\n",
    "A era do medo, quem me disse foi um bebo no trem\n",
    "Ninguém acredita no bem\n",
    "O mal não é mais um agente secreto\n",
    "Amar é pros fortes\n",
    "Amargo, massa, gado, sorte, o Sol, o sal, tua vida, longa vida boa\n",
    "Chega dessa vida tão corrida, adulta vida cobra, o tempo leva\n",
    "Toda dor embora, tenho ótimas notícias, péssimas memórias\n",
    "Boas histórias são tristes\n",
    "Boas histórias são\n",
    "A gente existe por obrigação e ainda insiste numa ligação\n",
    "\n",
    "Que você nunca atende\n",
    "Você é maluca, me entende\n",
    "Única\"\"\""
   ]
  },
  {
   "cell_type": "code",
   "execution_count": 19,
   "metadata": {},
   "outputs": [],
   "source": [
    "lista = lista.split()"
   ]
  },
  {
   "cell_type": "code",
   "execution_count": 13,
   "metadata": {},
   "outputs": [],
   "source": [
    "from collections import Counter"
   ]
  },
  {
   "cell_type": "code",
   "execution_count": 21,
   "metadata": {},
   "outputs": [
    {
     "data": {
      "text/plain": [
       "['Você',\n",
       " 'nunca',\n",
       " 'atende,',\n",
       " 'você',\n",
       " 'é',\n",
       " 'maluca',\n",
       " 'Mas',\n",
       " 'você',\n",
       " 'nunca',\n",
       " 'me',\n",
       " 'atende',\n",
       " 'Você',\n",
       " 'é',\n",
       " 'maluca',\n",
       " 'e',\n",
       " 'me',\n",
       " 'entende',\n",
       " 'Você',\n",
       " 'é',\n",
       " 'a',\n",
       " 'única',\n",
       " 'que',\n",
       " 'vai',\n",
       " 'ganhar',\n",
       " 'música',\n",
       " 'da',\n",
       " 'minha',\n",
       " 'pessoa',\n",
       " 'pública',\n",
       " 'daqui',\n",
       " 'pra',\n",
       " 'frente',\n",
       " 'Mas',\n",
       " 'você',\n",
       " 'nunca',\n",
       " 'me',\n",
       " 'atende',\n",
       " 'Você',\n",
       " 'é',\n",
       " 'maluca',\n",
       " 'e',\n",
       " 'me',\n",
       " 'entende',\n",
       " 'Você',\n",
       " 'é',\n",
       " 'a',\n",
       " 'única',\n",
       " 'que',\n",
       " 'vai',\n",
       " 'ganhar',\n",
       " 'música',\n",
       " 'da',\n",
       " 'minha',\n",
       " 'pessoa',\n",
       " 'pública',\n",
       " 'daqui',\n",
       " 'pra',\n",
       " 'frente',\n",
       " 'Misturo',\n",
       " 'fogo',\n",
       " 'com',\n",
       " 'gasolina',\n",
       " 'Tô',\n",
       " 'sem',\n",
       " 'minha',\n",
       " 'peita',\n",
       " 'de',\n",
       " 'dar',\n",
       " 'rolê',\n",
       " 'Volto',\n",
       " 'sem',\n",
       " 'peita,',\n",
       " 'eu',\n",
       " 'deixei',\n",
       " 'com',\n",
       " 'a',\n",
       " 'mina',\n",
       " 'Tá',\n",
       " 'com',\n",
       " 'meu',\n",
       " 'cheiro',\n",
       " 'pra',\n",
       " 'tu',\n",
       " 'saber',\n",
       " 'Minha',\n",
       " 'camiseta',\n",
       " 'é',\n",
       " 'a',\n",
       " 'favorita',\n",
       " 'Então',\n",
       " 'você',\n",
       " 'tem',\n",
       " 'que',\n",
       " 'me',\n",
       " 'devolver',\n",
       " 'Tá',\n",
       " 'com',\n",
       " 'meu',\n",
       " 'cheiro',\n",
       " 'na',\n",
       " 'axila',\n",
       " 'Vitória,',\n",
       " 'eu',\n",
       " 'sei',\n",
       " 'qual',\n",
       " 'é',\n",
       " 'o',\n",
       " 'seu',\n",
       " 'segredo',\n",
       " 'Mano,',\n",
       " 'um',\n",
       " 'dia',\n",
       " 'eu',\n",
       " 'fui',\n",
       " 'na',\n",
       " 'Disney',\n",
       " 'O',\n",
       " 'Derek',\n",
       " 'disse',\n",
       " 'pra',\n",
       " 'eu',\n",
       " 'não',\n",
       " 'usar',\n",
       " 'listra',\n",
       " 'Briso',\n",
       " 'amarelo',\n",
       " 'porque',\n",
       " 'combina',\n",
       " 'Algo',\n",
       " 'bem',\n",
       " 'quente',\n",
       " 'num',\n",
       " 'dia',\n",
       " 'cinza',\n",
       " 'Toda',\n",
       " 'essa',\n",
       " 'moda',\n",
       " 'é',\n",
       " 'tão',\n",
       " 'relativa',\n",
       " 'Antes',\n",
       " 'da',\n",
       " 'grana',\n",
       " 'eu',\n",
       " 'pegava',\n",
       " 'mina',\n",
       " 'Com',\n",
       " 'a',\n",
       " 'minha',\n",
       " 'camisa',\n",
       " 'da',\n",
       " 'Maresia',\n",
       " 'O',\n",
       " 'que',\n",
       " 'ela',\n",
       " 'quer',\n",
       " 'é',\n",
       " 'adrenalina',\n",
       " 'Eu',\n",
       " 'tenho',\n",
       " 'um',\n",
       " 'carro,',\n",
       " 'já',\n",
       " 'tive',\n",
       " 'moto',\n",
       " 'Foda-se',\n",
       " 'o',\n",
       " 'topo',\n",
       " 'Não',\n",
       " 'tô',\n",
       " 'por',\n",
       " 'falar',\n",
       " 'quando',\n",
       " 'eu',\n",
       " 'entoco',\n",
       " 'Não',\n",
       " 'dá',\n",
       " 'pra',\n",
       " 'falar',\n",
       " 'que',\n",
       " 'eu',\n",
       " 'não',\n",
       " 'me',\n",
       " 'importo',\n",
       " 'Você',\n",
       " 'é',\n",
       " 'linda,',\n",
       " 'me',\n",
       " 'via',\n",
       " 'em',\n",
       " 'foto',\n",
       " 'Tem',\n",
       " 'uma',\n",
       " 'vírgula',\n",
       " 'no',\n",
       " 'seu',\n",
       " 'corpo',\n",
       " 'Sei',\n",
       " 'que',\n",
       " 'elas',\n",
       " 'dizem',\n",
       " 'que',\n",
       " 'eu',\n",
       " 'não',\n",
       " 'sou',\n",
       " 'santo',\n",
       " 'Eu',\n",
       " 'tô',\n",
       " 'aqui',\n",
       " 'pra',\n",
       " 'botar',\n",
       " 'um',\n",
       " 'ponto',\n",
       " 'Lembra',\n",
       " 'de',\n",
       " 'mim',\n",
       " 'no',\n",
       " 'primeiro',\n",
       " 'encontro?',\n",
       " 'Sei',\n",
       " 'que',\n",
       " 'eu',\n",
       " 'mudei,',\n",
       " \"'cê\",\n",
       " 'num',\n",
       " 'sabe',\n",
       " 'o',\n",
       " 'quanto',\n",
       " 'Mas',\n",
       " 'eu',\n",
       " 'ainda',\n",
       " 'sou',\n",
       " 'o',\n",
       " 'que',\n",
       " 'canto',\n",
       " 'Por',\n",
       " 'isso',\n",
       " 'me',\n",
       " 'encontrou',\n",
       " 'por',\n",
       " 'todo',\n",
       " 'canto',\n",
       " 'É',\n",
       " 'pra',\n",
       " 'você',\n",
       " 'que',\n",
       " 'eu',\n",
       " 'trampo,',\n",
       " 'mas',\n",
       " 'eu',\n",
       " 'preciso',\n",
       " 'de',\n",
       " 'um',\n",
       " 'sindicato',\n",
       " 'Acho',\n",
       " 'que',\n",
       " 'ainda',\n",
       " 'sou',\n",
       " 'só',\n",
       " 'um',\n",
       " 'sujeito',\n",
       " 'Essa',\n",
       " 'canção',\n",
       " 'é',\n",
       " 'meu',\n",
       " 'predicado',\n",
       " 'Mas',\n",
       " 'você',\n",
       " 'nunca',\n",
       " 'me',\n",
       " 'atende',\n",
       " 'Você',\n",
       " 'é',\n",
       " 'maluca',\n",
       " 'e',\n",
       " 'me',\n",
       " 'entende',\n",
       " 'Você',\n",
       " 'é',\n",
       " 'a',\n",
       " 'única',\n",
       " 'que',\n",
       " 'vai',\n",
       " 'ganhar',\n",
       " 'música',\n",
       " 'da',\n",
       " 'minha',\n",
       " 'pessoa',\n",
       " 'pública',\n",
       " 'daqui',\n",
       " 'pra',\n",
       " 'frente',\n",
       " 'Mas',\n",
       " 'você',\n",
       " 'nunca',\n",
       " 'me',\n",
       " 'atende',\n",
       " 'Você',\n",
       " 'é',\n",
       " 'maluca',\n",
       " 'e',\n",
       " 'me',\n",
       " 'entende',\n",
       " 'Você',\n",
       " 'é',\n",
       " 'a',\n",
       " 'única',\n",
       " 'que',\n",
       " 'vai',\n",
       " 'ganhar',\n",
       " 'música',\n",
       " 'da',\n",
       " 'minha',\n",
       " 'pessoa',\n",
       " 'pública',\n",
       " 'daqui',\n",
       " 'pra',\n",
       " 'frente',\n",
       " 'Ei,',\n",
       " 'ei,',\n",
       " 'ei,',\n",
       " 'ei,',\n",
       " 'ei,',\n",
       " 'ei',\n",
       " 'Eu',\n",
       " 'dividi',\n",
       " 'a',\n",
       " 'capa',\n",
       " 'do',\n",
       " 'jornal',\n",
       " 'com',\n",
       " 'a',\n",
       " 'Björk',\n",
       " 'Eu',\n",
       " 'só',\n",
       " 'pude',\n",
       " 'ler',\n",
       " 'no',\n",
       " 'day',\n",
       " 'off',\n",
       " 'Eletros',\n",
       " 'do',\n",
       " 'meu',\n",
       " 'carro',\n",
       " 'no',\n",
       " 'poste',\n",
       " 'Todos',\n",
       " 'querem',\n",
       " 'a',\n",
       " 'chave',\n",
       " 'do',\n",
       " 'cofre',\n",
       " 'A',\n",
       " 'polícia',\n",
       " 'não',\n",
       " 'confia',\n",
       " 'nos',\n",
       " 'jovens',\n",
       " 'Os',\n",
       " 'jovens',\n",
       " 'não',\n",
       " 'confiam',\n",
       " 'em',\n",
       " 'ninguém',\n",
       " 'Nós',\n",
       " 'somos',\n",
       " 'rebeldes',\n",
       " 'Dormi',\n",
       " 'na',\n",
       " 'sua',\n",
       " 'casa',\n",
       " 'de',\n",
       " 'novo',\n",
       " 'Eu',\n",
       " 'sei,',\n",
       " 'você',\n",
       " 'precisa',\n",
       " 'de',\n",
       " 'alguém',\n",
       " 'Me',\n",
       " 'dê',\n",
       " 'mais',\n",
       " 'remédios',\n",
       " 'Me',\n",
       " 'conte',\n",
       " 'segredos',\n",
       " 'Jovens',\n",
       " 'não',\n",
       " 'confiam',\n",
       " 'em',\n",
       " 'ninguém',\n",
       " 'A',\n",
       " 'era',\n",
       " 'do',\n",
       " 'medo,',\n",
       " 'quem',\n",
       " 'me',\n",
       " 'disse',\n",
       " 'foi',\n",
       " 'um',\n",
       " 'bebo',\n",
       " 'no',\n",
       " 'trem',\n",
       " 'Ninguém',\n",
       " 'acredita',\n",
       " 'no',\n",
       " 'bem',\n",
       " 'O',\n",
       " 'mal',\n",
       " 'não',\n",
       " 'é',\n",
       " 'mais',\n",
       " 'um',\n",
       " 'agente',\n",
       " 'secreto',\n",
       " 'Amar',\n",
       " 'é',\n",
       " 'pros',\n",
       " 'fortes',\n",
       " 'Amargo,',\n",
       " 'massa,',\n",
       " 'gado,',\n",
       " 'sorte,',\n",
       " 'o',\n",
       " 'Sol,',\n",
       " 'o',\n",
       " 'sal,',\n",
       " 'tua',\n",
       " 'vida,',\n",
       " 'longa',\n",
       " 'vida',\n",
       " 'boa',\n",
       " 'Chega',\n",
       " 'dessa',\n",
       " 'vida',\n",
       " 'tão',\n",
       " 'corrida,',\n",
       " 'adulta',\n",
       " 'vida',\n",
       " 'cobra,',\n",
       " 'o',\n",
       " 'tempo',\n",
       " 'leva',\n",
       " 'Toda',\n",
       " 'dor',\n",
       " 'embora,',\n",
       " 'tenho',\n",
       " 'ótimas',\n",
       " 'notícias,',\n",
       " 'péssimas',\n",
       " 'memórias',\n",
       " 'Boas',\n",
       " 'histórias',\n",
       " 'são',\n",
       " 'tristes',\n",
       " 'Boas',\n",
       " 'histórias',\n",
       " 'são',\n",
       " 'A',\n",
       " 'gente',\n",
       " 'existe',\n",
       " 'por',\n",
       " 'obrigação',\n",
       " 'e',\n",
       " 'ainda',\n",
       " 'insiste',\n",
       " 'numa',\n",
       " 'ligação',\n",
       " 'Que',\n",
       " 'você',\n",
       " 'nunca',\n",
       " 'atende',\n",
       " 'Você',\n",
       " 'é',\n",
       " 'maluca,',\n",
       " 'me',\n",
       " 'entende',\n",
       " 'Única']"
      ]
     },
     "execution_count": 21,
     "metadata": {},
     "output_type": "execute_result"
    }
   ],
   "source": [
    "lista"
   ]
  },
  {
   "cell_type": "code",
   "execution_count": 24,
   "metadata": {},
   "outputs": [],
   "source": [
    "a = []\n",
    "for i in lista:\n",
    "    a.append(i.lower())"
   ]
  },
  {
   "cell_type": "code",
   "execution_count": 25,
   "metadata": {},
   "outputs": [
    {
     "data": {
      "text/plain": [
       "['você',\n",
       " 'nunca',\n",
       " 'atende,',\n",
       " 'você',\n",
       " 'é',\n",
       " 'maluca',\n",
       " 'mas',\n",
       " 'você',\n",
       " 'nunca',\n",
       " 'me',\n",
       " 'atende',\n",
       " 'você',\n",
       " 'é',\n",
       " 'maluca',\n",
       " 'e',\n",
       " 'me',\n",
       " 'entende',\n",
       " 'você',\n",
       " 'é',\n",
       " 'a',\n",
       " 'única',\n",
       " 'que',\n",
       " 'vai',\n",
       " 'ganhar',\n",
       " 'música',\n",
       " 'da',\n",
       " 'minha',\n",
       " 'pessoa',\n",
       " 'pública',\n",
       " 'daqui',\n",
       " 'pra',\n",
       " 'frente',\n",
       " 'mas',\n",
       " 'você',\n",
       " 'nunca',\n",
       " 'me',\n",
       " 'atende',\n",
       " 'você',\n",
       " 'é',\n",
       " 'maluca',\n",
       " 'e',\n",
       " 'me',\n",
       " 'entende',\n",
       " 'você',\n",
       " 'é',\n",
       " 'a',\n",
       " 'única',\n",
       " 'que',\n",
       " 'vai',\n",
       " 'ganhar',\n",
       " 'música',\n",
       " 'da',\n",
       " 'minha',\n",
       " 'pessoa',\n",
       " 'pública',\n",
       " 'daqui',\n",
       " 'pra',\n",
       " 'frente',\n",
       " 'misturo',\n",
       " 'fogo',\n",
       " 'com',\n",
       " 'gasolina',\n",
       " 'tô',\n",
       " 'sem',\n",
       " 'minha',\n",
       " 'peita',\n",
       " 'de',\n",
       " 'dar',\n",
       " 'rolê',\n",
       " 'volto',\n",
       " 'sem',\n",
       " 'peita,',\n",
       " 'eu',\n",
       " 'deixei',\n",
       " 'com',\n",
       " 'a',\n",
       " 'mina',\n",
       " 'tá',\n",
       " 'com',\n",
       " 'meu',\n",
       " 'cheiro',\n",
       " 'pra',\n",
       " 'tu',\n",
       " 'saber',\n",
       " 'minha',\n",
       " 'camiseta',\n",
       " 'é',\n",
       " 'a',\n",
       " 'favorita',\n",
       " 'então',\n",
       " 'você',\n",
       " 'tem',\n",
       " 'que',\n",
       " 'me',\n",
       " 'devolver',\n",
       " 'tá',\n",
       " 'com',\n",
       " 'meu',\n",
       " 'cheiro',\n",
       " 'na',\n",
       " 'axila',\n",
       " 'vitória,',\n",
       " 'eu',\n",
       " 'sei',\n",
       " 'qual',\n",
       " 'é',\n",
       " 'o',\n",
       " 'seu',\n",
       " 'segredo',\n",
       " 'mano,',\n",
       " 'um',\n",
       " 'dia',\n",
       " 'eu',\n",
       " 'fui',\n",
       " 'na',\n",
       " 'disney',\n",
       " 'o',\n",
       " 'derek',\n",
       " 'disse',\n",
       " 'pra',\n",
       " 'eu',\n",
       " 'não',\n",
       " 'usar',\n",
       " 'listra',\n",
       " 'briso',\n",
       " 'amarelo',\n",
       " 'porque',\n",
       " 'combina',\n",
       " 'algo',\n",
       " 'bem',\n",
       " 'quente',\n",
       " 'num',\n",
       " 'dia',\n",
       " 'cinza',\n",
       " 'toda',\n",
       " 'essa',\n",
       " 'moda',\n",
       " 'é',\n",
       " 'tão',\n",
       " 'relativa',\n",
       " 'antes',\n",
       " 'da',\n",
       " 'grana',\n",
       " 'eu',\n",
       " 'pegava',\n",
       " 'mina',\n",
       " 'com',\n",
       " 'a',\n",
       " 'minha',\n",
       " 'camisa',\n",
       " 'da',\n",
       " 'maresia',\n",
       " 'o',\n",
       " 'que',\n",
       " 'ela',\n",
       " 'quer',\n",
       " 'é',\n",
       " 'adrenalina',\n",
       " 'eu',\n",
       " 'tenho',\n",
       " 'um',\n",
       " 'carro,',\n",
       " 'já',\n",
       " 'tive',\n",
       " 'moto',\n",
       " 'foda-se',\n",
       " 'o',\n",
       " 'topo',\n",
       " 'não',\n",
       " 'tô',\n",
       " 'por',\n",
       " 'falar',\n",
       " 'quando',\n",
       " 'eu',\n",
       " 'entoco',\n",
       " 'não',\n",
       " 'dá',\n",
       " 'pra',\n",
       " 'falar',\n",
       " 'que',\n",
       " 'eu',\n",
       " 'não',\n",
       " 'me',\n",
       " 'importo',\n",
       " 'você',\n",
       " 'é',\n",
       " 'linda,',\n",
       " 'me',\n",
       " 'via',\n",
       " 'em',\n",
       " 'foto',\n",
       " 'tem',\n",
       " 'uma',\n",
       " 'vírgula',\n",
       " 'no',\n",
       " 'seu',\n",
       " 'corpo',\n",
       " 'sei',\n",
       " 'que',\n",
       " 'elas',\n",
       " 'dizem',\n",
       " 'que',\n",
       " 'eu',\n",
       " 'não',\n",
       " 'sou',\n",
       " 'santo',\n",
       " 'eu',\n",
       " 'tô',\n",
       " 'aqui',\n",
       " 'pra',\n",
       " 'botar',\n",
       " 'um',\n",
       " 'ponto',\n",
       " 'lembra',\n",
       " 'de',\n",
       " 'mim',\n",
       " 'no',\n",
       " 'primeiro',\n",
       " 'encontro?',\n",
       " 'sei',\n",
       " 'que',\n",
       " 'eu',\n",
       " 'mudei,',\n",
       " \"'cê\",\n",
       " 'num',\n",
       " 'sabe',\n",
       " 'o',\n",
       " 'quanto',\n",
       " 'mas',\n",
       " 'eu',\n",
       " 'ainda',\n",
       " 'sou',\n",
       " 'o',\n",
       " 'que',\n",
       " 'canto',\n",
       " 'por',\n",
       " 'isso',\n",
       " 'me',\n",
       " 'encontrou',\n",
       " 'por',\n",
       " 'todo',\n",
       " 'canto',\n",
       " 'é',\n",
       " 'pra',\n",
       " 'você',\n",
       " 'que',\n",
       " 'eu',\n",
       " 'trampo,',\n",
       " 'mas',\n",
       " 'eu',\n",
       " 'preciso',\n",
       " 'de',\n",
       " 'um',\n",
       " 'sindicato',\n",
       " 'acho',\n",
       " 'que',\n",
       " 'ainda',\n",
       " 'sou',\n",
       " 'só',\n",
       " 'um',\n",
       " 'sujeito',\n",
       " 'essa',\n",
       " 'canção',\n",
       " 'é',\n",
       " 'meu',\n",
       " 'predicado',\n",
       " 'mas',\n",
       " 'você',\n",
       " 'nunca',\n",
       " 'me',\n",
       " 'atende',\n",
       " 'você',\n",
       " 'é',\n",
       " 'maluca',\n",
       " 'e',\n",
       " 'me',\n",
       " 'entende',\n",
       " 'você',\n",
       " 'é',\n",
       " 'a',\n",
       " 'única',\n",
       " 'que',\n",
       " 'vai',\n",
       " 'ganhar',\n",
       " 'música',\n",
       " 'da',\n",
       " 'minha',\n",
       " 'pessoa',\n",
       " 'pública',\n",
       " 'daqui',\n",
       " 'pra',\n",
       " 'frente',\n",
       " 'mas',\n",
       " 'você',\n",
       " 'nunca',\n",
       " 'me',\n",
       " 'atende',\n",
       " 'você',\n",
       " 'é',\n",
       " 'maluca',\n",
       " 'e',\n",
       " 'me',\n",
       " 'entende',\n",
       " 'você',\n",
       " 'é',\n",
       " 'a',\n",
       " 'única',\n",
       " 'que',\n",
       " 'vai',\n",
       " 'ganhar',\n",
       " 'música',\n",
       " 'da',\n",
       " 'minha',\n",
       " 'pessoa',\n",
       " 'pública',\n",
       " 'daqui',\n",
       " 'pra',\n",
       " 'frente',\n",
       " 'ei,',\n",
       " 'ei,',\n",
       " 'ei,',\n",
       " 'ei,',\n",
       " 'ei,',\n",
       " 'ei',\n",
       " 'eu',\n",
       " 'dividi',\n",
       " 'a',\n",
       " 'capa',\n",
       " 'do',\n",
       " 'jornal',\n",
       " 'com',\n",
       " 'a',\n",
       " 'björk',\n",
       " 'eu',\n",
       " 'só',\n",
       " 'pude',\n",
       " 'ler',\n",
       " 'no',\n",
       " 'day',\n",
       " 'off',\n",
       " 'eletros',\n",
       " 'do',\n",
       " 'meu',\n",
       " 'carro',\n",
       " 'no',\n",
       " 'poste',\n",
       " 'todos',\n",
       " 'querem',\n",
       " 'a',\n",
       " 'chave',\n",
       " 'do',\n",
       " 'cofre',\n",
       " 'a',\n",
       " 'polícia',\n",
       " 'não',\n",
       " 'confia',\n",
       " 'nos',\n",
       " 'jovens',\n",
       " 'os',\n",
       " 'jovens',\n",
       " 'não',\n",
       " 'confiam',\n",
       " 'em',\n",
       " 'ninguém',\n",
       " 'nós',\n",
       " 'somos',\n",
       " 'rebeldes',\n",
       " 'dormi',\n",
       " 'na',\n",
       " 'sua',\n",
       " 'casa',\n",
       " 'de',\n",
       " 'novo',\n",
       " 'eu',\n",
       " 'sei,',\n",
       " 'você',\n",
       " 'precisa',\n",
       " 'de',\n",
       " 'alguém',\n",
       " 'me',\n",
       " 'dê',\n",
       " 'mais',\n",
       " 'remédios',\n",
       " 'me',\n",
       " 'conte',\n",
       " 'segredos',\n",
       " 'jovens',\n",
       " 'não',\n",
       " 'confiam',\n",
       " 'em',\n",
       " 'ninguém',\n",
       " 'a',\n",
       " 'era',\n",
       " 'do',\n",
       " 'medo,',\n",
       " 'quem',\n",
       " 'me',\n",
       " 'disse',\n",
       " 'foi',\n",
       " 'um',\n",
       " 'bebo',\n",
       " 'no',\n",
       " 'trem',\n",
       " 'ninguém',\n",
       " 'acredita',\n",
       " 'no',\n",
       " 'bem',\n",
       " 'o',\n",
       " 'mal',\n",
       " 'não',\n",
       " 'é',\n",
       " 'mais',\n",
       " 'um',\n",
       " 'agente',\n",
       " 'secreto',\n",
       " 'amar',\n",
       " 'é',\n",
       " 'pros',\n",
       " 'fortes',\n",
       " 'amargo,',\n",
       " 'massa,',\n",
       " 'gado,',\n",
       " 'sorte,',\n",
       " 'o',\n",
       " 'sol,',\n",
       " 'o',\n",
       " 'sal,',\n",
       " 'tua',\n",
       " 'vida,',\n",
       " 'longa',\n",
       " 'vida',\n",
       " 'boa',\n",
       " 'chega',\n",
       " 'dessa',\n",
       " 'vida',\n",
       " 'tão',\n",
       " 'corrida,',\n",
       " 'adulta',\n",
       " 'vida',\n",
       " 'cobra,',\n",
       " 'o',\n",
       " 'tempo',\n",
       " 'leva',\n",
       " 'toda',\n",
       " 'dor',\n",
       " 'embora,',\n",
       " 'tenho',\n",
       " 'ótimas',\n",
       " 'notícias,',\n",
       " 'péssimas',\n",
       " 'memórias',\n",
       " 'boas',\n",
       " 'histórias',\n",
       " 'são',\n",
       " 'tristes',\n",
       " 'boas',\n",
       " 'histórias',\n",
       " 'são',\n",
       " 'a',\n",
       " 'gente',\n",
       " 'existe',\n",
       " 'por',\n",
       " 'obrigação',\n",
       " 'e',\n",
       " 'ainda',\n",
       " 'insiste',\n",
       " 'numa',\n",
       " 'ligação',\n",
       " 'que',\n",
       " 'você',\n",
       " 'nunca',\n",
       " 'atende',\n",
       " 'você',\n",
       " 'é',\n",
       " 'maluca,',\n",
       " 'me',\n",
       " 'entende',\n",
       " 'única']"
      ]
     },
     "execution_count": 25,
     "metadata": {},
     "output_type": "execute_result"
    }
   ],
   "source": [
    "a"
   ]
  },
  {
   "cell_type": "code",
   "execution_count": 26,
   "metadata": {},
   "outputs": [],
   "source": [
    "contagem = Counter(a)"
   ]
  },
  {
   "cell_type": "code",
   "execution_count": 27,
   "metadata": {},
   "outputs": [
    {
     "data": {
      "text/plain": [
       "Counter({'você': 20,\n",
       "         'nunca': 6,\n",
       "         'atende,': 1,\n",
       "         'é': 19,\n",
       "         'maluca': 5,\n",
       "         'mas': 6,\n",
       "         'me': 16,\n",
       "         'atende': 5,\n",
       "         'e': 5,\n",
       "         'entende': 5,\n",
       "         'a': 13,\n",
       "         'única': 5,\n",
       "         'que': 14,\n",
       "         'vai': 4,\n",
       "         'ganhar': 4,\n",
       "         'música': 4,\n",
       "         'da': 6,\n",
       "         'minha': 7,\n",
       "         'pessoa': 4,\n",
       "         'pública': 4,\n",
       "         'daqui': 4,\n",
       "         'pra': 9,\n",
       "         'frente': 4,\n",
       "         'misturo': 1,\n",
       "         'fogo': 1,\n",
       "         'com': 6,\n",
       "         'gasolina': 1,\n",
       "         'tô': 3,\n",
       "         'sem': 2,\n",
       "         'peita': 1,\n",
       "         'de': 5,\n",
       "         'dar': 1,\n",
       "         'rolê': 1,\n",
       "         'volto': 1,\n",
       "         'peita,': 1,\n",
       "         'eu': 17,\n",
       "         'deixei': 1,\n",
       "         'mina': 2,\n",
       "         'tá': 2,\n",
       "         'meu': 4,\n",
       "         'cheiro': 2,\n",
       "         'tu': 1,\n",
       "         'saber': 1,\n",
       "         'camiseta': 1,\n",
       "         'favorita': 1,\n",
       "         'então': 1,\n",
       "         'tem': 2,\n",
       "         'devolver': 1,\n",
       "         'na': 3,\n",
       "         'axila': 1,\n",
       "         'vitória,': 1,\n",
       "         'sei': 3,\n",
       "         'qual': 1,\n",
       "         'o': 10,\n",
       "         'seu': 2,\n",
       "         'segredo': 1,\n",
       "         'mano,': 1,\n",
       "         'um': 7,\n",
       "         'dia': 2,\n",
       "         'fui': 1,\n",
       "         'disney': 1,\n",
       "         'derek': 1,\n",
       "         'disse': 2,\n",
       "         'não': 9,\n",
       "         'usar': 1,\n",
       "         'listra': 1,\n",
       "         'briso': 1,\n",
       "         'amarelo': 1,\n",
       "         'porque': 1,\n",
       "         'combina': 1,\n",
       "         'algo': 1,\n",
       "         'bem': 2,\n",
       "         'quente': 1,\n",
       "         'num': 2,\n",
       "         'cinza': 1,\n",
       "         'toda': 2,\n",
       "         'essa': 2,\n",
       "         'moda': 1,\n",
       "         'tão': 2,\n",
       "         'relativa': 1,\n",
       "         'antes': 1,\n",
       "         'grana': 1,\n",
       "         'pegava': 1,\n",
       "         'camisa': 1,\n",
       "         'maresia': 1,\n",
       "         'ela': 1,\n",
       "         'quer': 1,\n",
       "         'adrenalina': 1,\n",
       "         'tenho': 2,\n",
       "         'carro,': 1,\n",
       "         'já': 1,\n",
       "         'tive': 1,\n",
       "         'moto': 1,\n",
       "         'foda-se': 1,\n",
       "         'topo': 1,\n",
       "         'por': 4,\n",
       "         'falar': 2,\n",
       "         'quando': 1,\n",
       "         'entoco': 1,\n",
       "         'dá': 1,\n",
       "         'importo': 1,\n",
       "         'linda,': 1,\n",
       "         'via': 1,\n",
       "         'em': 3,\n",
       "         'foto': 1,\n",
       "         'uma': 1,\n",
       "         'vírgula': 1,\n",
       "         'no': 6,\n",
       "         'corpo': 1,\n",
       "         'elas': 1,\n",
       "         'dizem': 1,\n",
       "         'sou': 3,\n",
       "         'santo': 1,\n",
       "         'aqui': 1,\n",
       "         'botar': 1,\n",
       "         'ponto': 1,\n",
       "         'lembra': 1,\n",
       "         'mim': 1,\n",
       "         'primeiro': 1,\n",
       "         'encontro?': 1,\n",
       "         'mudei,': 1,\n",
       "         \"'cê\": 1,\n",
       "         'sabe': 1,\n",
       "         'quanto': 1,\n",
       "         'ainda': 3,\n",
       "         'canto': 2,\n",
       "         'isso': 1,\n",
       "         'encontrou': 1,\n",
       "         'todo': 1,\n",
       "         'trampo,': 1,\n",
       "         'preciso': 1,\n",
       "         'sindicato': 1,\n",
       "         'acho': 1,\n",
       "         'só': 2,\n",
       "         'sujeito': 1,\n",
       "         'canção': 1,\n",
       "         'predicado': 1,\n",
       "         'ei,': 5,\n",
       "         'ei': 1,\n",
       "         'dividi': 1,\n",
       "         'capa': 1,\n",
       "         'do': 4,\n",
       "         'jornal': 1,\n",
       "         'björk': 1,\n",
       "         'pude': 1,\n",
       "         'ler': 1,\n",
       "         'day': 1,\n",
       "         'off': 1,\n",
       "         'eletros': 1,\n",
       "         'carro': 1,\n",
       "         'poste': 1,\n",
       "         'todos': 1,\n",
       "         'querem': 1,\n",
       "         'chave': 1,\n",
       "         'cofre': 1,\n",
       "         'polícia': 1,\n",
       "         'confia': 1,\n",
       "         'nos': 1,\n",
       "         'jovens': 3,\n",
       "         'os': 1,\n",
       "         'confiam': 2,\n",
       "         'ninguém': 3,\n",
       "         'nós': 1,\n",
       "         'somos': 1,\n",
       "         'rebeldes': 1,\n",
       "         'dormi': 1,\n",
       "         'sua': 1,\n",
       "         'casa': 1,\n",
       "         'novo': 1,\n",
       "         'sei,': 1,\n",
       "         'precisa': 1,\n",
       "         'alguém': 1,\n",
       "         'dê': 1,\n",
       "         'mais': 2,\n",
       "         'remédios': 1,\n",
       "         'conte': 1,\n",
       "         'segredos': 1,\n",
       "         'era': 1,\n",
       "         'medo,': 1,\n",
       "         'quem': 1,\n",
       "         'foi': 1,\n",
       "         'bebo': 1,\n",
       "         'trem': 1,\n",
       "         'acredita': 1,\n",
       "         'mal': 1,\n",
       "         'agente': 1,\n",
       "         'secreto': 1,\n",
       "         'amar': 1,\n",
       "         'pros': 1,\n",
       "         'fortes': 1,\n",
       "         'amargo,': 1,\n",
       "         'massa,': 1,\n",
       "         'gado,': 1,\n",
       "         'sorte,': 1,\n",
       "         'sol,': 1,\n",
       "         'sal,': 1,\n",
       "         'tua': 1,\n",
       "         'vida,': 1,\n",
       "         'longa': 1,\n",
       "         'vida': 3,\n",
       "         'boa': 1,\n",
       "         'chega': 1,\n",
       "         'dessa': 1,\n",
       "         'corrida,': 1,\n",
       "         'adulta': 1,\n",
       "         'cobra,': 1,\n",
       "         'tempo': 1,\n",
       "         'leva': 1,\n",
       "         'dor': 1,\n",
       "         'embora,': 1,\n",
       "         'ótimas': 1,\n",
       "         'notícias,': 1,\n",
       "         'péssimas': 1,\n",
       "         'memórias': 1,\n",
       "         'boas': 2,\n",
       "         'histórias': 2,\n",
       "         'são': 2,\n",
       "         'tristes': 1,\n",
       "         'gente': 1,\n",
       "         'existe': 1,\n",
       "         'obrigação': 1,\n",
       "         'insiste': 1,\n",
       "         'numa': 1,\n",
       "         'ligação': 1,\n",
       "         'maluca,': 1})"
      ]
     },
     "execution_count": 27,
     "metadata": {},
     "output_type": "execute_result"
    }
   ],
   "source": [
    "contagem"
   ]
  },
  {
   "cell_type": "code",
   "execution_count": 30,
   "metadata": {},
   "outputs": [
    {
     "data": {
      "text/plain": [
       "[('você', 20),\n",
       " ('é', 19),\n",
       " ('eu', 17),\n",
       " ('me', 16),\n",
       " ('que', 14),\n",
       " ('a', 13),\n",
       " ('o', 10),\n",
       " ('pra', 9),\n",
       " ('não', 9),\n",
       " ('minha', 7),\n",
       " ('um', 7),\n",
       " ('nunca', 6),\n",
       " ('mas', 6),\n",
       " ('da', 6),\n",
       " ('com', 6),\n",
       " ('no', 6),\n",
       " ('maluca', 5),\n",
       " ('atende', 5),\n",
       " ('e', 5),\n",
       " ('entende', 5),\n",
       " ('única', 5),\n",
       " ('de', 5),\n",
       " ('ei,', 5),\n",
       " ('vai', 4),\n",
       " ('ganhar', 4),\n",
       " ('música', 4),\n",
       " ('pessoa', 4),\n",
       " ('pública', 4),\n",
       " ('daqui', 4),\n",
       " ('frente', 4),\n",
       " ('meu', 4),\n",
       " ('por', 4),\n",
       " ('do', 4),\n",
       " ('tô', 3),\n",
       " ('na', 3),\n",
       " ('sei', 3),\n",
       " ('em', 3),\n",
       " ('sou', 3),\n",
       " ('ainda', 3),\n",
       " ('jovens', 3),\n",
       " ('ninguém', 3),\n",
       " ('vida', 3),\n",
       " ('sem', 2),\n",
       " ('mina', 2),\n",
       " ('tá', 2),\n",
       " ('cheiro', 2),\n",
       " ('tem', 2),\n",
       " ('seu', 2),\n",
       " ('dia', 2),\n",
       " ('disse', 2),\n",
       " ('bem', 2),\n",
       " ('num', 2),\n",
       " ('toda', 2),\n",
       " ('essa', 2),\n",
       " ('tão', 2),\n",
       " ('tenho', 2),\n",
       " ('falar', 2),\n",
       " ('canto', 2),\n",
       " ('só', 2),\n",
       " ('confiam', 2),\n",
       " ('mais', 2),\n",
       " ('boas', 2),\n",
       " ('histórias', 2),\n",
       " ('são', 2),\n",
       " ('atende,', 1),\n",
       " ('misturo', 1),\n",
       " ('fogo', 1),\n",
       " ('gasolina', 1),\n",
       " ('peita', 1),\n",
       " ('dar', 1),\n",
       " ('rolê', 1),\n",
       " ('volto', 1),\n",
       " ('peita,', 1),\n",
       " ('deixei', 1),\n",
       " ('tu', 1),\n",
       " ('saber', 1),\n",
       " ('camiseta', 1),\n",
       " ('favorita', 1),\n",
       " ('então', 1),\n",
       " ('devolver', 1),\n",
       " ('axila', 1),\n",
       " ('vitória,', 1),\n",
       " ('qual', 1),\n",
       " ('segredo', 1),\n",
       " ('mano,', 1),\n",
       " ('fui', 1),\n",
       " ('disney', 1),\n",
       " ('derek', 1),\n",
       " ('usar', 1),\n",
       " ('listra', 1),\n",
       " ('briso', 1),\n",
       " ('amarelo', 1),\n",
       " ('porque', 1),\n",
       " ('combina', 1),\n",
       " ('algo', 1),\n",
       " ('quente', 1),\n",
       " ('cinza', 1),\n",
       " ('moda', 1),\n",
       " ('relativa', 1),\n",
       " ('antes', 1),\n",
       " ('grana', 1),\n",
       " ('pegava', 1),\n",
       " ('camisa', 1),\n",
       " ('maresia', 1),\n",
       " ('ela', 1),\n",
       " ('quer', 1),\n",
       " ('adrenalina', 1),\n",
       " ('carro,', 1),\n",
       " ('já', 1),\n",
       " ('tive', 1),\n",
       " ('moto', 1),\n",
       " ('foda-se', 1),\n",
       " ('topo', 1),\n",
       " ('quando', 1),\n",
       " ('entoco', 1),\n",
       " ('dá', 1),\n",
       " ('importo', 1),\n",
       " ('linda,', 1),\n",
       " ('via', 1),\n",
       " ('foto', 1),\n",
       " ('uma', 1),\n",
       " ('vírgula', 1),\n",
       " ('corpo', 1),\n",
       " ('elas', 1),\n",
       " ('dizem', 1),\n",
       " ('santo', 1),\n",
       " ('aqui', 1),\n",
       " ('botar', 1),\n",
       " ('ponto', 1),\n",
       " ('lembra', 1),\n",
       " ('mim', 1),\n",
       " ('primeiro', 1),\n",
       " ('encontro?', 1),\n",
       " ('mudei,', 1),\n",
       " (\"'cê\", 1),\n",
       " ('sabe', 1),\n",
       " ('quanto', 1),\n",
       " ('isso', 1),\n",
       " ('encontrou', 1),\n",
       " ('todo', 1),\n",
       " ('trampo,', 1),\n",
       " ('preciso', 1),\n",
       " ('sindicato', 1),\n",
       " ('acho', 1),\n",
       " ('sujeito', 1),\n",
       " ('canção', 1),\n",
       " ('predicado', 1),\n",
       " ('ei', 1),\n",
       " ('dividi', 1),\n",
       " ('capa', 1),\n",
       " ('jornal', 1),\n",
       " ('björk', 1),\n",
       " ('pude', 1),\n",
       " ('ler', 1),\n",
       " ('day', 1),\n",
       " ('off', 1),\n",
       " ('eletros', 1),\n",
       " ('carro', 1),\n",
       " ('poste', 1),\n",
       " ('todos', 1),\n",
       " ('querem', 1),\n",
       " ('chave', 1),\n",
       " ('cofre', 1),\n",
       " ('polícia', 1),\n",
       " ('confia', 1),\n",
       " ('nos', 1),\n",
       " ('os', 1),\n",
       " ('nós', 1),\n",
       " ('somos', 1),\n",
       " ('rebeldes', 1),\n",
       " ('dormi', 1),\n",
       " ('sua', 1),\n",
       " ('casa', 1),\n",
       " ('novo', 1),\n",
       " ('sei,', 1),\n",
       " ('precisa', 1),\n",
       " ('alguém', 1),\n",
       " ('dê', 1),\n",
       " ('remédios', 1),\n",
       " ('conte', 1),\n",
       " ('segredos', 1),\n",
       " ('era', 1),\n",
       " ('medo,', 1),\n",
       " ('quem', 1),\n",
       " ('foi', 1),\n",
       " ('bebo', 1),\n",
       " ('trem', 1),\n",
       " ('acredita', 1),\n",
       " ('mal', 1),\n",
       " ('agente', 1),\n",
       " ('secreto', 1),\n",
       " ('amar', 1),\n",
       " ('pros', 1),\n",
       " ('fortes', 1),\n",
       " ('amargo,', 1),\n",
       " ('massa,', 1),\n",
       " ('gado,', 1),\n",
       " ('sorte,', 1),\n",
       " ('sol,', 1),\n",
       " ('sal,', 1),\n",
       " ('tua', 1),\n",
       " ('vida,', 1),\n",
       " ('longa', 1),\n",
       " ('boa', 1),\n",
       " ('chega', 1),\n",
       " ('dessa', 1),\n",
       " ('corrida,', 1),\n",
       " ('adulta', 1),\n",
       " ('cobra,', 1),\n",
       " ('tempo', 1),\n",
       " ('leva', 1),\n",
       " ('dor', 1),\n",
       " ('embora,', 1),\n",
       " ('ótimas', 1),\n",
       " ('notícias,', 1),\n",
       " ('péssimas', 1),\n",
       " ('memórias', 1),\n",
       " ('tristes', 1),\n",
       " ('gente', 1),\n",
       " ('existe', 1),\n",
       " ('obrigação', 1),\n",
       " ('insiste', 1),\n",
       " ('numa', 1),\n",
       " ('ligação', 1),\n",
       " ('maluca,', 1)]"
      ]
     },
     "execution_count": 30,
     "metadata": {},
     "output_type": "execute_result"
    }
   ],
   "source": [
    "contagem.most_common()"
   ]
  },
  {
   "cell_type": "code",
   "execution_count": null,
   "metadata": {},
   "outputs": [],
   "source": [
    "## Metacaracteres\n",
    "\n",
    ".- - Qualquer caractere (exceto linha nova)\n",
    "\\w - Qualquer caracterealfanumérico\n",
    "\\W - Qualquer caractere não-alfanúmerico\n",
    "\\d - Qualquer caractere que seja um dígito (0, 9)\n",
    "\\D - Qualquer caractere que não seja um dígito\n",
    "\\s - Espaço em branco\n",
    "^- - Começa com\n",
    "$  - Termina com\n",
    "\"\\\" - Usado antes de metacaracteres por especificar letra"
   ]
  },
  {
   "cell_type": "code",
   "execution_count": null,
   "metadata": {},
   "outputs": [],
   "source": [
    "## Quantificadores\n",
    "\n",
    "Permitem determinar como e quantas vezes os metacaracteres aparecem\n",
    "\n",
    "[] - Opcional entre os que estão dentro dos colchetes\n",
    "() - Captura grupos de caracteres\n",
    "*- - de zero a mais vezes\n",
    "? - Zero ou uma vez\n",
    "+ - uma ou mais vezes\n",
    "{m,n} - de m a n vezes\n",
    "| - OU"
   ]
  },
  {
   "cell_type": "code",
   "execution_count": null,
   "metadata": {},
   "outputs": [],
   "source": [
    "gabiel.luis@gmail.com\n",
    "marta_futblk@gmail.com\n",
    "carlos_kaio@gmail.com\n",
    "\n",
    "#Expressões regulares que detecta e-mail\n",
    "\n",
    "\\w+@\\w+\\.w+"
   ]
  },
  {
   "cell_type": "markdown",
   "metadata": {},
   "source": [
    "## Função search"
   ]
  },
  {
   "cell_type": "code",
   "execution_count": 41,
   "metadata": {},
   "outputs": [],
   "source": [
    "import re"
   ]
  },
  {
   "cell_type": "code",
   "execution_count": 42,
   "metadata": {},
   "outputs": [],
   "source": [
    "frase = 'Ola, meu número de telefone é (43)98545-9858'"
   ]
  },
  {
   "cell_type": "code",
   "execution_count": 43,
   "metadata": {},
   "outputs": [
    {
     "data": {
      "text/plain": [
       "<re.Match object; span=(30, 44), match='(43)98545-9858'>"
      ]
     },
     "execution_count": 43,
     "metadata": {},
     "output_type": "execute_result"
    }
   ],
   "source": [
    "re.search('\\(\\d{2}\\)\\d{4,5}-\\d{4}', frase)"
   ]
  },
  {
   "cell_type": "code",
   "execution_count": 54,
   "metadata": {},
   "outputs": [],
   "source": [
    "email = \" Meu email é kaique_luix1997@gmail.com\""
   ]
  },
  {
   "cell_type": "code",
   "execution_count": 48,
   "metadata": {},
   "outputs": [],
   "source": [
    "frase = 'A placa do carro é PRT-8456'"
   ]
  },
  {
   "cell_type": "code",
   "execution_count": 49,
   "metadata": {},
   "outputs": [
    {
     "data": {
      "text/plain": [
       "<re.Match object; span=(19, 27), match='PRT-8456'>"
      ]
     },
     "execution_count": 49,
     "metadata": {},
     "output_type": "execute_result"
    }
   ],
   "source": [
    "re.search('[A-Z]{3}-\\d{4}', frase)"
   ]
  },
  {
   "cell_type": "code",
   "execution_count": 51,
   "metadata": {},
   "outputs": [
    {
     "data": {
      "text/plain": [
       "<re.Match object; span=(19, 27), match='PRT-8456'>"
      ]
     },
     "execution_count": 51,
     "metadata": {},
     "output_type": "execute_result"
    }
   ],
   "source": [
    "re.search('[A-Za-z]{3}-\\d{4}', frase)"
   ]
  },
  {
   "cell_type": "code",
   "execution_count": 55,
   "metadata": {},
   "outputs": [
    {
     "data": {
      "text/plain": [
       "<re.Match object; span=(13, 35), match='kaique_luix1997@gmail.'>"
      ]
     },
     "execution_count": 55,
     "metadata": {},
     "output_type": "execute_result"
    }
   ],
   "source": [
    "re.search('\\w+@\\w+\\.', email)"
   ]
  },
  {
   "cell_type": "markdown",
   "metadata": {},
   "source": [
    "## Função match"
   ]
  },
  {
   "cell_type": "markdown",
   "metadata": {},
   "source": [
    "Verifica se uma expressão regular está no ínicio de um texto"
   ]
  },
  {
   "cell_type": "code",
   "execution_count": 56,
   "metadata": {},
   "outputs": [
    {
     "name": "stdout",
     "output_type": "stream",
     "text": [
      "None\n"
     ]
    }
   ],
   "source": [
    "print(re.match('[A-Z]{3}-\\d{4}', frase)) #Esse padrão não está no ínicio da string "
   ]
  },
  {
   "cell_type": "code",
   "execution_count": 60,
   "metadata": {},
   "outputs": [],
   "source": [
    "frase2 = 'PRT-5584 está é a placa'"
   ]
  },
  {
   "cell_type": "code",
   "execution_count": 61,
   "metadata": {},
   "outputs": [
    {
     "name": "stdout",
     "output_type": "stream",
     "text": [
      "<re.Match object; span=(0, 8), match='PRT-5584'>\n"
     ]
    }
   ],
   "source": [
    "print(re.match('[A-Z]{3}-\\d{4}', frase2)) #Esse padrão está no ínicio da string "
   ]
  },
  {
   "cell_type": "markdown",
   "metadata": {},
   "source": [
    "## Função findall"
   ]
  },
  {
   "cell_type": "code",
   "execution_count": null,
   "metadata": {},
   "outputs": [],
   "source": [
    "## Encontra várias ocorrencias de um padrão"
   ]
  },
  {
   "cell_type": "code",
   "execution_count": 62,
   "metadata": {},
   "outputs": [],
   "source": [
    "frase3 = 'Meu número de telefone atual é (62)98452-9865, o antigo era (62)98412-6588'"
   ]
  },
  {
   "cell_type": "code",
   "execution_count": 66,
   "metadata": {},
   "outputs": [
    {
     "data": {
      "text/plain": [
       "['(62)98452-9865', '(62)98412-6588']"
      ]
     },
     "execution_count": 66,
     "metadata": {},
     "output_type": "execute_result"
    }
   ],
   "source": [
    "re.findall('\\(\\d{2}\\)\\d{4,5}-\\d{4}', frase3)"
   ]
  },
  {
   "cell_type": "code",
   "execution_count": 67,
   "metadata": {},
   "outputs": [],
   "source": [
    "email = '''\n",
    "email: testeyitr@gmail.com\n",
    "email: None\n",
    "email: kaiquetrp@gmail.com\n",
    "email: carlos1998@gmail.com\n",
    "email: barbara_silva89@gmail.com\n",
    "email: maria_limas@gmail.com\n",
    "'''"
   ]
  },
  {
   "cell_type": "code",
   "execution_count": 73,
   "metadata": {},
   "outputs": [],
   "source": [
    "lista_email = re.findall('\\w+@\\w+\\.\\w*', email) #* Significa que pode aparecer uma ou varias vezes"
   ]
  },
  {
   "cell_type": "code",
   "execution_count": 74,
   "metadata": {},
   "outputs": [
    {
     "data": {
      "text/plain": [
       "['testeyitr@gmail.com',\n",
       " 'kaiquetrp@gmail.com',\n",
       " 'carlos1998@gmail.com',\n",
       " 'barbara_silva89@gmail.com',\n",
       " 'maria_limas@gmail.com']"
      ]
     },
     "execution_count": 74,
     "metadata": {},
     "output_type": "execute_result"
    }
   ],
   "source": [
    "lista_email"
   ]
  },
  {
   "cell_type": "code",
   "execution_count": 75,
   "metadata": {},
   "outputs": [
    {
     "data": {
      "text/plain": [
       "['A',\n",
       " 'ASCII',\n",
       " 'DEBUG',\n",
       " 'DOTALL',\n",
       " 'I',\n",
       " 'IGNORECASE',\n",
       " 'L',\n",
       " 'LOCALE',\n",
       " 'M',\n",
       " 'MULTILINE',\n",
       " 'Match',\n",
       " 'Pattern',\n",
       " 'RegexFlag',\n",
       " 'S',\n",
       " 'Scanner',\n",
       " 'T',\n",
       " 'TEMPLATE',\n",
       " 'U',\n",
       " 'UNICODE',\n",
       " 'VERBOSE',\n",
       " 'X',\n",
       " '_MAXCACHE',\n",
       " '__all__',\n",
       " '__builtins__',\n",
       " '__cached__',\n",
       " '__doc__',\n",
       " '__file__',\n",
       " '__loader__',\n",
       " '__name__',\n",
       " '__package__',\n",
       " '__spec__',\n",
       " '__version__',\n",
       " '_cache',\n",
       " '_compile',\n",
       " '_compile_repl',\n",
       " '_expand',\n",
       " '_locale',\n",
       " '_pickle',\n",
       " '_special_chars_map',\n",
       " '_subx',\n",
       " 'compile',\n",
       " 'copyreg',\n",
       " 'enum',\n",
       " 'error',\n",
       " 'escape',\n",
       " 'findall',\n",
       " 'finditer',\n",
       " 'fullmatch',\n",
       " 'functools',\n",
       " 'match',\n",
       " 'purge',\n",
       " 'search',\n",
       " 'split',\n",
       " 'sre_compile',\n",
       " 'sre_parse',\n",
       " 'sub',\n",
       " 'subn',\n",
       " 'template']"
      ]
     },
     "execution_count": 75,
     "metadata": {},
     "output_type": "execute_result"
    }
   ],
   "source": [
    "dir(re)"
   ]
  },
  {
   "cell_type": "code",
   "execution_count": 76,
   "metadata": {},
   "outputs": [
    {
     "data": {
      "text/plain": [
       "['Você',\n",
       " 'nunca',\n",
       " 'atende,',\n",
       " 'você',\n",
       " 'é',\n",
       " 'maluca',\n",
       " 'Mas',\n",
       " 'você',\n",
       " 'nunca',\n",
       " 'me',\n",
       " 'atende',\n",
       " 'Você',\n",
       " 'é',\n",
       " 'maluca',\n",
       " 'e',\n",
       " 'me',\n",
       " 'entende',\n",
       " 'Você',\n",
       " 'é',\n",
       " 'a',\n",
       " 'única',\n",
       " 'que',\n",
       " 'vai',\n",
       " 'ganhar',\n",
       " 'música',\n",
       " 'da',\n",
       " 'minha',\n",
       " 'pessoa',\n",
       " 'pública',\n",
       " 'daqui',\n",
       " 'pra',\n",
       " 'frente',\n",
       " 'Mas',\n",
       " 'você',\n",
       " 'nunca',\n",
       " 'me',\n",
       " 'atende',\n",
       " 'Você',\n",
       " 'é',\n",
       " 'maluca',\n",
       " 'e',\n",
       " 'me',\n",
       " 'entende',\n",
       " 'Você',\n",
       " 'é',\n",
       " 'a',\n",
       " 'única',\n",
       " 'que',\n",
       " 'vai',\n",
       " 'ganhar',\n",
       " 'música',\n",
       " 'da',\n",
       " 'minha',\n",
       " 'pessoa',\n",
       " 'pública',\n",
       " 'daqui',\n",
       " 'pra',\n",
       " 'frente',\n",
       " 'Misturo',\n",
       " 'fogo',\n",
       " 'com',\n",
       " 'gasolina',\n",
       " 'Tô',\n",
       " 'sem',\n",
       " 'minha',\n",
       " 'peita',\n",
       " 'de',\n",
       " 'dar',\n",
       " 'rolê',\n",
       " 'Volto',\n",
       " 'sem',\n",
       " 'peita,',\n",
       " 'eu',\n",
       " 'deixei',\n",
       " 'com',\n",
       " 'a',\n",
       " 'mina',\n",
       " 'Tá',\n",
       " 'com',\n",
       " 'meu',\n",
       " 'cheiro',\n",
       " 'pra',\n",
       " 'tu',\n",
       " 'saber',\n",
       " 'Minha',\n",
       " 'camiseta',\n",
       " 'é',\n",
       " 'a',\n",
       " 'favorita',\n",
       " 'Então',\n",
       " 'você',\n",
       " 'tem',\n",
       " 'que',\n",
       " 'me',\n",
       " 'devolver',\n",
       " 'Tá',\n",
       " 'com',\n",
       " 'meu',\n",
       " 'cheiro',\n",
       " 'na',\n",
       " 'axila',\n",
       " 'Vitória,',\n",
       " 'eu',\n",
       " 'sei',\n",
       " 'qual',\n",
       " 'é',\n",
       " 'o',\n",
       " 'seu',\n",
       " 'segredo',\n",
       " 'Mano,',\n",
       " 'um',\n",
       " 'dia',\n",
       " 'eu',\n",
       " 'fui',\n",
       " 'na',\n",
       " 'Disney',\n",
       " 'O',\n",
       " 'Derek',\n",
       " 'disse',\n",
       " 'pra',\n",
       " 'eu',\n",
       " 'não',\n",
       " 'usar',\n",
       " 'listra',\n",
       " 'Briso',\n",
       " 'amarelo',\n",
       " 'porque',\n",
       " 'combina',\n",
       " 'Algo',\n",
       " 'bem',\n",
       " 'quente',\n",
       " 'num',\n",
       " 'dia',\n",
       " 'cinza',\n",
       " 'Toda',\n",
       " 'essa',\n",
       " 'moda',\n",
       " 'é',\n",
       " 'tão',\n",
       " 'relativa',\n",
       " 'Antes',\n",
       " 'da',\n",
       " 'grana',\n",
       " 'eu',\n",
       " 'pegava',\n",
       " 'mina',\n",
       " 'Com',\n",
       " 'a',\n",
       " 'minha',\n",
       " 'camisa',\n",
       " 'da',\n",
       " 'Maresia',\n",
       " 'O',\n",
       " 'que',\n",
       " 'ela',\n",
       " 'quer',\n",
       " 'é',\n",
       " 'adrenalina',\n",
       " 'Eu',\n",
       " 'tenho',\n",
       " 'um',\n",
       " 'carro,',\n",
       " 'já',\n",
       " 'tive',\n",
       " 'moto',\n",
       " 'Foda-se',\n",
       " 'o',\n",
       " 'topo',\n",
       " 'Não',\n",
       " 'tô',\n",
       " 'por',\n",
       " 'falar',\n",
       " 'quando',\n",
       " 'eu',\n",
       " 'entoco',\n",
       " 'Não',\n",
       " 'dá',\n",
       " 'pra',\n",
       " 'falar',\n",
       " 'que',\n",
       " 'eu',\n",
       " 'não',\n",
       " 'me',\n",
       " 'importo',\n",
       " 'Você',\n",
       " 'é',\n",
       " 'linda,',\n",
       " 'me',\n",
       " 'via',\n",
       " 'em',\n",
       " 'foto',\n",
       " 'Tem',\n",
       " 'uma',\n",
       " 'vírgula',\n",
       " 'no',\n",
       " 'seu',\n",
       " 'corpo',\n",
       " 'Sei',\n",
       " 'que',\n",
       " 'elas',\n",
       " 'dizem',\n",
       " 'que',\n",
       " 'eu',\n",
       " 'não',\n",
       " 'sou',\n",
       " 'santo',\n",
       " 'Eu',\n",
       " 'tô',\n",
       " 'aqui',\n",
       " 'pra',\n",
       " 'botar',\n",
       " 'um',\n",
       " 'ponto',\n",
       " 'Lembra',\n",
       " 'de',\n",
       " 'mim',\n",
       " 'no',\n",
       " 'primeiro',\n",
       " 'encontro?',\n",
       " 'Sei',\n",
       " 'que',\n",
       " 'eu',\n",
       " 'mudei,',\n",
       " \"'cê\",\n",
       " 'num',\n",
       " 'sabe',\n",
       " 'o',\n",
       " 'quanto',\n",
       " 'Mas',\n",
       " 'eu',\n",
       " 'ainda',\n",
       " 'sou',\n",
       " 'o',\n",
       " 'que',\n",
       " 'canto',\n",
       " 'Por',\n",
       " 'isso',\n",
       " 'me',\n",
       " 'encontrou',\n",
       " 'por',\n",
       " 'todo',\n",
       " 'canto',\n",
       " 'É',\n",
       " 'pra',\n",
       " 'você',\n",
       " 'que',\n",
       " 'eu',\n",
       " 'trampo,',\n",
       " 'mas',\n",
       " 'eu',\n",
       " 'preciso',\n",
       " 'de',\n",
       " 'um',\n",
       " 'sindicato',\n",
       " 'Acho',\n",
       " 'que',\n",
       " 'ainda',\n",
       " 'sou',\n",
       " 'só',\n",
       " 'um',\n",
       " 'sujeito',\n",
       " 'Essa',\n",
       " 'canção',\n",
       " 'é',\n",
       " 'meu',\n",
       " 'predicado',\n",
       " 'Mas',\n",
       " 'você',\n",
       " 'nunca',\n",
       " 'me',\n",
       " 'atende',\n",
       " 'Você',\n",
       " 'é',\n",
       " 'maluca',\n",
       " 'e',\n",
       " 'me',\n",
       " 'entende',\n",
       " 'Você',\n",
       " 'é',\n",
       " 'a',\n",
       " 'única',\n",
       " 'que',\n",
       " 'vai',\n",
       " 'ganhar',\n",
       " 'música',\n",
       " 'da',\n",
       " 'minha',\n",
       " 'pessoa',\n",
       " 'pública',\n",
       " 'daqui',\n",
       " 'pra',\n",
       " 'frente',\n",
       " 'Mas',\n",
       " 'você',\n",
       " 'nunca',\n",
       " 'me',\n",
       " 'atende',\n",
       " 'Você',\n",
       " 'é',\n",
       " 'maluca',\n",
       " 'e',\n",
       " 'me',\n",
       " 'entende',\n",
       " 'Você',\n",
       " 'é',\n",
       " 'a',\n",
       " 'única',\n",
       " 'que',\n",
       " 'vai',\n",
       " 'ganhar',\n",
       " 'música',\n",
       " 'da',\n",
       " 'minha',\n",
       " 'pessoa',\n",
       " 'pública',\n",
       " 'daqui',\n",
       " 'pra',\n",
       " 'frente',\n",
       " 'Ei,',\n",
       " 'ei,',\n",
       " 'ei,',\n",
       " 'ei,',\n",
       " 'ei,',\n",
       " 'ei',\n",
       " 'Eu',\n",
       " 'dividi',\n",
       " 'a',\n",
       " 'capa',\n",
       " 'do',\n",
       " 'jornal',\n",
       " 'com',\n",
       " 'a',\n",
       " 'Björk',\n",
       " 'Eu',\n",
       " 'só',\n",
       " 'pude',\n",
       " 'ler',\n",
       " 'no',\n",
       " 'day',\n",
       " 'off',\n",
       " 'Eletros',\n",
       " 'do',\n",
       " 'meu',\n",
       " 'carro',\n",
       " 'no',\n",
       " 'poste',\n",
       " 'Todos',\n",
       " 'querem',\n",
       " 'a',\n",
       " 'chave',\n",
       " 'do',\n",
       " 'cofre',\n",
       " 'A',\n",
       " 'polícia',\n",
       " 'não',\n",
       " 'confia',\n",
       " 'nos',\n",
       " 'jovens',\n",
       " 'Os',\n",
       " 'jovens',\n",
       " 'não',\n",
       " 'confiam',\n",
       " 'em',\n",
       " 'ninguém',\n",
       " 'Nós',\n",
       " 'somos',\n",
       " 'rebeldes',\n",
       " 'Dormi',\n",
       " 'na',\n",
       " 'sua',\n",
       " 'casa',\n",
       " 'de',\n",
       " 'novo',\n",
       " 'Eu',\n",
       " 'sei,',\n",
       " 'você',\n",
       " 'precisa',\n",
       " 'de',\n",
       " 'alguém',\n",
       " 'Me',\n",
       " 'dê',\n",
       " 'mais',\n",
       " 'remédios',\n",
       " 'Me',\n",
       " 'conte',\n",
       " 'segredos',\n",
       " 'Jovens',\n",
       " 'não',\n",
       " 'confiam',\n",
       " 'em',\n",
       " 'ninguém',\n",
       " 'A',\n",
       " 'era',\n",
       " 'do',\n",
       " 'medo,',\n",
       " 'quem',\n",
       " 'me',\n",
       " 'disse',\n",
       " 'foi',\n",
       " 'um',\n",
       " 'bebo',\n",
       " 'no',\n",
       " 'trem',\n",
       " 'Ninguém',\n",
       " 'acredita',\n",
       " 'no',\n",
       " 'bem',\n",
       " 'O',\n",
       " 'mal',\n",
       " 'não',\n",
       " 'é',\n",
       " 'mais',\n",
       " 'um',\n",
       " 'agente',\n",
       " 'secreto',\n",
       " 'Amar',\n",
       " 'é',\n",
       " 'pros',\n",
       " 'fortes',\n",
       " 'Amargo,',\n",
       " 'massa,',\n",
       " 'gado,',\n",
       " 'sorte,',\n",
       " 'o',\n",
       " 'Sol,',\n",
       " 'o',\n",
       " 'sal,',\n",
       " 'tua',\n",
       " 'vida,',\n",
       " 'longa',\n",
       " 'vida',\n",
       " 'boa',\n",
       " 'Chega',\n",
       " 'dessa',\n",
       " 'vida',\n",
       " 'tão',\n",
       " 'corrida,',\n",
       " 'adulta',\n",
       " 'vida',\n",
       " 'cobra,',\n",
       " 'o',\n",
       " 'tempo',\n",
       " 'leva',\n",
       " 'Toda',\n",
       " 'dor',\n",
       " 'embora,',\n",
       " 'tenho',\n",
       " 'ótimas',\n",
       " 'notícias,',\n",
       " 'péssimas',\n",
       " 'memórias',\n",
       " 'Boas',\n",
       " 'histórias',\n",
       " 'são',\n",
       " 'tristes',\n",
       " 'Boas',\n",
       " 'histórias',\n",
       " 'são',\n",
       " 'A',\n",
       " 'gente',\n",
       " 'existe',\n",
       " 'por',\n",
       " 'obrigação',\n",
       " 'e',\n",
       " 'ainda',\n",
       " 'insiste',\n",
       " 'numa',\n",
       " 'ligação',\n",
       " 'Que',\n",
       " 'você',\n",
       " 'nunca',\n",
       " 'atende',\n",
       " 'Você',\n",
       " 'é',\n",
       " 'maluca,',\n",
       " 'me',\n",
       " 'entende',\n",
       " 'Única']"
      ]
     },
     "execution_count": 76,
     "metadata": {},
     "output_type": "execute_result"
    }
   ],
   "source": [
    "lista"
   ]
  },
  {
   "cell_type": "code",
   "execution_count": 84,
   "metadata": {},
   "outputs": [],
   "source": [
    "lista = [\"nome1@dominio.com\", \"nome2@dominio.com\", \"nome3@dominio.com\", \"nome4@dominio.com\", \"nome5@dominio.com\",\n",
    "          \"nome6@dominio.com\", \"nome7@dominio.com\", \"nome8@dominio.com\", \"nome9@dominio.com\", \"nome10@dominio.com\",\n",
    "          \"nome11@dominio.com\", \"nome12@dominio.com\", \"nome13@dominio.com\", \"nome14@dominio.com\", \"nome15@dominio.com\",\n",
    "          \"nome16@dominio.com\", \"nome17@dominio.com\", \"nome18@dominio.com\", \"nome19@dominio.com\", \"nome20@dominio.com\",\n",
    "          \"nome21@dominio.com\", \"nome22@dominio.com\", \"nome23@dominio.com\", \"nome24@dominio.com\", \"nome25@dominio.com\",\n",
    "          \"nome26@dominio.com\", \"nome27@dominio.com\", \"nome28@dominio.com\", \"nome29@dominio.com\", \"nome30@dominio.com\",\n",
    "          \"nome31@dominio.com\", \"nome32@dominio.com\", \"nome33@dominio.com\", \"nome34@dominio.com\", \"nome35@dominio.com\",\n",
    "          \"nome36@dominio.com\", \"nome37@dominio.com\", \"nome38@dominio.com\", \"nome39@dominio.com\", \"nome40@dominio.com\",\n",
    "          \"nome41@dominio.com\", \"nome42@dominio.com\", \"nome43@dominio.com\", \"nome44@dominio.com\", \"nome45@dominio.com\",\n",
    "          \"nome46@dominio.com\", \"nome47@dominio.com\", \"nome48@dominio.com\", \"nome49@dominio.com\", \"nome50@dominio.com\"]\n"
   ]
  },
  {
   "cell_type": "code",
   "execution_count": 85,
   "metadata": {},
   "outputs": [
    {
     "data": {
      "text/plain": [
       "['nome1@dominio.com',\n",
       " 'nome2@dominio.com',\n",
       " 'nome3@dominio.com',\n",
       " 'nome4@dominio.com',\n",
       " 'nome5@dominio.com',\n",
       " 'nome6@dominio.com',\n",
       " 'nome7@dominio.com',\n",
       " 'nome8@dominio.com',\n",
       " 'nome9@dominio.com',\n",
       " 'nome10@dominio.com',\n",
       " 'nome11@dominio.com',\n",
       " 'nome12@dominio.com',\n",
       " 'nome13@dominio.com',\n",
       " 'nome14@dominio.com',\n",
       " 'nome15@dominio.com',\n",
       " 'nome16@dominio.com',\n",
       " 'nome17@dominio.com',\n",
       " 'nome18@dominio.com',\n",
       " 'nome19@dominio.com',\n",
       " 'nome20@dominio.com',\n",
       " 'nome21@dominio.com',\n",
       " 'nome22@dominio.com',\n",
       " 'nome23@dominio.com',\n",
       " 'nome24@dominio.com',\n",
       " 'nome25@dominio.com',\n",
       " 'nome26@dominio.com',\n",
       " 'nome27@dominio.com',\n",
       " 'nome28@dominio.com',\n",
       " 'nome29@dominio.com',\n",
       " 'nome30@dominio.com',\n",
       " 'nome31@dominio.com',\n",
       " 'nome32@dominio.com',\n",
       " 'nome33@dominio.com',\n",
       " 'nome34@dominio.com',\n",
       " 'nome35@dominio.com',\n",
       " 'nome36@dominio.com',\n",
       " 'nome37@dominio.com',\n",
       " 'nome38@dominio.com',\n",
       " 'nome39@dominio.com',\n",
       " 'nome40@dominio.com',\n",
       " 'nome41@dominio.com',\n",
       " 'nome42@dominio.com',\n",
       " 'nome43@dominio.com',\n",
       " 'nome44@dominio.com',\n",
       " 'nome45@dominio.com',\n",
       " 'nome46@dominio.com',\n",
       " 'nome47@dominio.com',\n",
       " 'nome48@dominio.com',\n",
       " 'nome49@dominio.com',\n",
       " 'nome50@dominio.com']"
      ]
     },
     "execution_count": 85,
     "metadata": {},
     "output_type": "execute_result"
    }
   ],
   "source": [
    "lista"
   ]
  },
  {
   "cell_type": "code",
   "execution_count": 89,
   "metadata": {},
   "outputs": [
    {
     "ename": "TypeError",
     "evalue": "expected string or bytes-like object",
     "output_type": "error",
     "traceback": [
      "\u001b[1;31m---------------------------------------------------------------------------\u001b[0m",
      "\u001b[1;31mTypeError\u001b[0m                                 Traceback (most recent call last)",
      "Cell \u001b[1;32mIn[89], line 1\u001b[0m\n\u001b[1;32m----> 1\u001b[0m \u001b[38;5;28mprint\u001b[39m(\u001b[43mre\u001b[49m\u001b[38;5;241;43m.\u001b[39;49m\u001b[43mfindall\u001b[49m\u001b[43m(\u001b[49m\u001b[38;5;124;43m'\u001b[39;49m\u001b[38;5;124;43m\\\u001b[39;49m\u001b[38;5;124;43m@\u001b[39;49m\u001b[38;5;124;43m\\\u001b[39;49m\u001b[38;5;124;43mw+\u001b[39;49m\u001b[38;5;124;43m'\u001b[39;49m\u001b[43m,\u001b[49m\u001b[43m \u001b[49m\u001b[43mlista\u001b[49m\u001b[43m)\u001b[49m)\n",
      "File \u001b[1;32m~\\AppData\\Local\\anaconda3\\lib\\re.py:240\u001b[0m, in \u001b[0;36mfindall\u001b[1;34m(pattern, string, flags)\u001b[0m\n\u001b[0;32m    232\u001b[0m \u001b[38;5;28;01mdef\u001b[39;00m \u001b[38;5;21mfindall\u001b[39m(pattern, string, flags\u001b[38;5;241m=\u001b[39m\u001b[38;5;241m0\u001b[39m):\n\u001b[0;32m    233\u001b[0m     \u001b[38;5;124;03m\"\"\"Return a list of all non-overlapping matches in the string.\u001b[39;00m\n\u001b[0;32m    234\u001b[0m \n\u001b[0;32m    235\u001b[0m \u001b[38;5;124;03m    If one or more capturing groups are present in the pattern, return\u001b[39;00m\n\u001b[1;32m   (...)\u001b[0m\n\u001b[0;32m    238\u001b[0m \n\u001b[0;32m    239\u001b[0m \u001b[38;5;124;03m    Empty matches are included in the result.\"\"\"\u001b[39;00m\n\u001b[1;32m--> 240\u001b[0m     \u001b[38;5;28;01mreturn\u001b[39;00m \u001b[43m_compile\u001b[49m\u001b[43m(\u001b[49m\u001b[43mpattern\u001b[49m\u001b[43m,\u001b[49m\u001b[43m \u001b[49m\u001b[43mflags\u001b[49m\u001b[43m)\u001b[49m\u001b[38;5;241;43m.\u001b[39;49m\u001b[43mfindall\u001b[49m\u001b[43m(\u001b[49m\u001b[43mstring\u001b[49m\u001b[43m)\u001b[49m\n",
      "\u001b[1;31mTypeError\u001b[0m: expected string or bytes-like object"
     ]
    }
   ],
   "source": [
    "print(re.findall('\\@\\w+', lista))"
   ]
  },
  {
   "cell_type": "code",
   "execution_count": 91,
   "metadata": {},
   "outputs": [
    {
     "name": "stdout",
     "output_type": "stream",
     "text": [
      "<re.Match object; span=(21, 23), match='in'>\n"
     ]
    }
   ],
   "source": [
    "a = 'If one or more capturing groups are present in the pattern, return'\n",
    "print(re.search(r'in', a))"
   ]
  },
  {
   "cell_type": "code",
   "execution_count": 92,
   "metadata": {},
   "outputs": [
    {
     "name": "stdout",
     "output_type": "stream",
     "text": [
      "in\n"
     ]
    }
   ],
   "source": [
    "print(a[21:23])"
   ]
  },
  {
   "cell_type": "code",
   "execution_count": 94,
   "metadata": {},
   "outputs": [
    {
     "name": "stdout",
     "output_type": "stream",
     "text": [
      "['a', 'a', 'a']\n"
     ]
    }
   ],
   "source": [
    "print(re.findall(r'a', a))"
   ]
  },
  {
   "cell_type": "code",
   "execution_count": 95,
   "metadata": {},
   "outputs": [
    {
     "name": "stdout",
     "output_type": "stream",
     "text": [
      "3\n"
     ]
    }
   ],
   "source": [
    "print(len(re.findall(r'a', a)))"
   ]
  },
  {
   "cell_type": "code",
   "execution_count": 97,
   "metadata": {},
   "outputs": [
    {
     "data": {
      "text/plain": [
       "'If-one or more capturing groups are present in the pattern, return'"
      ]
     },
     "execution_count": 97,
     "metadata": {},
     "output_type": "execute_result"
    }
   ],
   "source": [
    "re.sub(r' ', '-', a, count=1) #Subistitui somente o primeiro elemento que encontra"
   ]
  },
  {
   "cell_type": "code",
   "execution_count": 98,
   "metadata": {},
   "outputs": [],
   "source": [
    "subistitue = re.compile(r'a')"
   ]
  },
  {
   "cell_type": "code",
   "execution_count": 99,
   "metadata": {},
   "outputs": [
    {
     "data": {
      "text/plain": [
       "['a', 'a', 'a']"
      ]
     },
     "execution_count": 99,
     "metadata": {},
     "output_type": "execute_result"
    }
   ],
   "source": [
    "subistitue.findall(a)"
   ]
  },
  {
   "cell_type": "code",
   "execution_count": 100,
   "metadata": {},
   "outputs": [],
   "source": [
    "musica = \"\"\"Você nunca atende, você é maluca\n",
    "\n",
    "Mas você nunca me atende\n",
    "Você é maluca e me entende\n",
    "Você é a única que vai ganhar música da minha pessoa pública daqui pra frente\n",
    "Mas você nunca me atende\n",
    "Você é maluca e me entende\n",
    "Você é a única que vai ganhar música da minha pessoa pública daqui pra frente\n",
    "\n",
    "Misturo fogo com gasolina\n",
    "Tô sem minha peita de dar rolê\n",
    "Volto sem peita, eu deixei com a mina\n",
    "Tá com meu cheiro pra tu saber\n",
    "Minha camiseta é a favorita\n",
    "Então você tem que me devolver\n",
    "Tá com meu cheiro na axila\n",
    "Vitória, eu sei qual é o seu segredo\n",
    "Mano, um dia eu fui na Disney\n",
    "O Derek disse pra eu não usar listra\n",
    "Briso amarelo porque combina\n",
    "Algo bem quente num dia cinza\n",
    "Toda essa moda é tão relativa\n",
    "Antes da grana eu pegava mina\n",
    "Com a minha camisa da Maresia\n",
    "O que ela quer é adrenalina\n",
    "\n",
    "Eu tenho um carro, já tive moto\n",
    "Foda-se o topo\n",
    "Não tô por falar quando eu entoco\n",
    "Não dá pra falar que eu não me importo\n",
    "Você é linda, me via em foto\n",
    "Tem uma vírgula no seu corpo\n",
    "Sei que elas dizem que eu não sou santo\n",
    "Eu tô aqui pra botar um ponto\n",
    "Lembra de mim no primeiro encontro?\n",
    "Sei que eu mudei, 'cê num sabe o quanto\n",
    "Mas eu ainda sou o que canto\n",
    "Por isso me encontrou por todo canto\n",
    "É pra você que eu trampo, mas eu preciso de um sindicato\n",
    "Acho que ainda sou só um sujeito\n",
    "Essa canção é meu predicado\n",
    "\n",
    "Mas você nunca me atende\n",
    "Você é maluca e me entende\n",
    "Você é a única que vai ganhar música da minha pessoa pública daqui pra frente\n",
    "Mas você nunca me atende\n",
    "Você é maluca e me entende\n",
    "Você é a única que vai ganhar música da minha pessoa pública daqui pra frente\n",
    "\n",
    "Ei, ei, ei, ei, ei, ei\n",
    "Eu dividi a capa do jornal com a Björk\n",
    "Eu só pude ler no day off\n",
    "Eletros do meu carro no poste\n",
    "Todos querem a chave do cofre\n",
    "A polícia não confia nos jovens\n",
    "Os jovens não confiam em ninguém\n",
    "Nós somos rebeldes\n",
    "Dormi na sua casa de novo\n",
    "Eu sei, você precisa de alguém\n",
    "Me dê mais remédios\n",
    "Me conte segredos\n",
    "\n",
    "Jovens não confiam em ninguém\n",
    "A era do medo, quem me disse foi um bebo no trem\n",
    "Ninguém acredita no bem\n",
    "O mal não é mais um agente secreto\n",
    "Amar é pros fortes\n",
    "Amargo, massa, gado, sorte, o Sol, o sal, tua vida, longa vida boa\n",
    "Chega dessa vida tão corrida, adulta vida cobra, o tempo leva\n",
    "Toda dor embora, tenho ótimas notícias, péssimas memórias\n",
    "Boas histórias são tristes\n",
    "Boas histórias são\n",
    "A gente existe por obrigação e ainda insiste numa ligação\n",
    "\n",
    "Que você nunca atende\n",
    "Você é maluca, me entende\n",
    "Única\"\"\""
   ]
  },
  {
   "cell_type": "code",
   "execution_count": 102,
   "metadata": {},
   "outputs": [
    {
     "name": "stdout",
     "output_type": "stream",
     "text": [
      "['Você', 'você', 'maluca', 'você', 'Você', 'maluca', 'Você', 'você', 'Você', 'maluca', 'Você', 'você', 'Você', 'você', 'você', 'Você', 'maluca', 'Você', 'você', 'Você', 'maluca', 'Você', 'você', 'você', 'Você', 'maluca']\n"
     ]
    }
   ],
   "source": [
    "print(re.findall(r'Você|você|maluca|Maluca', musica)) #OU"
   ]
  },
  {
   "cell_type": "code",
   "execution_count": 104,
   "metadata": {},
   "outputs": [
    {
     "name": "stdout",
     "output_type": "stream",
     "text": [
      "['Você', 'você', 'maluca', 'você', 'Você', 'maluca', 'Você', 'você', 'Você', 'maluca', 'Você', 'você', 'Você', 'você', 'você', 'Você', 'maluca', 'Você', 'você', 'Você', 'maluca', 'Você', 'você', 'você', 'Você', 'maluca']\n"
     ]
    }
   ],
   "source": [
    "print(re.findall(r'.ocê|.aluca', musica)) #Ponto significa qualquer caracteres"
   ]
  },
  {
   "cell_type": "code",
   "execution_count": 106,
   "metadata": {},
   "outputs": [
    {
     "name": "stdout",
     "output_type": "stream",
     "text": [
      "['Você', 'você', 'você', 'Você', 'maluca ', 'Você', 'você', 'Você', 'maluca ', 'Você', 'você', 'Você', 'você', 'você', 'Você', 'maluca ', 'Você', 'você', 'Você', 'maluca ', 'Você', 'você', 'você', 'Você']\n"
     ]
    }
   ],
   "source": [
    "print(re.findall(r'[Vv]ocê|[Mm]aluca ', musica)) #[] Significa um conjunto de caracteres"
   ]
  },
  {
   "cell_type": "code",
   "execution_count": 107,
   "metadata": {},
   "outputs": [
    {
     "name": "stdout",
     "output_type": "stream",
     "text": [
      "['Você', 'você', 'você', 'Você', 'maluca ', 'Você', 'você', 'Você', 'maluca ', 'Você', 'você', 'Você', 'você', 'você', 'Você', 'maluca ', 'Você', 'você', 'Você', 'maluca ', 'Você', 'você', 'você', 'Você']\n"
     ]
    }
   ],
   "source": [
    "print(re.findall(r'[A-Za-z]ocê|[A-Za-z]aluca ', musica)) #[] Significa um conjunto de caracteres"
   ]
  },
  {
   "cell_type": "code",
   "execution_count": 108,
   "metadata": {},
   "outputs": [
    {
     "name": "stdout",
     "output_type": "stream",
     "text": [
      "[]\n"
     ]
    }
   ],
   "source": [
    "print(re.findall(r'vOcÊ|MalUcA ', musica))"
   ]
  },
  {
   "cell_type": "code",
   "execution_count": 109,
   "metadata": {},
   "outputs": [
    {
     "name": "stdout",
     "output_type": "stream",
     "text": [
      "['Você', 'você', 'você', 'Você', 'maluca ', 'Você', 'você', 'Você', 'maluca ', 'Você', 'você', 'Você', 'você', 'você', 'Você', 'maluca ', 'Você', 'você', 'Você', 'maluca ', 'Você', 'você', 'você', 'Você']\n"
     ]
    }
   ],
   "source": [
    "print(re.findall(r'vOcÊ|MalUcA ', musica, flags=re.I))"
   ]
  },
  {
   "cell_type": "code",
   "execution_count": 119,
   "metadata": {},
   "outputs": [],
   "source": [
    "numeros_telefone = [\n",
    "    \"Meu número é 11 99999-9999\",\n",
    "    \"Meu número é 12 33333-3333\",\n",
    "    \"Meu número é 13 44444-4444\",\n",
    "    \"Meu número é 14 55555-5555\",\n",
    "    \"Meu número é 15 66666-6666\",\n",
    "    \"Meu número é 16 77777-7777\",\n",
    "    \"Meu número é 17 88888-8888\",\n",
    "    \"Meu número é 18 99999-9999\",\n",
    "    \"Meu número é 19 99999-9999\",\n",
    "    \"Meu número é 21 99999-9999\",\n",
    "    \"Meu número é 22 99999-9999\",\n",
    "    \"Meu número é 23 99999-9999\",\n",
    "    \"Meu número é 24 99999-9999\",\n",
    "    \"Meu número é 25 99999-9999\",\n",
    "    \"Meu número é 26 99999-9999\",\n",
    "    \"Meu número é 27 99999-9999\",\n",
    "    \"Meu número é 28 99999-9999\",\n",
    "]\n"
   ]
  },
  {
   "cell_type": "code",
   "execution_count": 123,
   "metadata": {},
   "outputs": [],
   "source": [
    "numeros_telefone_como_string = str(numeros_telefone)"
   ]
  },
  {
   "cell_type": "code",
   "execution_count": 127,
   "metadata": {},
   "outputs": [
    {
     "data": {
      "text/plain": [
       "\"['Meu número é 11 99999-9999', 'Meu número é 12 33333-3333', 'Meu número é 13 44444-4444', 'Meu número é 14 55555-5555', 'Meu número é 15 66666-6666', 'Meu número é 16 77777-7777', 'Meu número é 17 88888-8888', 'Meu número é 18 99999-9999', 'Meu número é 19 99999-9999', 'Meu número é 21 99999-9999', 'Meu número é 22 99999-9999', 'Meu número é 23 99999-9999', 'Meu número é 24 99999-9999', 'Meu número é 25 99999-9999', 'Meu número é 26 99999-9999', 'Meu número é 27 99999-9999', 'Meu número é 28 99999-9999']\""
      ]
     },
     "execution_count": 127,
     "metadata": {},
     "output_type": "execute_result"
    }
   ],
   "source": [
    "numeros_telefone_como_string"
   ]
  },
  {
   "cell_type": "code",
   "execution_count": 126,
   "metadata": {},
   "outputs": [
    {
     "name": "stdout",
     "output_type": "stream",
     "text": [
      "[]\n"
     ]
    }
   ],
   "source": [
    "print(re.findall(r\"\\+\\d{2} [0-9]{4,5}-[0-9]{4}\", numeros_telefone_como_string))"
   ]
  },
  {
   "cell_type": "code",
   "execution_count": 131,
   "metadata": {},
   "outputs": [],
   "source": [
    "class Aluno:\n",
    "    def __init__(self, nome, nota1, nota2):\n",
    "        self._nome = nome\n",
    "        self._nota1 = nota1\n",
    "        self._nota2 = nota2\n",
    "        \n",
    "    def passou(self):\n",
    "        if (self._nota1 + self._nota2) / 2 > 6:\n",
    "            print(f'{self._nome} foi aprovado com nota {(self._nota1 + self._nota2)/2}')\n",
    "        else:\n",
    "            print(f'{self._nome} foi reprovado com nota {(self._nota1 + self._nota2)/2}')"
   ]
  },
  {
   "cell_type": "code",
   "execution_count": 132,
   "metadata": {},
   "outputs": [],
   "source": [
    "aluno = Aluno('Italo', 6.8, 9.8)"
   ]
  },
  {
   "cell_type": "code",
   "execution_count": 133,
   "metadata": {},
   "outputs": [
    {
     "name": "stdout",
     "output_type": "stream",
     "text": [
      "Italo foi aprovado com nota 8.3\n"
     ]
    }
   ],
   "source": [
    "aluno.passou()"
   ]
  },
  {
   "cell_type": "code",
   "execution_count": 134,
   "metadata": {},
   "outputs": [],
   "source": [
    "aluno1 = Aluno('Maria', 6.3, 4.5)"
   ]
  },
  {
   "cell_type": "code",
   "execution_count": 135,
   "metadata": {},
   "outputs": [
    {
     "name": "stdout",
     "output_type": "stream",
     "text": [
      "Maria foi reprovado com nota 5.4\n"
     ]
    }
   ],
   "source": [
    "aluno1.passou()"
   ]
  },
  {
   "cell_type": "code",
   "execution_count": null,
   "metadata": {},
   "outputs": [],
   "source": []
  }
 ],
 "metadata": {
  "colab": {
   "provenance": []
  },
  "kernelspec": {
   "display_name": "Python 3 (ipykernel)",
   "language": "python",
   "name": "python3"
  },
  "language_info": {
   "codemirror_mode": {
    "name": "ipython",
    "version": 3
   },
   "file_extension": ".py",
   "mimetype": "text/x-python",
   "name": "python",
   "nbconvert_exporter": "python",
   "pygments_lexer": "ipython3",
   "version": "3.10.9"
  }
 },
 "nbformat": 4,
 "nbformat_minor": 1
}
