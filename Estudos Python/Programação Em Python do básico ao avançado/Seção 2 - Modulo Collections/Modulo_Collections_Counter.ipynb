{
  "nbformat": 4,
  "nbformat_minor": 0,
  "metadata": {
    "colab": {
      "provenance": [],
      "authorship_tag": "ABX9TyNHsZs6+dcC/U5HuEek6qGB",
      "include_colab_link": true
    },
    "kernelspec": {
      "name": "python3",
      "display_name": "Python 3"
    },
    "language_info": {
      "name": "python"
    }
  },
  "cells": [
    {
      "cell_type": "markdown",
      "metadata": {
        "id": "view-in-github",
        "colab_type": "text"
      },
      "source": [
        "<a href=\"https://colab.research.google.com/github/italosilva02/exercicioPy/blob/main/Modulo_Collections_Counter.ipynb\" target=\"_parent\"><img src=\"https://colab.research.google.com/assets/colab-badge.svg\" alt=\"Open In Colab\"/></a>"
      ]
    },
    {
      "cell_type": "code",
      "execution_count": 1,
      "metadata": {
        "id": "l8syAhO9_lNa"
      },
      "outputs": [],
      "source": [
        "from collections import Counter"
      ]
    },
    {
      "cell_type": "code",
      "source": [
        "lista = [1,2,4,4,6,4,5,6,6,8,8,5,3,4,6,8,8,9,0,5,3,2,1,4,5,6,7,8,9,0,2,3,1]"
      ],
      "metadata": {
        "id": "p7gXSmSP_xTc"
      },
      "execution_count": 2,
      "outputs": []
    },
    {
      "cell_type": "code",
      "source": [
        "res = Counter(lista)"
      ],
      "metadata": {
        "id": "94n13BU4_3dP"
      },
      "execution_count": 3,
      "outputs": []
    },
    {
      "cell_type": "code",
      "source": [
        "print(type(res))\n",
        "print(res)"
      ],
      "metadata": {
        "colab": {
          "base_uri": "https://localhost:8080/"
        },
        "id": "GPCnlYe9_7HB",
        "outputId": "a7fb4d53-6192-42aa-f085-ec2c64c0c88a"
      },
      "execution_count": 6,
      "outputs": [
        {
          "output_type": "stream",
          "name": "stdout",
          "text": [
            "<class 'collections.Counter'>\n",
            "Counter({4: 5, 6: 5, 8: 5, 5: 4, 1: 3, 2: 3, 3: 3, 9: 2, 0: 2, 7: 1})\n"
          ]
        }
      ]
    },
    {
      "cell_type": "markdown",
      "source": [
        "Para cada elemento da lista, o Counter criou uma chave e colocou como valor a quantidade de ocorrências"
      ],
      "metadata": {
        "id": "k4h4DMNPAZtM"
      }
    },
    {
      "cell_type": "code",
      "source": [
        "print(Counter('ITALO SILVA DE SANTANA'))"
      ],
      "metadata": {
        "colab": {
          "base_uri": "https://localhost:8080/"
        },
        "id": "pstvGWAyAiRk",
        "outputId": "97d25437-05bb-42cd-ac90-8234ae861174"
      },
      "execution_count": 7,
      "outputs": [
        {
          "output_type": "stream",
          "name": "stdout",
          "text": [
            "Counter({'A': 5, ' ': 3, 'I': 2, 'T': 2, 'L': 2, 'S': 2, 'N': 2, 'O': 1, 'V': 1, 'D': 1, 'E': 1})\n"
          ]
        }
      ]
    },
    {
      "cell_type": "markdown",
      "source": [
        "O Counter pode ser utilizado em qualquer interavel. Aqui estamos utilizando com uma string"
      ],
      "metadata": {
        "id": "NHzZelo5AsN7"
      }
    },
    {
      "cell_type": "markdown",
      "source": [
        "print(Counter(\"texto\")"
      ],
      "metadata": {
        "id": "grwmn3BxAzoj"
      }
    },
    {
      "cell_type": "code",
      "source": [
        "texto = \"\"\"A Guerra Fria foi um conflito político-ideológico que foi travado entre Estados Unidos (EUA) e União Soviética (URSS), entre 1947 e 1991. O conflito travado entre esses dois países foi responsável por polarizar o mundo em dois grandes blocos, um alinhado ao capitalismo e outro alinhado ao comunismo.\n",
        "\n",
        "Ao longo da segunda metade do século XX, a polarização mundial resultou em uma série de conflitos de pequena e média escala em diferentes locais do mundo. Esses conflitos contavam, muitas vezes, com o envolvimento indireto de EUA e URSS, a partir do financiamento, da disponibilização de armas e do treinamento militar.\n",
        "\n",
        "Contudo, nunca houve um confronto aberto entre americanos e soviéticos, sobretudo pela possibilidade de destruição do planeta em larga escala caso houvesse um conflito entre os dois. Apesar dos discursos afiados e da intensa atuação estratégica para manter sua zona de influência, americanos e soviéticos foram cautelosos ao extremo e evitaram um conflito contra o outro.\"\"\""
      ],
      "metadata": {
        "id": "MgfXvHdQBZXB"
      },
      "execution_count": 9,
      "outputs": []
    },
    {
      "cell_type": "code",
      "source": [
        "palavra = texto.split()"
      ],
      "metadata": {
        "id": "MUjuDKQeBtZT"
      },
      "execution_count": 10,
      "outputs": []
    },
    {
      "cell_type": "code",
      "source": [
        "res = Counter(palavra)"
      ],
      "metadata": {
        "id": "6-JyRY1ABwgk"
      },
      "execution_count": 13,
      "outputs": []
    },
    {
      "cell_type": "code",
      "source": [
        "print(res.most_common(5))"
      ],
      "metadata": {
        "colab": {
          "base_uri": "https://localhost:8080/"
        },
        "id": "Vnv2pRJxB__T",
        "outputId": "6c4de99a-0a5c-4857-aa81-97f3432505cd"
      },
      "execution_count": 14,
      "outputs": [
        {
          "output_type": "stream",
          "name": "stdout",
          "text": [
            "[('e', 10), ('de', 6), ('um', 5), ('entre', 5), ('do', 5)]\n"
          ]
        }
      ]
    },
    {
      "cell_type": "code",
      "source": [
        "print(res.most_common(10))"
      ],
      "metadata": {
        "colab": {
          "base_uri": "https://localhost:8080/"
        },
        "id": "uNK7uoueCVXY",
        "outputId": "400fce59-9d80-4bff-c90b-f76d3142e947"
      },
      "execution_count": 15,
      "outputs": [
        {
          "output_type": "stream",
          "name": "stdout",
          "text": [
            "[('e', 10), ('de', 6), ('um', 5), ('entre', 5), ('do', 5), ('conflito', 4), ('em', 4), ('foi', 3), ('o', 3), ('ao', 3)]\n"
          ]
        }
      ]
    }
  ]
}