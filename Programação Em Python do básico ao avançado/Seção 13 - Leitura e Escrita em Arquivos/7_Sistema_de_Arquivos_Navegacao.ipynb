{
 "cells": [
  {
   "cell_type": "markdown",
   "id": "5413eac4",
   "metadata": {},
   "source": [
    "# Sistema de Arquivos - Navegação"
   ]
  },
  {
   "cell_type": "markdown",
   "id": "96fa0f49",
   "metadata": {},
   "source": [
    "Um sistema não reconhece um arquivo pela sua extensão, essa extensão serve somente para humanos. O computador reconhece um arqui por um conjunto de meta dados:"
   ]
  },
  {
   "cell_type": "code",
   "execution_count": null,
   "id": "9724081c",
   "metadata": {},
   "outputs": [],
   "source": [
    "# Árvore de Diretórios / Estrutura Hierarquica"
   ]
  },
  {
   "cell_type": "markdown",
   "id": "43318766",
   "metadata": {},
   "source": [
    "A árvore de hierarquia de arquivos é uma estrutura de diretórios que organiza os arquivos em um sistema operacional em uma hierarquia de pastas e subpastas1. A estrutura do sistema de arquivos do Linux é definida por um padrão de mercado chamado Filesystem Hierarchy Standard ou FHS, criado pela comunidade Linux em 1994 e mantida pela Linux Foundation1. O FHS define a organização dos diretórios e arquivos no sistema operacional Linux1."
   ]
  },
  {
   "cell_type": "markdown",
   "id": "1cf0cc5d",
   "metadata": {},
   "source": [
    "A árvore de diretórios é uma representação hierárquica dos diretórios e arquivos em um sistema de arquivos1. No prompt de comando do Windows, você pode usar “tree / F” para ver uma árvore da pasta atual e todos os arquivos e pastas descendentes1. No File Explorer do Windows 8.1, você pode selecionar uma pasta, pressionar Shift, clicar com o botão direito do mouse e selecionar “Abrir janela de comando aqui”. Em seguida, digite tree /f > tree.txt e pressione Enter1."
   ]
  },
  {
   "cell_type": "markdown",
   "id": "f14ce481",
   "metadata": {},
   "source": [
    "A estrutura de diretórios do Windows e do Linux (POSIX) é diferente. O Windows usa letras de unidade para identificar dispositivos e partições. Por exemplo, C: é a letra da unidade padrão para o disco rígido principal em um computador Windows. O Linux usa um único diretório raiz (/) como ponto de partida para todos os caminhos no sistema de arquivos. O Linux também usa montagens para conectar dispositivos e partições ao sistema de arquivos.\n",
    "\n",
    "Além disso, o Linux tem uma hierarquia padrão para os diretórios do sistema que é definida pelo Filesystem Hierarchy Standard (FHS). O FHS define a organização dos diretórios e arquivos no sistema operacional Linux. O Windows não tem um padrão oficial para a organização dos diretórios do sistema, mas muitos aplicativos e serviços do Windows usam uma estrutura semelhante à seguinte:\n",
    "\n",
    "C:\\Windows - arquivos do sistema operacional\n",
    "C:\\Program Files - programas instalados\n",
    "C:\\Users - perfis de usuário\n",
    "Espero que isso ajude! Se você tiver alguma outra dúvida ou precisar de mais ajuda, por favor me avise."
   ]
  },
  {
   "cell_type": "code",
   "execution_count": 1,
   "id": "3ec0a93a",
   "metadata": {},
   "outputs": [],
   "source": [
    "# Path -> É o caminho completo do diretório raiz até o arquivo desejado"
   ]
  },
  {
   "cell_type": "code",
   "execution_count": null,
   "id": "cf2dae86",
   "metadata": {},
   "outputs": [],
   "source": [
    "#Temos Path absolutos e Path relátivos"
   ]
  },
  {
   "cell_type": "markdown",
   "id": "99d082d8",
   "metadata": {},
   "source": [
    "##### Path Absolutos"
   ]
  },
  {
   "cell_type": "code",
   "execution_count": null,
   "id": "604e67ea",
   "metadata": {},
   "outputs": [],
   "source": [
    "Ele pega absolutamente tudo, da raiz até o arquivo final"
   ]
  },
  {
   "cell_type": "code",
   "execution_count": null,
   "id": "74dd27bc",
   "metadata": {},
   "outputs": [],
   "source": [
    "# C:\\Users\\jzk767\\Desktop\\The Business Intelligence Analyst Course/my_next_course.py"
   ]
  },
  {
   "cell_type": "markdown",
   "id": "e9e551b4",
   "metadata": {},
   "source": [
    "##### Path Relátivo"
   ]
  },
  {
   "cell_type": "code",
   "execution_count": null,
   "id": "9cfcc2da",
   "metadata": {},
   "outputs": [],
   "source": [
    "# /home/workspace/backupts/../"
   ]
  },
  {
   "cell_type": "markdown",
   "id": "e404d71d",
   "metadata": {},
   "source": [
    "O módulo \"os\" é um módulo integrado do Python que fornece uma interface para interagir com o sistema operacional em que o Python está sendo executado. Ele fornece um conjunto de funções para criar, manipular e excluir arquivos e diretórios, além de executar comandos do sistema operacional.\n",
    "\n",
    "Algumas das funcionalidades do módulo \"os\" incluem:\n",
    "\n",
    "Criar, renomear e excluir arquivos e diretórios;\n",
    "Navegar pelo sistema de arquivos;\n",
    "Obter informações sobre arquivos e diretórios, como permissões, tamanho e data de modificação;\n",
    "Executar comandos do sistema operacional, como abrir um arquivo em um editor de texto ou executar um programa;\n",
    "Manipular variáveis de ambiente do sistema operacional.\n",
    "O módulo \"os\" é amplamente utilizado em programas Python para interagir com o sistema operacional e manipular arquivos e diretórios. Por exemplo, você pode usar as funções do módulo \"os\" para criar um diretório para armazenar arquivos de log do seu programa, ou para executar um comando do sistema operacional para verificar o uso de memória do sistema.\n",
    "\n",
    "Em resumo, o módulo \"os\" é uma ferramenta poderosa para interagir com o sistema operacional em que o Python está sendo executado e é fundamental para muitos programas Python que manipulam arquivos e diretórios."
   ]
  },
  {
   "cell_type": "code",
   "execution_count": 13,
   "id": "a211e2dc",
   "metadata": {},
   "outputs": [],
   "source": [
    "import os"
   ]
  },
  {
   "cell_type": "code",
   "execution_count": 14,
   "id": "b1f399c7",
   "metadata": {},
   "outputs": [
    {
     "name": "stdout",
     "output_type": "stream",
     "text": [
      "C:\\Users\\jzk767\\OneDrive - Corteva\\Área de Trabalho\\Estudos Python\\Programação Em Python do básico ao avançado\\Seção 13 - Leitura e Escrita em Arquivos\n"
     ]
    }
   ],
   "source": [
    "print(os.getcwd())"
   ]
  },
  {
   "cell_type": "code",
   "execution_count": null,
   "id": "5da97791",
   "metadata": {},
   "outputs": [],
   "source": [
    "# Podemos listar os diretórios e arquivos com o listDir"
   ]
  },
  {
   "cell_type": "code",
   "execution_count": 3,
   "id": "27ddf3ea",
   "metadata": {},
   "outputs": [
    {
     "name": "stdout",
     "output_type": "stream",
     "text": [
      "['.idea', '.ipynb_checkpoints', '1-Leitura_De_Arquivos.py', '1_Leitura_De_Arquivos.ipynb', '2_Seek_e_Cursors.ipynb', '3_O_Comando_With.ipynb', '4_Escrevendo_Em_Arquivos.ipynb', '5_Modos_De_Arquivos.ipynb', '6_StringIO.ipynb', '7_Sistema_de_Arquivos_Navegacao.ipynb', 'arquivo.txt', 'escrevendo.txt', 'fruta.txt', 'frutas.txt', 'frutas_top.txt', 'nome.txt', 'sobrenome.txt', 'sobrenomes.txt', 'texto.txt', 'texto_usuario.txt']\n"
     ]
    }
   ],
   "source": [
    "print(os.listdir())"
   ]
  },
  {
   "cell_type": "code",
   "execution_count": 4,
   "id": "a47a81b9",
   "metadata": {},
   "outputs": [
    {
     "name": "stdout",
     "output_type": "stream",
     "text": [
      "20\n"
     ]
    }
   ],
   "source": [
    "print(len(os.listdir()))"
   ]
  },
  {
   "cell_type": "code",
   "execution_count": 5,
   "id": "d25d80bf",
   "metadata": {},
   "outputs": [
    {
     "name": "stdout",
     "output_type": "stream",
     "text": [
      "['exercicioPy-main', 'Exercícios', 'Seção 01 - Introdução', 'Seção 02 - Modulo Collections', 'Seção 03 - Tratando erros', 'Seção 12 - Trabalhando com Módulos Python', 'Seção 13 - Leitura e Escrita em Arquivos']\n"
     ]
    }
   ],
   "source": [
    "print(os.listdir('../'))"
   ]
  },
  {
   "cell_type": "code",
   "execution_count": 15,
   "id": "aed94d59",
   "metadata": {},
   "outputs": [],
   "source": [
    "os.chdir('../')"
   ]
  },
  {
   "cell_type": "code",
   "execution_count": 16,
   "id": "492a406f",
   "metadata": {},
   "outputs": [],
   "source": [
    "os.chdir(os.getcwd() + '\\\\Exercícios')"
   ]
  },
  {
   "cell_type": "code",
   "execution_count": 18,
   "id": "f3807bed",
   "metadata": {},
   "outputs": [
    {
     "name": "stdout",
     "output_type": "stream",
     "text": [
      "C:\\Users\\jzk767\\OneDrive - Corteva\\Área de Trabalho\\Estudos Python\\Programação Em Python do básico ao avançado\\Exercícios\n"
     ]
    }
   ],
   "source": [
    "print(os.getcwd())"
   ]
  },
  {
   "cell_type": "code",
   "execution_count": 19,
   "id": "d7ddaa53",
   "metadata": {},
   "outputs": [
    {
     "name": "stdout",
     "output_type": "stream",
     "text": [
      "['.ipynb_checkpoints', '1 - Exercício - Estrutura_Sequencial.ipynb', 'Exercícios Python- Seção 04.ipynb', 'File']\n"
     ]
    }
   ],
   "source": [
    "print(os.listdir())"
   ]
  },
  {
   "cell_type": "code",
   "execution_count": 29,
   "id": "bdfaae43",
   "metadata": {},
   "outputs": [],
   "source": [
    "scanner = (os.scandir())"
   ]
  },
  {
   "cell_type": "code",
   "execution_count": 30,
   "id": "86f4a41b",
   "metadata": {},
   "outputs": [],
   "source": [
    "arquivo = list(scanner)"
   ]
  },
  {
   "cell_type": "code",
   "execution_count": 27,
   "id": "78a76a8c",
   "metadata": {},
   "outputs": [
    {
     "name": "stdout",
     "output_type": "stream",
     "text": [
      "2814749767488925\n",
      "1 - Exercício - Estrutura_Sequencial.ipynb\n",
      "False\n",
      "True\n",
      "False\n",
      ".\\1 - Exercício - Estrutura_Sequencial.ipynb\n",
      "os.stat_result(st_mode=33206, st_ino=0, st_dev=0, st_nlink=0, st_uid=0, st_gid=0, st_size=16538, st_atime=1680980174, st_mtime=1679788067, st_ctime=1680913458)\n"
     ]
    }
   ],
   "source": [
    "print(arquivo[1].inode()) # Número do arquivo na arvore diretório\n",
    "print(arquivo[1].name) #Nome do arquivo \n",
    "print(arquivo[1].is_dir()) # É um diretório? / False não é um arquivo\n",
    "print(arquivo[1].is_file()) # É um arquivo? | True é um arquivo\n",
    "print(arquivo[1].is_symlink()) # É um link simbólico? | False é um arquivo\n",
    "print(arquivo[1].path) # Caminho até o arquivo\n",
    "print(arquivo[1].stat()) # Estatísticas sobre o arquivo"
   ]
  },
  {
   "cell_type": "markdown",
   "id": "7ea63e5c",
   "metadata": {},
   "source": [
    "Quando abrimos um scandir() precisamos fechar o mesmo"
   ]
  },
  {
   "cell_type": "code",
   "execution_count": 31,
   "id": "b3e1b202",
   "metadata": {},
   "outputs": [],
   "source": [
    "scanner.close()"
   ]
  },
  {
   "cell_type": "code",
   "execution_count": null,
   "id": "f5475150",
   "metadata": {},
   "outputs": [],
   "source": []
  }
 ],
 "metadata": {
  "kernelspec": {
   "display_name": "Python 3 (ipykernel)",
   "language": "python",
   "name": "python3"
  },
  "language_info": {
   "codemirror_mode": {
    "name": "ipython",
    "version": 3
   },
   "file_extension": ".py",
   "mimetype": "text/x-python",
   "name": "python",
   "nbconvert_exporter": "python",
   "pygments_lexer": "ipython3",
   "version": "3.9.13"
  }
 },
 "nbformat": 4,
 "nbformat_minor": 5
}
