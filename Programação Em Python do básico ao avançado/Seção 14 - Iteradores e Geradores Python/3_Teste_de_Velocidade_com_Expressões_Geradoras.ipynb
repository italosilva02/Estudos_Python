{
 "cells": [
  {
   "cell_type": "markdown",
   "id": "ab22553f",
   "metadata": {},
   "source": [
    "# Teste de Velocidade com Expressões Geradoras"
   ]
  },
  {
   "cell_type": "code",
   "execution_count": null,
   "id": "bc414b56",
   "metadata": {},
   "outputs": [],
   "source": [
    "# Generators (Geradores)"
   ]
  },
  {
   "cell_type": "code",
   "execution_count": 1,
   "id": "02712fff",
   "metadata": {},
   "outputs": [
    {
     "name": "stdout",
     "output_type": "stream",
     "text": [
      "<generator object num at 0x0000019CE50546D0>\n"
     ]
    }
   ],
   "source": [
    "def num():\n",
    "    for num in range(1,10):\n",
    "        yield num\n",
    "        \n",
    "gen1 = num()\n",
    "print(gen1)"
   ]
  },
  {
   "cell_type": "code",
   "execution_count": 2,
   "id": "f41674e7",
   "metadata": {},
   "outputs": [],
   "source": [
    "def fib_gen(max):\n",
    "    a, b, contador = 0, 1, 0\n",
    "    while contador < max:\n",
    "        a, b = b, a + b\n",
    "        yield a\n",
    "        contador = contador + 1"
   ]
  },
  {
   "cell_type": "code",
   "execution_count": 3,
   "id": "e7b4ef8e",
   "metadata": {},
   "outputs": [],
   "source": [
    "num = [x for x in fib_gen(10)]"
   ]
  },
  {
   "cell_type": "code",
   "execution_count": 4,
   "id": "6401f963",
   "metadata": {},
   "outputs": [
    {
     "name": "stdout",
     "output_type": "stream",
     "text": [
      "<generator object fib_gen at 0x0000019CE5054AC0>\n"
     ]
    }
   ],
   "source": [
    "print(fib_gen(10))"
   ]
  },
  {
   "cell_type": "code",
   "execution_count": 5,
   "id": "0d5c434f",
   "metadata": {},
   "outputs": [
    {
     "name": "stdout",
     "output_type": "stream",
     "text": [
      "1\n"
     ]
    }
   ],
   "source": [
    "print(next(gen1))"
   ]
  },
  {
   "cell_type": "code",
   "execution_count": null,
   "id": "4621dc92",
   "metadata": {},
   "outputs": [],
   "source": [
    "# Generator Expression"
   ]
  },
  {
   "cell_type": "code",
   "execution_count": 6,
   "id": "851c2063",
   "metadata": {},
   "outputs": [
    {
     "name": "stdout",
     "output_type": "stream",
     "text": [
      "<generator object <genexpr> at 0x0000019CE5054EB0>\n"
     ]
    }
   ],
   "source": [
    "ge2 = (num for num in range(100))\n",
    "print(ge2) # Generation Expression"
   ]
  },
  {
   "cell_type": "code",
   "execution_count": 7,
   "id": "c38ebc6d",
   "metadata": {},
   "outputs": [
    {
     "name": "stdout",
     "output_type": "stream",
     "text": [
      "45\n"
     ]
    }
   ],
   "source": [
    "print(sum(x for x in range(1, 10)))"
   ]
  },
  {
   "cell_type": "code",
   "execution_count": null,
   "id": "31641fcd",
   "metadata": {},
   "outputs": [],
   "source": [
    "#Realizando o teste de velocidade"
   ]
  },
  {
   "cell_type": "code",
   "execution_count": 8,
   "id": "c5c07d7e",
   "metadata": {},
   "outputs": [],
   "source": [
    "import time"
   ]
  },
  {
   "cell_type": "code",
   "execution_count": 15,
   "id": "b83611cc",
   "metadata": {},
   "outputs": [
    {
     "name": "stdout",
     "output_type": "stream",
     "text": [
      "4999950000\n"
     ]
    }
   ],
   "source": [
    "#Generator Expression\n",
    "\n",
    "gen_inicio = time.time()\n",
    "print(sum(x for x in range(100000)))\n",
    "gen_tempo = time.time() - gen_inicio"
   ]
  },
  {
   "cell_type": "code",
   "execution_count": 16,
   "id": "e6b12170",
   "metadata": {},
   "outputs": [
    {
     "name": "stdout",
     "output_type": "stream",
     "text": [
      "4999950000\n"
     ]
    }
   ],
   "source": [
    "#List Comprehesion\n",
    "\n",
    "list_inicio = time.time()\n",
    "print(sum([x for x in range(100000)]))\n",
    "get_tempo = time.time() - list_inicio"
   ]
  },
  {
   "cell_type": "code",
   "execution_count": 17,
   "id": "e17e9853",
   "metadata": {},
   "outputs": [
    {
     "name": "stdout",
     "output_type": "stream",
     "text": [
      "Generator Expression levou = 0.007146596908569336\n",
      "List Comprhension levou = 1682043018.252545\n"
     ]
    }
   ],
   "source": [
    "print(f'Generator Expression levou = {gen_tempo}')\n",
    "print(f'List Comprhension levou = {list_inicio}')"
   ]
  },
  {
   "cell_type": "code",
   "execution_count": null,
   "id": "b025960e",
   "metadata": {},
   "outputs": [],
   "source": []
  }
 ],
 "metadata": {
  "kernelspec": {
   "display_name": "Python 3 (ipykernel)",
   "language": "python",
   "name": "python3"
  },
  "language_info": {
   "codemirror_mode": {
    "name": "ipython",
    "version": 3
   },
   "file_extension": ".py",
   "mimetype": "text/x-python",
   "name": "python",
   "nbconvert_exporter": "python",
   "pygments_lexer": "ipython3",
   "version": "3.9.13"
  }
 },
 "nbformat": 4,
 "nbformat_minor": 5
}
