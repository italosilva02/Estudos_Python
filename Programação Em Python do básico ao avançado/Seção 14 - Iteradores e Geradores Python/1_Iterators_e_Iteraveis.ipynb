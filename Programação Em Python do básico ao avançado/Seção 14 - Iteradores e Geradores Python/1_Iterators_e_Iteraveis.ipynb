{
 "cells": [
  {
   "cell_type": "markdown",
   "id": "15ed14c9",
   "metadata": {},
   "source": [
    "# Entendendo Iterators e Iteráveis"
   ]
  },
  {
   "cell_type": "markdown",
   "id": "165961e0",
   "metadata": {},
   "source": [
    "No Python, iteráveis são objetos que podem ser percorridos, como listas, tuplas, dicionários e strings. Um iterador é um objeto que permite iterar sobre um iterável, produzindo seus elementos sob demanda.\n",
    "\n",
    "Em outras palavras, um iterável é uma coleção de elementos que pode ser percorrida, enquanto um iterador é um objeto que sabe como percorrer esse iterável e produzir seus elementos um a um.\n",
    "\n",
    "Um exemplo de iterável é uma lista. Podemos percorrer uma lista com um loop for, obtendo seus elementos um por um:"
   ]
  },
  {
   "cell_type": "code",
   "execution_count": 1,
   "id": "dfbfe563",
   "metadata": {},
   "outputs": [],
   "source": [
    "lista = [1,2,3,4,5,6]"
   ]
  },
  {
   "cell_type": "code",
   "execution_count": 2,
   "id": "d348f37f",
   "metadata": {},
   "outputs": [
    {
     "name": "stdout",
     "output_type": "stream",
     "text": [
      "1\n",
      "2\n",
      "3\n",
      "4\n",
      "5\n",
      "6\n"
     ]
    }
   ],
   "source": [
    "for i in lista:\n",
    "    print(i)"
   ]
  },
  {
   "cell_type": "markdown",
   "id": "6e63fb28",
   "metadata": {},
   "source": [
    "## Iterator"
   ]
  },
  {
   "cell_type": "markdown",
   "id": "a02b2b21",
   "metadata": {},
   "source": [
    "É um objeto que pode ser iterado.\n",
    "Um objeto que retorna um dado, sendo um elemento por vez quando uma função next() é chamado"
   ]
  },
  {
   "cell_type": "markdown",
   "id": "49960e8d",
   "metadata": {},
   "source": [
    "## Iterable"
   ]
  },
  {
   "cell_type": "markdown",
   "id": "e2f6c33f",
   "metadata": {},
   "source": [
    "Um objeti que irá retornar um iterator quando a função iter() for chamado"
   ]
  },
  {
   "cell_type": "code",
   "execution_count": 3,
   "id": "1d50e757",
   "metadata": {},
   "outputs": [],
   "source": [
    "#Iterable\n",
    "\n",
    "nome = 'Italo' # É um iterable, mas não é um iterator\n",
    "lista = [1,2,3,4,5,6] # É um iterable, mas não é um iterator"
   ]
  },
  {
   "cell_type": "code",
   "execution_count": 4,
   "id": "9a15b683",
   "metadata": {},
   "outputs": [
    {
     "name": "stdout",
     "output_type": "stream",
     "text": [
      "Italo\n",
      "[1, 2, 3, 4, 5, 6]\n"
     ]
    }
   ],
   "source": [
    "print(nome)\n",
    "print(lista)"
   ]
  },
  {
   "cell_type": "code",
   "execution_count": 5,
   "id": "2effa7c0",
   "metadata": {},
   "outputs": [
    {
     "ename": "TypeError",
     "evalue": "'str' object is not an iterator",
     "output_type": "error",
     "traceback": [
      "\u001b[1;31m---------------------------------------------------------------------------\u001b[0m",
      "\u001b[1;31mTypeError\u001b[0m                                 Traceback (most recent call last)",
      "\u001b[1;32m~\\AppData\\Local\\Temp\\ipykernel_4900\\852470427.py\u001b[0m in \u001b[0;36m<module>\u001b[1;34m\u001b[0m\n\u001b[1;32m----> 1\u001b[1;33m \u001b[0mprint\u001b[0m\u001b[1;33m(\u001b[0m\u001b[0mnext\u001b[0m\u001b[1;33m(\u001b[0m\u001b[0mnome\u001b[0m\u001b[1;33m)\u001b[0m\u001b[1;33m)\u001b[0m\u001b[1;33m\u001b[0m\u001b[1;33m\u001b[0m\u001b[0m\n\u001b[0m",
      "\u001b[1;31mTypeError\u001b[0m: 'str' object is not an iterator"
     ]
    }
   ],
   "source": [
    " print(next(nome)) #'str' object is not an iterator"
   ]
  },
  {
   "cell_type": "code",
   "execution_count": 11,
   "id": "97c79bb4",
   "metadata": {},
   "outputs": [],
   "source": [
    "it1 = iter(nome) #Convertendo para iterator\n",
    "it2 = iter(lista)#Convertendo para iterator"
   ]
  },
  {
   "cell_type": "code",
   "execution_count": 13,
   "id": "ca3454bf",
   "metadata": {},
   "outputs": [
    {
     "name": "stdout",
     "output_type": "stream",
     "text": [
      "Em nomes - t\n",
      "Em números - 2\n",
      "Em nomes - a\n",
      "Em números - 3\n",
      "Em nomes - l\n",
      "Em números - 4\n",
      "Em nomes - o\n",
      "Em números - 5\n"
     ]
    }
   ],
   "source": [
    "print(f'Em nomes - {next(it1)}')\n",
    "print(f'Em números - {next(it2)}')\n",
    "print(f'Em nomes - {next(it1)}')\n",
    "print(f'Em números - {next(it2)}')\n",
    "print(f'Em nomes - {next(it1)}')\n",
    "print(f'Em números - {next(it2)}')\n",
    "print(f'Em nomes - {next(it1)}')\n",
    "print(f'Em números - {next(it2)}')"
   ]
  },
  {
   "cell_type": "markdown",
   "id": "1ddbd252",
   "metadata": {},
   "source": [
    "# Criando sua propria versão de loop"
   ]
  },
  {
   "cell_type": "markdown",
   "id": "bde456ef",
   "metadata": {},
   "source": [
    "Em Python, você pode criar sua própria versão de loop usando a estrutura while. O loop while é uma estrutura de controle de fluxo que executa um bloco de código repetidamente enquanto a condição de teste for verdadeira. Você pode personalizar o loop while para se adequar às suas necessidades e criar sua própria versão de loop personalizada. Aqui está um exemplo simples de como você pode criar sua própria versão de loop em Python:"
   ]
  },
  {
   "cell_type": "code",
   "execution_count": null,
   "id": "1e00a024",
   "metadata": {},
   "outputs": [],
   "source": [
    "def meu_loop(condicao, acao):\n",
    "    while condicao:\n",
    "        acao()"
   ]
  },
  {
   "cell_type": "markdown",
   "id": "9a3c800b",
   "metadata": {},
   "source": [
    "Nesse exemplo, a função \"meu_loop\" tem dois parâmetros: \"condicao\" e \"acao\". A condição é uma expressão booleana que define a condição de teste para o loop, enquanto \"acao\" é uma função que é executada em cada iteração do loop.\n",
    "\n",
    "Aqui está um exemplo de como você pode usar a função \"meu_loop\" para imprimir os números de 1 a 5:"
   ]
  },
  {
   "cell_type": "code",
   "execution_count": null,
   "id": "4ee5734a",
   "metadata": {},
   "outputs": [],
   "source": [
    "def imprime_numero():\n",
    "    print(numero)\n",
    "\n",
    "numero = 1\n",
    "meu_loop(numero <= 5, imprime_numero)"
   ]
  },
  {
   "cell_type": "markdown",
   "id": "722c61d2",
   "metadata": {},
   "source": [
    "Nesse exemplo, a função \"imprime_numero\" simplesmente imprime o valor da variável \"numero\". A variável \"numero\" é inicializada como 1 e passada como argumento para a função \"meu_loop\". A condição de teste é que \"numero\" seja menor ou igual a 5, e a ação é chamar a função \"imprime_numero\" em cada iteração do loop.\n",
    "\n",
    "Isso criará um loop personalizado que imprimirá os números de 1 a 5. Você pode personalizar ainda mais essa função \"meu_loop\" adicionando parâmetros adicionais para controlar o incremento ou decremento da variável de iteração ou a condição de término do loop."
   ]
  },
  {
   "cell_type": "code",
   "execution_count": 17,
   "id": "a30f835d",
   "metadata": {},
   "outputs": [
    {
     "name": "stdout",
     "output_type": "stream",
     "text": [
      "E - U -   - A - M - O -   - P - Y - T - H - O - N - "
     ]
    }
   ],
   "source": [
    "for i in 'EU AMO PYTHON':\n",
    "    print(i, end=' - ')"
   ]
  },
  {
   "cell_type": "code",
   "execution_count": null,
   "id": "1685a67d",
   "metadata": {},
   "outputs": [],
   "source": [
    "iter('EU AMO PYTHON') # A partir desse momento o objeto se torna um iterável"
   ]
  },
  {
   "cell_type": "code",
   "execution_count": 25,
   "id": "1e63b271",
   "metadata": {},
   "outputs": [],
   "source": [
    "def meu_for(iteravel):\n",
    "    it = iter(iteravel)\n",
    "    while True:\n",
    "        try:\n",
    "            print(next(it), end=' - ')\n",
    "        except StopIteration:\n",
    "            break"
   ]
  },
  {
   "cell_type": "code",
   "execution_count": 26,
   "id": "cae38ffc",
   "metadata": {},
   "outputs": [
    {
     "name": "stdout",
     "output_type": "stream",
     "text": [
      "E - U -   - A - M - O -   - P - Y - T - H - O - N - "
     ]
    }
   ],
   "source": [
    "meu_for('EU AMO PYTHON')"
   ]
  },
  {
   "cell_type": "code",
   "execution_count": 27,
   "id": "b1875d26",
   "metadata": {},
   "outputs": [],
   "source": [
    "numeros = [1,2,3,4,5,6,7,8,9,10]"
   ]
  },
  {
   "cell_type": "code",
   "execution_count": 28,
   "id": "189add06",
   "metadata": {},
   "outputs": [
    {
     "name": "stdout",
     "output_type": "stream",
     "text": [
      "1 - 2 - 3 - 4 - 5 - 6 - 7 - 8 - 9 - 10 - "
     ]
    }
   ],
   "source": [
    "meu_for(numeros)"
   ]
  },
  {
   "cell_type": "code",
   "execution_count": 31,
   "id": "283f06db",
   "metadata": {},
   "outputs": [],
   "source": [
    "numero = [int(x ** 2) / 2 for x in range(1000) if x % 2 == 0]"
   ]
  },
  {
   "cell_type": "code",
   "execution_count": 32,
   "id": "3f0c7545",
   "metadata": {},
   "outputs": [
    {
     "name": "stdout",
     "output_type": "stream",
     "text": [
      "[0.0, 2.0, 8.0, 18.0, 32.0, 50.0, 72.0, 98.0, 128.0, 162.0, 200.0, 242.0, 288.0, 338.0, 392.0, 450.0, 512.0, 578.0, 648.0, 722.0, 800.0, 882.0, 968.0, 1058.0, 1152.0, 1250.0, 1352.0, 1458.0, 1568.0, 1682.0, 1800.0, 1922.0, 2048.0, 2178.0, 2312.0, 2450.0, 2592.0, 2738.0, 2888.0, 3042.0, 3200.0, 3362.0, 3528.0, 3698.0, 3872.0, 4050.0, 4232.0, 4418.0, 4608.0, 4802.0, 5000.0, 5202.0, 5408.0, 5618.0, 5832.0, 6050.0, 6272.0, 6498.0, 6728.0, 6962.0, 7200.0, 7442.0, 7688.0, 7938.0, 8192.0, 8450.0, 8712.0, 8978.0, 9248.0, 9522.0, 9800.0, 10082.0, 10368.0, 10658.0, 10952.0, 11250.0, 11552.0, 11858.0, 12168.0, 12482.0, 12800.0, 13122.0, 13448.0, 13778.0, 14112.0, 14450.0, 14792.0, 15138.0, 15488.0, 15842.0, 16200.0, 16562.0, 16928.0, 17298.0, 17672.0, 18050.0, 18432.0, 18818.0, 19208.0, 19602.0, 20000.0, 20402.0, 20808.0, 21218.0, 21632.0, 22050.0, 22472.0, 22898.0, 23328.0, 23762.0, 24200.0, 24642.0, 25088.0, 25538.0, 25992.0, 26450.0, 26912.0, 27378.0, 27848.0, 28322.0, 28800.0, 29282.0, 29768.0, 30258.0, 30752.0, 31250.0, 31752.0, 32258.0, 32768.0, 33282.0, 33800.0, 34322.0, 34848.0, 35378.0, 35912.0, 36450.0, 36992.0, 37538.0, 38088.0, 38642.0, 39200.0, 39762.0, 40328.0, 40898.0, 41472.0, 42050.0, 42632.0, 43218.0, 43808.0, 44402.0, 45000.0, 45602.0, 46208.0, 46818.0, 47432.0, 48050.0, 48672.0, 49298.0, 49928.0, 50562.0, 51200.0, 51842.0, 52488.0, 53138.0, 53792.0, 54450.0, 55112.0, 55778.0, 56448.0, 57122.0, 57800.0, 58482.0, 59168.0, 59858.0, 60552.0, 61250.0, 61952.0, 62658.0, 63368.0, 64082.0, 64800.0, 65522.0, 66248.0, 66978.0, 67712.0, 68450.0, 69192.0, 69938.0, 70688.0, 71442.0, 72200.0, 72962.0, 73728.0, 74498.0, 75272.0, 76050.0, 76832.0, 77618.0, 78408.0, 79202.0, 80000.0, 80802.0, 81608.0, 82418.0, 83232.0, 84050.0, 84872.0, 85698.0, 86528.0, 87362.0, 88200.0, 89042.0, 89888.0, 90738.0, 91592.0, 92450.0, 93312.0, 94178.0, 95048.0, 95922.0, 96800.0, 97682.0, 98568.0, 99458.0, 100352.0, 101250.0, 102152.0, 103058.0, 103968.0, 104882.0, 105800.0, 106722.0, 107648.0, 108578.0, 109512.0, 110450.0, 111392.0, 112338.0, 113288.0, 114242.0, 115200.0, 116162.0, 117128.0, 118098.0, 119072.0, 120050.0, 121032.0, 122018.0, 123008.0, 124002.0, 125000.0, 126002.0, 127008.0, 128018.0, 129032.0, 130050.0, 131072.0, 132098.0, 133128.0, 134162.0, 135200.0, 136242.0, 137288.0, 138338.0, 139392.0, 140450.0, 141512.0, 142578.0, 143648.0, 144722.0, 145800.0, 146882.0, 147968.0, 149058.0, 150152.0, 151250.0, 152352.0, 153458.0, 154568.0, 155682.0, 156800.0, 157922.0, 159048.0, 160178.0, 161312.0, 162450.0, 163592.0, 164738.0, 165888.0, 167042.0, 168200.0, 169362.0, 170528.0, 171698.0, 172872.0, 174050.0, 175232.0, 176418.0, 177608.0, 178802.0, 180000.0, 181202.0, 182408.0, 183618.0, 184832.0, 186050.0, 187272.0, 188498.0, 189728.0, 190962.0, 192200.0, 193442.0, 194688.0, 195938.0, 197192.0, 198450.0, 199712.0, 200978.0, 202248.0, 203522.0, 204800.0, 206082.0, 207368.0, 208658.0, 209952.0, 211250.0, 212552.0, 213858.0, 215168.0, 216482.0, 217800.0, 219122.0, 220448.0, 221778.0, 223112.0, 224450.0, 225792.0, 227138.0, 228488.0, 229842.0, 231200.0, 232562.0, 233928.0, 235298.0, 236672.0, 238050.0, 239432.0, 240818.0, 242208.0, 243602.0, 245000.0, 246402.0, 247808.0, 249218.0, 250632.0, 252050.0, 253472.0, 254898.0, 256328.0, 257762.0, 259200.0, 260642.0, 262088.0, 263538.0, 264992.0, 266450.0, 267912.0, 269378.0, 270848.0, 272322.0, 273800.0, 275282.0, 276768.0, 278258.0, 279752.0, 281250.0, 282752.0, 284258.0, 285768.0, 287282.0, 288800.0, 290322.0, 291848.0, 293378.0, 294912.0, 296450.0, 297992.0, 299538.0, 301088.0, 302642.0, 304200.0, 305762.0, 307328.0, 308898.0, 310472.0, 312050.0, 313632.0, 315218.0, 316808.0, 318402.0, 320000.0, 321602.0, 323208.0, 324818.0, 326432.0, 328050.0, 329672.0, 331298.0, 332928.0, 334562.0, 336200.0, 337842.0, 339488.0, 341138.0, 342792.0, 344450.0, 346112.0, 347778.0, 349448.0, 351122.0, 352800.0, 354482.0, 356168.0, 357858.0, 359552.0, 361250.0, 362952.0, 364658.0, 366368.0, 368082.0, 369800.0, 371522.0, 373248.0, 374978.0, 376712.0, 378450.0, 380192.0, 381938.0, 383688.0, 385442.0, 387200.0, 388962.0, 390728.0, 392498.0, 394272.0, 396050.0, 397832.0, 399618.0, 401408.0, 403202.0, 405000.0, 406802.0, 408608.0, 410418.0, 412232.0, 414050.0, 415872.0, 417698.0, 419528.0, 421362.0, 423200.0, 425042.0, 426888.0, 428738.0, 430592.0, 432450.0, 434312.0, 436178.0, 438048.0, 439922.0, 441800.0, 443682.0, 445568.0, 447458.0, 449352.0, 451250.0, 453152.0, 455058.0, 456968.0, 458882.0, 460800.0, 462722.0, 464648.0, 466578.0, 468512.0, 470450.0, 472392.0, 474338.0, 476288.0, 478242.0, 480200.0, 482162.0, 484128.0, 486098.0, 488072.0, 490050.0, 492032.0, 494018.0, 496008.0, 498002.0]\n"
     ]
    }
   ],
   "source": [
    "print(numero)"
   ]
  },
  {
   "cell_type": "markdown",
   "id": "f12842b1",
   "metadata": {},
   "source": [
    "# Escrevendo Iteradores customizados"
   ]
  },
  {
   "cell_type": "code",
   "execution_count": 34,
   "id": "0e9541b9",
   "metadata": {},
   "outputs": [
    {
     "name": "stdout",
     "output_type": "stream",
     "text": [
      "5\n",
      "6\n",
      "7\n",
      "8\n",
      "9\n",
      "10\n"
     ]
    }
   ],
   "source": [
    "for i in range(5, 11):\n",
    "    print(i)"
   ]
  },
  {
   "cell_type": "code",
   "execution_count": null,
   "id": "3ff16b6e",
   "metadata": {},
   "outputs": [],
   "source": [
    "# Entender os conceitos de iterators"
   ]
  },
  {
   "cell_type": "code",
   "execution_count": 36,
   "id": "45c0d595",
   "metadata": {},
   "outputs": [],
   "source": [
    "class Contador:\n",
    "    def __init__(self, menor, maior):\n",
    "        self.menor = menor\n",
    "        self.maior = maior"
   ]
  },
  {
   "cell_type": "code",
   "execution_count": null,
   "id": "cafd4229",
   "metadata": {},
   "outputs": [],
   "source": [
    "# Funções dentro de uma classe são chamadas de metódos"
   ]
  },
  {
   "cell_type": "code",
   "execution_count": null,
   "id": "955d331e",
   "metadata": {},
   "outputs": [],
   "source": [
    "# Sempre que criar uma função(metódo) dentro de uma classe, o primeiro parâmetro é self que representa o proprio objeto"
   ]
  },
  {
   "cell_type": "code",
   "execution_count": 37,
   "id": "3efa8001",
   "metadata": {},
   "outputs": [],
   "source": [
    "con = Contador(1,100)"
   ]
  },
  {
   "cell_type": "code",
   "execution_count": 38,
   "id": "53c73b30",
   "metadata": {},
   "outputs": [
    {
     "name": "stdout",
     "output_type": "stream",
     "text": [
      "<__main__.Contador object at 0x0000022EDC92CCA0>\n"
     ]
    }
   ],
   "source": [
    "print(con)"
   ]
  },
  {
   "cell_type": "code",
   "execution_count": 39,
   "id": "c090fdd6",
   "metadata": {},
   "outputs": [
    {
     "name": "stdout",
     "output_type": "stream",
     "text": [
      "1\n",
      "100\n"
     ]
    }
   ],
   "source": [
    "print(con.menor)\n",
    "print(con.maior)"
   ]
  },
  {
   "cell_type": "code",
   "execution_count": 40,
   "id": "307eac26",
   "metadata": {},
   "outputs": [
    {
     "ename": "TypeError",
     "evalue": "'Contador' object is not iterable",
     "output_type": "error",
     "traceback": [
      "\u001b[1;31m---------------------------------------------------------------------------\u001b[0m",
      "\u001b[1;31mTypeError\u001b[0m                                 Traceback (most recent call last)",
      "\u001b[1;32m~\\AppData\\Local\\Temp\\ipykernel_4900\\1600110410.py\u001b[0m in \u001b[0;36m<module>\u001b[1;34m\u001b[0m\n\u001b[1;32m----> 1\u001b[1;33m \u001b[0mit\u001b[0m \u001b[1;33m=\u001b[0m \u001b[0miter\u001b[0m\u001b[1;33m(\u001b[0m\u001b[0mcon\u001b[0m\u001b[1;33m)\u001b[0m\u001b[1;33m\u001b[0m\u001b[1;33m\u001b[0m\u001b[0m\n\u001b[0m\u001b[0;32m      2\u001b[0m \u001b[0mprint\u001b[0m\u001b[1;33m(\u001b[0m\u001b[0mnext\u001b[0m\u001b[1;33m(\u001b[0m\u001b[0mit\u001b[0m\u001b[1;33m)\u001b[0m\u001b[1;33m)\u001b[0m\u001b[1;33m\u001b[0m\u001b[1;33m\u001b[0m\u001b[0m\n",
      "\u001b[1;31mTypeError\u001b[0m: 'Contador' object is not iterable"
     ]
    }
   ],
   "source": [
    "it = iter(con)\n",
    "print(next(it)) #Contador' object is not iterable"
   ]
  },
  {
   "cell_type": "code",
   "execution_count": 44,
   "id": "553f9bae",
   "metadata": {},
   "outputs": [],
   "source": [
    "class Contador:\n",
    "    def __init__(self, menor, maior):\n",
    "        self.menor = menor\n",
    "        self.maior = maior\n",
    "        \n",
    "    def __iter__(self):\n",
    "        return self\n",
    "    \n",
    "    def __next__(self):\n",
    "        if self.menor < self.maior:\n",
    "            numero = self.menor\n",
    "            self.menor = self.menor + 1\n",
    "            return numero\n",
    "        raise StopIteration"
   ]
  },
  {
   "cell_type": "code",
   "execution_count": 45,
   "id": "b57440aa",
   "metadata": {},
   "outputs": [],
   "source": [
    "con = Contador(1,100)"
   ]
  },
  {
   "cell_type": "code",
   "execution_count": 46,
   "id": "7ebf20f7",
   "metadata": {},
   "outputs": [
    {
     "name": "stdout",
     "output_type": "stream",
     "text": [
      "1\n"
     ]
    }
   ],
   "source": [
    "it = iter(con)\n",
    "print(next(it)) #Contador' object is not iterable"
   ]
  },
  {
   "cell_type": "code",
   "execution_count": null,
   "id": "7d93bb1c",
   "metadata": {},
   "outputs": [],
   "source": [
    "# Todo iterabel precisa ter um next()"
   ]
  },
  {
   "cell_type": "code",
   "execution_count": 47,
   "id": "306533e9",
   "metadata": {},
   "outputs": [
    {
     "name": "stdout",
     "output_type": "stream",
     "text": [
      "2\n",
      "3\n",
      "4\n",
      "5\n",
      "6\n",
      "7\n"
     ]
    }
   ],
   "source": [
    "print(next(it))\n",
    "print(next(it))\n",
    "print(next(it))\n",
    "print(next(it))\n",
    "print(next(it))\n",
    "print(next(it))"
   ]
  },
  {
   "cell_type": "code",
   "execution_count": 50,
   "id": "e9696df1",
   "metadata": {},
   "outputs": [
    {
     "name": "stdout",
     "output_type": "stream",
     "text": [
      "1\n",
      "2\n",
      "3\n",
      "4\n",
      "5\n",
      "6\n",
      "7\n",
      "8\n",
      "9\n"
     ]
    }
   ],
   "source": [
    "for i in Contador(1,10):\n",
    "    print(i)"
   ]
  },
  {
   "cell_type": "code",
   "execution_count": null,
   "id": "ac70b068",
   "metadata": {},
   "outputs": [],
   "source": [
    "# Para criar um iterador costumizado basta ter um iter e next dentro de uma classe"
   ]
  }
 ],
 "metadata": {
  "kernelspec": {
   "display_name": "Python 3 (ipykernel)",
   "language": "python",
   "name": "python3"
  },
  "language_info": {
   "codemirror_mode": {
    "name": "ipython",
    "version": 3
   },
   "file_extension": ".py",
   "mimetype": "text/x-python",
   "name": "python",
   "nbconvert_exporter": "python",
   "pygments_lexer": "ipython3",
   "version": "3.9.13"
  }
 },
 "nbformat": 4,
 "nbformat_minor": 5
}
