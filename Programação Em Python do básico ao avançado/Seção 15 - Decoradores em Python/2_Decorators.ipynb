{
 "cells": [
  {
   "cell_type": "markdown",
   "id": "e46c5d25",
   "metadata": {},
   "source": [
    "# Decorators (Decoradores)"
   ]
  },
  {
   "cell_type": "markdown",
   "id": "58dd4b2a",
   "metadata": {},
   "source": [
    "- Decorators são funções;\n",
    "- Decorators envolvem outras funções e aprimoram seus comportamentos\n",
    "- Decorators também são exemplos de Hight Order Functions;\n",
    "- Decorators tem uma sintaxe própria, usando o \"@\" (Syntact Sugar)"
   ]
  },
  {
   "cell_type": "markdown",
   "id": "53b93c5a",
   "metadata": {},
   "source": [
    "Em Python, decoradores são funções que modificam o comportamento de outras funções sem alterá-las diretamente. Os decoradores são usados para adicionar funcionalidades extras a uma função existente sem modificar o código original da função.\n",
    "\n",
    "Os decoradores em Python funcionam de maneira semelhante às funções de ordem superior, que são funções que recebem outras funções como argumentos ou que retornam funções como valores. Um decorador é uma função que recebe outra função como argumento e retorna uma nova função. A nova função é uma versão modificada da função original, com funcionalidades extras adicionadas pelo decorador.\n",
    "\n",
    "Os decoradores são normalmente definidos usando a sintaxe \"@decorator_name\" antes da definição da função que será decorada. O decorator_name é o nome da função que irá decorar a função seguinte. Por exemplo:"
   ]
  },
  {
   "cell_type": "code",
   "execution_count": null,
   "id": "4617d995",
   "metadata": {},
   "outputs": [],
   "source": [
    "@decorator_name\n",
    "def minha_funcao():\n",
    "    # código da função\n"
   ]
  },
  {
   "cell_type": "code",
   "execution_count": null,
   "id": "103567db",
   "metadata": {},
   "outputs": [],
   "source": [
    "# Decorators como funções (Sintaxe não recomendada)"
   ]
  },
  {
   "cell_type": "code",
   "execution_count": 1,
   "id": "98345349",
   "metadata": {},
   "outputs": [],
   "source": [
    "def seja_educado(funcao):\n",
    "    def sendo():\n",
    "        print('Foi um prazer conhecer você.')\n",
    "        funcao()\n",
    "        print('Tenha um ótimo dia!')\n",
    "    return sendo"
   ]
  },
  {
   "cell_type": "code",
   "execution_count": 3,
   "id": "ca271ce7",
   "metadata": {},
   "outputs": [],
   "source": [
    "#Teste 1"
   ]
  },
  {
   "cell_type": "code",
   "execution_count": 4,
   "id": "d9ef84e3",
   "metadata": {},
   "outputs": [
    {
     "name": "stdout",
     "output_type": "stream",
     "text": [
      "Foi um prazer conhecer você.\n",
      "Seja vindo(a) a aula de Python\n",
      "Tenha um ótimo dia!\n"
     ]
    }
   ],
   "source": [
    "teste = seja_educado(saudacao)\n",
    "teste()"
   ]
  },
  {
   "cell_type": "code",
   "execution_count": null,
   "id": "546530e7",
   "metadata": {},
   "outputs": [],
   "source": [
    "# Geralmente uma função decorator recebe outra função como argumento"
   ]
  },
  {
   "cell_type": "code",
   "execution_count": null,
   "id": "a512bae1",
   "metadata": {},
   "outputs": [],
   "source": [
    "#teste2"
   ]
  },
  {
   "cell_type": "code",
   "execution_count": 9,
   "id": "e6a3f012",
   "metadata": {},
   "outputs": [],
   "source": [
    "def saudacao():\n",
    "    print('Seja vindo(a) a aula de Python')\n",
    "    \n",
    "def saudacao1():\n",
    "    print('Essa é a aula de Python')\n",
    "    \n",
    "def saudacao2():\n",
    "    print('Aproveite!')\n",
    "    \n",
    "def saudacao3():\n",
    "    print('Saia da minha frente')"
   ]
  },
  {
   "cell_type": "code",
   "execution_count": 18,
   "id": "f7e210a6",
   "metadata": {},
   "outputs": [
    {
     "name": "stdout",
     "output_type": "stream",
     "text": [
      "Foi um prazer conhecer você.\n",
      "Essa é a aula de Python\n",
      "Tenha um ótimo dia!\n"
     ]
    }
   ],
   "source": [
    "teste = seja_educado(saudacao1)\n",
    "teste()"
   ]
  },
  {
   "cell_type": "code",
   "execution_count": null,
   "id": "e72aedd5",
   "metadata": {},
   "outputs": [],
   "source": [
    "#Decorators com Syntaxe Sugar"
   ]
  },
  {
   "cell_type": "code",
   "execution_count": 28,
   "id": "fe3e7e9f",
   "metadata": {},
   "outputs": [],
   "source": [
    "def seja_educado(funcao):\n",
    "    def educado():\n",
    "        print('Foi um prazer conhecer você')\n",
    "        funcao()\n",
    "        print('Tenha um ótimo dia')\n",
    "    return educado"
   ]
  },
  {
   "cell_type": "code",
   "execution_count": 29,
   "id": "6edb9134",
   "metadata": {},
   "outputs": [],
   "source": [
    "@seja_educado\n",
    "def apresentando():\n",
    "    print('Meu nome é Italo')"
   ]
  },
  {
   "cell_type": "code",
   "execution_count": 31,
   "id": "f591113c",
   "metadata": {
    "scrolled": true
   },
   "outputs": [
    {
     "name": "stdout",
     "output_type": "stream",
     "text": [
      "Foi um prazer conhecer você\n",
      "Meu nome é Italo\n",
      "Tenha um ótimo dia\n"
     ]
    }
   ],
   "source": [
    "apresentando()"
   ]
  },
  {
   "cell_type": "code",
   "execution_count": 34,
   "id": "32dcd232",
   "metadata": {},
   "outputs": [],
   "source": [
    "@seja_educado\n",
    "def humor():\n",
    "    humor = choice(['Vai cagar', 'Aproveite', 'Seja bem vindo', 'Não te perguntei nada', 'Estou muito feliz'])\n",
    "    print(humor)"
   ]
  },
  {
   "cell_type": "code",
   "execution_count": 35,
   "id": "55552e2a",
   "metadata": {},
   "outputs": [
    {
     "name": "stdout",
     "output_type": "stream",
     "text": [
      "Foi um prazer conhecer você\n",
      "Estou muito feliz\n",
      "Tenha um ótimo dia\n"
     ]
    }
   ],
   "source": [
    "humor()"
   ]
  },
  {
   "cell_type": "code",
   "execution_count": 36,
   "id": "ebe578e7",
   "metadata": {},
   "outputs": [],
   "source": [
    "@seja_educado\n",
    "def dormir():\n",
    "    print('quero dormir')"
   ]
  },
  {
   "cell_type": "code",
   "execution_count": 37,
   "id": "cb8f584c",
   "metadata": {},
   "outputs": [
    {
     "name": "stdout",
     "output_type": "stream",
     "text": [
      "Foi um prazer conhecer você\n",
      "quero dormir\n",
      "Tenha um ótimo dia\n"
     ]
    }
   ],
   "source": [
    "dormir()"
   ]
  },
  {
   "cell_type": "code",
   "execution_count": 39,
   "id": "b054b7cd",
   "metadata": {},
   "outputs": [
    {
     "name": "stdout",
     "output_type": "stream",
     "text": [
      "--------------------------------------------------\n"
     ]
    }
   ],
   "source": [
    "print(\"-\"*50)"
   ]
  },
  {
   "cell_type": "markdown",
   "id": "9984d3f8",
   "metadata": {},
   "source": [
    "|---------------------------------------------------------|\n",
    "|     HOME     | Serviços   |  Produtos   | Administrativo|\n",
    "|---------------------------------------------------------|\n",
    "\n",
    "http://seusite.com.br/home\n",
    "\n",
    "http://seusite.com.br/servicos\n",
    "\n",
    "http://seusite.com.br/produtos\n",
    "\n",
    "http://seusite.com.br/admin\n",
    "\n",
    "\n",
    "\n",
    "def checa_login():\n",
    "    if not request.usuario:\n",
    "        redirect('http://seusite.com.br')\n",
    "        \n",
    " def home(request):\n",
    "     return 'Pode acessar home'\n",
    "     \n",
    " def servicos(request):\n",
    "     return 'Pode acessar Serviços'\n",
    "     \n",
    " def produtos(request):\n",
    "     return 'Pode acessar Produtos'\n",
    "     \n",
    " @checa_login\n",
    " def admin(request):\n",
    "     return 'Pode acessar admin'"
   ]
  },
  {
   "cell_type": "markdown",
   "id": "73c622df",
   "metadata": {},
   "source": [
    "Não confunda decorator com decorator function"
   ]
  },
  {
   "cell_type": "code",
   "execution_count": null,
   "id": "bbcb5872",
   "metadata": {},
   "outputs": [],
   "source": [
    "def memoize(funcao):\n",
    "    funcao(x, y)"
   ]
  }
 ],
 "metadata": {
  "kernelspec": {
   "display_name": "Python 3 (ipykernel)",
   "language": "python",
   "name": "python3"
  },
  "language_info": {
   "codemirror_mode": {
    "name": "ipython",
    "version": 3
   },
   "file_extension": ".py",
   "mimetype": "text/x-python",
   "name": "python",
   "nbconvert_exporter": "python",
   "pygments_lexer": "ipython3",
   "version": "3.9.13"
  }
 },
 "nbformat": 4,
 "nbformat_minor": 5
}
