{
 "cells": [
  {
   "cell_type": "markdown",
   "id": "8ed52f82",
   "metadata": {},
   "source": [
    "# Pickle no Python: Serialização e Desserialização de Objetos"
   ]
  },
  {
   "cell_type": "markdown",
   "id": "f03f8991",
   "metadata": {},
   "source": [
    "O pickle é um módulo nativo do Python responsável pela serialização e desserialização de objetos. Em termos simples, o pickle permite que você salve o estado de um objeto Python em um arquivo ou em memória e, posteriormente, restaure esse estado a partir do arquivo ou da memória. É como \"tirar uma foto\" do seu objeto e poder ressuscitá-lo depois.\n",
    "\n",
    "### Serialização:\n",
    "\n",
    "O pickle converte a estrutura interna de um objeto Python em uma representação byte-a-byte. Essa representação pode ser armazenada em um arquivo, transmitida pela rede ou mesmo copiada em memória.\n",
    "Vários tipos de objetos Python podem ser serializados, incluindo:\n",
    "Dados básicos (números, strings, listas, dicionários)\n",
    "Classes e instâncias de classe definidas pelo usuário\n",
    "Funções e módulos\n",
    "\n",
    "### Desserialização:\n",
    "\n",
    "O pickle lê a representação byte-a-byte e a reconstrói o objeto original do Python.\n",
    "Essa desserialização permite que você recupere o estado completo do objeto, incluindo seus atributos, métodos e relações com outros objetos.\n",
    "\n",
    "### Vantagens do pickle:\n",
    "\n",
    "- Conveniência:\n",
    "Salva e restaura o estado de objetos complexos com facilidade.\n",
    "Eficiência: Reduz o tempo de execução evitando a necessidade de recriar o objeto do zero.\n",
    "Portabilidade: Permite mover objetos entre diferentes máquinas e sistemas operacionais.\n",
    "\n",
    "### Desvantagens do pickle:\n",
    "\n",
    "- Segurança:\n",
    "O pickle pode serializar código arbitrário, o que pode levar a vulnerabilidades de segurança. É preciso ter cuidado ao abrir arquivos pickle criados por fontes desconhecidas.\n",
    "\n",
    "- Dependência de versão:\n",
    "Se a estrutura interna de uma classe muda entre as versões do Python, a desserialização pode falhar.\n",
    "Legibilidade: Os arquivos pickle não são facilmente legíveis por humanos.\n",
    "\n",
    "### Aplicações do pickle:\n",
    "\n",
    "Cache de objetos: Salvar o estado de um objeto para evitar seu cálculo repetido.\n",
    "Persistência de dados: Armazenar o estado de um programa entre execuções.\n",
    "Comunicação entre processos: Passar dados complexos entre diferentes processos do Python."
   ]
  },
  {
   "cell_type": "code",
   "execution_count": null,
   "id": "fc83bcfe",
   "metadata": {},
   "outputs": [],
   "source": [
    "# Objeto Python -> Binarização\n",
    "#Binarização -> Objeto Python"
   ]
  },
  {
   "cell_type": "markdown",
   "id": "01df331b",
   "metadata": {},
   "source": [
    "### O módulo Pickle não é seguro contra dados maliciosos e desta forma não é recomendado trabalhar com arquivos pickle vindo de outras pessoas que você não conheça ou que venha de fontes desconhecidas"
   ]
  },
  {
   "cell_type": "code",
   "execution_count": 1,
   "id": "afa10d5a",
   "metadata": {},
   "outputs": [],
   "source": [
    "import pickle"
   ]
  },
  {
   "cell_type": "code",
   "execution_count": 4,
   "id": "8f041d0e",
   "metadata": {},
   "outputs": [],
   "source": [
    "class Animal:\n",
    "    def __init__(self, nome):\n",
    "        self._nome = nome\n",
    "    \n",
    "    def comer(self):\n",
    "        print(f'{self._nome} está comendo')"
   ]
  },
  {
   "cell_type": "code",
   "execution_count": 5,
   "id": "816a3e54",
   "metadata": {},
   "outputs": [],
   "source": [
    "class Rato(Animal):\n",
    "    def __init__(self, nome):\n",
    "        super().__init__(nome)\n",
    "        \n",
    "    def barulho(self):\n",
    "        print(f'{self._nome} está falando')"
   ]
  },
  {
   "cell_type": "code",
   "execution_count": 6,
   "id": "164d425f",
   "metadata": {},
   "outputs": [],
   "source": [
    "class Cachorro(Animal):\n",
    "    def __init__(self, nome):\n",
    "        super().__init__(nome)\n",
    "        \n",
    "    def latir(self):\n",
    "        print(f'{self._nome} está latindo')"
   ]
  },
  {
   "cell_type": "code",
   "execution_count": 7,
   "id": "8a78c795",
   "metadata": {},
   "outputs": [],
   "source": [
    "micke = Rato('Michel')"
   ]
  },
  {
   "cell_type": "code",
   "execution_count": 8,
   "id": "8c23abd2",
   "metadata": {},
   "outputs": [
    {
     "name": "stdout",
     "output_type": "stream",
     "text": [
      "Michel está falando\n"
     ]
    }
   ],
   "source": [
    "micke.barulho()"
   ]
  },
  {
   "cell_type": "code",
   "execution_count": 10,
   "id": "43f5868f",
   "metadata": {},
   "outputs": [],
   "source": [
    "felix = Cachorro('Felix')"
   ]
  },
  {
   "cell_type": "code",
   "execution_count": 11,
   "id": "3921bbd9",
   "metadata": {},
   "outputs": [
    {
     "name": "stdout",
     "output_type": "stream",
     "text": [
      "Felix está latindo\n"
     ]
    }
   ],
   "source": [
    "felix.latir()"
   ]
  },
  {
   "cell_type": "code",
   "execution_count": null,
   "id": "b940265c",
   "metadata": {},
   "outputs": [],
   "source": [
    "# Fazendo a escrita em arquivos Pickles"
   ]
  },
  {
   "cell_type": "code",
   "execution_count": 13,
   "id": "6aaedc22",
   "metadata": {},
   "outputs": [],
   "source": [
    "with open('file/arquivo_pickle.csv', 'wb') as df:\n",
    "    pickle.dump((micke, felix), df)"
   ]
  },
  {
   "cell_type": "code",
   "execution_count": null,
   "id": "5a72714d",
   "metadata": {},
   "outputs": [],
   "source": [
    "# Fazendo a leitura em arquivos Pickles"
   ]
  },
  {
   "cell_type": "code",
   "execution_count": 19,
   "id": "2adbcd31",
   "metadata": {},
   "outputs": [
    {
     "name": "stdout",
     "output_type": "stream",
     "text": [
      "O rato se chama Michel\n",
      "O cachorro se chama Felix\n"
     ]
    }
   ],
   "source": [
    "with open('file/arquivo_pickle.csv', 'rb') as df:\n",
    "    rato, cachorro = pickle.load(df)\n",
    "    print(f'O rato se chama {rato._nome}')\n",
    "    print(f'O cachorro se chama {cachorro._nome}')"
   ]
  },
  {
   "cell_type": "code",
   "execution_count": null,
   "id": "ffe3440f",
   "metadata": {},
   "outputs": [],
   "source": []
  }
 ],
 "metadata": {
  "kernelspec": {
   "display_name": "Python 3 (ipykernel)",
   "language": "python",
   "name": "python3"
  },
  "language_info": {
   "codemirror_mode": {
    "name": "ipython",
    "version": 3
   },
   "file_extension": ".py",
   "mimetype": "text/x-python",
   "name": "python",
   "nbconvert_exporter": "python",
   "pygments_lexer": "ipython3",
   "version": "3.10.9"
  }
 },
 "nbformat": 4,
 "nbformat_minor": 5
}
